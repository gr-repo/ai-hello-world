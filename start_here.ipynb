{
 "cells": [
  {
   "cell_type": "markdown",
   "id": "0a2d193b",
   "metadata": {},
   "source": [
    "# Setup package referencing via TOML"
   ]
  },
  {
   "cell_type": "code",
   "execution_count": null,
   "id": "ae878521",
   "metadata": {},
   "outputs": [],
   "source": [
    "!pip install -e ."
   ]
  },
  {
   "cell_type": "markdown",
   "id": "c765a4ac",
   "metadata": {},
   "source": [
    "# Test if you can get settings from env"
   ]
  },
  {
   "cell_type": "code",
   "execution_count": null,
   "id": "1730b062",
   "metadata": {},
   "outputs": [],
   "source": [
    "from common import MySettings\n",
    "\n",
    "settings = MySettings().get()\n",
    "\n",
    "print()\n",
    "print('If the below works then your settings were set')\n",
    "print('First 8 chars of the OPENAI_API_KEY...')\n",
    "print(settings.OPENAI_API_KEY[:8])"
   ]
  }
 ],
 "metadata": {
  "kernelspec": {
   "display_name": "Python 3",
   "language": "python",
   "name": "python3"
  },
  "language_info": {
   "codemirror_mode": {
    "name": "ipython",
    "version": 3
   },
   "file_extension": ".py",
   "mimetype": "text/x-python",
   "name": "python",
   "nbconvert_exporter": "python",
   "pygments_lexer": "ipython3",
   "version": "3.12.1"
  }
 },
 "nbformat": 4,
 "nbformat_minor": 5
}
