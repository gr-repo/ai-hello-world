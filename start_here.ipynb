{
 "cells": [
  {
   "cell_type": "markdown",
   "id": "0a2d193b",
   "metadata": {},
   "source": [
    "# Setup package referencing via TOML"
   ]
  },
  {
   "cell_type": "code",
   "execution_count": 1,
   "id": "ae878521",
   "metadata": {},
   "outputs": [
    {
     "name": "stdout",
     "output_type": "stream",
     "text": [
      "Obtaining file:///workspaces/ai-hello-world\n",
      "  Installing build dependencies ... \u001b[?25ldone\n",
      "\u001b[?25h  Checking if build backend supports build_editable ... \u001b[?25ldone\n",
      "\u001b[?25h  Getting requirements to build editable ... \u001b[?25ldone\n",
      "\u001b[?25h  Preparing editable metadata (pyproject.toml) ... \u001b[?25ldone\n",
      "\u001b[?25hBuilding wheels for collected packages: ai_hello_world\n",
      "  Building editable for ai_hello_world (pyproject.toml) ... \u001b[?25ldone\n",
      "\u001b[?25h  Created wheel for ai_hello_world: filename=ai_hello_world-0.1.0-0.editable-py3-none-any.whl size=2128 sha256=22b046683e7f7289c91c1b92f51520c919f9b940259c034536b662a0b68c8af6\n",
      "  Stored in directory: /tmp/pip-ephem-wheel-cache-vw6me213/wheels/03/1a/f9/608ce3228ab2ecb2b975b45c89def10f210346020d79810d6a\n",
      "Successfully built ai_hello_world\n",
      "Installing collected packages: ai_hello_world\n",
      "  Attempting uninstall: ai_hello_world\n",
      "    Found existing installation: ai_hello_world 0.1.0\n",
      "    Uninstalling ai_hello_world-0.1.0:\n",
      "      Successfully uninstalled ai_hello_world-0.1.0\n",
      "Successfully installed ai_hello_world-0.1.0\n",
      "\n",
      "\u001b[1m[\u001b[0m\u001b[34;49mnotice\u001b[0m\u001b[1;39;49m]\u001b[0m\u001b[39;49m A new release of pip is available: \u001b[0m\u001b[31;49m25.1.1\u001b[0m\u001b[39;49m -> \u001b[0m\u001b[32;49m25.2\u001b[0m\n",
      "\u001b[1m[\u001b[0m\u001b[34;49mnotice\u001b[0m\u001b[1;39;49m]\u001b[0m\u001b[39;49m To update, run: \u001b[0m\u001b[32;49mpython3 -m pip install --upgrade pip\u001b[0m\n"
     ]
    }
   ],
   "source": [
    "!pip install -e ."
   ]
  },
  {
   "cell_type": "markdown",
   "id": "c765a4ac",
   "metadata": {},
   "source": [
    "# Test if you can get settings from env"
   ]
  },
  {
   "cell_type": "code",
   "execution_count": 2,
   "id": "1730b062",
   "metadata": {},
   "outputs": [
    {
     "name": "stdout",
     "output_type": "stream",
     "text": [
      "Getting keys from environment variables\n",
      "\n",
      "If the below works then your settings were set\n",
      "First 8 chars of the OPENAI_API_KEY...\n",
      "sk-proj-\n"
     ]
    }
   ],
   "source": [
    "from common import MySettings\n",
    "\n",
    "settings = MySettings().get()\n",
    "\n",
    "print()\n",
    "print('If the below works then your settings were set')\n",
    "print('First 8 chars of the OPENAI_API_KEY...')\n",
    "print(settings.OPENAI_API_KEY[:8])"
   ]
  }
 ],
 "metadata": {
  "kernelspec": {
   "display_name": "Python 3",
   "language": "python",
   "name": "python3"
  },
  "language_info": {
   "codemirror_mode": {
    "name": "ipython",
    "version": 3
   },
   "file_extension": ".py",
   "mimetype": "text/x-python",
   "name": "python",
   "nbconvert_exporter": "python",
   "pygments_lexer": "ipython3",
   "version": "3.12.1"
  }
 },
 "nbformat": 4,
 "nbformat_minor": 5
}
