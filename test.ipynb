{
 "cells": [
  {
   "cell_type": "markdown",
   "id": "0a2d193b",
   "metadata": {},
   "source": [
    "Run following pip commands from the Terminal\n",
    "```\n",
    "!pip install -e .\n",
    "```"
   ]
  },
  {
   "cell_type": "code",
   "execution_count": 1,
   "id": "1730b062",
   "metadata": {},
   "outputs": [
    {
     "name": "stdout",
     "output_type": "stream",
     "text": [
      "Getting keys from environment variables\n",
      "\n",
      "If the below works then your settings were set\n",
      "First 8 chars of the OPENAI_API_KEY...\n",
      "sk-proj-\n"
     ]
    }
   ],
   "source": [
    "from common import MySettings\n",
    "\n",
    "settings = MySettings().get()\n",
    "\n",
    "print()\n",
    "print('If the below works then your settings were set')\n",
    "print('First 8 chars of the OPENAI_API_KEY...')\n",
    "print(settings.OPENAI_API_KEY[:8])"
   ]
  }
 ],
 "metadata": {
  "kernelspec": {
   "display_name": "Python 3",
   "language": "python",
   "name": "python3"
  },
  "language_info": {
   "codemirror_mode": {
    "name": "ipython",
    "version": 3
   },
   "file_extension": ".py",
   "mimetype": "text/x-python",
   "name": "python",
   "nbconvert_exporter": "python",
   "pygments_lexer": "ipython3",
   "version": "3.12.1"
  }
 },
 "nbformat": 4,
 "nbformat_minor": 5
}
