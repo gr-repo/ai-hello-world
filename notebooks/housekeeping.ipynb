{
 "cells": [
  {
   "cell_type": "markdown",
   "id": "f9c7714c",
   "metadata": {},
   "source": [
    "# Housekeeping\n",
    "This notebook is for misc housekeeping in this repo"
   ]
  },
  {
   "cell_type": "markdown",
   "id": "0f9436d1",
   "metadata": {},
   "source": [
    "# Create Requirements.txt file\n",
    "\n",
    "This will create (or overwrite) a requirements.txt file in your current directory with all installed packages and their versions. You can then edit this file to keep only the packages your project needs."
   ]
  },
  {
   "cell_type": "code",
   "execution_count": 1,
   "id": "4b4b867f",
   "metadata": {},
   "outputs": [
    {
     "name": "stdout",
     "output_type": "stream",
     "text": [
      "Note: you may need to restart the kernel to use updated packages.\n"
     ]
    }
   ],
   "source": [
    "%pip freeze > requirements.txt"
   ]
  },
  {
   "cell_type": "markdown",
   "id": "f8bc28b2",
   "metadata": {},
   "source": [
    "# Setup Deno\n",
    "This is used for executing generated python (i.e., in ProgramOfThought in DSPY)\n",
    "\n",
    "Run this first in terminal:  \n",
    "\n",
    "```sudo apt-get update && sudo apt-get install -y unzip ca-certificates```\n",
    "\n",
    "The run the cell below:"
   ]
  },
  {
   "cell_type": "code",
   "execution_count": null,
   "id": "c67a9a66",
   "metadata": {},
   "outputs": [],
   "source": [
    "import os, pathlib, shutil, subprocess\n",
    "\n",
    "# Point to your Deno install (Codespaces default)\n",
    "deno_bin = str(pathlib.Path.home() / \".deno\" / \"bin\")\n",
    "\n",
    "# Add to PATH for this kernel session\n",
    "os.environ[\"PATH\"] = deno_bin + \":\" + os.environ.get(\"PATH\",\"\")\n",
    "\n",
    "# (Optional) sanity checks\n",
    "print(\"deno path:\", deno_bin)\n",
    "print(\"which deno:\", shutil.which(\"deno\"))\n",
    "subprocess.run([\"deno\",\"--version\"], check=True)\n"
   ]
  }
 ],
 "metadata": {
  "kernelspec": {
   "display_name": "Python 3",
   "language": "python",
   "name": "python3"
  },
  "language_info": {
   "codemirror_mode": {
    "name": "ipython",
    "version": 3
   },
   "file_extension": ".py",
   "mimetype": "text/x-python",
   "name": "python",
   "nbconvert_exporter": "python",
   "pygments_lexer": "ipython3",
   "version": "3.12.1"
  }
 },
 "nbformat": 4,
 "nbformat_minor": 5
}
