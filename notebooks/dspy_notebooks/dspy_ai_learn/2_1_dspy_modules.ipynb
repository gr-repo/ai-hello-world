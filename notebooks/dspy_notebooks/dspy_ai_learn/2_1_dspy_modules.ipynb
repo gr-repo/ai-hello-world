{
 "cells": [
  {
   "cell_type": "markdown",
   "id": "bb988efa",
   "metadata": {},
   "source": [
    "# Meal picker"
   ]
  },
  {
   "cell_type": "code",
   "execution_count": 1,
   "id": "b4414ddf",
   "metadata": {},
   "outputs": [
    {
     "name": "stdout",
     "output_type": "stream",
     "text": [
      "Getting keys from environment variables\n"
     ]
    }
   ],
   "source": [
    "from common.my_settings import MySettings  \n",
    "from common.utils import md\n",
    "import dspy \n",
    "from typing import Literal\n",
    "\n",
    "settings = MySettings().get()"
   ]
  },
  {
   "cell_type": "code",
   "execution_count": 2,
   "id": "8f6c3704",
   "metadata": {},
   "outputs": [],
   "source": [
    "lm_gpt4omin = dspy.LM('gpt-4o-mini', temperature=0.9, model_type='chat', cache=False, api_key=settings.OPENAI_API_KEY)\n",
    "dspy.configure(lm=lm_gpt4omin)"
   ]
  },
  {
   "cell_type": "code",
   "execution_count": null,
   "id": "8a407034",
   "metadata": {},
   "outputs": [
    {
     "data": {
      "text/markdown": [
       "**Meal**: Prediction(  \n",
       "    reasoning=\"For lunch, a light yet satisfying meal is ideal. A Mediterranean quinoa salad with fresh vegetables and a drizzle of olive oil provides a healthy option that's filling without being heavy. It also aligns with the vegetarian category, making it suitable for a variety of dietary preferences.\",  \n",
       "    name='Mediterranean Quinoa Salad',  \n",
       "    meal_type='Vegetarian'  \n",
       ")"
      ],
      "text/plain": [
       "<IPython.core.display.Markdown object>"
      ]
     },
     "metadata": {},
     "output_type": "display_data"
    },
    {
     "data": {
      "text/markdown": [
       "Prediction(  \n",
       "    is_meal_type_fish=False  \n",
       ")"
      ],
      "text/plain": [
       "<IPython.core.display.Markdown object>"
      ]
     },
     "metadata": {},
     "output_type": "display_data"
    },
    {
     "data": {
      "text/markdown": [
       "**Meal**: Prediction(  \n",
       "    reasoning='A suitable lunch option that avoids the Mediterranean Quinoa Salad could be a Grilled Salmon with a side of steamed broccoli. This meal provides healthy proteins and vegetables while respecting the exclusion.',  \n",
       "    name='Grilled Salmon with Steamed Broccoli',  \n",
       "    meal_type='Fish'  \n",
       ")"
      ],
      "text/plain": [
       "<IPython.core.display.Markdown object>"
      ]
     },
     "metadata": {},
     "output_type": "display_data"
    },
    {
     "data": {
      "text/markdown": [
       "Prediction(  \n",
       "    is_meal_type_fish=True  \n",
       ")"
      ],
      "text/plain": [
       "<IPython.core.display.Markdown object>"
      ]
     },
     "metadata": {},
     "output_type": "display_data"
    },
    {
     "data": {
      "text/markdown": [
       "**Meal**: Prediction(  \n",
       "    reasoning='Since grilled salmon is the meal to avoid, I suggest a vegetarian option that is both healthy and satisfying. A quinoa salad with mixed vegetables and a lemon vinaigrette would be a great alternative for lunch.',  \n",
       "    name='Quinoa Salad with Mixed Vegetables',  \n",
       "    meal_type='Vegetarian'  \n",
       ")"
      ],
      "text/plain": [
       "<IPython.core.display.Markdown object>"
      ]
     },
     "metadata": {},
     "output_type": "display_data"
    },
    {
     "data": {
      "text/markdown": [
       "Prediction(  \n",
       "    is_meal_type_fish=False  \n",
       ")"
      ],
      "text/plain": [
       "<IPython.core.display.Markdown object>"
      ]
     },
     "metadata": {},
     "output_type": "display_data"
    }
   ],
   "source": [
    "class Meal(dspy.Signature):\n",
    "    \"\"\"A meal\"\"\"\n",
    "\n",
    "    meal_suggestion: str = dspy.InputField(desc=\"A suggestion for a meal\") \n",
    "    meal_exclusion: str = dspy.InputField(desc=\"A meal to avoid\")           # Comment this out and see how the model repeats the meal unless asked not to\n",
    "\n",
    "    name: str = dspy.OutputField(desc=\"Meal name\")\n",
    "    meal_type: Literal[\"Fish\", \"Red Meat\", \"Vegetarian\"] = dspy.OutputField()\n",
    "\n",
    "class MealEvaluator(dspy.Signature):\n",
    "    \"\"\"Is the meal a fish meal?\"\"\"\n",
    "\n",
    "    meal: Meal = dspy.InputField(desc=\"A meal to evaluate\")\n",
    "\n",
    "    is_meal_type_fish: bool = dspy.OutputField(desc=\"Is the meal a fish meal?\")\n",
    "\n",
    "class MealDecider(dspy.Module):\n",
    "    def __init__(self):\n",
    "        self.num_attempts = 3\n",
    "        self.choose_meal = dspy.ChainOfThought(Meal)\n",
    "        self.evaluate_meal = dspy.Predict(MealEvaluator)\n",
    "\n",
    "    def forward(self, meal_suggestion):\n",
    "        previous_meal_name = \"\"\n",
    "        for i in range(self.num_attempts):\n",
    "            \n",
    "            meal = self.choose_meal(\n",
    "                meal_suggestion=meal_suggestion, \n",
    "                meal_exclusion=previous_meal_name\n",
    "                )\n",
    "            \n",
    "            previous_meal_name = meal.name\n",
    "            md('**Meal**: ', meal)\n",
    "            result = self.evaluate_meal(meal=meal)\n",
    "            md(result)\n",
    "\n",
    "    \n",
    "meal_decider = MealDecider()\n",
    "meal_decider(meal_suggestion=\"Lunch\")\n",
    "        "
   ]
  },
  {
   "cell_type": "code",
   "execution_count": 12,
   "id": "85c35470",
   "metadata": {},
   "outputs": [
    {
     "name": "stdout",
     "output_type": "stream",
     "text": [
      "\n",
      "\n",
      "\n",
      "\n",
      "\u001b[34m[2025-09-12T18:06:39.406264]\u001b[0m\n",
      "\n",
      "\u001b[31mSystem message:\u001b[0m\n",
      "\n",
      "Your input fields are:\n",
      "1. `meal_suggestion` (str): A suggestion for a meal\n",
      "2. `meal_exclusion` (str): A meal to avoid\n",
      "Your output fields are:\n",
      "1. `reasoning` (str): \n",
      "2. `name` (str): Meal name\n",
      "3. `meal_type` (Literal['Fish', 'Red Meat', 'Vegetarian']):\n",
      "All interactions will be structured in the following way, with the appropriate values filled in.\n",
      "\n",
      "[[ ## meal_suggestion ## ]]\n",
      "{meal_suggestion}\n",
      "\n",
      "[[ ## meal_exclusion ## ]]\n",
      "{meal_exclusion}\n",
      "\n",
      "[[ ## reasoning ## ]]\n",
      "{reasoning}\n",
      "\n",
      "[[ ## name ## ]]\n",
      "{name}\n",
      "\n",
      "[[ ## meal_type ## ]]\n",
      "{meal_type}        # note: the value you produce must exactly match (no extra characters) one of: Fish; Red Meat; Vegetarian\n",
      "\n",
      "[[ ## completed ## ]]\n",
      "In adhering to this structure, your objective is: \n",
      "        A meal\n",
      "\n",
      "\n",
      "\u001b[31mUser message:\u001b[0m\n",
      "\n",
      "[[ ## meal_suggestion ## ]]\n",
      "Lunch\n",
      "\n",
      "[[ ## meal_exclusion ## ]]\n",
      "Grilled Salmon with Steamed Broccoli\n",
      "\n",
      "Respond with the corresponding output fields, starting with the field `[[ ## reasoning ## ]]`, then `[[ ## name ## ]]`, then `[[ ## meal_type ## ]]` (must be formatted as a valid Python Literal['Fish', 'Red Meat', 'Vegetarian']), and then ending with the marker for `[[ ## completed ## ]]`.\n",
      "\n",
      "\n",
      "\u001b[31mResponse:\u001b[0m\n",
      "\n",
      "\u001b[32m[[ ## reasoning ## ]]\n",
      "Since grilled salmon is the meal to avoid, I suggest a vegetarian option that is both healthy and satisfying. A quinoa salad with mixed vegetables and a lemon vinaigrette would be a great alternative for lunch.\n",
      "\n",
      "[[ ## name ## ]]\n",
      "Quinoa Salad with Mixed Vegetables\n",
      "\n",
      "[[ ## meal_type ## ]]\n",
      "Vegetarian\n",
      "\n",
      "[[ ## completed ## ]]\u001b[0m\n",
      "\n",
      "\n",
      "\n",
      "\n",
      "\n",
      "\u001b[34m[2025-09-12T18:06:40.188699]\u001b[0m\n",
      "\n",
      "\u001b[31mSystem message:\u001b[0m\n",
      "\n",
      "Your input fields are:\n",
      "1. `meal` (Meal): A meal to evaluate\n",
      "Your output fields are:\n",
      "1. `is_meal_type_fish` (bool): Is the meal a fish meal?\n",
      "All interactions will be structured in the following way, with the appropriate values filled in.\n",
      "\n",
      "[[ ## meal ## ]]\n",
      "{meal}\n",
      "\n",
      "[[ ## is_meal_type_fish ## ]]\n",
      "{is_meal_type_fish}        # note: the value you produce must be True or False\n",
      "\n",
      "[[ ## completed ## ]]\n",
      "In adhering to this structure, your objective is: \n",
      "        Is the meal a fish meal?\n",
      "\n",
      "\n",
      "\u001b[31mUser message:\u001b[0m\n",
      "\n",
      "[[ ## meal ## ]]\n",
      "Prediction(\n",
      "    reasoning='Since grilled salmon is the meal to avoid, I suggest a vegetarian option that is both healthy and satisfying. A quinoa salad with mixed vegetables and a lemon vinaigrette would be a great alternative for lunch.',\n",
      "    name='Quinoa Salad with Mixed Vegetables',\n",
      "    meal_type='Vegetarian'\n",
      ")\n",
      "\n",
      "Respond with the corresponding output fields, starting with the field `[[ ## is_meal_type_fish ## ]]` (must be formatted as a valid Python bool), and then ending with the marker for `[[ ## completed ## ]]`.\n",
      "\n",
      "\n",
      "\u001b[31mResponse:\u001b[0m\n",
      "\n",
      "\u001b[32m[[ ## is_meal_type_fish ## ]]\n",
      "False\n",
      "\n",
      "[[ ## completed ## ]]\u001b[0m\n",
      "\n",
      "\n",
      "\n",
      "\n",
      "\n",
      "None\n",
      "################################################\n",
      "\n",
      "\n",
      "\n",
      "\n",
      "\u001b[34m[2025-09-12T18:06:40.188699]\u001b[0m\n",
      "\n",
      "\u001b[31mSystem message:\u001b[0m\n",
      "\n",
      "Your input fields are:\n",
      "1. `meal` (Meal): A meal to evaluate\n",
      "Your output fields are:\n",
      "1. `is_meal_type_fish` (bool): Is the meal a fish meal?\n",
      "All interactions will be structured in the following way, with the appropriate values filled in.\n",
      "\n",
      "[[ ## meal ## ]]\n",
      "{meal}\n",
      "\n",
      "[[ ## is_meal_type_fish ## ]]\n",
      "{is_meal_type_fish}        # note: the value you produce must be True or False\n",
      "\n",
      "[[ ## completed ## ]]\n",
      "In adhering to this structure, your objective is: \n",
      "        Is the meal a fish meal?\n",
      "\n",
      "\n",
      "\u001b[31mUser message:\u001b[0m\n",
      "\n",
      "[[ ## meal ## ]]\n",
      "Prediction(\n",
      "    reasoning='Since grilled salmon is the meal to avoid, I suggest a vegetarian option that is both healthy and satisfying. A quinoa salad with mixed vegetables and a lemon vinaigrette would be a great alternative for lunch.',\n",
      "    name='Quinoa Salad with Mixed Vegetables',\n",
      "    meal_type='Vegetarian'\n",
      ")\n",
      "\n",
      "Respond with the corresponding output fields, starting with the field `[[ ## is_meal_type_fish ## ]]` (must be formatted as a valid Python bool), and then ending with the marker for `[[ ## completed ## ]]`.\n",
      "\n",
      "\n",
      "\u001b[31mResponse:\u001b[0m\n",
      "\n",
      "\u001b[32m[[ ## is_meal_type_fish ## ]]\n",
      "False\n",
      "\n",
      "[[ ## completed ## ]]\u001b[0m\n",
      "\n",
      "\n",
      "\n",
      "\n",
      "\n",
      "None\n"
     ]
    }
   ],
   "source": [
    "print(lm_gpt4omin.inspect_history(2))\n",
    "print('################################################')\n",
    "print(lm_gpt4omin.inspect_history())"
   ]
  }
 ],
 "metadata": {
  "kernelspec": {
   "display_name": "Python 3",
   "language": "python",
   "name": "python3"
  },
  "language_info": {
   "codemirror_mode": {
    "name": "ipython",
    "version": 3
   },
   "file_extension": ".py",
   "mimetype": "text/x-python",
   "name": "python",
   "nbconvert_exporter": "python",
   "pygments_lexer": "ipython3",
   "version": "3.12.1"
  }
 },
 "nbformat": 4,
 "nbformat_minor": 5
}
