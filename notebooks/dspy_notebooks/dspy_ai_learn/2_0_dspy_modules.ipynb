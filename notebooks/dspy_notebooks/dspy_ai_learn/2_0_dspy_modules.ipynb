{
 "cells": [
  {
   "cell_type": "markdown",
   "id": "2e3c8003",
   "metadata": {},
   "source": [
    "# DSPY Learn - Modules\n",
    "\n",
    "https://dspy.ai/learn/programming/modules/"
   ]
  },
  {
   "cell_type": "code",
   "execution_count": 2,
   "id": "57bfcd3d",
   "metadata": {},
   "outputs": [],
   "source": [
    "#!pip install dspy"
   ]
  },
  {
   "cell_type": "code",
   "execution_count": 3,
   "id": "9eac75cf",
   "metadata": {},
   "outputs": [
    {
     "name": "stdout",
     "output_type": "stream",
     "text": [
      "Getting keys from environment variables\n"
     ]
    },
    {
     "data": {
      "text/plain": [
       "['Hello! How can I assist you today?']"
      ]
     },
     "execution_count": 3,
     "metadata": {},
     "output_type": "execute_result"
    }
   ],
   "source": [
    "import dspy \n",
    "from common.my_settings import MySettings  \n",
    "from common.utils import md\n",
    "\n",
    "settings = MySettings().get()\n",
    "\n",
    "#lm_gpt35 = dspy.LM('gpt-3.5-turbo', temperature=0.8, model_type='chat', cache=False, api_key=settings.OPENAI_API_KEY)\n",
    "lm_gpt4omin = dspy.LM('gpt-4o-mini', temperature=0.9, model_type='chat', cache=False, api_key=settings.OPENAI_API_KEY)\n",
    "dspy.configure(lm=lm_gpt4omin)\n",
    "\n",
    "lm = lm_gpt4omin\n",
    "lm('hello there')\n"
   ]
  },
  {
   "cell_type": "code",
   "execution_count": 4,
   "id": "dee0d586",
   "metadata": {},
   "outputs": [
    {
     "name": "stdout",
     "output_type": "stream",
     "text": [
      "True\n"
     ]
    }
   ],
   "source": [
    "sentence = \"it's a charming and often affecting journey\"\n",
    "classify = dspy.Predict(\"sentence -> sentiment: bool\")\n",
    "response = classify(sentence=sentence)\n",
    "print(response.sentiment)"
   ]
  },
  {
   "cell_type": "code",
   "execution_count": 5,
   "id": "33accd1e",
   "metadata": {},
   "outputs": [
    {
     "data": {
      "text/plain": [
       "['One great aspect of the ColBERT retrieval module is its efficient late interaction mechanism, which allows it to leverage powerful BERT embeddings while maintaining fast retrieval speeds, making it ideal for large-scale and real-time applications.',\n",
       " 'One great aspect of the ColBERT retrieval module is its ability to efficiently balance high-quality semantic understanding of text with rapid retrieval speeds, thanks to its late interaction mechanism that allows it to process large datasets effectively.',\n",
       " \"One great aspect of the ColBERT retrieval module is its ability to efficiently combine the strengths of BERT's contextual understanding with a late interaction mechanism, enabling faster retrieval of highly relevant documents from large datasets.\",\n",
       " 'One great aspect of the ColBERT retrieval module is its efficient late interaction mechanism, which allows for high-quality retrieval using contextual embeddings while minimizing computational costs, making it suitable for large-scale applications.',\n",
       " 'One great feature of the ColBERT retrieval module is its ability to efficiently integrate deep contextualized representations from BERT through a late interaction mechanism, which allows for high-speed processing of large datasets while still delivering high accuracy in retrieving relevant documents.']"
      ]
     },
     "execution_count": 5,
     "metadata": {},
     "output_type": "execute_result"
    }
   ],
   "source": [
    "question = \"What's something great about the ColBERT retrieval module\"\n",
    "classify = dspy.ChainOfThought(\"question -> answer\", n=5)\n",
    "response = classify(question=question)\n",
    "response.completions.answer"
   ]
  },
  {
   "cell_type": "code",
   "execution_count": 6,
   "id": "caee55f6",
   "metadata": {},
   "outputs": [
    {
     "name": "stdout",
     "output_type": "stream",
     "text": [
      "Reasoning: ColBERT (Contextualized Late Interaction over BERT) is a retrieval module that brings significant improvements to information retrieval tasks. One of its great features is its efficiency in balancing the trade-off between retrieval speed and quality by utilizing a late interaction mechanism. This allows it to leverage the powerful contextual embeddings from BERT while avoiding the computational cost associated with traditional methods that require full pairwise comparisons of documents and queries. This means that ColBERT can efficiently process large datasets while maintaining high retrieval accuracy, making it suitable for real-time applications and large-scale search engines.\n",
      "Answer: One great aspect of the ColBERT retrieval module is its efficient late interaction mechanism, which allows it to leverage powerful BERT embeddings while maintaining fast retrieval speeds, making it ideal for large-scale and real-time applications.\n"
     ]
    }
   ],
   "source": [
    "print(f\"Reasoning: {response.reasoning}\")\n",
    "print(f\"Answer: {response.answer}\")"
   ]
  },
  {
   "cell_type": "code",
   "execution_count": 12,
   "id": "57cc831c",
   "metadata": {},
   "outputs": [
    {
     "name": "stdout",
     "output_type": "stream",
     "text": [
      "deno path: /home/codespace/.deno/bin\n",
      "which deno: /home/codespace/.deno/bin/deno\n",
      "deno 2.4.5 (stable, release, x86_64-unknown-linux-gnu)\n",
      "v8 13.7.152.14-rusty\n",
      "typescript 5.8.3\n"
     ]
    },
    {
     "data": {
      "text/plain": [
       "CompletedProcess(args=['deno', '--version'], returncode=0)"
      ]
     },
     "execution_count": 12,
     "metadata": {},
     "output_type": "execute_result"
    }
   ],
   "source": [
    "import os, pathlib, shutil, subprocess\n",
    "\n",
    "# Point to your Deno install (Codespaces default)\n",
    "deno_bin = str(pathlib.Path.home() / \".deno\" / \"bin\")\n",
    "\n",
    "# Add to PATH for this kernel session\n",
    "os.environ[\"PATH\"] = deno_bin + \":\" + os.environ.get(\"PATH\",\"\")\n",
    "\n",
    "# (Optional) sanity checks\n",
    "print(\"deno path:\", deno_bin)\n",
    "print(\"which deno:\", shutil.which(\"deno\"))\n",
    "subprocess.run([\"deno\",\"--version\"], check=True)\n"
   ]
  },
  {
   "cell_type": "code",
   "execution_count": 13,
   "id": "bd9023cd",
   "metadata": {},
   "outputs": [
    {
     "data": {
      "text/markdown": [
       "Prediction(  \n",
       "    reasoning='The question asks for the volume of a circle, but it should be noted that a circle is a two-dimensional shape and does not have a volume. However, if the question intended to refer to a sphere with a diameter of 3 cm, the generated code correctly calculates the volume of that sphere. The volume was derived using the formula \\\\( V = \\\\frac{4}{3} \\\\pi r^3 \\\\), where \\\\( r \\\\) is the radius. Since the radius is 1.5 cm, the code produced an output of approximately 14.14 cm³, which is the volume of the sphere.',  \n",
       "    answer='The volume of the sphere with a diameter of 3 cm is approximately 14.14 cm³.'  \n",
       ")"
      ],
      "text/plain": [
       "<IPython.core.display.Markdown object>"
      ]
     },
     "metadata": {},
     "output_type": "display_data"
    }
   ],
   "source": [
    "maths = dspy.ProgramOfThought(\"question -> answer\")\n",
    "md(maths(question=\"Whats the volume of a circle that is 3cm across?\"))"
   ]
  },
  {
   "cell_type": "code",
   "execution_count": 10,
   "id": "8dc64aad",
   "metadata": {},
   "outputs": [
    {
     "data": {
      "text/markdown": [
       "As of my last knowledge update in October 2023, the `colbert` package (short for \"Contextualized Late Interaction over BERT\") is a library designed for information retrieval tasks, particularly in the context of search engines and natural language processing. It implements a model for efficient retrieval that combines the strengths of traditional information retrieval techniques with the powerful representations provided by transformer-based models like BERT.  \n",
       "  \n",
       "The key features of the `colbert` package typically include:  \n",
       "  \n",
       "1. **Late Interaction Retrieval:** ColBERT employs a \"late interaction\" mechanism, allowing for fast retrieval by separating the encoding of documents and queries. This means that documents can be pre-encoded into fixed-size embeddings, and during the retrieval phase, only the query is encoded, enabling efficient matching.  \n",
       "  \n",
       "2. **BERT-based Representations:** The model leverages the contextualized embeddings from BERT, which enhances the understanding of the semantic meaning of queries and documents, leading to improved relevance in retrieval results.  \n",
       "  \n",
       "3. **Scalability:** The late interaction model allows for scalability in large datasets, making it suitable for real-world applications where databases can be massive.  \n",
       "  \n",
       "4. **Open Source Implementation:** The package is available on platforms like GitHub, making it accessible for researchers and developers who wish to integrate advanced retrieval techniques into their applications.  \n",
       "  \n",
       "5. **Performance:** It is designed to achieve competitive performance on standard retrieval benchmarks, providing a good balance between speed and accuracy.  \n",
       "  \n",
       "For the most accurate details and to explore its features, capabilities, and usage, I recommend checking the official documentation or the GitHub repository of the `colbert` package directly."
      ],
      "text/plain": [
       "<IPython.core.display.Markdown object>"
      ]
     },
     "metadata": {},
     "output_type": "display_data"
    }
   ],
   "source": [
    "md(lm('What does the python package colbert do?')[0])"
   ]
  }
 ],
 "metadata": {
  "kernelspec": {
   "display_name": "Python 3",
   "language": "python",
   "name": "python3"
  },
  "language_info": {
   "codemirror_mode": {
    "name": "ipython",
    "version": 3
   },
   "file_extension": ".py",
   "mimetype": "text/x-python",
   "name": "python",
   "nbconvert_exporter": "python",
   "pygments_lexer": "ipython3",
   "version": "3.12.1"
  }
 },
 "nbformat": 4,
 "nbformat_minor": 5
}
