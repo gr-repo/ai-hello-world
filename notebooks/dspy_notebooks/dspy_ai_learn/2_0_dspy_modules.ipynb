{
 "cells": [
  {
   "cell_type": "markdown",
   "id": "2e3c8003",
   "metadata": {},
   "source": [
    "# DSPY Learn - Modules\n",
    "\n",
    "https://dspy.ai/learn/programming/modules/"
   ]
  },
  {
   "cell_type": "code",
   "execution_count": 1,
   "id": "57bfcd3d",
   "metadata": {},
   "outputs": [],
   "source": [
    "#!pip install dspy"
   ]
  },
  {
   "cell_type": "code",
   "execution_count": 2,
   "id": "9eac75cf",
   "metadata": {},
   "outputs": [
    {
     "name": "stdout",
     "output_type": "stream",
     "text": [
      "Getting keys from environment variables\n"
     ]
    },
    {
     "data": {
      "text/plain": [
       "['Hello! How can I assist you today?']"
      ]
     },
     "execution_count": 2,
     "metadata": {},
     "output_type": "execute_result"
    }
   ],
   "source": [
    "import dspy \n",
    "from common.my_settings import MySettings  \n",
    "from common.utils import md\n",
    "\n",
    "settings = MySettings().get()\n",
    "\n",
    "#lm_gpt35 = dspy.LM('gpt-3.5-turbo', temperature=0.8, model_type='chat', cache=False, api_key=settings.OPENAI_API_KEY)\n",
    "lm_gpt4omin = dspy.LM('gpt-4o-mini', temperature=0.9, model_type='chat', cache=False, api_key=settings.OPENAI_API_KEY)\n",
    "dspy.configure(lm=lm_gpt4omin)\n",
    "\n",
    "lm = lm_gpt4omin\n",
    "lm('hello there')\n"
   ]
  },
  {
   "cell_type": "code",
   "execution_count": 3,
   "id": "dee0d586",
   "metadata": {},
   "outputs": [
    {
     "name": "stdout",
     "output_type": "stream",
     "text": [
      "True\n"
     ]
    }
   ],
   "source": [
    "sentence = \"it's a charming and often affecting journey\"\n",
    "classify = dspy.Predict(\"sentence -> sentiment: bool\")\n",
    "response = classify(sentence=sentence)\n",
    "print(response.sentiment)"
   ]
  },
  {
   "cell_type": "code",
   "execution_count": 4,
   "id": "33accd1e",
   "metadata": {},
   "outputs": [
    {
     "data": {
      "text/plain": [
       "['One great aspect of the ColBERT retrieval module is its ability to efficiently perform late interaction during the retrieval process, which combines fast matching with rich semantic information using dense embeddings, thereby improving retrieval performance while maintaining scalability.',\n",
       " 'A great aspect of the ColBERT retrieval module is its ability to achieve high retrieval effectiveness while maintaining efficiency through late interaction with BERT embeddings, enabling quick and accurate document retrieval in large datasets.',\n",
       " 'One great aspect of the ColBERT retrieval module is its ability to efficiently combine dense and traditional retrieval techniques, allowing for fast and accurate information retrieval through late interaction mechanisms.',\n",
       " 'One great aspect of the ColBERT retrieval module is its efficient use of late interaction mechanisms, which allows it to combine powerful BERT embeddings for queries and documents while maintaining scalability for large-scale retrieval tasks. This leads to improved relevance and accuracy in search results.',\n",
       " 'One great aspect of the ColBERT retrieval module is its ability to efficiently combine contextualized representations from BERT with scalable retrieval techniques, enabling improved accuracy and speed in handling large datasets.']"
      ]
     },
     "execution_count": 4,
     "metadata": {},
     "output_type": "execute_result"
    }
   ],
   "source": [
    "question = \"What's something great about the ColBERT retrieval module\"\n",
    "classify = dspy.ChainOfThought(\"question -> answer\", n=5)\n",
    "response = classify(question=question)\n",
    "response.completions.answer"
   ]
  },
  {
   "cell_type": "code",
   "execution_count": 5,
   "id": "caee55f6",
   "metadata": {},
   "outputs": [
    {
     "name": "stdout",
     "output_type": "stream",
     "text": [
      "Reasoning: ColBERT is notable for its efficiency in combining the strengths of dense and scalable retrieval techniques. One of its standout features is the ability to perform late interaction, which allows for fast matching between query vectors and document representations while still leveraging the rich semantic information provided by dense embeddings. This results in improved retrieval performance without significant trade-offs in speed, making it suitable for large-scale applications. Additionally, ColBERT can effectively handle diverse document types and formats, enhancing its versatility in various information retrieval tasks.\n",
      "Answer: One great aspect of the ColBERT retrieval module is its ability to efficiently perform late interaction during the retrieval process, which combines fast matching with rich semantic information using dense embeddings, thereby improving retrieval performance while maintaining scalability.\n"
     ]
    }
   ],
   "source": [
    "print(f\"Reasoning: {response.reasoning}\")\n",
    "print(f\"Answer: {response.answer}\")"
   ]
  },
  {
   "cell_type": "markdown",
   "id": "005912e5",
   "metadata": {},
   "source": [
    "# Math\n",
    "\n",
    "Install Deno to run the Python code"
   ]
  },
  {
   "cell_type": "code",
   "execution_count": 6,
   "id": "57cc831c",
   "metadata": {},
   "outputs": [
    {
     "name": "stdout",
     "output_type": "stream",
     "text": [
      "deno path: /home/codespace/.deno/bin\n",
      "which deno: /home/codespace/.deno/bin/deno\n",
      "deno 2.4.5 (stable, release, x86_64-unknown-linux-gnu)\n",
      "v8 13.7.152.14-rusty\n",
      "typescript 5.8.3\n"
     ]
    },
    {
     "data": {
      "text/plain": [
       "CompletedProcess(args=['deno', '--version'], returncode=0)"
      ]
     },
     "execution_count": 6,
     "metadata": {},
     "output_type": "execute_result"
    }
   ],
   "source": [
    "import os, pathlib, shutil, subprocess\n",
    "\n",
    "# Point to your Deno install (Codespaces default)\n",
    "deno_bin = str(pathlib.Path.home() / \".deno\" / \"bin\")\n",
    "\n",
    "# Add to PATH for this kernel session\n",
    "os.environ[\"PATH\"] = deno_bin + \":\" + os.environ.get(\"PATH\",\"\")\n",
    "\n",
    "# (Optional) sanity checks\n",
    "print(\"deno path:\", deno_bin)\n",
    "print(\"which deno:\", shutil.which(\"deno\"))\n",
    "subprocess.run([\"deno\",\"--version\"], check=True)\n"
   ]
  },
  {
   "cell_type": "code",
   "execution_count": 7,
   "id": "bd9023cd",
   "metadata": {},
   "outputs": [
    {
     "data": {
      "text/markdown": [
       "Prediction(  \n",
       "    reasoning='To find the volume related to a circle, we assume the question is about the volume of a cylinder with a circular base since a circle itself does not have volume. Given the diameter of the circle is 3 cm, we first calculate the radius, which is half of the diameter. We then assume a height of 1 cm for the cylinder. Using the formula for the volume of a cylinder, V = πr²h, we substitute the radius and height values to compute the volume. The result is approximately 7.07 cm³.',  \n",
       "    answer='The volume of the cylinder with a circular base of diameter 3 cm and height 1 cm is approximately 7.07 cm³.'  \n",
       ")"
      ],
      "text/plain": [
       "<IPython.core.display.Markdown object>"
      ]
     },
     "metadata": {},
     "output_type": "display_data"
    }
   ],
   "source": [
    "maths = dspy.ProgramOfThought(\"question -> answer\")\n",
    "result = maths(question=\"Whats the volume of a circle that is 3cm in diameter?\")\n",
    "md(result)"
   ]
  },
  {
   "cell_type": "code",
   "execution_count": 8,
   "id": "9db25cdf",
   "metadata": {},
   "outputs": [
    {
     "data": {
      "text/plain": [
       "[{'prompt': None,\n",
       "  'messages': [{'role': 'system',\n",
       "    'content': 'Your input fields are:\\n1. `question` (str):\\nYour output fields are:\\n1. `reasoning` (str): \\n2. `generated_code` (str): python code that answers the question\\nAll interactions will be structured in the following way, with the appropriate values filled in.\\n\\n[[ ## question ## ]]\\n{question}\\n\\n[[ ## reasoning ## ]]\\n{reasoning}\\n\\n[[ ## generated_code ## ]]\\n{generated_code}\\n\\n[[ ## completed ## ]]\\nIn adhering to this structure, your objective is: \\n        You will be given `question` and you will respond with `generated_code`.\\n        Generating executable Python code that programmatically computes the correct `generated_code`.\\n        After you\\'re done with the computation and think you have the answer, make sure to provide your answer by calling the preloaded function `final_answer()`.\\n        You should structure your answer in a dict object, like {\"field_a\": answer_a, ...}, evaluates to the correct value mapping for `answer`.'},\n",
       "   {'role': 'user',\n",
       "    'content': '[[ ## question ## ]]\\nWhats the volume of a circle that is 3cm in diameter?\\n\\nRespond with the corresponding output fields, starting with the field `[[ ## reasoning ## ]]`, then `[[ ## generated_code ## ]]`, and then ending with the marker for `[[ ## completed ## ]]`.'}],\n",
       "  'kwargs': {},\n",
       "  'response': ModelResponse(id='chatcmpl-CDvGPZNdahx9YNlHUxeL8uXI8Au8p', created=1757434421, model='gpt-4o-mini-2024-07-18', object='chat.completion', system_fingerprint='fp_8bda4d3a2c', choices=[Choices(finish_reason='stop', index=0, message=Message(content='[[ ## reasoning ## ]]\\nA circle is a two-dimensional shape and does not have volume. However, if we consider a cylinder with a circular base that has a diameter of 3 cm, we can calculate the volume of that cylinder. The volume \\\\( V \\\\) of a cylinder is calculated using the formula: \\n\\n\\\\[\\nV = \\\\pi r^2 h\\n\\\\]\\n\\nwhere \\\\( r \\\\) is the radius of the base, and \\\\( h \\\\) is the height of the cylinder. Since the height is not provided, I will assume a height of 1 cm for the calculation.\\n\\nFirst, we need to calculate the radius from the diameter:\\n- Diameter = 3 cm, therefore Radius \\\\( r = \\\\frac{3}{2} = 1.5 \\\\) cm.\\n- Using height \\\\( h = 1 \\\\) cm to compute the volume.\\n\\n[[ ## generated_code ## ]]\\nimport math\\n\\n# Given diameter\\ndiameter = 3\\nradius = diameter / 2\\nheight = 1  # assuming height of the cylinder is 1 cm\\n\\n# Volume of the cylinder\\nvolume = math.pi * (radius ** 2) * height\\nvolume\\n\\n[[ ## completed ## ]]', role='assistant', tool_calls=None, function_call=None, provider_specific_fields={'refusal': None}, annotations=[]), provider_specific_fields={})], usage=Usage(completion_tokens=245, prompt_tokens=270, total_tokens=515, completion_tokens_details=CompletionTokensDetailsWrapper(accepted_prediction_tokens=0, audio_tokens=0, reasoning_tokens=0, rejected_prediction_tokens=0, text_tokens=None), prompt_tokens_details=PromptTokensDetailsWrapper(audio_tokens=0, cached_tokens=0, text_tokens=None, image_tokens=None)), service_tier='default'),\n",
       "  'outputs': ['[[ ## reasoning ## ]]\\nA circle is a two-dimensional shape and does not have volume. However, if we consider a cylinder with a circular base that has a diameter of 3 cm, we can calculate the volume of that cylinder. The volume \\\\( V \\\\) of a cylinder is calculated using the formula: \\n\\n\\\\[\\nV = \\\\pi r^2 h\\n\\\\]\\n\\nwhere \\\\( r \\\\) is the radius of the base, and \\\\( h \\\\) is the height of the cylinder. Since the height is not provided, I will assume a height of 1 cm for the calculation.\\n\\nFirst, we need to calculate the radius from the diameter:\\n- Diameter = 3 cm, therefore Radius \\\\( r = \\\\frac{3}{2} = 1.5 \\\\) cm.\\n- Using height \\\\( h = 1 \\\\) cm to compute the volume.\\n\\n[[ ## generated_code ## ]]\\nimport math\\n\\n# Given diameter\\ndiameter = 3\\nradius = diameter / 2\\nheight = 1  # assuming height of the cylinder is 1 cm\\n\\n# Volume of the cylinder\\nvolume = math.pi * (radius ** 2) * height\\nvolume\\n\\n[[ ## completed ## ]]'],\n",
       "  'usage': {'completion_tokens': 245,\n",
       "   'prompt_tokens': 270,\n",
       "   'total_tokens': 515,\n",
       "   'completion_tokens_details': CompletionTokensDetailsWrapper(accepted_prediction_tokens=0, audio_tokens=0, reasoning_tokens=0, rejected_prediction_tokens=0, text_tokens=None),\n",
       "   'prompt_tokens_details': PromptTokensDetailsWrapper(audio_tokens=0, cached_tokens=0, text_tokens=None, image_tokens=None)},\n",
       "  'cost': 0.0001875,\n",
       "  'timestamp': '2025-09-09T18:13:46.553937',\n",
       "  'uuid': 'c3e3edba-c795-4ad4-8d74-023aa1496de2',\n",
       "  'model': 'gpt-4o-mini',\n",
       "  'response_model': 'gpt-4o-mini-2024-07-18',\n",
       "  'model_type': 'chat'},\n",
       " {'prompt': None,\n",
       "  'messages': [{'role': 'system',\n",
       "    'content': 'Your input fields are:\\n1. `question` (str): \\n2. `final_generated_code` (str): python code that answers the question\\n3. `code_output` (str): output of previously-generated python code\\nYour output fields are:\\n1. `reasoning` (str): \\n2. `answer` (str):\\nAll interactions will be structured in the following way, with the appropriate values filled in.\\n\\n[[ ## question ## ]]\\n{question}\\n\\n[[ ## final_generated_code ## ]]\\n{final_generated_code}\\n\\n[[ ## code_output ## ]]\\n{code_output}\\n\\n[[ ## reasoning ## ]]\\n{reasoning}\\n\\n[[ ## answer ## ]]\\n{answer}\\n\\n[[ ## completed ## ]]\\nIn adhering to this structure, your objective is: \\n        Given the final code `question`, `final_generated_code`, `code_output`, provide the final `answer`.'},\n",
       "   {'role': 'user',\n",
       "    'content': '[[ ## question ## ]]\\nWhats the volume of a circle that is 3cm in diameter?\\n\\n[[ ## final_generated_code ## ]]\\nimport math\\n\\n# Given diameter\\ndiameter = 3\\nradius = diameter / 2\\nheight = 1  # assuming height of the cylinder is 1 cm\\n\\n# Volume of the cylinder\\nvolume = math.pi * (radius ** 2) * height\\nvolume\\n\\n[[ ## code_output ## ]]\\n7.0685834705770345\\n\\nRespond with the corresponding output fields, starting with the field `[[ ## reasoning ## ]]`, then `[[ ## answer ## ]]`, and then ending with the marker for `[[ ## completed ## ]]`.'}],\n",
       "  'kwargs': {},\n",
       "  'response': ModelResponse(id='chatcmpl-CDvGWvBuvZJyXVwGpMKCtOnoxMRfp', created=1757434428, model='gpt-4o-mini-2024-07-18', object='chat.completion', system_fingerprint='fp_8bda4d3a2c', choices=[Choices(finish_reason='stop', index=0, message=Message(content='[[ ## reasoning ## ]]\\nTo find the volume related to a circle, we assume the question is about the volume of a cylinder with a circular base since a circle itself does not have volume. Given the diameter of the circle is 3 cm, we first calculate the radius, which is half of the diameter. We then assume a height of 1 cm for the cylinder. Using the formula for the volume of a cylinder, V = πr²h, we substitute the radius and height values to compute the volume. The result is approximately 7.07 cm³.\\n\\n[[ ## answer ## ]]\\nThe volume of the cylinder with a circular base of diameter 3 cm and height 1 cm is approximately 7.07 cm³.\\n\\n[[ ## completed ## ]]', role='assistant', tool_calls=None, function_call=None, provider_specific_fields={'refusal': None}, annotations=[]), provider_specific_fields={})], usage=Usage(completion_tokens=153, prompt_tokens=323, total_tokens=476, completion_tokens_details=CompletionTokensDetailsWrapper(accepted_prediction_tokens=0, audio_tokens=0, reasoning_tokens=0, rejected_prediction_tokens=0, text_tokens=None), prompt_tokens_details=PromptTokensDetailsWrapper(audio_tokens=0, cached_tokens=0, text_tokens=None, image_tokens=None)), service_tier='default'),\n",
       "  'outputs': ['[[ ## reasoning ## ]]\\nTo find the volume related to a circle, we assume the question is about the volume of a cylinder with a circular base since a circle itself does not have volume. Given the diameter of the circle is 3 cm, we first calculate the radius, which is half of the diameter. We then assume a height of 1 cm for the cylinder. Using the formula for the volume of a cylinder, V = πr²h, we substitute the radius and height values to compute the volume. The result is approximately 7.07 cm³.\\n\\n[[ ## answer ## ]]\\nThe volume of the cylinder with a circular base of diameter 3 cm and height 1 cm is approximately 7.07 cm³.\\n\\n[[ ## completed ## ]]'],\n",
       "  'usage': {'completion_tokens': 153,\n",
       "   'prompt_tokens': 323,\n",
       "   'total_tokens': 476,\n",
       "   'completion_tokens_details': CompletionTokensDetailsWrapper(accepted_prediction_tokens=0, audio_tokens=0, reasoning_tokens=0, rejected_prediction_tokens=0, text_tokens=None),\n",
       "   'prompt_tokens_details': PromptTokensDetailsWrapper(audio_tokens=0, cached_tokens=0, text_tokens=None, image_tokens=None)},\n",
       "  'cost': 0.00014025,\n",
       "  'timestamp': '2025-09-09T18:13:52.345511',\n",
       "  'uuid': 'bbf020d6-6ee5-48a8-be5e-0e41ad29a433',\n",
       "  'model': 'gpt-4o-mini',\n",
       "  'response_model': 'gpt-4o-mini-2024-07-18',\n",
       "  'model_type': 'chat'}]"
      ]
     },
     "execution_count": 8,
     "metadata": {},
     "output_type": "execute_result"
    }
   ],
   "source": [
    "maths.history"
   ]
  },
  {
   "cell_type": "markdown",
   "id": "4e9562d8",
   "metadata": {},
   "source": [
    "# RAG\n",
    "https://dspy.ai/learn/programming/modules/#__tabbed_1_2\n"
   ]
  },
  {
   "cell_type": "code",
   "execution_count": 9,
   "id": "a020aaab",
   "metadata": {},
   "outputs": [
    {
     "data": {
      "text/plain": [
       "['David Gregory inherited the historic \"Castle of Duns\" in Scotland, which has been associated with his family for generations. It is an important estate with a rich history in the region.']"
      ]
     },
     "execution_count": 9,
     "metadata": {},
     "output_type": "execute_result"
    }
   ],
   "source": [
    "lm('Whats the name of the Castle that David Gregory inherited?')"
   ]
  },
  {
   "cell_type": "code",
   "execution_count": 10,
   "id": "3a46843a",
   "metadata": {},
   "outputs": [
    {
     "data": {
      "text/markdown": [
       "**RAG with answerable question**"
      ],
      "text/plain": [
       "<IPython.core.display.Markdown object>"
      ]
     },
     "metadata": {},
     "output_type": "display_data"
    },
    {
     "data": {
      "text/markdown": [
       "**Search result**:{'text': 'David Gregory (physician) | David Gregory (20 December 1625 – 1720) was a Scottish physician and inventor. His surname is sometimes spelt as Gregorie, the original Scottish spelling. He inherited Kinnairdy Castle in 1664. Three of his twenty-nine children became mathematics professors. He is credited with inventing a military cannon that Isaac Newton described as \"being destructive to the human species\". Copies and details of the model no longer exist. Gregory\\'s use of a barometer to predict farming-related weather conditions led him to be accused of witchcraft by Presbyterian ministers from Aberdeen, although he was never convicted.', 'pid': 3296134, 'rank': 1, 'score': 25.856355667114258, 'prob': 0.9928459586069872, 'long_text': 'David Gregory (physician) | David Gregory (20 December 1625 – 1720) was a Scottish physician and inventor. His surname is sometimes spelt as Gregorie, the original Scottish spelling. He inherited Kinnairdy Castle in 1664. Three of his twenty-nine children became mathematics professors. He is credited with inventing a military cannon that Isaac Newton described as \"being destructive to the human species\". Copies and details of the model no longer exist. Gregory\\'s use of a barometer to predict farming-related weather conditions led him to be accused of witchcraft by Presbyterian ministers from Aberdeen, although he was never convicted.'}"
      ],
      "text/plain": [
       "<IPython.core.display.Markdown object>"
      ]
     },
     "metadata": {},
     "output_type": "display_data"
    },
    {
     "data": {
      "text/markdown": [
       "Prediction(  \n",
       "    reasoning='David Gregory, the physician, inherited Kinnairdy Castle in 1664. This is the specific detail related to the question about the name of the castle he inherited.',  \n",
       "    response='Kinnairdy Castle'  \n",
       ")"
      ],
      "text/plain": [
       "<IPython.core.display.Markdown object>"
      ]
     },
     "metadata": {},
     "output_type": "display_data"
    },
    {
     "data": {
      "text/markdown": [
       "**RAG with unanswerable question**"
      ],
      "text/plain": [
       "<IPython.core.display.Markdown object>"
      ]
     },
     "metadata": {},
     "output_type": "display_data"
    },
    {
     "data": {
      "text/markdown": [
       "**Search result**:{'text': 'David Gregory (physician) | David Gregory (20 December 1625 – 1720) was a Scottish physician and inventor. His surname is sometimes spelt as Gregorie, the original Scottish spelling. He inherited Kinnairdy Castle in 1664. Three of his twenty-nine children became mathematics professors. He is credited with inventing a military cannon that Isaac Newton described as \"being destructive to the human species\". Copies and details of the model no longer exist. Gregory\\'s use of a barometer to predict farming-related weather conditions led him to be accused of witchcraft by Presbyterian ministers from Aberdeen, although he was never convicted.', 'pid': 3296134, 'rank': 1, 'score': 25.856355667114258, 'prob': 0.9928459586069872, 'long_text': 'David Gregory (physician) | David Gregory (20 December 1625 – 1720) was a Scottish physician and inventor. His surname is sometimes spelt as Gregorie, the original Scottish spelling. He inherited Kinnairdy Castle in 1664. Three of his twenty-nine children became mathematics professors. He is credited with inventing a military cannon that Isaac Newton described as \"being destructive to the human species\". Copies and details of the model no longer exist. Gregory\\'s use of a barometer to predict farming-related weather conditions led him to be accused of witchcraft by Presbyterian ministers from Aberdeen, although he was never convicted.'}"
      ],
      "text/plain": [
       "<IPython.core.display.Markdown object>"
      ]
     },
     "metadata": {},
     "output_type": "display_data"
    },
    {
     "data": {
      "text/markdown": [
       "Prediction(  \n",
       "    reasoning='The context provided does not contain any information related to the current president of Germany. Therefore, I cannot derive an answer from the context.',  \n",
       "    response='As of October 2023, the president of Germany is Frank-Walter Steinmeier.'  \n",
       ")"
      ],
      "text/plain": [
       "<IPython.core.display.Markdown object>"
      ]
     },
     "metadata": {},
     "output_type": "display_data"
    }
   ],
   "source": [
    "def search(query: str) -> list[str]:\n",
    "    \"\"\"Retreives abstracts from wikipedia\"\"\"\n",
    "    # A COLBERT server is a vector database that can be used to store and retrieve embeddings.\n",
    "    # The line below is fetching snippets from wikiped (2017) that is hosted on a COLBERT server. \n",
    "    result = dspy.ColBERTv2(url=\"http://20.102.90.50:2017/wiki17_abstracts\")(query, k=3)\n",
    "\n",
    "    md(\"**Search result**:\", result[0])\n",
    "    return [item['text'] for item in result]\n",
    "\n",
    "rag = dspy.ChainOfThought(\"context, question -> response\")\n",
    "question = \"Whats the name of the Castle that David Gregory inherited?\"\n",
    "\n",
    "md(\"**RAG with answerable question**\")\n",
    "md(rag(context=search(question), question=question))\n",
    "\n",
    "md(\"**RAG with unanswerable question**\")\n",
    "# In the example below, the question is \"Who is the president of Germany?\" which cannot be answered from the context retrieved.\n",
    "# It should give an answer such as \"I dont know\" or \"The context does not provide this information.\n",
    "md(rag(context=search(question), question=\"Who is the president of Germany?\")) "
   ]
  },
  {
   "cell_type": "markdown",
   "id": "67155f16",
   "metadata": {},
   "source": [
    "# Classification\n",
    "https://dspy.ai/learn/programming/modules/#__tabbed_1_3"
   ]
  },
  {
   "cell_type": "code",
   "execution_count": 11,
   "id": "fd20f9bf",
   "metadata": {},
   "outputs": [
    {
     "data": {
      "text/markdown": [
       "Prediction(  \n",
       "    sentiment='negative',  \n",
       "    confidence=0.85  \n",
       ")"
      ],
      "text/plain": [
       "<IPython.core.display.Markdown object>"
      ]
     },
     "metadata": {},
     "output_type": "display_data"
    }
   ],
   "source": [
    "from typing import Literal \n",
    "\n",
    "class Classify(dspy.Signature):\n",
    "    \"\"\"Classify the sentiment\"\"\"\n",
    "    sentence: str = dspy.InputField()\n",
    "    sentiment: Literal['positive', 'neutral', 'negative'] = dspy.OutputField()\n",
    "    confidence: float = dspy.OutputField()\n",
    "\n",
    "classify = dspy.Predict(Classify)\n",
    "md(classify(sentence='It is raining this evening, the roads will be dangerous'))\n"
   ]
  },
  {
   "cell_type": "markdown",
   "id": "f627fa92",
   "metadata": {},
   "source": [
    "# Information Extraction\n",
    "https://dspy.ai/learn/programming/modules/#__tabbed_1_4"
   ]
  },
  {
   "cell_type": "code",
   "execution_count": 12,
   "id": "068f87a9",
   "metadata": {},
   "outputs": [
    {
     "data": {
      "text/markdown": [
       "Prediction(  \n",
       "    title='The Mongol Empire: The Largest Contiguous Empire in History',  \n",
       "    headings=['Introduction', 'Geographic Extent', 'Invasions and Conquests', 'Historical Significance'],  \n",
       "    entities_and_metadata=[{'entity': 'Mongol Empire', 'metadata': 'largest contiguous empire in history'}, {'entity': 'Mongolia', 'metadata': 'origin of the empire in East Asia'}, {'entity': 'Sea of Japan', 'metadata': 'eastern boundary at height'}, {'entity': 'Eastern Europe', 'metadata': 'western boundary at height'}, {'entity': 'Siberia', 'metadata': 'northern extension'}, {'entity': 'Indian subcontinent', 'metadata': 'southern extension'}, {'entity': 'Southeast Asia', 'metadata': 'site of invasions'}, {'entity': 'Iranian plateau', 'metadata': 'conquered region'}, {'entity': 'Levant', 'metadata': 'western boundary'}, {'entity': 'Carpathian Mountains', 'metadata': 'western boundary'}]  \n",
       ")"
      ],
      "text/plain": [
       "<IPython.core.display.Markdown object>"
      ]
     },
     "metadata": {},
     "output_type": "display_data"
    }
   ],
   "source": [
    "#text = \"Apple Inc. announced its latest iPhone 14 today. The CEO, Tim Cook, highlighted its new features in a press release.\"\n",
    "#text = \"The DSPy framework aims to resolve consistency and reliability issues by prioritizing declarative, systematic programming over manual prompt writing.\"\n",
    "text = \"\"\"\n",
    "The Mongol Empire was the largest contiguous empire in history. Originating in present-day Mongolia in East Asia, the empire at its height stretched from the Sea of Japan \n",
    "to Eastern Europe, extending northward into Siberia and east and southward into the Indian subcontinent, mounting invasions of Southeast Asia, and conquering the Iranian \n",
    "plateau; and reaching westward as far as the Levant and the Carpathian Mountains.\n",
    "\"\"\"\n",
    "\n",
    "extract = dspy.Predict(\"text -> title, headings: list[str], entities_and_metadata: list[dict[str, str]]\")\n",
    "md(extract(text=text))"
   ]
  },
  {
   "cell_type": "markdown",
   "id": "581875ab",
   "metadata": {},
   "source": [
    "# Agent \n",
    "https://dspy.ai/learn/programming/modules/#__tabbed_1_5"
   ]
  },
  {
   "cell_type": "code",
   "execution_count": null,
   "id": "972866b2",
   "metadata": {},
   "outputs": [
    {
     "data": {
      "text/markdown": [
       "Searching Wikipedia for:David Gregory Kinnairdy Castle year of birth"
      ],
      "text/plain": [
       "<IPython.core.display.Markdown object>"
      ]
     },
     "metadata": {},
     "output_type": "display_data"
    },
    {
     "data": {
      "text/markdown": [
       "Python code: 9362158 / 1625"
      ],
      "text/plain": [
       "<IPython.core.display.Markdown object>"
      ]
     },
     "metadata": {},
     "output_type": "display_data"
    },
    {
     "data": {
      "text/markdown": [
       "5761.328"
      ],
      "text/plain": [
       "<IPython.core.display.Markdown object>"
      ]
     },
     "metadata": {},
     "output_type": "display_data"
    }
   ],
   "source": [
    "def evaluate_math(expression: str) -> float:\n",
    "    md(\"Python code: \", expression)\n",
    "    return dspy.PythonInterpreter({}).execute(expression)\n",
    "\n",
    "def search_wikipedia(query: str) -> str:\n",
    "    md(\"Searching Wikipedia for:\", query)\n",
    "    results = dspy.ColBERTv2(url='http://20.102.90.50:2017/wiki17_abstracts')(query, k=3)\n",
    "    return [x['text'] for x in results]\n",
    "\n",
    "react = dspy.ReAct(\"question -> answer: float\", tools=[evaluate_math, search_wikipedia])\n",
    "\n",
    "pred = react(question=\"What is 9362158 divided by the year of birth of David Gregory of Kinnairdy castle?\")\n",
    "\n",
    "md(pred.answer)"
   ]
  },
  {
   "cell_type": "code",
   "execution_count": null,
   "id": "c40bd76b",
   "metadata": {},
   "outputs": [
    {
     "data": {
      "text/markdown": [
       "**Answer**: 5761.328"
      ],
      "text/plain": [
       "<IPython.core.display.Markdown object>"
      ]
     },
     "metadata": {},
     "output_type": "display_data"
    },
    {
     "data": {
      "text/markdown": [
       "**Reasoning**: To answer the question, I first determined the year of birth of David Gregory associated with Kinnairdy Castle, which is 1625. I then performed the division of 9362158 by 1625, resulting in approximately 5761.328."
      ],
      "text/plain": [
       "<IPython.core.display.Markdown object>"
      ]
     },
     "metadata": {},
     "output_type": "display_data"
    }
   ],
   "source": [
    "md(\"**Answer**: \", pred.answer)\n",
    "md(\"**Reasoning**: \", pred.reasoning)"
   ]
  },
  {
   "cell_type": "markdown",
   "id": "59a501ea",
   "metadata": {},
   "source": [
    "## Agent reasoning\n",
    "See how by looping through the trajectory we can see how the agent \n",
    "1. thinks on what to do \n",
    "1. decides on a tool to call to fetch info \n",
    "1. calls the tool \n",
    "1. observes the result of the tool"
   ]
  },
  {
   "cell_type": "code",
   "execution_count": 19,
   "id": "9667ec9b",
   "metadata": {},
   "outputs": [
    {
     "data": {
      "text/markdown": [
       "**thought_0**: : I need to find out the year of birth of David Gregory of Kinnairdy Castle in order to perform the division of 9362158 by that year. I will search for this information on Wikipedia."
      ],
      "text/plain": [
       "<IPython.core.display.Markdown object>"
      ]
     },
     "metadata": {},
     "output_type": "display_data"
    },
    {
     "data": {
      "text/markdown": [
       "**tool_name_0**: : search_wikipedia"
      ],
      "text/plain": [
       "<IPython.core.display.Markdown object>"
      ]
     },
     "metadata": {},
     "output_type": "display_data"
    },
    {
     "data": {
      "text/markdown": [
       "**tool_args_0**: : {'query': 'David Gregory Kinnairdy Castle year of birth'}"
      ],
      "text/plain": [
       "<IPython.core.display.Markdown object>"
      ]
     },
     "metadata": {},
     "output_type": "display_data"
    },
    {
     "data": {
      "text/markdown": [
       "**observation_0**: : ['David Gregory (physician) | David Gregory (20 December 1625 – 1720) was a Scottish physician and inventor. His surname is sometimes spelt as Gregorie, the original Scottish spelling. He inherited Kinnairdy Castle in 1664. Three of his twenty-nine children became mathematics professors. He is credited with inventing a military cannon that Isaac Newton described as \"being destructive to the human species\". Copies and details of the model no longer exist. Gregory\\'s use of a barometer to predict farming-related weather conditions led him to be accused of witchcraft by Presbyterian ministers from Aberdeen, although he was never convicted.', 'David Castle (cricketer) | David James Castle (born 25 May 1972 in Launceston, Tasmania) is a former cricket player who represented the Tasmanian Tigers in one first-class match.', 'David Castle (philosopher) | David Castle (born 1967 in Edmonton, Alberta) is a Canadian philosopher and bioethicist. He is Vice-President of Research at the University of Victoria. Previously he was Professor and Chair of Innovations in the Life Sciences at University of Edinburgh, where he investigated how to get others to innovate. From 2006–2010 he served as Canada Research Chair in Science and Society at the University of Ottawa where he developed ideas leading to the creation of the Institute for Science, Society and Policy.']"
      ],
      "text/plain": [
       "<IPython.core.display.Markdown object>"
      ]
     },
     "metadata": {},
     "output_type": "display_data"
    },
    {
     "data": {
      "text/markdown": [
       "**thought_1**: : I found that David Gregory, the physician associated with Kinnairdy Castle, was born on December 20, 1625. I will now perform the division of 9362158 by 1625 to find the result."
      ],
      "text/plain": [
       "<IPython.core.display.Markdown object>"
      ]
     },
     "metadata": {},
     "output_type": "display_data"
    },
    {
     "data": {
      "text/markdown": [
       "**tool_name_1**: : evaluate_math"
      ],
      "text/plain": [
       "<IPython.core.display.Markdown object>"
      ]
     },
     "metadata": {},
     "output_type": "display_data"
    },
    {
     "data": {
      "text/markdown": [
       "**tool_args_1**: : {'expression': '9362158 / 1625'}"
      ],
      "text/plain": [
       "<IPython.core.display.Markdown object>"
      ]
     },
     "metadata": {},
     "output_type": "display_data"
    },
    {
     "data": {
      "text/markdown": [
       "**observation_1**: : 5761.328"
      ],
      "text/plain": [
       "<IPython.core.display.Markdown object>"
      ]
     },
     "metadata": {},
     "output_type": "display_data"
    },
    {
     "data": {
      "text/markdown": [
       "**thought_2**: : I have completed the division and found that 9362158 divided by 1625 equals approximately 5761.328. Since I have all the information needed to finalize my answer, I will mark the task as complete."
      ],
      "text/plain": [
       "<IPython.core.display.Markdown object>"
      ]
     },
     "metadata": {},
     "output_type": "display_data"
    },
    {
     "data": {
      "text/markdown": [
       "**tool_name_2**: : finish"
      ],
      "text/plain": [
       "<IPython.core.display.Markdown object>"
      ]
     },
     "metadata": {},
     "output_type": "display_data"
    },
    {
     "data": {
      "text/markdown": [
       "**tool_args_2**: : {}"
      ],
      "text/plain": [
       "<IPython.core.display.Markdown object>"
      ]
     },
     "metadata": {},
     "output_type": "display_data"
    },
    {
     "data": {
      "text/markdown": [
       "**observation_2**: : Completed."
      ],
      "text/plain": [
       "<IPython.core.display.Markdown object>"
      ]
     },
     "metadata": {},
     "output_type": "display_data"
    }
   ],
   "source": [
    "# Loop through the trajectory to see how the agent thought and acted\n",
    "\n",
    "for r in pred.trajectory:\n",
    "    md(f\"**{r}**: \", \": \", pred.trajectory[r])"
   ]
  }
 ],
 "metadata": {
  "kernelspec": {
   "display_name": "Python 3",
   "language": "python",
   "name": "python3"
  },
  "language_info": {
   "codemirror_mode": {
    "name": "ipython",
    "version": 3
   },
   "file_extension": ".py",
   "mimetype": "text/x-python",
   "name": "python",
   "nbconvert_exporter": "python",
   "pygments_lexer": "ipython3",
   "version": "3.12.1"
  }
 },
 "nbformat": 4,
 "nbformat_minor": 5
}
