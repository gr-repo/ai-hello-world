{
 "cells": [
  {
   "cell_type": "markdown",
   "id": "2e3c8003",
   "metadata": {},
   "source": [
    "# DSPY Learn - Modules\n",
    "\n",
    "https://dspy.ai/learn/programming/modules/"
   ]
  },
  {
   "cell_type": "code",
   "execution_count": 1,
   "id": "9eac75cf",
   "metadata": {},
   "outputs": [
    {
     "name": "stdout",
     "output_type": "stream",
     "text": [
      "Getting keys from environment variables\n"
     ]
    },
    {
     "data": {
      "text/plain": [
       "['Hello! How can I assist you today?']"
      ]
     },
     "execution_count": 1,
     "metadata": {},
     "output_type": "execute_result"
    }
   ],
   "source": [
    "import sys\n",
    "import os\n",
    "import dspy \n",
    "from common.my_settings import MySettings  \n",
    "from common.utils import md\n",
    "from common.llm_client_factory import LlmClientFactory\n",
    "from dspy_utils.dspy_helpers import md_dspy\n",
    "\n",
    "settings = MySettings().get()\n",
    "\n",
    "lm_gpt35 = dspy.LM('gpt-3.5-turbo', temperature=0.8, model_type='chat', cache=False, api_key=settings.OPENAI_API_KEY)\n",
    "lm_gpt4omin = dspy.LM('gpt-4o-mini', temperature=0.9, model_type='chat', cache=False, api_key=settings.OPENAI_API_KEY)\n",
    "dspy.configure(lm=lm_gpt4omin)\n",
    "\n",
    "lm = lm_gpt4omin\n",
    "lm('hello there')\n"
   ]
  }
 ],
 "metadata": {
  "kernelspec": {
   "display_name": "Python 3",
   "language": "python",
   "name": "python3"
  },
  "language_info": {
   "codemirror_mode": {
    "name": "ipython",
    "version": 3
   },
   "file_extension": ".py",
   "mimetype": "text/x-python",
   "name": "python",
   "nbconvert_exporter": "python",
   "pygments_lexer": "ipython3",
   "version": "3.12.1"
  }
 },
 "nbformat": 4,
 "nbformat_minor": 5
}
