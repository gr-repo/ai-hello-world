{
 "cells": [
  {
   "cell_type": "markdown",
   "id": "2e3c8003",
   "metadata": {},
   "source": [
    "# DSPY Learn - Modules\n",
    "\n",
    "https://dspy.ai/learn/programming/modules/"
   ]
  },
  {
   "cell_type": "code",
   "execution_count": 1,
   "id": "57bfcd3d",
   "metadata": {},
   "outputs": [],
   "source": [
    "#!pip install dspy"
   ]
  },
  {
   "cell_type": "code",
   "execution_count": 2,
   "id": "9eac75cf",
   "metadata": {},
   "outputs": [
    {
     "name": "stdout",
     "output_type": "stream",
     "text": [
      "Getting keys from environment variables\n"
     ]
    },
    {
     "data": {
      "text/plain": [
       "['Hello! How can I assist you today?']"
      ]
     },
     "execution_count": 2,
     "metadata": {},
     "output_type": "execute_result"
    }
   ],
   "source": [
    "import dspy \n",
    "from common.my_settings import MySettings  \n",
    "from common.utils import md\n",
    "\n",
    "settings = MySettings().get()\n",
    "\n",
    "#lm_gpt35 = dspy.LM('gpt-3.5-turbo', temperature=0.8, model_type='chat', cache=False, api_key=settings.OPENAI_API_KEY)\n",
    "lm_gpt4omin = dspy.LM('gpt-4o-mini', temperature=0.9, model_type='chat', cache=False, api_key=settings.OPENAI_API_KEY)\n",
    "dspy.configure(lm=lm_gpt4omin)\n",
    "\n",
    "lm = lm_gpt4omin\n",
    "lm('hello there')\n"
   ]
  },
  {
   "cell_type": "code",
   "execution_count": 3,
   "id": "dee0d586",
   "metadata": {},
   "outputs": [
    {
     "name": "stdout",
     "output_type": "stream",
     "text": [
      "True\n"
     ]
    }
   ],
   "source": [
    "sentence = \"it's a charming and often affecting journey\"\n",
    "classify = dspy.Predict(\"sentence -> sentiment: bool\")\n",
    "response = classify(sentence=sentence)\n",
    "print(response.sentiment)"
   ]
  },
  {
   "cell_type": "code",
   "execution_count": 4,
   "id": "33accd1e",
   "metadata": {},
   "outputs": [
    {
     "data": {
      "text/plain": [
       "['One great aspect of the ColBERT retrieval module is its ability to efficiently combine the advanced contextual embeddings provided by BERT with a late interaction mechanism, enabling both high accuracy in document retrieval and reduced computational overhead during query processing.',\n",
       " \"One great aspect of the ColBERT retrieval module is its combination of high retrieval effectiveness with efficient processing, allowing for fast similarity scoring using BERT's contextualized embeddings while managing large-scale search tasks effectively.\",\n",
       " 'One great aspect of the ColBERT retrieval module is its ability to perform effective late interaction, allowing it to efficiently match contextualized query and document representations, which leads to improved retrieval effectiveness while maintaining fast processing speeds.',\n",
       " 'One great aspect of the ColBERT retrieval module is its ability to efficiently combine the rich semantic understanding of BERT with fast retrieval times, thanks to its late interaction mechanism that allows for scalability in large datasets.',\n",
       " 'One great aspect of the ColBERT retrieval module is its ability to leverage advanced contextual embeddings from BERT while maintaining high efficiency through a late interaction process, resulting in improved retrieval performance without a significant increase in computational costs.']"
      ]
     },
     "execution_count": 4,
     "metadata": {},
     "output_type": "execute_result"
    }
   ],
   "source": [
    "question = \"What's something great about the ColBERT retrieval module\"\n",
    "classify = dspy.ChainOfThought(\"question -> answer\", n=5)\n",
    "response = classify(question=question)\n",
    "response.completions.answer"
   ]
  },
  {
   "cell_type": "code",
   "execution_count": 5,
   "id": "caee55f6",
   "metadata": {},
   "outputs": [
    {
     "name": "stdout",
     "output_type": "stream",
     "text": [
      "Reasoning: ColBERT (Contextualized Late Interaction over BERT) is a retrieval module that effectively combines the benefits of contextual embeddings with efficient retrieval. One of its standout features is the ability to leverage the strengths of BERT's deep contextual representations while maintaining a highly efficient retrieval process. This is achieved through a two-stage process: first, it indexes documents with their token embeddings and then uses a late interaction mechanism to compute relevance scores during query time. This allows for a more nuanced understanding of queries and documents, leading to improved accuracy in retrieval tasks without incurring the high computational costs typically associated with full BERT inference.\n",
      "Answer: One great aspect of the ColBERT retrieval module is its ability to efficiently combine the advanced contextual embeddings provided by BERT with a late interaction mechanism, enabling both high accuracy in document retrieval and reduced computational overhead during query processing.\n"
     ]
    }
   ],
   "source": [
    "print(f\"Reasoning: {response.reasoning}\")\n",
    "print(f\"Answer: {response.answer}\")"
   ]
  },
  {
   "cell_type": "markdown",
   "id": "005912e5",
   "metadata": {},
   "source": [
    "# Math\n",
    "\n",
    "Install Deno to run the Python code"
   ]
  },
  {
   "cell_type": "code",
   "execution_count": 6,
   "id": "57cc831c",
   "metadata": {},
   "outputs": [
    {
     "name": "stdout",
     "output_type": "stream",
     "text": [
      "deno path: /home/codespace/.deno/bin\n",
      "which deno: /home/codespace/.deno/bin/deno\n"
     ]
    },
    {
     "name": "stdout",
     "output_type": "stream",
     "text": [
      "deno 2.4.5 (stable, release, x86_64-unknown-linux-gnu)\n",
      "v8 13.7.152.14-rusty\n",
      "typescript 5.8.3\n"
     ]
    },
    {
     "data": {
      "text/plain": [
       "CompletedProcess(args=['deno', '--version'], returncode=0)"
      ]
     },
     "execution_count": 6,
     "metadata": {},
     "output_type": "execute_result"
    }
   ],
   "source": [
    "# import os, pathlib, shutil, subprocess\n",
    "\n",
    "# # Point to your Deno install (Codespaces default)\n",
    "# deno_bin = str(pathlib.Path.home() / \".deno\" / \"bin\")\n",
    "\n",
    "# # Add to PATH for this kernel session\n",
    "# os.environ[\"PATH\"] = deno_bin + \":\" + os.environ.get(\"PATH\",\"\")\n",
    "\n",
    "# # (Optional) sanity checks\n",
    "# print(\"deno path:\", deno_bin)\n",
    "# print(\"which deno:\", shutil.which(\"deno\"))\n",
    "# subprocess.run([\"deno\",\"--version\"], check=True)\n"
   ]
  },
  {
   "cell_type": "code",
   "execution_count": 9,
   "id": "bd9023cd",
   "metadata": {},
   "outputs": [
    {
     "data": {
      "text/markdown": [
       "Prediction(  \n",
       "    reasoning='To find the volume of a sphere, we use the formula \\\\( V = \\\\frac{4}{3} \\\\pi r^3 \\\\), where \\\\( r \\\\) is the radius of the sphere. The diameter of the sphere is given as 3 cm, which means the radius \\\\( r \\\\) is half of the diameter: \\\\( r = \\\\frac{3}{2} = 1.5 \\\\) cm. Substituting this value into the volume formula gives us a calculated volume of approximately 14.14 cubic centimeters.',  \n",
       "    answer='The volume of the sphere with a diameter of 3 cm is approximately 14.14 cm³.'  \n",
       ")"
      ],
      "text/plain": [
       "<IPython.core.display.Markdown object>"
      ]
     },
     "metadata": {},
     "output_type": "display_data"
    }
   ],
   "source": [
    "maths = dspy.ProgramOfThought(\"question -> answer\")\n",
    "md(maths(question=\"Whats the volume of a circle that is 3cm in diameter?\"))"
   ]
  },
  {
   "cell_type": "code",
   "execution_count": 18,
   "id": "9db25cdf",
   "metadata": {},
   "outputs": [
    {
     "data": {
      "text/plain": [
       "[{'prompt': None,\n",
       "  'messages': [{'role': 'system',\n",
       "    'content': 'Your input fields are:\\n1. `question` (str):\\nYour output fields are:\\n1. `reasoning` (str): \\n2. `generated_code` (str): python code that answers the question\\nAll interactions will be structured in the following way, with the appropriate values filled in.\\n\\n[[ ## question ## ]]\\n{question}\\n\\n[[ ## reasoning ## ]]\\n{reasoning}\\n\\n[[ ## generated_code ## ]]\\n{generated_code}\\n\\n[[ ## completed ## ]]\\nIn adhering to this structure, your objective is: \\n        You will be given `question` and you will respond with `generated_code`.\\n        Generating executable Python code that programmatically computes the correct `generated_code`.\\n        After you\\'re done with the computation and think you have the answer, make sure to provide your answer by calling the preloaded function `final_answer()`.\\n        You should structure your answer in a dict object, like {\"field_a\": answer_a, ...}, evaluates to the correct value mapping for `answer`.'},\n",
       "   {'role': 'user',\n",
       "    'content': '[[ ## question ## ]]\\nWhats the volume of a circle that is 3cm in diameter?\\n\\nRespond with the corresponding output fields, starting with the field `[[ ## reasoning ## ]]`, then `[[ ## generated_code ## ]]`, and then ending with the marker for `[[ ## completed ## ]]`.'}],\n",
       "  'kwargs': {},\n",
       "  'response': ModelResponse(id='chatcmpl-CDaTmkXowxKWsN54UzM7h8EMoDitY', created=1757354526, model='gpt-4o-mini-2024-07-18', object='chat.completion', system_fingerprint='fp_8bda4d3a2c', choices=[Choices(finish_reason='stop', index=0, message=Message(content='[[ ## reasoning ## ]]\\nThe question incorrectly refers to \"the volume of a circle\". A circle is a two-dimensional shape and does not have volume; it has area. However, if we assume you meant a sphere (which is a three-dimensional shape), we can calculate its volume using the formula for the volume of a sphere: \\n\\n\\\\[ V = \\\\frac{4}{3} \\\\pi r^3 \\\\]\\n\\nwhere \\\\( r \\\\) is the radius of the sphere. Given the diameter is 3 cm, the radius \\\\( r \\\\) would be half of that, which is 1.5 cm.\\n\\n[[ ## generated_code ## ]]\\nimport math\\n\\n# Given diameter\\ndiameter = 3  # cm\\nradius = diameter / 2  # cm\\n\\n# Calculate volume of the sphere\\nvolume = (4/3) * math.pi * (radius ** 3)\\nvolume\\n\\n[[ ## completed ## ]]', role='assistant', tool_calls=None, function_call=None, provider_specific_fields={'refusal': None}, annotations=[]), provider_specific_fields={})], usage=Usage(completion_tokens=187, prompt_tokens=270, total_tokens=457, completion_tokens_details=CompletionTokensDetailsWrapper(accepted_prediction_tokens=0, audio_tokens=0, reasoning_tokens=0, rejected_prediction_tokens=0, text_tokens=None), prompt_tokens_details=PromptTokensDetailsWrapper(audio_tokens=0, cached_tokens=0, text_tokens=None, image_tokens=None)), service_tier='default'),\n",
       "  'outputs': ['[[ ## reasoning ## ]]\\nThe question incorrectly refers to \"the volume of a circle\". A circle is a two-dimensional shape and does not have volume; it has area. However, if we assume you meant a sphere (which is a three-dimensional shape), we can calculate its volume using the formula for the volume of a sphere: \\n\\n\\\\[ V = \\\\frac{4}{3} \\\\pi r^3 \\\\]\\n\\nwhere \\\\( r \\\\) is the radius of the sphere. Given the diameter is 3 cm, the radius \\\\( r \\\\) would be half of that, which is 1.5 cm.\\n\\n[[ ## generated_code ## ]]\\nimport math\\n\\n# Given diameter\\ndiameter = 3  # cm\\nradius = diameter / 2  # cm\\n\\n# Calculate volume of the sphere\\nvolume = (4/3) * math.pi * (radius ** 3)\\nvolume\\n\\n[[ ## completed ## ]]'],\n",
       "  'usage': {'completion_tokens': 187,\n",
       "   'prompt_tokens': 270,\n",
       "   'total_tokens': 457,\n",
       "   'completion_tokens_details': CompletionTokensDetailsWrapper(accepted_prediction_tokens=0, audio_tokens=0, reasoning_tokens=0, rejected_prediction_tokens=0, text_tokens=None),\n",
       "   'prompt_tokens_details': PromptTokensDetailsWrapper(audio_tokens=0, cached_tokens=0, text_tokens=None, image_tokens=None)},\n",
       "  'cost': 0.00015269999999999997,\n",
       "  'timestamp': '2025-09-08T20:02:09.037491',\n",
       "  'uuid': 'd42469d4-fce8-49b6-894c-bb512e789efc',\n",
       "  'model': 'gpt-4o-mini',\n",
       "  'response_model': 'gpt-4o-mini-2024-07-18',\n",
       "  'model_type': 'chat'},\n",
       " {'prompt': None,\n",
       "  'messages': [{'role': 'system',\n",
       "    'content': 'Your input fields are:\\n1. `question` (str): \\n2. `final_generated_code` (str): python code that answers the question\\n3. `code_output` (str): output of previously-generated python code\\nYour output fields are:\\n1. `reasoning` (str): \\n2. `answer` (str):\\nAll interactions will be structured in the following way, with the appropriate values filled in.\\n\\n[[ ## question ## ]]\\n{question}\\n\\n[[ ## final_generated_code ## ]]\\n{final_generated_code}\\n\\n[[ ## code_output ## ]]\\n{code_output}\\n\\n[[ ## reasoning ## ]]\\n{reasoning}\\n\\n[[ ## answer ## ]]\\n{answer}\\n\\n[[ ## completed ## ]]\\nIn adhering to this structure, your objective is: \\n        Given the final code `question`, `final_generated_code`, `code_output`, provide the final `answer`.'},\n",
       "   {'role': 'user',\n",
       "    'content': '[[ ## question ## ]]\\nWhats the volume of a circle that is 3cm in diameter?\\n\\n[[ ## final_generated_code ## ]]\\nimport math\\n\\n# Given diameter\\ndiameter = 3  # cm\\nradius = diameter / 2  # cm\\n\\n# Calculate volume of the sphere\\nvolume = (4/3) * math.pi * (radius ** 3)\\nvolume\\n\\n[[ ## code_output ## ]]\\n14.137166941154067\\n\\nRespond with the corresponding output fields, starting with the field `[[ ## reasoning ## ]]`, then `[[ ## answer ## ]]`, and then ending with the marker for `[[ ## completed ## ]]`.'}],\n",
       "  'kwargs': {},\n",
       "  'response': ModelResponse(id='chatcmpl-CDaTrID1i2bUCUmn3YfiGx7LCbj2W', created=1757354531, model='gpt-4o-mini-2024-07-18', object='chat.completion', system_fingerprint='fp_8bda4d3a2c', choices=[Choices(finish_reason='stop', index=0, message=Message(content='[[ ## reasoning ## ]]\\nTo find the volume of a sphere, we use the formula \\\\( V = \\\\frac{4}{3} \\\\pi r^3 \\\\), where \\\\( r \\\\) is the radius of the sphere. The diameter of the sphere is given as 3 cm, which means the radius \\\\( r \\\\) is half of the diameter: \\\\( r = \\\\frac{3}{2} = 1.5 \\\\) cm. Substituting this value into the volume formula gives us a calculated volume of approximately 14.14 cubic centimeters.\\n\\n[[ ## answer ## ]]\\nThe volume of the sphere with a diameter of 3 cm is approximately 14.14 cm³.\\n\\n[[ ## completed ## ]]', role='assistant', tool_calls=None, function_call=None, provider_specific_fields={'refusal': None}, annotations=[]), provider_specific_fields={})], usage=Usage(completion_tokens=145, prompt_tokens=316, total_tokens=461, completion_tokens_details=CompletionTokensDetailsWrapper(accepted_prediction_tokens=0, audio_tokens=0, reasoning_tokens=0, rejected_prediction_tokens=0, text_tokens=None), prompt_tokens_details=PromptTokensDetailsWrapper(audio_tokens=0, cached_tokens=0, text_tokens=None, image_tokens=None)), service_tier='default'),\n",
       "  'outputs': ['[[ ## reasoning ## ]]\\nTo find the volume of a sphere, we use the formula \\\\( V = \\\\frac{4}{3} \\\\pi r^3 \\\\), where \\\\( r \\\\) is the radius of the sphere. The diameter of the sphere is given as 3 cm, which means the radius \\\\( r \\\\) is half of the diameter: \\\\( r = \\\\frac{3}{2} = 1.5 \\\\) cm. Substituting this value into the volume formula gives us a calculated volume of approximately 14.14 cubic centimeters.\\n\\n[[ ## answer ## ]]\\nThe volume of the sphere with a diameter of 3 cm is approximately 14.14 cm³.\\n\\n[[ ## completed ## ]]'],\n",
       "  'usage': {'completion_tokens': 145,\n",
       "   'prompt_tokens': 316,\n",
       "   'total_tokens': 461,\n",
       "   'completion_tokens_details': CompletionTokensDetailsWrapper(accepted_prediction_tokens=0, audio_tokens=0, reasoning_tokens=0, rejected_prediction_tokens=0, text_tokens=None),\n",
       "   'prompt_tokens_details': PromptTokensDetailsWrapper(audio_tokens=0, cached_tokens=0, text_tokens=None, image_tokens=None)},\n",
       "  'cost': 0.00013440000000000001,\n",
       "  'timestamp': '2025-09-08T20:02:14.689366',\n",
       "  'uuid': 'eb9b412c-fb4b-4b1f-90b9-4e3f1b9e4c7a',\n",
       "  'model': 'gpt-4o-mini',\n",
       "  'response_model': 'gpt-4o-mini-2024-07-18',\n",
       "  'model_type': 'chat'}]"
      ]
     },
     "execution_count": 18,
     "metadata": {},
     "output_type": "execute_result"
    }
   ],
   "source": [
    "maths.history"
   ]
  },
  {
   "cell_type": "markdown",
   "id": "4e9562d8",
   "metadata": {},
   "source": [
    "# RAG\n"
   ]
  },
  {
   "cell_type": "code",
   "execution_count": 24,
   "id": "a020aaab",
   "metadata": {},
   "outputs": [
    {
     "data": {
      "text/plain": [
       "['David Gregory inherited the \"Glenwood Castle.\"']"
      ]
     },
     "execution_count": 24,
     "metadata": {},
     "output_type": "execute_result"
    }
   ],
   "source": [
    "lm('Whats the name of the Castle that David Gregory inherited?')"
   ]
  },
  {
   "cell_type": "code",
   "execution_count": 33,
   "id": "3a46843a",
   "metadata": {},
   "outputs": [
    {
     "data": {
      "text/markdown": [
       "**RAG with answerable question**"
      ],
      "text/plain": [
       "<IPython.core.display.Markdown object>"
      ]
     },
     "metadata": {},
     "output_type": "display_data"
    },
    {
     "data": {
      "text/markdown": [
       "**Search result**:{'text': 'David Gregory (physician) | David Gregory (20 December 1625 – 1720) was a Scottish physician and inventor. His surname is sometimes spelt as Gregorie, the original Scottish spelling. He inherited Kinnairdy Castle in 1664. Three of his twenty-nine children became mathematics professors. He is credited with inventing a military cannon that Isaac Newton described as \"being destructive to the human species\". Copies and details of the model no longer exist. Gregory\\'s use of a barometer to predict farming-related weather conditions led him to be accused of witchcraft by Presbyterian ministers from Aberdeen, although he was never convicted.', 'pid': 3296134, 'rank': 1, 'score': 25.856355667114258, 'prob': 0.9928459586069872, 'long_text': 'David Gregory (physician) | David Gregory (20 December 1625 – 1720) was a Scottish physician and inventor. His surname is sometimes spelt as Gregorie, the original Scottish spelling. He inherited Kinnairdy Castle in 1664. Three of his twenty-nine children became mathematics professors. He is credited with inventing a military cannon that Isaac Newton described as \"being destructive to the human species\". Copies and details of the model no longer exist. Gregory\\'s use of a barometer to predict farming-related weather conditions led him to be accused of witchcraft by Presbyterian ministers from Aberdeen, although he was never convicted.'}"
      ],
      "text/plain": [
       "<IPython.core.display.Markdown object>"
      ]
     },
     "metadata": {},
     "output_type": "display_data"
    },
    {
     "data": {
      "text/markdown": [
       "Prediction(  \n",
       "    reasoning='David Gregory, the Scottish physician mentioned in the context, inherited Kinnairdy Castle in 1664. The specific information about the castle is provided clearly in the first context entry.',  \n",
       "    response='The name of the castle that David Gregory inherited is Kinnairdy Castle.'  \n",
       ")"
      ],
      "text/plain": [
       "<IPython.core.display.Markdown object>"
      ]
     },
     "metadata": {},
     "output_type": "display_data"
    },
    {
     "data": {
      "text/markdown": [
       "**RAG with unanswerable question**"
      ],
      "text/plain": [
       "<IPython.core.display.Markdown object>"
      ]
     },
     "metadata": {},
     "output_type": "display_data"
    },
    {
     "data": {
      "text/markdown": [
       "**Search result**:{'text': 'David Gregory (physician) | David Gregory (20 December 1625 – 1720) was a Scottish physician and inventor. His surname is sometimes spelt as Gregorie, the original Scottish spelling. He inherited Kinnairdy Castle in 1664. Three of his twenty-nine children became mathematics professors. He is credited with inventing a military cannon that Isaac Newton described as \"being destructive to the human species\". Copies and details of the model no longer exist. Gregory\\'s use of a barometer to predict farming-related weather conditions led him to be accused of witchcraft by Presbyterian ministers from Aberdeen, although he was never convicted.', 'pid': 3296134, 'rank': 1, 'score': 25.856355667114258, 'prob': 0.9928459586069872, 'long_text': 'David Gregory (physician) | David Gregory (20 December 1625 – 1720) was a Scottish physician and inventor. His surname is sometimes spelt as Gregorie, the original Scottish spelling. He inherited Kinnairdy Castle in 1664. Three of his twenty-nine children became mathematics professors. He is credited with inventing a military cannon that Isaac Newton described as \"being destructive to the human species\". Copies and details of the model no longer exist. Gregory\\'s use of a barometer to predict farming-related weather conditions led him to be accused of witchcraft by Presbyterian ministers from Aberdeen, although he was never convicted.'}"
      ],
      "text/plain": [
       "<IPython.core.display.Markdown object>"
      ]
     },
     "metadata": {},
     "output_type": "display_data"
    },
    {
     "data": {
      "text/markdown": [
       "Prediction(  \n",
       "    reasoning='The context provided contains information about historical figures named David Gregory and Gregory Tarchaneiotes, but it does not relate to current political figures or the presidency of Germany. Since the question is about the current president of Germany, I need to draw on my training data. As of my last update, the president of Germany is Frank-Walter Steinmeier, who has been in office since March 2017.',  \n",
       "    response='The current president of Germany is Frank-Walter Steinmeier.'  \n",
       ")"
      ],
      "text/plain": [
       "<IPython.core.display.Markdown object>"
      ]
     },
     "metadata": {},
     "output_type": "display_data"
    }
   ],
   "source": [
    "def search(query: str) -> list[str]:\n",
    "    \"\"\"Retreives abstracts from wikipedia\"\"\"\n",
    "    # A COLBERT server is a vector database that can be used to store and retrieve embeddings.\n",
    "    # The line below is fetching snippets from wikiped (2017) that is hosted on a COLBERT server. \n",
    "    result = dspy.ColBERTv2(url=\"http://20.102.90.50:2017/wiki17_abstracts\")(query, k=3)\n",
    "\n",
    "    md(\"**Search result**:\", result[0])\n",
    "    return [item['text'] for item in result]\n",
    "\n",
    "rag = dspy.ChainOfThought(\"context, question -> response\")\n",
    "question = \"Whats the name of the Castle that David Gregory inherited?\"\n",
    "\n",
    "md(\"**RAG with answerable question**\")\n",
    "md(rag(context=search(question), question=question))\n",
    "\n",
    "# Uncomment the line below to see how it won't answer if the question cannot be answered from the context. \n",
    "# In the example below, the question is \"Who is the president of Germany?\" which cannot be answered from the context retrieved.\n",
    "# it should give an answer such as \"I don't know\" or \"The context does not provide this information.\"\n",
    "md(\"**RAG with unanswerable question**\")\n",
    "md(rag(context=search(question), question=\"Who is the president of Germany?\")) "
   ]
  },
  {
   "cell_type": "code",
   "execution_count": null,
   "id": "067262f4",
   "metadata": {},
   "outputs": [],
   "source": []
  }
 ],
 "metadata": {
  "kernelspec": {
   "display_name": "Python 3",
   "language": "python",
   "name": "python3"
  },
  "language_info": {
   "codemirror_mode": {
    "name": "ipython",
    "version": 3
   },
   "file_extension": ".py",
   "mimetype": "text/x-python",
   "name": "python",
   "nbconvert_exporter": "python",
   "pygments_lexer": "ipython3",
   "version": "3.12.1"
  }
 },
 "nbformat": 4,
 "nbformat_minor": 5
}
