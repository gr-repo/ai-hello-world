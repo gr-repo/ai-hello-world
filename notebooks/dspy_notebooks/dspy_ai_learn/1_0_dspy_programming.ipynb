{
 "cells": [
  {
   "cell_type": "code",
   "execution_count": 2,
   "id": "633589ea",
   "metadata": {},
   "outputs": [
    {
     "name": "stdout",
     "output_type": "stream",
     "text": [
      "Getting keys from environment variables\n"
     ]
    },
    {
     "data": {
      "text/plain": [
       "['Hello! How can I assist you today?']"
      ]
     },
     "execution_count": 2,
     "metadata": {},
     "output_type": "execute_result"
    }
   ],
   "source": [
    "import sys\n",
    "import os\n",
    "import dspy \n",
    "from common.my_settings import MySettings  \n",
    "from common.utils import md\n",
    "from common.llm_client_factory import LlmClientFactory\n",
    "from dspy_utils.dspy_helpers import md_dspy\n",
    "\n",
    "settings = MySettings().get()\n",
    "\n",
    "lm_gpt35 = dspy.LM('gpt-3.5-turbo', temperature=0.8, model_type='chat', cache=False, api_key=settings.OPENAI_API_KEY)\n",
    "lm_gpt4omin = dspy.LM('gpt-4o-mini', temperature=0.9, model_type='chat', cache=False, api_key=settings.OPENAI_API_KEY)\n",
    "dspy.configure(lm=lm_gpt4omin)\n",
    "\n",
    "lm = lm_gpt4omin\n",
    "lm('hello there')\n"
   ]
  },
  {
   "cell_type": "code",
   "execution_count": 3,
   "id": "c7b012a3",
   "metadata": {},
   "outputs": [
    {
     "data": {
      "text/plain": [
       "[\"I don't have real-time weather data, but you can easily check the current weather by using a weather website, app, or asking a voice-activated assistant. If you tell me your location, I can help you find typical weather patterns for this time of year!\"]"
      ]
     },
     "execution_count": 3,
     "metadata": {},
     "output_type": "execute_result"
    }
   ],
   "source": [
    "lm_gpt4omin('Hows the weather')"
   ]
  },
  {
   "cell_type": "code",
   "execution_count": 4,
   "id": "00323d7d",
   "metadata": {},
   "outputs": [
    {
     "data": {
      "text/plain": [
       "[{'prompt': 'hello there',\n",
       "  'messages': None,\n",
       "  'kwargs': {},\n",
       "  'response': ModelResponse(id='chatcmpl-CCSH6mwmoWhJtsitOBewrrrqih6jG', created=1757084660, model='gpt-4o-mini-2024-07-18', object='chat.completion', system_fingerprint='fp_8bda4d3a2c', choices=[Choices(finish_reason='stop', index=0, message=Message(content='Hello! How can I assist you today?', role='assistant', tool_calls=None, function_call=None, provider_specific_fields={'refusal': None}, annotations=[]), provider_specific_fields={})], usage=Usage(completion_tokens=9, prompt_tokens=9, total_tokens=18, completion_tokens_details=CompletionTokensDetailsWrapper(accepted_prediction_tokens=0, audio_tokens=0, reasoning_tokens=0, rejected_prediction_tokens=0, text_tokens=None), prompt_tokens_details=PromptTokensDetailsWrapper(audio_tokens=0, cached_tokens=0, text_tokens=None, image_tokens=None)), service_tier='default', cache_hit=None),\n",
       "  'outputs': ['Hello! How can I assist you today?'],\n",
       "  'usage': {'completion_tokens': 9,\n",
       "   'prompt_tokens': 9,\n",
       "   'total_tokens': 18,\n",
       "   'completion_tokens_details': CompletionTokensDetailsWrapper(accepted_prediction_tokens=0, audio_tokens=0, reasoning_tokens=0, rejected_prediction_tokens=0, text_tokens=None),\n",
       "   'prompt_tokens_details': PromptTokensDetailsWrapper(audio_tokens=0, cached_tokens=0, text_tokens=None, image_tokens=None)},\n",
       "  'cost': 6.75e-06,\n",
       "  'timestamp': '2025-09-05T17:04:21.523924',\n",
       "  'uuid': '4d75a17f-8060-4198-8342-d77a321bcf2e',\n",
       "  'model': 'gpt-4o-mini',\n",
       "  'response_model': 'gpt-4o-mini-2024-07-18',\n",
       "  'model_type': 'chat'},\n",
       " {'prompt': 'Hows the weather',\n",
       "  'messages': None,\n",
       "  'kwargs': {},\n",
       "  'response': ModelResponse(id='chatcmpl-CCSH8v8sFDvWoSq2wKYsz4G2a6Lzm', created=1757084662, model='gpt-4o-mini-2024-07-18', object='chat.completion', system_fingerprint='fp_8bda4d3a2c', choices=[Choices(finish_reason='stop', index=0, message=Message(content=\"I don't have real-time weather data, but you can easily check the current weather by using a weather website, app, or asking a voice-activated assistant. If you tell me your location, I can help you find typical weather patterns for this time of year!\", role='assistant', tool_calls=None, function_call=None, provider_specific_fields={'refusal': None}, annotations=[]), provider_specific_fields={})], usage=Usage(completion_tokens=53, prompt_tokens=11, total_tokens=64, completion_tokens_details=CompletionTokensDetailsWrapper(accepted_prediction_tokens=0, audio_tokens=0, reasoning_tokens=0, rejected_prediction_tokens=0, text_tokens=None), prompt_tokens_details=PromptTokensDetailsWrapper(audio_tokens=0, cached_tokens=0, text_tokens=None, image_tokens=None)), service_tier='default', cache_hit=None),\n",
       "  'outputs': [\"I don't have real-time weather data, but you can easily check the current weather by using a weather website, app, or asking a voice-activated assistant. If you tell me your location, I can help you find typical weather patterns for this time of year!\"],\n",
       "  'usage': {'completion_tokens': 53,\n",
       "   'prompt_tokens': 11,\n",
       "   'total_tokens': 64,\n",
       "   'completion_tokens_details': CompletionTokensDetailsWrapper(accepted_prediction_tokens=0, audio_tokens=0, reasoning_tokens=0, rejected_prediction_tokens=0, text_tokens=None),\n",
       "   'prompt_tokens_details': PromptTokensDetailsWrapper(audio_tokens=0, cached_tokens=0, text_tokens=None, image_tokens=None)},\n",
       "  'cost': 3.345e-05,\n",
       "  'timestamp': '2025-09-05T17:04:23.506387',\n",
       "  'uuid': '10834600-35e5-4bd2-a999-f87acc87b4b9',\n",
       "  'model': 'gpt-4o-mini',\n",
       "  'response_model': 'gpt-4o-mini-2024-07-18',\n",
       "  'model_type': 'chat'}]"
      ]
     },
     "execution_count": 4,
     "metadata": {},
     "output_type": "execute_result"
    }
   ],
   "source": [
    "lm_gpt4omin.history"
   ]
  },
  {
   "cell_type": "code",
   "execution_count": 5,
   "id": "8ac54907",
   "metadata": {},
   "outputs": [
    {
     "name": "stdout",
     "output_type": "stream",
     "text": [
      "2025-09-05 17:04:23.525684\n"
     ]
    }
   ],
   "source": [
    "from datetime import datetime\n",
    "\n",
    "print(datetime.now())"
   ]
  },
  {
   "cell_type": "code",
   "execution_count": 6,
   "id": "4829e625",
   "metadata": {},
   "outputs": [
    {
     "data": {
      "text/plain": [
       "dict_keys(['prompt', 'messages', 'kwargs', 'response', 'outputs', 'usage', 'cost', 'timestamp', 'uuid', 'model', 'response_model', 'model_type'])"
      ]
     },
     "execution_count": 6,
     "metadata": {},
     "output_type": "execute_result"
    }
   ],
   "source": [
    "len(lm.history)\n",
    "lm.history[-1].keys()"
   ]
  },
  {
   "cell_type": "code",
   "execution_count": 7,
   "id": "ed95b2d2",
   "metadata": {},
   "outputs": [
    {
     "data": {
      "text/plain": [
       "False"
      ]
     },
     "execution_count": 7,
     "metadata": {},
     "output_type": "execute_result"
    }
   ],
   "source": [
    "toxicity = dspy.Predict(\n",
    "    dspy.Signature(\n",
    "        \"comment -> toxic: bool\", \n",
    "        instructions=\"Mark as 'toxic' if the comment includes insults, harrasment or sarcastic comments\"\n",
    "    )\n",
    ")\n",
    "\n",
    "toxicity(comment=\"You are awesome\").toxic"
   ]
  },
  {
   "cell_type": "code",
   "execution_count": 8,
   "id": "62aac4f3",
   "metadata": {},
   "outputs": [
    {
     "data": {
      "text/markdown": [
       "Savor a traditional South African bobotie, a spiced minced meat dish topped with creamy egg custard, served with fragrant yellow rice."
      ],
      "text/plain": [
       "<IPython.core.display.Markdown object>"
      ]
     },
     "metadata": {},
     "output_type": "display_data"
    }
   ],
   "source": [
    "choose_meal = dspy.Predict(\n",
    "    dspy.Signature(\n",
    "    \"meal_suggestion -> description\",\n",
    "    instructions=\"Given a meal suggestion come up with a meal and desribe it in 20 words, make it sound enticing without going overboard\"\n",
    "))\n",
    "\n",
    "md(choose_meal(meal_suggestion=\"South African\").description)\n"
   ]
  },
  {
   "cell_type": "code",
   "execution_count": 9,
   "id": "9074efe7",
   "metadata": {},
   "outputs": [
    {
     "data": {
      "text/plain": [
       "'Negative'"
      ]
     },
     "execution_count": 9,
     "metadata": {},
     "output_type": "execute_result"
    }
   ],
   "source": [
    "sentence = \"Today is rainy and gloomy\"\n",
    "\n",
    "classify = dspy.Predict(\"sentence -> sentiment: str\") # change type: int, float, str, bool\n",
    "classify(sentence=sentence).sentiment"
   ]
  },
  {
   "cell_type": "code",
   "execution_count": 10,
   "id": "d06af824",
   "metadata": {},
   "outputs": [
    {
     "data": {
      "text/plain": [
       "'Arrr, let’s set sail to a tavern tonight and hear the shanties of a band!'"
      ]
     },
     "execution_count": 10,
     "metadata": {},
     "output_type": "execute_result"
    }
   ],
   "source": [
    "argh = \"Let's go to a bar tonight and listen to a band\"\n",
    "pirate_speak = dspy.Predict(\"normal_speak -> pirate_speak\")\n",
    "pirate_speak(normal_speak=argh).pirate_speak"
   ]
  },
  {
   "cell_type": "code",
   "execution_count": 11,
   "id": "0c0c6421",
   "metadata": {},
   "outputs": [
    {
     "data": {
      "text/markdown": [
       "Prediction(  \n",
       "    answer='Plant leaves are primarily green due to the presence of chlorophyll, which is essential for photosynthesis. However, leaves can also be found in a variety of other colors, including red, yellow, orange, and purple, depending on the plant species and the presence of other pigments like carotenoids and anthocyanins.'  \n",
       ")"
      ],
      "text/plain": [
       "<IPython.core.display.Markdown object>"
      ]
     },
     "metadata": {},
     "output_type": "display_data"
    }
   ],
   "source": [
    "question = \"What colour are plant leaves?\"\n",
    "reason_question = dspy.Predict(\"question -> answer\")\n",
    "md(reason_question(question=question))"
   ]
  },
  {
   "cell_type": "code",
   "execution_count": 12,
   "id": "69a2cb02",
   "metadata": {},
   "outputs": [
    {
     "data": {
      "text/plain": [
       "Prediction(\n",
       "    sentiment='sadness'\n",
       ")"
      ]
     },
     "execution_count": 12,
     "metadata": {},
     "output_type": "execute_result"
    }
   ],
   "source": [
    "from typing import Literal\n",
    "\n",
    "class Emotion(dspy.Signature):\n",
    "    \"\"\"Classify emotion\"\"\"\n",
    "    sentence: str = dspy.InputField()\n",
    "    sentiment: Literal[\"sadness\", \"joy\", \"love\", \"fear\", \"surprised\"]  = dspy.OutputField()\n",
    "\n",
    "classify = dspy.Predict(Emotion)\n",
    "classify(sentence=\"rainy day\")"
   ]
  },
  {
   "cell_type": "markdown",
   "id": "19ed06b6",
   "metadata": {},
   "source": [
    "https://dspy.ai/learn/programming/signatures/"
   ]
  },
  {
   "cell_type": "code",
   "execution_count": 13,
   "id": "289ffb7f",
   "metadata": {},
   "outputs": [
    {
     "data": {
      "text/plain": [
       "Prediction(\n",
       "    reasoning='The text states that Lee scored 3 goals for Colchester United. However, the context clearly mentions that he scored only twice for Colchester. Therefore, the statement in the text is inaccurate and not faithful to the provided context.',\n",
       "    faithfulness=0.0,\n",
       "    evidence={'scored_for_Colchester_United': [\"He scored twice for the U's but was unable to save them from relegation.\"]},\n",
       "    counter_argument={'Lee_scored_goals': {'claim': 'Lee scored 3 goals for Colchester United', 'refutation': 'The context states that he scored only twice for Colchester United.'}}\n",
       ")"
      ]
     },
     "execution_count": 13,
     "metadata": {},
     "output_type": "execute_result"
    }
   ],
   "source": [
    "class CheckCitationOfFaithfulness(dspy.Signature):\n",
    "    \"\"\"Verify that the text is based on the provided context.\"\"\"\n",
    "    context: str = dspy.InputField(desc=\"Facts here are assumed to be true\")\n",
    "    text: str = dspy.InputField()\n",
    "    faithfulness: float = dspy.OutputField()\n",
    "    evidence: dict[str, list[str]] = dspy.OutputField(desc=\"Supporting evidence for claims\")\n",
    "    counter_argument: dict[str, dict[str, str]] = dspy.OutputField(desc=\"Give a counter argument to this\")\n",
    "\n",
    "context = \"\"\"\n",
    "The 21-year-old made seven appearances for the Hammers and netted his only \n",
    "goal for them in a Europa League qualification round match against Andorran side \n",
    "FC Lustrains last season. Lee had two loan spells in League One last term, \n",
    "with Blackpool and then Colchester United. He scored twice for the U's but \n",
    "was unable to save them from relegation. \n",
    "The length of Lee's contract with the promoted Tykes has not been revealed. \n",
    "Find all the latest football transfers on our dedicated page.\n",
    "\"\"\"\n",
    "text = \"Lee scored 3 goals for the Colchester United\"\n",
    "\n",
    "faithfulness = dspy.ChainOfThought(CheckCitationOfFaithfulness)\n",
    "faithfulness(context=context, text=text)\n"
   ]
  },
  {
   "cell_type": "markdown",
   "id": "67245dd2",
   "metadata": {},
   "source": [
    "# Custom Types"
   ]
  },
  {
   "cell_type": "code",
   "execution_count": null,
   "id": "cc630f1c",
   "metadata": {},
   "outputs": [
    {
     "data": {
      "text/markdown": [
       "Prediction(  \n",
       "    meal='Spaghetti Carbonara',  \n",
       "    description='A classic Italian pasta dish featuring spaghetti coated in a creamy sauce made from eggs, cheese, pancetta, and pepper.',  \n",
       "    ingredients=[Ingredient(ingredient='Spaghetti', description='Long, thin pasta made from durum wheat, ideal for various sauces and cooking methods.', taste_profile='Nutty, chewy, and absorbs flavors well.', shop=shop_to_obtain(item='Spaghetti', shop_name='Pasta Shop', address='123 Pasta Lane, Food City', opening_hours='9 AM - 8 PM')), Ingredient(ingredient='Pancetta', description='Italian cured meat made from pork belly, providing a rich and savory flavor to dishes.', taste_profile='Savory, salty, and slightly sweet.', shop=shop_to_obtain(item='Pancetta', shop_name='Meat Market', address='456 Meat Ave, Food City', opening_hours='8 AM - 6 PM')), Ingredient(ingredient='Eggs', description='Versatile protein-rich food often used in cooking, providing creaminess and richness to dishes.', taste_profile='Rich, creamy, and slightly savory.', shop=shop_to_obtain(item='Eggs', shop_name='Farm Fresh', address='789 Farm Rd, Food City', opening_hours='7 AM - 7 PM')), Ingredient(ingredient='Parmesan cheese', description='A hard, aged cheese with a strong flavor, commonly sprinkled over pasta dishes for added depth.', taste_profile='Nutty, salty, and sharp.', shop=shop_to_obtain(item='Parmesan cheese', shop_name='Cheese Delights', address='321 Cheese Blvd, Food City', opening_hours='10 AM - 5 PM')), Ingredient(ingredient='Black pepper', description='A common spice known for its pungent flavor and heat, enhancing the taste of many dishes.', taste_profile='Pungent, spicy, and slightly woody.', shop=shop_to_obtain(item='Black pepper', shop_name='Spice Corner', address='654 Spice St, Food City', opening_hours='9 AM - 6 PM'))]  \n",
       ")"
      ],
      "text/plain": [
       "<IPython.core.display.Markdown object>"
      ]
     },
     "metadata": {},
     "output_type": "display_data"
    }
   ],
   "source": [
    "class shop_to_obtain(dspy.Signature):\n",
    "    \"\"\" Suggest a shop to obtain an item\"\"\"\n",
    "    item: str = dspy.InputField(desc=\"An item to obtain\")\n",
    "    shop_name: str = dspy.OutputField(desc=\"A shop where the item can be obtained\")\n",
    "    address: str = dspy.OutputField(desc=\"The address of the shop\")\n",
    "    opening_hours: str = dspy.OutputField(desc=\"The opening hours of the shop\")\n",
    "\n",
    "class Ingredient(dspy.Signature):\n",
    "    \"\"\" Describe a meal ingredient\"\"\"\n",
    "    ingredient: str = dspy.InputField(desc=\"An ingredient\")\n",
    "    description: str = dspy.OutputField(desc=\"A description of the ingredient in 20 words\")\n",
    "    taste_profile: str = dspy.OutputField(desc=\"The taste profile of the ingredient in 10 words\")\n",
    "    shop: shop_to_obtain = dspy.OutputField(desc=\"A shop to obtain the ingredient\")\n",
    "    \n",
    "\n",
    "class Meal(dspy.Signature):\n",
    "    \"\"\"Suggest a meal based on the cuisine\"\"\"\n",
    "    meal_suggestion: str = dspy.InputField(desc=\"Suggest a meal\")\n",
    "    meal: str = dspy.OutputField(desc=\"A meal that fits the cuisine\")\n",
    "    description: str = dspy.OutputField(desc=\"A description of the meal in 20 words\")\n",
    "    ingredients: list[Ingredient] = dspy.OutputField(desc=\"List of ingredients for the meal\")\n",
    "\n",
    "meal = dspy.Predict(Meal)\n",
    "md(meal(meal_suggestion=\"Italian\"))\n"
   ]
  },
  {
   "cell_type": "markdown",
   "id": "a0667a51",
   "metadata": {},
   "source": [
    "# Images"
   ]
  },
  {
   "cell_type": "code",
   "execution_count": 22,
   "id": "d27490be",
   "metadata": {},
   "outputs": [
    {
     "data": {
      "text/markdown": [
       "Prediction(  \n",
       "    answer='Labrador Retriever'  \n",
       ")"
      ],
      "text/plain": [
       "<IPython.core.display.Markdown object>"
      ]
     },
     "metadata": {},
     "output_type": "display_data"
    },
    {
     "data": {
      "text/html": [
       "<img src=\"https://fastly.picsum.photos/id/237/200/300.jpg?hmac=TmmQSbShHz9CdQm0NkEjx1Dyh_Y984R9LpNrpvH2D_U\"/>"
      ],
      "text/plain": [
       "<IPython.core.display.Image object>"
      ]
     },
     "metadata": {},
     "output_type": "display_data"
    },
    {
     "data": {
      "text/markdown": [
       "None"
      ],
      "text/plain": [
       "<IPython.core.display.Markdown object>"
      ]
     },
     "metadata": {},
     "output_type": "display_data"
    }
   ],
   "source": [
    "from IPython.display import Image, display\n",
    "\n",
    "class PictureSignature(dspy.Signature):\n",
    "    \"\"\"Output the dog breed of the picture\"\"\"\n",
    "    image_1: dspy.Image = dspy.InputField(desc=\"An image of a dog\")\n",
    "    answer: str = dspy.OutputField(desc=\"The dog breed of the dog in the picture\")\n",
    "\n",
    "picture = dspy.Predict(PictureSignature)\n",
    "md(picture(image_1=dspy.Image.from_url(\"https://fastly.picsum.photos/id/237/200/300.jpg?hmac=TmmQSbShHz9CdQm0NkEjx1Dyh_Y984R9LpNrpvH2D_U\")))\n",
    "md(display(Image(url=\"https://fastly.picsum.photos/id/237/200/300.jpg?hmac=TmmQSbShHz9CdQm0NkEjx1Dyh_Y984R9LpNrpvH2D_U\")))"
   ]
  },
  {
   "cell_type": "code",
   "execution_count": 24,
   "id": "8ec7a989",
   "metadata": {},
   "outputs": [
    {
     "data": {
      "text/markdown": [
       "Prediction(  \n",
       "    description='A statue of a woman sitting on a bench, accompanied by a dog, in a public square setting.',  \n",
       "    country='Unknown',  \n",
       "    time_of_day='Daytime'  \n",
       ")"
      ],
      "text/plain": [
       "<IPython.core.display.Markdown object>"
      ]
     },
     "metadata": {},
     "output_type": "display_data"
    },
    {
     "data": {
      "text/html": [
       "<img src=\"https://thfvnext.bing.com/th/id/OIP.SgJROEuAItyr77TAKXSUKQHaF7?cb=thfvnext&rs=1&pid=ImgDetMain&o=7&rm=3\"/>"
      ],
      "text/plain": [
       "<IPython.core.display.Image object>"
      ]
     },
     "metadata": {},
     "output_type": "display_data"
    },
    {
     "data": {
      "text/markdown": [
       "Prediction(  \n",
       "    description='A surfer skillfully rides a large wave, surrounded by misty tropical foliage under a cloudy sky.',  \n",
       "    country='It looks like it could be in a tropical country, possibly Hawaii or Indonesia.',  \n",
       "    time_of_day='The time of day appears to be early morning or late afternoon.'  \n",
       ")"
      ],
      "text/plain": [
       "<IPython.core.display.Markdown object>"
      ]
     },
     "metadata": {},
     "output_type": "display_data"
    },
    {
     "data": {
      "text/html": [
       "<img src=\"https://th.bing.com/th/id/R.13eea3b5c84adcea91409e15c03fe8f4?rik=RkKRFRv4b5Votw&pid=ImgRaw&r=0\"/>"
      ],
      "text/plain": [
       "<IPython.core.display.Image object>"
      ]
     },
     "metadata": {},
     "output_type": "display_data"
    },
    {
     "data": {
      "text/markdown": [
       "Prediction(  \n",
       "    description='Luxurious villa with a swimming pool, sun loungers, and lush greenery under clear blue skies, perfect for relaxation.',  \n",
       "    country='Unknown',  \n",
       "    time_of_day='Daytime'  \n",
       ")"
      ],
      "text/plain": [
       "<IPython.core.display.Markdown object>"
      ]
     },
     "metadata": {},
     "output_type": "display_data"
    },
    {
     "data": {
      "text/html": [
       "<img src=\"https://lushpalm.com/wp-content/uploads/2018/05/bali-surf-camps-15.jpg\"/>"
      ],
      "text/plain": [
       "<IPython.core.display.Image object>"
      ]
     },
     "metadata": {},
     "output_type": "display_data"
    },
    {
     "data": {
      "text/markdown": [
       "Prediction(  \n",
       "    description='A scenic river view with a green park, bridge, and city skyline under a bright blue sky with fluffy clouds.',  \n",
       "    country='United States',  \n",
       "    time_of_day='Daytime'  \n",
       ")"
      ],
      "text/plain": [
       "<IPython.core.display.Markdown object>"
      ]
     },
     "metadata": {},
     "output_type": "display_data"
    },
    {
     "data": {
      "text/html": [
       "<img src=\"https://thfvnext.bing.com/th/id/OIF.ruMvqnNb7DCPUSaEdR9iMQ?cb=thfvnext&rs=1&pid=ImgDetMain&o=7&rm=3\"/>"
      ],
      "text/plain": [
       "<IPython.core.display.Image object>"
      ]
     },
     "metadata": {},
     "output_type": "display_data"
    },
    {
     "data": {
      "text/markdown": [
       "Prediction(  \n",
       "    description='A colorful assortment of fruits includes bananas, apples, grapes, lemons, strawberries, and kiwi in a woven basket.',  \n",
       "    country='Not specified',  \n",
       "    time_of_day='Not specified'  \n",
       ")"
      ],
      "text/plain": [
       "<IPython.core.display.Markdown object>"
      ]
     },
     "metadata": {},
     "output_type": "display_data"
    },
    {
     "data": {
      "text/html": [
       "<img src=\"https://thfvnext.bing.com/th/id/OIP.c6Tbz7IbCn9bVXzXQSOqhgHaFN?cb=thfvnext&rs=1&pid=ImgDetMain&o=7&rm=3\"/>"
      ],
      "text/plain": [
       "<IPython.core.display.Image object>"
      ]
     },
     "metadata": {},
     "output_type": "display_data"
    }
   ],
   "source": [
    "class MyPicture(dspy.Signature):\n",
    "    \"\"\"Describe the image in 20 words\"\"\"\n",
    "    image_1: dspy.Image = dspy.InputField(desc=\"An image\")\n",
    "    description: str = dspy.OutputField(desc=\"Describe the image in 20 words\")\n",
    "    country: str = dspy.OutputField(desc=\"What country does it look like it's in?\")\n",
    "    time_of_day: str = dspy.OutputField(desc=\"What time of day is it?\")\n",
    "\n",
    "images = [\n",
    "    \"https://thfvnext.bing.com/th/id/OIP.SgJROEuAItyr77TAKXSUKQHaF7?cb=thfvnext&rs=1&pid=ImgDetMain&o=7&rm=3\",\n",
    "    \"https://th.bing.com/th/id/R.13eea3b5c84adcea91409e15c03fe8f4?rik=RkKRFRv4b5Votw&pid=ImgRaw&r=0\",\n",
    "    \"https://lushpalm.com/wp-content/uploads/2018/05/bali-surf-camps-15.jpg\",\n",
    "    \"https://thfvnext.bing.com/th/id/OIF.ruMvqnNb7DCPUSaEdR9iMQ?cb=thfvnext&rs=1&pid=ImgDetMain&o=7&rm=3\",\n",
    "    \"https://thfvnext.bing.com/th/id/OIP.c6Tbz7IbCn9bVXzXQSOqhgHaFN?cb=thfvnext&rs=1&pid=ImgDetMain&o=7&rm=3\"\n",
    "]\n",
    "\n",
    "describe = dspy.Predict(MyPicture)\n",
    "for i in images:\n",
    "    md(describe(image_1=dspy.Image.from_url(i)))    \n",
    "    display(Image(url=i))\n",
    "\n"
   ]
  }
 ],
 "metadata": {
  "kernelspec": {
   "display_name": "Python 3",
   "language": "python",
   "name": "python3"
  },
  "language_info": {
   "codemirror_mode": {
    "name": "ipython",
    "version": 3
   },
   "file_extension": ".py",
   "mimetype": "text/x-python",
   "name": "python",
   "nbconvert_exporter": "python",
   "pygments_lexer": "ipython3",
   "version": "3.12.1"
  }
 },
 "nbformat": 4,
 "nbformat_minor": 5
}
