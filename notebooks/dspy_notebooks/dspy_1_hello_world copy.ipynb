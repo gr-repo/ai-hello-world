{
 "cells": [
  {
   "cell_type": "markdown",
   "metadata": {},
   "source": [
    "# Simple DSPy Hello World Example\n",
    "\n"
   ]
  },
  {
   "cell_type": "code",
   "execution_count": 4,
   "metadata": {},
   "outputs": [],
   "source": [
    "#!pip install dspy"
   ]
  },
  {
   "cell_type": "code",
   "execution_count": 2,
   "metadata": {},
   "outputs": [
    {
     "ename": "ModuleNotFoundError",
     "evalue": "No module named 'bootstrap'",
     "output_type": "error",
     "traceback": [
      "\u001b[31m---------------------------------------------------------------------------\u001b[39m",
      "\u001b[31mModuleNotFoundError\u001b[39m                       Traceback (most recent call last)",
      "\u001b[36mCell\u001b[39m\u001b[36m \u001b[39m\u001b[32mIn[2]\u001b[39m\u001b[32m, line 1\u001b[39m\n\u001b[32m----> \u001b[39m\u001b[32m1\u001b[39m \u001b[38;5;28;01mimport\u001b[39;00m\u001b[38;5;250m \u001b[39m\u001b[34;01mbootstrap\u001b[39;00m\n\u001b[32m      2\u001b[39m \u001b[38;5;28;01mimport\u001b[39;00m\u001b[38;5;250m \u001b[39m\u001b[34;01mcommon\u001b[39;00m \n\u001b[32m      3\u001b[39m \u001b[38;5;28;01mfrom\u001b[39;00m\u001b[38;5;250m \u001b[39m\u001b[34;01mcommon\u001b[39;00m\u001b[34;01m.\u001b[39;00m\u001b[34;01mutils\u001b[39;00m\u001b[38;5;250m \u001b[39m\u001b[38;5;28;01mimport\u001b[39;00m md\n",
      "\u001b[31mModuleNotFoundError\u001b[39m: No module named 'bootstrap'"
     ]
    }
   ],
   "source": [
    "import bootstrap\n",
    "import common \n",
    "from common.utils import md\n",
    "\n",
    "settings = common.MySettings().get()"
   ]
  },
  {
   "cell_type": "code",
   "execution_count": null,
   "metadata": {},
   "outputs": [
    {
     "data": {
      "text/markdown": [
       "The moon! Our closest celestial neighbor, a constant presence in the night sky, and a source of fascination for humans for centuries. Here's a comprehensive overview of the moon:\n",
       "\n",
       "**Orbit and Size**\n",
       "\n",
       "The moon is Earth's only natural satellite, orbiting our planet at an average distance of about 239,000 miles (384,000 kilometers). It's a relatively small body, with a diameter of about 2,159 miles (3,475 kilometers), which is roughly one-quarter the size of Earth.\n",
       "\n",
       "**Composition**\n",
       "\n",
       "The moon is a rocky, airless body composed of a variety of minerals, including feldspar, pyroxene, and olivine. Its surface is covered with a layer of regolith, a mixture of crushed rock and glass particles created by meteorite impacts.\n",
       "\n",
       "**Phases**\n",
       "\n",
       "The moon orbits Earth in about 27.3 days, which is the same amount of time it takes to complete one cycle of phases. The phases of the moon are:\n",
       "\n",
       "1. New Moon: The side of the moon facing Earth is not illuminated by the sun.\n",
       "2. Waxing Crescent: The moon appears to be growing larger as more of its illuminated surface is visible from Earth.\n",
       "3. First Quarter: The moon is half-illuminated, with the right half visible from Earth.\n",
       "4. Waxing Gibbous: The moon continues to appear larger and fuller as it approaches full moon.\n",
       "5. Full Moon: The entire face of the moon is illuminated by the sun, making it fully visible from Earth.\n",
       "6. Waning Gibbous: The moon appears to be decreasing in size as less of its illuminated surface is visible from Earth.\n",
       "7. Last Quarter: The left half of the moon is illuminated, with the right half in shadow.\n",
       "8. Waning Crescent: The moon appears as a thin crescent in the sky as it approaches the new moon phase.\n",
       "\n",
       "**Surface Features**\n",
       "\n",
       "The moon's surface is characterized by:\n",
       "\n",
       "1. **Craters**: Formed by asteroid and comet impacts, these can be found all over the moon's surface.\n",
       "2. **Maria**: Large, dark basaltic plains formed by ancient volcanic eruptions.\n",
       "3. **Highlands**: Mountainous regions composed of older, heavily cratered terrain.\n",
       "4. **Rilles**: Long, narrow channels formed by lava flows or tectonic activity.\n",
       "\n",
       "**Exploration**\n",
       "\n",
       "Humans have been fascinated by the moon for centuries, and it was finally visited by astronauts during the Apollo program in the late 1960s and early 1970s. A total of six manned missions landed on the moon between 1969 and 1972, with the first being Apollo 11 in July 1969.\n",
       "\n",
       "**Interesting Facts**\n",
       "\n",
       "1. The moon is moving away from Earth at a rate of about 1.5 inches (3.8 centimeters) per year.\n",
       "2. The moon has no atmosphere, which means there is no wind, weather, or sound on its surface.\n",
       "3. The moon's gravity is only about one-sixth of Earth's, which is why astronauts can jump higher on the moon than on our planet.\n",
       "4. The moon is not round in shape, but is actually an ellipsoid, meaning it's slightly flattened at the poles and bulging at the equator.\n",
       "\n",
       "I hope you found this overview of the moon interesting! Do you have any specific questions or topics you'd like to explore further?"
      ],
      "text/plain": [
       "<IPython.core.display.Markdown object>"
      ]
     },
     "metadata": {},
     "output_type": "display_data"
    }
   ],
   "source": [
    "import dspy \n",
    "\n",
    "prompt = 'Tell me about the moon'\n",
    "\n",
    "lm = dspy.LM(\n",
    "    'databricks/databricks-meta-llama-3-3-70b-instruct', \n",
    "    model_type='chat', \n",
    "    cache=False, \n",
    "    api_key = settings.DATABRICKS_TOKEN, \n",
    "    api_base = f'https://{settings.DATABRICKS_ACCOUNT}.cloud.databricks.com/serving-endpoints'\n",
    ")\n",
    "\n",
    "dspy.configure(lm=lm)\n",
    "output = lm(prompt)[0]\n",
    "\n",
    "md(output)"
   ]
  },
  {
   "cell_type": "code",
   "execution_count": null,
   "metadata": {},
   "outputs": [
    {
     "data": {
      "text/markdown": [
       "**Model:** databricks/databricks-meta-llama-3-3-70b-instruct"
      ],
      "text/plain": [
       "<IPython.core.display.Markdown object>"
      ]
     },
     "metadata": {},
     "output_type": "display_data"
    }
   ],
   "source": [
    "# Show model that was called\n",
    "md('**Model:** ' + lm.model)"
   ]
  },
  {
   "cell_type": "code",
   "execution_count": null,
   "metadata": {},
   "outputs": [],
   "source": [
    "# Call LLM\n",
    "client = dspy.ChainOfThought(\"question -> answer: float\")\n",
    "response = client(question=\"Two dice are tossed. What is the probability that the sum equals two?\")"
   ]
  },
  {
   "cell_type": "code",
   "execution_count": null,
   "metadata": {},
   "outputs": [
    {
     "data": {
      "text/markdown": [
       "**Reasoning:** To find the probability that the sum of two dice equals two, we need to consider all possible outcomes when two dice are tossed. Each die has 6 faces, so there are 6 * 6 = 36 possible outcomes. The only way to get a sum of two is if both dice show a 1. There is only 1 outcome where both dice show a 1. So, the probability is the number of favorable outcomes (1) divided by the total number of outcomes (36)."
      ],
      "text/plain": [
       "<IPython.core.display.Markdown object>"
      ]
     },
     "metadata": {},
     "output_type": "display_data"
    },
    {
     "data": {
      "text/markdown": [
       "**Answer:** 0.01"
      ],
      "text/plain": [
       "<IPython.core.display.Markdown object>"
      ]
     },
     "metadata": {},
     "output_type": "display_data"
    }
   ],
   "source": [
    "md(\"**Reasoning:** \", response.reasoning)\n",
    "md(\"**Answer:** \", response.answer)"
   ]
  }
 ],
 "metadata": {
  "kernelspec": {
   "display_name": "Python 3",
   "language": "python",
   "name": "python3"
  },
  "language_info": {
   "codemirror_mode": {
    "name": "ipython",
    "version": 3
   },
   "file_extension": ".py",
   "mimetype": "text/x-python",
   "name": "python",
   "nbconvert_exporter": "python",
   "pygments_lexer": "ipython3",
   "version": "3.12.1"
  }
 },
 "nbformat": 4,
 "nbformat_minor": 2
}
