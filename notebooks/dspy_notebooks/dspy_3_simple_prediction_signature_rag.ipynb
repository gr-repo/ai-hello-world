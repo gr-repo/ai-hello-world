{
 "cells": [
  {
   "cell_type": "markdown",
   "metadata": {},
   "source": [
    "# DSPy \n"
   ]
  },
  {
   "cell_type": "markdown",
   "metadata": {},
   "source": [
    " Guide: YouTube - [Let the LLM Write the Prompts: An Intro to DSPy in Compound AI Pipelines](https://www.youtube.com/watch?v=I9ZtkgYZnOw)"
   ]
  },
  {
   "cell_type": "code",
   "execution_count": 27,
   "metadata": {},
   "outputs": [],
   "source": [
    "#!pip install dspy"
   ]
  },
  {
   "cell_type": "code",
   "execution_count": 28,
   "metadata": {},
   "outputs": [],
   "source": [
    "import sys\n",
    "import os\n",
    "import dspy \n",
    "from common.my_settings import MySettings  \n",
    "from common.utils import md\n",
    "from common.llm_client_factory import LlmClientFactory\n",
    "from dspy_utils.dspy_helpers import md_dspy\n",
    "\n",
    "settings = MySettings().get()"
   ]
  },
  {
   "cell_type": "code",
   "execution_count": 29,
   "metadata": {},
   "outputs": [],
   "source": [
    "lm = dspy.LM(\n",
    "    'gpt-4.1',  # Changed from gpt-4o to gpt-3.5-turbo\n",
    "    model_type='chat', \n",
    "    cache=False, \n",
    "    api_key=os.getenv(\"OPENAI_API_KEY\")\n",
    ")\n",
    "\n",
    "dspy.configure(lm=lm)"
   ]
  },
  {
   "cell_type": "markdown",
   "metadata": {},
   "source": [
    "## Prediction\n",
    "14m 52s in video"
   ]
  },
  {
   "cell_type": "code",
   "execution_count": 30,
   "metadata": {},
   "outputs": [],
   "source": [
    "# Define a module predict and assign it a signature\n",
    "predict = dspy.Predict('question -> answer')"
   ]
  },
  {
   "cell_type": "code",
   "execution_count": 31,
   "metadata": {},
   "outputs": [],
   "source": [
    "# Call LLM for prediction\n",
    "prediction = predict(question='Why is the sky blue?')"
   ]
  },
  {
   "cell_type": "code",
   "execution_count": 32,
   "metadata": {},
   "outputs": [
    {
     "data": {
      "text/markdown": [
       "<class 'dspy.primitives.prediction.Prediction'>"
      ],
      "text/plain": [
       "<IPython.core.display.Markdown object>"
      ]
     },
     "metadata": {},
     "output_type": "display_data"
    },
    {
     "data": {
      "text/markdown": [
       "**Answer**  \n",
       "\n",
       "The sky appears blue because of a phenomenon called Rayleigh scattering. As sunlight passes through Earth's atmosphere, the shorter blue wavelengths of light are scattered in all directions by the gases and particles in the air more than the longer red wavelengths. This scattered blue light is what we see when we look up at the sky."
      ],
      "text/plain": [
       "<IPython.core.display.Markdown object>"
      ]
     },
     "metadata": {},
     "output_type": "display_data"
    }
   ],
   "source": [
    "md(type(prediction))\n",
    "md(\"**Answer**  \", \"\", prediction.answer)"
   ]
  },
  {
   "cell_type": "markdown",
   "metadata": {},
   "source": [
    "# Signatures\n",
    "\n",
    "Location 16:43 in video"
   ]
  },
  {
   "cell_type": "code",
   "execution_count": 33,
   "metadata": {},
   "outputs": [],
   "source": [
    "# Create classes\n",
    "\n",
    "import dspy \n",
    "from pydantic import BaseModel\n",
    "from typing import Literal\n",
    "\n",
    "class Place(BaseModel):\n",
    "    address: str = dspy.InputField()\n",
    "    name: str = dspy.InputField()\n",
    "    \n",
    "class PlaceMatcher(dspy.Signature):\n",
    "    \"\"\"\n",
    "    Verify that the text is based on the provided context.\n",
    "    \"\"\"\n",
    "    # Inputs\n",
    "    place_one: Place = dspy.InputField()\n",
    "    place_two: Place = dspy.InputField()\n",
    "    \n",
    "    # Outputs\n",
    "    is_match: bool = dspy.OutputField(desc=\"Do the two places refer to the same place?\")\n",
    "    match_confidence: Literal[\"low\", \"medium\", \"high\"] = dspy.OutputField()\n",
    "    rationale: str = dspy.OutputField(desc=\"Rationale for the match decision\")"
   ]
  },
  {
   "cell_type": "code",
   "execution_count": 34,
   "metadata": {},
   "outputs": [],
   "source": [
    "# Call LLM\n",
    "predict = dspy.Predict(PlaceMatcher)\n",
    "result = predict(place_one=Place(address=\"123 Main St, Springfield\", name=\"Springfield Library\"),\n",
    "                 place_two=Place(address=\"123 Main St, Springfield\", name=\"Springfield Public Library\"))"
   ]
  },
  {
   "cell_type": "code",
   "execution_count": 35,
   "metadata": {},
   "outputs": [
    {
     "data": {
      "text/markdown": [
       "Prediction(\n",
       "    is_match=True,\n",
       "    match_confidence='high',\n",
       "    rationale='Both entries share the exact same address (\"123 Main St, Springfield\"), and their names are highly similar, differing only by the inclusion of \"Public\" in the second name. It is common for institutions like libraries to be referred to both with and without the word \"Public\" in their names. Given the identical address and the strong similarity in names, it is highly likely these refer to the same place.'\n",
       ")"
      ],
      "text/plain": [
       "<IPython.core.display.Markdown object>"
      ]
     },
     "metadata": {},
     "output_type": "display_data"
    }
   ],
   "source": [
    "md(result)"
   ]
  },
  {
   "cell_type": "markdown",
   "metadata": {},
   "source": [
    "# Simple RAG\n"
   ]
  },
  {
   "cell_type": "code",
   "execution_count": 36,
   "metadata": {},
   "outputs": [],
   "source": [
    "# %pip install deno"
   ]
  },
  {
   "cell_type": "code",
   "execution_count": 37,
   "metadata": {},
   "outputs": [],
   "source": [
    "# Setup\n",
    "\n",
    "def evaluate_math(expression: str):\n",
    "    return dspy.PythonInterpreter({}).execute(expression)\n",
    "\n",
    "# test function\n",
    "# md(evaluate_math('2 + 3'))\n",
    "\n",
    "react = dspy.ReAct(\"question -> answer: float\", tools=[evaluate_math])"
   ]
  },
  {
   "cell_type": "code",
   "execution_count": 38,
   "metadata": {},
   "outputs": [],
   "source": [
    "# Call LLM\n",
    "result = react(question=\"What is the volume of Earth?\")"
   ]
  },
  {
   "cell_type": "code",
   "execution_count": null,
   "metadata": {},
   "outputs": [
    {
     "name": "stdout",
     "output_type": "stream",
     "text": [
      "<class 'dspy.primitives.prediction.Prediction'>\n",
      "Prediction(\n",
      "    is_match=True,\n",
      "    match_confidence='high',\n",
      "    rationale='Both entries share the exact same address (\"123 Main St, Springfield\"), and their names are highly similar, differing only by the inclusion of \"Public\" in the second name. It is common for libraries to be referred to both with and without \"Public\" in their names. Given the identical address and the strong similarity in names, it is highly likely these refer to the same place.'\n",
      ")\n"
     ]
    }
   ],
   "source": [
    "print(result)"
   ]
  },
  {
   "cell_type": "code",
   "execution_count": 39,
   "metadata": {},
   "outputs": [
    {
     "data": {
      "text/markdown": [
       "**Answer**: 1083210000000.0"
      ],
      "text/plain": [
       "<IPython.core.display.Markdown object>"
      ]
     },
     "metadata": {},
     "output_type": "display_data"
    },
    {
     "data": {
      "text/markdown": [
       "**Reasoning**: The volume of a sphere is calculated using the formula V = (4/3) * π * r^3. The average radius of Earth is about 6,371 km. Plugging this value into the formula gives a volume of approximately 1.08321 × 10^12 km³, which is a widely accepted scientific value."
      ],
      "text/plain": [
       "<IPython.core.display.Markdown object>"
      ]
     },
     "metadata": {},
     "output_type": "display_data"
    },
    {
     "data": {
      "text/markdown": [
       "**Trajectory**:"
      ],
      "text/plain": [
       "<IPython.core.display.Markdown object>"
      ]
     },
     "metadata": {},
     "output_type": "display_data"
    },
    {
     "data": {
      "text/markdown": [
       "* **thought_0**: The volume of a sphere is given by the formula V = (4/3) * π * r^3. The average radius of Earth is about 6,371 km. I will use this value to calculate the volume."
      ],
      "text/plain": [
       "<IPython.core.display.Markdown object>"
      ]
     },
     "metadata": {},
     "output_type": "display_data"
    },
    {
     "data": {
      "text/markdown": [
       "* **tool_name_0**: evaluate_math"
      ],
      "text/plain": [
       "<IPython.core.display.Markdown object>"
      ]
     },
     "metadata": {},
     "output_type": "display_data"
    },
    {
     "data": {
      "text/markdown": [
       "* **tool_args_0**: {'expression': '(4/3) * pi * (6371**3)'}"
      ],
      "text/plain": [
       "<IPython.core.display.Markdown object>"
      ]
     },
     "metadata": {},
     "output_type": "display_data"
    },
    {
     "data": {
      "text/markdown": [
       "* **observation_0**: Execution error in evaluate_math: \n",
       "Traceback (most recent call last):\n",
       "  File \"/usr/local/python/3.12.1/lib/python3.12/site-packages/dspy/primitives/python_interpreter.py\", line 124, in _ensure_deno_process\n",
       "    self.deno_process = subprocess.Popen(\n",
       "                        ^^^^^^^^^^^^^^^^^\n",
       "  File \"/usr/local/python/3.12.1/lib/python3.12/subprocess.py\", line 1026, in __init__\n",
       "    self._execute_child(args, executable, preexec_fn, close_fds,\n",
       "  File \"/usr/local/python/3.12.1/lib/python3.12/subprocess.py\", line 1950, in _execute_child\n",
       "    raise child_exception_type(errno_num, err_msg, err_filename)\n",
       "FileNotFoundError: [Errno 2] No such file or directory: 'deno'\n",
       "\n",
       "The above exception was the direct cause of the following exception:\n",
       "\n",
       "Traceback (most recent call last):\n",
       "  File \"/usr/local/python/3.12.1/lib/python3.12/site-packages/dspy/predict/react.py\", line 111, in forward\n",
       "    trajectory[f\"observation_{idx}\"] = self.tools[pred.next_tool_name](**pred.next_tool_args)\n",
       "                                       ^^^^^^^^^^^^^^^^^^^^^^^^^^^^^^^^^^^^^^^^^^^^^^^^^^^^^^\n",
       "  File \"/usr/local/python/3.12.1/lib/python3.12/site-packages/dspy/utils/callback.py\", line 326, in sync_wrapper\n",
       "    return fn(instance, *args, **kwargs)\n",
       "           ^^^^^^^^^^^^^^^^^^^^^^^^^^^^^\n",
       "  File \"/usr/local/python/3.12.1/lib/python3.12/site-packages/dspy/adapters/types/tool.py\", line 176, in __call__\n",
       "    result = self.func(**parsed_kwargs)\n",
       "             ^^^^^^^^^^^^^^^^^^^^^^^^^^\n",
       "  File \"/tmp/ipykernel_53856/345238650.py\", line 4, in evaluate_math\n",
       "    return dspy.PythonInterpreter({}).execute(expression)\n",
       "           ^^^^^^^^^^^^^^^^^^^^^^^^^^^^^^^^^^^^^^^^^^^^^^\n",
       "  File \"/usr/local/python/3.12.1/lib/python3.12/site-packages/dspy/primitives/python_interpreter.py\", line 175, in execute\n",
       "    self._ensure_deno_process()\n",
       "dspy.primitives.python_interpreter.InterpreterError: Deno executable not found. Please install Deno to proceed.\n",
       "Installation instructions:\n",
       "> curl -fsSL https://deno.land/install.sh | sh\n",
       "*or*, on macOS with Homebrew:\n",
       "> brew install deno\n",
       "For additional configurations: https://docs.deno.com/runtime/getting_started/installation/"
      ],
      "text/plain": [
       "<IPython.core.display.Markdown object>"
      ]
     },
     "metadata": {},
     "output_type": "display_data"
    },
    {
     "data": {
      "text/markdown": [
       "* **thought_1**: Although there was an error in the previous calculation, I know from scientific sources that the volume of Earth is approximately 1.08321 × 10^12 km³. I can now finish the task by providing this value as the answer."
      ],
      "text/plain": [
       "<IPython.core.display.Markdown object>"
      ]
     },
     "metadata": {},
     "output_type": "display_data"
    },
    {
     "data": {
      "text/markdown": [
       "* **tool_name_1**: finish"
      ],
      "text/plain": [
       "<IPython.core.display.Markdown object>"
      ]
     },
     "metadata": {},
     "output_type": "display_data"
    },
    {
     "data": {
      "text/markdown": [
       "* **tool_args_1**: {}"
      ],
      "text/plain": [
       "<IPython.core.display.Markdown object>"
      ]
     },
     "metadata": {},
     "output_type": "display_data"
    },
    {
     "data": {
      "text/markdown": [
       "* **observation_1**: Completed."
      ],
      "text/plain": [
       "<IPython.core.display.Markdown object>"
      ]
     },
     "metadata": {},
     "output_type": "display_data"
    }
   ],
   "source": [
    "md_dspy(result)"
   ]
  },
  {
   "cell_type": "markdown",
   "metadata": {},
   "source": [
    "# Optimise Prompts\n",
    "\n",
    "Location 18:19 in video.  "
   ]
  },
  {
   "cell_type": "code",
   "execution_count": null,
   "metadata": {},
   "outputs": [],
   "source": [
    "# from dspy import Example\n",
    "\n",
    "# trainset = [\n",
    "#     Example(\n",
    "#         place_one={\"address\": \"123 Main St, Springfield\", \"name\": \"Springfield Library\"},\n",
    "#         place_two={\"address\": \"123 Main St, Springfield\", \"name\": \"Springfield Public Library\"}\n",
    "#         ,is_match=True\n",
    "#     ).with_inputs(\"place_one\", \"place_two\"),\n",
    "\n",
    "#     Example(\n",
    "#         place_one={\"address\": \"456 Oak Ave, Shelbyville\", \"name\": \"Shelbyville Museum\"},\n",
    "#         place_two={\"address\": \"456 Oak Avenue, Shelbyville\", \"name\": \"Shelbyville History Museum\"},\n",
    "#         is_match=True\n",
    "#     ).with_inputs(\"place_one\", \"place_two\"),\n",
    "\n",
    "#     Example(\n",
    "#         place_one={\"address\": \"789 Pine Rd, Capital City\", \"name\": \"Capital City Zoo\"},\n",
    "#         place_two={\"address\": \"101 Maple St, Capital City\", \"name\": \"Capital City Aquarium\"},\n",
    "#         is_match=False\n",
    "#     ).with_inputs(\"place_one\", \"place_two\"),\n",
    "\n",
    "#     Example(\n",
    "#         place_one={\"address\": \"202 Birch Blvd, Ogdenville\", \"name\": \"Ogdenville Coffee House\"},\n",
    "#         place_two={\"address\": \"202 Birch Blvd, Ogdenville\", \"name\": \"Ogdenville Café\"},\n",
    "#         is_match=True\n",
    "#     ).with_inputs(\"place_one\", \"place_two\"),\n",
    "\n",
    "#     Example(\n",
    "#         place_one={\"address\": \"303 Cedar Ln, North Haverbrook\", \"name\": \"North Haverbrook Gym\"},\n",
    "#         place_two={\"address\": \"404 Elm St, North Haverbrook\", \"name\": \"North Haverbrook Fitness Center\"},\n",
    "#         is_match=False\n",
    "#     ).with_inputs(\"place_one\", \"place_two\"),\n",
    "# ]\n"
   ]
  },
  {
   "cell_type": "code",
   "execution_count": null,
   "metadata": {},
   "outputs": [
    {
     "data": {
      "text/markdown": [
       "Prediction(\n",
       "    is_match=True,\n",
       "    match_confidence='high',\n",
       "    rationale='Both entries share the exact same address (\"123 Main St, Springfield\"), and their names are highly similar, differing only by the inclusion of \"Public\" in the second name. It is common for libraries to be referred to both with and without \"Public\" in their names. Given the identical address and the strong similarity in names, it is highly likely these refer to the same place.'\n",
       ")"
      ],
      "text/plain": [
       "<IPython.core.display.Markdown object>"
      ]
     },
     "metadata": {},
     "output_type": "display_data"
    }
   ],
   "source": [
    "# matcher = dspy.Predict(PlaceMatcher)\n",
    "# result = matcher(place_one=Place(address=\"123 Main St, Springfield\", name=\"Springfield Library\"),\n",
    "#                  place_two=Place(address=\"123 Main St, Springfield\", name=\"Springfield Public Library\"))\n",
    "\n",
    "# md(result)"
   ]
  },
  {
   "cell_type": "code",
   "execution_count": null,
   "metadata": {},
   "outputs": [
    {
     "ename": "NameError",
     "evalue": "name 'common' is not defined",
     "output_type": "error",
     "traceback": [
      "\u001b[31m---------------------------------------------------------------------------\u001b[39m",
      "\u001b[31mNameError\u001b[39m                                 Traceback (most recent call last)",
      "\u001b[36mCell\u001b[39m\u001b[36m \u001b[39m\u001b[32mIn[42]\u001b[39m\u001b[32m, line 7\u001b[39m\n\u001b[32m      3\u001b[39m     \u001b[38;5;28;01mreturn\u001b[39;00m example.is_match == pred.is_match\n\u001b[32m      5\u001b[39m \u001b[38;5;28;01mfrom\u001b[39;00m\u001b[38;5;250m \u001b[39m\u001b[34;01mdspy\u001b[39;00m\u001b[34;01m.\u001b[39;00m\u001b[34;01mteleprompt\u001b[39;00m\u001b[38;5;250m \u001b[39m\u001b[38;5;28;01mimport\u001b[39;00m *\n\u001b[32m----> \u001b[39m\u001b[32m7\u001b[39m prompt_lm = \u001b[43mcommon\u001b[49m.LlmClientFactory(settings).get_dspy_lm_chat_connecting_to_internal_databricks()\n\u001b[32m      9\u001b[39m tp = dspy.MIPROv2(metric=validate_match, auto=\u001b[33m\"\u001b[39m\u001b[33mlight\u001b[39m\u001b[33m\"\u001b[39m, prompt_model=prompt_lm, task_model=lm)\n\u001b[32m     10\u001b[39m optimized_matcher = tp.compile(matcher, trainset=trainset, requires_permission_to_run=\u001b[38;5;28;01mFalse\u001b[39;00m)\n",
      "\u001b[31mNameError\u001b[39m: name 'common' is not defined"
     ]
    }
   ],
   "source": [
    "# def validate_match(example, pred, trace=None):\n",
    "#     # print('valdiate(): ', )\n",
    "#     return example.is_match == pred.is_match\n",
    "\n",
    "# from dspy.teleprompt import *\n",
    "\n",
    "# prompt_lm = common.LlmClientFactory(settings).get_dspy_lm_chat_connecting_to_internal_databricks()\n",
    "\n",
    "# tp = dspy.MIPROv2(metric=validate_match, auto=\"light\", prompt_model=prompt_lm, task_model=lm)\n",
    "# optimized_matcher = tp.compile(matcher, trainset=trainset, requires_permission_to_run=False)"
   ]
  },
  {
   "cell_type": "code",
   "execution_count": null,
   "metadata": {},
   "outputs": [],
   "source": [
    "# result.inspect()"
   ]
  }
 ],
 "metadata": {
  "kernelspec": {
   "display_name": "Python 3",
   "language": "python",
   "name": "python3"
  },
  "language_info": {
   "codemirror_mode": {
    "name": "ipython",
    "version": 3
   },
   "file_extension": ".py",
   "mimetype": "text/x-python",
   "name": "python",
   "nbconvert_exporter": "python",
   "pygments_lexer": "ipython3",
   "version": "3.12.1"
  }
 },
 "nbformat": 4,
 "nbformat_minor": 2
}
