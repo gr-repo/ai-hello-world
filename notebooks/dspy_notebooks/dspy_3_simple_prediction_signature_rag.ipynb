{
 "cells": [
  {
   "cell_type": "markdown",
   "metadata": {},
   "source": [
    "# DSPy \n"
   ]
  },
  {
   "cell_type": "markdown",
   "metadata": {},
   "source": [
    " Guide: YouTube - [Let the LLM Write the Prompts: An Intro to DSPy in Compound AI Pipelines](https://www.youtube.com/watch?v=I9ZtkgYZnOw)"
   ]
  },
  {
   "cell_type": "code",
   "execution_count": 2,
   "metadata": {},
   "outputs": [],
   "source": [
    "#!pip install dspy"
   ]
  },
  {
   "cell_type": "code",
   "execution_count": 3,
   "metadata": {},
   "outputs": [],
   "source": [
    "import sys\n",
    "import os\n",
    "import dspy \n",
    "from common.my_settings import MySettings  \n",
    "from common.utils import md\n",
    "from common.llm_client_factory import LlmClientFactory\n",
    "from dspy_utils.dspy_helpers import md_dspy\n",
    "\n",
    "settings = MySettings().get()"
   ]
  },
  {
   "cell_type": "code",
   "execution_count": 4,
   "metadata": {},
   "outputs": [],
   "source": [
    "lm = dspy.LM(\n",
    "    'gpt-4.1',  # Changed from gpt-4o to gpt-3.5-turbo\n",
    "    model_type='chat', \n",
    "    cache=False, \n",
    "    api_key=os.getenv(\"OPENAI_API_KEY\")\n",
    ")\n",
    "\n",
    "dspy.configure(lm=lm)"
   ]
  },
  {
   "cell_type": "markdown",
   "metadata": {},
   "source": [
    "## Prediction\n",
    "14m 52s in video"
   ]
  },
  {
   "cell_type": "code",
   "execution_count": 5,
   "metadata": {},
   "outputs": [],
   "source": [
    "# Define a module predict and assign it a signature\n",
    "predict = dspy.Predict('question -> answer')"
   ]
  },
  {
   "cell_type": "code",
   "execution_count": 6,
   "metadata": {},
   "outputs": [],
   "source": [
    "# Call LLM for prediction\n",
    "prediction = predict(question='Why is the sky blue?')"
   ]
  },
  {
   "cell_type": "code",
   "execution_count": 7,
   "metadata": {},
   "outputs": [
    {
     "data": {
      "text/markdown": [
       "<class 'dspy.primitives.prediction.Prediction'>"
      ],
      "text/plain": [
       "<IPython.core.display.Markdown object>"
      ]
     },
     "metadata": {},
     "output_type": "display_data"
    },
    {
     "data": {
      "text/markdown": [
       "**Answer**  \n",
       "\n",
       "The sky appears blue because of a phenomenon called Rayleigh scattering. As sunlight passes through Earth's atmosphere, the shorter blue wavelengths of light are scattered in all directions by the gases and particles in the air much more than the longer red wavelengths. This scattered blue light is what we see when we look up at the sky."
      ],
      "text/plain": [
       "<IPython.core.display.Markdown object>"
      ]
     },
     "metadata": {},
     "output_type": "display_data"
    }
   ],
   "source": [
    "md(type(prediction))\n",
    "md(\"**Answer**  \", \"\", prediction.answer)"
   ]
  },
  {
   "cell_type": "markdown",
   "metadata": {},
   "source": [
    "# Signatures\n",
    "\n",
    "Location 16:43 in video"
   ]
  },
  {
   "cell_type": "code",
   "execution_count": 8,
   "metadata": {},
   "outputs": [],
   "source": [
    "# Create classes\n",
    "\n",
    "import dspy \n",
    "from pydantic import BaseModel\n",
    "from typing import Literal\n",
    "\n",
    "class Place(BaseModel):\n",
    "    address: str = dspy.InputField()\n",
    "    name: str = dspy.InputField()\n",
    "    \n",
    "class PlaceMatcher(dspy.Signature):\n",
    "    \"\"\"\n",
    "    Verify that the text is based on the provided context.\n",
    "    \"\"\"\n",
    "    # Inputs\n",
    "    place_one: Place = dspy.InputField()\n",
    "    place_two: Place = dspy.InputField()\n",
    "    \n",
    "    # Outputs\n",
    "    is_match: bool = dspy.OutputField(desc=\"Do the two places refer to the same place?\")\n",
    "    match_confidence: Literal[\"low\", \"medium\", \"high\"] = dspy.OutputField()\n",
    "    rationale: str = dspy.OutputField(desc=\"Rationale for the match decision\")"
   ]
  },
  {
   "cell_type": "code",
   "execution_count": 9,
   "metadata": {},
   "outputs": [],
   "source": [
    "# Call LLM\n",
    "predict = dspy.Predict(PlaceMatcher)\n",
    "result = predict(place_one=Place(address=\"123 Main St, Springfield\", name=\"Springfield Library\"),\n",
    "                 place_two=Place(address=\"123 Main St, Springfield\", name=\"Springfield Public Library\"))"
   ]
  },
  {
   "cell_type": "code",
   "execution_count": 10,
   "metadata": {},
   "outputs": [
    {
     "data": {
      "text/markdown": [
       "Prediction(\n",
       "    is_match=True,\n",
       "    match_confidence='high',\n",
       "    rationale='Both entries share the exact same address (\"123 Main St, Springfield\"), and their names are highly similar, differing only by the inclusion of \"Public\" in the second name. It is common for institutions like libraries to be referred to both with and without the word \"Public\" in their names. Given the identical address and the strong similarity in names, it is highly likely these refer to the same place.'\n",
       ")"
      ],
      "text/plain": [
       "<IPython.core.display.Markdown object>"
      ]
     },
     "metadata": {},
     "output_type": "display_data"
    }
   ],
   "source": [
    "md(result)"
   ]
  },
  {
   "cell_type": "markdown",
   "metadata": {},
   "source": [
    "# Simple RAG\n"
   ]
  },
  {
   "cell_type": "code",
   "execution_count": 11,
   "metadata": {},
   "outputs": [],
   "source": [
    "# %pip install deno"
   ]
  },
  {
   "cell_type": "code",
   "execution_count": 12,
   "metadata": {},
   "outputs": [],
   "source": [
    "# Setup\n",
    "\n",
    "def evaluate_math(expression: str):\n",
    "    return dspy.PythonInterpreter({}).execute(expression)\n",
    "\n",
    "# test function\n",
    "# md(evaluate_math('2 + 3'))\n",
    "\n",
    "react = dspy.ReAct(\"question -> answer: float\", tools=[evaluate_math])"
   ]
  },
  {
   "cell_type": "code",
   "execution_count": 13,
   "metadata": {},
   "outputs": [],
   "source": [
    "# Call LLM\n",
    "result = react(question=\"What is the volume of Earth?\")"
   ]
  },
  {
   "cell_type": "code",
   "execution_count": 14,
   "metadata": {},
   "outputs": [
    {
     "name": "stdout",
     "output_type": "stream",
     "text": [
      "<class 'dspy.primitives.prediction.Prediction'>\n",
      "Prediction(\n",
      "    trajectory={'thought_0': 'The volume of a sphere is given by the formula V = (4/3) * π * r^3. The average radius of Earth is approximately 6,371 km. I will use this value to calculate the volume.', 'tool_name_0': 'evaluate_math', 'tool_args_0': {'expression': '(4/3) * 3.141592653589793 * (6371**3)'}, 'observation_0': 'Execution error in evaluate_math: \\nTraceback (most recent call last):\\n  File \"/usr/local/python/3.12.1/lib/python3.12/site-packages/dspy/primitives/python_interpreter.py\", line 124, in _ensure_deno_process\\n    self.deno_process = subprocess.Popen(\\n                        ^^^^^^^^^^^^^^^^^\\n  File \"/usr/local/python/3.12.1/lib/python3.12/subprocess.py\", line 1026, in __init__\\n    self._execute_child(args, executable, preexec_fn, close_fds,\\n  File \"/usr/local/python/3.12.1/lib/python3.12/subprocess.py\", line 1950, in _execute_child\\n    raise child_exception_type(errno_num, err_msg, err_filename)\\nFileNotFoundError: [Errno 2] No such file or directory: \\'deno\\'\\n\\nThe above exception was the direct cause of the following exception:\\n\\nTraceback (most recent call last):\\n  File \"/usr/local/python/3.12.1/lib/python3.12/site-packages/dspy/predict/react.py\", line 111, in forward\\n    trajectory[f\"observation_{idx}\"] = self.tools[pred.next_tool_name](**pred.next_tool_args)\\n                                       ^^^^^^^^^^^^^^^^^^^^^^^^^^^^^^^^^^^^^^^^^^^^^^^^^^^^^^\\n  File \"/usr/local/python/3.12.1/lib/python3.12/site-packages/dspy/utils/callback.py\", line 326, in sync_wrapper\\n    return fn(instance, *args, **kwargs)\\n           ^^^^^^^^^^^^^^^^^^^^^^^^^^^^^\\n  File \"/usr/local/python/3.12.1/lib/python3.12/site-packages/dspy/adapters/types/tool.py\", line 176, in __call__\\n    result = self.func(**parsed_kwargs)\\n             ^^^^^^^^^^^^^^^^^^^^^^^^^^\\n  File \"/tmp/ipykernel_60809/345238650.py\", line 4, in evaluate_math\\n    return dspy.PythonInterpreter({}).execute(expression)\\n           ^^^^^^^^^^^^^^^^^^^^^^^^^^^^^^^^^^^^^^^^^^^^^^\\n  File \"/usr/local/python/3.12.1/lib/python3.12/site-packages/dspy/primitives/python_interpreter.py\", line 175, in execute\\n    self._ensure_deno_process()\\ndspy.primitives.python_interpreter.InterpreterError: Deno executable not found. Please install Deno to proceed.\\nInstallation instructions:\\n> curl -fsSL https://deno.land/install.sh | sh\\n*or*, on macOS with Homebrew:\\n> brew install deno\\nFor additional configurations: https://docs.deno.com/runtime/getting_started/installation/', 'thought_1': 'There was an error with the math evaluation tool, but the formula and radius are correct. I have all the information needed to provide the answer in words: The volume of Earth, using the formula V = (4/3)πr³ and r ≈ 6,371 km, is approximately 1.08321 × 10¹² km³.', 'tool_name_1': 'finish', 'tool_args_1': {}, 'observation_1': 'Completed.'},\n",
      "    reasoning=\"The volume of a sphere is calculated using the formula V = (4/3) * π * r^3. For Earth, the average radius is about 6,371 km. Plugging this into the formula: V = (4/3) * π * (6371)^3 ≈ 1.08321 × 10^12 km³. This is the widely accepted value for Earth's volume.\",\n",
      "    answer=1083210000000.0\n",
      ")\n"
     ]
    }
   ],
   "source": [
    "print(type(result))\n",
    "print(result)"
   ]
  },
  {
   "cell_type": "code",
   "execution_count": 15,
   "metadata": {},
   "outputs": [
    {
     "name": "stdout",
     "output_type": "stream",
     "text": [
      "Prediction(\n",
      "    trajectory={'thought_0': 'The volume of a sphere is given by the formula V = (4/3) * π * r^3. The average radius of Earth is approximately 6,371 km. I will use this value to calculate the volume.', 'tool_name_0': 'evaluate_math', 'tool_args_0': {'expression': '(4/3) * 3.141592653589793 * (6371**3)'}, 'observation_0': 'Execution error in evaluate_math: \\nTraceback (most recent call last):\\n  File \"/usr/local/python/3.12.1/lib/python3.12/site-packages/dspy/primitives/python_interpreter.py\", line 124, in _ensure_deno_process\\n    self.deno_process = subprocess.Popen(\\n                        ^^^^^^^^^^^^^^^^^\\n  File \"/usr/local/python/3.12.1/lib/python3.12/subprocess.py\", line 1026, in __init__\\n    self._execute_child(args, executable, preexec_fn, close_fds,\\n  File \"/usr/local/python/3.12.1/lib/python3.12/subprocess.py\", line 1950, in _execute_child\\n    raise child_exception_type(errno_num, err_msg, err_filename)\\nFileNotFoundError: [Errno 2] No such file or directory: \\'deno\\'\\n\\nThe above exception was the direct cause of the following exception:\\n\\nTraceback (most recent call last):\\n  File \"/usr/local/python/3.12.1/lib/python3.12/site-packages/dspy/predict/react.py\", line 111, in forward\\n    trajectory[f\"observation_{idx}\"] = self.tools[pred.next_tool_name](**pred.next_tool_args)\\n                                       ^^^^^^^^^^^^^^^^^^^^^^^^^^^^^^^^^^^^^^^^^^^^^^^^^^^^^^\\n  File \"/usr/local/python/3.12.1/lib/python3.12/site-packages/dspy/utils/callback.py\", line 326, in sync_wrapper\\n    return fn(instance, *args, **kwargs)\\n           ^^^^^^^^^^^^^^^^^^^^^^^^^^^^^\\n  File \"/usr/local/python/3.12.1/lib/python3.12/site-packages/dspy/adapters/types/tool.py\", line 176, in __call__\\n    result = self.func(**parsed_kwargs)\\n             ^^^^^^^^^^^^^^^^^^^^^^^^^^\\n  File \"/tmp/ipykernel_60809/345238650.py\", line 4, in evaluate_math\\n    return dspy.PythonInterpreter({}).execute(expression)\\n           ^^^^^^^^^^^^^^^^^^^^^^^^^^^^^^^^^^^^^^^^^^^^^^\\n  File \"/usr/local/python/3.12.1/lib/python3.12/site-packages/dspy/primitives/python_interpreter.py\", line 175, in execute\\n    self._ensure_deno_process()\\ndspy.primitives.python_interpreter.InterpreterError: Deno executable not found. Please install Deno to proceed.\\nInstallation instructions:\\n> curl -fsSL https://deno.land/install.sh | sh\\n*or*, on macOS with Homebrew:\\n> brew install deno\\nFor additional configurations: https://docs.deno.com/runtime/getting_started/installation/', 'thought_1': 'There was an error with the math evaluation tool, but the formula and radius are correct. I have all the information needed to provide the answer in words: The volume of Earth, using the formula V = (4/3)πr³ and r ≈ 6,371 km, is approximately 1.08321 × 10¹² km³.', 'tool_name_1': 'finish', 'tool_args_1': {}, 'observation_1': 'Completed.'},\n",
      "    reasoning=\"The volume of a sphere is calculated using the formula V = (4/3) * π * r^3. For Earth, the average radius is about 6,371 km. Plugging this into the formula: V = (4/3) * π * (6371)^3 ≈ 1.08321 × 10^12 km³. This is the widely accepted value for Earth's volume.\",\n",
      "    answer=1083210000000.0\n",
      ")\n"
     ]
    }
   ],
   "source": [
    "print(result)"
   ]
  },
  {
   "cell_type": "markdown",
   "metadata": {},
   "source": [
    "# Optimise Prompts\n",
    "\n",
    "Location 18:19 in video.  "
   ]
  },
  {
   "cell_type": "code",
   "execution_count": 16,
   "metadata": {},
   "outputs": [],
   "source": [
    "# from dspy import Example\n",
    "\n",
    "# trainset = [\n",
    "#     Example(\n",
    "#         place_one={\"address\": \"123 Main St, Springfield\", \"name\": \"Springfield Library\"},\n",
    "#         place_two={\"address\": \"123 Main St, Springfield\", \"name\": \"Springfield Public Library\"}\n",
    "#         ,is_match=True\n",
    "#     ).with_inputs(\"place_one\", \"place_two\"),\n",
    "\n",
    "#     Example(\n",
    "#         place_one={\"address\": \"456 Oak Ave, Shelbyville\", \"name\": \"Shelbyville Museum\"},\n",
    "#         place_two={\"address\": \"456 Oak Avenue, Shelbyville\", \"name\": \"Shelbyville History Museum\"},\n",
    "#         is_match=True\n",
    "#     ).with_inputs(\"place_one\", \"place_two\"),\n",
    "\n",
    "#     Example(\n",
    "#         place_one={\"address\": \"789 Pine Rd, Capital City\", \"name\": \"Capital City Zoo\"},\n",
    "#         place_two={\"address\": \"101 Maple St, Capital City\", \"name\": \"Capital City Aquarium\"},\n",
    "#         is_match=False\n",
    "#     ).with_inputs(\"place_one\", \"place_two\"),\n",
    "\n",
    "#     Example(\n",
    "#         place_one={\"address\": \"202 Birch Blvd, Ogdenville\", \"name\": \"Ogdenville Coffee House\"},\n",
    "#         place_two={\"address\": \"202 Birch Blvd, Ogdenville\", \"name\": \"Ogdenville Café\"},\n",
    "#         is_match=True\n",
    "#     ).with_inputs(\"place_one\", \"place_two\"),\n",
    "\n",
    "#     Example(\n",
    "#         place_one={\"address\": \"303 Cedar Ln, North Haverbrook\", \"name\": \"North Haverbrook Gym\"},\n",
    "#         place_two={\"address\": \"404 Elm St, North Haverbrook\", \"name\": \"North Haverbrook Fitness Center\"},\n",
    "#         is_match=False\n",
    "#     ).with_inputs(\"place_one\", \"place_two\"),\n",
    "# ]\n"
   ]
  },
  {
   "cell_type": "code",
   "execution_count": 17,
   "metadata": {},
   "outputs": [],
   "source": [
    "# matcher = dspy.Predict(PlaceMatcher)\n",
    "# result = matcher(place_one=Place(address=\"123 Main St, Springfield\", name=\"Springfield Library\"),\n",
    "#                  place_two=Place(address=\"123 Main St, Springfield\", name=\"Springfield Public Library\"))\n",
    "\n",
    "# md(result)"
   ]
  },
  {
   "cell_type": "code",
   "execution_count": 18,
   "metadata": {},
   "outputs": [],
   "source": [
    "# def validate_match(example, pred, trace=None):\n",
    "#     # print('valdiate(): ', )\n",
    "#     return example.is_match == pred.is_match\n",
    "\n",
    "# from dspy.teleprompt import *\n",
    "\n",
    "# prompt_lm = common.LlmClientFactory(settings).get_dspy_lm_chat_connecting_to_internal_databricks()\n",
    "\n",
    "# tp = dspy.MIPROv2(metric=validate_match, auto=\"light\", prompt_model=prompt_lm, task_model=lm)\n",
    "# optimized_matcher = tp.compile(matcher, trainset=trainset, requires_permission_to_run=False)"
   ]
  },
  {
   "cell_type": "code",
   "execution_count": 19,
   "metadata": {},
   "outputs": [],
   "source": [
    "# result.inspect()"
   ]
  }
 ],
 "metadata": {
  "kernelspec": {
   "display_name": "Python 3",
   "language": "python",
   "name": "python3"
  },
  "language_info": {
   "codemirror_mode": {
    "name": "ipython",
    "version": 3
   },
   "file_extension": ".py",
   "mimetype": "text/x-python",
   "name": "python",
   "nbconvert_exporter": "python",
   "pygments_lexer": "ipython3",
   "version": "3.12.1"
  }
 },
 "nbformat": 4,
 "nbformat_minor": 2
}
