{
 "cells": [
  {
   "cell_type": "markdown",
   "metadata": {},
   "source": [
    "# Simple DSPy Hello World Example\n",
    "\n",
    "This notebook imports from common folder. \n",
    "\n",
    "The md() function prints Markdown to Output terminal\n"
   ]
  },
  {
   "cell_type": "code",
   "execution_count": 2,
   "metadata": {},
   "outputs": [],
   "source": [
    "import sys\n",
    "import os\n",
    "import dspy\n",
    "from dspy import LM, configure\n",
    "from common.my_settings import MySettings  \n",
    "from common.utils import md\n",
    "\n",
    "settings = MySettings().get()"
   ]
  },
  {
   "cell_type": "code",
   "execution_count": 3,
   "metadata": {},
   "outputs": [
    {
     "data": {
      "text/markdown": [
       "Certainly! The **Moon** is Earth’s only natural satellite and the fifth largest moon in the Solar System. Here are some key facts and interesting details about the Moon:\n",
       "\n",
       "### Basic Facts\n",
       "- **Distance from Earth:** About 384,400 km (238,855 miles) on average.\n",
       "- **Diameter:** About 3,474 km (2,159 miles), roughly 1/4 the diameter of Earth.\n",
       "- **Gravity:** About 1/6th of Earth’s gravity.\n",
       "- **Orbital Period:** It takes about 27.3 days to orbit Earth (sidereal month), but about 29.5 days to go from one full moon to the next (synodic month).\n",
       "\n",
       "### Surface and Features\n",
       "- The Moon’s surface is covered with **craters**, **mountains**, and **maria** (dark, basaltic plains formed by ancient volcanic eruptions).\n",
       "- The **far side** of the Moon (sometimes called the \"dark side,\" though it receives sunlight too) has more craters and fewer maria than the side facing Earth.\n",
       "- There is no atmosphere, so the sky is always black, and temperatures swing dramatically from very hot in sunlight to extremely cold in shadow.\n",
       "\n",
       "### Phases\n",
       "- The Moon goes through phases: **new moon, waxing crescent, first quarter, waxing gibbous, full moon, waning gibbous, last quarter,** and **waning crescent**.\n",
       "- These phases are caused by the changing angles of sunlight as the Moon orbits Earth.\n",
       "\n",
       "### Tides\n",
       "- The Moon’s gravity causes **tides** on Earth, pulling on the oceans and causing them to bulge out in the direction of the Moon.\n",
       "\n",
       "### Exploration\n",
       "- The Moon was first visited by the Soviet spacecraft **Luna 2** in 1959.\n",
       "- The first humans landed on the Moon during NASA’s **Apollo 11** mission in 1969. In total, 12 astronauts have walked on the Moon.\n",
       "- Recent missions, like China’s **Chang’e** program and India’s **Chandrayaan-3**, continue to explore the Moon.\n",
       "\n",
       "### Origin\n",
       "- The most widely accepted theory is the **giant impact hypothesis**: a Mars-sized body (Theia) collided with the early Earth, and the debris formed the Moon.\n",
       "\n",
       "### Cultural Significance\n",
       "- The Moon has inspired myths, calendars, art, and literature throughout human history.\n",
       "- Many cultures have lunar calendars based on the Moon’s phases.\n",
       "\n",
       "If you’d like to know more about any specific aspect of the Moon, feel free to ask!"
      ],
      "text/plain": [
       "<IPython.core.display.Markdown object>"
      ]
     },
     "metadata": {},
     "output_type": "display_data"
    }
   ],
   "source": [
    "\n",
    "lm = dspy.LM(\n",
    "    'gpt-4.1',  # Changed from gpt-4o to gpt-3.5-turbo\n",
    "    model_type='chat', \n",
    "    cache=False, \n",
    "    api_key=os.getenv(\"OPENAI_API_KEY\")\n",
    ")\n",
    "\n",
    "dspy.configure(lm=lm)\n",
    "output = lm('Tell me about the moon')[0]\n",
    "\n",
    "md(output)"
   ]
  },
  {
   "cell_type": "code",
   "execution_count": 4,
   "metadata": {},
   "outputs": [
    {
     "data": {
      "text/markdown": [
       "**Model:** gpt-4.1"
      ],
      "text/plain": [
       "<IPython.core.display.Markdown object>"
      ]
     },
     "metadata": {},
     "output_type": "display_data"
    }
   ],
   "source": [
    "# Show model that was called\n",
    "md('**Model:** ' + lm.model)"
   ]
  },
  {
   "cell_type": "code",
   "execution_count": 5,
   "metadata": {},
   "outputs": [],
   "source": [
    "# Call LLM\n",
    "client = dspy.ChainOfThought(\"question -> answer: float\")\n",
    "response = client(question=\"Two dice are tossed. What is the probability that the sum equals two?\")"
   ]
  },
  {
   "cell_type": "code",
   "execution_count": 6,
   "metadata": {},
   "outputs": [
    {
     "data": {
      "text/markdown": [
       "**Reasoning:** When two dice are tossed, each die has 6 faces, so there are 6 × 6 = 36 possible outcomes. The sum equals two only if both dice show a 1, i.e., (1,1). This is only 1 outcome out of 36 possible outcomes.\n",
       "\n",
       "Probability = Number of favorable outcomes / Total number of outcomes = 1 / 36 = 0.027777..."
      ],
      "text/plain": [
       "<IPython.core.display.Markdown object>"
      ]
     },
     "metadata": {},
     "output_type": "display_data"
    },
    {
     "data": {
      "text/markdown": [
       "**Answer:** 0.027777777777777776"
      ],
      "text/plain": [
       "<IPython.core.display.Markdown object>"
      ]
     },
     "metadata": {},
     "output_type": "display_data"
    }
   ],
   "source": [
    "md(\"**Reasoning:** \", response.reasoning)\n",
    "md(\"**Answer:** \", response.answer)"
   ]
  }
 ],
 "metadata": {
  "kernelspec": {
   "display_name": "Python 3",
   "language": "python",
   "name": "python3"
  },
  "language_info": {
   "codemirror_mode": {
    "name": "ipython",
    "version": 3
   },
   "file_extension": ".py",
   "mimetype": "text/x-python",
   "name": "python",
   "nbconvert_exporter": "python",
   "pygments_lexer": "ipython3",
   "version": "3.12.1"
  }
 },
 "nbformat": 4,
 "nbformat_minor": 2
}
