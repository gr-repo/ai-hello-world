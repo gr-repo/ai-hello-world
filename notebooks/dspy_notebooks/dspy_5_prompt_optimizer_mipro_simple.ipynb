{
 "cells": [
  {
   "cell_type": "markdown",
   "metadata": {},
   "source": [
    "# Optimise Prompts\n",
    "\n",
    " Guide: [Let the LLM Write the Prompts: An Intro to DSPy in Compound AI Pipelines](https://www.youtube.com/watch?v=I9ZtkgYZnOw)\n",
    " \n",
    "Location 18:19 in video.  "
   ]
  },
  {
   "cell_type": "code",
   "execution_count": 2,
   "metadata": {},
   "outputs": [],
   "source": [
    "import sys\n",
    "import os\n",
    "import dspy \n",
    "from common.my_settings import MySettings  \n",
    "from common.utils import md\n",
    "from common.llm_client_factory import LlmClientFactory\n",
    "from dspy_utils.dspy_helpers import md_dspy\n",
    "\n",
    "settings = MySettings().get()"
   ]
  },
  {
   "cell_type": "code",
   "execution_count": null,
   "metadata": {},
   "outputs": [],
   "source": [
    "lm = dspy.LM(\n",
    "    'gpt-4.1', \n",
    "    model_type='chat', \n",
    "    cache=False, \n",
    "    api_key=settings.OPENAI_API_KEY\n",
    ")\n",
    "\n",
    "dspy.configure(lm=lm)"
   ]
  },
  {
   "cell_type": "code",
   "execution_count": 4,
   "metadata": {},
   "outputs": [],
   "source": [
    "# Create classes\n",
    "\n",
    "import dspy \n",
    "from pydantic import BaseModel\n",
    "from typing import Literal\n",
    "\n",
    "class Place(BaseModel):\n",
    "    address: str = dspy.InputField()\n",
    "    name: str = dspy.InputField()\n",
    "    \n",
    "class PlaceMatcher(dspy.Signature):\n",
    "    \"\"\"Verify that the text is based on the provided context.\"\"\"\n",
    "    \n",
    "    # Inputs\n",
    "    place_one: Place = dspy.InputField()\n",
    "    place_two: Place = dspy.InputField()\n",
    "    \n",
    "    # Outputs\n",
    "    is_match: bool = dspy.OutputField(desc=\"Do the two places refer to the same place?\")\n",
    "    match_confidence: Literal[\"low\", \"medium\", \"high\"] = dspy.OutputField()\n",
    "    rationale: str = dspy.OutputField(desc=\"Rationale for the decision\")\n",
    "    \n",
    "matcher = dspy.Predict(PlaceMatcher)\n",
    "result = matcher(place_one=Place(address=\"123 Main St, Springfield\", name=\"Springfield Library\"),\n",
    "                 place_two=Place(address=\"123 Main St, Springfield\", name=\"Springfield Public Library\"))\n",
    "\n",
    "# md(result)"
   ]
  },
  {
   "cell_type": "code",
   "execution_count": 5,
   "metadata": {},
   "outputs": [],
   "source": [
    "from dspy import Example\n",
    "\n",
    "trainset = [\n",
    "    Example(\n",
    "        place_one={\"address\": \"123 Main St, Springfield\", \"name\": \"Springfield Library\"},\n",
    "        place_two={\"address\": \"123 Main St, Springfield\", \"name\": \"Springfield Public Library\"}\n",
    "        ,is_match=True\n",
    "    ).with_inputs(\"place_one\", \"place_two\"),\n",
    "\n",
    "    Example(\n",
    "        place_one={\"address\": \"456 Oak Ave, Shelbyville\", \"name\": \"Shelbyville Museum\"},\n",
    "        place_two={\"address\": \"456 Oak Avenue, Shelbyville\", \"name\": \"Shelbyville History Museum\"},\n",
    "        is_match=True\n",
    "    ).with_inputs(\"place_one\", \"place_two\"),\n",
    "\n",
    "    Example(\n",
    "        place_one={\"address\": \"789 Pine Rd, Capital City\", \"name\": \"Capital City Zoo\"},\n",
    "        place_two={\"address\": \"101 Maple St, Capital City\", \"name\": \"Capital City Aquarium\"},\n",
    "        is_match=False\n",
    "    ).with_inputs(\"place_one\", \"place_two\"),\n",
    "\n",
    "    Example(\n",
    "        place_one={\"address\": \"202 Birch Blvd, Ogdenville\", \"name\": \"Ogdenville Coffee House\"},\n",
    "        place_two={\"address\": \"202 Birch Blvd, Ogdenville\", \"name\": \"Ogdenville Café\"},\n",
    "        is_match=True\n",
    "    ).with_inputs(\"place_one\", \"place_two\")\n",
    "    ,\n",
    "\n",
    "    Example(\n",
    "        place_one={\"address\": \"303 Cedar Ln, North Haverbrook\", \"name\": \"North Haverbrook Gym\"},\n",
    "        place_two={\"address\": \"404 Elm St, North Haverbrook\", \"name\": \"North Haverbrook Fitness Center\"},\n",
    "        is_match=False\n",
    "    ).with_inputs(\"place_one\", \"place_two\"),\n",
    "]\n"
   ]
  },
  {
   "cell_type": "code",
   "execution_count": 7,
   "metadata": {},
   "outputs": [
    {
     "data": {
      "text/markdown": [
       "['I am a language model AI and I do not have a physical form or size. I exist solely in the digital realm to assist with answering questions and providing information.']"
      ],
      "text/plain": [
       "<IPython.core.display.Markdown object>"
      ]
     },
     "metadata": {},
     "output_type": "display_data"
    }
   ],
   "source": [
    "prompt_lm = dspy.LM('gpt-3.5-turbo', model_type='chat', cache=False, api_key=os.getenv(\"OPENAI_API_KEY\"))\n",
    "md(prompt_lm('What model are you and what size are you?'))\n",
    "\n",
    "# #databricks/databricks-gemma-3-12b\n",
    "# # mixtral-8x7b-v0-1\n"
   ]
  },
  {
   "cell_type": "markdown",
   "metadata": {},
   "source": [
    "In the context of DSPy and the code you're working with:\n",
    "\n",
    "```python\n",
    "tp = dspy.MIPROv2(metric=validate_match, auto=\"light\", prompt_model=prompt_lm, task_model=lm)\n",
    "```\n",
    "\n",
    "### 🔹 `prompt_model`\n",
    "This is typically the **intent model**—the one that will be used in production (PRD) to **generate responses** based on the prompts that DSPy helps optimize. It's the model that will be deployed to handle real user inputs.\n",
    "\n",
    "- It’s used during training to generate candidate completions.\n",
    "- It’s the model DSPy is trying to **fine-tune prompts for**.\n",
    "- It’s usually **smaller or faster**, suitable for real-time inference.\n",
    "\n",
    "### 🔹 `task_model`\n",
    "This is the **evaluation model**—used during training to **judge the quality** of the outputs from `prompt_model`.\n",
    "\n",
    "- It’s not necessarily used in production.\n",
    "- It helps DSPy decide which prompts are best by scoring or validating them.\n",
    "- It’s often **larger or more accurate**, used offline for optimization.\n",
    "\n",
    "### 🔹 `metric=validate_match`\n",
    "This is your **custom evaluation function**. It defines what “success” looks like for a prediction. DSPy uses this function to determine whether a generated output is correct or useful.\n",
    "\n",
    "So in summary:\n",
    "\n",
    "| Component       | Role in DSPy | Role in PRD |\n",
    "|----------------|--------------|-------------|\n",
    "| `prompt_model` | Generates candidate outputs during training | **Used in production to serve prompts** |\n",
    "| `task_model`   | Evaluates candidate outputs during training | Not used in production |\n",
    "| `metric`       | Defines correctness for training | Not used in production |\n",
    "\n",
    "Would you like help setting up a pipeline where the optimized prompts are exported for production use with `prompt_model`?"
   ]
  },
  {
   "cell_type": "code",
   "execution_count": 8,
   "metadata": {},
   "outputs": [
    {
     "name": "stderr",
     "output_type": "stream",
     "text": [
      "2025/08/20 18:19:00 INFO dspy.teleprompt.mipro_optimizer_v2: \n",
      "RUNNING WITH THE FOLLOWING LIGHT AUTO RUN SETTINGS:\n",
      "num_trials: 10\n",
      "minibatch: False\n",
      "num_fewshot_candidates: 6\n",
      "num_instruct_candidates: 3\n",
      "valset size: 4\n",
      "\n",
      "2025/08/20 18:19:00 INFO dspy.teleprompt.mipro_optimizer_v2: \n",
      "==> STEP 1: BOOTSTRAP FEWSHOT EXAMPLES <==\n",
      "2025/08/20 18:19:00 INFO dspy.teleprompt.mipro_optimizer_v2: These will be used as few-shot example candidates for our program and for creating instructions.\n",
      "\n",
      "2025/08/20 18:19:00 INFO dspy.teleprompt.mipro_optimizer_v2: Bootstrapping N=6 sets of demonstrations...\n"
     ]
    },
    {
     "name": "stdout",
     "output_type": "stream",
     "text": [
      "Bootstrapping set 1/6\n",
      "Bootstrapping set 2/6\n",
      "Bootstrapping set 3/6\n"
     ]
    },
    {
     "name": "stderr",
     "output_type": "stream",
     "text": [
      "  0%|          | 0/1 [00:00<?, ?it/s]"
     ]
    },
    {
     "data": {
      "text/markdown": [
       "**Validate()**\n",
       "\n",
       "**Example**: Example({'place_one': {'address': '123 Main St, Springfield', 'name': 'Springfield Library'}, 'place_two': {'address': '123 Main St, Springfield', 'name': 'Springfield Public Library'}, 'is_match': True}) (input_keys={'place_one', 'place_two'})**Prediction**: Prediction(\n",
       "    is_match=True,\n",
       "    match_confidence='high',\n",
       "    rationale='Both entries share the exact same address (\"123 Main St, Springfield\"), and their names are highly similar, with the only difference being the inclusion of \"Public\" in the second name. It is common for institutions like libraries to be referred to both with and without the word \"Public\" in their names. Given the identical address and the strong similarity in names, it is highly likely these refer to the same place.'\n",
       ")"
      ],
      "text/plain": [
       "<IPython.core.display.Markdown object>"
      ]
     },
     "metadata": {},
     "output_type": "display_data"
    },
    {
     "name": "stderr",
     "output_type": "stream",
     "text": [
      "100%|██████████| 1/1 [00:02<00:00,  2.07s/it]\n"
     ]
    },
    {
     "name": "stdout",
     "output_type": "stream",
     "text": [
      "Bootstrapped 1 full traces after 0 examples for up to 1 rounds, amounting to 1 attempts.\n",
      "Bootstrapping set 4/6\n"
     ]
    },
    {
     "name": "stderr",
     "output_type": "stream",
     "text": [
      "  0%|          | 0/1 [00:00<?, ?it/s]"
     ]
    },
    {
     "data": {
      "text/markdown": [
       "**Validate()**\n",
       "\n",
       "**Example**: Example({'place_one': {'address': '123 Main St, Springfield', 'name': 'Springfield Library'}, 'place_two': {'address': '123 Main St, Springfield', 'name': 'Springfield Public Library'}, 'is_match': True}) (input_keys={'place_one', 'place_two'})**Prediction**: Prediction(\n",
       "    is_match=True,\n",
       "    match_confidence='high',\n",
       "    rationale='Both entries share the exact same address (\"123 Main St, Springfield\"), and their names are highly similar, differing only by the inclusion of \"Public\" in the second name. It is common for institutions like libraries to be referred to both with and without the word \"Public\" in their names. Given the identical address and the strong similarity in names, it is highly likely these refer to the same place.'\n",
       ")"
      ],
      "text/plain": [
       "<IPython.core.display.Markdown object>"
      ]
     },
     "metadata": {},
     "output_type": "display_data"
    },
    {
     "name": "stderr",
     "output_type": "stream",
     "text": [
      "100%|██████████| 1/1 [00:02<00:00,  2.10s/it]\n"
     ]
    },
    {
     "name": "stdout",
     "output_type": "stream",
     "text": [
      "Bootstrapped 1 full traces after 0 examples for up to 1 rounds, amounting to 1 attempts.\n",
      "Bootstrapping set 5/6\n"
     ]
    },
    {
     "name": "stderr",
     "output_type": "stream",
     "text": [
      "  0%|          | 0/1 [00:00<?, ?it/s]"
     ]
    },
    {
     "data": {
      "text/markdown": [
       "**Validate()**\n",
       "\n",
       "**Example**: Example({'place_one': {'address': '123 Main St, Springfield', 'name': 'Springfield Library'}, 'place_two': {'address': '123 Main St, Springfield', 'name': 'Springfield Public Library'}, 'is_match': True}) (input_keys={'place_one', 'place_two'})**Prediction**: Prediction(\n",
       "    is_match=True,\n",
       "    match_confidence='high',\n",
       "    rationale='Both entries share the exact same address (\"123 Main St, Springfield\"), and their names are highly similar, differing only by the inclusion of \"Public\" in the second name. It is common for libraries to be referred to both with and without \"Public\" in their names. Given the identical address and the strong similarity in names, it is highly likely these refer to the same place.'\n",
       ")"
      ],
      "text/plain": [
       "<IPython.core.display.Markdown object>"
      ]
     },
     "metadata": {},
     "output_type": "display_data"
    },
    {
     "name": "stderr",
     "output_type": "stream",
     "text": [
      "100%|██████████| 1/1 [00:03<00:00,  3.16s/it]\n"
     ]
    },
    {
     "name": "stdout",
     "output_type": "stream",
     "text": [
      "Bootstrapped 1 full traces after 0 examples for up to 1 rounds, amounting to 1 attempts.\n",
      "Bootstrapping set 6/6\n"
     ]
    },
    {
     "name": "stderr",
     "output_type": "stream",
     "text": [
      "  0%|          | 0/1 [00:00<?, ?it/s]"
     ]
    },
    {
     "data": {
      "text/markdown": [
       "**Validate()**\n",
       "\n",
       "**Example**: Example({'place_one': {'address': '123 Main St, Springfield', 'name': 'Springfield Library'}, 'place_two': {'address': '123 Main St, Springfield', 'name': 'Springfield Public Library'}, 'is_match': True}) (input_keys={'place_one', 'place_two'})**Prediction**: Prediction(\n",
       "    is_match=True,\n",
       "    match_confidence='high',\n",
       "    rationale='Both entries share the exact same address (\"123 Main St, Springfield\"), and their names are highly similar, with the only difference being the inclusion of \"Public\" in the second name. It is common for institutions like libraries to be referred to both with and without the word \"Public\" in their names. Given the identical address and the strong similarity in names, it is highly likely these refer to the same place.'\n",
       ")"
      ],
      "text/plain": [
       "<IPython.core.display.Markdown object>"
      ]
     },
     "metadata": {},
     "output_type": "display_data"
    },
    {
     "name": "stderr",
     "output_type": "stream",
     "text": [
      "100%|██████████| 1/1 [00:02<00:00,  2.57s/it]\n",
      "2025/08/20 18:19:10 INFO dspy.teleprompt.mipro_optimizer_v2: \n",
      "==> STEP 2: PROPOSE INSTRUCTION CANDIDATES <==\n",
      "2025/08/20 18:19:10 INFO dspy.teleprompt.mipro_optimizer_v2: We will use the few-shot examples from the previous step, a generated dataset summary, a summary of the program code, and a randomly selected prompting tip to propose instructions.\n"
     ]
    },
    {
     "name": "stdout",
     "output_type": "stream",
     "text": [
      "Bootstrapped 0 full traces after 0 examples for up to 1 rounds, amounting to 1 attempts.\n"
     ]
    },
    {
     "name": "stderr",
     "output_type": "stream",
     "text": [
      "2025/08/20 18:19:11 INFO dspy.teleprompt.mipro_optimizer_v2: \n",
      "Proposing N=3 instructions...\n",
      "\n",
      "2025/08/20 18:19:24 INFO dspy.teleprompt.mipro_optimizer_v2: Proposed Instructions for Predictor 0:\n",
      "\n",
      "2025/08/20 18:19:24 INFO dspy.teleprompt.mipro_optimizer_v2: 0: Verify that the text is based on the provided context.\n",
      "\n",
      "2025/08/20 18:19:24 INFO dspy.teleprompt.mipro_optimizer_v2: 1: Given two places with addresses and names, determine if they likely refer to the same location by calculating the match confidence level based on the similarity of the addresses and names. Provide a rationale for the match decision, considering scenarios where small variations in names are common for similar locations.\n",
      "\n",
      "2025/08/20 18:19:24 INFO dspy.teleprompt.mipro_optimizer_v2: 2: Given two places with addresses and names, determine if they refer to the same location. Calculate the match confidence level and provide a rationale for your decision based on the similarity in addresses and names. Consider a high stakes scenario where accurate identification is crucial for emergency response teams to reach the correct location swiftly and effectively.\n",
      "\n",
      "2025/08/20 18:19:24 INFO dspy.teleprompt.mipro_optimizer_v2: \n",
      "\n",
      "2025/08/20 18:19:24 INFO dspy.teleprompt.mipro_optimizer_v2: ==> STEP 3: FINDING OPTIMAL PROMPT PARAMETERS <==\n",
      "2025/08/20 18:19:24 INFO dspy.teleprompt.mipro_optimizer_v2: We will evaluate the program over a series of trials with different combinations of instructions and few-shot examples to find the optimal combination using Bayesian Optimization.\n",
      "\n",
      "2025/08/20 18:19:24 INFO dspy.teleprompt.mipro_optimizer_v2: == Trial 1 / 10 - Full Evaluation of Default Program ==\n"
     ]
    },
    {
     "name": "stdout",
     "output_type": "stream",
     "text": [
      "  0%|          | 0/4 [00:00<?, ?it/s]"
     ]
    },
    {
     "data": {
      "text/markdown": [
       "**Validate()**\n",
       "\n",
       "**Example**: Example({'place_one': {'address': '303 Cedar Ln, North Haverbrook', 'name': 'North Haverbrook Gym'}, 'place_two': {'address': '404 Elm St, North Haverbrook', 'name': 'North Haverbrook Fitness Center'}, 'is_match': False}) (input_keys={'place_one', 'place_two'})**Prediction**: Prediction(\n",
       "    is_match=False,\n",
       "    match_confidence='high',\n",
       "    rationale='The two places have different addresses (\"303 Cedar Ln\" vs. \"404 Elm St\") and different names (\"North Haverbrook Gym\" vs. \"North Haverbrook Fitness Center\"). While both are fitness-related businesses in the same town, the differences in both name and address strongly indicate they are distinct entities.'\n",
       ")"
      ],
      "text/plain": [
       "<IPython.core.display.Markdown object>"
      ]
     },
     "metadata": {},
     "output_type": "display_data"
    },
    {
     "name": "stdout",
     "output_type": "stream",
     "text": [
      "Average Metric: 1.00 / 1 (100.0%):  25%|██▌       | 1/4 [00:01<00:04,  1.55s/it]"
     ]
    },
    {
     "data": {
      "text/markdown": [
       "**Validate()**\n",
       "\n",
       "**Example**: Example({'place_one': {'address': '789 Pine Rd, Capital City', 'name': 'Capital City Zoo'}, 'place_two': {'address': '101 Maple St, Capital City', 'name': 'Capital City Aquarium'}, 'is_match': False}) (input_keys={'place_one', 'place_two'})**Prediction**: Prediction(\n",
       "    is_match=False,\n",
       "    match_confidence='high',\n",
       "    rationale='The two places have different names (\"Capital City Zoo\" vs. \"Capital City Aquarium\") and different addresses (\"789 Pine Rd\" vs. \"101 Maple St\"), indicating they are distinct entities. The names also suggest they serve different purposes (a zoo vs. an aquarium), further supporting that they are not the same place.'\n",
       ")"
      ],
      "text/plain": [
       "<IPython.core.display.Markdown object>"
      ]
     },
     "metadata": {},
     "output_type": "display_data"
    },
    {
     "name": "stdout",
     "output_type": "stream",
     "text": [
      "Average Metric: 1.00 / 2 (50.0%):  50%|█████     | 2/4 [00:01<00:01,  1.20it/s] "
     ]
    },
    {
     "data": {
      "text/markdown": [
       "**Validate()**\n",
       "\n",
       "**Example**: Example({'place_one': {'address': '202 Birch Blvd, Ogdenville', 'name': 'Ogdenville Coffee House'}, 'place_two': {'address': '202 Birch Blvd, Ogdenville', 'name': 'Ogdenville Café'}, 'is_match': True}) (input_keys={'place_one', 'place_two'})**Prediction**: Prediction(\n",
       "    is_match=True,\n",
       "    match_confidence='high',\n",
       "    rationale='Both entries share the exact same address (\"202 Birch Blvd, Ogdenville\"), which strongly suggests they refer to the same physical location. The names, \"Ogdenville Coffee House\" and \"Ogdenville Café,\" are very similar and both describe a coffee-serving establishment, with \"Café\" and \"Coffee House\" often used interchangeably. The combination of identical address and similar business type/name makes it highly likely these are the same place, possibly with a slight variation or rebranding in the name.'\n",
       ")"
      ],
      "text/plain": [
       "<IPython.core.display.Markdown object>"
      ]
     },
     "metadata": {},
     "output_type": "display_data"
    },
    {
     "name": "stdout",
     "output_type": "stream",
     "text": [
      "Average Metric: 2.00 / 3 (66.7%):  75%|███████▌  | 3/4 [00:03<00:01,  1.02s/it]"
     ]
    },
    {
     "data": {
      "text/markdown": [
       "**Validate()**\n",
       "\n",
       "**Example**: Example({'place_one': {'address': '456 Oak Ave, Shelbyville', 'name': 'Shelbyville Museum'}, 'place_two': {'address': '456 Oak Avenue, Shelbyville', 'name': 'Shelbyville History Museum'}, 'is_match': True}) (input_keys={'place_one', 'place_two'})**Prediction**: Prediction(\n",
       "    is_match=True,\n",
       "    match_confidence='high',\n",
       "    rationale='Both entries share the same street address (\"456 Oak Ave\"/\"456 Oak Avenue\", which is a minor difference in abbreviation) and are located in the same city (Shelbyville). The names are very similar, with the only difference being the addition of \"History\" in the second name, which is a plausible variation for a museum\\'s formal or informal name. These factors strongly indicate that both refer to the same place.'\n",
       ")"
      ],
      "text/plain": [
       "<IPython.core.display.Markdown object>"
      ]
     },
     "metadata": {},
     "output_type": "display_data"
    },
    {
     "name": "stdout",
     "output_type": "stream",
     "text": [
      "Average Metric: 2.00 / 4 (50.0%): 100%|██████████| 4/4 [00:03<00:00,  1.23it/s]"
     ]
    },
    {
     "name": "stderr",
     "output_type": "stream",
     "text": [
      "2025/08/20 18:19:27 INFO dspy.evaluate.evaluate: Average Metric: 2 / 4 (50.0%)\n",
      "2025/08/20 18:19:27 INFO dspy.teleprompt.mipro_optimizer_v2: Default program score: 50.0\n",
      "\n",
      "2025/08/20 18:19:27 INFO dspy.teleprompt.mipro_optimizer_v2: ===== Trial 2 / 10 =====\n"
     ]
    },
    {
     "name": "stdout",
     "output_type": "stream",
     "text": [
      "\n",
      "  0%|          | 0/4 [00:00<?, ?it/s]"
     ]
    },
    {
     "data": {
      "text/markdown": [
       "**Validate()**\n",
       "\n",
       "**Example**: Example({'place_one': {'address': '789 Pine Rd, Capital City', 'name': 'Capital City Zoo'}, 'place_two': {'address': '101 Maple St, Capital City', 'name': 'Capital City Aquarium'}, 'is_match': False}) (input_keys={'place_one', 'place_two'})**Prediction**: Prediction(\n",
       "    is_match=False,\n",
       "    match_confidence='low',\n",
       "    rationale='The addresses are completely different (\"789 Pine Rd\" vs. \"101 Maple St\"), and the names refer to different types of attractions (\"Zoo\" vs. \"Aquarium\"). There is no strong indication that these are the same place, as they likely represent two distinct locations in Capital City.'\n",
       ")"
      ],
      "text/plain": [
       "<IPython.core.display.Markdown object>"
      ]
     },
     "metadata": {},
     "output_type": "display_data"
    },
    {
     "name": "stdout",
     "output_type": "stream",
     "text": [
      "Average Metric: 1.00 / 1 (100.0%):  25%|██▌       | 1/4 [00:01<00:05,  1.74s/it]"
     ]
    },
    {
     "data": {
      "text/markdown": [
       "**Validate()**\n",
       "\n",
       "**Example**: Example({'place_one': {'address': '303 Cedar Ln, North Haverbrook', 'name': 'North Haverbrook Gym'}, 'place_two': {'address': '404 Elm St, North Haverbrook', 'name': 'North Haverbrook Fitness Center'}, 'is_match': False}) (input_keys={'place_one', 'place_two'})**Prediction**: Prediction(\n",
       "    is_match=False,\n",
       "    match_confidence='low',\n",
       "    rationale='The addresses are completely different (\"303 Cedar Ln\" vs. \"404 Elm St\"), indicating two separate locations. While the names are similar in that both refer to fitness facilities in North Haverbrook, \"Gym\" and \"Fitness Center\" are generic terms and could easily refer to different businesses or facilities. There is no strong evidence to suggest these are the same place.'\n",
       ")"
      ],
      "text/plain": [
       "<IPython.core.display.Markdown object>"
      ]
     },
     "metadata": {},
     "output_type": "display_data"
    },
    {
     "name": "stdout",
     "output_type": "stream",
     "text": [
      "Average Metric: 1.00 / 2 (50.0%):  50%|█████     | 2/4 [00:02<00:02,  1.24s/it] "
     ]
    },
    {
     "data": {
      "text/markdown": [
       "**Validate()**\n",
       "\n",
       "**Example**: Example({'place_one': {'address': '202 Birch Blvd, Ogdenville', 'name': 'Ogdenville Coffee House'}, 'place_two': {'address': '202 Birch Blvd, Ogdenville', 'name': 'Ogdenville Café'}, 'is_match': True}) (input_keys={'place_one', 'place_two'})**Prediction**: Prediction(\n",
       "    is_match=True,\n",
       "    match_confidence='high',\n",
       "    rationale='Both places have the exact same address (\"202 Birch Blvd, Ogdenville\"), which strongly suggests they are the same location. The names, \"Ogdenville Coffee House\" and \"Ogdenville Café,\" are similar in meaning, as \"café\" and \"coffee house\" are often used interchangeably to describe establishments serving coffee and light refreshments. The combination of identical addresses and similar business types makes it highly likely these refer to the same place, possibly with a slight rebranding or alternate naming.'\n",
       ")"
      ],
      "text/plain": [
       "<IPython.core.display.Markdown object>"
      ]
     },
     "metadata": {},
     "output_type": "display_data"
    },
    {
     "name": "stdout",
     "output_type": "stream",
     "text": [
      "Average Metric: 2.00 / 3 (66.7%):  75%|███████▌  | 3/4 [00:03<00:00,  1.00it/s]"
     ]
    },
    {
     "data": {
      "text/markdown": [
       "**Validate()**\n",
       "\n",
       "**Example**: Example({'place_one': {'address': '456 Oak Ave, Shelbyville', 'name': 'Shelbyville Museum'}, 'place_two': {'address': '456 Oak Avenue, Shelbyville', 'name': 'Shelbyville History Museum'}, 'is_match': True}) (input_keys={'place_one', 'place_two'})**Prediction**: Prediction(\n",
       "    is_match=True,\n",
       "    match_confidence='high',\n",
       "    rationale='The addresses are effectively identical, with only a minor difference in the spelling of \"Ave\" versus \"Avenue,\" which is a common abbreviation. The names are also very similar, with the second name adding \"History\" to \"Shelbyville Museum.\" It is common for museums to be referred to both with and without a descriptor like \"History.\" Given the matching address and the strong similarity in names, it is highly likely these refer to the same place.'\n",
       ")"
      ],
      "text/plain": [
       "<IPython.core.display.Markdown object>"
      ]
     },
     "metadata": {},
     "output_type": "display_data"
    },
    {
     "name": "stdout",
     "output_type": "stream",
     "text": [
      "Average Metric: 2.00 / 4 (50.0%): 100%|██████████| 4/4 [00:04<00:00,  1.00s/it]"
     ]
    },
    {
     "name": "stderr",
     "output_type": "stream",
     "text": [
      "2025/08/20 18:19:31 INFO dspy.evaluate.evaluate: Average Metric: 2 / 4 (50.0%)\n",
      "2025/08/20 18:19:31 INFO dspy.teleprompt.mipro_optimizer_v2: Score: 50.0 with parameters ['Predictor 0: Instruction 1', 'Predictor 0: Few-Shot Set 3'].\n",
      "2025/08/20 18:19:31 INFO dspy.teleprompt.mipro_optimizer_v2: Scores so far: [50.0, 50.0]\n",
      "2025/08/20 18:19:31 INFO dspy.teleprompt.mipro_optimizer_v2: Best score so far: 50.0\n",
      "2025/08/20 18:19:31 INFO dspy.teleprompt.mipro_optimizer_v2: ========================\n",
      "\n",
      "\n",
      "2025/08/20 18:19:31 INFO dspy.teleprompt.mipro_optimizer_v2: ===== Trial 3 / 10 =====\n"
     ]
    },
    {
     "name": "stdout",
     "output_type": "stream",
     "text": [
      "\n",
      "  0%|          | 0/4 [00:00<?, ?it/s]"
     ]
    },
    {
     "data": {
      "text/markdown": [
       "**Validate()**\n",
       "\n",
       "**Example**: Example({'place_one': {'address': '303 Cedar Ln, North Haverbrook', 'name': 'North Haverbrook Gym'}, 'place_two': {'address': '404 Elm St, North Haverbrook', 'name': 'North Haverbrook Fitness Center'}, 'is_match': False}) (input_keys={'place_one', 'place_two'})**Prediction**: Prediction(\n",
       "    is_match=False,\n",
       "    match_confidence='high',\n",
       "    rationale='The two places have different addresses (\"303 Cedar Ln\" vs. \"404 Elm St\") and different names (\"North Haverbrook Gym\" vs. \"North Haverbrook Fitness Center\"). While both are fitness-related facilities in the same town, the differences in both address and name strongly indicate they are separate locations. In a high-stakes emergency response scenario, these distinctions are critical to avoid confusion and ensure the correct location is reached.'\n",
       ")"
      ],
      "text/plain": [
       "<IPython.core.display.Markdown object>"
      ]
     },
     "metadata": {},
     "output_type": "display_data"
    },
    {
     "name": "stdout",
     "output_type": "stream",
     "text": [
      "Average Metric: 1.00 / 1 (100.0%):  25%|██▌       | 1/4 [00:02<00:06,  2.05s/it]"
     ]
    },
    {
     "data": {
      "text/markdown": [
       "**Validate()**\n",
       "\n",
       "**Example**: Example({'place_one': {'address': '789 Pine Rd, Capital City', 'name': 'Capital City Zoo'}, 'place_two': {'address': '101 Maple St, Capital City', 'name': 'Capital City Aquarium'}, 'is_match': False}) (input_keys={'place_one', 'place_two'})**Prediction**: Prediction(\n",
       "    is_match=False,\n",
       "    match_confidence='high',\n",
       "    rationale='The names of the places are distinctly different: \"Capital City Zoo\" versus \"Capital City Aquarium,\" indicating they are different types of attractions. Additionally, the addresses are completely different, with one on Pine Rd and the other on Maple St, both in Capital City. There is no significant overlap in either name or address to suggest these are the same location. In a high-stakes emergency response scenario, these should be treated as separate places to avoid confusion.'\n",
       ")"
      ],
      "text/plain": [
       "<IPython.core.display.Markdown object>"
      ]
     },
     "metadata": {},
     "output_type": "display_data"
    },
    {
     "name": "stdout",
     "output_type": "stream",
     "text": [
      "Average Metric: 1.00 / 2 (50.0%):  50%|█████     | 2/4 [00:02<00:01,  1.01it/s] "
     ]
    },
    {
     "data": {
      "text/markdown": [
       "**Validate()**\n",
       "\n",
       "**Example**: Example({'place_one': {'address': '456 Oak Ave, Shelbyville', 'name': 'Shelbyville Museum'}, 'place_two': {'address': '456 Oak Avenue, Shelbyville', 'name': 'Shelbyville History Museum'}, 'is_match': True}) (input_keys={'place_one', 'place_two'})**Prediction**: Prediction(\n",
       "    is_match=True,\n",
       "    match_confidence='high',\n",
       "    rationale='The addresses are identical except for the abbreviation \"Ave\" versus \"Avenue,\" which are equivalent. Both places are located at 456 Oak Ave/Avenue in Shelbyville. The names are highly similar, with the only difference being the addition of \"History\" in the second name. It is common for institutions like museums to be referred to both with and without descriptors like \"History.\" Given the exact address match and the strong similarity in names, it is highly likely these refer to the same location.'\n",
       ")"
      ],
      "text/plain": [
       "<IPython.core.display.Markdown object>"
      ]
     },
     "metadata": {},
     "output_type": "display_data"
    },
    {
     "name": "stdout",
     "output_type": "stream",
     "text": [
      "Average Metric: 1.00 / 3 (33.3%):  75%|███████▌  | 3/4 [00:02<00:00,  1.63it/s]"
     ]
    },
    {
     "data": {
      "text/markdown": [
       "**Validate()**\n",
       "\n",
       "**Example**: Example({'place_one': {'address': '202 Birch Blvd, Ogdenville', 'name': 'Ogdenville Coffee House'}, 'place_two': {'address': '202 Birch Blvd, Ogdenville', 'name': 'Ogdenville Café'}, 'is_match': True}) (input_keys={'place_one', 'place_two'})**Prediction**: Prediction(\n",
       "    is_match=True,\n",
       "    match_confidence='high',\n",
       "    rationale='Both places share the exact same address (\"202 Birch Blvd, Ogdenville\"), which is a strong indicator that they refer to the same physical location. The names, \"Ogdenville Coffee House\" and \"Ogdenville Café,\" are similar in meaning and both describe a coffee-serving establishment, with \"Café\" and \"Coffee House\" being near-synonyms. The combination of identical addresses and highly similar business types makes it highly likely these are the same place, possibly with a slight variation or rebranding in the name.'\n",
       ")"
      ],
      "text/plain": [
       "<IPython.core.display.Markdown object>"
      ]
     },
     "metadata": {},
     "output_type": "display_data"
    },
    {
     "name": "stdout",
     "output_type": "stream",
     "text": [
      "Average Metric: 1.00 / 4 (25.0%): 100%|██████████| 4/4 [00:02<00:00,  1.35it/s]"
     ]
    },
    {
     "name": "stderr",
     "output_type": "stream",
     "text": [
      "2025/08/20 18:19:34 INFO dspy.evaluate.evaluate: Average Metric: 1 / 4 (25.0%)\n",
      "2025/08/20 18:19:34 INFO dspy.teleprompt.mipro_optimizer_v2: Score: 25.0 with parameters ['Predictor 0: Instruction 2', 'Predictor 0: Few-Shot Set 0'].\n",
      "2025/08/20 18:19:34 INFO dspy.teleprompt.mipro_optimizer_v2: Scores so far: [50.0, 50.0, 25.0]\n",
      "2025/08/20 18:19:34 INFO dspy.teleprompt.mipro_optimizer_v2: Best score so far: 50.0\n",
      "2025/08/20 18:19:34 INFO dspy.teleprompt.mipro_optimizer_v2: ========================\n",
      "\n",
      "\n",
      "2025/08/20 18:19:34 INFO dspy.teleprompt.mipro_optimizer_v2: ===== Trial 4 / 10 =====\n"
     ]
    },
    {
     "name": "stdout",
     "output_type": "stream",
     "text": [
      "\n",
      "  0%|          | 0/4 [00:00<?, ?it/s]"
     ]
    },
    {
     "data": {
      "text/markdown": [
       "**Validate()**\n",
       "\n",
       "**Example**: Example({'place_one': {'address': '303 Cedar Ln, North Haverbrook', 'name': 'North Haverbrook Gym'}, 'place_two': {'address': '404 Elm St, North Haverbrook', 'name': 'North Haverbrook Fitness Center'}, 'is_match': False}) (input_keys={'place_one', 'place_two'})**Prediction**: Prediction(\n",
       "    is_match=False,\n",
       "    match_confidence='low',\n",
       "    rationale='The addresses are different (\"303 Cedar Ln\" vs \"404 Elm St\"), indicating they are at separate locations. While the names are similar in that both refer to fitness facilities in North Haverbrook, the specific names (\"Gym\" vs \"Fitness Center\") and the distinct addresses suggest they are likely different businesses or facilities.'\n",
       ")"
      ],
      "text/plain": [
       "<IPython.core.display.Markdown object>"
      ]
     },
     "metadata": {},
     "output_type": "display_data"
    },
    {
     "name": "stdout",
     "output_type": "stream",
     "text": [
      "Average Metric: 0.00 / 1 (0.0%):  25%|██▌       | 1/4 [00:01<00:05,  1.93s/it]"
     ]
    },
    {
     "data": {
      "text/markdown": [
       "**Validate()**\n",
       "\n",
       "**Example**: Example({'place_one': {'address': '789 Pine Rd, Capital City', 'name': 'Capital City Zoo'}, 'place_two': {'address': '101 Maple St, Capital City', 'name': 'Capital City Aquarium'}, 'is_match': False}) (input_keys={'place_one', 'place_two'})**Prediction**: Prediction(\n",
       "    is_match=False,\n",
       "    match_confidence='high',\n",
       "    rationale='The addresses are completely different (789 Pine Rd vs. 101 Maple St), and the names refer to two distinct types of attractions (\"Zoo\" vs. \"Aquarium\"). There is no indication that these are alternate names for the same place; rather, they are likely two separate attractions in the same city.'\n",
       ")"
      ],
      "text/plain": [
       "<IPython.core.display.Markdown object>"
      ]
     },
     "metadata": {},
     "output_type": "display_data"
    },
    {
     "name": "stdout",
     "output_type": "stream",
     "text": [
      "Average Metric: 0.00 / 2 (0.0%):  50%|█████     | 2/4 [00:02<00:02,  1.02s/it]"
     ]
    },
    {
     "data": {
      "text/markdown": [
       "**Validate()**\n",
       "\n",
       "**Example**: Example({'place_one': {'address': '202 Birch Blvd, Ogdenville', 'name': 'Ogdenville Coffee House'}, 'place_two': {'address': '202 Birch Blvd, Ogdenville', 'name': 'Ogdenville Café'}, 'is_match': True}) (input_keys={'place_one', 'place_two'})**Prediction**: Prediction(\n",
       "    is_match=True,\n",
       "    match_confidence='high',\n",
       "    rationale='Both places share the exact same address (\"202 Birch Blvd, Ogdenville\"), which strongly indicates they are the same physical location. The names are similar in meaning—\"Coffee House\" and \"Café\" are often used interchangeably for coffee establishments. The difference in naming could be due to branding or a recent name change, but the address match provides high confidence that these refer to the same place.'\n",
       ")"
      ],
      "text/plain": [
       "<IPython.core.display.Markdown object>"
      ]
     },
     "metadata": {},
     "output_type": "display_data"
    },
    {
     "name": "stdout",
     "output_type": "stream",
     "text": [
      "Average Metric: 0.00 / 3 (0.0%):  75%|███████▌  | 3/4 [00:02<00:00,  1.37it/s]"
     ]
    },
    {
     "data": {
      "text/markdown": [
       "**Validate()**\n",
       "\n",
       "**Example**: Example({'place_one': {'address': '456 Oak Ave, Shelbyville', 'name': 'Shelbyville Museum'}, 'place_two': {'address': '456 Oak Avenue, Shelbyville', 'name': 'Shelbyville History Museum'}, 'is_match': True}) (input_keys={'place_one', 'place_two'})**Prediction**: Prediction(\n",
       "    is_match=True,\n",
       "    match_confidence='high',\n",
       "    rationale='The addresses are effectively identical, with only a minor difference in the spelling of \"Ave\" versus \"Avenue,\" which is a common abbreviation. The names are very similar, with the only difference being the addition of \"History\" in the second name. It is common for institutions like museums to have slight variations in their names, especially with or without descriptive words like \"History.\" Given the exact address match and the high similarity in names, it is highly likely these refer to the same place.'\n",
       ")"
      ],
      "text/plain": [
       "<IPython.core.display.Markdown object>"
      ]
     },
     "metadata": {},
     "output_type": "display_data"
    },
    {
     "name": "stdout",
     "output_type": "stream",
     "text": [
      "Average Metric: 0.00 / 4 (0.0%): 100%|██████████| 4/4 [00:04<00:00,  1.06s/it]"
     ]
    },
    {
     "name": "stderr",
     "output_type": "stream",
     "text": [
      "2025/08/20 18:19:38 INFO dspy.evaluate.evaluate: Average Metric: 0 / 4 (0.0%)\n",
      "2025/08/20 18:19:38 INFO dspy.teleprompt.mipro_optimizer_v2: Score: 0.0 with parameters ['Predictor 0: Instruction 1', 'Predictor 0: Few-Shot Set 5'].\n",
      "2025/08/20 18:19:38 INFO dspy.teleprompt.mipro_optimizer_v2: Scores so far: [50.0, 50.0, 25.0, 0.0]\n",
      "2025/08/20 18:19:38 INFO dspy.teleprompt.mipro_optimizer_v2: Best score so far: 50.0\n",
      "2025/08/20 18:19:38 INFO dspy.teleprompt.mipro_optimizer_v2: ========================\n",
      "\n",
      "\n",
      "2025/08/20 18:19:38 INFO dspy.teleprompt.mipro_optimizer_v2: ===== Trial 5 / 10 =====\n"
     ]
    },
    {
     "name": "stdout",
     "output_type": "stream",
     "text": [
      "\n",
      "  0%|          | 0/4 [00:00<?, ?it/s]"
     ]
    },
    {
     "data": {
      "text/markdown": [
       "**Validate()**\n",
       "\n",
       "**Example**: Example({'place_one': {'address': '789 Pine Rd, Capital City', 'name': 'Capital City Zoo'}, 'place_two': {'address': '101 Maple St, Capital City', 'name': 'Capital City Aquarium'}, 'is_match': False}) (input_keys={'place_one', 'place_two'})**Prediction**: Prediction(\n",
       "    is_match=False,\n",
       "    match_confidence='high',\n",
       "    rationale='The two places have different addresses (\"789 Pine Rd\" vs. \"101 Maple St\") and different names (\"Capital City Zoo\" vs. \"Capital City Aquarium\"). Zoos and aquariums are distinct types of institutions, and the addresses do not match. There is no indication that these refer to the same location.'\n",
       ")"
      ],
      "text/plain": [
       "<IPython.core.display.Markdown object>"
      ]
     },
     "metadata": {},
     "output_type": "display_data"
    },
    {
     "name": "stdout",
     "output_type": "stream",
     "text": [
      "Average Metric: 1.00 / 1 (100.0%):  25%|██▌       | 1/4 [00:01<00:04,  1.61s/it]"
     ]
    },
    {
     "data": {
      "text/markdown": [
       "**Validate()**\n",
       "\n",
       "**Example**: Example({'place_one': {'address': '456 Oak Ave, Shelbyville', 'name': 'Shelbyville Museum'}, 'place_two': {'address': '456 Oak Avenue, Shelbyville', 'name': 'Shelbyville History Museum'}, 'is_match': True}) (input_keys={'place_one', 'place_two'})**Prediction**: Prediction(\n",
       "    is_match=True,\n",
       "    match_confidence='high',\n",
       "    rationale='The addresses are functionally identical, with only a minor difference in the spelling of \"Ave\" versus \"Avenue,\" which is a common abbreviation. Both are located at \"456 Oak Ave/Avenue, Shelbyville.\" The names are also highly similar, with the second name adding \"History\" to \"Shelbyville Museum.\" It is common for museums to be referred to both with and without a descriptor like \"History.\" Given the identical address and the strong similarity in names, it is highly likely these refer to the same place.'\n",
       ")"
      ],
      "text/plain": [
       "<IPython.core.display.Markdown object>"
      ]
     },
     "metadata": {},
     "output_type": "display_data"
    },
    {
     "name": "stdout",
     "output_type": "stream",
     "text": [
      "Average Metric: 1.00 / 2 (50.0%):  50%|█████     | 2/4 [00:02<00:02,  1.05s/it] "
     ]
    },
    {
     "data": {
      "text/markdown": [
       "**Validate()**\n",
       "\n",
       "**Example**: Example({'place_one': {'address': '303 Cedar Ln, North Haverbrook', 'name': 'North Haverbrook Gym'}, 'place_two': {'address': '404 Elm St, North Haverbrook', 'name': 'North Haverbrook Fitness Center'}, 'is_match': False}) (input_keys={'place_one', 'place_two'})**Prediction**: Prediction(\n",
       "    is_match=False,\n",
       "    match_confidence='high',\n",
       "    rationale='The addresses are completely different (\"303 Cedar Ln\" vs. \"404 Elm St\"), indicating two separate physical locations. While the names are similar in that both refer to fitness facilities in North Haverbrook, the difference in both street address and the specific facility name (\"Gym\" vs. \"Fitness Center\") strongly suggests these are distinct places. In a high-stakes emergency response scenario, these differences are significant and should not be overlooked.'\n",
       ")"
      ],
      "text/plain": [
       "<IPython.core.display.Markdown object>"
      ]
     },
     "metadata": {},
     "output_type": "display_data"
    },
    {
     "name": "stdout",
     "output_type": "stream",
     "text": [
      "Average Metric: 2.00 / 3 (66.7%):  50%|█████     | 2/4 [00:02<00:02,  1.05s/it]"
     ]
    },
    {
     "data": {
      "text/markdown": [
       "**Validate()**\n",
       "\n",
       "**Example**: Example({'place_one': {'address': '202 Birch Blvd, Ogdenville', 'name': 'Ogdenville Coffee House'}, 'place_two': {'address': '202 Birch Blvd, Ogdenville', 'name': 'Ogdenville Café'}, 'is_match': True}) (input_keys={'place_one', 'place_two'})**Prediction**: Prediction(\n",
       "    is_match=True,\n",
       "    match_confidence='high',\n",
       "    rationale='Both places have the exact same address (\"202 Birch Blvd, Ogdenville\"), which strongly suggests they are the same physical location. The names, \"Ogdenville Coffee House\" and \"Ogdenville Café,\" are similar in meaning, as \"café\" and \"coffee house\" are often used interchangeably to describe establishments serving coffee and light refreshments. The combination of identical addresses and similar business types makes it highly likely these refer to the same place.'\n",
       ")"
      ],
      "text/plain": [
       "<IPython.core.display.Markdown object>"
      ]
     },
     "metadata": {},
     "output_type": "display_data"
    },
    {
     "name": "stdout",
     "output_type": "stream",
     "text": [
      "Average Metric: 2.00 / 4 (50.0%): 100%|██████████| 4/4 [00:02<00:00,  1.64it/s]"
     ]
    },
    {
     "name": "stderr",
     "output_type": "stream",
     "text": [
      "2025/08/20 18:19:41 INFO dspy.evaluate.evaluate: Average Metric: 2 / 4 (50.0%)\n",
      "2025/08/20 18:19:41 INFO dspy.teleprompt.mipro_optimizer_v2: Score: 50.0 with parameters ['Predictor 0: Instruction 2', 'Predictor 0: Few-Shot Set 2'].\n",
      "2025/08/20 18:19:41 INFO dspy.teleprompt.mipro_optimizer_v2: Scores so far: [50.0, 50.0, 25.0, 0.0, 50.0]\n",
      "2025/08/20 18:19:41 INFO dspy.teleprompt.mipro_optimizer_v2: Best score so far: 50.0\n",
      "2025/08/20 18:19:41 INFO dspy.teleprompt.mipro_optimizer_v2: ========================\n",
      "\n",
      "\n",
      "2025/08/20 18:19:41 INFO dspy.teleprompt.mipro_optimizer_v2: ===== Trial 6 / 10 =====\n"
     ]
    },
    {
     "name": "stdout",
     "output_type": "stream",
     "text": [
      "\n",
      "  0%|          | 0/4 [00:00<?, ?it/s]"
     ]
    },
    {
     "data": {
      "text/markdown": [
       "**Validate()**\n",
       "\n",
       "**Example**: Example({'place_one': {'address': '789 Pine Rd, Capital City', 'name': 'Capital City Zoo'}, 'place_two': {'address': '101 Maple St, Capital City', 'name': 'Capital City Aquarium'}, 'is_match': False}) (input_keys={'place_one', 'place_two'})**Prediction**: Prediction(\n",
       "    is_match=False,\n",
       "    match_confidence='high',\n",
       "    rationale='The two places have different names (\"Capital City Zoo\" vs. \"Capital City Aquarium\") and different addresses (\"789 Pine Rd\" vs. \"101 Maple St\"). A zoo and an aquarium are distinct types of attractions, and there is no indication that these are alternate names or locations for the same place. Therefore, they do not refer to the same place.'\n",
       ")"
      ],
      "text/plain": [
       "<IPython.core.display.Markdown object>"
      ]
     },
     "metadata": {},
     "output_type": "display_data"
    },
    {
     "name": "stdout",
     "output_type": "stream",
     "text": [
      "Average Metric: 0.00 / 1 (0.0%):  25%|██▌       | 1/4 [00:01<00:05,  1.72s/it]"
     ]
    },
    {
     "data": {
      "text/markdown": [
       "**Validate()**\n",
       "\n",
       "**Example**: Example({'place_one': {'address': '303 Cedar Ln, North Haverbrook', 'name': 'North Haverbrook Gym'}, 'place_two': {'address': '404 Elm St, North Haverbrook', 'name': 'North Haverbrook Fitness Center'}, 'is_match': False}) (input_keys={'place_one', 'place_two'})**Prediction**: Prediction(\n",
       "    is_match=False,\n",
       "    match_confidence='high',\n",
       "    rationale='The two places have different addresses (\"303 Cedar Ln\" vs. \"404 Elm St\") and different names (\"North Haverbrook Gym\" vs. \"North Haverbrook Fitness Center\"). While both are fitness-related facilities in the same town, the differences in both name and address strongly indicate they are distinct locations.'\n",
       ")"
      ],
      "text/plain": [
       "<IPython.core.display.Markdown object>"
      ]
     },
     "metadata": {},
     "output_type": "display_data"
    },
    {
     "name": "stdout",
     "output_type": "stream",
     "text": [
      "Average Metric: 0.00 / 2 (0.0%):  25%|██▌       | 1/4 [00:01<00:05,  1.72s/it]"
     ]
    },
    {
     "data": {
      "text/markdown": [
       "**Validate()**\n",
       "\n",
       "**Example**: Example({'place_one': {'address': '456 Oak Ave, Shelbyville', 'name': 'Shelbyville Museum'}, 'place_two': {'address': '456 Oak Avenue, Shelbyville', 'name': 'Shelbyville History Museum'}, 'is_match': True}) (input_keys={'place_one', 'place_two'})**Prediction**: Prediction(\n",
       "    is_match=True,\n",
       "    match_confidence='high',\n",
       "    rationale='Both entries share the same street address (with only a minor difference in \"Ave\" vs. \"Avenue\") and are located in the same city, Shelbyville. The names are very similar, with the only difference being the addition of \"History\" in the second name, which is a plausible variant or full name for a museum. These factors strongly indicate that both refer to the same place.'\n",
       ")"
      ],
      "text/plain": [
       "<IPython.core.display.Markdown object>"
      ]
     },
     "metadata": {},
     "output_type": "display_data"
    },
    {
     "name": "stdout",
     "output_type": "stream",
     "text": [
      "Average Metric: 0.00 / 3 (0.0%):  75%|███████▌  | 3/4 [00:02<00:00,  1.52it/s]"
     ]
    },
    {
     "data": {
      "text/markdown": [
       "**Validate()**\n",
       "\n",
       "**Example**: Example({'place_one': {'address': '202 Birch Blvd, Ogdenville', 'name': 'Ogdenville Coffee House'}, 'place_two': {'address': '202 Birch Blvd, Ogdenville', 'name': 'Ogdenville Café'}, 'is_match': True}) (input_keys={'place_one', 'place_two'})**Prediction**: Prediction(\n",
       "    is_match=True,\n",
       "    match_confidence='high',\n",
       "    rationale='Both entries share the exact same address (\"202 Birch Blvd, Ogdenville\"), indicating they refer to the same physical location. The names are very similar, with \"Coffee House\" and \"Café\" being near-synonyms in the context of food and beverage establishments. It is common for such places to use either term interchangeably or to rebrand slightly while remaining the same business. Therefore, it is highly likely these refer to the same place.'\n",
       ")"
      ],
      "text/plain": [
       "<IPython.core.display.Markdown object>"
      ]
     },
     "metadata": {},
     "output_type": "display_data"
    },
    {
     "name": "stdout",
     "output_type": "stream",
     "text": [
      "Average Metric: 1.00 / 4 (25.0%): 100%|██████████| 4/4 [00:02<00:00,  1.63it/s]"
     ]
    },
    {
     "name": "stderr",
     "output_type": "stream",
     "text": [
      "2025/08/20 18:19:43 INFO dspy.evaluate.evaluate: Average Metric: 1 / 4 (25.0%)\n",
      "2025/08/20 18:19:43 INFO dspy.teleprompt.mipro_optimizer_v2: Score: 25.0 with parameters ['Predictor 0: Instruction 0', 'Predictor 0: Few-Shot Set 5'].\n",
      "2025/08/20 18:19:43 INFO dspy.teleprompt.mipro_optimizer_v2: Scores so far: [50.0, 50.0, 25.0, 0.0, 50.0, 25.0]\n",
      "2025/08/20 18:19:43 INFO dspy.teleprompt.mipro_optimizer_v2: Best score so far: 50.0\n",
      "2025/08/20 18:19:43 INFO dspy.teleprompt.mipro_optimizer_v2: ========================\n",
      "\n",
      "\n",
      "2025/08/20 18:19:43 INFO dspy.teleprompt.mipro_optimizer_v2: ===== Trial 7 / 10 =====\n"
     ]
    },
    {
     "name": "stdout",
     "output_type": "stream",
     "text": [
      "\n",
      "  0%|          | 0/4 [00:00<?, ?it/s]"
     ]
    },
    {
     "data": {
      "text/markdown": [
       "**Validate()**\n",
       "\n",
       "**Example**: Example({'place_one': {'address': '789 Pine Rd, Capital City', 'name': 'Capital City Zoo'}, 'place_two': {'address': '101 Maple St, Capital City', 'name': 'Capital City Aquarium'}, 'is_match': False}) (input_keys={'place_one', 'place_two'})**Prediction**: Prediction(\n",
       "    is_match=False,\n",
       "    match_confidence='high',\n",
       "    rationale='The names of the places are distinctly different: \"Capital City Zoo\" versus \"Capital City Aquarium,\" indicating they are different types of attractions. Additionally, the addresses are completely different, with one on Pine Rd and the other on Maple St, both in Capital City. There is no significant overlap in either name or address to suggest these are the same location. In a high-stakes emergency response scenario, these should be treated as separate places to avoid confusion.'\n",
       ")"
      ],
      "text/plain": [
       "<IPython.core.display.Markdown object>"
      ]
     },
     "metadata": {},
     "output_type": "display_data"
    },
    {
     "name": "stdout",
     "output_type": "stream",
     "text": [
      "Average Metric: 0.00 / 1 (0.0%):  25%|██▌       | 1/4 [00:02<00:06,  2.30s/it]"
     ]
    },
    {
     "data": {
      "text/markdown": [
       "**Validate()**\n",
       "\n",
       "**Example**: Example({'place_one': {'address': '456 Oak Ave, Shelbyville', 'name': 'Shelbyville Museum'}, 'place_two': {'address': '456 Oak Avenue, Shelbyville', 'name': 'Shelbyville History Museum'}, 'is_match': True}) (input_keys={'place_one', 'place_two'})**Prediction**: Prediction(\n",
       "    is_match=True,\n",
       "    match_confidence='high',\n",
       "    rationale='Both places share the exact same street address, with only a minor difference in the spelling of \"Ave\" versus \"Avenue,\" which is a common abbreviation and does not indicate a different location. The city is identical (\"Shelbyville\"). The names are very similar, with the only difference being the addition of \"History\" in the second name, which is a plausible variation or full name for a museum. Given the identical address and highly similar names, it is highly likely these refer to the same place.'\n",
       ")"
      ],
      "text/plain": [
       "<IPython.core.display.Markdown object>"
      ]
     },
     "metadata": {},
     "output_type": "display_data"
    },
    {
     "name": "stdout",
     "output_type": "stream",
     "text": [
      "Average Metric: 0.00 / 2 (0.0%):  50%|█████     | 2/4 [00:02<00:02,  1.11s/it]"
     ]
    },
    {
     "data": {
      "text/markdown": [
       "**Validate()**\n",
       "\n",
       "**Example**: Example({'place_one': {'address': '303 Cedar Ln, North Haverbrook', 'name': 'North Haverbrook Gym'}, 'place_two': {'address': '404 Elm St, North Haverbrook', 'name': 'North Haverbrook Fitness Center'}, 'is_match': False}) (input_keys={'place_one', 'place_two'})**Prediction**: Prediction(\n",
       "    is_match=False,\n",
       "    match_confidence='medium',\n",
       "    rationale='The two places have different addresses (\"303 Cedar Ln\" vs. \"404 Elm St\") and different names (\"North Haverbrook Gym\" vs. \"North Haverbrook Fitness Center\"), though both are located in North Haverbrook and are fitness-related facilities. While it is possible that they could be related businesses or branches, the distinct addresses and names strongly suggest they are separate locations. In a high-stakes emergency response scenario, treating them as the same place could result in responders being sent to the wrong address.'\n",
       ")"
      ],
      "text/plain": [
       "<IPython.core.display.Markdown object>"
      ]
     },
     "metadata": {},
     "output_type": "display_data"
    },
    {
     "name": "stdout",
     "output_type": "stream",
     "text": [
      "Average Metric: 1.00 / 3 (33.3%):  75%|███████▌  | 3/4 [00:02<00:00,  1.43it/s]"
     ]
    },
    {
     "data": {
      "text/markdown": [
       "**Validate()**\n",
       "\n",
       "**Example**: Example({'place_one': {'address': '202 Birch Blvd, Ogdenville', 'name': 'Ogdenville Coffee House'}, 'place_two': {'address': '202 Birch Blvd, Ogdenville', 'name': 'Ogdenville Café'}, 'is_match': True}) (input_keys={'place_one', 'place_two'})**Prediction**: Prediction(\n",
       "    is_match=True,\n",
       "    match_confidence='high',\n",
       "    rationale='Both places share the exact same address (\"202 Birch Blvd, Ogdenville\"), which is a strong indicator that they refer to the same physical location. The names, \"Ogdenville Coffee House\" and \"Ogdenville Café,\" are similar in meaning, both referring to establishments serving coffee and related beverages. The difference in the name is minor and likely due to branding or translation preferences. Given the identical address and highly similar business type, it is highly likely these refer to the same place.'\n",
       ")"
      ],
      "text/plain": [
       "<IPython.core.display.Markdown object>"
      ]
     },
     "metadata": {},
     "output_type": "display_data"
    },
    {
     "name": "stdout",
     "output_type": "stream",
     "text": [
      "Average Metric: 1.00 / 4 (25.0%): 100%|██████████| 4/4 [00:03<00:00,  1.10it/s]"
     ]
    },
    {
     "name": "stderr",
     "output_type": "stream",
     "text": [
      "2025/08/20 18:19:47 INFO dspy.evaluate.evaluate: Average Metric: 1 / 4 (25.0%)\n",
      "2025/08/20 18:19:47 INFO dspy.teleprompt.mipro_optimizer_v2: Score: 25.0 with parameters ['Predictor 0: Instruction 2', 'Predictor 0: Few-Shot Set 0'].\n",
      "2025/08/20 18:19:47 INFO dspy.teleprompt.mipro_optimizer_v2: Scores so far: [50.0, 50.0, 25.0, 0.0, 50.0, 25.0, 25.0]\n",
      "2025/08/20 18:19:47 INFO dspy.teleprompt.mipro_optimizer_v2: Best score so far: 50.0\n",
      "2025/08/20 18:19:47 INFO dspy.teleprompt.mipro_optimizer_v2: ========================\n",
      "\n",
      "\n",
      "2025/08/20 18:19:47 INFO dspy.teleprompt.mipro_optimizer_v2: ===== Trial 8 / 10 =====\n"
     ]
    },
    {
     "name": "stdout",
     "output_type": "stream",
     "text": [
      "\n",
      "  0%|          | 0/4 [00:00<?, ?it/s]"
     ]
    },
    {
     "data": {
      "text/markdown": [
       "**Validate()**\n",
       "\n",
       "**Example**: Example({'place_one': {'address': '303 Cedar Ln, North Haverbrook', 'name': 'North Haverbrook Gym'}, 'place_two': {'address': '404 Elm St, North Haverbrook', 'name': 'North Haverbrook Fitness Center'}, 'is_match': False}) (input_keys={'place_one', 'place_two'})**Prediction**: Prediction(\n",
       "    is_match=False,\n",
       "    match_confidence='high',\n",
       "    rationale='The addresses are different (\"303 Cedar Ln\" vs \"404 Elm St\"), indicating two separate physical locations. While the names are similar in that both refer to fitness facilities in North Haverbrook, the specific names (\"Gym\" vs \"Fitness Center\") and the distinct addresses strongly suggest they are not the same place. In a high-stakes emergency response scenario, these differences are significant and would require treating them as separate locations.'\n",
       ")"
      ],
      "text/plain": [
       "<IPython.core.display.Markdown object>"
      ]
     },
     "metadata": {},
     "output_type": "display_data"
    },
    {
     "name": "stdout",
     "output_type": "stream",
     "text": [
      "Average Metric: 1.00 / 1 (100.0%):  25%|██▌       | 1/4 [00:01<00:05,  1.92s/it]"
     ]
    },
    {
     "data": {
      "text/markdown": [
       "**Validate()**\n",
       "\n",
       "**Example**: Example({'place_one': {'address': '789 Pine Rd, Capital City', 'name': 'Capital City Zoo'}, 'place_two': {'address': '101 Maple St, Capital City', 'name': 'Capital City Aquarium'}, 'is_match': False}) (input_keys={'place_one', 'place_two'})**Prediction**: Prediction(\n",
       "    is_match=False,\n",
       "    match_confidence='high',\n",
       "    rationale='The names and addresses of the two places are distinctly different: one is \"Capital City Zoo\" at 789 Pine Rd, and the other is \"Capital City Aquarium\" at 101 Maple St. Both the street names and the types of establishments (zoo vs. aquarium) do not match, indicating they are separate locations. In a high-stakes emergency response scenario, these differences are significant and would lead to different destinations.'\n",
       ")"
      ],
      "text/plain": [
       "<IPython.core.display.Markdown object>"
      ]
     },
     "metadata": {},
     "output_type": "display_data"
    },
    {
     "name": "stdout",
     "output_type": "stream",
     "text": [
      "Average Metric: 1.00 / 2 (50.0%):  25%|██▌       | 1/4 [00:02<00:05,  1.92s/it] "
     ]
    },
    {
     "data": {
      "text/markdown": [
       "**Validate()**\n",
       "\n",
       "**Example**: Example({'place_one': {'address': '202 Birch Blvd, Ogdenville', 'name': 'Ogdenville Coffee House'}, 'place_two': {'address': '202 Birch Blvd, Ogdenville', 'name': 'Ogdenville Café'}, 'is_match': True}) (input_keys={'place_one', 'place_two'})**Prediction**: Prediction(\n",
       "    is_match=True,\n",
       "    match_confidence='high',\n",
       "    rationale='Both places have the exact same address (\"202 Birch Blvd, Ogdenville\"), which strongly indicates they are the same physical location. The names are very similar, with \"Coffee House\" and \"Café\" being near-synonyms in the context of food and beverage establishments. The shared address and similar business type make it highly likely these refer to the same place, possibly with a slight variation or rebranding in the name.'\n",
       ")"
      ],
      "text/plain": [
       "<IPython.core.display.Markdown object>"
      ]
     },
     "metadata": {},
     "output_type": "display_data"
    },
    {
     "name": "stdout",
     "output_type": "stream",
     "text": [
      "Average Metric: 1.00 / 3 (33.3%):  75%|███████▌  | 3/4 [00:02<00:00,  1.41it/s]"
     ]
    },
    {
     "data": {
      "text/markdown": [
       "**Validate()**\n",
       "\n",
       "**Example**: Example({'place_one': {'address': '456 Oak Ave, Shelbyville', 'name': 'Shelbyville Museum'}, 'place_two': {'address': '456 Oak Avenue, Shelbyville', 'name': 'Shelbyville History Museum'}, 'is_match': True}) (input_keys={'place_one', 'place_two'})**Prediction**: Prediction(\n",
       "    is_match=True,\n",
       "    match_confidence='high',\n",
       "    rationale='Both entries share the exact same street number and city, with only a minor difference in the street suffix (\"Ave\" vs. \"Avenue\"), which are equivalent. The names are highly similar, with the only difference being the addition of \"History\" in the second name, which is a plausible extension or alternate naming for a museum. Given the identical address and strong name similarity, it is highly likely these refer to the same location.'\n",
       ")"
      ],
      "text/plain": [
       "<IPython.core.display.Markdown object>"
      ]
     },
     "metadata": {},
     "output_type": "display_data"
    },
    {
     "name": "stdout",
     "output_type": "stream",
     "text": [
      "Average Metric: 1.00 / 4 (25.0%): 100%|██████████| 4/4 [00:03<00:00,  1.29it/s]"
     ]
    },
    {
     "name": "stderr",
     "output_type": "stream",
     "text": [
      "2025/08/20 18:19:50 INFO dspy.evaluate.evaluate: Average Metric: 1 / 4 (25.0%)\n",
      "2025/08/20 18:19:50 INFO dspy.teleprompt.mipro_optimizer_v2: Score: 25.0 with parameters ['Predictor 0: Instruction 2', 'Predictor 0: Few-Shot Set 5'].\n",
      "2025/08/20 18:19:50 INFO dspy.teleprompt.mipro_optimizer_v2: Scores so far: [50.0, 50.0, 25.0, 0.0, 50.0, 25.0, 25.0, 25.0]\n",
      "2025/08/20 18:19:50 INFO dspy.teleprompt.mipro_optimizer_v2: Best score so far: 50.0\n",
      "2025/08/20 18:19:50 INFO dspy.teleprompt.mipro_optimizer_v2: ========================\n",
      "\n",
      "\n",
      "2025/08/20 18:19:50 INFO dspy.teleprompt.mipro_optimizer_v2: ===== Trial 9 / 10 =====\n"
     ]
    },
    {
     "name": "stdout",
     "output_type": "stream",
     "text": [
      "\n",
      "  0%|          | 0/4 [00:00<?, ?it/s]"
     ]
    },
    {
     "data": {
      "text/markdown": [
       "**Validate()**\n",
       "\n",
       "**Example**: Example({'place_one': {'address': '789 Pine Rd, Capital City', 'name': 'Capital City Zoo'}, 'place_two': {'address': '101 Maple St, Capital City', 'name': 'Capital City Aquarium'}, 'is_match': False}) (input_keys={'place_one', 'place_two'})**Prediction**: Prediction(\n",
       "    is_match=False,\n",
       "    match_confidence='high',\n",
       "    rationale='The two places have different addresses (\"789 Pine Rd\" vs. \"101 Maple St\") and different names (\"Capital City Zoo\" vs. \"Capital City Aquarium\"). Zoos and aquariums are distinct types of attractions, and the addresses do not match. Therefore, it is highly unlikely that these refer to the same place.'\n",
       ")"
      ],
      "text/plain": [
       "<IPython.core.display.Markdown object>"
      ]
     },
     "metadata": {},
     "output_type": "display_data"
    },
    {
     "name": "stdout",
     "output_type": "stream",
     "text": [
      "Average Metric: 1.00 / 1 (100.0%):  25%|██▌       | 1/4 [00:01<00:05,  1.75s/it]"
     ]
    },
    {
     "data": {
      "text/markdown": [
       "**Validate()**\n",
       "\n",
       "**Example**: Example({'place_one': {'address': '303 Cedar Ln, North Haverbrook', 'name': 'North Haverbrook Gym'}, 'place_two': {'address': '404 Elm St, North Haverbrook', 'name': 'North Haverbrook Fitness Center'}, 'is_match': False}) (input_keys={'place_one', 'place_two'})**Prediction**: Prediction(\n",
       "    is_match=False,\n",
       "    match_confidence='low',\n",
       "    rationale='The addresses are completely different (\"303 Cedar Ln\" vs. \"404 Elm St\"), indicating two separate locations. While the names are similar in that both refer to fitness facilities in North Haverbrook, \"Gym\" and \"Fitness Center\" are generic terms and could easily refer to different businesses or facilities. There is no strong evidence to suggest these are the same place.'\n",
       ")"
      ],
      "text/plain": [
       "<IPython.core.display.Markdown object>"
      ]
     },
     "metadata": {},
     "output_type": "display_data"
    },
    {
     "name": "stdout",
     "output_type": "stream",
     "text": [
      "Average Metric: 1.00 / 2 (50.0%):  50%|█████     | 2/4 [00:02<00:01,  1.05it/s] "
     ]
    },
    {
     "data": {
      "text/markdown": [
       "**Validate()**\n",
       "\n",
       "**Example**: Example({'place_one': {'address': '456 Oak Ave, Shelbyville', 'name': 'Shelbyville Museum'}, 'place_two': {'address': '456 Oak Avenue, Shelbyville', 'name': 'Shelbyville History Museum'}, 'is_match': True}) (input_keys={'place_one', 'place_two'})**Prediction**: Prediction(\n",
       "    is_match=True,\n",
       "    match_confidence='high',\n",
       "    rationale='The addresses are functionally identical, with \"Ave\" and \"Avenue\" being standard abbreviations for the same street type, and both are located in Shelbyville. The names are also highly similar, with the second name simply adding \"History\" to \"Shelbyville Museum.\" It is common for museums to be referred to with or without a descriptive word like \"History.\" Given the matching addresses and the strong similarity in names, it is highly likely these refer to the same place.'\n",
       ")"
      ],
      "text/plain": [
       "<IPython.core.display.Markdown object>"
      ]
     },
     "metadata": {},
     "output_type": "display_data"
    },
    {
     "name": "stdout",
     "output_type": "stream",
     "text": [
      "Average Metric: 1.00 / 3 (33.3%):  75%|███████▌  | 3/4 [00:02<00:00,  1.71it/s]"
     ]
    },
    {
     "data": {
      "text/markdown": [
       "**Validate()**\n",
       "\n",
       "**Example**: Example({'place_one': {'address': '202 Birch Blvd, Ogdenville', 'name': 'Ogdenville Coffee House'}, 'place_two': {'address': '202 Birch Blvd, Ogdenville', 'name': 'Ogdenville Café'}, 'is_match': True}) (input_keys={'place_one', 'place_two'})**Prediction**: Prediction(\n",
       "    is_match=True,\n",
       "    match_confidence='medium',\n",
       "    rationale='Both places share the exact same address (\"202 Birch Blvd, Ogdenville\"), which strongly suggests they are the same location. The names are different but related: \"Coffee House\" and \"Café\" are often used interchangeably to describe similar establishments. However, the difference in naming could also indicate a rebranding or a different business at the same address. Given the identical address and the related nature of the names, there is a medium confidence that these refer to the same place.'\n",
       ")"
      ],
      "text/plain": [
       "<IPython.core.display.Markdown object>"
      ]
     },
     "metadata": {},
     "output_type": "display_data"
    },
    {
     "name": "stdout",
     "output_type": "stream",
     "text": [
      "Average Metric: 2.00 / 4 (50.0%): 100%|██████████| 4/4 [00:02<00:00,  1.72it/s]"
     ]
    },
    {
     "name": "stderr",
     "output_type": "stream",
     "text": [
      "2025/08/20 18:19:52 INFO dspy.evaluate.evaluate: Average Metric: 2 / 4 (50.0%)\n",
      "2025/08/20 18:19:52 INFO dspy.teleprompt.mipro_optimizer_v2: Score: 50.0 with parameters ['Predictor 0: Instruction 1', 'Predictor 0: Few-Shot Set 4'].\n",
      "2025/08/20 18:19:52 INFO dspy.teleprompt.mipro_optimizer_v2: Scores so far: [50.0, 50.0, 25.0, 0.0, 50.0, 25.0, 25.0, 25.0, 50.0]\n",
      "2025/08/20 18:19:52 INFO dspy.teleprompt.mipro_optimizer_v2: Best score so far: 50.0\n",
      "2025/08/20 18:19:52 INFO dspy.teleprompt.mipro_optimizer_v2: ========================\n",
      "\n",
      "\n",
      "2025/08/20 18:19:52 INFO dspy.teleprompt.mipro_optimizer_v2: ===== Trial 10 / 10 =====\n"
     ]
    },
    {
     "name": "stdout",
     "output_type": "stream",
     "text": [
      "\n",
      "  0%|          | 0/4 [00:00<?, ?it/s]"
     ]
    },
    {
     "data": {
      "text/markdown": [
       "**Validate()**\n",
       "\n",
       "**Example**: Example({'place_one': {'address': '303 Cedar Ln, North Haverbrook', 'name': 'North Haverbrook Gym'}, 'place_two': {'address': '404 Elm St, North Haverbrook', 'name': 'North Haverbrook Fitness Center'}, 'is_match': False}) (input_keys={'place_one', 'place_two'})**Prediction**: Prediction(\n",
       "    is_match=False,\n",
       "    match_confidence='high',\n",
       "    rationale='The addresses are different (\"303 Cedar Ln\" vs \"404 Elm St\"), indicating two separate physical locations. While the names are similar in that both refer to fitness facilities in North Haverbrook, the specific names (\"Gym\" vs \"Fitness Center\") and the distinct addresses strongly suggest they are not the same place. In a high-stakes emergency response scenario, these differences are significant and indicate two different destinations.'\n",
       ")"
      ],
      "text/plain": [
       "<IPython.core.display.Markdown object>"
      ]
     },
     "metadata": {},
     "output_type": "display_data"
    },
    {
     "name": "stdout",
     "output_type": "stream",
     "text": [
      "Average Metric: 1.00 / 1 (100.0%):  25%|██▌       | 1/4 [00:01<00:04,  1.64s/it]"
     ]
    },
    {
     "data": {
      "text/markdown": [
       "**Validate()**\n",
       "\n",
       "**Example**: Example({'place_one': {'address': '789 Pine Rd, Capital City', 'name': 'Capital City Zoo'}, 'place_two': {'address': '101 Maple St, Capital City', 'name': 'Capital City Aquarium'}, 'is_match': False}) (input_keys={'place_one', 'place_two'})**Prediction**: Prediction(\n",
       "    is_match=False,\n",
       "    match_confidence='high',\n",
       "    rationale='The names and addresses of the two places are distinctly different. \"Capital City Zoo\" at \"789 Pine Rd\" and \"Capital City Aquarium\" at \"101 Maple St\" are separate institutions, as indicated by both their unique names (zoo vs. aquarium) and their different street addresses. There is no evidence to suggest these refer to the same location, making the likelihood of a match extremely low.'\n",
       ")"
      ],
      "text/plain": [
       "<IPython.core.display.Markdown object>"
      ]
     },
     "metadata": {},
     "output_type": "display_data"
    },
    {
     "name": "stdout",
     "output_type": "stream",
     "text": [
      "Average Metric: 1.00 / 2 (50.0%):  50%|█████     | 2/4 [00:01<00:01,  1.31it/s] "
     ]
    },
    {
     "data": {
      "text/markdown": [
       "**Validate()**\n",
       "\n",
       "**Example**: Example({'place_one': {'address': '456 Oak Ave, Shelbyville', 'name': 'Shelbyville Museum'}, 'place_two': {'address': '456 Oak Avenue, Shelbyville', 'name': 'Shelbyville History Museum'}, 'is_match': True}) (input_keys={'place_one', 'place_two'})**Prediction**: Prediction(\n",
       "    is_match=True,\n",
       "    match_confidence='high',\n",
       "    rationale='Both entries share the exact same street number and street name (with only a minor difference in \"Ave\" vs \"Avenue\", which is a common abbreviation), and both are located in Shelbyville. The names are highly similar, with the only difference being the addition of \"History\" in the second name, which is a plausible variation for a museum\\'s formal title. Given the identical address and the strong similarity in names, it is highly likely these refer to the same place.'\n",
       ")"
      ],
      "text/plain": [
       "<IPython.core.display.Markdown object>"
      ]
     },
     "metadata": {},
     "output_type": "display_data"
    },
    {
     "name": "stdout",
     "output_type": "stream",
     "text": [
      "Average Metric: 1.00 / 3 (33.3%):  75%|███████▌  | 3/4 [00:02<00:00,  1.73it/s]"
     ]
    },
    {
     "data": {
      "text/markdown": [
       "**Validate()**\n",
       "\n",
       "**Example**: Example({'place_one': {'address': '202 Birch Blvd, Ogdenville', 'name': 'Ogdenville Coffee House'}, 'place_two': {'address': '202 Birch Blvd, Ogdenville', 'name': 'Ogdenville Café'}, 'is_match': True}) (input_keys={'place_one', 'place_two'})**Prediction**: Prediction(\n",
       "    is_match=True,\n",
       "    match_confidence='high',\n",
       "    rationale='Both places share the exact same address (\"202 Birch Blvd, Ogdenville\"), which is a strong indicator that they refer to the same physical location. The names, \"Ogdenville Coffee House\" and \"Ogdenville Café,\" are very similar, with both indicating a coffee-serving establishment in Ogdenville. The difference in naming (\"Coffee House\" vs. \"Café\") is likely a stylistic or branding variation rather than an indication of two separate businesses at the same address. Given the identical address and highly similar business type, it is highly likely these refer to the same place.'\n",
       ")"
      ],
      "text/plain": [
       "<IPython.core.display.Markdown object>"
      ]
     },
     "metadata": {},
     "output_type": "display_data"
    },
    {
     "name": "stdout",
     "output_type": "stream",
     "text": [
      "Average Metric: 2.00 / 4 (50.0%): 100%|██████████| 4/4 [00:02<00:00,  1.82it/s]"
     ]
    },
    {
     "name": "stderr",
     "output_type": "stream",
     "text": [
      "2025/08/20 18:19:55 INFO dspy.evaluate.evaluate: Average Metric: 2 / 4 (50.0%)\n",
      "2025/08/20 18:19:55 INFO dspy.teleprompt.mipro_optimizer_v2: Score: 50.0 with parameters ['Predictor 0: Instruction 2', 'Predictor 0: Few-Shot Set 5'].\n",
      "2025/08/20 18:19:55 INFO dspy.teleprompt.mipro_optimizer_v2: Scores so far: [50.0, 50.0, 25.0, 0.0, 50.0, 25.0, 25.0, 25.0, 50.0, 50.0]\n",
      "2025/08/20 18:19:55 INFO dspy.teleprompt.mipro_optimizer_v2: Best score so far: 50.0\n",
      "2025/08/20 18:19:55 INFO dspy.teleprompt.mipro_optimizer_v2: =========================\n",
      "\n",
      "\n",
      "2025/08/20 18:19:55 INFO dspy.teleprompt.mipro_optimizer_v2: ===== Trial 11 / 10 =====\n"
     ]
    },
    {
     "name": "stdout",
     "output_type": "stream",
     "text": [
      "\n",
      "  0%|          | 0/4 [00:00<?, ?it/s]"
     ]
    },
    {
     "data": {
      "text/markdown": [
       "**Validate()**\n",
       "\n",
       "**Example**: Example({'place_one': {'address': '789 Pine Rd, Capital City', 'name': 'Capital City Zoo'}, 'place_two': {'address': '101 Maple St, Capital City', 'name': 'Capital City Aquarium'}, 'is_match': False}) (input_keys={'place_one', 'place_two'})**Prediction**: Prediction(\n",
       "    is_match=False,\n",
       "    match_confidence='high',\n",
       "    rationale='The two places have different names (\"Capital City Zoo\" vs. \"Capital City Aquarium\") and different addresses (\"789 Pine Rd\" vs. \"101 Maple St\"), indicating they are distinct entities. Both are located in Capital City, but the specific names and addresses confirm they are not the same place.'\n",
       ")"
      ],
      "text/plain": [
       "<IPython.core.display.Markdown object>"
      ]
     },
     "metadata": {},
     "output_type": "display_data"
    },
    {
     "name": "stdout",
     "output_type": "stream",
     "text": [
      "Average Metric: 1.00 / 1 (100.0%):  25%|██▌       | 1/4 [00:01<00:04,  1.52s/it]"
     ]
    },
    {
     "data": {
      "text/markdown": [
       "**Validate()**\n",
       "\n",
       "**Example**: Example({'place_one': {'address': '456 Oak Ave, Shelbyville', 'name': 'Shelbyville Museum'}, 'place_two': {'address': '456 Oak Avenue, Shelbyville', 'name': 'Shelbyville History Museum'}, 'is_match': True}) (input_keys={'place_one', 'place_two'})**Prediction**: Prediction(\n",
       "    is_match=True,\n",
       "    match_confidence='high',\n",
       "    rationale='Both entries share the same street address (\"456 Oak Ave\"/\"456 Oak Avenue\") in Shelbyville, with only a minor difference in the abbreviation of \"Avenue.\" The names are also highly similar, with both referring to a museum in Shelbyville, and the second name simply adds \"History\" for clarification. There is no evidence of two different museums at the same address, so it is highly likely these refer to the same place.'\n",
       ")"
      ],
      "text/plain": [
       "<IPython.core.display.Markdown object>"
      ]
     },
     "metadata": {},
     "output_type": "display_data"
    },
    {
     "name": "stdout",
     "output_type": "stream",
     "text": [
      "Average Metric: 1.00 / 2 (50.0%):  50%|█████     | 2/4 [00:02<00:02,  1.09s/it] "
     ]
    },
    {
     "data": {
      "text/markdown": [
       "**Validate()**\n",
       "\n",
       "**Example**: Example({'place_one': {'address': '303 Cedar Ln, North Haverbrook', 'name': 'North Haverbrook Gym'}, 'place_two': {'address': '404 Elm St, North Haverbrook', 'name': 'North Haverbrook Fitness Center'}, 'is_match': False}) (input_keys={'place_one', 'place_two'})**Prediction**: Prediction(\n",
       "    is_match=False,\n",
       "    match_confidence='high',\n",
       "    rationale='The two places have different addresses (\"303 Cedar Ln\" vs. \"404 Elm St\") and different names (\"North Haverbrook Gym\" vs. \"North Haverbrook Fitness Center\"). While both are fitness-related businesses in the same town, the differences in both name and address strongly indicate they are separate entities.'\n",
       ")"
      ],
      "text/plain": [
       "<IPython.core.display.Markdown object>"
      ]
     },
     "metadata": {},
     "output_type": "display_data"
    },
    {
     "name": "stdout",
     "output_type": "stream",
     "text": [
      "Average Metric: 1.00 / 3 (33.3%):  75%|███████▌  | 3/4 [00:02<00:00,  1.32it/s]"
     ]
    },
    {
     "data": {
      "text/markdown": [
       "**Validate()**\n",
       "\n",
       "**Example**: Example({'place_one': {'address': '202 Birch Blvd, Ogdenville', 'name': 'Ogdenville Coffee House'}, 'place_two': {'address': '202 Birch Blvd, Ogdenville', 'name': 'Ogdenville Café'}, 'is_match': True}) (input_keys={'place_one', 'place_two'})**Prediction**: Prediction(\n",
       "    is_match=True,\n",
       "    match_confidence='high',\n",
       "    rationale='Both entries share the exact same address (\"202 Birch Blvd, Ogdenville\"), which strongly suggests they refer to the same physical location. The names \"Ogdenville Coffee House\" and \"Ogdenville Café\" are very similar and both describe a coffee-serving establishment, with \"Café\" and \"Coffee House\" being near-synonyms. The combination of identical address and similar business type/name makes it highly likely these are the same place, possibly with a slight variation in naming or branding.'\n",
       ")"
      ],
      "text/plain": [
       "<IPython.core.display.Markdown object>"
      ]
     },
     "metadata": {},
     "output_type": "display_data"
    },
    {
     "name": "stdout",
     "output_type": "stream",
     "text": [
      "Average Metric: 2.00 / 4 (50.0%): 100%|██████████| 4/4 [00:02<00:00,  1.46it/s]"
     ]
    },
    {
     "name": "stderr",
     "output_type": "stream",
     "text": [
      "2025/08/20 18:19:58 INFO dspy.evaluate.evaluate: Average Metric: 2 / 4 (50.0%)\n",
      "2025/08/20 18:19:58 INFO dspy.teleprompt.mipro_optimizer_v2: Score: 50.0 with parameters ['Predictor 0: Instruction 0', 'Predictor 0: Few-Shot Set 0'].\n",
      "2025/08/20 18:19:58 INFO dspy.teleprompt.mipro_optimizer_v2: Scores so far: [50.0, 50.0, 25.0, 0.0, 50.0, 25.0, 25.0, 25.0, 50.0, 50.0, 50.0]\n",
      "2025/08/20 18:19:58 INFO dspy.teleprompt.mipro_optimizer_v2: Best score so far: 50.0\n",
      "2025/08/20 18:19:58 INFO dspy.teleprompt.mipro_optimizer_v2: =========================\n",
      "\n",
      "\n",
      "2025/08/20 18:19:58 INFO dspy.teleprompt.mipro_optimizer_v2: Returning best identified program with score 50.0!\n"
     ]
    },
    {
     "name": "stdout",
     "output_type": "stream",
     "text": [
      "\n"
     ]
    }
   ],
   "source": [
    "import random\n",
    "\n",
    "def validate_match(example, pred, trace=None):\n",
    "    md(\"**Validate()**\", \"\", \"**Example**: \", example, \"**Prediction**: \", pred)\n",
    "    #return example.is_match == pred.is_match  # The models are able to guess this every time so it always gets 100% score and thus doesn't optimise the prompt. Need a harder example.\n",
    "    return random.choice([True, False])  # randomise the response to force DSPY to try different prompts. Make it erratic on purpose.\n",
    "\n",
    "from dspy.teleprompt import *\n",
    "\n",
    "# prompt_lm = common.LlmClientFactory(settings).get_dspy_lm_chat_connecting_to_internal_databricks_model('databricks/databricks-gemma-3-12b')\n",
    "\n",
    "# mixtral-8x7b-v0-1\n",
    "#prompt_lm = common.LlmClientFactory(settings).get_dspy_lm_chat_connecting_to_internal_databricks_model('')\n",
    "#\n",
    "#md(prompt_lm('hello there who are you?'))\n",
    "\n",
    "# prompt_model: generates prompts/prompt candidates. Usually smaller model. This is the one used in PRD that the prompts will get called against.\n",
    "# task_model: AI Judge, evaluates outputs. Usually larger model. May be used internally by DSPy to help refine or rank those outputs.\n",
    "# validate_match(): Scores outputs of prompt_model\n",
    "tp = dspy.MIPROv2(metric=validate_match, auto=\"light\", prompt_model=prompt_lm, task_model=lm)\n",
    "optimized_matcher = tp.compile(matcher, trainset=trainset, requires_permission_to_run=False)"
   ]
  },
  {
   "cell_type": "code",
   "execution_count": null,
   "metadata": {},
   "outputs": [],
   "source": [
    "from pprint import pprint\n",
    "\n",
    "pprint(optimized_matcher)"
   ]
  },
  {
   "cell_type": "code",
   "execution_count": null,
   "metadata": {},
   "outputs": [],
   "source": [
    "# print(optimized_matcher)\n",
    "print(optimized_matcher.signature)"
   ]
  }
 ],
 "metadata": {
  "kernelspec": {
   "display_name": "Python 3",
   "language": "python",
   "name": "python3"
  },
  "language_info": {
   "codemirror_mode": {
    "name": "ipython",
    "version": 3
   },
   "file_extension": ".py",
   "mimetype": "text/x-python",
   "name": "python",
   "nbconvert_exporter": "python",
   "pygments_lexer": "ipython3",
   "version": "3.12.1"
  }
 },
 "nbformat": 4,
 "nbformat_minor": 2
}
