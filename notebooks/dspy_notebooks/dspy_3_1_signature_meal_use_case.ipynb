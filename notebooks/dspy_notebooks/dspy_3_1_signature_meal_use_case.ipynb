{
 "cells": [
  {
   "cell_type": "markdown",
   "id": "d12df947",
   "metadata": {},
   "source": [
    "**Table of contents**<a id='toc0_'></a>    \n",
    "- [Create a Meal Using Signatures](#toc1_)    \n",
    "\n",
    "<!-- vscode-jupyter-toc-config\n",
    "\tnumbering=false\n",
    "\tanchor=true\n",
    "\tflat=false\n",
    "\tminLevel=1\n",
    "\tmaxLevel=6\n",
    "\t/vscode-jupyter-toc-config -->\n",
    "<!-- THIS CELL WILL BE REPLACED ON TOC UPDATE. DO NOT WRITE YOUR TEXT IN THIS CELL -->"
   ]
  },
  {
   "cell_type": "markdown",
   "id": "5a41c99e",
   "metadata": {},
   "source": [
    "# <a id='toc1_'></a>[Create a Meal Using Signatures](#toc0_)\n",
    "\n",
    "Playing around with signatures by doing a simple meal suggestion\n",
    "\n",
    "Learning to build my domain models for usage later on.\n",
    "\n",
    "Domain: \n",
    "\n",
    "* Meal  \n",
    "    * Dish"
   ]
  },
  {
   "cell_type": "code",
   "execution_count": 68,
   "id": "4f94012e",
   "metadata": {},
   "outputs": [
    {
     "name": "stdout",
     "output_type": "stream",
     "text": [
      "Getting keys from environment variables\n"
     ]
    }
   ],
   "source": [
    "import dspy \n",
    "from pydantic import BaseModel\n",
    "from typing import Literal\n",
    "\n",
    "from common.my_settings import MySettings  \n",
    "from common.utils import md\n",
    "from common.llm_client_factory import LlmClientFactory\n",
    "from dspy_utils.dspy_helpers import md_dspy\n",
    "\n",
    "settings = MySettings().get()\n",
    "lm = dspy.LM('gpt-4.1', temperature=0.8, model_type='chat', cache=False, api_key=settings.OPENAI_API_KEY)\n",
    "dspy.configure(lm=lm)"
   ]
  },
  {
   "cell_type": "code",
   "execution_count": 69,
   "metadata": {},
   "outputs": [],
   "source": [
    "class Dish(BaseModel):\n",
    "    # Output\n",
    "    \n",
    "    dish_type: Literal[\"Fish\", \"Vegetarian\", \"Chicken\"] = dspy.OutputField() # This field is locked to a range of the Literal\n",
    "    name: str = dspy.OutputField()\n",
    "    \n",
    "class Meal(dspy.Signature):\n",
    "    \"\"\"\n",
    "    Suggest a meal\n",
    "    \"\"\"\n",
    "    \n",
    "    # Inputs\n",
    "    preferred_day = dspy.InputField(desc=\"Preferred day of the week for the meal\")\n",
    "    \n",
    "    # Outputs\n",
    "    dish: Dish = dspy.OutputField()\n",
    "    day_of_the_week: Literal[\"Monday\", \"Tuesday\", \"Wednesday\", \"Thursday\", \"Friday\", \"Saturday\", \"Sunday\"] = dspy.OutputField()\n",
    "    \n",
    "    # Display\n",
    "    def __str__(self):\n",
    "        return f\"Meal for {self.preferred_day}: {self.dish} on {self.day_of_the_week}\"\n"
   ]
  },
  {
   "cell_type": "code",
   "execution_count": null,
   "id": "4eb17089",
   "metadata": {},
   "outputs": [
    {
     "data": {
      "text/markdown": [
       "Prediction(\n",
       "    dish=Dish(dish_type='Chicken', name='Coronation Chicken Sandwiches'),\n",
       "    day_of_the_week='Sunday'\n",
       ")"
      ],
      "text/plain": [
       "<IPython.core.display.Markdown object>"
      ]
     },
     "metadata": {},
     "output_type": "display_data"
    }
   ],
   "source": [
    "# Call LLM\n",
    "predict = dspy.Predict(Meal)\n",
    "\n",
    "# Play around with preferred_day value like \n",
    "# setting: \"weekday\", \"28 Aug 2025\", \"weekend\" and see how it changes \"day_of_the_week\"\n",
    "result = predict(preferred_day=\"When the Wimbeldon finals are on\") # Should choose Sunday\n",
    "# result = predict(preferred_day=\"28 Aug 2025\") # Should select a \"Thursday\"\n",
    "# result = predict(preferred_day=\"Weekend\")  # Should select Sat or Sun\n",
    "# result = predict(preferred_day=\"Weekday\")  # Should select a work day\n",
    "\n",
    "md(result)"
   ]
  }
 ],
 "metadata": {
  "kernelspec": {
   "display_name": "Python 3",
   "language": "python",
   "name": "python3"
  },
  "language_info": {
   "codemirror_mode": {
    "name": "ipython",
    "version": 3
   },
   "file_extension": ".py",
   "mimetype": "text/x-python",
   "name": "python",
   "nbconvert_exporter": "python",
   "pygments_lexer": "ipython3",
   "version": "3.12.1"
  }
 },
 "nbformat": 4,
 "nbformat_minor": 5
}
