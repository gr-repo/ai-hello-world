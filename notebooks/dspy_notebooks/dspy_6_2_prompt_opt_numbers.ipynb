{
 "cells": [
  {
   "cell_type": "code",
   "execution_count": 1,
   "id": "cba74d54",
   "metadata": {},
   "outputs": [
    {
     "name": "stdout",
     "output_type": "stream",
     "text": [
      "Getting keys from environment variables\n"
     ]
    }
   ],
   "source": [
    "import sys\n",
    "import os\n",
    "import dspy \n",
    "from common.my_settings import MySettings  \n",
    "from common.utils import md\n",
    "from common.llm_client_factory import LlmClientFactory\n",
    "from dspy_utils.dspy_helpers import md_dspy\n",
    "\n",
    "settings = MySettings().get()"
   ]
  },
  {
   "cell_type": "code",
   "execution_count": 2,
   "id": "a588a231",
   "metadata": {},
   "outputs": [],
   "source": [
    "# Smaller LLM, this is the one that we are trying to optimize for, the prompts are going to be tweaked\n",
    "# to get the best out of this model\n",
    "lm_gpt35 = dspy.LM('gpt-3.5-turbo', temperature=0.8, model_type='chat', cache=False, api_key=settings.OPENAI_API_KEY)\n",
    "#dspy.configure(lm=lm_gpt35)\n",
    "\n",
    "# lm_gpt41mini = dspy.LM('gpt-4.1-mini', temperature=0.8, model_type='chat', cache=False, api_key=settings.OPENAI_API_KEY)\n",
    "# lm_gpt4omini = dspy.LM('gpt-4o-mini', temperature=0.8, model_type='chat', cache=False, api_key=settings.OPENAI_API_KEY)\n",
    "\n",
    "\n",
    "# # Larger LLM, this is the one that we are going to use to optimize the prompts\n",
    "# # It will be the helper/teach/AI Judge to assist in the optimization process\n",
    "lm_gpt4 = dspy.LM('gpt-4.1', temperature=0.9, model_type='chat', cache=False, api_key=settings.OPENAI_API_KEY)\n",
    "dspy.configure(lm=lm_gpt4)"
   ]
  },
  {
   "cell_type": "code",
   "execution_count": null,
   "id": "1ec372d5",
   "metadata": {},
   "outputs": [
    {
     "data": {
      "text/plain": [
       "['Hello! How can I assist you today?']"
      ]
     },
     "execution_count": 3,
     "metadata": {},
     "output_type": "execute_result"
    }
   ],
   "source": []
  },
  {
   "cell_type": "code",
   "execution_count": 4,
   "id": "2e49d7ec",
   "metadata": {},
   "outputs": [
    {
     "ename": "AttributeError",
     "evalue": "module 'dspy' has no attribute 'settings'",
     "output_type": "error",
     "traceback": [
      "\u001b[31m---------------------------------------------------------------------------\u001b[39m",
      "\u001b[31mAttributeError\u001b[39m                            Traceback (most recent call last)",
      "\u001b[36mCell\u001b[39m\u001b[36m \u001b[39m\u001b[32mIn[4]\u001b[39m\u001b[32m, line 10\u001b[39m\n\u001b[32m      7\u001b[39m     answer: Literal[\u001b[33m\"\u001b[39m\u001b[33mone\u001b[39m\u001b[33m\"\u001b[39m, \u001b[33m\"\u001b[39m\u001b[33mtwo\u001b[39m\u001b[33m\"\u001b[39m] = dspy.OutputField()\n\u001b[32m      9\u001b[39m numberPickerPredict = dspy.Predict(NumberPicker)\n\u001b[32m---> \u001b[39m\u001b[32m10\u001b[39m \u001b[43mnumberPickerPredict\u001b[49m\u001b[43m(\u001b[49m\u001b[43mnumber_guess\u001b[49m\u001b[43m=\u001b[49m\u001b[33;43m\"\u001b[39;49m\u001b[33;43meven\u001b[39;49m\u001b[33;43m\"\u001b[39;49m\u001b[43m)\u001b[49m\n",
      "\u001b[36mFile \u001b[39m\u001b[32m/usr/local/python/3.12.1/lib/python3.12/site-packages/dspy/predict/predict.py:86\u001b[39m, in \u001b[36mPredict.__call__\u001b[39m\u001b[34m(self, *args, **kwargs)\u001b[39m\n\u001b[32m     83\u001b[39m \u001b[38;5;28;01mif\u001b[39;00m args:\n\u001b[32m     84\u001b[39m     \u001b[38;5;28;01mraise\u001b[39;00m \u001b[38;5;167;01mValueError\u001b[39;00m(\u001b[38;5;28mself\u001b[39m._get_positional_args_error_message())\n\u001b[32m---> \u001b[39m\u001b[32m86\u001b[39m \u001b[38;5;28;01mreturn\u001b[39;00m \u001b[38;5;28;43msuper\u001b[39;49m\u001b[43m(\u001b[49m\u001b[43m)\u001b[49m\u001b[43m.\u001b[49m\u001b[34;43m__call__\u001b[39;49m\u001b[43m(\u001b[49m\u001b[43m*\u001b[49m\u001b[43m*\u001b[49m\u001b[43mkwargs\u001b[49m\u001b[43m)\u001b[49m\n",
      "\u001b[36mFile \u001b[39m\u001b[32m/usr/local/python/3.12.1/lib/python3.12/site-packages/dspy/utils/callback.py:324\u001b[39m, in \u001b[36mwith_callbacks.<locals>.sync_wrapper\u001b[39m\u001b[34m(instance, *args, **kwargs)\u001b[39m\n\u001b[32m    322\u001b[39m \u001b[38;5;129m@functools\u001b[39m.wraps(fn)\n\u001b[32m    323\u001b[39m \u001b[38;5;28;01mdef\u001b[39;00m\u001b[38;5;250m \u001b[39m\u001b[34msync_wrapper\u001b[39m(instance, *args, **kwargs):\n\u001b[32m--> \u001b[39m\u001b[32m324\u001b[39m     callbacks = \u001b[43m_get_active_callbacks\u001b[49m\u001b[43m(\u001b[49m\u001b[43minstance\u001b[49m\u001b[43m)\u001b[49m\n\u001b[32m    325\u001b[39m     \u001b[38;5;28;01mif\u001b[39;00m \u001b[38;5;129;01mnot\u001b[39;00m callbacks:\n\u001b[32m    326\u001b[39m         \u001b[38;5;28;01mreturn\u001b[39;00m fn(instance, *args, **kwargs)\n",
      "\u001b[36mFile \u001b[39m\u001b[32m/usr/local/python/3.12.1/lib/python3.12/site-packages/dspy/utils/callback.py:288\u001b[39m, in \u001b[36mwith_callbacks.<locals>._get_active_callbacks\u001b[39m\u001b[34m(instance)\u001b[39m\n\u001b[32m    286\u001b[39m \u001b[38;5;28;01mdef\u001b[39;00m\u001b[38;5;250m \u001b[39m\u001b[34m_get_active_callbacks\u001b[39m(instance):\n\u001b[32m    287\u001b[39m \u001b[38;5;250m    \u001b[39m\u001b[33;03m\"\"\"Get combined global and instance-level callbacks.\"\"\"\u001b[39;00m\n\u001b[32m--> \u001b[39m\u001b[32m288\u001b[39m     \u001b[38;5;28;01mreturn\u001b[39;00m \u001b[43mdspy\u001b[49m\u001b[43m.\u001b[49m\u001b[43msettings\u001b[49m.get(\u001b[33m\"\u001b[39m\u001b[33mcallbacks\u001b[39m\u001b[33m\"\u001b[39m, []) + \u001b[38;5;28mgetattr\u001b[39m(instance, \u001b[33m\"\u001b[39m\u001b[33mcallbacks\u001b[39m\u001b[33m\"\u001b[39m, [])\n",
      "\u001b[31mAttributeError\u001b[39m: module 'dspy' has no attribute 'settings'"
     ]
    }
   ],
   "source": [
    "# Create domain classes\n",
    "from typing import Literal\n",
    "    \n",
    "class NumberPicker(dspy.Signature):\n",
    "    \"\"\"Guess a number\"\"\"\n",
    "    number_guess: str = dspy.InputField()\n",
    "    answer: Literal[\"one\", \"two\"] = dspy.OutputField()\n",
    "\n",
    "numberPickerPredict = dspy.Predict(NumberPicker)\n",
    "numberPickerPredict(number_guess=\"even\")"
   ]
  },
  {
   "cell_type": "code",
   "execution_count": null,
   "id": "ec637b3a",
   "metadata": {},
   "outputs": [],
   "source": [
    "trainset = [\n",
    "    dspy.Example(number_guess=\"1\", answer=\"one\").with_inputs(\"number_guess\"),\n",
    "    dspy.Example(number_guess=\"2\", answer=\"two\").with_inputs(\"number_guess\"),\n",
    "    dspy.Example(number_guess=\"One\", answer=\"one\").with_inputs(\"number_guess\"),\n",
    "    dspy.Example(number_guess=\"Two\", answer=\"two\").with_inputs(\"number_guess\"),\n",
    "    dspy.Example(number_guess=\"The number: 1\", answer=\"one\").with_inputs(\"number_guess\"),\n",
    "    dspy.Example(number_guess=\"The number: 2\", answer=\"two\").with_inputs(\"number_guess\"),\n",
    "    dspy.Example(number_guess=\"Select the number: 1\", answer=\"one\").with_inputs(\"number_guess\"),\n",
    "    dspy.Example(number_guess=\"Select the number: 2\", answer=\"two\").with_inputs(\"number_guess\"),\n",
    "    dspy.Example(number_guess=\"Choose: 1\", answer=\"one\").with_inputs(\"number_guess\"),\n",
    "    dspy.Example(number_guess=\"Choose: 2\", answer=\"two\").with_inputs(\"number_guess\"),\n",
    "    dspy.Example(number_guess=\"Pick 1\", answer=\"one\").with_inputs(\"number_guess\"),\n",
    "    dspy.Example(number_guess=\"Pick 2\", answer=\"two\").with_inputs(\"number_guess\"),\n",
    "    dspy.Example(number_guess=\"Number one\", answer=\"one\").with_inputs(\"number_guess\"),\n",
    "    dspy.Example(number_guess=\"Number two\", answer=\"two\").with_inputs(\"number_guess\"),\n",
    "    dspy.Example(number_guess=\"Option 1\", answer=\"one\").with_inputs(\"number_guess\"),\n",
    "    dspy.Example(number_guess=\"Option 2\", answer=\"two\").with_inputs(\"number_guess\"),\n",
    "    dspy.Example(number_guess=\"Answer is 1\", answer=\"one\").with_inputs(\"number_guess\"),\n",
    "    dspy.Example(number_guess=\"Answer is 2\", answer=\"two\").with_inputs(\"number_guess\"),\n",
    "    dspy.Example(number_guess=\"Digit: 1\", answer=\"one\").with_inputs(\"number_guess\"),\n",
    "    dspy.Example(number_guess=\"Digit: 2\", answer=\"two\").with_inputs(\"number_guess\"),\n",
    "    dspy.Example(number_guess=\"Numeric value: 1\", answer=\"one\").with_inputs(\"number_guess\"),\n",
    "    dspy.Example(number_guess=\"Numeric value: 2\", answer=\"two\").with_inputs(\"number_guess\"),\n",
    "    dspy.Example(number_guess=\"Textual value: one\", answer=\"one\").with_inputs(\"number_guess\"),\n",
    "    dspy.Example(number_guess=\"Textual value: two\", answer=\"two\").with_inputs(\"number_guess\"),\n",
    "    dspy.Example(number_guess=\"Guess: 1\", answer=\"one\").with_inputs(\"number_guess\"),\n",
    "    dspy.Example(number_guess=\"Guess: 2\", answer=\"two\").with_inputs(\"number_guess\"),\n",
    "    dspy.Example(number_guess=\"1\", answer=\"one\").with_inputs(\"number_guess\"),\n",
    "    dspy.Example(number_guess=\"2\", answer=\"two\").with_inputs(\"number_guess\"),\n",
    "    dspy.Example(number_guess=\"One\", answer=\"one\").with_inputs(\"number_guess\"),\n",
    "    dspy.Example(number_guess=\"Two\", answer=\"two\").with_inputs(\"number_guess\"),\n",
    "    dspy.Example(number_guess=\"The number: 1\", answer=\"one\").with_inputs(\"number_guess\"),\n",
    "    dspy.Example(number_guess=\"The number: 2\", answer=\"two\").with_inputs(\"number_guess\"),\n",
    "    dspy.Example(number_guess=\"Select the number: 1\", answer=\"one\").with_inputs(\"number_guess\"),\n",
    "    dspy.Example(number_guess=\"Select the number: 2\", answer=\"two\").with_inputs(\"number_guess\"),\n",
    "    dspy.Example(number_guess=\"Choose: 1\", answer=\"one\").with_inputs(\"number_guess\"),\n",
    "    dspy.Example(number_guess=\"Choose: 2\", answer=\"two\").with_inputs(\"number_guess\"),\n",
    "    dspy.Example(number_guess=\"Pick 1\", answer=\"one\").with_inputs(\"number_guess\"),\n",
    "    dspy.Example(number_guess=\"Pick 2\", answer=\"two\").with_inputs(\"number_guess\"),\n",
    "    dspy.Example(number_guess=\"Number one\", answer=\"one\").with_inputs(\"number_guess\"),\n",
    "    dspy.Example(number_guess=\"Number two\", answer=\"two\").with_inputs(\"number_guess\"),\n",
    "    dspy.Example(number_guess=\"Option 1\", answer=\"one\").with_inputs(\"number_guess\"),\n",
    "    dspy.Example(number_guess=\"Option 2\", answer=\"two\").with_inputs(\"number_guess\"),\n",
    "    dspy.Example(number_guess=\"Answer is 1\", answer=\"one\").with_inputs(\"number_guess\"),\n",
    "    dspy.Example(number_guess=\"Answer is 2\", answer=\"two\").with_inputs(\"number_guess\"),\n",
    "    dspy.Example(number_guess=\"Digit: 1\", answer=\"one\").with_inputs(\"number_guess\"),\n",
    "    dspy.Example(number_guess=\"Digit: 2\", answer=\"two\").with_inputs(\"number_guess\"),\n",
    "    dspy.Example(number_guess=\"Numeric value: 1\", answer=\"one\").with_inputs(\"number_guess\"),\n",
    "    dspy.Example(number_guess=\"Numeric value: 2\", answer=\"two\").with_inputs(\"number_guess\"),\n",
    "    dspy.Example(number_guess=\"Textual value: one\", answer=\"one\").with_inputs(\"number_guess\"),\n",
    "    dspy.Example(number_guess=\"Textual value: two\", answer=\"two\").with_inputs(\"number_guess\")\n",
    "]\n"
   ]
  },
  {
   "cell_type": "code",
   "execution_count": null,
   "id": "5e991cb9",
   "metadata": {},
   "outputs": [
    {
     "name": "stderr",
     "output_type": "stream",
     "text": [
      "2025/09/03 17:09:19 INFO dspy.teleprompt.mipro_optimizer_v2: \n",
      "RUNNING WITH THE FOLLOWING HEAVY AUTO RUN SETTINGS:\n",
      "num_trials: 27\n",
      "minibatch: False\n",
      "num_fewshot_candidates: 18\n",
      "num_instruct_candidates: 9\n",
      "valset size: 3\n",
      "\n",
      "2025/09/03 17:09:19 INFO dspy.teleprompt.mipro_optimizer_v2: \n",
      "==> STEP 1: BOOTSTRAP FEWSHOT EXAMPLES <==\n",
      "2025/09/03 17:09:19 INFO dspy.teleprompt.mipro_optimizer_v2: These will be used as few-shot example candidates for our program and for creating instructions.\n",
      "\n",
      "2025/09/03 17:09:19 INFO dspy.teleprompt.mipro_optimizer_v2: Bootstrapping N=18 sets of demonstrations...\n"
     ]
    },
    {
     "name": "stdout",
     "output_type": "stream",
     "text": [
      "Bootstrapping set 1/18\n",
      "Bootstrapping set 2/18\n",
      "Bootstrapping set 3/18\n"
     ]
    },
    {
     "name": "stderr",
     "output_type": "stream",
     "text": [
      "  0%|          | 0/1 [00:00<?, ?it/s]"
     ]
    },
    {
     "name": "stdout",
     "output_type": "stream",
     "text": [
      "\n"
     ]
    },
    {
     "data": {
      "text/markdown": [
       "**expected**: Example({'number_guess': 'one', 'answer': 'one'}) (input_keys={'number_guess'})"
      ],
      "text/plain": [
       "<IPython.core.display.Markdown object>"
      ]
     },
     "metadata": {},
     "output_type": "display_data"
    },
    {
     "data": {
      "text/markdown": [
       "**actual**: Prediction(  \n",
       "    answer='one'  \n",
       ")"
      ],
      "text/plain": [
       "<IPython.core.display.Markdown object>"
      ]
     },
     "metadata": {},
     "output_type": "display_data"
    },
    {
     "data": {
      "text/markdown": [
       "**Is match**: False"
      ],
      "text/plain": [
       "<IPython.core.display.Markdown object>"
      ]
     },
     "metadata": {},
     "output_type": "display_data"
    },
    {
     "name": "stderr",
     "output_type": "stream",
     "text": [
      "100%|██████████| 1/1 [00:00<00:00,  1.25it/s]\n"
     ]
    },
    {
     "name": "stdout",
     "output_type": "stream",
     "text": [
      "\n",
      "Bootstrapped 0 full traces after 0 examples for up to 1 rounds, amounting to 1 attempts.\n",
      "Bootstrapping set 4/18\n"
     ]
    },
    {
     "name": "stderr",
     "output_type": "stream",
     "text": [
      "  0%|          | 0/1 [00:00<?, ?it/s]"
     ]
    },
    {
     "name": "stdout",
     "output_type": "stream",
     "text": [
      "\n"
     ]
    },
    {
     "data": {
      "text/markdown": [
       "**expected**: Example({'number_guess': 'one', 'answer': 'one'}) (input_keys={'number_guess'})"
      ],
      "text/plain": [
       "<IPython.core.display.Markdown object>"
      ]
     },
     "metadata": {},
     "output_type": "display_data"
    },
    {
     "data": {
      "text/markdown": [
       "**actual**: Prediction(  \n",
       "    answer='one'  \n",
       ")"
      ],
      "text/plain": [
       "<IPython.core.display.Markdown object>"
      ]
     },
     "metadata": {},
     "output_type": "display_data"
    },
    {
     "data": {
      "text/markdown": [
       "**Is match**: False"
      ],
      "text/plain": [
       "<IPython.core.display.Markdown object>"
      ]
     },
     "metadata": {},
     "output_type": "display_data"
    },
    {
     "name": "stderr",
     "output_type": "stream",
     "text": [
      "100%|██████████| 1/1 [00:00<00:00,  1.10it/s]\n"
     ]
    },
    {
     "name": "stdout",
     "output_type": "stream",
     "text": [
      "\n",
      "Bootstrapped 0 full traces after 0 examples for up to 1 rounds, amounting to 1 attempts.\n",
      "Bootstrapping set 5/18\n"
     ]
    },
    {
     "name": "stderr",
     "output_type": "stream",
     "text": [
      "  0%|          | 0/1 [00:00<?, ?it/s]"
     ]
    },
    {
     "name": "stdout",
     "output_type": "stream",
     "text": [
      "\n"
     ]
    },
    {
     "data": {
      "text/markdown": [
       "**expected**: Example({'number_guess': 'one', 'answer': 'one'}) (input_keys={'number_guess'})"
      ],
      "text/plain": [
       "<IPython.core.display.Markdown object>"
      ]
     },
     "metadata": {},
     "output_type": "display_data"
    },
    {
     "data": {
      "text/markdown": [
       "**actual**: Prediction(  \n",
       "    answer='one'  \n",
       ")"
      ],
      "text/plain": [
       "<IPython.core.display.Markdown object>"
      ]
     },
     "metadata": {},
     "output_type": "display_data"
    },
    {
     "data": {
      "text/markdown": [
       "**Is match**: False"
      ],
      "text/plain": [
       "<IPython.core.display.Markdown object>"
      ]
     },
     "metadata": {},
     "output_type": "display_data"
    },
    {
     "name": "stderr",
     "output_type": "stream",
     "text": [
      "100%|██████████| 1/1 [00:00<00:00,  1.56it/s]\n"
     ]
    },
    {
     "name": "stdout",
     "output_type": "stream",
     "text": [
      "\n",
      "Bootstrapped 0 full traces after 0 examples for up to 1 rounds, amounting to 1 attempts.\n",
      "Bootstrapping set 6/18\n"
     ]
    },
    {
     "name": "stderr",
     "output_type": "stream",
     "text": [
      "  0%|          | 0/1 [00:00<?, ?it/s]"
     ]
    },
    {
     "name": "stdout",
     "output_type": "stream",
     "text": [
      "\n"
     ]
    },
    {
     "data": {
      "text/markdown": [
       "**expected**: Example({'number_guess': 'one', 'answer': 'one'}) (input_keys={'number_guess'})"
      ],
      "text/plain": [
       "<IPython.core.display.Markdown object>"
      ]
     },
     "metadata": {},
     "output_type": "display_data"
    },
    {
     "data": {
      "text/markdown": [
       "**actual**: Prediction(  \n",
       "    answer='one'  \n",
       ")"
      ],
      "text/plain": [
       "<IPython.core.display.Markdown object>"
      ]
     },
     "metadata": {},
     "output_type": "display_data"
    },
    {
     "data": {
      "text/markdown": [
       "**Is match**: False"
      ],
      "text/plain": [
       "<IPython.core.display.Markdown object>"
      ]
     },
     "metadata": {},
     "output_type": "display_data"
    },
    {
     "name": "stderr",
     "output_type": "stream",
     "text": [
      "100%|██████████| 1/1 [00:00<00:00,  1.30it/s]\n"
     ]
    },
    {
     "name": "stdout",
     "output_type": "stream",
     "text": [
      "\n",
      "Bootstrapped 0 full traces after 0 examples for up to 1 rounds, amounting to 1 attempts.\n",
      "Bootstrapping set 7/18\n"
     ]
    },
    {
     "name": "stderr",
     "output_type": "stream",
     "text": [
      "  0%|          | 0/1 [00:00<?, ?it/s]"
     ]
    },
    {
     "name": "stdout",
     "output_type": "stream",
     "text": [
      "\n"
     ]
    },
    {
     "data": {
      "text/markdown": [
       "**expected**: Example({'number_guess': 'one', 'answer': 'one'}) (input_keys={'number_guess'})"
      ],
      "text/plain": [
       "<IPython.core.display.Markdown object>"
      ]
     },
     "metadata": {},
     "output_type": "display_data"
    },
    {
     "data": {
      "text/markdown": [
       "**actual**: Prediction(  \n",
       "    answer='one'  \n",
       ")"
      ],
      "text/plain": [
       "<IPython.core.display.Markdown object>"
      ]
     },
     "metadata": {},
     "output_type": "display_data"
    },
    {
     "data": {
      "text/markdown": [
       "**Is match**: False"
      ],
      "text/plain": [
       "<IPython.core.display.Markdown object>"
      ]
     },
     "metadata": {},
     "output_type": "display_data"
    },
    {
     "name": "stderr",
     "output_type": "stream",
     "text": [
      "100%|██████████| 1/1 [00:00<00:00,  1.35it/s]\n"
     ]
    },
    {
     "name": "stdout",
     "output_type": "stream",
     "text": [
      "\n",
      "Bootstrapped 0 full traces after 0 examples for up to 1 rounds, amounting to 1 attempts.\n",
      "Bootstrapping set 8/18\n"
     ]
    },
    {
     "name": "stderr",
     "output_type": "stream",
     "text": [
      "  0%|          | 0/1 [00:00<?, ?it/s]"
     ]
    },
    {
     "name": "stdout",
     "output_type": "stream",
     "text": [
      "\n"
     ]
    },
    {
     "data": {
      "text/markdown": [
       "**expected**: Example({'number_guess': 'one', 'answer': 'one'}) (input_keys={'number_guess'})"
      ],
      "text/plain": [
       "<IPython.core.display.Markdown object>"
      ]
     },
     "metadata": {},
     "output_type": "display_data"
    },
    {
     "data": {
      "text/markdown": [
       "**actual**: Prediction(  \n",
       "    answer='one'  \n",
       ")"
      ],
      "text/plain": [
       "<IPython.core.display.Markdown object>"
      ]
     },
     "metadata": {},
     "output_type": "display_data"
    },
    {
     "data": {
      "text/markdown": [
       "**Is match**: False"
      ],
      "text/plain": [
       "<IPython.core.display.Markdown object>"
      ]
     },
     "metadata": {},
     "output_type": "display_data"
    },
    {
     "name": "stderr",
     "output_type": "stream",
     "text": [
      "100%|██████████| 1/1 [00:00<00:00,  1.20it/s]\n"
     ]
    },
    {
     "name": "stdout",
     "output_type": "stream",
     "text": [
      "\n",
      "Bootstrapped 0 full traces after 0 examples for up to 1 rounds, amounting to 1 attempts.\n",
      "Bootstrapping set 9/18\n"
     ]
    },
    {
     "name": "stderr",
     "output_type": "stream",
     "text": [
      "  0%|          | 0/1 [00:00<?, ?it/s]"
     ]
    },
    {
     "name": "stdout",
     "output_type": "stream",
     "text": [
      "\n"
     ]
    },
    {
     "data": {
      "text/markdown": [
       "**expected**: Example({'number_guess': 'one', 'answer': 'one'}) (input_keys={'number_guess'})"
      ],
      "text/plain": [
       "<IPython.core.display.Markdown object>"
      ]
     },
     "metadata": {},
     "output_type": "display_data"
    },
    {
     "data": {
      "text/markdown": [
       "**actual**: Prediction(  \n",
       "    answer='one'  \n",
       ")"
      ],
      "text/plain": [
       "<IPython.core.display.Markdown object>"
      ]
     },
     "metadata": {},
     "output_type": "display_data"
    },
    {
     "data": {
      "text/markdown": [
       "**Is match**: False"
      ],
      "text/plain": [
       "<IPython.core.display.Markdown object>"
      ]
     },
     "metadata": {},
     "output_type": "display_data"
    },
    {
     "name": "stderr",
     "output_type": "stream",
     "text": [
      "100%|██████████| 1/1 [00:00<00:00,  1.17it/s]\n"
     ]
    },
    {
     "name": "stdout",
     "output_type": "stream",
     "text": [
      "\n",
      "Bootstrapped 0 full traces after 0 examples for up to 1 rounds, amounting to 1 attempts.\n",
      "Bootstrapping set 10/18\n"
     ]
    },
    {
     "name": "stderr",
     "output_type": "stream",
     "text": [
      "  0%|          | 0/1 [00:00<?, ?it/s]"
     ]
    },
    {
     "name": "stdout",
     "output_type": "stream",
     "text": [
      "\n"
     ]
    },
    {
     "data": {
      "text/markdown": [
       "**expected**: Example({'number_guess': 'one', 'answer': 'one'}) (input_keys={'number_guess'})"
      ],
      "text/plain": [
       "<IPython.core.display.Markdown object>"
      ]
     },
     "metadata": {},
     "output_type": "display_data"
    },
    {
     "data": {
      "text/markdown": [
       "**actual**: Prediction(  \n",
       "    answer='one'  \n",
       ")"
      ],
      "text/plain": [
       "<IPython.core.display.Markdown object>"
      ]
     },
     "metadata": {},
     "output_type": "display_data"
    },
    {
     "data": {
      "text/markdown": [
       "**Is match**: False"
      ],
      "text/plain": [
       "<IPython.core.display.Markdown object>"
      ]
     },
     "metadata": {},
     "output_type": "display_data"
    },
    {
     "name": "stderr",
     "output_type": "stream",
     "text": [
      "100%|██████████| 1/1 [00:01<00:00,  1.18s/it]\n"
     ]
    },
    {
     "name": "stdout",
     "output_type": "stream",
     "text": [
      "\n",
      "Bootstrapped 0 full traces after 0 examples for up to 1 rounds, amounting to 1 attempts.\n",
      "Bootstrapping set 11/18\n"
     ]
    },
    {
     "name": "stderr",
     "output_type": "stream",
     "text": [
      "  0%|          | 0/1 [00:00<?, ?it/s]"
     ]
    },
    {
     "name": "stdout",
     "output_type": "stream",
     "text": [
      "\n"
     ]
    },
    {
     "data": {
      "text/markdown": [
       "**expected**: Example({'number_guess': 'one', 'answer': 'one'}) (input_keys={'number_guess'})"
      ],
      "text/plain": [
       "<IPython.core.display.Markdown object>"
      ]
     },
     "metadata": {},
     "output_type": "display_data"
    },
    {
     "data": {
      "text/markdown": [
       "**actual**: Prediction(  \n",
       "    answer='one'  \n",
       ")"
      ],
      "text/plain": [
       "<IPython.core.display.Markdown object>"
      ]
     },
     "metadata": {},
     "output_type": "display_data"
    },
    {
     "data": {
      "text/markdown": [
       "**Is match**: False"
      ],
      "text/plain": [
       "<IPython.core.display.Markdown object>"
      ]
     },
     "metadata": {},
     "output_type": "display_data"
    },
    {
     "name": "stderr",
     "output_type": "stream",
     "text": [
      "100%|██████████| 1/1 [00:00<00:00,  1.02it/s]\n"
     ]
    },
    {
     "name": "stdout",
     "output_type": "stream",
     "text": [
      "\n",
      "Bootstrapped 0 full traces after 0 examples for up to 1 rounds, amounting to 1 attempts.\n",
      "Bootstrapping set 12/18\n"
     ]
    },
    {
     "name": "stderr",
     "output_type": "stream",
     "text": [
      "  0%|          | 0/1 [00:00<?, ?it/s]"
     ]
    },
    {
     "name": "stdout",
     "output_type": "stream",
     "text": [
      "\n"
     ]
    },
    {
     "data": {
      "text/markdown": [
       "**expected**: Example({'number_guess': 'one', 'answer': 'one'}) (input_keys={'number_guess'})"
      ],
      "text/plain": [
       "<IPython.core.display.Markdown object>"
      ]
     },
     "metadata": {},
     "output_type": "display_data"
    },
    {
     "data": {
      "text/markdown": [
       "**actual**: Prediction(  \n",
       "    answer='one'  \n",
       ")"
      ],
      "text/plain": [
       "<IPython.core.display.Markdown object>"
      ]
     },
     "metadata": {},
     "output_type": "display_data"
    },
    {
     "data": {
      "text/markdown": [
       "**Is match**: False"
      ],
      "text/plain": [
       "<IPython.core.display.Markdown object>"
      ]
     },
     "metadata": {},
     "output_type": "display_data"
    },
    {
     "name": "stderr",
     "output_type": "stream",
     "text": [
      "100%|██████████| 1/1 [00:00<00:00,  1.23it/s]\n"
     ]
    },
    {
     "name": "stdout",
     "output_type": "stream",
     "text": [
      "\n",
      "Bootstrapped 0 full traces after 0 examples for up to 1 rounds, amounting to 1 attempts.\n",
      "Bootstrapping set 13/18\n"
     ]
    },
    {
     "name": "stderr",
     "output_type": "stream",
     "text": [
      "  0%|          | 0/1 [00:00<?, ?it/s]"
     ]
    },
    {
     "name": "stdout",
     "output_type": "stream",
     "text": [
      "\n"
     ]
    },
    {
     "data": {
      "text/markdown": [
       "**expected**: Example({'number_guess': 'one', 'answer': 'one'}) (input_keys={'number_guess'})"
      ],
      "text/plain": [
       "<IPython.core.display.Markdown object>"
      ]
     },
     "metadata": {},
     "output_type": "display_data"
    },
    {
     "data": {
      "text/markdown": [
       "**actual**: Prediction(  \n",
       "    answer='one'  \n",
       ")"
      ],
      "text/plain": [
       "<IPython.core.display.Markdown object>"
      ]
     },
     "metadata": {},
     "output_type": "display_data"
    },
    {
     "data": {
      "text/markdown": [
       "**Is match**: False"
      ],
      "text/plain": [
       "<IPython.core.display.Markdown object>"
      ]
     },
     "metadata": {},
     "output_type": "display_data"
    },
    {
     "name": "stderr",
     "output_type": "stream",
     "text": [
      "100%|██████████| 1/1 [00:00<00:00,  1.20it/s]\n"
     ]
    },
    {
     "name": "stdout",
     "output_type": "stream",
     "text": [
      "\n",
      "Bootstrapped 0 full traces after 0 examples for up to 1 rounds, amounting to 1 attempts.\n",
      "Bootstrapping set 14/18\n"
     ]
    },
    {
     "name": "stderr",
     "output_type": "stream",
     "text": [
      "  0%|          | 0/1 [00:00<?, ?it/s]"
     ]
    },
    {
     "name": "stdout",
     "output_type": "stream",
     "text": [
      "\n"
     ]
    },
    {
     "data": {
      "text/markdown": [
       "**expected**: Example({'number_guess': 'one', 'answer': 'one'}) (input_keys={'number_guess'})"
      ],
      "text/plain": [
       "<IPython.core.display.Markdown object>"
      ]
     },
     "metadata": {},
     "output_type": "display_data"
    },
    {
     "data": {
      "text/markdown": [
       "**actual**: Prediction(  \n",
       "    answer='one'  \n",
       ")"
      ],
      "text/plain": [
       "<IPython.core.display.Markdown object>"
      ]
     },
     "metadata": {},
     "output_type": "display_data"
    },
    {
     "data": {
      "text/markdown": [
       "**Is match**: False"
      ],
      "text/plain": [
       "<IPython.core.display.Markdown object>"
      ]
     },
     "metadata": {},
     "output_type": "display_data"
    },
    {
     "name": "stderr",
     "output_type": "stream",
     "text": [
      "100%|██████████| 1/1 [00:00<00:00,  1.53it/s]\n"
     ]
    },
    {
     "name": "stdout",
     "output_type": "stream",
     "text": [
      "\n",
      "Bootstrapped 0 full traces after 0 examples for up to 1 rounds, amounting to 1 attempts.\n",
      "Bootstrapping set 15/18\n"
     ]
    },
    {
     "name": "stderr",
     "output_type": "stream",
     "text": [
      "  0%|          | 0/1 [00:00<?, ?it/s]"
     ]
    },
    {
     "name": "stdout",
     "output_type": "stream",
     "text": [
      "\n"
     ]
    },
    {
     "data": {
      "text/markdown": [
       "**expected**: Example({'number_guess': 'one', 'answer': 'one'}) (input_keys={'number_guess'})"
      ],
      "text/plain": [
       "<IPython.core.display.Markdown object>"
      ]
     },
     "metadata": {},
     "output_type": "display_data"
    },
    {
     "data": {
      "text/markdown": [
       "**actual**: Prediction(  \n",
       "    answer='one'  \n",
       ")"
      ],
      "text/plain": [
       "<IPython.core.display.Markdown object>"
      ]
     },
     "metadata": {},
     "output_type": "display_data"
    },
    {
     "data": {
      "text/markdown": [
       "**Is match**: False"
      ],
      "text/plain": [
       "<IPython.core.display.Markdown object>"
      ]
     },
     "metadata": {},
     "output_type": "display_data"
    },
    {
     "name": "stderr",
     "output_type": "stream",
     "text": [
      "100%|██████████| 1/1 [00:00<00:00,  1.27it/s]\n"
     ]
    },
    {
     "name": "stdout",
     "output_type": "stream",
     "text": [
      "\n",
      "Bootstrapped 0 full traces after 0 examples for up to 1 rounds, amounting to 1 attempts.\n",
      "Bootstrapping set 16/18\n"
     ]
    },
    {
     "name": "stderr",
     "output_type": "stream",
     "text": [
      "  0%|          | 0/1 [00:00<?, ?it/s]"
     ]
    },
    {
     "name": "stdout",
     "output_type": "stream",
     "text": [
      "\n"
     ]
    },
    {
     "data": {
      "text/markdown": [
       "**expected**: Example({'number_guess': 'one', 'answer': 'one'}) (input_keys={'number_guess'})"
      ],
      "text/plain": [
       "<IPython.core.display.Markdown object>"
      ]
     },
     "metadata": {},
     "output_type": "display_data"
    },
    {
     "data": {
      "text/markdown": [
       "**actual**: Prediction(  \n",
       "    answer='one'  \n",
       ")"
      ],
      "text/plain": [
       "<IPython.core.display.Markdown object>"
      ]
     },
     "metadata": {},
     "output_type": "display_data"
    },
    {
     "data": {
      "text/markdown": [
       "**Is match**: False"
      ],
      "text/plain": [
       "<IPython.core.display.Markdown object>"
      ]
     },
     "metadata": {},
     "output_type": "display_data"
    },
    {
     "name": "stderr",
     "output_type": "stream",
     "text": [
      "100%|██████████| 1/1 [00:00<00:00,  1.24it/s]\n"
     ]
    },
    {
     "name": "stdout",
     "output_type": "stream",
     "text": [
      "\n",
      "Bootstrapped 0 full traces after 0 examples for up to 1 rounds, amounting to 1 attempts.\n",
      "Bootstrapping set 17/18\n"
     ]
    },
    {
     "name": "stderr",
     "output_type": "stream",
     "text": [
      "  0%|          | 0/1 [00:00<?, ?it/s]"
     ]
    },
    {
     "name": "stdout",
     "output_type": "stream",
     "text": [
      "\n"
     ]
    },
    {
     "data": {
      "text/markdown": [
       "**expected**: Example({'number_guess': 'one', 'answer': 'one'}) (input_keys={'number_guess'})"
      ],
      "text/plain": [
       "<IPython.core.display.Markdown object>"
      ]
     },
     "metadata": {},
     "output_type": "display_data"
    },
    {
     "data": {
      "text/markdown": [
       "**actual**: Prediction(  \n",
       "    answer='one'  \n",
       ")"
      ],
      "text/plain": [
       "<IPython.core.display.Markdown object>"
      ]
     },
     "metadata": {},
     "output_type": "display_data"
    },
    {
     "data": {
      "text/markdown": [
       "**Is match**: False"
      ],
      "text/plain": [
       "<IPython.core.display.Markdown object>"
      ]
     },
     "metadata": {},
     "output_type": "display_data"
    },
    {
     "name": "stderr",
     "output_type": "stream",
     "text": [
      "100%|██████████| 1/1 [00:00<00:00,  1.07it/s]\n"
     ]
    },
    {
     "name": "stdout",
     "output_type": "stream",
     "text": [
      "\n",
      "Bootstrapped 0 full traces after 0 examples for up to 1 rounds, amounting to 1 attempts.\n",
      "Bootstrapping set 18/18\n"
     ]
    },
    {
     "name": "stderr",
     "output_type": "stream",
     "text": [
      "  0%|          | 0/1 [00:00<?, ?it/s]"
     ]
    },
    {
     "name": "stdout",
     "output_type": "stream",
     "text": [
      "\n"
     ]
    },
    {
     "data": {
      "text/markdown": [
       "**expected**: Example({'number_guess': 'one', 'answer': 'one'}) (input_keys={'number_guess'})"
      ],
      "text/plain": [
       "<IPython.core.display.Markdown object>"
      ]
     },
     "metadata": {},
     "output_type": "display_data"
    },
    {
     "data": {
      "text/markdown": [
       "**actual**: Prediction(  \n",
       "    answer='one'  \n",
       ")"
      ],
      "text/plain": [
       "<IPython.core.display.Markdown object>"
      ]
     },
     "metadata": {},
     "output_type": "display_data"
    },
    {
     "data": {
      "text/markdown": [
       "**Is match**: False"
      ],
      "text/plain": [
       "<IPython.core.display.Markdown object>"
      ]
     },
     "metadata": {},
     "output_type": "display_data"
    },
    {
     "name": "stderr",
     "output_type": "stream",
     "text": [
      "100%|██████████| 1/1 [00:00<00:00,  1.24it/s]\n",
      "2025/09/03 17:09:32 INFO dspy.teleprompt.mipro_optimizer_v2: \n",
      "==> STEP 2: PROPOSE INSTRUCTION CANDIDATES <==\n",
      "2025/09/03 17:09:32 INFO dspy.teleprompt.mipro_optimizer_v2: We will use the few-shot examples from the previous step, a generated dataset summary, a summary of the program code, and a randomly selected prompting tip to propose instructions.\n"
     ]
    },
    {
     "name": "stdout",
     "output_type": "stream",
     "text": [
      "\n",
      "Bootstrapped 0 full traces after 0 examples for up to 1 rounds, amounting to 1 attempts.\n"
     ]
    },
    {
     "name": "stderr",
     "output_type": "stream",
     "text": [
      "2025/09/03 17:09:37 INFO dspy.teleprompt.mipro_optimizer_v2: \n",
      "Proposing N=9 instructions...\n",
      "\n",
      "2025/09/03 17:10:13 INFO dspy.teleprompt.mipro_optimizer_v2: Proposed Instructions for Predictor 0:\n",
      "\n",
      "2025/09/03 17:10:13 INFO dspy.teleprompt.mipro_optimizer_v2: 0: Guess a number\n",
      "\n",
      "2025/09/03 17:10:13 INFO dspy.teleprompt.mipro_optimizer_v2: 1: Given a scenario where the fate of the world depends on correctly predicting a number, provide the most accurate answer possible based on the input number_guess.\n",
      "\n",
      "2025/09/03 17:10:13 INFO dspy.teleprompt.mipro_optimizer_v2: 2: Given the dataset with examples of number guesses and correct answers, you are tasked with creating a high-stakes scenario where the Language Model must predict the correct answer based on the provided number guess. Make sure to emphasize the importance of accurate predictions in this scenario.\n",
      "\n",
      "2025/09/03 17:10:13 INFO dspy.teleprompt.mipro_optimizer_v2: 3: You are a data scientist working on a number prediction task. Given a `number_guess`, use the language model to predict the correct `answer`.\n",
      "\n",
      "2025/09/03 17:10:13 INFO dspy.teleprompt.mipro_optimizer_v2: 4: You are a data scientist working on a number prediction task. Given a `number_guess`, use language models to predict the corresponding answer.\n",
      "\n",
      "2025/09/03 17:10:13 INFO dspy.teleprompt.mipro_optimizer_v2: 5: Predict the answer based on the given number_guess.\n",
      "\n",
      "2025/09/03 17:10:13 INFO dspy.teleprompt.mipro_optimizer_v2: 6: Given a 'number_guess', use the language model to predict the corresponding 'answer'.\n",
      "\n",
      "2025/09/03 17:10:13 INFO dspy.teleprompt.mipro_optimizer_v2: 7: Given a `number_guess`, use language models to predict and generate the corresponding `answer`.\n",
      "\n",
      "2025/09/03 17:10:13 INFO dspy.teleprompt.mipro_optimizer_v2: 8: Predict the answer based on the provided number guess.\n",
      "\n",
      "2025/09/03 17:10:13 INFO dspy.teleprompt.mipro_optimizer_v2: \n",
      "\n",
      "2025/09/03 17:10:13 INFO dspy.teleprompt.mipro_optimizer_v2: ==> STEP 3: FINDING OPTIMAL PROMPT PARAMETERS <==\n",
      "2025/09/03 17:10:13 INFO dspy.teleprompt.mipro_optimizer_v2: We will evaluate the program over a series of trials with different combinations of instructions and few-shot examples to find the optimal combination using Bayesian Optimization.\n",
      "\n",
      "2025/09/03 17:10:13 INFO dspy.teleprompt.mipro_optimizer_v2: == Trial 1 / 27 - Full Evaluation of Default Program ==\n"
     ]
    },
    {
     "name": "stdout",
     "output_type": "stream",
     "text": [
      "  0%|          | 0/3 [00:00<?, ?it/s]\n"
     ]
    },
    {
     "data": {
      "text/markdown": [
       "**expected**: Example({'number_guess': 'two', 'answer': 'two'}) (input_keys={'number_guess'})"
      ],
      "text/plain": [
       "<IPython.core.display.Markdown object>"
      ]
     },
     "metadata": {},
     "output_type": "display_data"
    },
    {
     "data": {
      "text/markdown": [
       "**actual**: Prediction(  \n",
       "    answer='two'  \n",
       ")"
      ],
      "text/plain": [
       "<IPython.core.display.Markdown object>"
      ]
     },
     "metadata": {},
     "output_type": "display_data"
    },
    {
     "data": {
      "text/markdown": [
       "**Is match**: True"
      ],
      "text/plain": [
       "<IPython.core.display.Markdown object>"
      ]
     },
     "metadata": {},
     "output_type": "display_data"
    },
    {
     "name": "stdout",
     "output_type": "stream",
     "text": [
      "\n",
      "Average Metric: 1.00 / 1 (100.0%):  33%|███▎      | 1/3 [00:00<00:01,  1.40it/s]\n"
     ]
    },
    {
     "data": {
      "text/markdown": [
       "**expected**: Example({'number_guess': 'one', 'answer': 'two'}) (input_keys={'number_guess'})"
      ],
      "text/plain": [
       "<IPython.core.display.Markdown object>"
      ]
     },
     "metadata": {},
     "output_type": "display_data"
    },
    {
     "data": {
      "text/markdown": [
       "**actual**: Prediction(  \n",
       "    answer='one'  \n",
       ")"
      ],
      "text/plain": [
       "<IPython.core.display.Markdown object>"
      ]
     },
     "metadata": {},
     "output_type": "display_data"
    },
    {
     "data": {
      "text/markdown": [
       "**Is match**: False"
      ],
      "text/plain": [
       "<IPython.core.display.Markdown object>"
      ]
     },
     "metadata": {},
     "output_type": "display_data"
    },
    {
     "name": "stdout",
     "output_type": "stream",
     "text": [
      "\n",
      "Average Metric: 1.00 / 2 (50.0%):  67%|██████▋   | 2/3 [00:01<00:00,  1.90it/s] \n"
     ]
    },
    {
     "data": {
      "text/markdown": [
       "**expected**: Example({'number_guess': 'two', 'answer': 'one'}) (input_keys={'number_guess'})"
      ],
      "text/plain": [
       "<IPython.core.display.Markdown object>"
      ]
     },
     "metadata": {},
     "output_type": "display_data"
    },
    {
     "data": {
      "text/markdown": [
       "**actual**: Prediction(  \n",
       "    answer='two'  \n",
       ")"
      ],
      "text/plain": [
       "<IPython.core.display.Markdown object>"
      ]
     },
     "metadata": {},
     "output_type": "display_data"
    },
    {
     "data": {
      "text/markdown": [
       "**Is match**: True"
      ],
      "text/plain": [
       "<IPython.core.display.Markdown object>"
      ]
     },
     "metadata": {},
     "output_type": "display_data"
    },
    {
     "name": "stdout",
     "output_type": "stream",
     "text": [
      "\n",
      "Average Metric: 2.00 / 3 (66.7%): 100%|██████████| 3/3 [00:02<00:00,  1.43it/s]"
     ]
    },
    {
     "name": "stderr",
     "output_type": "stream",
     "text": [
      "2025/09/03 17:10:15 INFO dspy.evaluate.evaluate: Average Metric: 2 / 3 (66.7%)\n",
      "2025/09/03 17:10:15 INFO dspy.teleprompt.mipro_optimizer_v2: Default program score: 66.67\n",
      "\n",
      "2025/09/03 17:10:15 INFO dspy.teleprompt.mipro_optimizer_v2: ===== Trial 2 / 27 =====\n"
     ]
    },
    {
     "name": "stdout",
     "output_type": "stream",
     "text": [
      "\n",
      "  0%|          | 0/3 [00:00<?, ?it/s]\n"
     ]
    },
    {
     "data": {
      "text/markdown": [
       "**expected**: Example({'number_guess': 'two', 'answer': 'two'}) (input_keys={'number_guess'})"
      ],
      "text/plain": [
       "<IPython.core.display.Markdown object>"
      ]
     },
     "metadata": {},
     "output_type": "display_data"
    },
    {
     "data": {
      "text/markdown": [
       "**actual**: Prediction(  \n",
       "    answer='two'  \n",
       ")"
      ],
      "text/plain": [
       "<IPython.core.display.Markdown object>"
      ]
     },
     "metadata": {},
     "output_type": "display_data"
    },
    {
     "data": {
      "text/markdown": [
       "**Is match**: True"
      ],
      "text/plain": [
       "<IPython.core.display.Markdown object>"
      ]
     },
     "metadata": {},
     "output_type": "display_data"
    },
    {
     "name": "stdout",
     "output_type": "stream",
     "text": [
      "\n",
      "Average Metric: 1.00 / 1 (100.0%):   0%|          | 0/3 [00:00<?, ?it/s]\n",
      "Average Metric: 1.00 / 1 (100.0%):  33%|███▎      | 1/3 [00:00<00:01,  1.33it/s]"
     ]
    },
    {
     "data": {
      "text/markdown": [
       "**expected**: Example({'number_guess': 'two', 'answer': 'one'}) (input_keys={'number_guess'})"
      ],
      "text/plain": [
       "<IPython.core.display.Markdown object>"
      ]
     },
     "metadata": {},
     "output_type": "display_data"
    },
    {
     "data": {
      "text/markdown": [
       "**actual**: Prediction(  \n",
       "    answer='two'  \n",
       ")"
      ],
      "text/plain": [
       "<IPython.core.display.Markdown object>"
      ]
     },
     "metadata": {},
     "output_type": "display_data"
    },
    {
     "data": {
      "text/markdown": [
       "**Is match**: True"
      ],
      "text/plain": [
       "<IPython.core.display.Markdown object>"
      ]
     },
     "metadata": {},
     "output_type": "display_data"
    },
    {
     "name": "stdout",
     "output_type": "stream",
     "text": [
      "\n",
      "Average Metric: 2.00 / 2 (100.0%):  33%|███▎      | 1/3 [00:00<00:01,  1.33it/s]\n"
     ]
    },
    {
     "data": {
      "text/markdown": [
       "**expected**: Example({'number_guess': 'one', 'answer': 'two'}) (input_keys={'number_guess'})"
      ],
      "text/plain": [
       "<IPython.core.display.Markdown object>"
      ]
     },
     "metadata": {},
     "output_type": "display_data"
    },
    {
     "data": {
      "text/markdown": [
       "**actual**: Prediction(  \n",
       "    answer='one'  \n",
       ")"
      ],
      "text/plain": [
       "<IPython.core.display.Markdown object>"
      ]
     },
     "metadata": {},
     "output_type": "display_data"
    },
    {
     "data": {
      "text/markdown": [
       "**Is match**: False"
      ],
      "text/plain": [
       "<IPython.core.display.Markdown object>"
      ]
     },
     "metadata": {},
     "output_type": "display_data"
    },
    {
     "name": "stdout",
     "output_type": "stream",
     "text": [
      "\n",
      "Average Metric: 2.00 / 3 (66.7%): 100%|██████████| 3/3 [00:00<00:00,  3.67it/s] "
     ]
    },
    {
     "name": "stderr",
     "output_type": "stream",
     "text": [
      "2025/09/03 17:10:16 INFO dspy.evaluate.evaluate: Average Metric: 2 / 3 (66.7%)\n",
      "2025/09/03 17:10:16 INFO dspy.teleprompt.mipro_optimizer_v2: Score: 66.67 with parameters ['Predictor 0: Instruction 1', 'Predictor 0: Few-Shot Set 17'].\n",
      "2025/09/03 17:10:16 INFO dspy.teleprompt.mipro_optimizer_v2: Scores so far: [66.67, 66.67]\n",
      "2025/09/03 17:10:16 INFO dspy.teleprompt.mipro_optimizer_v2: Best score so far: 66.67\n",
      "2025/09/03 17:10:16 INFO dspy.teleprompt.mipro_optimizer_v2: ========================\n",
      "\n",
      "\n",
      "2025/09/03 17:10:16 INFO dspy.teleprompt.mipro_optimizer_v2: ===== Trial 3 / 27 =====\n"
     ]
    },
    {
     "name": "stdout",
     "output_type": "stream",
     "text": [
      "\n",
      "  0%|          | 0/3 [00:00<?, ?it/s]\n"
     ]
    },
    {
     "data": {
      "text/markdown": [
       "**expected**: Example({'number_guess': 'two', 'answer': 'one'}) (input_keys={'number_guess'})"
      ],
      "text/plain": [
       "<IPython.core.display.Markdown object>"
      ]
     },
     "metadata": {},
     "output_type": "display_data"
    },
    {
     "data": {
      "text/markdown": [
       "**actual**: Prediction(  \n",
       "    answer='two'  \n",
       ")"
      ],
      "text/plain": [
       "<IPython.core.display.Markdown object>"
      ]
     },
     "metadata": {},
     "output_type": "display_data"
    },
    {
     "data": {
      "text/markdown": [
       "**Is match**: True"
      ],
      "text/plain": [
       "<IPython.core.display.Markdown object>"
      ]
     },
     "metadata": {},
     "output_type": "display_data"
    },
    {
     "name": "stdout",
     "output_type": "stream",
     "text": [
      "\n",
      "Average Metric: 1.00 / 1 (100.0%):  33%|███▎      | 1/3 [00:00<00:01,  1.39it/s]\n"
     ]
    },
    {
     "data": {
      "text/markdown": [
       "**expected**: Example({'number_guess': 'two', 'answer': 'two'}) (input_keys={'number_guess'})"
      ],
      "text/plain": [
       "<IPython.core.display.Markdown object>"
      ]
     },
     "metadata": {},
     "output_type": "display_data"
    },
    {
     "data": {
      "text/markdown": [
       "**actual**: Prediction(  \n",
       "    answer='two'  \n",
       ")"
      ],
      "text/plain": [
       "<IPython.core.display.Markdown object>"
      ]
     },
     "metadata": {},
     "output_type": "display_data"
    },
    {
     "data": {
      "text/markdown": [
       "**Is match**: True"
      ],
      "text/plain": [
       "<IPython.core.display.Markdown object>"
      ]
     },
     "metadata": {},
     "output_type": "display_data"
    },
    {
     "name": "stdout",
     "output_type": "stream",
     "text": [
      "\n",
      "Average Metric: 2.00 / 2 (100.0%):  33%|███▎      | 1/3 [00:00<00:01,  1.39it/s]\n"
     ]
    },
    {
     "data": {
      "text/markdown": [
       "**expected**: Example({'number_guess': 'one', 'answer': 'two'}) (input_keys={'number_guess'})"
      ],
      "text/plain": [
       "<IPython.core.display.Markdown object>"
      ]
     },
     "metadata": {},
     "output_type": "display_data"
    },
    {
     "data": {
      "text/markdown": [
       "**actual**: Prediction(  \n",
       "    answer='one'  \n",
       ")"
      ],
      "text/plain": [
       "<IPython.core.display.Markdown object>"
      ]
     },
     "metadata": {},
     "output_type": "display_data"
    },
    {
     "data": {
      "text/markdown": [
       "**Is match**: False"
      ],
      "text/plain": [
       "<IPython.core.display.Markdown object>"
      ]
     },
     "metadata": {},
     "output_type": "display_data"
    },
    {
     "name": "stdout",
     "output_type": "stream",
     "text": [
      "\n",
      "Average Metric: 2.00 / 3 (66.7%): 100%|██████████| 3/3 [00:01<00:00,  2.23it/s] "
     ]
    },
    {
     "name": "stderr",
     "output_type": "stream",
     "text": [
      "2025/09/03 17:10:17 INFO dspy.evaluate.evaluate: Average Metric: 2 / 3 (66.7%)\n",
      "2025/09/03 17:10:17 INFO dspy.teleprompt.mipro_optimizer_v2: Score: 66.67 with parameters ['Predictor 0: Instruction 5', 'Predictor 0: Few-Shot Set 12'].\n",
      "2025/09/03 17:10:17 INFO dspy.teleprompt.mipro_optimizer_v2: Scores so far: [66.67, 66.67, 66.67]\n",
      "2025/09/03 17:10:17 INFO dspy.teleprompt.mipro_optimizer_v2: Best score so far: 66.67\n",
      "2025/09/03 17:10:17 INFO dspy.teleprompt.mipro_optimizer_v2: ========================\n",
      "\n",
      "\n",
      "2025/09/03 17:10:17 INFO dspy.teleprompt.mipro_optimizer_v2: ===== Trial 4 / 27 =====\n"
     ]
    },
    {
     "name": "stdout",
     "output_type": "stream",
     "text": [
      "\n",
      "  0%|          | 0/3 [00:00<?, ?it/s]\n"
     ]
    },
    {
     "data": {
      "text/markdown": [
       "**expected**: Example({'number_guess': 'two', 'answer': 'two'}) (input_keys={'number_guess'})"
      ],
      "text/plain": [
       "<IPython.core.display.Markdown object>"
      ]
     },
     "metadata": {},
     "output_type": "display_data"
    },
    {
     "data": {
      "text/markdown": [
       "**actual**: Prediction(  \n",
       "    answer='two'  \n",
       ")"
      ],
      "text/plain": [
       "<IPython.core.display.Markdown object>"
      ]
     },
     "metadata": {},
     "output_type": "display_data"
    },
    {
     "data": {
      "text/markdown": [
       "**Is match**: True"
      ],
      "text/plain": [
       "<IPython.core.display.Markdown object>"
      ]
     },
     "metadata": {},
     "output_type": "display_data"
    },
    {
     "name": "stdout",
     "output_type": "stream",
     "text": [
      "\n",
      "Average Metric: 1.00 / 1 (100.0%):  33%|███▎      | 1/3 [00:00<00:01,  1.33it/s]\n",
      "\n"
     ]
    },
    {
     "data": {
      "text/markdown": [
       "**expected**: Example({'number_guess': 'two', 'answer': 'one'}) (input_keys={'number_guess'})"
      ],
      "text/plain": [
       "<IPython.core.display.Markdown object>"
      ]
     },
     "metadata": {},
     "output_type": "display_data"
    },
    {
     "data": {
      "text/markdown": [
       "**expected**: Example({'number_guess': 'one', 'answer': 'two'}) (input_keys={'number_guess'})"
      ],
      "text/plain": [
       "<IPython.core.display.Markdown object>"
      ]
     },
     "metadata": {},
     "output_type": "display_data"
    },
    {
     "data": {
      "text/markdown": [
       "**actual**: Prediction(  \n",
       "    answer='two'  \n",
       ")"
      ],
      "text/plain": [
       "<IPython.core.display.Markdown object>"
      ]
     },
     "metadata": {},
     "output_type": "display_data"
    },
    {
     "data": {
      "text/markdown": [
       "**actual**: Prediction(  \n",
       "    answer='one'  \n",
       ")"
      ],
      "text/plain": [
       "<IPython.core.display.Markdown object>"
      ]
     },
     "metadata": {},
     "output_type": "display_data"
    },
    {
     "data": {
      "text/markdown": [
       "**Is match**: True"
      ],
      "text/plain": [
       "<IPython.core.display.Markdown object>"
      ]
     },
     "metadata": {},
     "output_type": "display_data"
    },
    {
     "data": {
      "text/markdown": [
       "**Is match**: False"
      ],
      "text/plain": [
       "<IPython.core.display.Markdown object>"
      ]
     },
     "metadata": {},
     "output_type": "display_data"
    },
    {
     "name": "stdout",
     "output_type": "stream",
     "text": [
      "\n",
      "Average Metric: 2.00 / 2 (100.0%):  33%|███▎      | 1/3 [00:00<00:01,  1.33it/s]\n",
      "Average Metric: 2.00 / 3 (66.7%): 100%|██████████| 3/3 [00:00<00:00,  3.60it/s] "
     ]
    },
    {
     "name": "stderr",
     "output_type": "stream",
     "text": [
      "2025/09/03 17:10:18 INFO dspy.evaluate.evaluate: Average Metric: 2 / 3 (66.7%)\n",
      "2025/09/03 17:10:18 INFO dspy.teleprompt.mipro_optimizer_v2: Score: 66.67 with parameters ['Predictor 0: Instruction 8', 'Predictor 0: Few-Shot Set 1'].\n",
      "2025/09/03 17:10:18 INFO dspy.teleprompt.mipro_optimizer_v2: Scores so far: [66.67, 66.67, 66.67, 66.67]\n",
      "2025/09/03 17:10:18 INFO dspy.teleprompt.mipro_optimizer_v2: Best score so far: 66.67\n",
      "2025/09/03 17:10:18 INFO dspy.teleprompt.mipro_optimizer_v2: ========================\n",
      "\n",
      "\n",
      "2025/09/03 17:10:18 INFO dspy.teleprompt.mipro_optimizer_v2: ===== Trial 5 / 27 =====\n"
     ]
    },
    {
     "name": "stdout",
     "output_type": "stream",
     "text": [
      "\n",
      "  0%|          | 0/3 [00:00<?, ?it/s]\n"
     ]
    },
    {
     "data": {
      "text/markdown": [
       "**expected**: Example({'number_guess': 'two', 'answer': 'two'}) (input_keys={'number_guess'})"
      ],
      "text/plain": [
       "<IPython.core.display.Markdown object>"
      ]
     },
     "metadata": {},
     "output_type": "display_data"
    },
    {
     "data": {
      "text/markdown": [
       "**actual**: Prediction(  \n",
       "    answer='two'  \n",
       ")"
      ],
      "text/plain": [
       "<IPython.core.display.Markdown object>"
      ]
     },
     "metadata": {},
     "output_type": "display_data"
    },
    {
     "data": {
      "text/markdown": [
       "**Is match**: True"
      ],
      "text/plain": [
       "<IPython.core.display.Markdown object>"
      ]
     },
     "metadata": {},
     "output_type": "display_data"
    },
    {
     "name": "stdout",
     "output_type": "stream",
     "text": [
      "\n",
      "Average Metric: 1.00 / 1 (100.0%):  33%|███▎      | 1/3 [00:00<00:01,  1.82it/s]\n"
     ]
    },
    {
     "data": {
      "text/markdown": [
       "**expected**: Example({'number_guess': 'two', 'answer': 'one'}) (input_keys={'number_guess'})"
      ],
      "text/plain": [
       "<IPython.core.display.Markdown object>"
      ]
     },
     "metadata": {},
     "output_type": "display_data"
    },
    {
     "data": {
      "text/markdown": [
       "**actual**: Prediction(  \n",
       "    answer='two'  \n",
       ")"
      ],
      "text/plain": [
       "<IPython.core.display.Markdown object>"
      ]
     },
     "metadata": {},
     "output_type": "display_data"
    },
    {
     "data": {
      "text/markdown": [
       "**Is match**: True"
      ],
      "text/plain": [
       "<IPython.core.display.Markdown object>"
      ]
     },
     "metadata": {},
     "output_type": "display_data"
    },
    {
     "name": "stdout",
     "output_type": "stream",
     "text": [
      "\n",
      "Average Metric: 2.00 / 2 (100.0%):  33%|███▎      | 1/3 [00:00<00:01,  1.82it/s]\n"
     ]
    },
    {
     "data": {
      "text/markdown": [
       "**expected**: Example({'number_guess': 'one', 'answer': 'two'}) (input_keys={'number_guess'})"
      ],
      "text/plain": [
       "<IPython.core.display.Markdown object>"
      ]
     },
     "metadata": {},
     "output_type": "display_data"
    },
    {
     "data": {
      "text/markdown": [
       "**actual**: Prediction(  \n",
       "    answer='one'  \n",
       ")"
      ],
      "text/plain": [
       "<IPython.core.display.Markdown object>"
      ]
     },
     "metadata": {},
     "output_type": "display_data"
    },
    {
     "data": {
      "text/markdown": [
       "**Is match**: False"
      ],
      "text/plain": [
       "<IPython.core.display.Markdown object>"
      ]
     },
     "metadata": {},
     "output_type": "display_data"
    },
    {
     "name": "stdout",
     "output_type": "stream",
     "text": [
      "\n",
      "Average Metric: 2.00 / 3 (66.7%): 100%|██████████| 3/3 [00:01<00:00,  1.55it/s] "
     ]
    },
    {
     "name": "stderr",
     "output_type": "stream",
     "text": [
      "2025/09/03 17:10:20 INFO dspy.evaluate.evaluate: Average Metric: 2 / 3 (66.7%)\n",
      "2025/09/03 17:10:20 INFO dspy.teleprompt.mipro_optimizer_v2: Score: 66.67 with parameters ['Predictor 0: Instruction 2', 'Predictor 0: Few-Shot Set 12'].\n",
      "2025/09/03 17:10:20 INFO dspy.teleprompt.mipro_optimizer_v2: Scores so far: [66.67, 66.67, 66.67, 66.67, 66.67]\n",
      "2025/09/03 17:10:20 INFO dspy.teleprompt.mipro_optimizer_v2: Best score so far: 66.67\n",
      "2025/09/03 17:10:20 INFO dspy.teleprompt.mipro_optimizer_v2: ========================\n",
      "\n",
      "\n",
      "2025/09/03 17:10:20 INFO dspy.teleprompt.mipro_optimizer_v2: ===== Trial 6 / 27 =====\n"
     ]
    },
    {
     "name": "stdout",
     "output_type": "stream",
     "text": [
      "\n",
      "  0%|          | 0/3 [00:00<?, ?it/s]\n"
     ]
    },
    {
     "data": {
      "text/markdown": [
       "**expected**: Example({'number_guess': 'two', 'answer': 'two'}) (input_keys={'number_guess'})"
      ],
      "text/plain": [
       "<IPython.core.display.Markdown object>"
      ]
     },
     "metadata": {},
     "output_type": "display_data"
    },
    {
     "data": {
      "text/markdown": [
       "**actual**: Prediction(  \n",
       "    answer='two'  \n",
       ")"
      ],
      "text/plain": [
       "<IPython.core.display.Markdown object>"
      ]
     },
     "metadata": {},
     "output_type": "display_data"
    },
    {
     "name": "stdout",
     "output_type": "stream",
     "text": [
      "\n"
     ]
    },
    {
     "data": {
      "text/markdown": [
       "**Is match**: True"
      ],
      "text/plain": [
       "<IPython.core.display.Markdown object>"
      ]
     },
     "metadata": {},
     "output_type": "display_data"
    },
    {
     "data": {
      "text/markdown": [
       "**expected**: Example({'number_guess': 'two', 'answer': 'one'}) (input_keys={'number_guess'})"
      ],
      "text/plain": [
       "<IPython.core.display.Markdown object>"
      ]
     },
     "metadata": {},
     "output_type": "display_data"
    },
    {
     "name": "stdout",
     "output_type": "stream",
     "text": [
      "\n",
      "Average Metric: 1.00 / 1 (100.0%):  33%|███▎      | 1/3 [00:00<00:01,  1.27it/s]"
     ]
    },
    {
     "data": {
      "text/markdown": [
       "**actual**: Prediction(  \n",
       "    answer='two'  \n",
       ")"
      ],
      "text/plain": [
       "<IPython.core.display.Markdown object>"
      ]
     },
     "metadata": {},
     "output_type": "display_data"
    },
    {
     "data": {
      "text/markdown": [
       "**Is match**: True"
      ],
      "text/plain": [
       "<IPython.core.display.Markdown object>"
      ]
     },
     "metadata": {},
     "output_type": "display_data"
    },
    {
     "name": "stdout",
     "output_type": "stream",
     "text": [
      "\n",
      "Average Metric: 2.00 / 2 (100.0%):  33%|███▎      | 1/3 [00:00<00:01,  1.27it/s]\n"
     ]
    },
    {
     "data": {
      "text/markdown": [
       "**expected**: Example({'number_guess': 'one', 'answer': 'two'}) (input_keys={'number_guess'})"
      ],
      "text/plain": [
       "<IPython.core.display.Markdown object>"
      ]
     },
     "metadata": {},
     "output_type": "display_data"
    },
    {
     "data": {
      "text/markdown": [
       "**actual**: Prediction(  \n",
       "    answer='one'  \n",
       ")"
      ],
      "text/plain": [
       "<IPython.core.display.Markdown object>"
      ]
     },
     "metadata": {},
     "output_type": "display_data"
    },
    {
     "data": {
      "text/markdown": [
       "**Is match**: False"
      ],
      "text/plain": [
       "<IPython.core.display.Markdown object>"
      ]
     },
     "metadata": {},
     "output_type": "display_data"
    },
    {
     "name": "stdout",
     "output_type": "stream",
     "text": [
      "\n",
      "Average Metric: 2.00 / 3 (66.7%): 100%|██████████| 3/3 [00:00<00:00,  3.56it/s] "
     ]
    },
    {
     "name": "stderr",
     "output_type": "stream",
     "text": [
      "2025/09/03 17:10:21 INFO dspy.evaluate.evaluate: Average Metric: 2 / 3 (66.7%)\n",
      "2025/09/03 17:10:21 INFO dspy.teleprompt.mipro_optimizer_v2: Score: 66.67 with parameters ['Predictor 0: Instruction 5', 'Predictor 0: Few-Shot Set 12'].\n",
      "2025/09/03 17:10:21 INFO dspy.teleprompt.mipro_optimizer_v2: Scores so far: [66.67, 66.67, 66.67, 66.67, 66.67, 66.67]\n",
      "2025/09/03 17:10:21 INFO dspy.teleprompt.mipro_optimizer_v2: Best score so far: 66.67\n",
      "2025/09/03 17:10:21 INFO dspy.teleprompt.mipro_optimizer_v2: ========================\n",
      "\n",
      "\n",
      "2025/09/03 17:10:21 INFO dspy.teleprompt.mipro_optimizer_v2: ===== Trial 7 / 27 =====\n"
     ]
    },
    {
     "name": "stdout",
     "output_type": "stream",
     "text": [
      "\n",
      "  0%|          | 0/3 [00:00<?, ?it/s]\n"
     ]
    },
    {
     "data": {
      "text/markdown": [
       "**expected**: Example({'number_guess': 'one', 'answer': 'two'}) (input_keys={'number_guess'})"
      ],
      "text/plain": [
       "<IPython.core.display.Markdown object>"
      ]
     },
     "metadata": {},
     "output_type": "display_data"
    },
    {
     "data": {
      "text/markdown": [
       "**actual**: Prediction(  \n",
       "    answer='one'  \n",
       ")"
      ],
      "text/plain": [
       "<IPython.core.display.Markdown object>"
      ]
     },
     "metadata": {},
     "output_type": "display_data"
    },
    {
     "data": {
      "text/markdown": [
       "**Is match**: False"
      ],
      "text/plain": [
       "<IPython.core.display.Markdown object>"
      ]
     },
     "metadata": {},
     "output_type": "display_data"
    },
    {
     "name": "stdout",
     "output_type": "stream",
     "text": [
      "\n",
      "Average Metric: 0.00 / 1 (0.0%):  33%|███▎      | 1/3 [00:00<00:01,  1.61it/s]\n"
     ]
    },
    {
     "data": {
      "text/markdown": [
       "**expected**: Example({'number_guess': 'two', 'answer': 'one'}) (input_keys={'number_guess'})"
      ],
      "text/plain": [
       "<IPython.core.display.Markdown object>"
      ]
     },
     "metadata": {},
     "output_type": "display_data"
    },
    {
     "data": {
      "text/markdown": [
       "**actual**: Prediction(  \n",
       "    answer='two'  \n",
       ")"
      ],
      "text/plain": [
       "<IPython.core.display.Markdown object>"
      ]
     },
     "metadata": {},
     "output_type": "display_data"
    },
    {
     "data": {
      "text/markdown": [
       "**Is match**: True"
      ],
      "text/plain": [
       "<IPython.core.display.Markdown object>"
      ]
     },
     "metadata": {},
     "output_type": "display_data"
    },
    {
     "name": "stdout",
     "output_type": "stream",
     "text": [
      "\n",
      "Average Metric: 1.00 / 2 (50.0%):  67%|██████▋   | 2/3 [00:00<00:00,  2.74it/s]\n"
     ]
    },
    {
     "data": {
      "text/markdown": [
       "**expected**: Example({'number_guess': 'two', 'answer': 'two'}) (input_keys={'number_guess'})"
      ],
      "text/plain": [
       "<IPython.core.display.Markdown object>"
      ]
     },
     "metadata": {},
     "output_type": "display_data"
    },
    {
     "data": {
      "text/markdown": [
       "**actual**: Prediction(  \n",
       "    answer='two'  \n",
       ")"
      ],
      "text/plain": [
       "<IPython.core.display.Markdown object>"
      ]
     },
     "metadata": {},
     "output_type": "display_data"
    },
    {
     "data": {
      "text/markdown": [
       "**Is match**: True"
      ],
      "text/plain": [
       "<IPython.core.display.Markdown object>"
      ]
     },
     "metadata": {},
     "output_type": "display_data"
    },
    {
     "name": "stdout",
     "output_type": "stream",
     "text": [
      "\n",
      "Average Metric: 2.00 / 3 (66.7%): 100%|██████████| 3/3 [00:01<00:00,  2.54it/s]"
     ]
    },
    {
     "name": "stderr",
     "output_type": "stream",
     "text": [
      "2025/09/03 17:10:22 INFO dspy.evaluate.evaluate: Average Metric: 2 / 3 (66.7%)\n",
      "2025/09/03 17:10:22 INFO dspy.teleprompt.mipro_optimizer_v2: Score: 66.67 with parameters ['Predictor 0: Instruction 0', 'Predictor 0: Few-Shot Set 16'].\n",
      "2025/09/03 17:10:22 INFO dspy.teleprompt.mipro_optimizer_v2: Scores so far: [66.67, 66.67, 66.67, 66.67, 66.67, 66.67, 66.67]\n",
      "2025/09/03 17:10:22 INFO dspy.teleprompt.mipro_optimizer_v2: Best score so far: 66.67\n",
      "2025/09/03 17:10:22 INFO dspy.teleprompt.mipro_optimizer_v2: ========================\n",
      "\n",
      "\n",
      "2025/09/03 17:10:22 INFO dspy.teleprompt.mipro_optimizer_v2: ===== Trial 8 / 27 =====\n"
     ]
    },
    {
     "name": "stdout",
     "output_type": "stream",
     "text": [
      "\n",
      "  0%|          | 0/3 [00:00<?, ?it/s]\n"
     ]
    },
    {
     "data": {
      "text/markdown": [
       "**expected**: Example({'number_guess': 'two', 'answer': 'one'}) (input_keys={'number_guess'})"
      ],
      "text/plain": [
       "<IPython.core.display.Markdown object>"
      ]
     },
     "metadata": {},
     "output_type": "display_data"
    },
    {
     "data": {
      "text/markdown": [
       "**actual**: Prediction(  \n",
       "    answer='two'  \n",
       ")"
      ],
      "text/plain": [
       "<IPython.core.display.Markdown object>"
      ]
     },
     "metadata": {},
     "output_type": "display_data"
    },
    {
     "data": {
      "text/markdown": [
       "**Is match**: True"
      ],
      "text/plain": [
       "<IPython.core.display.Markdown object>"
      ]
     },
     "metadata": {},
     "output_type": "display_data"
    },
    {
     "name": "stdout",
     "output_type": "stream",
     "text": [
      "\n",
      "Average Metric: 1.00 / 1 (100.0%):  33%|███▎      | 1/3 [00:00<00:01,  1.65it/s]\n"
     ]
    },
    {
     "data": {
      "text/markdown": [
       "**expected**: Example({'number_guess': 'one', 'answer': 'two'}) (input_keys={'number_guess'})"
      ],
      "text/plain": [
       "<IPython.core.display.Markdown object>"
      ]
     },
     "metadata": {},
     "output_type": "display_data"
    },
    {
     "data": {
      "text/markdown": [
       "**actual**: Prediction(  \n",
       "    answer='one'  \n",
       ")"
      ],
      "text/plain": [
       "<IPython.core.display.Markdown object>"
      ]
     },
     "metadata": {},
     "output_type": "display_data"
    },
    {
     "data": {
      "text/markdown": [
       "**Is match**: False"
      ],
      "text/plain": [
       "<IPython.core.display.Markdown object>"
      ]
     },
     "metadata": {},
     "output_type": "display_data"
    },
    {
     "name": "stdout",
     "output_type": "stream",
     "text": [
      "\n",
      "Average Metric: 1.00 / 2 (50.0%):  67%|██████▋   | 2/3 [00:00<00:00,  2.90it/s] \n"
     ]
    },
    {
     "data": {
      "text/markdown": [
       "**expected**: Example({'number_guess': 'two', 'answer': 'two'}) (input_keys={'number_guess'})"
      ],
      "text/plain": [
       "<IPython.core.display.Markdown object>"
      ]
     },
     "metadata": {},
     "output_type": "display_data"
    },
    {
     "data": {
      "text/markdown": [
       "**actual**: Prediction(  \n",
       "    answer='two'  \n",
       ")"
      ],
      "text/plain": [
       "<IPython.core.display.Markdown object>"
      ]
     },
     "metadata": {},
     "output_type": "display_data"
    },
    {
     "data": {
      "text/markdown": [
       "**Is match**: True"
      ],
      "text/plain": [
       "<IPython.core.display.Markdown object>"
      ]
     },
     "metadata": {},
     "output_type": "display_data"
    },
    {
     "name": "stdout",
     "output_type": "stream",
     "text": [
      "\n",
      "Average Metric: 2.00 / 3 (66.7%): 100%|██████████| 3/3 [00:00<00:00,  3.72it/s]"
     ]
    },
    {
     "name": "stderr",
     "output_type": "stream",
     "text": [
      "2025/09/03 17:10:23 INFO dspy.evaluate.evaluate: Average Metric: 2 / 3 (66.7%)\n"
     ]
    },
    {
     "name": "stdout",
     "output_type": "stream",
     "text": [
      "\n"
     ]
    },
    {
     "name": "stderr",
     "output_type": "stream",
     "text": [
      "2025/09/03 17:10:23 INFO dspy.teleprompt.mipro_optimizer_v2: Score: 66.67 with parameters ['Predictor 0: Instruction 0', 'Predictor 0: Few-Shot Set 13'].\n",
      "2025/09/03 17:10:23 INFO dspy.teleprompt.mipro_optimizer_v2: Scores so far: [66.67, 66.67, 66.67, 66.67, 66.67, 66.67, 66.67, 66.67]\n",
      "2025/09/03 17:10:23 INFO dspy.teleprompt.mipro_optimizer_v2: Best score so far: 66.67\n",
      "2025/09/03 17:10:23 INFO dspy.teleprompt.mipro_optimizer_v2: ========================\n",
      "\n",
      "\n",
      "2025/09/03 17:10:23 INFO dspy.teleprompt.mipro_optimizer_v2: ===== Trial 9 / 27 =====\n"
     ]
    },
    {
     "name": "stdout",
     "output_type": "stream",
     "text": [
      "  0%|          | 0/3 [00:00<?, ?it/s]\n"
     ]
    },
    {
     "data": {
      "text/markdown": [
       "**expected**: Example({'number_guess': 'two', 'answer': 'two'}) (input_keys={'number_guess'})"
      ],
      "text/plain": [
       "<IPython.core.display.Markdown object>"
      ]
     },
     "metadata": {},
     "output_type": "display_data"
    },
    {
     "data": {
      "text/markdown": [
       "**actual**: Prediction(  \n",
       "    answer='two'  \n",
       ")"
      ],
      "text/plain": [
       "<IPython.core.display.Markdown object>"
      ]
     },
     "metadata": {},
     "output_type": "display_data"
    },
    {
     "data": {
      "text/markdown": [
       "**Is match**: True"
      ],
      "text/plain": [
       "<IPython.core.display.Markdown object>"
      ]
     },
     "metadata": {},
     "output_type": "display_data"
    },
    {
     "name": "stdout",
     "output_type": "stream",
     "text": [
      "\n",
      "Average Metric: 1.00 / 1 (100.0%):  33%|███▎      | 1/3 [00:00<00:01,  1.45it/s]\n"
     ]
    },
    {
     "data": {
      "text/markdown": [
       "**expected**: Example({'number_guess': 'two', 'answer': 'one'}) (input_keys={'number_guess'})"
      ],
      "text/plain": [
       "<IPython.core.display.Markdown object>"
      ]
     },
     "metadata": {},
     "output_type": "display_data"
    },
    {
     "data": {
      "text/markdown": [
       "**actual**: Prediction(  \n",
       "    answer='two'  \n",
       ")"
      ],
      "text/plain": [
       "<IPython.core.display.Markdown object>"
      ]
     },
     "metadata": {},
     "output_type": "display_data"
    },
    {
     "data": {
      "text/markdown": [
       "**Is match**: True"
      ],
      "text/plain": [
       "<IPython.core.display.Markdown object>"
      ]
     },
     "metadata": {},
     "output_type": "display_data"
    },
    {
     "name": "stdout",
     "output_type": "stream",
     "text": [
      "\n",
      "Average Metric: 2.00 / 2 (100.0%):  33%|███▎      | 1/3 [00:00<00:01,  1.45it/s]\n"
     ]
    },
    {
     "data": {
      "text/markdown": [
       "**expected**: Example({'number_guess': 'one', 'answer': 'two'}) (input_keys={'number_guess'})"
      ],
      "text/plain": [
       "<IPython.core.display.Markdown object>"
      ]
     },
     "metadata": {},
     "output_type": "display_data"
    },
    {
     "data": {
      "text/markdown": [
       "**actual**: Prediction(  \n",
       "    answer='one'  \n",
       ")"
      ],
      "text/plain": [
       "<IPython.core.display.Markdown object>"
      ]
     },
     "metadata": {},
     "output_type": "display_data"
    },
    {
     "data": {
      "text/markdown": [
       "**Is match**: False"
      ],
      "text/plain": [
       "<IPython.core.display.Markdown object>"
      ]
     },
     "metadata": {},
     "output_type": "display_data"
    },
    {
     "name": "stdout",
     "output_type": "stream",
     "text": [
      "\n",
      "Average Metric: 2.00 / 3 (66.7%): 100%|██████████| 3/3 [00:01<00:00,  1.63it/s] "
     ]
    },
    {
     "name": "stderr",
     "output_type": "stream",
     "text": [
      "2025/09/03 17:10:25 INFO dspy.evaluate.evaluate: Average Metric: 2 / 3 (66.7%)\n",
      "2025/09/03 17:10:25 INFO dspy.teleprompt.mipro_optimizer_v2: Score: 66.67 with parameters ['Predictor 0: Instruction 0', 'Predictor 0: Few-Shot Set 12'].\n",
      "2025/09/03 17:10:25 INFO dspy.teleprompt.mipro_optimizer_v2: Scores so far: [66.67, 66.67, 66.67, 66.67, 66.67, 66.67, 66.67, 66.67, 66.67]\n",
      "2025/09/03 17:10:25 INFO dspy.teleprompt.mipro_optimizer_v2: Best score so far: 66.67\n",
      "2025/09/03 17:10:25 INFO dspy.teleprompt.mipro_optimizer_v2: ========================\n",
      "\n",
      "\n",
      "2025/09/03 17:10:25 INFO dspy.teleprompt.mipro_optimizer_v2: ===== Trial 10 / 27 =====\n"
     ]
    },
    {
     "name": "stdout",
     "output_type": "stream",
     "text": [
      "\n",
      "  0%|          | 0/3 [00:00<?, ?it/s]\n"
     ]
    },
    {
     "data": {
      "text/markdown": [
       "**expected**: Example({'number_guess': 'two', 'answer': 'two'}) (input_keys={'number_guess'})"
      ],
      "text/plain": [
       "<IPython.core.display.Markdown object>"
      ]
     },
     "metadata": {},
     "output_type": "display_data"
    },
    {
     "data": {
      "text/markdown": [
       "**actual**: Prediction(  \n",
       "    answer='two'  \n",
       ")"
      ],
      "text/plain": [
       "<IPython.core.display.Markdown object>"
      ]
     },
     "metadata": {},
     "output_type": "display_data"
    },
    {
     "data": {
      "text/markdown": [
       "**Is match**: True"
      ],
      "text/plain": [
       "<IPython.core.display.Markdown object>"
      ]
     },
     "metadata": {},
     "output_type": "display_data"
    },
    {
     "name": "stdout",
     "output_type": "stream",
     "text": [
      "\n",
      "Average Metric: 1.00 / 1 (100.0%):  33%|███▎      | 1/3 [00:00<00:01,  1.28it/s]\n"
     ]
    },
    {
     "data": {
      "text/markdown": [
       "**expected**: Example({'number_guess': 'one', 'answer': 'two'}) (input_keys={'number_guess'})"
      ],
      "text/plain": [
       "<IPython.core.display.Markdown object>"
      ]
     },
     "metadata": {},
     "output_type": "display_data"
    },
    {
     "data": {
      "text/markdown": [
       "**actual**: Prediction(  \n",
       "    answer='one'  \n",
       ")"
      ],
      "text/plain": [
       "<IPython.core.display.Markdown object>"
      ]
     },
     "metadata": {},
     "output_type": "display_data"
    },
    {
     "data": {
      "text/markdown": [
       "**Is match**: False"
      ],
      "text/plain": [
       "<IPython.core.display.Markdown object>"
      ]
     },
     "metadata": {},
     "output_type": "display_data"
    },
    {
     "name": "stdout",
     "output_type": "stream",
     "text": [
      "\n",
      "Average Metric: 1.00 / 2 (50.0%):  33%|███▎      | 1/3 [00:00<00:01,  1.28it/s] \n"
     ]
    },
    {
     "data": {
      "text/markdown": [
       "**expected**: Example({'number_guess': 'two', 'answer': 'one'}) (input_keys={'number_guess'})"
      ],
      "text/plain": [
       "<IPython.core.display.Markdown object>"
      ]
     },
     "metadata": {},
     "output_type": "display_data"
    },
    {
     "data": {
      "text/markdown": [
       "**actual**: Prediction(  \n",
       "    answer='two'  \n",
       ")"
      ],
      "text/plain": [
       "<IPython.core.display.Markdown object>"
      ]
     },
     "metadata": {},
     "output_type": "display_data"
    },
    {
     "data": {
      "text/markdown": [
       "**Is match**: True"
      ],
      "text/plain": [
       "<IPython.core.display.Markdown object>"
      ]
     },
     "metadata": {},
     "output_type": "display_data"
    },
    {
     "name": "stdout",
     "output_type": "stream",
     "text": [
      "\n",
      "Average Metric: 2.00 / 3 (66.7%): 100%|██████████| 3/3 [00:02<00:00,  1.25it/s]"
     ]
    },
    {
     "name": "stderr",
     "output_type": "stream",
     "text": [
      "2025/09/03 17:10:27 INFO dspy.evaluate.evaluate: Average Metric: 2 / 3 (66.7%)\n",
      "2025/09/03 17:10:27 INFO dspy.teleprompt.mipro_optimizer_v2: Score: 66.67 with parameters ['Predictor 0: Instruction 8', 'Predictor 0: Few-Shot Set 10'].\n",
      "2025/09/03 17:10:27 INFO dspy.teleprompt.mipro_optimizer_v2: Scores so far: [66.67, 66.67, 66.67, 66.67, 66.67, 66.67, 66.67, 66.67, 66.67, 66.67]\n",
      "2025/09/03 17:10:27 INFO dspy.teleprompt.mipro_optimizer_v2: Best score so far: 66.67\n",
      "2025/09/03 17:10:27 INFO dspy.teleprompt.mipro_optimizer_v2: =========================\n",
      "\n",
      "\n",
      "2025/09/03 17:10:27 INFO dspy.teleprompt.mipro_optimizer_v2: ===== Trial 11 / 27 =====\n"
     ]
    },
    {
     "name": "stdout",
     "output_type": "stream",
     "text": [
      "\n",
      "  0%|          | 0/3 [00:00<?, ?it/s]\n"
     ]
    },
    {
     "data": {
      "text/markdown": [
       "**expected**: Example({'number_guess': 'two', 'answer': 'one'}) (input_keys={'number_guess'})"
      ],
      "text/plain": [
       "<IPython.core.display.Markdown object>"
      ]
     },
     "metadata": {},
     "output_type": "display_data"
    },
    {
     "data": {
      "text/markdown": [
       "**actual**: Prediction(  \n",
       "    answer='two'  \n",
       ")"
      ],
      "text/plain": [
       "<IPython.core.display.Markdown object>"
      ]
     },
     "metadata": {},
     "output_type": "display_data"
    },
    {
     "data": {
      "text/markdown": [
       "**Is match**: True"
      ],
      "text/plain": [
       "<IPython.core.display.Markdown object>"
      ]
     },
     "metadata": {},
     "output_type": "display_data"
    },
    {
     "name": "stdout",
     "output_type": "stream",
     "text": [
      "\n",
      "Average Metric: 1.00 / 1 (100.0%):  33%|███▎      | 1/3 [00:00<00:01,  1.54it/s]\n"
     ]
    },
    {
     "data": {
      "text/markdown": [
       "**expected**: Example({'number_guess': 'two', 'answer': 'two'}) (input_keys={'number_guess'})"
      ],
      "text/plain": [
       "<IPython.core.display.Markdown object>"
      ]
     },
     "metadata": {},
     "output_type": "display_data"
    },
    {
     "data": {
      "text/markdown": [
       "**actual**: Prediction(  \n",
       "    answer='two'  \n",
       ")"
      ],
      "text/plain": [
       "<IPython.core.display.Markdown object>"
      ]
     },
     "metadata": {},
     "output_type": "display_data"
    },
    {
     "data": {
      "text/markdown": [
       "**Is match**: True"
      ],
      "text/plain": [
       "<IPython.core.display.Markdown object>"
      ]
     },
     "metadata": {},
     "output_type": "display_data"
    },
    {
     "name": "stdout",
     "output_type": "stream",
     "text": [
      "\n",
      "Average Metric: 2.00 / 2 (100.0%):  33%|███▎      | 1/3 [00:00<00:01,  1.54it/s]\n"
     ]
    },
    {
     "data": {
      "text/markdown": [
       "**expected**: Example({'number_guess': 'one', 'answer': 'two'}) (input_keys={'number_guess'})"
      ],
      "text/plain": [
       "<IPython.core.display.Markdown object>"
      ]
     },
     "metadata": {},
     "output_type": "display_data"
    },
    {
     "data": {
      "text/markdown": [
       "**actual**: Prediction(  \n",
       "    answer='one'  \n",
       ")"
      ],
      "text/plain": [
       "<IPython.core.display.Markdown object>"
      ]
     },
     "metadata": {},
     "output_type": "display_data"
    },
    {
     "data": {
      "text/markdown": [
       "**Is match**: False"
      ],
      "text/plain": [
       "<IPython.core.display.Markdown object>"
      ]
     },
     "metadata": {},
     "output_type": "display_data"
    },
    {
     "name": "stdout",
     "output_type": "stream",
     "text": [
      "\n",
      "Average Metric: 2.00 / 3 (66.7%): 100%|██████████| 3/3 [00:00<00:00,  3.49it/s] "
     ]
    },
    {
     "name": "stderr",
     "output_type": "stream",
     "text": [
      "2025/09/03 17:10:28 INFO dspy.evaluate.evaluate: Average Metric: 2 / 3 (66.7%)\n",
      "2025/09/03 17:10:28 INFO dspy.teleprompt.mipro_optimizer_v2: Score: 66.67 with parameters ['Predictor 0: Instruction 3', 'Predictor 0: Few-Shot Set 8'].\n",
      "2025/09/03 17:10:28 INFO dspy.teleprompt.mipro_optimizer_v2: Scores so far: [66.67, 66.67, 66.67, 66.67, 66.67, 66.67, 66.67, 66.67, 66.67, 66.67, 66.67]\n",
      "2025/09/03 17:10:28 INFO dspy.teleprompt.mipro_optimizer_v2: Best score so far: 66.67\n",
      "2025/09/03 17:10:28 INFO dspy.teleprompt.mipro_optimizer_v2: =========================\n",
      "\n",
      "\n",
      "2025/09/03 17:10:28 INFO dspy.teleprompt.mipro_optimizer_v2: ===== Trial 12 / 27 =====\n"
     ]
    },
    {
     "name": "stdout",
     "output_type": "stream",
     "text": [
      "\n",
      "  0%|          | 0/3 [00:00<?, ?it/s]\n"
     ]
    },
    {
     "data": {
      "text/markdown": [
       "**expected**: Example({'number_guess': 'two', 'answer': 'one'}) (input_keys={'number_guess'})"
      ],
      "text/plain": [
       "<IPython.core.display.Markdown object>"
      ]
     },
     "metadata": {},
     "output_type": "display_data"
    },
    {
     "data": {
      "text/markdown": [
       "**actual**: Prediction(  \n",
       "    answer='two'  \n",
       ")"
      ],
      "text/plain": [
       "<IPython.core.display.Markdown object>"
      ]
     },
     "metadata": {},
     "output_type": "display_data"
    },
    {
     "data": {
      "text/markdown": [
       "**Is match**: True"
      ],
      "text/plain": [
       "<IPython.core.display.Markdown object>"
      ]
     },
     "metadata": {},
     "output_type": "display_data"
    },
    {
     "name": "stdout",
     "output_type": "stream",
     "text": [
      "\n",
      "Average Metric: 1.00 / 1 (100.0%):  33%|███▎      | 1/3 [00:00<00:01,  1.84it/s]\n"
     ]
    },
    {
     "data": {
      "text/markdown": [
       "**expected**: Example({'number_guess': 'one', 'answer': 'two'}) (input_keys={'number_guess'})"
      ],
      "text/plain": [
       "<IPython.core.display.Markdown object>"
      ]
     },
     "metadata": {},
     "output_type": "display_data"
    },
    {
     "data": {
      "text/markdown": [
       "**actual**: Prediction(  \n",
       "    answer='one'  \n",
       ")"
      ],
      "text/plain": [
       "<IPython.core.display.Markdown object>"
      ]
     },
     "metadata": {},
     "output_type": "display_data"
    },
    {
     "data": {
      "text/markdown": [
       "**Is match**: False"
      ],
      "text/plain": [
       "<IPython.core.display.Markdown object>"
      ]
     },
     "metadata": {},
     "output_type": "display_data"
    },
    {
     "name": "stdout",
     "output_type": "stream",
     "text": [
      "\n",
      "Average Metric: 1.00 / 2 (50.0%):  33%|███▎      | 1/3 [00:00<00:01,  1.84it/s] \n"
     ]
    },
    {
     "data": {
      "text/markdown": [
       "**expected**: Example({'number_guess': 'two', 'answer': 'two'}) (input_keys={'number_guess'})"
      ],
      "text/plain": [
       "<IPython.core.display.Markdown object>"
      ]
     },
     "metadata": {},
     "output_type": "display_data"
    },
    {
     "data": {
      "text/markdown": [
       "**actual**: Prediction(  \n",
       "    answer='two'  \n",
       ")"
      ],
      "text/plain": [
       "<IPython.core.display.Markdown object>"
      ]
     },
     "metadata": {},
     "output_type": "display_data"
    },
    {
     "data": {
      "text/markdown": [
       "**Is match**: True"
      ],
      "text/plain": [
       "<IPython.core.display.Markdown object>"
      ]
     },
     "metadata": {},
     "output_type": "display_data"
    },
    {
     "name": "stdout",
     "output_type": "stream",
     "text": [
      "\n",
      "Average Metric: 2.00 / 3 (66.7%): 100%|██████████| 3/3 [00:00<00:00,  4.31it/s]"
     ]
    },
    {
     "name": "stderr",
     "output_type": "stream",
     "text": [
      "2025/09/03 17:10:29 INFO dspy.evaluate.evaluate: Average Metric: 2 / 3 (66.7%)\n",
      "2025/09/03 17:10:29 INFO dspy.teleprompt.mipro_optimizer_v2: Score: 66.67 with parameters ['Predictor 0: Instruction 7', 'Predictor 0: Few-Shot Set 0'].\n",
      "2025/09/03 17:10:29 INFO dspy.teleprompt.mipro_optimizer_v2: Scores so far: [66.67, 66.67, 66.67, 66.67, 66.67, 66.67, 66.67, 66.67, 66.67, 66.67, 66.67, 66.67]\n",
      "2025/09/03 17:10:29 INFO dspy.teleprompt.mipro_optimizer_v2: Best score so far: 66.67\n",
      "2025/09/03 17:10:29 INFO dspy.teleprompt.mipro_optimizer_v2: =========================\n",
      "\n",
      "\n",
      "2025/09/03 17:10:29 INFO dspy.teleprompt.mipro_optimizer_v2: ===== Trial 13 / 27 =====\n"
     ]
    },
    {
     "name": "stdout",
     "output_type": "stream",
     "text": [
      "\n",
      "  0%|          | 0/3 [00:00<?, ?it/s]\n"
     ]
    },
    {
     "data": {
      "text/markdown": [
       "**expected**: Example({'number_guess': 'two', 'answer': 'one'}) (input_keys={'number_guess'})"
      ],
      "text/plain": [
       "<IPython.core.display.Markdown object>"
      ]
     },
     "metadata": {},
     "output_type": "display_data"
    },
    {
     "data": {
      "text/markdown": [
       "**actual**: Prediction(  \n",
       "    answer='two'  \n",
       ")"
      ],
      "text/plain": [
       "<IPython.core.display.Markdown object>"
      ]
     },
     "metadata": {},
     "output_type": "display_data"
    },
    {
     "data": {
      "text/markdown": [
       "**Is match**: True"
      ],
      "text/plain": [
       "<IPython.core.display.Markdown object>"
      ]
     },
     "metadata": {},
     "output_type": "display_data"
    },
    {
     "name": "stdout",
     "output_type": "stream",
     "text": [
      "\n",
      "Average Metric: 1.00 / 1 (100.0%):  33%|███▎      | 1/3 [00:00<00:01,  1.36it/s]\n"
     ]
    },
    {
     "data": {
      "text/markdown": [
       "**expected**: Example({'number_guess': 'two', 'answer': 'two'}) (input_keys={'number_guess'})"
      ],
      "text/plain": [
       "<IPython.core.display.Markdown object>"
      ]
     },
     "metadata": {},
     "output_type": "display_data"
    },
    {
     "data": {
      "text/markdown": [
       "**actual**: Prediction(  \n",
       "    answer='two'  \n",
       ")"
      ],
      "text/plain": [
       "<IPython.core.display.Markdown object>"
      ]
     },
     "metadata": {},
     "output_type": "display_data"
    },
    {
     "data": {
      "text/markdown": [
       "**Is match**: True"
      ],
      "text/plain": [
       "<IPython.core.display.Markdown object>"
      ]
     },
     "metadata": {},
     "output_type": "display_data"
    },
    {
     "name": "stdout",
     "output_type": "stream",
     "text": [
      "\n",
      "Average Metric: 2.00 / 2 (100.0%):  33%|███▎      | 1/3 [00:00<00:01,  1.36it/s]\n"
     ]
    },
    {
     "data": {
      "text/markdown": [
       "**expected**: Example({'number_guess': 'one', 'answer': 'two'}) (input_keys={'number_guess'})"
      ],
      "text/plain": [
       "<IPython.core.display.Markdown object>"
      ]
     },
     "metadata": {},
     "output_type": "display_data"
    },
    {
     "data": {
      "text/markdown": [
       "**actual**: Prediction(  \n",
       "    answer='one'  \n",
       ")"
      ],
      "text/plain": [
       "<IPython.core.display.Markdown object>"
      ]
     },
     "metadata": {},
     "output_type": "display_data"
    },
    {
     "data": {
      "text/markdown": [
       "**Is match**: False"
      ],
      "text/plain": [
       "<IPython.core.display.Markdown object>"
      ]
     },
     "metadata": {},
     "output_type": "display_data"
    },
    {
     "name": "stdout",
     "output_type": "stream",
     "text": [
      "\n",
      "Average Metric: 2.00 / 3 (66.7%): 100%|██████████| 3/3 [00:00<00:00,  3.57it/s] "
     ]
    },
    {
     "name": "stderr",
     "output_type": "stream",
     "text": [
      "2025/09/03 17:10:30 INFO dspy.evaluate.evaluate: Average Metric: 2 / 3 (66.7%)\n",
      "2025/09/03 17:10:30 INFO dspy.teleprompt.mipro_optimizer_v2: Score: 66.67 with parameters ['Predictor 0: Instruction 1', 'Predictor 0: Few-Shot Set 15'].\n",
      "2025/09/03 17:10:30 INFO dspy.teleprompt.mipro_optimizer_v2: Scores so far: [66.67, 66.67, 66.67, 66.67, 66.67, 66.67, 66.67, 66.67, 66.67, 66.67, 66.67, 66.67, 66.67]\n",
      "2025/09/03 17:10:30 INFO dspy.teleprompt.mipro_optimizer_v2: Best score so far: 66.67\n",
      "2025/09/03 17:10:30 INFO dspy.teleprompt.mipro_optimizer_v2: =========================\n",
      "\n",
      "\n",
      "2025/09/03 17:10:30 INFO dspy.teleprompt.mipro_optimizer_v2: ===== Trial 14 / 27 =====\n"
     ]
    },
    {
     "name": "stdout",
     "output_type": "stream",
     "text": [
      "\n",
      "  0%|          | 0/3 [00:00<?, ?it/s]\n"
     ]
    },
    {
     "data": {
      "text/markdown": [
       "**expected**: Example({'number_guess': 'one', 'answer': 'two'}) (input_keys={'number_guess'})"
      ],
      "text/plain": [
       "<IPython.core.display.Markdown object>"
      ]
     },
     "metadata": {},
     "output_type": "display_data"
    },
    {
     "data": {
      "text/markdown": [
       "**actual**: Prediction(  \n",
       "    answer='one'  \n",
       ")"
      ],
      "text/plain": [
       "<IPython.core.display.Markdown object>"
      ]
     },
     "metadata": {},
     "output_type": "display_data"
    },
    {
     "data": {
      "text/markdown": [
       "**Is match**: False"
      ],
      "text/plain": [
       "<IPython.core.display.Markdown object>"
      ]
     },
     "metadata": {},
     "output_type": "display_data"
    },
    {
     "name": "stdout",
     "output_type": "stream",
     "text": [
      "\n",
      "Average Metric: 0.00 / 1 (0.0%):   0%|          | 0/3 [00:00<?, ?it/s]\n",
      "Average Metric: 0.00 / 1 (0.0%):  33%|███▎      | 1/3 [00:00<00:01,  1.38it/s]"
     ]
    },
    {
     "data": {
      "text/markdown": [
       "**expected**: Example({'number_guess': 'two', 'answer': 'one'}) (input_keys={'number_guess'})"
      ],
      "text/plain": [
       "<IPython.core.display.Markdown object>"
      ]
     },
     "metadata": {},
     "output_type": "display_data"
    },
    {
     "data": {
      "text/markdown": [
       "**actual**: Prediction(  \n",
       "    answer='two'  \n",
       ")"
      ],
      "text/plain": [
       "<IPython.core.display.Markdown object>"
      ]
     },
     "metadata": {},
     "output_type": "display_data"
    },
    {
     "data": {
      "text/markdown": [
       "**Is match**: True"
      ],
      "text/plain": [
       "<IPython.core.display.Markdown object>"
      ]
     },
     "metadata": {},
     "output_type": "display_data"
    },
    {
     "name": "stdout",
     "output_type": "stream",
     "text": [
      "\n",
      "Average Metric: 1.00 / 2 (50.0%):  33%|███▎      | 1/3 [00:00<00:01,  1.38it/s]\n"
     ]
    },
    {
     "data": {
      "text/markdown": [
       "**expected**: Example({'number_guess': 'two', 'answer': 'two'}) (input_keys={'number_guess'})"
      ],
      "text/plain": [
       "<IPython.core.display.Markdown object>"
      ]
     },
     "metadata": {},
     "output_type": "display_data"
    },
    {
     "data": {
      "text/markdown": [
       "**actual**: Prediction(  \n",
       "    answer='two'  \n",
       ")"
      ],
      "text/plain": [
       "<IPython.core.display.Markdown object>"
      ]
     },
     "metadata": {},
     "output_type": "display_data"
    },
    {
     "data": {
      "text/markdown": [
       "**Is match**: True"
      ],
      "text/plain": [
       "<IPython.core.display.Markdown object>"
      ]
     },
     "metadata": {},
     "output_type": "display_data"
    },
    {
     "name": "stdout",
     "output_type": "stream",
     "text": [
      "\n",
      "Average Metric: 2.00 / 3 (66.7%): 100%|██████████| 3/3 [00:00<00:00,  3.57it/s]"
     ]
    },
    {
     "name": "stderr",
     "output_type": "stream",
     "text": [
      "2025/09/03 17:10:31 INFO dspy.evaluate.evaluate: Average Metric: 2 / 3 (66.7%)\n",
      "2025/09/03 17:10:31 INFO dspy.teleprompt.mipro_optimizer_v2: Score: 66.67 with parameters ['Predictor 0: Instruction 1', 'Predictor 0: Few-Shot Set 0'].\n",
      "2025/09/03 17:10:31 INFO dspy.teleprompt.mipro_optimizer_v2: Scores so far: [66.67, 66.67, 66.67, 66.67, 66.67, 66.67, 66.67, 66.67, 66.67, 66.67, 66.67, 66.67, 66.67, 66.67]\n",
      "2025/09/03 17:10:31 INFO dspy.teleprompt.mipro_optimizer_v2: Best score so far: 66.67\n",
      "2025/09/03 17:10:31 INFO dspy.teleprompt.mipro_optimizer_v2: =========================\n",
      "\n",
      "\n",
      "2025/09/03 17:10:31 INFO dspy.teleprompt.mipro_optimizer_v2: ===== Trial 15 / 27 =====\n"
     ]
    },
    {
     "name": "stdout",
     "output_type": "stream",
     "text": [
      "\n",
      "  0%|          | 0/3 [00:00<?, ?it/s]\n"
     ]
    },
    {
     "data": {
      "text/markdown": [
       "**expected**: Example({'number_guess': 'one', 'answer': 'two'}) (input_keys={'number_guess'})"
      ],
      "text/plain": [
       "<IPython.core.display.Markdown object>"
      ]
     },
     "metadata": {},
     "output_type": "display_data"
    },
    {
     "data": {
      "text/markdown": [
       "**actual**: Prediction(  \n",
       "    answer='one'  \n",
       ")"
      ],
      "text/plain": [
       "<IPython.core.display.Markdown object>"
      ]
     },
     "metadata": {},
     "output_type": "display_data"
    },
    {
     "data": {
      "text/markdown": [
       "**Is match**: False"
      ],
      "text/plain": [
       "<IPython.core.display.Markdown object>"
      ]
     },
     "metadata": {},
     "output_type": "display_data"
    },
    {
     "name": "stdout",
     "output_type": "stream",
     "text": [
      "\n",
      "\n",
      "Average Metric: 0.00 / 1 (0.0%):   0%|          | 0/3 [00:00<?, ?it/s]"
     ]
    },
    {
     "data": {
      "text/markdown": [
       "**expected**: Example({'number_guess': 'two', 'answer': 'two'}) (input_keys={'number_guess'})"
      ],
      "text/plain": [
       "<IPython.core.display.Markdown object>"
      ]
     },
     "metadata": {},
     "output_type": "display_data"
    },
    {
     "name": "stdout",
     "output_type": "stream",
     "text": [
      "Average Metric: 0.00 / 1 (0.0%):  33%|███▎      | 1/3 [00:00<00:01,  1.52it/s]"
     ]
    },
    {
     "data": {
      "text/markdown": [
       "**actual**: Prediction(  \n",
       "    answer='two'  \n",
       ")"
      ],
      "text/plain": [
       "<IPython.core.display.Markdown object>"
      ]
     },
     "metadata": {},
     "output_type": "display_data"
    },
    {
     "data": {
      "text/markdown": [
       "**Is match**: True"
      ],
      "text/plain": [
       "<IPython.core.display.Markdown object>"
      ]
     },
     "metadata": {},
     "output_type": "display_data"
    },
    {
     "name": "stdout",
     "output_type": "stream",
     "text": [
      "\n",
      "Average Metric: 1.00 / 2 (50.0%):  33%|███▎      | 1/3 [00:00<00:01,  1.52it/s]\n"
     ]
    },
    {
     "data": {
      "text/markdown": [
       "**expected**: Example({'number_guess': 'two', 'answer': 'one'}) (input_keys={'number_guess'})"
      ],
      "text/plain": [
       "<IPython.core.display.Markdown object>"
      ]
     },
     "metadata": {},
     "output_type": "display_data"
    },
    {
     "data": {
      "text/markdown": [
       "**actual**: Prediction(  \n",
       "    answer='two'  \n",
       ")"
      ],
      "text/plain": [
       "<IPython.core.display.Markdown object>"
      ]
     },
     "metadata": {},
     "output_type": "display_data"
    },
    {
     "data": {
      "text/markdown": [
       "**Is match**: True"
      ],
      "text/plain": [
       "<IPython.core.display.Markdown object>"
      ]
     },
     "metadata": {},
     "output_type": "display_data"
    },
    {
     "name": "stdout",
     "output_type": "stream",
     "text": [
      "\n",
      "Average Metric: 2.00 / 3 (66.7%): 100%|██████████| 3/3 [00:00<00:00,  4.01it/s]"
     ]
    },
    {
     "name": "stderr",
     "output_type": "stream",
     "text": [
      "2025/09/03 17:10:31 INFO dspy.evaluate.evaluate: Average Metric: 2 / 3 (66.7%)\n",
      "2025/09/03 17:10:31 INFO dspy.teleprompt.mipro_optimizer_v2: Score: 66.67 with parameters ['Predictor 0: Instruction 7', 'Predictor 0: Few-Shot Set 17'].\n",
      "2025/09/03 17:10:31 INFO dspy.teleprompt.mipro_optimizer_v2: Scores so far: [66.67, 66.67, 66.67, 66.67, 66.67, 66.67, 66.67, 66.67, 66.67, 66.67, 66.67, 66.67, 66.67, 66.67, 66.67]\n",
      "2025/09/03 17:10:31 INFO dspy.teleprompt.mipro_optimizer_v2: Best score so far: 66.67\n",
      "2025/09/03 17:10:31 INFO dspy.teleprompt.mipro_optimizer_v2: =========================\n",
      "\n",
      "\n",
      "2025/09/03 17:10:32 INFO dspy.teleprompt.mipro_optimizer_v2: ===== Trial 16 / 27 =====\n"
     ]
    },
    {
     "name": "stdout",
     "output_type": "stream",
     "text": [
      "\n",
      "  0%|          | 0/3 [00:00<?, ?it/s]\n"
     ]
    },
    {
     "data": {
      "text/markdown": [
       "**expected**: Example({'number_guess': 'two', 'answer': 'one'}) (input_keys={'number_guess'})"
      ],
      "text/plain": [
       "<IPython.core.display.Markdown object>"
      ]
     },
     "metadata": {},
     "output_type": "display_data"
    },
    {
     "data": {
      "text/markdown": [
       "**actual**: Prediction(  \n",
       "    answer='two'  \n",
       ")"
      ],
      "text/plain": [
       "<IPython.core.display.Markdown object>"
      ]
     },
     "metadata": {},
     "output_type": "display_data"
    },
    {
     "data": {
      "text/markdown": [
       "**Is match**: True"
      ],
      "text/plain": [
       "<IPython.core.display.Markdown object>"
      ]
     },
     "metadata": {},
     "output_type": "display_data"
    },
    {
     "name": "stdout",
     "output_type": "stream",
     "text": [
      "\n",
      "Average Metric: 1.00 / 1 (100.0%):  33%|███▎      | 1/3 [00:00<00:01,  1.26it/s]\n"
     ]
    },
    {
     "data": {
      "text/markdown": [
       "**expected**: Example({'number_guess': 'two', 'answer': 'two'}) (input_keys={'number_guess'})"
      ],
      "text/plain": [
       "<IPython.core.display.Markdown object>"
      ]
     },
     "metadata": {},
     "output_type": "display_data"
    },
    {
     "data": {
      "text/markdown": [
       "**actual**: Prediction(  \n",
       "    answer='two'  \n",
       ")"
      ],
      "text/plain": [
       "<IPython.core.display.Markdown object>"
      ]
     },
     "metadata": {},
     "output_type": "display_data"
    },
    {
     "data": {
      "text/markdown": [
       "**Is match**: True"
      ],
      "text/plain": [
       "<IPython.core.display.Markdown object>"
      ]
     },
     "metadata": {},
     "output_type": "display_data"
    },
    {
     "name": "stdout",
     "output_type": "stream",
     "text": [
      "\n",
      "Average Metric: 2.00 / 2 (100.0%):  33%|███▎      | 1/3 [00:00<00:01,  1.26it/s]\n"
     ]
    },
    {
     "data": {
      "text/markdown": [
       "**expected**: Example({'number_guess': 'one', 'answer': 'two'}) (input_keys={'number_guess'})"
      ],
      "text/plain": [
       "<IPython.core.display.Markdown object>"
      ]
     },
     "metadata": {},
     "output_type": "display_data"
    },
    {
     "data": {
      "text/markdown": [
       "**actual**: Prediction(  \n",
       "    answer='one'  \n",
       ")"
      ],
      "text/plain": [
       "<IPython.core.display.Markdown object>"
      ]
     },
     "metadata": {},
     "output_type": "display_data"
    },
    {
     "data": {
      "text/markdown": [
       "**Is match**: False"
      ],
      "text/plain": [
       "<IPython.core.display.Markdown object>"
      ]
     },
     "metadata": {},
     "output_type": "display_data"
    },
    {
     "name": "stdout",
     "output_type": "stream",
     "text": [
      "\n",
      "Average Metric: 2.00 / 3 (66.7%): 100%|██████████| 3/3 [00:01<00:00,  1.67it/s] "
     ]
    },
    {
     "name": "stderr",
     "output_type": "stream",
     "text": [
      "2025/09/03 17:10:33 INFO dspy.evaluate.evaluate: Average Metric: 2 / 3 (66.7%)\n",
      "2025/09/03 17:10:33 INFO dspy.teleprompt.mipro_optimizer_v2: Score: 66.67 with parameters ['Predictor 0: Instruction 6', 'Predictor 0: Few-Shot Set 17'].\n",
      "2025/09/03 17:10:33 INFO dspy.teleprompt.mipro_optimizer_v2: Scores so far: [66.67, 66.67, 66.67, 66.67, 66.67, 66.67, 66.67, 66.67, 66.67, 66.67, 66.67, 66.67, 66.67, 66.67, 66.67, 66.67]\n",
      "2025/09/03 17:10:33 INFO dspy.teleprompt.mipro_optimizer_v2: Best score so far: 66.67\n",
      "2025/09/03 17:10:33 INFO dspy.teleprompt.mipro_optimizer_v2: =========================\n",
      "\n",
      "\n",
      "2025/09/03 17:10:33 INFO dspy.teleprompt.mipro_optimizer_v2: ===== Trial 17 / 27 =====\n"
     ]
    },
    {
     "name": "stdout",
     "output_type": "stream",
     "text": [
      "\n",
      "  0%|          | 0/3 [00:00<?, ?it/s]\n"
     ]
    },
    {
     "data": {
      "text/markdown": [
       "**expected**: Example({'number_guess': 'one', 'answer': 'two'}) (input_keys={'number_guess'})"
      ],
      "text/plain": [
       "<IPython.core.display.Markdown object>"
      ]
     },
     "metadata": {},
     "output_type": "display_data"
    },
    {
     "name": "stdout",
     "output_type": "stream",
     "text": [
      "\n"
     ]
    },
    {
     "data": {
      "text/markdown": [
       "**actual**: Prediction(  \n",
       "    answer='one'  \n",
       ")"
      ],
      "text/plain": [
       "<IPython.core.display.Markdown object>"
      ]
     },
     "metadata": {},
     "output_type": "display_data"
    },
    {
     "data": {
      "text/markdown": [
       "**expected**: Example({'number_guess': 'two', 'answer': 'one'}) (input_keys={'number_guess'})"
      ],
      "text/plain": [
       "<IPython.core.display.Markdown object>"
      ]
     },
     "metadata": {},
     "output_type": "display_data"
    },
    {
     "data": {
      "text/markdown": [
       "**Is match**: False"
      ],
      "text/plain": [
       "<IPython.core.display.Markdown object>"
      ]
     },
     "metadata": {},
     "output_type": "display_data"
    },
    {
     "data": {
      "text/markdown": [
       "**actual**: Prediction(  \n",
       "    answer='two'  \n",
       ")"
      ],
      "text/plain": [
       "<IPython.core.display.Markdown object>"
      ]
     },
     "metadata": {},
     "output_type": "display_data"
    },
    {
     "name": "stdout",
     "output_type": "stream",
     "text": [
      "\n",
      "Average Metric: 0.00 / 1 (0.0%):  33%|███▎      | 1/3 [00:01<00:02,  1.08s/it]"
     ]
    },
    {
     "data": {
      "text/markdown": [
       "**Is match**: True"
      ],
      "text/plain": [
       "<IPython.core.display.Markdown object>"
      ]
     },
     "metadata": {},
     "output_type": "display_data"
    },
    {
     "name": "stdout",
     "output_type": "stream",
     "text": [
      "\n",
      "Average Metric: 1.00 / 2 (50.0%):  33%|███▎      | 1/3 [00:01<00:02,  1.08s/it]\n"
     ]
    },
    {
     "data": {
      "text/markdown": [
       "**expected**: Example({'number_guess': 'two', 'answer': 'two'}) (input_keys={'number_guess'})"
      ],
      "text/plain": [
       "<IPython.core.display.Markdown object>"
      ]
     },
     "metadata": {},
     "output_type": "display_data"
    },
    {
     "data": {
      "text/markdown": [
       "**actual**: Prediction(  \n",
       "    answer='two'  \n",
       ")"
      ],
      "text/plain": [
       "<IPython.core.display.Markdown object>"
      ]
     },
     "metadata": {},
     "output_type": "display_data"
    },
    {
     "data": {
      "text/markdown": [
       "**Is match**: True"
      ],
      "text/plain": [
       "<IPython.core.display.Markdown object>"
      ]
     },
     "metadata": {},
     "output_type": "display_data"
    },
    {
     "name": "stdout",
     "output_type": "stream",
     "text": [
      "\n",
      "Average Metric: 2.00 / 3 (66.7%): 100%|██████████| 3/3 [00:01<00:00,  2.71it/s]"
     ]
    },
    {
     "name": "stderr",
     "output_type": "stream",
     "text": [
      "2025/09/03 17:10:34 INFO dspy.evaluate.evaluate: Average Metric: 2 / 3 (66.7%)\n",
      "2025/09/03 17:10:34 INFO dspy.teleprompt.mipro_optimizer_v2: Score: 66.67 with parameters ['Predictor 0: Instruction 1', 'Predictor 0: Few-Shot Set 17'].\n",
      "2025/09/03 17:10:34 INFO dspy.teleprompt.mipro_optimizer_v2: Scores so far: [66.67, 66.67, 66.67, 66.67, 66.67, 66.67, 66.67, 66.67, 66.67, 66.67, 66.67, 66.67, 66.67, 66.67, 66.67, 66.67, 66.67]\n",
      "2025/09/03 17:10:34 INFO dspy.teleprompt.mipro_optimizer_v2: Best score so far: 66.67\n",
      "2025/09/03 17:10:34 INFO dspy.teleprompt.mipro_optimizer_v2: =========================\n",
      "\n",
      "\n",
      "2025/09/03 17:10:34 INFO dspy.teleprompt.mipro_optimizer_v2: ===== Trial 18 / 27 =====\n"
     ]
    },
    {
     "name": "stdout",
     "output_type": "stream",
     "text": [
      "\n",
      "  0%|          | 0/3 [00:00<?, ?it/s]\n"
     ]
    },
    {
     "data": {
      "text/markdown": [
       "**expected**: Example({'number_guess': 'one', 'answer': 'two'}) (input_keys={'number_guess'})"
      ],
      "text/plain": [
       "<IPython.core.display.Markdown object>"
      ]
     },
     "metadata": {},
     "output_type": "display_data"
    },
    {
     "data": {
      "text/markdown": [
       "**actual**: Prediction(  \n",
       "    answer='one'  \n",
       ")"
      ],
      "text/plain": [
       "<IPython.core.display.Markdown object>"
      ]
     },
     "metadata": {},
     "output_type": "display_data"
    },
    {
     "data": {
      "text/markdown": [
       "**Is match**: False"
      ],
      "text/plain": [
       "<IPython.core.display.Markdown object>"
      ]
     },
     "metadata": {},
     "output_type": "display_data"
    },
    {
     "name": "stdout",
     "output_type": "stream",
     "text": [
      "\n",
      "Average Metric: 0.00 / 1 (0.0%):  33%|███▎      | 1/3 [00:00<00:01,  1.52it/s]\n"
     ]
    },
    {
     "data": {
      "text/markdown": [
       "**expected**: Example({'number_guess': 'two', 'answer': 'one'}) (input_keys={'number_guess'})"
      ],
      "text/plain": [
       "<IPython.core.display.Markdown object>"
      ]
     },
     "metadata": {},
     "output_type": "display_data"
    },
    {
     "data": {
      "text/markdown": [
       "**actual**: Prediction(  \n",
       "    answer='two'  \n",
       ")"
      ],
      "text/plain": [
       "<IPython.core.display.Markdown object>"
      ]
     },
     "metadata": {},
     "output_type": "display_data"
    },
    {
     "data": {
      "text/markdown": [
       "**Is match**: True"
      ],
      "text/plain": [
       "<IPython.core.display.Markdown object>"
      ]
     },
     "metadata": {},
     "output_type": "display_data"
    },
    {
     "name": "stdout",
     "output_type": "stream",
     "text": [
      "\n",
      "Average Metric: 1.00 / 2 (50.0%):  67%|██████▋   | 2/3 [00:00<00:00,  3.01it/s]\n"
     ]
    },
    {
     "data": {
      "text/markdown": [
       "**expected**: Example({'number_guess': 'two', 'answer': 'two'}) (input_keys={'number_guess'})"
      ],
      "text/plain": [
       "<IPython.core.display.Markdown object>"
      ]
     },
     "metadata": {},
     "output_type": "display_data"
    },
    {
     "data": {
      "text/markdown": [
       "**actual**: Prediction(  \n",
       "    answer='two'  \n",
       ")"
      ],
      "text/plain": [
       "<IPython.core.display.Markdown object>"
      ]
     },
     "metadata": {},
     "output_type": "display_data"
    },
    {
     "data": {
      "text/markdown": [
       "**Is match**: True"
      ],
      "text/plain": [
       "<IPython.core.display.Markdown object>"
      ]
     },
     "metadata": {},
     "output_type": "display_data"
    },
    {
     "name": "stdout",
     "output_type": "stream",
     "text": [
      "\n",
      "Average Metric: 2.00 / 3 (66.7%): 100%|██████████| 3/3 [00:00<00:00,  3.53it/s]"
     ]
    },
    {
     "name": "stderr",
     "output_type": "stream",
     "text": [
      "2025/09/03 17:10:35 INFO dspy.evaluate.evaluate: Average Metric: 2 / 3 (66.7%)\n",
      "2025/09/03 17:10:35 INFO dspy.teleprompt.mipro_optimizer_v2: Score: 66.67 with parameters ['Predictor 0: Instruction 4', 'Predictor 0: Few-Shot Set 7'].\n",
      "2025/09/03 17:10:35 INFO dspy.teleprompt.mipro_optimizer_v2: Scores so far: [66.67, 66.67, 66.67, 66.67, 66.67, 66.67, 66.67, 66.67, 66.67, 66.67, 66.67, 66.67, 66.67, 66.67, 66.67, 66.67, 66.67, 66.67]\n"
     ]
    },
    {
     "name": "stdout",
     "output_type": "stream",
     "text": [
      "\n"
     ]
    },
    {
     "name": "stderr",
     "output_type": "stream",
     "text": [
      "2025/09/03 17:10:35 INFO dspy.teleprompt.mipro_optimizer_v2: Best score so far: 66.67\n",
      "2025/09/03 17:10:35 INFO dspy.teleprompt.mipro_optimizer_v2: =========================\n",
      "\n",
      "\n",
      "2025/09/03 17:10:35 INFO dspy.teleprompt.mipro_optimizer_v2: ===== Trial 19 / 27 =====\n"
     ]
    },
    {
     "name": "stdout",
     "output_type": "stream",
     "text": [
      "  0%|          | 0/3 [00:00<?, ?it/s]\n"
     ]
    },
    {
     "data": {
      "text/markdown": [
       "**expected**: Example({'number_guess': 'two', 'answer': 'two'}) (input_keys={'number_guess'})"
      ],
      "text/plain": [
       "<IPython.core.display.Markdown object>"
      ]
     },
     "metadata": {},
     "output_type": "display_data"
    },
    {
     "data": {
      "text/markdown": [
       "**actual**: Prediction(  \n",
       "    answer='two'  \n",
       ")"
      ],
      "text/plain": [
       "<IPython.core.display.Markdown object>"
      ]
     },
     "metadata": {},
     "output_type": "display_data"
    },
    {
     "data": {
      "text/markdown": [
       "**Is match**: True"
      ],
      "text/plain": [
       "<IPython.core.display.Markdown object>"
      ]
     },
     "metadata": {},
     "output_type": "display_data"
    },
    {
     "name": "stdout",
     "output_type": "stream",
     "text": [
      "\n",
      "Average Metric: 1.00 / 1 (100.0%):  33%|███▎      | 1/3 [00:00<00:01,  1.42it/s]\n"
     ]
    },
    {
     "data": {
      "text/markdown": [
       "**expected**: Example({'number_guess': 'two', 'answer': 'one'}) (input_keys={'number_guess'})"
      ],
      "text/plain": [
       "<IPython.core.display.Markdown object>"
      ]
     },
     "metadata": {},
     "output_type": "display_data"
    },
    {
     "data": {
      "text/markdown": [
       "**actual**: Prediction(  \n",
       "    answer='two'  \n",
       ")"
      ],
      "text/plain": [
       "<IPython.core.display.Markdown object>"
      ]
     },
     "metadata": {},
     "output_type": "display_data"
    },
    {
     "data": {
      "text/markdown": [
       "**Is match**: True"
      ],
      "text/plain": [
       "<IPython.core.display.Markdown object>"
      ]
     },
     "metadata": {},
     "output_type": "display_data"
    },
    {
     "name": "stdout",
     "output_type": "stream",
     "text": [
      "\n",
      "Average Metric: 2.00 / 2 (100.0%):  67%|██████▋   | 2/3 [00:00<00:00,  2.60it/s]\n"
     ]
    },
    {
     "data": {
      "text/markdown": [
       "**expected**: Example({'number_guess': 'one', 'answer': 'two'}) (input_keys={'number_guess'})"
      ],
      "text/plain": [
       "<IPython.core.display.Markdown object>"
      ]
     },
     "metadata": {},
     "output_type": "display_data"
    },
    {
     "data": {
      "text/markdown": [
       "**actual**: Prediction(  \n",
       "    answer='one'  \n",
       ")"
      ],
      "text/plain": [
       "<IPython.core.display.Markdown object>"
      ]
     },
     "metadata": {},
     "output_type": "display_data"
    },
    {
     "data": {
      "text/markdown": [
       "**Is match**: False"
      ],
      "text/plain": [
       "<IPython.core.display.Markdown object>"
      ]
     },
     "metadata": {},
     "output_type": "display_data"
    },
    {
     "name": "stdout",
     "output_type": "stream",
     "text": [
      "\n",
      "Average Metric: 2.00 / 3 (66.7%): 100%|██████████| 3/3 [00:01<00:00,  2.95it/s] "
     ]
    },
    {
     "name": "stderr",
     "output_type": "stream",
     "text": [
      "2025/09/03 17:10:36 INFO dspy.evaluate.evaluate: Average Metric: 2 / 3 (66.7%)\n",
      "2025/09/03 17:10:36 INFO dspy.teleprompt.mipro_optimizer_v2: Score: 66.67 with parameters ['Predictor 0: Instruction 2', 'Predictor 0: Few-Shot Set 5'].\n",
      "2025/09/03 17:10:36 INFO dspy.teleprompt.mipro_optimizer_v2: Scores so far: [66.67, 66.67, 66.67, 66.67, 66.67, 66.67, 66.67, 66.67, 66.67, 66.67, 66.67, 66.67, 66.67, 66.67, 66.67, 66.67, 66.67, 66.67, 66.67]\n",
      "2025/09/03 17:10:36 INFO dspy.teleprompt.mipro_optimizer_v2: Best score so far: 66.67\n",
      "2025/09/03 17:10:36 INFO dspy.teleprompt.mipro_optimizer_v2: =========================\n",
      "\n",
      "\n",
      "2025/09/03 17:10:36 INFO dspy.teleprompt.mipro_optimizer_v2: ===== Trial 20 / 27 =====\n"
     ]
    },
    {
     "name": "stdout",
     "output_type": "stream",
     "text": [
      "\n",
      "  0%|          | 0/3 [00:00<?, ?it/s]\n"
     ]
    },
    {
     "data": {
      "text/markdown": [
       "**expected**: Example({'number_guess': 'one', 'answer': 'two'}) (input_keys={'number_guess'})"
      ],
      "text/plain": [
       "<IPython.core.display.Markdown object>"
      ]
     },
     "metadata": {},
     "output_type": "display_data"
    },
    {
     "data": {
      "text/markdown": [
       "**actual**: Prediction(  \n",
       "    answer='one'  \n",
       ")"
      ],
      "text/plain": [
       "<IPython.core.display.Markdown object>"
      ]
     },
     "metadata": {},
     "output_type": "display_data"
    },
    {
     "data": {
      "text/markdown": [
       "**Is match**: False"
      ],
      "text/plain": [
       "<IPython.core.display.Markdown object>"
      ]
     },
     "metadata": {},
     "output_type": "display_data"
    },
    {
     "name": "stdout",
     "output_type": "stream",
     "text": [
      "\n",
      "Average Metric: 0.00 / 1 (0.0%):  33%|███▎      | 1/3 [00:00<00:01,  1.82it/s]\n"
     ]
    },
    {
     "data": {
      "text/markdown": [
       "**expected**: Example({'number_guess': 'two', 'answer': 'one'}) (input_keys={'number_guess'})"
      ],
      "text/plain": [
       "<IPython.core.display.Markdown object>"
      ]
     },
     "metadata": {},
     "output_type": "display_data"
    },
    {
     "data": {
      "text/markdown": [
       "**actual**: Prediction(  \n",
       "    answer='two'  \n",
       ")"
      ],
      "text/plain": [
       "<IPython.core.display.Markdown object>"
      ]
     },
     "metadata": {},
     "output_type": "display_data"
    },
    {
     "data": {
      "text/markdown": [
       "**Is match**: True"
      ],
      "text/plain": [
       "<IPython.core.display.Markdown object>"
      ]
     },
     "metadata": {},
     "output_type": "display_data"
    },
    {
     "name": "stdout",
     "output_type": "stream",
     "text": [
      "\n",
      "Average Metric: 1.00 / 2 (50.0%):  33%|███▎      | 1/3 [00:00<00:01,  1.82it/s]\n"
     ]
    },
    {
     "data": {
      "text/markdown": [
       "**expected**: Example({'number_guess': 'two', 'answer': 'two'}) (input_keys={'number_guess'})"
      ],
      "text/plain": [
       "<IPython.core.display.Markdown object>"
      ]
     },
     "metadata": {},
     "output_type": "display_data"
    },
    {
     "data": {
      "text/markdown": [
       "**actual**: Prediction(  \n",
       "    answer='two'  \n",
       ")"
      ],
      "text/plain": [
       "<IPython.core.display.Markdown object>"
      ]
     },
     "metadata": {},
     "output_type": "display_data"
    },
    {
     "data": {
      "text/markdown": [
       "**Is match**: True"
      ],
      "text/plain": [
       "<IPython.core.display.Markdown object>"
      ]
     },
     "metadata": {},
     "output_type": "display_data"
    },
    {
     "name": "stdout",
     "output_type": "stream",
     "text": [
      "\n",
      "Average Metric: 2.00 / 3 (66.7%): 100%|██████████| 3/3 [00:00<00:00,  3.37it/s]"
     ]
    },
    {
     "name": "stderr",
     "output_type": "stream",
     "text": [
      "2025/09/03 17:10:37 INFO dspy.evaluate.evaluate: Average Metric: 2 / 3 (66.7%)\n",
      "2025/09/03 17:10:37 INFO dspy.teleprompt.mipro_optimizer_v2: Score: 66.67 with parameters ['Predictor 0: Instruction 4', 'Predictor 0: Few-Shot Set 4'].\n",
      "2025/09/03 17:10:37 INFO dspy.teleprompt.mipro_optimizer_v2: Scores so far: [66.67, 66.67, 66.67, 66.67, 66.67, 66.67, 66.67, 66.67, 66.67, 66.67, 66.67, 66.67, 66.67, 66.67, 66.67, 66.67, 66.67, 66.67, 66.67, 66.67]\n",
      "2025/09/03 17:10:37 INFO dspy.teleprompt.mipro_optimizer_v2: Best score so far: 66.67\n",
      "2025/09/03 17:10:37 INFO dspy.teleprompt.mipro_optimizer_v2: =========================\n",
      "\n",
      "\n",
      "2025/09/03 17:10:37 INFO dspy.teleprompt.mipro_optimizer_v2: ===== Trial 21 / 27 =====\n"
     ]
    },
    {
     "name": "stdout",
     "output_type": "stream",
     "text": [
      "\n",
      "  0%|          | 0/3 [00:00<?, ?it/s]\n"
     ]
    },
    {
     "data": {
      "text/markdown": [
       "**expected**: Example({'number_guess': 'two', 'answer': 'two'}) (input_keys={'number_guess'})"
      ],
      "text/plain": [
       "<IPython.core.display.Markdown object>"
      ]
     },
     "metadata": {},
     "output_type": "display_data"
    },
    {
     "data": {
      "text/markdown": [
       "**actual**: Prediction(  \n",
       "    answer='two'  \n",
       ")"
      ],
      "text/plain": [
       "<IPython.core.display.Markdown object>"
      ]
     },
     "metadata": {},
     "output_type": "display_data"
    },
    {
     "data": {
      "text/markdown": [
       "**Is match**: True"
      ],
      "text/plain": [
       "<IPython.core.display.Markdown object>"
      ]
     },
     "metadata": {},
     "output_type": "display_data"
    },
    {
     "name": "stdout",
     "output_type": "stream",
     "text": [
      "\n",
      "\n",
      "Average Metric: 1.00 / 1 (100.0%):   0%|          | 0/3 [00:00<?, ?it/s]"
     ]
    },
    {
     "data": {
      "text/markdown": [
       "**expected**: Example({'number_guess': 'two', 'answer': 'one'}) (input_keys={'number_guess'})"
      ],
      "text/plain": [
       "<IPython.core.display.Markdown object>"
      ]
     },
     "metadata": {},
     "output_type": "display_data"
    },
    {
     "name": "stdout",
     "output_type": "stream",
     "text": [
      "Average Metric: 1.00 / 1 (100.0%):  33%|███▎      | 1/3 [00:00<00:01,  1.47it/s]"
     ]
    },
    {
     "data": {
      "text/markdown": [
       "**actual**: Prediction(  \n",
       "    answer='two'  \n",
       ")"
      ],
      "text/plain": [
       "<IPython.core.display.Markdown object>"
      ]
     },
     "metadata": {},
     "output_type": "display_data"
    },
    {
     "data": {
      "text/markdown": [
       "**Is match**: True"
      ],
      "text/plain": [
       "<IPython.core.display.Markdown object>"
      ]
     },
     "metadata": {},
     "output_type": "display_data"
    },
    {
     "name": "stdout",
     "output_type": "stream",
     "text": [
      "\n",
      "Average Metric: 2.00 / 2 (100.0%):  33%|███▎      | 1/3 [00:00<00:01,  1.47it/s]\n"
     ]
    },
    {
     "data": {
      "text/markdown": [
       "**expected**: Example({'number_guess': 'one', 'answer': 'two'}) (input_keys={'number_guess'})"
      ],
      "text/plain": [
       "<IPython.core.display.Markdown object>"
      ]
     },
     "metadata": {},
     "output_type": "display_data"
    },
    {
     "data": {
      "text/markdown": [
       "**actual**: Prediction(  \n",
       "    answer='one'  \n",
       ")"
      ],
      "text/plain": [
       "<IPython.core.display.Markdown object>"
      ]
     },
     "metadata": {},
     "output_type": "display_data"
    },
    {
     "data": {
      "text/markdown": [
       "**Is match**: False"
      ],
      "text/plain": [
       "<IPython.core.display.Markdown object>"
      ]
     },
     "metadata": {},
     "output_type": "display_data"
    },
    {
     "name": "stdout",
     "output_type": "stream",
     "text": [
      "\n",
      "Average Metric: 2.00 / 3 (66.7%): 100%|██████████| 3/3 [00:00<00:00,  4.06it/s] "
     ]
    },
    {
     "name": "stderr",
     "output_type": "stream",
     "text": [
      "2025/09/03 17:10:38 INFO dspy.evaluate.evaluate: Average Metric: 2 / 3 (66.7%)\n",
      "2025/09/03 17:10:38 INFO dspy.teleprompt.mipro_optimizer_v2: Score: 66.67 with parameters ['Predictor 0: Instruction 0', 'Predictor 0: Few-Shot Set 9'].\n",
      "2025/09/03 17:10:38 INFO dspy.teleprompt.mipro_optimizer_v2: Scores so far: [66.67, 66.67, 66.67, 66.67, 66.67, 66.67, 66.67, 66.67, 66.67, 66.67, 66.67, 66.67, 66.67, 66.67, 66.67, 66.67, 66.67, 66.67, 66.67, 66.67, 66.67]\n",
      "2025/09/03 17:10:38 INFO dspy.teleprompt.mipro_optimizer_v2: Best score so far: 66.67\n",
      "2025/09/03 17:10:38 INFO dspy.teleprompt.mipro_optimizer_v2: =========================\n",
      "\n",
      "\n",
      "2025/09/03 17:10:38 INFO dspy.teleprompt.mipro_optimizer_v2: ===== Trial 22 / 27 =====\n"
     ]
    },
    {
     "name": "stdout",
     "output_type": "stream",
     "text": [
      "\n",
      "  0%|          | 0/3 [00:00<?, ?it/s]\n"
     ]
    },
    {
     "data": {
      "text/markdown": [
       "**expected**: Example({'number_guess': 'two', 'answer': 'one'}) (input_keys={'number_guess'})"
      ],
      "text/plain": [
       "<IPython.core.display.Markdown object>"
      ]
     },
     "metadata": {},
     "output_type": "display_data"
    },
    {
     "data": {
      "text/markdown": [
       "**actual**: Prediction(  \n",
       "    answer='two'  \n",
       ")"
      ],
      "text/plain": [
       "<IPython.core.display.Markdown object>"
      ]
     },
     "metadata": {},
     "output_type": "display_data"
    },
    {
     "data": {
      "text/markdown": [
       "**Is match**: True"
      ],
      "text/plain": [
       "<IPython.core.display.Markdown object>"
      ]
     },
     "metadata": {},
     "output_type": "display_data"
    },
    {
     "name": "stdout",
     "output_type": "stream",
     "text": [
      "\n",
      "Average Metric: 1.00 / 1 (100.0%):  33%|███▎      | 1/3 [00:00<00:01,  1.49it/s]\n"
     ]
    },
    {
     "data": {
      "text/markdown": [
       "**expected**: Example({'number_guess': 'two', 'answer': 'two'}) (input_keys={'number_guess'})"
      ],
      "text/plain": [
       "<IPython.core.display.Markdown object>"
      ]
     },
     "metadata": {},
     "output_type": "display_data"
    },
    {
     "data": {
      "text/markdown": [
       "**actual**: Prediction(  \n",
       "    answer='two'  \n",
       ")"
      ],
      "text/plain": [
       "<IPython.core.display.Markdown object>"
      ]
     },
     "metadata": {},
     "output_type": "display_data"
    },
    {
     "data": {
      "text/markdown": [
       "**Is match**: True"
      ],
      "text/plain": [
       "<IPython.core.display.Markdown object>"
      ]
     },
     "metadata": {},
     "output_type": "display_data"
    },
    {
     "name": "stdout",
     "output_type": "stream",
     "text": [
      "\n",
      "Average Metric: 2.00 / 2 (100.0%):  67%|██████▋   | 2/3 [00:00<00:00,  2.80it/s]\n"
     ]
    },
    {
     "data": {
      "text/markdown": [
       "**expected**: Example({'number_guess': 'one', 'answer': 'two'}) (input_keys={'number_guess'})"
      ],
      "text/plain": [
       "<IPython.core.display.Markdown object>"
      ]
     },
     "metadata": {},
     "output_type": "display_data"
    },
    {
     "data": {
      "text/markdown": [
       "**actual**: Prediction(  \n",
       "    answer='one'  \n",
       ")"
      ],
      "text/plain": [
       "<IPython.core.display.Markdown object>"
      ]
     },
     "metadata": {},
     "output_type": "display_data"
    },
    {
     "data": {
      "text/markdown": [
       "**Is match**: False"
      ],
      "text/plain": [
       "<IPython.core.display.Markdown object>"
      ]
     },
     "metadata": {},
     "output_type": "display_data"
    },
    {
     "name": "stdout",
     "output_type": "stream",
     "text": [
      "\n",
      "Average Metric: 2.00 / 3 (66.7%): 100%|██████████| 3/3 [00:01<00:00,  2.98it/s] "
     ]
    },
    {
     "name": "stderr",
     "output_type": "stream",
     "text": [
      "2025/09/03 17:10:39 INFO dspy.evaluate.evaluate: Average Metric: 2 / 3 (66.7%)\n",
      "2025/09/03 17:10:39 INFO dspy.teleprompt.mipro_optimizer_v2: Score: 66.67 with parameters ['Predictor 0: Instruction 5', 'Predictor 0: Few-Shot Set 3'].\n"
     ]
    },
    {
     "name": "stdout",
     "output_type": "stream",
     "text": [
      "\n"
     ]
    },
    {
     "name": "stderr",
     "output_type": "stream",
     "text": [
      "2025/09/03 17:10:39 INFO dspy.teleprompt.mipro_optimizer_v2: Scores so far: [66.67, 66.67, 66.67, 66.67, 66.67, 66.67, 66.67, 66.67, 66.67, 66.67, 66.67, 66.67, 66.67, 66.67, 66.67, 66.67, 66.67, 66.67, 66.67, 66.67, 66.67, 66.67]\n",
      "2025/09/03 17:10:39 INFO dspy.teleprompt.mipro_optimizer_v2: Best score so far: 66.67\n",
      "2025/09/03 17:10:39 INFO dspy.teleprompt.mipro_optimizer_v2: =========================\n",
      "\n",
      "\n",
      "2025/09/03 17:10:39 INFO dspy.teleprompt.mipro_optimizer_v2: ===== Trial 23 / 27 =====\n"
     ]
    },
    {
     "name": "stdout",
     "output_type": "stream",
     "text": [
      "  0%|          | 0/3 [00:00<?, ?it/s]\n"
     ]
    },
    {
     "data": {
      "text/markdown": [
       "**expected**: Example({'number_guess': 'one', 'answer': 'two'}) (input_keys={'number_guess'})"
      ],
      "text/plain": [
       "<IPython.core.display.Markdown object>"
      ]
     },
     "metadata": {},
     "output_type": "display_data"
    },
    {
     "data": {
      "text/markdown": [
       "**actual**: Prediction(  \n",
       "    answer='one'  \n",
       ")"
      ],
      "text/plain": [
       "<IPython.core.display.Markdown object>"
      ]
     },
     "metadata": {},
     "output_type": "display_data"
    },
    {
     "data": {
      "text/markdown": [
       "**Is match**: False"
      ],
      "text/plain": [
       "<IPython.core.display.Markdown object>"
      ]
     },
     "metadata": {},
     "output_type": "display_data"
    },
    {
     "name": "stdout",
     "output_type": "stream",
     "text": [
      "\n",
      "Average Metric: 0.00 / 1 (0.0%):  33%|███▎      | 1/3 [00:00<00:01,  1.61it/s]\n"
     ]
    },
    {
     "data": {
      "text/markdown": [
       "**expected**: Example({'number_guess': 'two', 'answer': 'one'}) (input_keys={'number_guess'})"
      ],
      "text/plain": [
       "<IPython.core.display.Markdown object>"
      ]
     },
     "metadata": {},
     "output_type": "display_data"
    },
    {
     "data": {
      "text/markdown": [
       "**actual**: Prediction(  \n",
       "    answer='two'  \n",
       ")"
      ],
      "text/plain": [
       "<IPython.core.display.Markdown object>"
      ]
     },
     "metadata": {},
     "output_type": "display_data"
    },
    {
     "data": {
      "text/markdown": [
       "**Is match**: True"
      ],
      "text/plain": [
       "<IPython.core.display.Markdown object>"
      ]
     },
     "metadata": {},
     "output_type": "display_data"
    },
    {
     "name": "stdout",
     "output_type": "stream",
     "text": [
      "\n",
      "Average Metric: 1.00 / 2 (50.0%):  33%|███▎      | 1/3 [00:00<00:01,  1.61it/s]\n"
     ]
    },
    {
     "data": {
      "text/markdown": [
       "**expected**: Example({'number_guess': 'two', 'answer': 'two'}) (input_keys={'number_guess'})"
      ],
      "text/plain": [
       "<IPython.core.display.Markdown object>"
      ]
     },
     "metadata": {},
     "output_type": "display_data"
    },
    {
     "data": {
      "text/markdown": [
       "**actual**: Prediction(  \n",
       "    answer='two'  \n",
       ")"
      ],
      "text/plain": [
       "<IPython.core.display.Markdown object>"
      ]
     },
     "metadata": {},
     "output_type": "display_data"
    },
    {
     "data": {
      "text/markdown": [
       "**Is match**: True"
      ],
      "text/plain": [
       "<IPython.core.display.Markdown object>"
      ]
     },
     "metadata": {},
     "output_type": "display_data"
    },
    {
     "name": "stdout",
     "output_type": "stream",
     "text": [
      "\n",
      "Average Metric: 2.00 / 3 (66.7%): 100%|██████████| 3/3 [00:01<00:00,  1.65it/s]"
     ]
    },
    {
     "name": "stderr",
     "output_type": "stream",
     "text": [
      "2025/09/03 17:10:41 INFO dspy.evaluate.evaluate: Average Metric: 2 / 3 (66.7%)\n",
      "2025/09/03 17:10:41 INFO dspy.teleprompt.mipro_optimizer_v2: Score: 66.67 with parameters ['Predictor 0: Instruction 1', 'Predictor 0: Few-Shot Set 11'].\n",
      "2025/09/03 17:10:41 INFO dspy.teleprompt.mipro_optimizer_v2: Scores so far: [66.67, 66.67, 66.67, 66.67, 66.67, 66.67, 66.67, 66.67, 66.67, 66.67, 66.67, 66.67, 66.67, 66.67, 66.67, 66.67, 66.67, 66.67, 66.67, 66.67, 66.67, 66.67, 66.67]\n",
      "2025/09/03 17:10:41 INFO dspy.teleprompt.mipro_optimizer_v2: Best score so far: 66.67\n",
      "2025/09/03 17:10:41 INFO dspy.teleprompt.mipro_optimizer_v2: =========================\n",
      "\n",
      "\n",
      "2025/09/03 17:10:41 INFO dspy.teleprompt.mipro_optimizer_v2: ===== Trial 24 / 27 =====\n"
     ]
    },
    {
     "name": "stdout",
     "output_type": "stream",
     "text": [
      "\n",
      "  0%|          | 0/3 [00:00<?, ?it/s]\n"
     ]
    },
    {
     "data": {
      "text/markdown": [
       "**expected**: Example({'number_guess': 'two', 'answer': 'one'}) (input_keys={'number_guess'})"
      ],
      "text/plain": [
       "<IPython.core.display.Markdown object>"
      ]
     },
     "metadata": {},
     "output_type": "display_data"
    },
    {
     "data": {
      "text/markdown": [
       "**actual**: Prediction(  \n",
       "    answer='two'  \n",
       ")"
      ],
      "text/plain": [
       "<IPython.core.display.Markdown object>"
      ]
     },
     "metadata": {},
     "output_type": "display_data"
    },
    {
     "data": {
      "text/markdown": [
       "**Is match**: True"
      ],
      "text/plain": [
       "<IPython.core.display.Markdown object>"
      ]
     },
     "metadata": {},
     "output_type": "display_data"
    },
    {
     "name": "stdout",
     "output_type": "stream",
     "text": [
      "\n",
      "Average Metric: 1.00 / 1 (100.0%):  33%|███▎      | 1/3 [00:00<00:01,  1.34it/s]\n"
     ]
    },
    {
     "data": {
      "text/markdown": [
       "**expected**: Example({'number_guess': 'two', 'answer': 'two'}) (input_keys={'number_guess'})"
      ],
      "text/plain": [
       "<IPython.core.display.Markdown object>"
      ]
     },
     "metadata": {},
     "output_type": "display_data"
    },
    {
     "data": {
      "text/markdown": [
       "**actual**: Prediction(  \n",
       "    answer='two'  \n",
       ")"
      ],
      "text/plain": [
       "<IPython.core.display.Markdown object>"
      ]
     },
     "metadata": {},
     "output_type": "display_data"
    },
    {
     "data": {
      "text/markdown": [
       "**Is match**: True"
      ],
      "text/plain": [
       "<IPython.core.display.Markdown object>"
      ]
     },
     "metadata": {},
     "output_type": "display_data"
    },
    {
     "name": "stdout",
     "output_type": "stream",
     "text": [
      "\n",
      "Average Metric: 2.00 / 2 (100.0%):  33%|███▎      | 1/3 [00:00<00:01,  1.34it/s]\n"
     ]
    },
    {
     "data": {
      "text/markdown": [
       "**expected**: Example({'number_guess': 'one', 'answer': 'two'}) (input_keys={'number_guess'})"
      ],
      "text/plain": [
       "<IPython.core.display.Markdown object>"
      ]
     },
     "metadata": {},
     "output_type": "display_data"
    },
    {
     "data": {
      "text/markdown": [
       "**actual**: Prediction(  \n",
       "    answer='one'  \n",
       ")"
      ],
      "text/plain": [
       "<IPython.core.display.Markdown object>"
      ]
     },
     "metadata": {},
     "output_type": "display_data"
    },
    {
     "data": {
      "text/markdown": [
       "**Is match**: False"
      ],
      "text/plain": [
       "<IPython.core.display.Markdown object>"
      ]
     },
     "metadata": {},
     "output_type": "display_data"
    },
    {
     "name": "stdout",
     "output_type": "stream",
     "text": [
      "\n",
      "Average Metric: 2.00 / 3 (66.7%): 100%|██████████| 3/3 [00:01<00:00,  2.20it/s] "
     ]
    },
    {
     "name": "stderr",
     "output_type": "stream",
     "text": [
      "2025/09/03 17:10:42 INFO dspy.evaluate.evaluate: Average Metric: 2 / 3 (66.7%)\n",
      "2025/09/03 17:10:42 INFO dspy.teleprompt.mipro_optimizer_v2: Score: 66.67 with parameters ['Predictor 0: Instruction 5', 'Predictor 0: Few-Shot Set 2'].\n",
      "2025/09/03 17:10:42 INFO dspy.teleprompt.mipro_optimizer_v2: Scores so far: [66.67, 66.67, 66.67, 66.67, 66.67, 66.67, 66.67, 66.67, 66.67, 66.67, 66.67, 66.67, 66.67, 66.67, 66.67, 66.67, 66.67, 66.67, 66.67, 66.67, 66.67, 66.67, 66.67, 66.67]\n",
      "2025/09/03 17:10:42 INFO dspy.teleprompt.mipro_optimizer_v2: Best score so far: 66.67\n",
      "2025/09/03 17:10:42 INFO dspy.teleprompt.mipro_optimizer_v2: =========================\n",
      "\n",
      "\n",
      "2025/09/03 17:10:43 INFO dspy.teleprompt.mipro_optimizer_v2: ===== Trial 25 / 27 =====\n"
     ]
    },
    {
     "name": "stdout",
     "output_type": "stream",
     "text": [
      "\n",
      "  0%|          | 0/3 [00:00<?, ?it/s]\n"
     ]
    },
    {
     "data": {
      "text/markdown": [
       "**expected**: Example({'number_guess': 'one', 'answer': 'two'}) (input_keys={'number_guess'})"
      ],
      "text/plain": [
       "<IPython.core.display.Markdown object>"
      ]
     },
     "metadata": {},
     "output_type": "display_data"
    },
    {
     "data": {
      "text/markdown": [
       "**actual**: Prediction(  \n",
       "    answer='one'  \n",
       ")"
      ],
      "text/plain": [
       "<IPython.core.display.Markdown object>"
      ]
     },
     "metadata": {},
     "output_type": "display_data"
    },
    {
     "data": {
      "text/markdown": [
       "**Is match**: False"
      ],
      "text/plain": [
       "<IPython.core.display.Markdown object>"
      ]
     },
     "metadata": {},
     "output_type": "display_data"
    },
    {
     "name": "stdout",
     "output_type": "stream",
     "text": [
      "\n",
      "Average Metric: 0.00 / 1 (0.0%):  33%|███▎      | 1/3 [00:00<00:01,  1.62it/s]\n"
     ]
    },
    {
     "data": {
      "text/markdown": [
       "**expected**: Example({'number_guess': 'two', 'answer': 'two'}) (input_keys={'number_guess'})"
      ],
      "text/plain": [
       "<IPython.core.display.Markdown object>"
      ]
     },
     "metadata": {},
     "output_type": "display_data"
    },
    {
     "data": {
      "text/markdown": [
       "**actual**: Prediction(  \n",
       "    answer='two'  \n",
       ")"
      ],
      "text/plain": [
       "<IPython.core.display.Markdown object>"
      ]
     },
     "metadata": {},
     "output_type": "display_data"
    },
    {
     "data": {
      "text/markdown": [
       "**Is match**: True"
      ],
      "text/plain": [
       "<IPython.core.display.Markdown object>"
      ]
     },
     "metadata": {},
     "output_type": "display_data"
    },
    {
     "name": "stdout",
     "output_type": "stream",
     "text": [
      "\n",
      "Average Metric: 1.00 / 2 (50.0%):  33%|███▎      | 1/3 [00:00<00:01,  1.62it/s]\n"
     ]
    },
    {
     "data": {
      "text/markdown": [
       "**expected**: Example({'number_guess': 'two', 'answer': 'one'}) (input_keys={'number_guess'})"
      ],
      "text/plain": [
       "<IPython.core.display.Markdown object>"
      ]
     },
     "metadata": {},
     "output_type": "display_data"
    },
    {
     "data": {
      "text/markdown": [
       "**actual**: Prediction(  \n",
       "    answer='two'  \n",
       ")"
      ],
      "text/plain": [
       "<IPython.core.display.Markdown object>"
      ]
     },
     "metadata": {},
     "output_type": "display_data"
    },
    {
     "data": {
      "text/markdown": [
       "**Is match**: True"
      ],
      "text/plain": [
       "<IPython.core.display.Markdown object>"
      ]
     },
     "metadata": {},
     "output_type": "display_data"
    },
    {
     "name": "stdout",
     "output_type": "stream",
     "text": [
      "\n",
      "Average Metric: 2.00 / 3 (66.7%): 100%|██████████| 3/3 [00:00<00:00,  3.42it/s]"
     ]
    },
    {
     "name": "stderr",
     "output_type": "stream",
     "text": [
      "2025/09/03 17:10:43 INFO dspy.evaluate.evaluate: Average Metric: 2 / 3 (66.7%)\n"
     ]
    },
    {
     "name": "stdout",
     "output_type": "stream",
     "text": [
      "\n"
     ]
    },
    {
     "name": "stderr",
     "output_type": "stream",
     "text": [
      "2025/09/03 17:10:43 INFO dspy.teleprompt.mipro_optimizer_v2: Score: 66.67 with parameters ['Predictor 0: Instruction 0', 'Predictor 0: Few-Shot Set 0'].\n",
      "2025/09/03 17:10:43 INFO dspy.teleprompt.mipro_optimizer_v2: Scores so far: [66.67, 66.67, 66.67, 66.67, 66.67, 66.67, 66.67, 66.67, 66.67, 66.67, 66.67, 66.67, 66.67, 66.67, 66.67, 66.67, 66.67, 66.67, 66.67, 66.67, 66.67, 66.67, 66.67, 66.67, 66.67]\n",
      "2025/09/03 17:10:43 INFO dspy.teleprompt.mipro_optimizer_v2: Best score so far: 66.67\n",
      "2025/09/03 17:10:43 INFO dspy.teleprompt.mipro_optimizer_v2: =========================\n",
      "\n",
      "\n",
      "2025/09/03 17:10:43 INFO dspy.teleprompt.mipro_optimizer_v2: ===== Trial 26 / 27 =====\n"
     ]
    },
    {
     "name": "stdout",
     "output_type": "stream",
     "text": [
      "  0%|          | 0/3 [00:00<?, ?it/s]\n"
     ]
    },
    {
     "data": {
      "text/markdown": [
       "**expected**: Example({'number_guess': 'one', 'answer': 'two'}) (input_keys={'number_guess'})"
      ],
      "text/plain": [
       "<IPython.core.display.Markdown object>"
      ]
     },
     "metadata": {},
     "output_type": "display_data"
    },
    {
     "data": {
      "text/markdown": [
       "**actual**: Prediction(  \n",
       "    answer='one'  \n",
       ")"
      ],
      "text/plain": [
       "<IPython.core.display.Markdown object>"
      ]
     },
     "metadata": {},
     "output_type": "display_data"
    },
    {
     "data": {
      "text/markdown": [
       "**Is match**: False"
      ],
      "text/plain": [
       "<IPython.core.display.Markdown object>"
      ]
     },
     "metadata": {},
     "output_type": "display_data"
    },
    {
     "name": "stdout",
     "output_type": "stream",
     "text": [
      "\n",
      "Average Metric: 0.00 / 1 (0.0%):   0%|          | 0/3 [00:00<?, ?it/s]\n",
      "Average Metric: 0.00 / 1 (0.0%):  33%|███▎      | 1/3 [00:00<00:01,  1.40it/s]"
     ]
    },
    {
     "data": {
      "text/markdown": [
       "**expected**: Example({'number_guess': 'two', 'answer': 'two'}) (input_keys={'number_guess'})"
      ],
      "text/plain": [
       "<IPython.core.display.Markdown object>"
      ]
     },
     "metadata": {},
     "output_type": "display_data"
    },
    {
     "data": {
      "text/markdown": [
       "**actual**: Prediction(  \n",
       "    answer='two'  \n",
       ")"
      ],
      "text/plain": [
       "<IPython.core.display.Markdown object>"
      ]
     },
     "metadata": {},
     "output_type": "display_data"
    },
    {
     "data": {
      "text/markdown": [
       "**Is match**: True"
      ],
      "text/plain": [
       "<IPython.core.display.Markdown object>"
      ]
     },
     "metadata": {},
     "output_type": "display_data"
    },
    {
     "name": "stdout",
     "output_type": "stream",
     "text": [
      "\n",
      "Average Metric: 1.00 / 2 (50.0%):  33%|███▎      | 1/3 [00:00<00:01,  1.40it/s]\n"
     ]
    },
    {
     "data": {
      "text/markdown": [
       "**expected**: Example({'number_guess': 'two', 'answer': 'one'}) (input_keys={'number_guess'})"
      ],
      "text/plain": [
       "<IPython.core.display.Markdown object>"
      ]
     },
     "metadata": {},
     "output_type": "display_data"
    },
    {
     "data": {
      "text/markdown": [
       "**actual**: Prediction(  \n",
       "    answer='two'  \n",
       ")"
      ],
      "text/plain": [
       "<IPython.core.display.Markdown object>"
      ]
     },
     "metadata": {},
     "output_type": "display_data"
    },
    {
     "data": {
      "text/markdown": [
       "**Is match**: True"
      ],
      "text/plain": [
       "<IPython.core.display.Markdown object>"
      ]
     },
     "metadata": {},
     "output_type": "display_data"
    },
    {
     "name": "stdout",
     "output_type": "stream",
     "text": [
      "\n",
      "Average Metric: 2.00 / 3 (66.7%): 100%|██████████| 3/3 [00:00<00:00,  3.90it/s]"
     ]
    },
    {
     "name": "stderr",
     "output_type": "stream",
     "text": [
      "2025/09/03 17:10:44 INFO dspy.evaluate.evaluate: Average Metric: 2 / 3 (66.7%)\n",
      "2025/09/03 17:10:44 INFO dspy.teleprompt.mipro_optimizer_v2: Score: 66.67 with parameters ['Predictor 0: Instruction 5', 'Predictor 0: Few-Shot Set 6'].\n",
      "2025/09/03 17:10:44 INFO dspy.teleprompt.mipro_optimizer_v2: Scores so far: [66.67, 66.67, 66.67, 66.67, 66.67, 66.67, 66.67, 66.67, 66.67, 66.67, 66.67, 66.67, 66.67, 66.67, 66.67, 66.67, 66.67, 66.67, 66.67, 66.67, 66.67, 66.67, 66.67, 66.67, 66.67, 66.67]\n",
      "2025/09/03 17:10:44 INFO dspy.teleprompt.mipro_optimizer_v2: Best score so far: 66.67\n",
      "2025/09/03 17:10:44 INFO dspy.teleprompt.mipro_optimizer_v2: =========================\n",
      "\n",
      "\n",
      "2025/09/03 17:10:44 INFO dspy.teleprompt.mipro_optimizer_v2: ===== Trial 27 / 27 =====\n"
     ]
    },
    {
     "name": "stdout",
     "output_type": "stream",
     "text": [
      "\n",
      "  0%|          | 0/3 [00:00<?, ?it/s]\n"
     ]
    },
    {
     "data": {
      "text/markdown": [
       "**expected**: Example({'number_guess': 'two', 'answer': 'two'}) (input_keys={'number_guess'})"
      ],
      "text/plain": [
       "<IPython.core.display.Markdown object>"
      ]
     },
     "metadata": {},
     "output_type": "display_data"
    },
    {
     "data": {
      "text/markdown": [
       "**actual**: Prediction(  \n",
       "    answer='two'  \n",
       ")"
      ],
      "text/plain": [
       "<IPython.core.display.Markdown object>"
      ]
     },
     "metadata": {},
     "output_type": "display_data"
    },
    {
     "data": {
      "text/markdown": [
       "**Is match**: True"
      ],
      "text/plain": [
       "<IPython.core.display.Markdown object>"
      ]
     },
     "metadata": {},
     "output_type": "display_data"
    },
    {
     "name": "stdout",
     "output_type": "stream",
     "text": [
      "\n",
      "Average Metric: 1.00 / 1 (100.0%):  33%|███▎      | 1/3 [00:00<00:01,  1.75it/s]\n"
     ]
    },
    {
     "data": {
      "text/markdown": [
       "**expected**: Example({'number_guess': 'one', 'answer': 'two'}) (input_keys={'number_guess'})"
      ],
      "text/plain": [
       "<IPython.core.display.Markdown object>"
      ]
     },
     "metadata": {},
     "output_type": "display_data"
    },
    {
     "data": {
      "text/markdown": [
       "**actual**: Prediction(  \n",
       "    answer='one'  \n",
       ")"
      ],
      "text/plain": [
       "<IPython.core.display.Markdown object>"
      ]
     },
     "metadata": {},
     "output_type": "display_data"
    },
    {
     "data": {
      "text/markdown": [
       "**Is match**: False"
      ],
      "text/plain": [
       "<IPython.core.display.Markdown object>"
      ]
     },
     "metadata": {},
     "output_type": "display_data"
    },
    {
     "name": "stdout",
     "output_type": "stream",
     "text": [
      "\n",
      "Average Metric: 1.00 / 2 (50.0%):  67%|██████▋   | 2/3 [00:00<00:00,  3.31it/s] \n"
     ]
    },
    {
     "data": {
      "text/markdown": [
       "**expected**: Example({'number_guess': 'two', 'answer': 'one'}) (input_keys={'number_guess'})"
      ],
      "text/plain": [
       "<IPython.core.display.Markdown object>"
      ]
     },
     "metadata": {},
     "output_type": "display_data"
    },
    {
     "data": {
      "text/markdown": [
       "**actual**: Prediction(  \n",
       "    answer='two'  \n",
       ")"
      ],
      "text/plain": [
       "<IPython.core.display.Markdown object>"
      ]
     },
     "metadata": {},
     "output_type": "display_data"
    },
    {
     "data": {
      "text/markdown": [
       "**Is match**: True"
      ],
      "text/plain": [
       "<IPython.core.display.Markdown object>"
      ]
     },
     "metadata": {},
     "output_type": "display_data"
    },
    {
     "name": "stdout",
     "output_type": "stream",
     "text": [
      "\n",
      "Average Metric: 2.00 / 3 (66.7%): 100%|██████████| 3/3 [00:00<00:00,  4.14it/s]"
     ]
    },
    {
     "name": "stderr",
     "output_type": "stream",
     "text": [
      "2025/09/03 17:10:45 INFO dspy.evaluate.evaluate: Average Metric: 2 / 3 (66.7%)\n",
      "2025/09/03 17:10:45 INFO dspy.teleprompt.mipro_optimizer_v2: Score: 66.67 with parameters ['Predictor 0: Instruction 3', 'Predictor 0: Few-Shot Set 17'].\n",
      "2025/09/03 17:10:45 INFO dspy.teleprompt.mipro_optimizer_v2: Scores so far: [66.67, 66.67, 66.67, 66.67, 66.67, 66.67, 66.67, 66.67, 66.67, 66.67, 66.67, 66.67, 66.67, 66.67, 66.67, 66.67, 66.67, 66.67, 66.67, 66.67, 66.67, 66.67, 66.67, 66.67, 66.67, 66.67, 66.67]\n",
      "2025/09/03 17:10:45 INFO dspy.teleprompt.mipro_optimizer_v2: Best score so far: 66.67\n",
      "2025/09/03 17:10:45 INFO dspy.teleprompt.mipro_optimizer_v2: =========================\n",
      "\n",
      "\n",
      "2025/09/03 17:10:45 INFO dspy.teleprompt.mipro_optimizer_v2: ===== Trial 28 / 27 =====\n"
     ]
    },
    {
     "name": "stdout",
     "output_type": "stream",
     "text": [
      "\n",
      "  0%|          | 0/3 [00:00<?, ?it/s]\n"
     ]
    },
    {
     "data": {
      "text/markdown": [
       "**expected**: Example({'number_guess': 'one', 'answer': 'two'}) (input_keys={'number_guess'})"
      ],
      "text/plain": [
       "<IPython.core.display.Markdown object>"
      ]
     },
     "metadata": {},
     "output_type": "display_data"
    },
    {
     "data": {
      "text/markdown": [
       "**actual**: Prediction(  \n",
       "    answer='one'  \n",
       ")"
      ],
      "text/plain": [
       "<IPython.core.display.Markdown object>"
      ]
     },
     "metadata": {},
     "output_type": "display_data"
    },
    {
     "data": {
      "text/markdown": [
       "**Is match**: False"
      ],
      "text/plain": [
       "<IPython.core.display.Markdown object>"
      ]
     },
     "metadata": {},
     "output_type": "display_data"
    },
    {
     "name": "stdout",
     "output_type": "stream",
     "text": [
      "\n",
      "Average Metric: 0.00 / 1 (0.0%):  33%|███▎      | 1/3 [00:00<00:01,  1.40it/s]\n"
     ]
    },
    {
     "data": {
      "text/markdown": [
       "**expected**: Example({'number_guess': 'two', 'answer': 'two'}) (input_keys={'number_guess'})"
      ],
      "text/plain": [
       "<IPython.core.display.Markdown object>"
      ]
     },
     "metadata": {},
     "output_type": "display_data"
    },
    {
     "data": {
      "text/markdown": [
       "**actual**: Prediction(  \n",
       "    answer='two'  \n",
       ")"
      ],
      "text/plain": [
       "<IPython.core.display.Markdown object>"
      ]
     },
     "metadata": {},
     "output_type": "display_data"
    },
    {
     "data": {
      "text/markdown": [
       "**Is match**: True"
      ],
      "text/plain": [
       "<IPython.core.display.Markdown object>"
      ]
     },
     "metadata": {},
     "output_type": "display_data"
    },
    {
     "name": "stdout",
     "output_type": "stream",
     "text": [
      "\n",
      "Average Metric: 1.00 / 2 (50.0%):  33%|███▎      | 1/3 [00:00<00:01,  1.40it/s]\n"
     ]
    },
    {
     "data": {
      "text/markdown": [
       "**expected**: Example({'number_guess': 'two', 'answer': 'one'}) (input_keys={'number_guess'})"
      ],
      "text/plain": [
       "<IPython.core.display.Markdown object>"
      ]
     },
     "metadata": {},
     "output_type": "display_data"
    },
    {
     "data": {
      "text/markdown": [
       "**actual**: Prediction(  \n",
       "    answer='two'  \n",
       ")"
      ],
      "text/plain": [
       "<IPython.core.display.Markdown object>"
      ]
     },
     "metadata": {},
     "output_type": "display_data"
    },
    {
     "data": {
      "text/markdown": [
       "**Is match**: True"
      ],
      "text/plain": [
       "<IPython.core.display.Markdown object>"
      ]
     },
     "metadata": {},
     "output_type": "display_data"
    },
    {
     "name": "stdout",
     "output_type": "stream",
     "text": [
      "\n",
      "Average Metric: 2.00 / 3 (66.7%): 100%|██████████| 3/3 [00:00<00:00,  3.68it/s]"
     ]
    },
    {
     "name": "stderr",
     "output_type": "stream",
     "text": [
      "2025/09/03 17:10:46 INFO dspy.evaluate.evaluate: Average Metric: 2 / 3 (66.7%)\n",
      "2025/09/03 17:10:46 INFO dspy.teleprompt.mipro_optimizer_v2: Score: 66.67 with parameters ['Predictor 0: Instruction 1', 'Predictor 0: Few-Shot Set 14'].\n",
      "2025/09/03 17:10:46 INFO dspy.teleprompt.mipro_optimizer_v2: Scores so far: [66.67, 66.67, 66.67, 66.67, 66.67, 66.67, 66.67, 66.67, 66.67, 66.67, 66.67, 66.67, 66.67, 66.67, 66.67, 66.67, 66.67, 66.67, 66.67, 66.67, 66.67, 66.67, 66.67, 66.67, 66.67, 66.67, 66.67, 66.67]\n",
      "2025/09/03 17:10:46 INFO dspy.teleprompt.mipro_optimizer_v2: Best score so far: 66.67\n",
      "2025/09/03 17:10:46 INFO dspy.teleprompt.mipro_optimizer_v2: =========================\n",
      "\n",
      "\n",
      "2025/09/03 17:10:46 INFO dspy.teleprompt.mipro_optimizer_v2: Returning best identified program with score 66.67!\n"
     ]
    },
    {
     "name": "stdout",
     "output_type": "stream",
     "text": [
      "\n"
     ]
    }
   ],
   "source": [
    "def validate_match(expected, actual, trace=None) -> bool:\n",
    "    print()\n",
    "    md(\"**expected**: \", expected)\n",
    "    print(\"**actual**: \", actual)\n",
    "    md(\"**Is match**: \", actual.answer == \"two\")\n",
    "    print()\n",
    "    return (actual.answer == \"two\")\n",
    "\n",
    "from dspy.teleprompt import *\n",
    "\n",
    "tp = dspy.MIPROv2(metric=validate_match, auto=\"heavy\", prompt_model=lm_gpt35, task_model=lm_gpt4)\n",
    "optimized_matcher = tp.compile(numberPickerPredict, trainset=trainset, requires_permission_to_run=False)"
   ]
  },
  {
   "cell_type": "code",
   "execution_count": null,
   "id": "03767920",
   "metadata": {},
   "outputs": [],
   "source": [
    "###########################################################################################"
   ]
  },
  {
   "cell_type": "code",
   "execution_count": null,
   "id": "2576b6f8",
   "metadata": {},
   "outputs": [],
   "source": [
    "optimized_matcher.save(\"./saved_files/\", save_program=True)"
   ]
  },
  {
   "cell_type": "code",
   "execution_count": null,
   "id": "aa9677c8",
   "metadata": {},
   "outputs": [
    {
     "name": "stdout",
     "output_type": "stream",
     "text": [
      "**Optimized Prompt:** None\n"
     ]
    }
   ],
   "source": [
    "\n",
    "optimized_prompt = getattr(optimized_matcher, \"prompt\", None) \\\n",
    "    or getattr(optimized_matcher, \"instructions\", None) \\\n",
    "    or getattr(optimized_matcher, \"template\", None)\n",
    "\n",
    "print(\"**Optimized Prompt:**\", optimized_prompt)"
   ]
  },
  {
   "cell_type": "code",
   "execution_count": null,
   "id": "6abdcda6",
   "metadata": {},
   "outputs": [
    {
     "name": "stdout",
     "output_type": "stream",
     "text": [
      "Few-shot demos: []\n"
     ]
    }
   ],
   "source": [
    "if hasattr(optimized_matcher, \"examples\"):\n",
    "    print(\"Few-shot examples:\", optimized_matcher.examples)\n",
    "elif hasattr(optimized_matcher, \"demos\"):\n",
    "    print(\"Few-shot demos:\", optimized_matcher.demos)"
   ]
  },
  {
   "cell_type": "code",
   "execution_count": null,
   "id": "16a273a7",
   "metadata": {},
   "outputs": [
    {
     "name": "stdout",
     "output_type": "stream",
     "text": [
      "None\n"
     ]
    }
   ],
   "source": [
    "print(getattr(optimized_matcher, \"compiled_template\", None))"
   ]
  },
  {
   "cell_type": "code",
   "execution_count": null,
   "id": "7c97b922",
   "metadata": {},
   "outputs": [
    {
     "name": "stdout",
     "output_type": "stream",
     "text": [
      "=== optimized_matcher.inspect() ===\n",
      "=== tp.inspect() ===\n"
     ]
    }
   ],
   "source": [
    "\n",
    "# Quick peeks (if available in your version)\n",
    "try:\n",
    "    print(\"=== optimized_matcher.inspect() ===\")\n",
    "    print(optimized_matcher.inspect())\n",
    "except Exception:\n",
    "    pass\n",
    "\n",
    "try:\n",
    "    print(\"=== tp.inspect() ===\")\n",
    "    print(tp.inspect())\n",
    "except Exception:\n",
    "    pass\n"
   ]
  },
  {
   "cell_type": "code",
   "execution_count": null,
   "id": "0602144e",
   "metadata": {},
   "outputs": [
    {
     "name": "stdout",
     "output_type": "stream",
     "text": [
      "\n",
      "================= OPTIMIZED PROGRAM =================\n",
      ">>> Repr: Predict(NumberPicker(number_guess -> answer\n",
      "    instructions='Guess a number'\n",
      "    number_guess = Field(annotation=Literal['one', 'two'] required=True json_schema_extra={'__dspy_field_type': 'input', 'prefix': 'Number Guess:', 'desc': '${number_guess}'})\n",
      "    answer = Field(annotation=Literal['one', 'two'] required=True json_schema_extra={'__dspy_field_type': 'output', 'prefix': 'Answer:', 'desc': '${answer}'})\n",
      "))\n",
      "\n",
      "===== Signature =====\n",
      "NumberPicker(number_guess -> answer\n",
      "    instructions='Guess a number'\n",
      "    number_guess = Field(annotation=Literal['one', 'two'] required=True json_schema_extra={'__dspy_field_type': 'input', 'prefix': 'Number Guess:', 'desc': '${number_guess}'})\n",
      "    answer = Field(annotation=Literal['one', 'two'] required=True json_schema_extra={'__dspy_field_type': 'output', 'prefix': 'Answer:', 'desc': '${answer}'})\n",
      ")\n",
      "\n",
      "===== Signature Doc =====\n",
      "Guess a number\n",
      "\n",
      "===== Signature Instructions =====\n",
      "Guess a number\n",
      "\n",
      "===== Signature Inputs =====\n",
      "{'number_guess': FieldInfo(annotation=Literal['one', 'two'], required=True, json_schema_extra={'__dspy_field_type': 'input', 'prefix': 'Number Guess:', 'desc': '${number_guess}'})}\n",
      "\n",
      "===== Signature Outputs =====\n",
      "{'answer': FieldInfo(annotation=Literal['one', 'two'], required=True, json_schema_extra={'__dspy_field_type': 'output', 'prefix': 'Answer:', 'desc': '${answer}'})}\n"
     ]
    }
   ],
   "source": [
    "from typing import Any\n",
    "\n",
    "def _safe(obj: Any, attr: str, default=None):\n",
    "    return getattr(obj, attr, default)\n",
    "\n",
    "def _print_section(title: str, content):\n",
    "    if content:\n",
    "        print(f\"\\n===== {title} =====\")\n",
    "        print(content)\n",
    "\n",
    "def print_dspy_program(program: Any):\n",
    "    print(\">>> Repr:\", repr(program))\n",
    "\n",
    "    # Signature + fields\n",
    "    sig = _safe(program, \"signature\")\n",
    "    _print_section(\"Signature\", sig)\n",
    "    if sig:\n",
    "        # Some versions expose .instructions or a docstring\n",
    "        _print_section(\"Signature Doc\", getattr(sig, \"__doc__\", None))\n",
    "        _print_section(\"Signature Instructions\", _safe(sig, \"instructions\"))\n",
    "        _print_section(\"Signature Inputs\", _safe(sig, \"inputs\", _safe(sig, \"input_fields\", None)))\n",
    "        _print_section(\"Signature Outputs\", _safe(sig, \"outputs\", _safe(sig, \"output_fields\", None)))\n",
    "\n",
    "    # Where different versions might store the optimized prompt/template\n",
    "    for k in (\"prompt\", \"instructions\", \"system_prompt\", \"template\", \"compiled_template\"):\n",
    "        _print_section(k, _safe(program, k))\n",
    "\n",
    "    # Few-shot examples (these keys vary by version/teleprompter)\n",
    "    examples = None\n",
    "    for k in (\"examples\", \"fewshot\", \"demos\", \"shots\", \"train_examples\", \"demo_store\"):\n",
    "        v = _safe(program, k)\n",
    "        if v:\n",
    "            _print_section(f\"{k} (container)\", f\"type={type(v)}, len={getattr(v, '__len__', lambda: 'n/a')() if hasattr(v, '__len__') else 'n/a'}\")\n",
    "            examples = v\n",
    "            break\n",
    "\n",
    "    # Try to print examples if iterable\n",
    "    if examples and hasattr(examples, \"__iter__\"):\n",
    "        try:\n",
    "            for i, ex in enumerate(list(examples)[:20]):  # cap to avoid huge logs\n",
    "                print(f\"\\n--- Few-shot Example #{i+1} ---\")\n",
    "                if hasattr(ex, \"inputs\") and callable(ex.inputs):\n",
    "                    print(\"inputs:\", ex.inputs())\n",
    "                elif hasattr(ex, \"inputs\"):\n",
    "                    print(\"inputs:\", ex.inputs)\n",
    "                else:\n",
    "                    print(\"inputs: <unknown>\")\n",
    "\n",
    "                if hasattr(ex, \"outputs\") and callable(ex.outputs):\n",
    "                    print(\"outputs:\", ex.outputs())\n",
    "                elif hasattr(ex, \"outputs\"):\n",
    "                    print(\"outputs:\", ex.outputs)\n",
    "                else:\n",
    "                    print(\"outputs: <unknown>\")\n",
    "        except Exception as e:\n",
    "            print(f\"(could not iterate examples cleanly: {e})\")\n",
    "\n",
    "print(\"\\n================= OPTIMIZED PROGRAM =================\")\n",
    "print_dspy_program(optimized_matcher)"
   ]
  }
 ],
 "metadata": {
  "kernelspec": {
   "display_name": "Python 3",
   "language": "python",
   "name": "python3"
  },
  "language_info": {
   "codemirror_mode": {
    "name": "ipython",
    "version": 3
   },
   "file_extension": ".py",
   "mimetype": "text/x-python",
   "name": "python",
   "nbconvert_exporter": "python",
   "pygments_lexer": "ipython3",
   "version": "3.12.1"
  }
 },
 "nbformat": 4,
 "nbformat_minor": 5
}
