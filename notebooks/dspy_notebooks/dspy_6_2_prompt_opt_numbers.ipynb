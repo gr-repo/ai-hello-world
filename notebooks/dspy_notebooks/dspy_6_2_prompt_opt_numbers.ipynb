{
 "cells": [
  {
   "cell_type": "code",
   "execution_count": 6,
   "id": "cba74d54",
   "metadata": {},
   "outputs": [
    {
     "name": "stdout",
     "output_type": "stream",
     "text": [
      "Getting keys from environment variables\n"
     ]
    }
   ],
   "source": [
    "import sys\n",
    "import os\n",
    "import dspy \n",
    "from common.my_settings import MySettings  \n",
    "from common.utils import md\n",
    "from common.llm_client_factory import LlmClientFactory\n",
    "from dspy_utils.dspy_helpers import md_dspy\n",
    "\n",
    "settings = MySettings().get()"
   ]
  },
  {
   "cell_type": "code",
   "execution_count": 7,
   "id": "a588a231",
   "metadata": {},
   "outputs": [],
   "source": [
    "# Smaller LLM, this is the one that we are trying to optimize for, the prompts are going to be tweaked\n",
    "# to get the best out of this model\n",
    "lm_gpt35 = dspy.LM('gpt-3.5-turbo', temperature=0.8, model_type='chat', cache=False, api_key=settings.OPENAI_API_KEY)\n",
    "#dspy.configure(lm=lm_gpt35)\n",
    "\n",
    "lm_gpt41mini = dspy.LM('gpt-4.1-mini', temperature=0.8, model_type='chat', cache=False, api_key=settings.OPENAI_API_KEY)\n",
    "\n",
    "# # Larger LLM, this is the one that we are going to use to optimize the prompts\n",
    "# # It will be the helper/teach/AI Judge to assist in the optimization process\n",
    "lm_gpt4 = dspy.LM('gpt-4.1', temperature=0.9, model_type='chat', cache=False, api_key=settings.OPENAI_API_KEY)\n",
    "dspy.configure(lm=lm_gpt4)"
   ]
  },
  {
   "cell_type": "code",
   "execution_count": null,
   "id": "2e49d7ec",
   "metadata": {},
   "outputs": [
    {
     "data": {
      "text/plain": [
       "Prediction(\n",
       "    answer='two'\n",
       ")"
      ]
     },
     "execution_count": 8,
     "metadata": {},
     "output_type": "execute_result"
    }
   ],
   "source": [
    "# Create domain classes\n",
    "\n",
    "from pydantic import BaseModel\n",
    "from typing import Literal\n",
    "    \n",
    "class NumberPicker(dspy.Signature):\n",
    "    \"\"\"Guess a number\"\"\"\n",
    "    number_guess: Literal[\"one\", \"two\"] = dspy.InputField()\n",
    "    answer: Literal[\"one\", \"two\"] = dspy.OutputField()\n",
    "\n",
    "numberPickerPredict = dspy.Predict(NumberPicker)\n",
    "numberPickerPredict(number_guess=\"even\")"
   ]
  },
  {
   "cell_type": "code",
   "execution_count": null,
   "id": "ec637b3a",
   "metadata": {},
   "outputs": [],
   "source": [
    "trainset = [\n",
    "    dspy.Example(number_guess=\"one\", answer=\"one\").with_inputs(\"number_guess\"),\n",
    "    dspy.Example(number_guess=\"two\", answer=\"two\").with_inputs(\"number_guess\"),\n",
    "    dspy.Example(number_guess=\"one\", answer=\"two\").with_inputs(\"number_guess\"),\n",
    "    dspy.Example(number_guess=\"two\", answer=\"one\").with_inputs(\"number_guess\")\n",
    "]"
   ]
  },
  {
   "cell_type": "code",
   "execution_count": 10,
   "id": "5e991cb9",
   "metadata": {},
   "outputs": [
    {
     "name": "stderr",
     "output_type": "stream",
     "text": [
      "2025/09/03 17:01:23 INFO dspy.teleprompt.mipro_optimizer_v2: \n",
      "RUNNING WITH THE FOLLOWING HEAVY AUTO RUN SETTINGS:\n",
      "num_trials: 27\n",
      "minibatch: False\n",
      "num_fewshot_candidates: 18\n",
      "num_instruct_candidates: 9\n",
      "valset size: 3\n",
      "\n",
      "2025/09/03 17:01:23 INFO dspy.teleprompt.mipro_optimizer_v2: \n",
      "==> STEP 1: BOOTSTRAP FEWSHOT EXAMPLES <==\n",
      "2025/09/03 17:01:23 INFO dspy.teleprompt.mipro_optimizer_v2: These will be used as few-shot example candidates for our program and for creating instructions.\n",
      "\n",
      "2025/09/03 17:01:23 INFO dspy.teleprompt.mipro_optimizer_v2: Bootstrapping N=18 sets of demonstrations...\n"
     ]
    },
    {
     "name": "stdout",
     "output_type": "stream",
     "text": [
      "Bootstrapping set 1/18\n",
      "Bootstrapping set 2/18\n",
      "Bootstrapping set 3/18\n"
     ]
    },
    {
     "name": "stderr",
     "output_type": "stream",
     "text": [
      "  0%|          | 0/1 [00:00<?, ?it/s]"
     ]
    },
    {
     "name": "stdout",
     "output_type": "stream",
     "text": [
      "\n"
     ]
    },
    {
     "data": {
      "text/markdown": [
       "**expected**: Example({'number_guess': 'one', 'answer': 'one'}) (input_keys={'number_guess'})"
      ],
      "text/plain": [
       "<IPython.core.display.Markdown object>"
      ]
     },
     "metadata": {},
     "output_type": "display_data"
    },
    {
     "data": {
      "text/markdown": [
       "**actual**: Prediction(  \n",
       "    answer='one'  \n",
       ")"
      ],
      "text/plain": [
       "<IPython.core.display.Markdown object>"
      ]
     },
     "metadata": {},
     "output_type": "display_data"
    },
    {
     "name": "stderr",
     "output_type": "stream",
     "text": [
      "100%|██████████| 1/1 [00:01<00:00,  1.48s/it]\n"
     ]
    },
    {
     "name": "stdout",
     "output_type": "stream",
     "text": [
      "\n",
      "Bootstrapped 0 full traces after 0 examples for up to 1 rounds, amounting to 1 attempts.\n",
      "Bootstrapping set 4/18\n"
     ]
    },
    {
     "name": "stderr",
     "output_type": "stream",
     "text": [
      "  0%|          | 0/1 [00:00<?, ?it/s]"
     ]
    },
    {
     "name": "stdout",
     "output_type": "stream",
     "text": [
      "\n"
     ]
    },
    {
     "data": {
      "text/markdown": [
       "**expected**: Example({'number_guess': 'one', 'answer': 'one'}) (input_keys={'number_guess'})"
      ],
      "text/plain": [
       "<IPython.core.display.Markdown object>"
      ]
     },
     "metadata": {},
     "output_type": "display_data"
    },
    {
     "data": {
      "text/markdown": [
       "**actual**: Prediction(  \n",
       "    answer='one'  \n",
       ")"
      ],
      "text/plain": [
       "<IPython.core.display.Markdown object>"
      ]
     },
     "metadata": {},
     "output_type": "display_data"
    },
    {
     "name": "stderr",
     "output_type": "stream",
     "text": [
      "100%|██████████| 1/1 [00:01<00:00,  1.29s/it]\n"
     ]
    },
    {
     "name": "stdout",
     "output_type": "stream",
     "text": [
      "\n",
      "Bootstrapped 0 full traces after 0 examples for up to 1 rounds, amounting to 1 attempts.\n",
      "Bootstrapping set 5/18\n"
     ]
    },
    {
     "name": "stderr",
     "output_type": "stream",
     "text": [
      "  0%|          | 0/1 [00:00<?, ?it/s]"
     ]
    },
    {
     "name": "stdout",
     "output_type": "stream",
     "text": [
      "\n"
     ]
    },
    {
     "data": {
      "text/markdown": [
       "**expected**: Example({'number_guess': 'one', 'answer': 'one'}) (input_keys={'number_guess'})"
      ],
      "text/plain": [
       "<IPython.core.display.Markdown object>"
      ]
     },
     "metadata": {},
     "output_type": "display_data"
    },
    {
     "data": {
      "text/markdown": [
       "**actual**: Prediction(  \n",
       "    answer='one'  \n",
       ")"
      ],
      "text/plain": [
       "<IPython.core.display.Markdown object>"
      ]
     },
     "metadata": {},
     "output_type": "display_data"
    },
    {
     "name": "stderr",
     "output_type": "stream",
     "text": [
      "100%|██████████| 1/1 [00:01<00:00,  1.78s/it]\n"
     ]
    },
    {
     "name": "stdout",
     "output_type": "stream",
     "text": [
      "\n",
      "Bootstrapped 0 full traces after 0 examples for up to 1 rounds, amounting to 1 attempts.\n",
      "Bootstrapping set 6/18\n"
     ]
    },
    {
     "name": "stderr",
     "output_type": "stream",
     "text": [
      "  0%|          | 0/1 [00:00<?, ?it/s]"
     ]
    },
    {
     "name": "stdout",
     "output_type": "stream",
     "text": [
      "\n"
     ]
    },
    {
     "data": {
      "text/markdown": [
       "**expected**: Example({'number_guess': 'one', 'answer': 'one'}) (input_keys={'number_guess'})"
      ],
      "text/plain": [
       "<IPython.core.display.Markdown object>"
      ]
     },
     "metadata": {},
     "output_type": "display_data"
    },
    {
     "data": {
      "text/markdown": [
       "**actual**: Prediction(  \n",
       "    answer='one'  \n",
       ")"
      ],
      "text/plain": [
       "<IPython.core.display.Markdown object>"
      ]
     },
     "metadata": {},
     "output_type": "display_data"
    },
    {
     "name": "stderr",
     "output_type": "stream",
     "text": [
      "100%|██████████| 1/1 [00:01<00:00,  1.52s/it]\n"
     ]
    },
    {
     "name": "stdout",
     "output_type": "stream",
     "text": [
      "\n",
      "Bootstrapped 0 full traces after 0 examples for up to 1 rounds, amounting to 1 attempts.\n",
      "Bootstrapping set 7/18\n"
     ]
    },
    {
     "name": "stderr",
     "output_type": "stream",
     "text": [
      "  0%|          | 0/1 [00:00<?, ?it/s]"
     ]
    },
    {
     "name": "stdout",
     "output_type": "stream",
     "text": [
      "\n"
     ]
    },
    {
     "data": {
      "text/markdown": [
       "**expected**: Example({'number_guess': 'one', 'answer': 'one'}) (input_keys={'number_guess'})"
      ],
      "text/plain": [
       "<IPython.core.display.Markdown object>"
      ]
     },
     "metadata": {},
     "output_type": "display_data"
    },
    {
     "data": {
      "text/markdown": [
       "**actual**: Prediction(  \n",
       "    answer='one'  \n",
       ")"
      ],
      "text/plain": [
       "<IPython.core.display.Markdown object>"
      ]
     },
     "metadata": {},
     "output_type": "display_data"
    },
    {
     "name": "stderr",
     "output_type": "stream",
     "text": [
      "100%|██████████| 1/1 [00:01<00:00,  1.33s/it]\n"
     ]
    },
    {
     "name": "stdout",
     "output_type": "stream",
     "text": [
      "\n",
      "Bootstrapped 0 full traces after 0 examples for up to 1 rounds, amounting to 1 attempts.\n",
      "Bootstrapping set 8/18\n"
     ]
    },
    {
     "name": "stderr",
     "output_type": "stream",
     "text": [
      "  0%|          | 0/1 [00:00<?, ?it/s]"
     ]
    },
    {
     "name": "stdout",
     "output_type": "stream",
     "text": [
      "\n"
     ]
    },
    {
     "data": {
      "text/markdown": [
       "**expected**: Example({'number_guess': 'one', 'answer': 'one'}) (input_keys={'number_guess'})"
      ],
      "text/plain": [
       "<IPython.core.display.Markdown object>"
      ]
     },
     "metadata": {},
     "output_type": "display_data"
    },
    {
     "data": {
      "text/markdown": [
       "**actual**: Prediction(  \n",
       "    answer='one'  \n",
       ")"
      ],
      "text/plain": [
       "<IPython.core.display.Markdown object>"
      ]
     },
     "metadata": {},
     "output_type": "display_data"
    },
    {
     "name": "stderr",
     "output_type": "stream",
     "text": [
      "100%|██████████| 1/1 [00:00<00:00,  1.02it/s]\n"
     ]
    },
    {
     "name": "stdout",
     "output_type": "stream",
     "text": [
      "\n",
      "Bootstrapped 0 full traces after 0 examples for up to 1 rounds, amounting to 1 attempts.\n",
      "Bootstrapping set 9/18\n"
     ]
    },
    {
     "name": "stderr",
     "output_type": "stream",
     "text": [
      "  0%|          | 0/1 [00:00<?, ?it/s]"
     ]
    },
    {
     "name": "stdout",
     "output_type": "stream",
     "text": [
      "\n"
     ]
    },
    {
     "data": {
      "text/markdown": [
       "**expected**: Example({'number_guess': 'one', 'answer': 'one'}) (input_keys={'number_guess'})"
      ],
      "text/plain": [
       "<IPython.core.display.Markdown object>"
      ]
     },
     "metadata": {},
     "output_type": "display_data"
    },
    {
     "data": {
      "text/markdown": [
       "**actual**: Prediction(  \n",
       "    answer='one'  \n",
       ")"
      ],
      "text/plain": [
       "<IPython.core.display.Markdown object>"
      ]
     },
     "metadata": {},
     "output_type": "display_data"
    },
    {
     "name": "stderr",
     "output_type": "stream",
     "text": [
      "100%|██████████| 1/1 [00:00<00:00,  1.29it/s]\n"
     ]
    },
    {
     "name": "stdout",
     "output_type": "stream",
     "text": [
      "\n",
      "Bootstrapped 0 full traces after 0 examples for up to 1 rounds, amounting to 1 attempts.\n",
      "Bootstrapping set 10/18\n"
     ]
    },
    {
     "name": "stderr",
     "output_type": "stream",
     "text": [
      "  0%|          | 0/1 [00:00<?, ?it/s]"
     ]
    },
    {
     "name": "stdout",
     "output_type": "stream",
     "text": [
      "\n"
     ]
    },
    {
     "data": {
      "text/markdown": [
       "**expected**: Example({'number_guess': 'one', 'answer': 'one'}) (input_keys={'number_guess'})"
      ],
      "text/plain": [
       "<IPython.core.display.Markdown object>"
      ]
     },
     "metadata": {},
     "output_type": "display_data"
    },
    {
     "data": {
      "text/markdown": [
       "**actual**: Prediction(  \n",
       "    answer='one'  \n",
       ")"
      ],
      "text/plain": [
       "<IPython.core.display.Markdown object>"
      ]
     },
     "metadata": {},
     "output_type": "display_data"
    },
    {
     "name": "stderr",
     "output_type": "stream",
     "text": [
      "100%|██████████| 1/1 [00:00<00:00,  1.44it/s]\n"
     ]
    },
    {
     "name": "stdout",
     "output_type": "stream",
     "text": [
      "\n",
      "Bootstrapped 0 full traces after 0 examples for up to 1 rounds, amounting to 1 attempts.\n",
      "Bootstrapping set 11/18\n"
     ]
    },
    {
     "name": "stderr",
     "output_type": "stream",
     "text": [
      "  0%|          | 0/1 [00:00<?, ?it/s]"
     ]
    },
    {
     "name": "stdout",
     "output_type": "stream",
     "text": [
      "\n"
     ]
    },
    {
     "data": {
      "text/markdown": [
       "**expected**: Example({'number_guess': 'one', 'answer': 'one'}) (input_keys={'number_guess'})"
      ],
      "text/plain": [
       "<IPython.core.display.Markdown object>"
      ]
     },
     "metadata": {},
     "output_type": "display_data"
    },
    {
     "data": {
      "text/markdown": [
       "**actual**: Prediction(  \n",
       "    answer='one'  \n",
       ")"
      ],
      "text/plain": [
       "<IPython.core.display.Markdown object>"
      ]
     },
     "metadata": {},
     "output_type": "display_data"
    },
    {
     "name": "stderr",
     "output_type": "stream",
     "text": [
      "100%|██████████| 1/1 [00:01<00:00,  1.03s/it]\n"
     ]
    },
    {
     "name": "stdout",
     "output_type": "stream",
     "text": [
      "\n",
      "Bootstrapped 0 full traces after 0 examples for up to 1 rounds, amounting to 1 attempts.\n",
      "Bootstrapping set 12/18\n"
     ]
    },
    {
     "name": "stderr",
     "output_type": "stream",
     "text": [
      "  0%|          | 0/1 [00:00<?, ?it/s]"
     ]
    },
    {
     "name": "stdout",
     "output_type": "stream",
     "text": [
      "\n"
     ]
    },
    {
     "data": {
      "text/markdown": [
       "**expected**: Example({'number_guess': 'one', 'answer': 'one'}) (input_keys={'number_guess'})"
      ],
      "text/plain": [
       "<IPython.core.display.Markdown object>"
      ]
     },
     "metadata": {},
     "output_type": "display_data"
    },
    {
     "data": {
      "text/markdown": [
       "**actual**: Prediction(  \n",
       "    answer='one'  \n",
       ")"
      ],
      "text/plain": [
       "<IPython.core.display.Markdown object>"
      ]
     },
     "metadata": {},
     "output_type": "display_data"
    },
    {
     "name": "stderr",
     "output_type": "stream",
     "text": [
      "100%|██████████| 1/1 [00:01<00:00,  1.10s/it]\n"
     ]
    },
    {
     "name": "stdout",
     "output_type": "stream",
     "text": [
      "\n",
      "Bootstrapped 0 full traces after 0 examples for up to 1 rounds, amounting to 1 attempts.\n",
      "Bootstrapping set 13/18\n"
     ]
    },
    {
     "name": "stderr",
     "output_type": "stream",
     "text": [
      "  0%|          | 0/1 [00:00<?, ?it/s]"
     ]
    },
    {
     "name": "stdout",
     "output_type": "stream",
     "text": [
      "\n"
     ]
    },
    {
     "data": {
      "text/markdown": [
       "**expected**: Example({'number_guess': 'one', 'answer': 'one'}) (input_keys={'number_guess'})"
      ],
      "text/plain": [
       "<IPython.core.display.Markdown object>"
      ]
     },
     "metadata": {},
     "output_type": "display_data"
    },
    {
     "data": {
      "text/markdown": [
       "**actual**: Prediction(  \n",
       "    answer='one'  \n",
       ")"
      ],
      "text/plain": [
       "<IPython.core.display.Markdown object>"
      ]
     },
     "metadata": {},
     "output_type": "display_data"
    },
    {
     "name": "stderr",
     "output_type": "stream",
     "text": [
      "100%|██████████| 1/1 [00:00<00:00,  1.13it/s]\n"
     ]
    },
    {
     "name": "stdout",
     "output_type": "stream",
     "text": [
      "\n",
      "Bootstrapped 0 full traces after 0 examples for up to 1 rounds, amounting to 1 attempts.\n",
      "Bootstrapping set 14/18\n"
     ]
    },
    {
     "name": "stderr",
     "output_type": "stream",
     "text": [
      "  0%|          | 0/1 [00:00<?, ?it/s]"
     ]
    },
    {
     "name": "stdout",
     "output_type": "stream",
     "text": [
      "\n"
     ]
    },
    {
     "data": {
      "text/markdown": [
       "**expected**: Example({'number_guess': 'one', 'answer': 'one'}) (input_keys={'number_guess'})"
      ],
      "text/plain": [
       "<IPython.core.display.Markdown object>"
      ]
     },
     "metadata": {},
     "output_type": "display_data"
    },
    {
     "data": {
      "text/markdown": [
       "**actual**: Prediction(  \n",
       "    answer='one'  \n",
       ")"
      ],
      "text/plain": [
       "<IPython.core.display.Markdown object>"
      ]
     },
     "metadata": {},
     "output_type": "display_data"
    },
    {
     "name": "stderr",
     "output_type": "stream",
     "text": [
      "100%|██████████| 1/1 [00:00<00:00,  1.10it/s]\n"
     ]
    },
    {
     "name": "stdout",
     "output_type": "stream",
     "text": [
      "\n",
      "Bootstrapped 0 full traces after 0 examples for up to 1 rounds, amounting to 1 attempts.\n",
      "Bootstrapping set 15/18\n"
     ]
    },
    {
     "name": "stderr",
     "output_type": "stream",
     "text": [
      "  0%|          | 0/1 [00:00<?, ?it/s]"
     ]
    },
    {
     "name": "stdout",
     "output_type": "stream",
     "text": [
      "\n"
     ]
    },
    {
     "data": {
      "text/markdown": [
       "**expected**: Example({'number_guess': 'one', 'answer': 'one'}) (input_keys={'number_guess'})"
      ],
      "text/plain": [
       "<IPython.core.display.Markdown object>"
      ]
     },
     "metadata": {},
     "output_type": "display_data"
    },
    {
     "data": {
      "text/markdown": [
       "**actual**: Prediction(  \n",
       "    answer='one'  \n",
       ")"
      ],
      "text/plain": [
       "<IPython.core.display.Markdown object>"
      ]
     },
     "metadata": {},
     "output_type": "display_data"
    },
    {
     "name": "stderr",
     "output_type": "stream",
     "text": [
      "100%|██████████| 1/1 [00:00<00:00,  1.14it/s]\n"
     ]
    },
    {
     "name": "stdout",
     "output_type": "stream",
     "text": [
      "\n",
      "Bootstrapped 0 full traces after 0 examples for up to 1 rounds, amounting to 1 attempts.\n",
      "Bootstrapping set 16/18\n"
     ]
    },
    {
     "name": "stderr",
     "output_type": "stream",
     "text": [
      "  0%|          | 0/1 [00:00<?, ?it/s]"
     ]
    },
    {
     "name": "stdout",
     "output_type": "stream",
     "text": [
      "\n"
     ]
    },
    {
     "data": {
      "text/markdown": [
       "**expected**: Example({'number_guess': 'one', 'answer': 'one'}) (input_keys={'number_guess'})"
      ],
      "text/plain": [
       "<IPython.core.display.Markdown object>"
      ]
     },
     "metadata": {},
     "output_type": "display_data"
    },
    {
     "data": {
      "text/markdown": [
       "**actual**: Prediction(  \n",
       "    answer='one'  \n",
       ")"
      ],
      "text/plain": [
       "<IPython.core.display.Markdown object>"
      ]
     },
     "metadata": {},
     "output_type": "display_data"
    },
    {
     "name": "stderr",
     "output_type": "stream",
     "text": [
      "100%|██████████| 1/1 [00:00<00:00,  1.27it/s]\n"
     ]
    },
    {
     "name": "stdout",
     "output_type": "stream",
     "text": [
      "\n",
      "Bootstrapped 0 full traces after 0 examples for up to 1 rounds, amounting to 1 attempts.\n",
      "Bootstrapping set 17/18\n"
     ]
    },
    {
     "name": "stderr",
     "output_type": "stream",
     "text": [
      "  0%|          | 0/1 [00:00<?, ?it/s]"
     ]
    },
    {
     "name": "stdout",
     "output_type": "stream",
     "text": [
      "\n"
     ]
    },
    {
     "data": {
      "text/markdown": [
       "**expected**: Example({'number_guess': 'one', 'answer': 'one'}) (input_keys={'number_guess'})"
      ],
      "text/plain": [
       "<IPython.core.display.Markdown object>"
      ]
     },
     "metadata": {},
     "output_type": "display_data"
    },
    {
     "data": {
      "text/markdown": [
       "**actual**: Prediction(  \n",
       "    answer='one'  \n",
       ")"
      ],
      "text/plain": [
       "<IPython.core.display.Markdown object>"
      ]
     },
     "metadata": {},
     "output_type": "display_data"
    },
    {
     "name": "stderr",
     "output_type": "stream",
     "text": [
      "100%|██████████| 1/1 [00:00<00:00,  1.34it/s]\n"
     ]
    },
    {
     "name": "stdout",
     "output_type": "stream",
     "text": [
      "\n",
      "Bootstrapped 0 full traces after 0 examples for up to 1 rounds, amounting to 1 attempts.\n",
      "Bootstrapping set 18/18\n"
     ]
    },
    {
     "name": "stderr",
     "output_type": "stream",
     "text": [
      "  0%|          | 0/1 [00:00<?, ?it/s]"
     ]
    },
    {
     "name": "stdout",
     "output_type": "stream",
     "text": [
      "\n"
     ]
    },
    {
     "data": {
      "text/markdown": [
       "**expected**: Example({'number_guess': 'one', 'answer': 'one'}) (input_keys={'number_guess'})"
      ],
      "text/plain": [
       "<IPython.core.display.Markdown object>"
      ]
     },
     "metadata": {},
     "output_type": "display_data"
    },
    {
     "data": {
      "text/markdown": [
       "**actual**: Prediction(  \n",
       "    answer='one'  \n",
       ")"
      ],
      "text/plain": [
       "<IPython.core.display.Markdown object>"
      ]
     },
     "metadata": {},
     "output_type": "display_data"
    },
    {
     "name": "stderr",
     "output_type": "stream",
     "text": [
      "100%|██████████| 1/1 [00:00<00:00,  1.34it/s]\n",
      "2025/09/03 17:01:40 INFO dspy.teleprompt.mipro_optimizer_v2: \n",
      "==> STEP 2: PROPOSE INSTRUCTION CANDIDATES <==\n",
      "2025/09/03 17:01:40 INFO dspy.teleprompt.mipro_optimizer_v2: We will use the few-shot examples from the previous step, a generated dataset summary, a summary of the program code, and a randomly selected prompting tip to propose instructions.\n"
     ]
    },
    {
     "name": "stdout",
     "output_type": "stream",
     "text": [
      "\n",
      "Bootstrapped 0 full traces after 0 examples for up to 1 rounds, amounting to 1 attempts.\n"
     ]
    },
    {
     "name": "stderr",
     "output_type": "stream",
     "text": [
      "2025/09/03 17:01:41 INFO dspy.teleprompt.mipro_optimizer_v2: \n",
      "Proposing N=9 instructions...\n",
      "\n",
      "2025/09/03 17:02:22 INFO dspy.teleprompt.mipro_optimizer_v2: Proposed Instructions for Predictor 0:\n",
      "\n",
      "2025/09/03 17:02:22 INFO dspy.teleprompt.mipro_optimizer_v2: 0: Guess a number\n",
      "\n",
      "2025/09/03 17:02:22 INFO dspy.teleprompt.mipro_optimizer_v2: 1: Imagine you are in a high-stakes guessing game where your reputation is on the line. You need to predict the correct number based on the player's guess to ensure victory. Use your predictive abilities to determine the correct answer and secure your win!\n",
      "\n",
      "2025/09/03 17:02:22 INFO dspy.teleprompt.mipro_optimizer_v2: 2: You are the last hope to save the world! A rogue AI has locked away crucial information behind a numeric code. Your mission: use your predictive powers to guess the correct number and unveil the secret code to prevent a global catastrophe. Make your prediction now!\n",
      "\n",
      "2025/09/03 17:02:22 INFO dspy.teleprompt.mipro_optimizer_v2: 3: You are a player in a number guessing game. Provide a number_guess to the Predict module to receive the answer.\n",
      "\n",
      "2025/09/03 17:02:22 INFO dspy.teleprompt.mipro_optimizer_v2: 4: You are a player in a guessing game. Provide a number_guess to the module `Predict(number_guess) -> answer` to receive the predicted answer.\n",
      "\n",
      "2025/09/03 17:02:22 INFO dspy.teleprompt.mipro_optimizer_v2: 5: Predict the answer based on the player's number guess.\n",
      "\n",
      "2025/09/03 17:02:22 INFO dspy.teleprompt.mipro_optimizer_v2: 6: Predict the correct answer based on the player's guess of a number.\n",
      "\n",
      "2025/09/03 17:02:22 INFO dspy.teleprompt.mipro_optimizer_v2: 7: Provide a number_guess as input to the `Predict` module to receive the corresponding answer generated by the language model.\n",
      "\n",
      "2025/09/03 17:02:22 INFO dspy.teleprompt.mipro_optimizer_v2: 8: Predict the answer for the given number_guess using language models.\n",
      "\n",
      "2025/09/03 17:02:22 INFO dspy.teleprompt.mipro_optimizer_v2: \n",
      "\n",
      "2025/09/03 17:02:22 INFO dspy.teleprompt.mipro_optimizer_v2: ==> STEP 3: FINDING OPTIMAL PROMPT PARAMETERS <==\n",
      "2025/09/03 17:02:22 INFO dspy.teleprompt.mipro_optimizer_v2: We will evaluate the program over a series of trials with different combinations of instructions and few-shot examples to find the optimal combination using Bayesian Optimization.\n",
      "\n",
      "2025/09/03 17:02:22 INFO dspy.teleprompt.mipro_optimizer_v2: == Trial 1 / 27 - Full Evaluation of Default Program ==\n"
     ]
    },
    {
     "name": "stdout",
     "output_type": "stream",
     "text": [
      "  0%|          | 0/3 [00:00<?, ?it/s]\n"
     ]
    },
    {
     "data": {
      "text/markdown": [
       "**expected**: Example({'number_guess': '2', 'answer': 'two'}) (input_keys={'number_guess'})"
      ],
      "text/plain": [
       "<IPython.core.display.Markdown object>"
      ]
     },
     "metadata": {},
     "output_type": "display_data"
    },
    {
     "data": {
      "text/markdown": [
       "**actual**: Prediction(  \n",
       "    answer='two'  \n",
       ")"
      ],
      "text/plain": [
       "<IPython.core.display.Markdown object>"
      ]
     },
     "metadata": {},
     "output_type": "display_data"
    },
    {
     "name": "stdout",
     "output_type": "stream",
     "text": [
      "\n",
      "Average Metric: 1.00 / 1 (100.0%):  33%|███▎      | 1/3 [00:00<00:01,  1.32it/s]\n"
     ]
    },
    {
     "data": {
      "text/markdown": [
       "**expected**: Example({'number_guess': '1', 'answer': 'one'}) (input_keys={'number_guess'})"
      ],
      "text/plain": [
       "<IPython.core.display.Markdown object>"
      ]
     },
     "metadata": {},
     "output_type": "display_data"
    },
    {
     "data": {
      "text/markdown": [
       "**actual**: Prediction(  \n",
       "    answer='one'  \n",
       ")"
      ],
      "text/plain": [
       "<IPython.core.display.Markdown object>"
      ]
     },
     "metadata": {},
     "output_type": "display_data"
    },
    {
     "name": "stdout",
     "output_type": "stream",
     "text": [
      "\n",
      "Average Metric: 1.00 / 2 (50.0%):  67%|██████▋   | 2/3 [00:00<00:00,  2.69it/s] \n"
     ]
    },
    {
     "data": {
      "text/markdown": [
       "**expected**: Example({'number_guess': 'two', 'answer': 'two'}) (input_keys={'number_guess'})"
      ],
      "text/plain": [
       "<IPython.core.display.Markdown object>"
      ]
     },
     "metadata": {},
     "output_type": "display_data"
    },
    {
     "data": {
      "text/markdown": [
       "**actual**: Prediction(  \n",
       "    answer='two'  \n",
       ")"
      ],
      "text/plain": [
       "<IPython.core.display.Markdown object>"
      ]
     },
     "metadata": {},
     "output_type": "display_data"
    },
    {
     "name": "stdout",
     "output_type": "stream",
     "text": [
      "\n",
      "Average Metric: 2.00 / 3 (66.7%): 100%|██████████| 3/3 [00:01<00:00,  2.44it/s]"
     ]
    },
    {
     "name": "stderr",
     "output_type": "stream",
     "text": [
      "2025/09/03 17:02:23 INFO dspy.evaluate.evaluate: Average Metric: 2 / 3 (66.7%)\n",
      "2025/09/03 17:02:23 INFO dspy.teleprompt.mipro_optimizer_v2: Default program score: 66.67\n",
      "\n",
      "2025/09/03 17:02:23 INFO dspy.teleprompt.mipro_optimizer_v2: ===== Trial 2 / 27 =====\n"
     ]
    },
    {
     "name": "stdout",
     "output_type": "stream",
     "text": [
      "\n",
      "  0%|          | 0/3 [00:00<?, ?it/s]\n"
     ]
    },
    {
     "data": {
      "text/markdown": [
       "**expected**: Example({'number_guess': '1', 'answer': 'one'}) (input_keys={'number_guess'})"
      ],
      "text/plain": [
       "<IPython.core.display.Markdown object>"
      ]
     },
     "metadata": {},
     "output_type": "display_data"
    },
    {
     "data": {
      "text/markdown": [
       "**actual**: Prediction(  \n",
       "    answer='one'  \n",
       ")"
      ],
      "text/plain": [
       "<IPython.core.display.Markdown object>"
      ]
     },
     "metadata": {},
     "output_type": "display_data"
    },
    {
     "name": "stdout",
     "output_type": "stream",
     "text": [
      "\n",
      "Average Metric: 0.00 / 1 (0.0%):  33%|███▎      | 1/3 [00:00<00:01,  1.43it/s]\n"
     ]
    },
    {
     "data": {
      "text/markdown": [
       "**expected**: Example({'number_guess': '2', 'answer': 'two'}) (input_keys={'number_guess'})"
      ],
      "text/plain": [
       "<IPython.core.display.Markdown object>"
      ]
     },
     "metadata": {},
     "output_type": "display_data"
    },
    {
     "data": {
      "text/markdown": [
       "**actual**: Prediction(  \n",
       "    answer='two'  \n",
       ")"
      ],
      "text/plain": [
       "<IPython.core.display.Markdown object>"
      ]
     },
     "metadata": {},
     "output_type": "display_data"
    },
    {
     "name": "stdout",
     "output_type": "stream",
     "text": [
      "\n",
      "Average Metric: 1.00 / 2 (50.0%):  33%|███▎      | 1/3 [00:00<00:01,  1.43it/s]\n"
     ]
    },
    {
     "data": {
      "text/markdown": [
       "**expected**: Example({'number_guess': 'two', 'answer': 'two'}) (input_keys={'number_guess'})"
      ],
      "text/plain": [
       "<IPython.core.display.Markdown object>"
      ]
     },
     "metadata": {},
     "output_type": "display_data"
    },
    {
     "data": {
      "text/markdown": [
       "**actual**: Prediction(  \n",
       "    answer='two'  \n",
       ")"
      ],
      "text/plain": [
       "<IPython.core.display.Markdown object>"
      ]
     },
     "metadata": {},
     "output_type": "display_data"
    },
    {
     "name": "stdout",
     "output_type": "stream",
     "text": [
      "\n",
      "Average Metric: 2.00 / 3 (66.7%): 100%|██████████| 3/3 [00:00<00:00,  3.27it/s]"
     ]
    },
    {
     "name": "stderr",
     "output_type": "stream",
     "text": [
      "2025/09/03 17:02:24 INFO dspy.evaluate.evaluate: Average Metric: 2 / 3 (66.7%)\n",
      "2025/09/03 17:02:24 INFO dspy.teleprompt.mipro_optimizer_v2: Score: 66.67 with parameters ['Predictor 0: Instruction 1', 'Predictor 0: Few-Shot Set 17'].\n",
      "2025/09/03 17:02:24 INFO dspy.teleprompt.mipro_optimizer_v2: Scores so far: [66.67, 66.67]\n",
      "2025/09/03 17:02:24 INFO dspy.teleprompt.mipro_optimizer_v2: Best score so far: 66.67\n",
      "2025/09/03 17:02:24 INFO dspy.teleprompt.mipro_optimizer_v2: ========================\n",
      "\n",
      "\n",
      "2025/09/03 17:02:24 INFO dspy.teleprompt.mipro_optimizer_v2: ===== Trial 3 / 27 =====\n"
     ]
    },
    {
     "name": "stdout",
     "output_type": "stream",
     "text": [
      "\n",
      "  0%|          | 0/3 [00:00<?, ?it/s]\n"
     ]
    },
    {
     "data": {
      "text/markdown": [
       "**expected**: Example({'number_guess': '2', 'answer': 'two'}) (input_keys={'number_guess'})"
      ],
      "text/plain": [
       "<IPython.core.display.Markdown object>"
      ]
     },
     "metadata": {},
     "output_type": "display_data"
    },
    {
     "data": {
      "text/markdown": [
       "**actual**: Prediction(  \n",
       "    answer='two'  \n",
       ")"
      ],
      "text/plain": [
       "<IPython.core.display.Markdown object>"
      ]
     },
     "metadata": {},
     "output_type": "display_data"
    },
    {
     "name": "stdout",
     "output_type": "stream",
     "text": [
      "\n",
      "Average Metric: 1.00 / 1 (100.0%):  33%|███▎      | 1/3 [00:00<00:01,  1.16it/s]\n"
     ]
    },
    {
     "data": {
      "text/markdown": [
       "**expected**: Example({'number_guess': '1', 'answer': 'one'}) (input_keys={'number_guess'})"
      ],
      "text/plain": [
       "<IPython.core.display.Markdown object>"
      ]
     },
     "metadata": {},
     "output_type": "display_data"
    },
    {
     "data": {
      "text/markdown": [
       "**actual**: Prediction(  \n",
       "    answer='one'  \n",
       ")"
      ],
      "text/plain": [
       "<IPython.core.display.Markdown object>"
      ]
     },
     "metadata": {},
     "output_type": "display_data"
    },
    {
     "name": "stdout",
     "output_type": "stream",
     "text": [
      "\n",
      "Average Metric: 1.00 / 2 (50.0%):  33%|███▎      | 1/3 [00:00<00:01,  1.16it/s] \n"
     ]
    },
    {
     "data": {
      "text/markdown": [
       "**expected**: Example({'number_guess': 'two', 'answer': 'two'}) (input_keys={'number_guess'})"
      ],
      "text/plain": [
       "<IPython.core.display.Markdown object>"
      ]
     },
     "metadata": {},
     "output_type": "display_data"
    },
    {
     "data": {
      "text/markdown": [
       "**actual**: Prediction(  \n",
       "    answer='two'  \n",
       ")"
      ],
      "text/plain": [
       "<IPython.core.display.Markdown object>"
      ]
     },
     "metadata": {},
     "output_type": "display_data"
    },
    {
     "name": "stdout",
     "output_type": "stream",
     "text": [
      "\n",
      "Average Metric: 2.00 / 3 (66.7%): 100%|██████████| 3/3 [00:01<00:00,  2.24it/s]"
     ]
    },
    {
     "name": "stderr",
     "output_type": "stream",
     "text": [
      "2025/09/03 17:02:25 INFO dspy.evaluate.evaluate: Average Metric: 2 / 3 (66.7%)\n",
      "2025/09/03 17:02:25 INFO dspy.teleprompt.mipro_optimizer_v2: Score: 66.67 with parameters ['Predictor 0: Instruction 5', 'Predictor 0: Few-Shot Set 12'].\n",
      "2025/09/03 17:02:25 INFO dspy.teleprompt.mipro_optimizer_v2: Scores so far: [66.67, 66.67, 66.67]\n",
      "2025/09/03 17:02:25 INFO dspy.teleprompt.mipro_optimizer_v2: Best score so far: 66.67\n",
      "2025/09/03 17:02:25 INFO dspy.teleprompt.mipro_optimizer_v2: ========================\n",
      "\n",
      "\n",
      "2025/09/03 17:02:25 INFO dspy.teleprompt.mipro_optimizer_v2: ===== Trial 4 / 27 =====\n"
     ]
    },
    {
     "name": "stdout",
     "output_type": "stream",
     "text": [
      "\n",
      "  0%|          | 0/3 [00:00<?, ?it/s]\n"
     ]
    },
    {
     "data": {
      "text/markdown": [
       "**expected**: Example({'number_guess': '2', 'answer': 'two'}) (input_keys={'number_guess'})"
      ],
      "text/plain": [
       "<IPython.core.display.Markdown object>"
      ]
     },
     "metadata": {},
     "output_type": "display_data"
    },
    {
     "data": {
      "text/markdown": [
       "**actual**: Prediction(  \n",
       "    answer='two'  \n",
       ")"
      ],
      "text/plain": [
       "<IPython.core.display.Markdown object>"
      ]
     },
     "metadata": {},
     "output_type": "display_data"
    },
    {
     "name": "stdout",
     "output_type": "stream",
     "text": [
      "\n",
      "Average Metric: 1.00 / 1 (100.0%):  33%|███▎      | 1/3 [00:00<00:01,  1.46it/s]\n"
     ]
    },
    {
     "data": {
      "text/markdown": [
       "**expected**: Example({'number_guess': 'two', 'answer': 'two'}) (input_keys={'number_guess'})"
      ],
      "text/plain": [
       "<IPython.core.display.Markdown object>"
      ]
     },
     "metadata": {},
     "output_type": "display_data"
    },
    {
     "name": "stdout",
     "output_type": "stream",
     "text": [
      "\n"
     ]
    },
    {
     "data": {
      "text/markdown": [
       "**actual**: Prediction(  \n",
       "    answer='two'  \n",
       ")"
      ],
      "text/plain": [
       "<IPython.core.display.Markdown object>"
      ]
     },
     "metadata": {},
     "output_type": "display_data"
    },
    {
     "name": "stdout",
     "output_type": "stream",
     "text": [
      "\n",
      "Average Metric: 2.00 / 2 (100.0%):  33%|███▎      | 1/3 [00:00<00:01,  1.46it/s]"
     ]
    },
    {
     "data": {
      "text/markdown": [
       "**expected**: Example({'number_guess': '1', 'answer': 'one'}) (input_keys={'number_guess'})"
      ],
      "text/plain": [
       "<IPython.core.display.Markdown object>"
      ]
     },
     "metadata": {},
     "output_type": "display_data"
    },
    {
     "data": {
      "text/markdown": [
       "**actual**: Prediction(  \n",
       "    answer='one'  \n",
       ")"
      ],
      "text/plain": [
       "<IPython.core.display.Markdown object>"
      ]
     },
     "metadata": {},
     "output_type": "display_data"
    },
    {
     "name": "stdout",
     "output_type": "stream",
     "text": [
      "\n",
      "Average Metric: 2.00 / 3 (66.7%): 100%|██████████| 3/3 [00:00<00:00,  4.09it/s] "
     ]
    },
    {
     "name": "stderr",
     "output_type": "stream",
     "text": [
      "2025/09/03 17:02:26 INFO dspy.evaluate.evaluate: Average Metric: 2 / 3 (66.7%)\n",
      "2025/09/03 17:02:26 INFO dspy.teleprompt.mipro_optimizer_v2: Score: 66.67 with parameters ['Predictor 0: Instruction 8', 'Predictor 0: Few-Shot Set 1'].\n",
      "2025/09/03 17:02:26 INFO dspy.teleprompt.mipro_optimizer_v2: Scores so far: [66.67, 66.67, 66.67, 66.67]\n",
      "2025/09/03 17:02:26 INFO dspy.teleprompt.mipro_optimizer_v2: Best score so far: 66.67\n",
      "2025/09/03 17:02:26 INFO dspy.teleprompt.mipro_optimizer_v2: ========================\n",
      "\n",
      "\n",
      "2025/09/03 17:02:26 INFO dspy.teleprompt.mipro_optimizer_v2: ===== Trial 5 / 27 =====\n"
     ]
    },
    {
     "name": "stdout",
     "output_type": "stream",
     "text": [
      "\n",
      "  0%|          | 0/3 [00:00<?, ?it/s]\n"
     ]
    },
    {
     "data": {
      "text/markdown": [
       "**expected**: Example({'number_guess': '2', 'answer': 'two'}) (input_keys={'number_guess'})"
      ],
      "text/plain": [
       "<IPython.core.display.Markdown object>"
      ]
     },
     "metadata": {},
     "output_type": "display_data"
    },
    {
     "data": {
      "text/markdown": [
       "**actual**: Prediction(  \n",
       "    answer='two'  \n",
       ")"
      ],
      "text/plain": [
       "<IPython.core.display.Markdown object>"
      ]
     },
     "metadata": {},
     "output_type": "display_data"
    },
    {
     "name": "stdout",
     "output_type": "stream",
     "text": [
      "\n",
      "Average Metric: 1.00 / 1 (100.0%):  33%|███▎      | 1/3 [00:00<00:01,  1.83it/s]\n"
     ]
    },
    {
     "data": {
      "text/markdown": [
       "**expected**: Example({'number_guess': 'two', 'answer': 'two'}) (input_keys={'number_guess'})"
      ],
      "text/plain": [
       "<IPython.core.display.Markdown object>"
      ]
     },
     "metadata": {},
     "output_type": "display_data"
    },
    {
     "data": {
      "text/markdown": [
       "**actual**: Prediction(  \n",
       "    answer='two'  \n",
       ")"
      ],
      "text/plain": [
       "<IPython.core.display.Markdown object>"
      ]
     },
     "metadata": {},
     "output_type": "display_data"
    },
    {
     "name": "stdout",
     "output_type": "stream",
     "text": [
      "\n",
      "Average Metric: 2.00 / 2 (100.0%):  67%|██████▋   | 2/3 [00:00<00:00,  3.46it/s]\n"
     ]
    },
    {
     "data": {
      "text/markdown": [
       "**expected**: Example({'number_guess': '1', 'answer': 'one'}) (input_keys={'number_guess'})"
      ],
      "text/plain": [
       "<IPython.core.display.Markdown object>"
      ]
     },
     "metadata": {},
     "output_type": "display_data"
    },
    {
     "data": {
      "text/markdown": [
       "**actual**: Prediction(  \n",
       "    answer='one'  \n",
       ")"
      ],
      "text/plain": [
       "<IPython.core.display.Markdown object>"
      ]
     },
     "metadata": {},
     "output_type": "display_data"
    },
    {
     "name": "stdout",
     "output_type": "stream",
     "text": [
      "\n",
      "Average Metric: 2.00 / 3 (66.7%): 100%|██████████| 3/3 [00:00<00:00,  3.89it/s] "
     ]
    },
    {
     "name": "stderr",
     "output_type": "stream",
     "text": [
      "2025/09/03 17:02:27 INFO dspy.evaluate.evaluate: Average Metric: 2 / 3 (66.7%)\n",
      "2025/09/03 17:02:27 INFO dspy.teleprompt.mipro_optimizer_v2: Score: 66.67 with parameters ['Predictor 0: Instruction 2', 'Predictor 0: Few-Shot Set 12'].\n",
      "2025/09/03 17:02:27 INFO dspy.teleprompt.mipro_optimizer_v2: Scores so far: [66.67, 66.67, 66.67, 66.67, 66.67]\n",
      "2025/09/03 17:02:27 INFO dspy.teleprompt.mipro_optimizer_v2: Best score so far: 66.67\n",
      "2025/09/03 17:02:27 INFO dspy.teleprompt.mipro_optimizer_v2: ========================\n",
      "\n",
      "\n",
      "2025/09/03 17:02:27 INFO dspy.teleprompt.mipro_optimizer_v2: ===== Trial 6 / 27 =====\n"
     ]
    },
    {
     "name": "stdout",
     "output_type": "stream",
     "text": [
      "\n",
      "  0%|          | 0/3 [00:00<?, ?it/s]\n"
     ]
    },
    {
     "data": {
      "text/markdown": [
       "**expected**: Example({'number_guess': '2', 'answer': 'two'}) (input_keys={'number_guess'})"
      ],
      "text/plain": [
       "<IPython.core.display.Markdown object>"
      ]
     },
     "metadata": {},
     "output_type": "display_data"
    },
    {
     "data": {
      "text/markdown": [
       "**actual**: Prediction(  \n",
       "    answer='two'  \n",
       ")"
      ],
      "text/plain": [
       "<IPython.core.display.Markdown object>"
      ]
     },
     "metadata": {},
     "output_type": "display_data"
    },
    {
     "name": "stdout",
     "output_type": "stream",
     "text": [
      "\n",
      "Average Metric: 1.00 / 1 (100.0%):  33%|███▎      | 1/3 [00:00<00:01,  1.49it/s]\n"
     ]
    },
    {
     "data": {
      "text/markdown": [
       "**expected**: Example({'number_guess': 'two', 'answer': 'two'}) (input_keys={'number_guess'})"
      ],
      "text/plain": [
       "<IPython.core.display.Markdown object>"
      ]
     },
     "metadata": {},
     "output_type": "display_data"
    },
    {
     "data": {
      "text/markdown": [
       "**actual**: Prediction(  \n",
       "    answer='two'  \n",
       ")"
      ],
      "text/plain": [
       "<IPython.core.display.Markdown object>"
      ]
     },
     "metadata": {},
     "output_type": "display_data"
    },
    {
     "name": "stdout",
     "output_type": "stream",
     "text": [
      "\n",
      "Average Metric: 2.00 / 2 (100.0%):  67%|██████▋   | 2/3 [00:00<00:00,  2.92it/s]\n"
     ]
    },
    {
     "data": {
      "text/markdown": [
       "**expected**: Example({'number_guess': '1', 'answer': 'one'}) (input_keys={'number_guess'})"
      ],
      "text/plain": [
       "<IPython.core.display.Markdown object>"
      ]
     },
     "metadata": {},
     "output_type": "display_data"
    },
    {
     "data": {
      "text/markdown": [
       "**actual**: Prediction(  \n",
       "    answer='one'  \n",
       ")"
      ],
      "text/plain": [
       "<IPython.core.display.Markdown object>"
      ]
     },
     "metadata": {},
     "output_type": "display_data"
    },
    {
     "name": "stdout",
     "output_type": "stream",
     "text": [
      "\n",
      "Average Metric: 2.00 / 3 (66.7%): 100%|██████████| 3/3 [00:00<00:00,  3.76it/s] "
     ]
    },
    {
     "name": "stderr",
     "output_type": "stream",
     "text": [
      "2025/09/03 17:02:27 INFO dspy.evaluate.evaluate: Average Metric: 2 / 3 (66.7%)\n",
      "2025/09/03 17:02:27 INFO dspy.teleprompt.mipro_optimizer_v2: Score: 66.67 with parameters ['Predictor 0: Instruction 5', 'Predictor 0: Few-Shot Set 12'].\n",
      "2025/09/03 17:02:27 INFO dspy.teleprompt.mipro_optimizer_v2: Scores so far: [66.67, 66.67, 66.67, 66.67, 66.67, 66.67]\n",
      "2025/09/03 17:02:27 INFO dspy.teleprompt.mipro_optimizer_v2: Best score so far: 66.67\n",
      "2025/09/03 17:02:27 INFO dspy.teleprompt.mipro_optimizer_v2: ========================\n",
      "\n",
      "\n",
      "2025/09/03 17:02:27 INFO dspy.teleprompt.mipro_optimizer_v2: ===== Trial 7 / 27 =====\n"
     ]
    },
    {
     "name": "stdout",
     "output_type": "stream",
     "text": [
      "\n",
      "  0%|          | 0/3 [00:00<?, ?it/s]\n"
     ]
    },
    {
     "data": {
      "text/markdown": [
       "**expected**: Example({'number_guess': 'two', 'answer': 'two'}) (input_keys={'number_guess'})"
      ],
      "text/plain": [
       "<IPython.core.display.Markdown object>"
      ]
     },
     "metadata": {},
     "output_type": "display_data"
    },
    {
     "data": {
      "text/markdown": [
       "**actual**: Prediction(  \n",
       "    answer='two'  \n",
       ")"
      ],
      "text/plain": [
       "<IPython.core.display.Markdown object>"
      ]
     },
     "metadata": {},
     "output_type": "display_data"
    },
    {
     "name": "stdout",
     "output_type": "stream",
     "text": [
      "\n",
      "Average Metric: 1.00 / 1 (100.0%):  33%|███▎      | 1/3 [00:00<00:01,  1.39it/s]\n"
     ]
    },
    {
     "data": {
      "text/markdown": [
       "**expected**: Example({'number_guess': '2', 'answer': 'two'}) (input_keys={'number_guess'})"
      ],
      "text/plain": [
       "<IPython.core.display.Markdown object>"
      ]
     },
     "metadata": {},
     "output_type": "display_data"
    },
    {
     "data": {
      "text/markdown": [
       "**actual**: Prediction(  \n",
       "    answer='two'  \n",
       ")"
      ],
      "text/plain": [
       "<IPython.core.display.Markdown object>"
      ]
     },
     "metadata": {},
     "output_type": "display_data"
    },
    {
     "name": "stdout",
     "output_type": "stream",
     "text": [
      "\n",
      "Average Metric: 2.00 / 2 (100.0%):  67%|██████▋   | 2/3 [00:00<00:00,  2.78it/s]\n"
     ]
    },
    {
     "data": {
      "text/markdown": [
       "**expected**: Example({'number_guess': '1', 'answer': 'one'}) (input_keys={'number_guess'})"
      ],
      "text/plain": [
       "<IPython.core.display.Markdown object>"
      ]
     },
     "metadata": {},
     "output_type": "display_data"
    },
    {
     "data": {
      "text/markdown": [
       "**actual**: Prediction(  \n",
       "    answer='one'  \n",
       ")"
      ],
      "text/plain": [
       "<IPython.core.display.Markdown object>"
      ]
     },
     "metadata": {},
     "output_type": "display_data"
    },
    {
     "name": "stdout",
     "output_type": "stream",
     "text": [
      "\n",
      "Average Metric: 2.00 / 3 (66.7%): 100%|██████████| 3/3 [00:01<00:00,  1.92it/s] "
     ]
    },
    {
     "name": "stderr",
     "output_type": "stream",
     "text": [
      "2025/09/03 17:02:29 INFO dspy.evaluate.evaluate: Average Metric: 2 / 3 (66.7%)\n",
      "2025/09/03 17:02:29 INFO dspy.teleprompt.mipro_optimizer_v2: Score: 66.67 with parameters ['Predictor 0: Instruction 0', 'Predictor 0: Few-Shot Set 16'].\n",
      "2025/09/03 17:02:29 INFO dspy.teleprompt.mipro_optimizer_v2: Scores so far: [66.67, 66.67, 66.67, 66.67, 66.67, 66.67, 66.67]\n",
      "2025/09/03 17:02:29 INFO dspy.teleprompt.mipro_optimizer_v2: Best score so far: 66.67\n",
      "2025/09/03 17:02:29 INFO dspy.teleprompt.mipro_optimizer_v2: ========================\n",
      "\n",
      "\n",
      "2025/09/03 17:02:29 INFO dspy.teleprompt.mipro_optimizer_v2: ===== Trial 8 / 27 =====\n"
     ]
    },
    {
     "name": "stdout",
     "output_type": "stream",
     "text": [
      "\n",
      "  0%|          | 0/3 [00:00<?, ?it/s]\n"
     ]
    },
    {
     "data": {
      "text/markdown": [
       "**expected**: Example({'number_guess': '2', 'answer': 'two'}) (input_keys={'number_guess'})"
      ],
      "text/plain": [
       "<IPython.core.display.Markdown object>"
      ]
     },
     "metadata": {},
     "output_type": "display_data"
    },
    {
     "data": {
      "text/markdown": [
       "**actual**: Prediction(  \n",
       "    answer='two'  \n",
       ")"
      ],
      "text/plain": [
       "<IPython.core.display.Markdown object>"
      ]
     },
     "metadata": {},
     "output_type": "display_data"
    },
    {
     "name": "stdout",
     "output_type": "stream",
     "text": [
      "\n",
      "Average Metric: 1.00 / 1 (100.0%):  33%|███▎      | 1/3 [00:00<00:01,  1.56it/s]\n"
     ]
    },
    {
     "data": {
      "text/markdown": [
       "**expected**: Example({'number_guess': '1', 'answer': 'one'}) (input_keys={'number_guess'})"
      ],
      "text/plain": [
       "<IPython.core.display.Markdown object>"
      ]
     },
     "metadata": {},
     "output_type": "display_data"
    },
    {
     "data": {
      "text/markdown": [
       "**actual**: Prediction(  \n",
       "    answer='one'  \n",
       ")"
      ],
      "text/plain": [
       "<IPython.core.display.Markdown object>"
      ]
     },
     "metadata": {},
     "output_type": "display_data"
    },
    {
     "name": "stdout",
     "output_type": "stream",
     "text": [
      "\n",
      "Average Metric: 1.00 / 2 (50.0%):  33%|███▎      | 1/3 [00:00<00:01,  1.56it/s] \n"
     ]
    },
    {
     "data": {
      "text/markdown": [
       "**expected**: Example({'number_guess': 'two', 'answer': 'two'}) (input_keys={'number_guess'})"
      ],
      "text/plain": [
       "<IPython.core.display.Markdown object>"
      ]
     },
     "metadata": {},
     "output_type": "display_data"
    },
    {
     "data": {
      "text/markdown": [
       "**actual**: Prediction(  \n",
       "    answer='two'  \n",
       ")"
      ],
      "text/plain": [
       "<IPython.core.display.Markdown object>"
      ]
     },
     "metadata": {},
     "output_type": "display_data"
    },
    {
     "name": "stdout",
     "output_type": "stream",
     "text": [
      "\n",
      "Average Metric: 2.00 / 3 (66.7%): 100%|██████████| 3/3 [00:01<00:00,  2.60it/s]"
     ]
    },
    {
     "name": "stderr",
     "output_type": "stream",
     "text": [
      "2025/09/03 17:02:30 INFO dspy.evaluate.evaluate: Average Metric: 2 / 3 (66.7%)\n",
      "2025/09/03 17:02:30 INFO dspy.teleprompt.mipro_optimizer_v2: Score: 66.67 with parameters ['Predictor 0: Instruction 0', 'Predictor 0: Few-Shot Set 13'].\n",
      "2025/09/03 17:02:30 INFO dspy.teleprompt.mipro_optimizer_v2: Scores so far: [66.67, 66.67, 66.67, 66.67, 66.67, 66.67, 66.67, 66.67]\n",
      "2025/09/03 17:02:30 INFO dspy.teleprompt.mipro_optimizer_v2: Best score so far: 66.67\n",
      "2025/09/03 17:02:30 INFO dspy.teleprompt.mipro_optimizer_v2: ========================\n",
      "\n",
      "\n",
      "2025/09/03 17:02:30 INFO dspy.teleprompt.mipro_optimizer_v2: ===== Trial 9 / 27 =====\n"
     ]
    },
    {
     "name": "stdout",
     "output_type": "stream",
     "text": [
      "\n",
      "  0%|          | 0/3 [00:00<?, ?it/s]\n"
     ]
    },
    {
     "data": {
      "text/markdown": [
       "**expected**: Example({'number_guess': '2', 'answer': 'two'}) (input_keys={'number_guess'})"
      ],
      "text/plain": [
       "<IPython.core.display.Markdown object>"
      ]
     },
     "metadata": {},
     "output_type": "display_data"
    },
    {
     "data": {
      "text/markdown": [
       "**actual**: Prediction(  \n",
       "    answer='two'  \n",
       ")"
      ],
      "text/plain": [
       "<IPython.core.display.Markdown object>"
      ]
     },
     "metadata": {},
     "output_type": "display_data"
    },
    {
     "name": "stdout",
     "output_type": "stream",
     "text": [
      "\n",
      "Average Metric: 1.00 / 1 (100.0%):  33%|███▎      | 1/3 [00:00<00:01,  1.48it/s]\n"
     ]
    },
    {
     "data": {
      "text/markdown": [
       "**expected**: Example({'number_guess': '1', 'answer': 'one'}) (input_keys={'number_guess'})"
      ],
      "text/plain": [
       "<IPython.core.display.Markdown object>"
      ]
     },
     "metadata": {},
     "output_type": "display_data"
    },
    {
     "data": {
      "text/markdown": [
       "**actual**: Prediction(  \n",
       "    answer='one'  \n",
       ")"
      ],
      "text/plain": [
       "<IPython.core.display.Markdown object>"
      ]
     },
     "metadata": {},
     "output_type": "display_data"
    },
    {
     "name": "stdout",
     "output_type": "stream",
     "text": [
      "\n",
      "Average Metric: 1.00 / 2 (50.0%):  67%|██████▋   | 2/3 [00:00<00:00,  2.80it/s] \n"
     ]
    },
    {
     "data": {
      "text/markdown": [
       "**expected**: Example({'number_guess': 'two', 'answer': 'two'}) (input_keys={'number_guess'})"
      ],
      "text/plain": [
       "<IPython.core.display.Markdown object>"
      ]
     },
     "metadata": {},
     "output_type": "display_data"
    },
    {
     "data": {
      "text/markdown": [
       "**actual**: Prediction(  \n",
       "    answer='two'  \n",
       ")"
      ],
      "text/plain": [
       "<IPython.core.display.Markdown object>"
      ]
     },
     "metadata": {},
     "output_type": "display_data"
    },
    {
     "name": "stdout",
     "output_type": "stream",
     "text": [
      "\n",
      "Average Metric: 2.00 / 3 (66.7%): 100%|██████████| 3/3 [00:00<00:00,  3.09it/s]"
     ]
    },
    {
     "name": "stderr",
     "output_type": "stream",
     "text": [
      "2025/09/03 17:02:31 INFO dspy.evaluate.evaluate: Average Metric: 2 / 3 (66.7%)\n",
      "2025/09/03 17:02:31 INFO dspy.teleprompt.mipro_optimizer_v2: Score: 66.67 with parameters ['Predictor 0: Instruction 0', 'Predictor 0: Few-Shot Set 12'].\n",
      "2025/09/03 17:02:31 INFO dspy.teleprompt.mipro_optimizer_v2: Scores so far: [66.67, 66.67, 66.67, 66.67, 66.67, 66.67, 66.67, 66.67, 66.67]\n",
      "2025/09/03 17:02:31 INFO dspy.teleprompt.mipro_optimizer_v2: Best score so far: 66.67\n",
      "2025/09/03 17:02:31 INFO dspy.teleprompt.mipro_optimizer_v2: ========================\n",
      "\n",
      "\n",
      "2025/09/03 17:02:31 INFO dspy.teleprompt.mipro_optimizer_v2: ===== Trial 10 / 27 =====\n"
     ]
    },
    {
     "name": "stdout",
     "output_type": "stream",
     "text": [
      "\n",
      "  0%|          | 0/3 [00:00<?, ?it/s]\n"
     ]
    },
    {
     "data": {
      "text/markdown": [
       "**expected**: Example({'number_guess': '1', 'answer': 'one'}) (input_keys={'number_guess'})"
      ],
      "text/plain": [
       "<IPython.core.display.Markdown object>"
      ]
     },
     "metadata": {},
     "output_type": "display_data"
    },
    {
     "data": {
      "text/markdown": [
       "**actual**: Prediction(  \n",
       "    answer='one'  \n",
       ")"
      ],
      "text/plain": [
       "<IPython.core.display.Markdown object>"
      ]
     },
     "metadata": {},
     "output_type": "display_data"
    },
    {
     "name": "stdout",
     "output_type": "stream",
     "text": [
      "\n",
      "Average Metric: 0.00 / 1 (0.0%):  33%|███▎      | 1/3 [00:00<00:01,  1.21it/s]\n"
     ]
    },
    {
     "data": {
      "text/markdown": [
       "**expected**: Example({'number_guess': '2', 'answer': 'two'}) (input_keys={'number_guess'})"
      ],
      "text/plain": [
       "<IPython.core.display.Markdown object>"
      ]
     },
     "metadata": {},
     "output_type": "display_data"
    },
    {
     "data": {
      "text/markdown": [
       "**actual**: Prediction(  \n",
       "    answer='two'  \n",
       ")"
      ],
      "text/plain": [
       "<IPython.core.display.Markdown object>"
      ]
     },
     "metadata": {},
     "output_type": "display_data"
    },
    {
     "name": "stdout",
     "output_type": "stream",
     "text": [
      "\n",
      "Average Metric: 1.00 / 2 (50.0%):  33%|███▎      | 1/3 [00:00<00:01,  1.21it/s]\n"
     ]
    },
    {
     "data": {
      "text/markdown": [
       "**expected**: Example({'number_guess': 'two', 'answer': 'two'}) (input_keys={'number_guess'})"
      ],
      "text/plain": [
       "<IPython.core.display.Markdown object>"
      ]
     },
     "metadata": {},
     "output_type": "display_data"
    },
    {
     "data": {
      "text/markdown": [
       "**actual**: Prediction(  \n",
       "    answer='two'  \n",
       ")"
      ],
      "text/plain": [
       "<IPython.core.display.Markdown object>"
      ]
     },
     "metadata": {},
     "output_type": "display_data"
    },
    {
     "name": "stdout",
     "output_type": "stream",
     "text": [
      "\n",
      "Average Metric: 2.00 / 3 (66.7%): 100%|██████████| 3/3 [00:00<00:00,  3.38it/s]"
     ]
    },
    {
     "name": "stderr",
     "output_type": "stream",
     "text": [
      "2025/09/03 17:02:32 INFO dspy.evaluate.evaluate: Average Metric: 2 / 3 (66.7%)\n",
      "2025/09/03 17:02:32 INFO dspy.teleprompt.mipro_optimizer_v2: Score: 66.67 with parameters ['Predictor 0: Instruction 8', 'Predictor 0: Few-Shot Set 10'].\n",
      "2025/09/03 17:02:32 INFO dspy.teleprompt.mipro_optimizer_v2: Scores so far: [66.67, 66.67, 66.67, 66.67, 66.67, 66.67, 66.67, 66.67, 66.67, 66.67]\n",
      "2025/09/03 17:02:32 INFO dspy.teleprompt.mipro_optimizer_v2: Best score so far: 66.67\n",
      "2025/09/03 17:02:32 INFO dspy.teleprompt.mipro_optimizer_v2: =========================\n",
      "\n",
      "\n",
      "2025/09/03 17:02:32 INFO dspy.teleprompt.mipro_optimizer_v2: ===== Trial 11 / 27 =====\n"
     ]
    },
    {
     "name": "stdout",
     "output_type": "stream",
     "text": [
      "\n",
      "  0%|          | 0/3 [00:00<?, ?it/s]\n"
     ]
    },
    {
     "data": {
      "text/markdown": [
       "**expected**: Example({'number_guess': '1', 'answer': 'one'}) (input_keys={'number_guess'})"
      ],
      "text/plain": [
       "<IPython.core.display.Markdown object>"
      ]
     },
     "metadata": {},
     "output_type": "display_data"
    },
    {
     "data": {
      "text/markdown": [
       "**actual**: Prediction(  \n",
       "    answer='one'  \n",
       ")"
      ],
      "text/plain": [
       "<IPython.core.display.Markdown object>"
      ]
     },
     "metadata": {},
     "output_type": "display_data"
    },
    {
     "name": "stdout",
     "output_type": "stream",
     "text": [
      "\n",
      "Average Metric: 0.00 / 1 (0.0%):  33%|███▎      | 1/3 [00:00<00:01,  1.03it/s]\n"
     ]
    },
    {
     "data": {
      "text/markdown": [
       "**expected**: Example({'number_guess': '2', 'answer': 'two'}) (input_keys={'number_guess'})"
      ],
      "text/plain": [
       "<IPython.core.display.Markdown object>"
      ]
     },
     "metadata": {},
     "output_type": "display_data"
    },
    {
     "data": {
      "text/markdown": [
       "**actual**: Prediction(  \n",
       "    answer='two'  \n",
       ")"
      ],
      "text/plain": [
       "<IPython.core.display.Markdown object>"
      ]
     },
     "metadata": {},
     "output_type": "display_data"
    },
    {
     "name": "stdout",
     "output_type": "stream",
     "text": [
      "\n",
      "Average Metric: 1.00 / 2 (50.0%):  67%|██████▋   | 2/3 [00:01<00:00,  2.02it/s]\n"
     ]
    },
    {
     "data": {
      "text/markdown": [
       "**expected**: Example({'number_guess': 'two', 'answer': 'two'}) (input_keys={'number_guess'})"
      ],
      "text/plain": [
       "<IPython.core.display.Markdown object>"
      ]
     },
     "metadata": {},
     "output_type": "display_data"
    },
    {
     "data": {
      "text/markdown": [
       "**actual**: Prediction(  \n",
       "    answer='two'  \n",
       ")"
      ],
      "text/plain": [
       "<IPython.core.display.Markdown object>"
      ]
     },
     "metadata": {},
     "output_type": "display_data"
    },
    {
     "name": "stdout",
     "output_type": "stream",
     "text": [
      "\n",
      "Average Metric: 2.00 / 3 (66.7%): 100%|██████████| 3/3 [00:01<00:00,  2.41it/s]"
     ]
    },
    {
     "name": "stderr",
     "output_type": "stream",
     "text": [
      "2025/09/03 17:02:33 INFO dspy.evaluate.evaluate: Average Metric: 2 / 3 (66.7%)\n",
      "2025/09/03 17:02:33 INFO dspy.teleprompt.mipro_optimizer_v2: Score: 66.67 with parameters ['Predictor 0: Instruction 3', 'Predictor 0: Few-Shot Set 8'].\n",
      "2025/09/03 17:02:33 INFO dspy.teleprompt.mipro_optimizer_v2: Scores so far: [66.67, 66.67, 66.67, 66.67, 66.67, 66.67, 66.67, 66.67, 66.67, 66.67, 66.67]\n",
      "2025/09/03 17:02:33 INFO dspy.teleprompt.mipro_optimizer_v2: Best score so far: 66.67\n",
      "2025/09/03 17:02:33 INFO dspy.teleprompt.mipro_optimizer_v2: =========================\n",
      "\n",
      "\n",
      "2025/09/03 17:02:33 INFO dspy.teleprompt.mipro_optimizer_v2: ===== Trial 12 / 27 =====\n"
     ]
    },
    {
     "name": "stdout",
     "output_type": "stream",
     "text": [
      "\n",
      "  0%|          | 0/3 [00:00<?, ?it/s]\n"
     ]
    },
    {
     "data": {
      "text/markdown": [
       "**expected**: Example({'number_guess': 'two', 'answer': 'two'}) (input_keys={'number_guess'})"
      ],
      "text/plain": [
       "<IPython.core.display.Markdown object>"
      ]
     },
     "metadata": {},
     "output_type": "display_data"
    },
    {
     "data": {
      "text/markdown": [
       "**actual**: Prediction(  \n",
       "    answer='two'  \n",
       ")"
      ],
      "text/plain": [
       "<IPython.core.display.Markdown object>"
      ]
     },
     "metadata": {},
     "output_type": "display_data"
    },
    {
     "name": "stdout",
     "output_type": "stream",
     "text": [
      "\n",
      "Average Metric: 1.00 / 1 (100.0%):  33%|███▎      | 1/3 [00:00<00:01,  1.44it/s]\n"
     ]
    },
    {
     "data": {
      "text/markdown": [
       "**expected**: Example({'number_guess': '1', 'answer': 'one'}) (input_keys={'number_guess'})"
      ],
      "text/plain": [
       "<IPython.core.display.Markdown object>"
      ]
     },
     "metadata": {},
     "output_type": "display_data"
    },
    {
     "data": {
      "text/markdown": [
       "**actual**: Prediction(  \n",
       "    answer='one'  \n",
       ")"
      ],
      "text/plain": [
       "<IPython.core.display.Markdown object>"
      ]
     },
     "metadata": {},
     "output_type": "display_data"
    },
    {
     "name": "stdout",
     "output_type": "stream",
     "text": [
      "\n",
      "Average Metric: 1.00 / 2 (50.0%):  33%|███▎      | 1/3 [00:00<00:01,  1.44it/s] \n"
     ]
    },
    {
     "data": {
      "text/markdown": [
       "**expected**: Example({'number_guess': '2', 'answer': 'two'}) (input_keys={'number_guess'})"
      ],
      "text/plain": [
       "<IPython.core.display.Markdown object>"
      ]
     },
     "metadata": {},
     "output_type": "display_data"
    },
    {
     "data": {
      "text/markdown": [
       "**actual**: Prediction(  \n",
       "    answer='two'  \n",
       ")"
      ],
      "text/plain": [
       "<IPython.core.display.Markdown object>"
      ]
     },
     "metadata": {},
     "output_type": "display_data"
    },
    {
     "name": "stdout",
     "output_type": "stream",
     "text": [
      "\n",
      "Average Metric: 2.00 / 3 (66.7%): 100%|██████████| 3/3 [00:00<00:00,  3.26it/s]"
     ]
    },
    {
     "name": "stderr",
     "output_type": "stream",
     "text": [
      "2025/09/03 17:02:34 INFO dspy.evaluate.evaluate: Average Metric: 2 / 3 (66.7%)\n",
      "2025/09/03 17:02:34 INFO dspy.teleprompt.mipro_optimizer_v2: Score: 66.67 with parameters ['Predictor 0: Instruction 7', 'Predictor 0: Few-Shot Set 0'].\n",
      "2025/09/03 17:02:34 INFO dspy.teleprompt.mipro_optimizer_v2: Scores so far: [66.67, 66.67, 66.67, 66.67, 66.67, 66.67, 66.67, 66.67, 66.67, 66.67, 66.67, 66.67]\n",
      "2025/09/03 17:02:34 INFO dspy.teleprompt.mipro_optimizer_v2: Best score so far: 66.67\n",
      "2025/09/03 17:02:34 INFO dspy.teleprompt.mipro_optimizer_v2: =========================\n",
      "\n",
      "\n",
      "2025/09/03 17:02:34 INFO dspy.teleprompt.mipro_optimizer_v2: ===== Trial 13 / 27 =====\n"
     ]
    },
    {
     "name": "stdout",
     "output_type": "stream",
     "text": [
      "\n",
      "  0%|          | 0/3 [00:00<?, ?it/s]\n"
     ]
    },
    {
     "data": {
      "text/markdown": [
       "**expected**: Example({'number_guess': 'two', 'answer': 'two'}) (input_keys={'number_guess'})"
      ],
      "text/plain": [
       "<IPython.core.display.Markdown object>"
      ]
     },
     "metadata": {},
     "output_type": "display_data"
    },
    {
     "data": {
      "text/markdown": [
       "**actual**: Prediction(  \n",
       "    answer='two'  \n",
       ")"
      ],
      "text/plain": [
       "<IPython.core.display.Markdown object>"
      ]
     },
     "metadata": {},
     "output_type": "display_data"
    },
    {
     "name": "stdout",
     "output_type": "stream",
     "text": [
      "\n",
      "Average Metric: 1.00 / 1 (100.0%):  33%|███▎      | 1/3 [00:00<00:01,  1.38it/s]\n"
     ]
    },
    {
     "data": {
      "text/markdown": [
       "**expected**: Example({'number_guess': '2', 'answer': 'two'}) (input_keys={'number_guess'})"
      ],
      "text/plain": [
       "<IPython.core.display.Markdown object>"
      ]
     },
     "metadata": {},
     "output_type": "display_data"
    },
    {
     "data": {
      "text/markdown": [
       "**actual**: Prediction(  \n",
       "    answer='two'  \n",
       ")"
      ],
      "text/plain": [
       "<IPython.core.display.Markdown object>"
      ]
     },
     "metadata": {},
     "output_type": "display_data"
    },
    {
     "name": "stdout",
     "output_type": "stream",
     "text": [
      "\n",
      "Average Metric: 2.00 / 2 (100.0%):  67%|██████▋   | 2/3 [00:00<00:00,  2.27it/s]\n"
     ]
    },
    {
     "data": {
      "text/markdown": [
       "**expected**: Example({'number_guess': '1', 'answer': 'one'}) (input_keys={'number_guess'})"
      ],
      "text/plain": [
       "<IPython.core.display.Markdown object>"
      ]
     },
     "metadata": {},
     "output_type": "display_data"
    },
    {
     "data": {
      "text/markdown": [
       "**actual**: Prediction(  \n",
       "    answer='one'  \n",
       ")"
      ],
      "text/plain": [
       "<IPython.core.display.Markdown object>"
      ]
     },
     "metadata": {},
     "output_type": "display_data"
    },
    {
     "name": "stdout",
     "output_type": "stream",
     "text": [
      "\n",
      "Average Metric: 2.00 / 3 (66.7%): 100%|██████████| 3/3 [00:00<00:00,  3.02it/s] "
     ]
    },
    {
     "name": "stderr",
     "output_type": "stream",
     "text": [
      "2025/09/03 17:02:35 INFO dspy.evaluate.evaluate: Average Metric: 2 / 3 (66.7%)\n",
      "2025/09/03 17:02:35 INFO dspy.teleprompt.mipro_optimizer_v2: Score: 66.67 with parameters ['Predictor 0: Instruction 1', 'Predictor 0: Few-Shot Set 15'].\n",
      "2025/09/03 17:02:35 INFO dspy.teleprompt.mipro_optimizer_v2: Scores so far: [66.67, 66.67, 66.67, 66.67, 66.67, 66.67, 66.67, 66.67, 66.67, 66.67, 66.67, 66.67, 66.67]\n",
      "2025/09/03 17:02:35 INFO dspy.teleprompt.mipro_optimizer_v2: Best score so far: 66.67\n",
      "2025/09/03 17:02:35 INFO dspy.teleprompt.mipro_optimizer_v2: =========================\n",
      "\n",
      "\n",
      "2025/09/03 17:02:35 INFO dspy.teleprompt.mipro_optimizer_v2: ===== Trial 14 / 27 =====\n"
     ]
    },
    {
     "name": "stdout",
     "output_type": "stream",
     "text": [
      "\n",
      "  0%|          | 0/3 [00:00<?, ?it/s]\n"
     ]
    },
    {
     "data": {
      "text/markdown": [
       "**expected**: Example({'number_guess': '2', 'answer': 'two'}) (input_keys={'number_guess'})"
      ],
      "text/plain": [
       "<IPython.core.display.Markdown object>"
      ]
     },
     "metadata": {},
     "output_type": "display_data"
    },
    {
     "data": {
      "text/markdown": [
       "**actual**: Prediction(  \n",
       "    answer='two'  \n",
       ")"
      ],
      "text/plain": [
       "<IPython.core.display.Markdown object>"
      ]
     },
     "metadata": {},
     "output_type": "display_data"
    },
    {
     "name": "stdout",
     "output_type": "stream",
     "text": [
      "\n",
      "Average Metric: 1.00 / 1 (100.0%):  33%|███▎      | 1/3 [00:00<00:01,  1.52it/s]\n"
     ]
    },
    {
     "data": {
      "text/markdown": [
       "**expected**: Example({'number_guess': 'two', 'answer': 'two'}) (input_keys={'number_guess'})"
      ],
      "text/plain": [
       "<IPython.core.display.Markdown object>"
      ]
     },
     "metadata": {},
     "output_type": "display_data"
    },
    {
     "data": {
      "text/markdown": [
       "**actual**: Prediction(  \n",
       "    answer='two'  \n",
       ")"
      ],
      "text/plain": [
       "<IPython.core.display.Markdown object>"
      ]
     },
     "metadata": {},
     "output_type": "display_data"
    },
    {
     "name": "stdout",
     "output_type": "stream",
     "text": [
      "\n",
      "Average Metric: 2.00 / 2 (100.0%):  33%|███▎      | 1/3 [00:00<00:01,  1.52it/s]\n"
     ]
    },
    {
     "data": {
      "text/markdown": [
       "**expected**: Example({'number_guess': '1', 'answer': 'one'}) (input_keys={'number_guess'})"
      ],
      "text/plain": [
       "<IPython.core.display.Markdown object>"
      ]
     },
     "metadata": {},
     "output_type": "display_data"
    },
    {
     "data": {
      "text/markdown": [
       "**actual**: Prediction(  \n",
       "    answer='one'  \n",
       ")"
      ],
      "text/plain": [
       "<IPython.core.display.Markdown object>"
      ]
     },
     "metadata": {},
     "output_type": "display_data"
    },
    {
     "name": "stdout",
     "output_type": "stream",
     "text": [
      "\n",
      "Average Metric: 2.00 / 3 (66.7%): 100%|██████████| 3/3 [00:00<00:00,  3.06it/s] "
     ]
    },
    {
     "name": "stderr",
     "output_type": "stream",
     "text": [
      "2025/09/03 17:02:36 INFO dspy.evaluate.evaluate: Average Metric: 2 / 3 (66.7%)\n",
      "2025/09/03 17:02:36 INFO dspy.teleprompt.mipro_optimizer_v2: Score: 66.67 with parameters ['Predictor 0: Instruction 1', 'Predictor 0: Few-Shot Set 0'].\n",
      "2025/09/03 17:02:36 INFO dspy.teleprompt.mipro_optimizer_v2: Scores so far: [66.67, 66.67, 66.67, 66.67, 66.67, 66.67, 66.67, 66.67, 66.67, 66.67, 66.67, 66.67, 66.67, 66.67]\n",
      "2025/09/03 17:02:36 INFO dspy.teleprompt.mipro_optimizer_v2: Best score so far: 66.67\n",
      "2025/09/03 17:02:36 INFO dspy.teleprompt.mipro_optimizer_v2: =========================\n",
      "\n",
      "\n",
      "2025/09/03 17:02:36 INFO dspy.teleprompt.mipro_optimizer_v2: ===== Trial 15 / 27 =====\n"
     ]
    },
    {
     "name": "stdout",
     "output_type": "stream",
     "text": [
      "\n",
      "  0%|          | 0/3 [00:00<?, ?it/s]\n"
     ]
    },
    {
     "data": {
      "text/markdown": [
       "**expected**: Example({'number_guess': 'two', 'answer': 'two'}) (input_keys={'number_guess'})"
      ],
      "text/plain": [
       "<IPython.core.display.Markdown object>"
      ]
     },
     "metadata": {},
     "output_type": "display_data"
    },
    {
     "data": {
      "text/markdown": [
       "**actual**: Prediction(  \n",
       "    answer='two'  \n",
       ")"
      ],
      "text/plain": [
       "<IPython.core.display.Markdown object>"
      ]
     },
     "metadata": {},
     "output_type": "display_data"
    },
    {
     "name": "stdout",
     "output_type": "stream",
     "text": [
      "\n",
      "Average Metric: 1.00 / 1 (100.0%):  33%|███▎      | 1/3 [00:00<00:01,  1.32it/s]\n"
     ]
    },
    {
     "data": {
      "text/markdown": [
       "**expected**: Example({'number_guess': '1', 'answer': 'one'}) (input_keys={'number_guess'})"
      ],
      "text/plain": [
       "<IPython.core.display.Markdown object>"
      ]
     },
     "metadata": {},
     "output_type": "display_data"
    },
    {
     "data": {
      "text/markdown": [
       "**actual**: Prediction(  \n",
       "    answer='one'  \n",
       ")"
      ],
      "text/plain": [
       "<IPython.core.display.Markdown object>"
      ]
     },
     "metadata": {},
     "output_type": "display_data"
    },
    {
     "name": "stdout",
     "output_type": "stream",
     "text": [
      "\n",
      "Average Metric: 1.00 / 2 (50.0%):  67%|██████▋   | 2/3 [00:00<00:00,  2.67it/s] \n"
     ]
    },
    {
     "data": {
      "text/markdown": [
       "**expected**: Example({'number_guess': '2', 'answer': 'two'}) (input_keys={'number_guess'})"
      ],
      "text/plain": [
       "<IPython.core.display.Markdown object>"
      ]
     },
     "metadata": {},
     "output_type": "display_data"
    },
    {
     "data": {
      "text/markdown": [
       "**actual**: Prediction(  \n",
       "    answer='two'  \n",
       ")"
      ],
      "text/plain": [
       "<IPython.core.display.Markdown object>"
      ]
     },
     "metadata": {},
     "output_type": "display_data"
    },
    {
     "name": "stdout",
     "output_type": "stream",
     "text": [
      "\n",
      "Average Metric: 2.00 / 3 (66.7%): 100%|██████████| 3/3 [00:01<00:00,  1.74it/s]"
     ]
    },
    {
     "name": "stderr",
     "output_type": "stream",
     "text": [
      "2025/09/03 17:02:38 INFO dspy.evaluate.evaluate: Average Metric: 2 / 3 (66.7%)\n",
      "2025/09/03 17:02:38 INFO dspy.teleprompt.mipro_optimizer_v2: Score: 66.67 with parameters ['Predictor 0: Instruction 7', 'Predictor 0: Few-Shot Set 17'].\n",
      "2025/09/03 17:02:38 INFO dspy.teleprompt.mipro_optimizer_v2: Scores so far: [66.67, 66.67, 66.67, 66.67, 66.67, 66.67, 66.67, 66.67, 66.67, 66.67, 66.67, 66.67, 66.67, 66.67, 66.67]\n",
      "2025/09/03 17:02:38 INFO dspy.teleprompt.mipro_optimizer_v2: Best score so far: 66.67\n",
      "2025/09/03 17:02:38 INFO dspy.teleprompt.mipro_optimizer_v2: =========================\n",
      "\n",
      "\n",
      "2025/09/03 17:02:38 INFO dspy.teleprompt.mipro_optimizer_v2: ===== Trial 16 / 27 =====\n"
     ]
    },
    {
     "name": "stdout",
     "output_type": "stream",
     "text": [
      "\n",
      "  0%|          | 0/3 [00:00<?, ?it/s]\n"
     ]
    },
    {
     "data": {
      "text/markdown": [
       "**expected**: Example({'number_guess': '2', 'answer': 'two'}) (input_keys={'number_guess'})"
      ],
      "text/plain": [
       "<IPython.core.display.Markdown object>"
      ]
     },
     "metadata": {},
     "output_type": "display_data"
    },
    {
     "data": {
      "text/markdown": [
       "**actual**: Prediction(  \n",
       "    answer='two'  \n",
       ")"
      ],
      "text/plain": [
       "<IPython.core.display.Markdown object>"
      ]
     },
     "metadata": {},
     "output_type": "display_data"
    },
    {
     "name": "stdout",
     "output_type": "stream",
     "text": [
      "\n",
      "Average Metric: 1.00 / 1 (100.0%):  33%|███▎      | 1/3 [00:00<00:01,  1.27it/s]\n"
     ]
    },
    {
     "data": {
      "text/markdown": [
       "**expected**: Example({'number_guess': '1', 'answer': 'one'}) (input_keys={'number_guess'})"
      ],
      "text/plain": [
       "<IPython.core.display.Markdown object>"
      ]
     },
     "metadata": {},
     "output_type": "display_data"
    },
    {
     "data": {
      "text/markdown": [
       "**actual**: Prediction(  \n",
       "    answer='one'  \n",
       ")"
      ],
      "text/plain": [
       "<IPython.core.display.Markdown object>"
      ]
     },
     "metadata": {},
     "output_type": "display_data"
    },
    {
     "name": "stdout",
     "output_type": "stream",
     "text": [
      "\n",
      "Average Metric: 1.00 / 2 (50.0%):  33%|███▎      | 1/3 [00:00<00:01,  1.27it/s] \n"
     ]
    },
    {
     "data": {
      "text/markdown": [
       "**expected**: Example({'number_guess': 'two', 'answer': 'two'}) (input_keys={'number_guess'})"
      ],
      "text/plain": [
       "<IPython.core.display.Markdown object>"
      ]
     },
     "metadata": {},
     "output_type": "display_data"
    },
    {
     "data": {
      "text/markdown": [
       "**actual**: Prediction(  \n",
       "    answer='two'  \n",
       ")"
      ],
      "text/plain": [
       "<IPython.core.display.Markdown object>"
      ]
     },
     "metadata": {},
     "output_type": "display_data"
    },
    {
     "name": "stdout",
     "output_type": "stream",
     "text": [
      "\n",
      "Average Metric: 2.00 / 3 (66.7%): 100%|██████████| 3/3 [00:01<00:00,  2.66it/s]"
     ]
    },
    {
     "name": "stderr",
     "output_type": "stream",
     "text": [
      "2025/09/03 17:02:39 INFO dspy.evaluate.evaluate: Average Metric: 2 / 3 (66.7%)\n",
      "2025/09/03 17:02:39 INFO dspy.teleprompt.mipro_optimizer_v2: Score: 66.67 with parameters ['Predictor 0: Instruction 6', 'Predictor 0: Few-Shot Set 17'].\n",
      "2025/09/03 17:02:39 INFO dspy.teleprompt.mipro_optimizer_v2: Scores so far: [66.67, 66.67, 66.67, 66.67, 66.67, 66.67, 66.67, 66.67, 66.67, 66.67, 66.67, 66.67, 66.67, 66.67, 66.67, 66.67]\n",
      "2025/09/03 17:02:39 INFO dspy.teleprompt.mipro_optimizer_v2: Best score so far: 66.67\n",
      "2025/09/03 17:02:39 INFO dspy.teleprompt.mipro_optimizer_v2: =========================\n",
      "\n",
      "\n",
      "2025/09/03 17:02:39 INFO dspy.teleprompt.mipro_optimizer_v2: ===== Trial 17 / 27 =====\n"
     ]
    },
    {
     "name": "stdout",
     "output_type": "stream",
     "text": [
      "\n",
      "  0%|          | 0/3 [00:00<?, ?it/s]\n"
     ]
    },
    {
     "data": {
      "text/markdown": [
       "**expected**: Example({'number_guess': '2', 'answer': 'two'}) (input_keys={'number_guess'})"
      ],
      "text/plain": [
       "<IPython.core.display.Markdown object>"
      ]
     },
     "metadata": {},
     "output_type": "display_data"
    },
    {
     "data": {
      "text/markdown": [
       "**actual**: Prediction(  \n",
       "    answer='two'  \n",
       ")"
      ],
      "text/plain": [
       "<IPython.core.display.Markdown object>"
      ]
     },
     "metadata": {},
     "output_type": "display_data"
    },
    {
     "name": "stdout",
     "output_type": "stream",
     "text": [
      "\n",
      "Average Metric: 1.00 / 1 (100.0%):  33%|███▎      | 1/3 [00:00<00:01,  1.61it/s]\n"
     ]
    },
    {
     "data": {
      "text/markdown": [
       "**expected**: Example({'number_guess': 'two', 'answer': 'two'}) (input_keys={'number_guess'})"
      ],
      "text/plain": [
       "<IPython.core.display.Markdown object>"
      ]
     },
     "metadata": {},
     "output_type": "display_data"
    },
    {
     "data": {
      "text/markdown": [
       "**actual**: Prediction(  \n",
       "    answer='two'  \n",
       ")"
      ],
      "text/plain": [
       "<IPython.core.display.Markdown object>"
      ]
     },
     "metadata": {},
     "output_type": "display_data"
    },
    {
     "name": "stdout",
     "output_type": "stream",
     "text": [
      "\n",
      "Average Metric: 2.00 / 2 (100.0%):  33%|███▎      | 1/3 [00:00<00:01,  1.61it/s]\n"
     ]
    },
    {
     "data": {
      "text/markdown": [
       "**expected**: Example({'number_guess': '1', 'answer': 'one'}) (input_keys={'number_guess'})"
      ],
      "text/plain": [
       "<IPython.core.display.Markdown object>"
      ]
     },
     "metadata": {},
     "output_type": "display_data"
    },
    {
     "data": {
      "text/markdown": [
       "**actual**: Prediction(  \n",
       "    answer='one'  \n",
       ")"
      ],
      "text/plain": [
       "<IPython.core.display.Markdown object>"
      ]
     },
     "metadata": {},
     "output_type": "display_data"
    },
    {
     "name": "stdout",
     "output_type": "stream",
     "text": [
      "\n",
      "Average Metric: 2.00 / 3 (66.7%): 100%|██████████| 3/3 [00:01<00:00,  1.82it/s] "
     ]
    },
    {
     "name": "stderr",
     "output_type": "stream",
     "text": [
      "2025/09/03 17:02:41 INFO dspy.evaluate.evaluate: Average Metric: 2 / 3 (66.7%)\n",
      "2025/09/03 17:02:41 INFO dspy.teleprompt.mipro_optimizer_v2: Score: 66.67 with parameters ['Predictor 0: Instruction 1', 'Predictor 0: Few-Shot Set 17'].\n",
      "2025/09/03 17:02:41 INFO dspy.teleprompt.mipro_optimizer_v2: Scores so far: [66.67, 66.67, 66.67, 66.67, 66.67, 66.67, 66.67, 66.67, 66.67, 66.67, 66.67, 66.67, 66.67, 66.67, 66.67, 66.67, 66.67]\n",
      "2025/09/03 17:02:41 INFO dspy.teleprompt.mipro_optimizer_v2: Best score so far: 66.67\n",
      "2025/09/03 17:02:41 INFO dspy.teleprompt.mipro_optimizer_v2: =========================\n",
      "\n",
      "\n",
      "2025/09/03 17:02:41 INFO dspy.teleprompt.mipro_optimizer_v2: ===== Trial 18 / 27 =====\n"
     ]
    },
    {
     "name": "stdout",
     "output_type": "stream",
     "text": [
      "\n",
      "  0%|          | 0/3 [00:00<?, ?it/s]\n"
     ]
    },
    {
     "data": {
      "text/markdown": [
       "**expected**: Example({'number_guess': 'two', 'answer': 'two'}) (input_keys={'number_guess'})"
      ],
      "text/plain": [
       "<IPython.core.display.Markdown object>"
      ]
     },
     "metadata": {},
     "output_type": "display_data"
    },
    {
     "data": {
      "text/markdown": [
       "**actual**: Prediction(  \n",
       "    answer='two'  \n",
       ")"
      ],
      "text/plain": [
       "<IPython.core.display.Markdown object>"
      ]
     },
     "metadata": {},
     "output_type": "display_data"
    },
    {
     "name": "stdout",
     "output_type": "stream",
     "text": [
      "\n",
      "Average Metric: 1.00 / 1 (100.0%):  33%|███▎      | 1/3 [00:00<00:01,  1.39it/s]\n"
     ]
    },
    {
     "data": {
      "text/markdown": [
       "**expected**: Example({'number_guess': '2', 'answer': 'two'}) (input_keys={'number_guess'})"
      ],
      "text/plain": [
       "<IPython.core.display.Markdown object>"
      ]
     },
     "metadata": {},
     "output_type": "display_data"
    },
    {
     "data": {
      "text/markdown": [
       "**actual**: Prediction(  \n",
       "    answer='two'  \n",
       ")"
      ],
      "text/plain": [
       "<IPython.core.display.Markdown object>"
      ]
     },
     "metadata": {},
     "output_type": "display_data"
    },
    {
     "name": "stdout",
     "output_type": "stream",
     "text": [
      "\n",
      "Average Metric: 2.00 / 2 (100.0%):  67%|██████▋   | 2/3 [00:00<00:00,  2.79it/s]\n"
     ]
    },
    {
     "data": {
      "text/markdown": [
       "**expected**: Example({'number_guess': '1', 'answer': 'one'}) (input_keys={'number_guess'})"
      ],
      "text/plain": [
       "<IPython.core.display.Markdown object>"
      ]
     },
     "metadata": {},
     "output_type": "display_data"
    },
    {
     "data": {
      "text/markdown": [
       "**actual**: Prediction(  \n",
       "    answer='one'  \n",
       ")"
      ],
      "text/plain": [
       "<IPython.core.display.Markdown object>"
      ]
     },
     "metadata": {},
     "output_type": "display_data"
    },
    {
     "name": "stdout",
     "output_type": "stream",
     "text": [
      "\n",
      "Average Metric: 2.00 / 3 (66.7%): 100%|██████████| 3/3 [00:00<00:00,  3.31it/s] "
     ]
    },
    {
     "name": "stderr",
     "output_type": "stream",
     "text": [
      "2025/09/03 17:02:42 INFO dspy.evaluate.evaluate: Average Metric: 2 / 3 (66.7%)\n",
      "2025/09/03 17:02:42 INFO dspy.teleprompt.mipro_optimizer_v2: Score: 66.67 with parameters ['Predictor 0: Instruction 4', 'Predictor 0: Few-Shot Set 7'].\n"
     ]
    },
    {
     "name": "stdout",
     "output_type": "stream",
     "text": [
      "\n"
     ]
    },
    {
     "name": "stderr",
     "output_type": "stream",
     "text": [
      "2025/09/03 17:02:42 INFO dspy.teleprompt.mipro_optimizer_v2: Scores so far: [66.67, 66.67, 66.67, 66.67, 66.67, 66.67, 66.67, 66.67, 66.67, 66.67, 66.67, 66.67, 66.67, 66.67, 66.67, 66.67, 66.67, 66.67]\n",
      "2025/09/03 17:02:42 INFO dspy.teleprompt.mipro_optimizer_v2: Best score so far: 66.67\n",
      "2025/09/03 17:02:42 INFO dspy.teleprompt.mipro_optimizer_v2: =========================\n",
      "\n",
      "\n",
      "2025/09/03 17:02:42 INFO dspy.teleprompt.mipro_optimizer_v2: ===== Trial 19 / 27 =====\n"
     ]
    },
    {
     "name": "stdout",
     "output_type": "stream",
     "text": [
      "  0%|          | 0/3 [00:00<?, ?it/s]\n"
     ]
    },
    {
     "data": {
      "text/markdown": [
       "**expected**: Example({'number_guess': '1', 'answer': 'one'}) (input_keys={'number_guess'})"
      ],
      "text/plain": [
       "<IPython.core.display.Markdown object>"
      ]
     },
     "metadata": {},
     "output_type": "display_data"
    },
    {
     "name": "stdout",
     "output_type": "stream",
     "text": [
      "\n"
     ]
    },
    {
     "data": {
      "text/markdown": [
       "**actual**: Prediction(  \n",
       "    answer='one'  \n",
       ")"
      ],
      "text/plain": [
       "<IPython.core.display.Markdown object>"
      ]
     },
     "metadata": {},
     "output_type": "display_data"
    },
    {
     "data": {
      "text/markdown": [
       "**expected**: Example({'number_guess': 'two', 'answer': 'two'}) (input_keys={'number_guess'})"
      ],
      "text/plain": [
       "<IPython.core.display.Markdown object>"
      ]
     },
     "metadata": {},
     "output_type": "display_data"
    },
    {
     "name": "stdout",
     "output_type": "stream",
     "text": [
      "\n",
      "Average Metric: 0.00 / 1 (0.0%):  33%|███▎      | 1/3 [00:00<00:01,  1.55it/s]"
     ]
    },
    {
     "data": {
      "text/markdown": [
       "**actual**: Prediction(  \n",
       "    answer='two'  \n",
       ")"
      ],
      "text/plain": [
       "<IPython.core.display.Markdown object>"
      ]
     },
     "metadata": {},
     "output_type": "display_data"
    },
    {
     "name": "stdout",
     "output_type": "stream",
     "text": [
      "\n",
      "Average Metric: 1.00 / 2 (50.0%):  33%|███▎      | 1/3 [00:00<00:01,  1.55it/s]\n"
     ]
    },
    {
     "data": {
      "text/markdown": [
       "**expected**: Example({'number_guess': '2', 'answer': 'two'}) (input_keys={'number_guess'})"
      ],
      "text/plain": [
       "<IPython.core.display.Markdown object>"
      ]
     },
     "metadata": {},
     "output_type": "display_data"
    },
    {
     "data": {
      "text/markdown": [
       "**actual**: Prediction(  \n",
       "    answer='two'  \n",
       ")"
      ],
      "text/plain": [
       "<IPython.core.display.Markdown object>"
      ]
     },
     "metadata": {},
     "output_type": "display_data"
    },
    {
     "name": "stdout",
     "output_type": "stream",
     "text": [
      "\n",
      "Average Metric: 2.00 / 3 (66.7%): 100%|██████████| 3/3 [00:00<00:00,  3.71it/s]"
     ]
    },
    {
     "name": "stderr",
     "output_type": "stream",
     "text": [
      "2025/09/03 17:02:43 INFO dspy.evaluate.evaluate: Average Metric: 2 / 3 (66.7%)\n",
      "2025/09/03 17:02:43 INFO dspy.teleprompt.mipro_optimizer_v2: Score: 66.67 with parameters ['Predictor 0: Instruction 2', 'Predictor 0: Few-Shot Set 5'].\n",
      "2025/09/03 17:02:43 INFO dspy.teleprompt.mipro_optimizer_v2: Scores so far: [66.67, 66.67, 66.67, 66.67, 66.67, 66.67, 66.67, 66.67, 66.67, 66.67, 66.67, 66.67, 66.67, 66.67, 66.67, 66.67, 66.67, 66.67, 66.67]\n",
      "2025/09/03 17:02:43 INFO dspy.teleprompt.mipro_optimizer_v2: Best score so far: 66.67\n",
      "2025/09/03 17:02:43 INFO dspy.teleprompt.mipro_optimizer_v2: =========================\n",
      "\n",
      "\n",
      "2025/09/03 17:02:43 INFO dspy.teleprompt.mipro_optimizer_v2: ===== Trial 20 / 27 =====\n"
     ]
    },
    {
     "name": "stdout",
     "output_type": "stream",
     "text": [
      "\n",
      "  0%|          | 0/3 [00:00<?, ?it/s]\n"
     ]
    },
    {
     "data": {
      "text/markdown": [
       "**expected**: Example({'number_guess': '2', 'answer': 'two'}) (input_keys={'number_guess'})"
      ],
      "text/plain": [
       "<IPython.core.display.Markdown object>"
      ]
     },
     "metadata": {},
     "output_type": "display_data"
    },
    {
     "data": {
      "text/markdown": [
       "**actual**: Prediction(  \n",
       "    answer='two'  \n",
       ")"
      ],
      "text/plain": [
       "<IPython.core.display.Markdown object>"
      ]
     },
     "metadata": {},
     "output_type": "display_data"
    },
    {
     "name": "stdout",
     "output_type": "stream",
     "text": [
      "\n",
      "Average Metric: 1.00 / 1 (100.0%):  33%|███▎      | 1/3 [00:00<00:01,  1.71it/s]\n"
     ]
    },
    {
     "data": {
      "text/markdown": [
       "**expected**: Example({'number_guess': 'two', 'answer': 'two'}) (input_keys={'number_guess'})"
      ],
      "text/plain": [
       "<IPython.core.display.Markdown object>"
      ]
     },
     "metadata": {},
     "output_type": "display_data"
    },
    {
     "data": {
      "text/markdown": [
       "**actual**: Prediction(  \n",
       "    answer='two'  \n",
       ")"
      ],
      "text/plain": [
       "<IPython.core.display.Markdown object>"
      ]
     },
     "metadata": {},
     "output_type": "display_data"
    },
    {
     "name": "stdout",
     "output_type": "stream",
     "text": [
      "\n",
      "Average Metric: 2.00 / 2 (100.0%):  67%|██████▋   | 2/3 [00:00<00:00,  2.19it/s]\n"
     ]
    },
    {
     "data": {
      "text/markdown": [
       "**expected**: Example({'number_guess': '1', 'answer': 'one'}) (input_keys={'number_guess'})"
      ],
      "text/plain": [
       "<IPython.core.display.Markdown object>"
      ]
     },
     "metadata": {},
     "output_type": "display_data"
    },
    {
     "data": {
      "text/markdown": [
       "**actual**: Prediction(  \n",
       "    answer='one'  \n",
       ")"
      ],
      "text/plain": [
       "<IPython.core.display.Markdown object>"
      ]
     },
     "metadata": {},
     "output_type": "display_data"
    },
    {
     "name": "stdout",
     "output_type": "stream",
     "text": [
      "\n",
      "Average Metric: 2.00 / 3 (66.7%): 100%|██████████| 3/3 [00:00<00:00,  3.01it/s] "
     ]
    },
    {
     "name": "stderr",
     "output_type": "stream",
     "text": [
      "2025/09/03 17:02:44 INFO dspy.evaluate.evaluate: Average Metric: 2 / 3 (66.7%)\n",
      "2025/09/03 17:02:44 INFO dspy.teleprompt.mipro_optimizer_v2: Score: 66.67 with parameters ['Predictor 0: Instruction 4', 'Predictor 0: Few-Shot Set 4'].\n",
      "2025/09/03 17:02:44 INFO dspy.teleprompt.mipro_optimizer_v2: Scores so far: [66.67, 66.67, 66.67, 66.67, 66.67, 66.67, 66.67, 66.67, 66.67, 66.67, 66.67, 66.67, 66.67, 66.67, 66.67, 66.67, 66.67, 66.67, 66.67, 66.67]\n",
      "2025/09/03 17:02:44 INFO dspy.teleprompt.mipro_optimizer_v2: Best score so far: 66.67\n",
      "2025/09/03 17:02:44 INFO dspy.teleprompt.mipro_optimizer_v2: =========================\n",
      "\n",
      "\n",
      "2025/09/03 17:02:44 INFO dspy.teleprompt.mipro_optimizer_v2: ===== Trial 21 / 27 =====\n"
     ]
    },
    {
     "name": "stdout",
     "output_type": "stream",
     "text": [
      "\n",
      "  0%|          | 0/3 [00:00<?, ?it/s]\n"
     ]
    },
    {
     "data": {
      "text/markdown": [
       "**expected**: Example({'number_guess': '1', 'answer': 'one'}) (input_keys={'number_guess'})"
      ],
      "text/plain": [
       "<IPython.core.display.Markdown object>"
      ]
     },
     "metadata": {},
     "output_type": "display_data"
    },
    {
     "data": {
      "text/markdown": [
       "**actual**: Prediction(  \n",
       "    answer='one'  \n",
       ")"
      ],
      "text/plain": [
       "<IPython.core.display.Markdown object>"
      ]
     },
     "metadata": {},
     "output_type": "display_data"
    },
    {
     "name": "stdout",
     "output_type": "stream",
     "text": [
      "\n",
      "Average Metric: 0.00 / 1 (0.0%):   0%|          | 0/3 [00:00<?, ?it/s]\n",
      "Average Metric: 0.00 / 1 (0.0%):  33%|███▎      | 1/3 [00:00<00:01,  1.45it/s]"
     ]
    },
    {
     "data": {
      "text/markdown": [
       "**expected**: Example({'number_guess': 'two', 'answer': 'two'}) (input_keys={'number_guess'})"
      ],
      "text/plain": [
       "<IPython.core.display.Markdown object>"
      ]
     },
     "metadata": {},
     "output_type": "display_data"
    },
    {
     "data": {
      "text/markdown": [
       "**actual**: Prediction(  \n",
       "    answer='two'  \n",
       ")"
      ],
      "text/plain": [
       "<IPython.core.display.Markdown object>"
      ]
     },
     "metadata": {},
     "output_type": "display_data"
    },
    {
     "name": "stdout",
     "output_type": "stream",
     "text": [
      "\n",
      "Average Metric: 1.00 / 2 (50.0%):  33%|███▎      | 1/3 [00:00<00:01,  1.45it/s]\n"
     ]
    },
    {
     "data": {
      "text/markdown": [
       "**expected**: Example({'number_guess': '2', 'answer': 'two'}) (input_keys={'number_guess'})"
      ],
      "text/plain": [
       "<IPython.core.display.Markdown object>"
      ]
     },
     "metadata": {},
     "output_type": "display_data"
    },
    {
     "data": {
      "text/markdown": [
       "**actual**: Prediction(  \n",
       "    answer='two'  \n",
       ")"
      ],
      "text/plain": [
       "<IPython.core.display.Markdown object>"
      ]
     },
     "metadata": {},
     "output_type": "display_data"
    },
    {
     "name": "stdout",
     "output_type": "stream",
     "text": [
      "\n",
      "Average Metric: 2.00 / 3 (66.7%): 100%|██████████| 3/3 [00:01<00:00,  2.17it/s]"
     ]
    },
    {
     "name": "stderr",
     "output_type": "stream",
     "text": [
      "2025/09/03 17:02:45 INFO dspy.evaluate.evaluate: Average Metric: 2 / 3 (66.7%)\n",
      "2025/09/03 17:02:45 INFO dspy.teleprompt.mipro_optimizer_v2: Score: 66.67 with parameters ['Predictor 0: Instruction 0', 'Predictor 0: Few-Shot Set 9'].\n",
      "2025/09/03 17:02:45 INFO dspy.teleprompt.mipro_optimizer_v2: Scores so far: [66.67, 66.67, 66.67, 66.67, 66.67, 66.67, 66.67, 66.67, 66.67, 66.67, 66.67, 66.67, 66.67, 66.67, 66.67, 66.67, 66.67, 66.67, 66.67, 66.67, 66.67]\n",
      "2025/09/03 17:02:45 INFO dspy.teleprompt.mipro_optimizer_v2: Best score so far: 66.67\n",
      "2025/09/03 17:02:45 INFO dspy.teleprompt.mipro_optimizer_v2: =========================\n",
      "\n",
      "\n",
      "2025/09/03 17:02:45 INFO dspy.teleprompt.mipro_optimizer_v2: ===== Trial 22 / 27 =====\n"
     ]
    },
    {
     "name": "stdout",
     "output_type": "stream",
     "text": [
      "\n",
      "  0%|          | 0/3 [00:00<?, ?it/s]\n"
     ]
    },
    {
     "data": {
      "text/markdown": [
       "**expected**: Example({'number_guess': '2', 'answer': 'two'}) (input_keys={'number_guess'})"
      ],
      "text/plain": [
       "<IPython.core.display.Markdown object>"
      ]
     },
     "metadata": {},
     "output_type": "display_data"
    },
    {
     "data": {
      "text/markdown": [
       "**actual**: Prediction(  \n",
       "    answer='two'  \n",
       ")"
      ],
      "text/plain": [
       "<IPython.core.display.Markdown object>"
      ]
     },
     "metadata": {},
     "output_type": "display_data"
    },
    {
     "name": "stdout",
     "output_type": "stream",
     "text": [
      "\n",
      "Average Metric: 1.00 / 1 (100.0%):  33%|███▎      | 1/3 [00:00<00:01,  1.36it/s]\n"
     ]
    },
    {
     "data": {
      "text/markdown": [
       "**expected**: Example({'number_guess': '1', 'answer': 'one'}) (input_keys={'number_guess'})"
      ],
      "text/plain": [
       "<IPython.core.display.Markdown object>"
      ]
     },
     "metadata": {},
     "output_type": "display_data"
    },
    {
     "data": {
      "text/markdown": [
       "**actual**: Prediction(  \n",
       "    answer='one'  \n",
       ")"
      ],
      "text/plain": [
       "<IPython.core.display.Markdown object>"
      ]
     },
     "metadata": {},
     "output_type": "display_data"
    },
    {
     "name": "stdout",
     "output_type": "stream",
     "text": [
      "\n",
      "Average Metric: 1.00 / 2 (50.0%):  67%|██████▋   | 2/3 [00:00<00:00,  2.57it/s] \n"
     ]
    },
    {
     "data": {
      "text/markdown": [
       "**expected**: Example({'number_guess': 'two', 'answer': 'two'}) (input_keys={'number_guess'})"
      ],
      "text/plain": [
       "<IPython.core.display.Markdown object>"
      ]
     },
     "metadata": {},
     "output_type": "display_data"
    },
    {
     "data": {
      "text/markdown": [
       "**actual**: Prediction(  \n",
       "    answer='two'  \n",
       ")"
      ],
      "text/plain": [
       "<IPython.core.display.Markdown object>"
      ]
     },
     "metadata": {},
     "output_type": "display_data"
    },
    {
     "name": "stdout",
     "output_type": "stream",
     "text": [
      "\n",
      "Average Metric: 2.00 / 3 (66.7%): 100%|██████████| 3/3 [00:01<00:00,  2.41it/s]"
     ]
    },
    {
     "name": "stderr",
     "output_type": "stream",
     "text": [
      "2025/09/03 17:02:46 INFO dspy.evaluate.evaluate: Average Metric: 2 / 3 (66.7%)\n",
      "2025/09/03 17:02:46 INFO dspy.teleprompt.mipro_optimizer_v2: Score: 66.67 with parameters ['Predictor 0: Instruction 5', 'Predictor 0: Few-Shot Set 3'].\n",
      "2025/09/03 17:02:46 INFO dspy.teleprompt.mipro_optimizer_v2: Scores so far: [66.67, 66.67, 66.67, 66.67, 66.67, 66.67, 66.67, 66.67, 66.67, 66.67, 66.67, 66.67, 66.67, 66.67, 66.67, 66.67, 66.67, 66.67, 66.67, 66.67, 66.67, 66.67]\n",
      "2025/09/03 17:02:46 INFO dspy.teleprompt.mipro_optimizer_v2: Best score so far: 66.67\n",
      "2025/09/03 17:02:46 INFO dspy.teleprompt.mipro_optimizer_v2: =========================\n",
      "\n",
      "\n",
      "2025/09/03 17:02:46 INFO dspy.teleprompt.mipro_optimizer_v2: ===== Trial 23 / 27 =====\n"
     ]
    },
    {
     "name": "stdout",
     "output_type": "stream",
     "text": [
      "\n",
      "  0%|          | 0/3 [00:00<?, ?it/s]\n"
     ]
    },
    {
     "data": {
      "text/markdown": [
       "**expected**: Example({'number_guess': 'two', 'answer': 'two'}) (input_keys={'number_guess'})"
      ],
      "text/plain": [
       "<IPython.core.display.Markdown object>"
      ]
     },
     "metadata": {},
     "output_type": "display_data"
    },
    {
     "data": {
      "text/markdown": [
       "**actual**: Prediction(  \n",
       "    answer='two'  \n",
       ")"
      ],
      "text/plain": [
       "<IPython.core.display.Markdown object>"
      ]
     },
     "metadata": {},
     "output_type": "display_data"
    },
    {
     "name": "stdout",
     "output_type": "stream",
     "text": [
      "\n",
      "Average Metric: 1.00 / 1 (100.0%):  33%|███▎      | 1/3 [00:00<00:01,  1.68it/s]\n"
     ]
    },
    {
     "data": {
      "text/markdown": [
       "**expected**: Example({'number_guess': '2', 'answer': 'two'}) (input_keys={'number_guess'})"
      ],
      "text/plain": [
       "<IPython.core.display.Markdown object>"
      ]
     },
     "metadata": {},
     "output_type": "display_data"
    },
    {
     "data": {
      "text/markdown": [
       "**actual**: Prediction(  \n",
       "    answer='two'  \n",
       ")"
      ],
      "text/plain": [
       "<IPython.core.display.Markdown object>"
      ]
     },
     "metadata": {},
     "output_type": "display_data"
    },
    {
     "name": "stdout",
     "output_type": "stream",
     "text": [
      "\n",
      "Average Metric: 2.00 / 2 (100.0%):  67%|██████▋   | 2/3 [00:00<00:00,  2.74it/s]\n"
     ]
    },
    {
     "data": {
      "text/markdown": [
       "**expected**: Example({'number_guess': '1', 'answer': 'one'}) (input_keys={'number_guess'})"
      ],
      "text/plain": [
       "<IPython.core.display.Markdown object>"
      ]
     },
     "metadata": {},
     "output_type": "display_data"
    },
    {
     "data": {
      "text/markdown": [
       "**actual**: Prediction(  \n",
       "    answer='one'  \n",
       ")"
      ],
      "text/plain": [
       "<IPython.core.display.Markdown object>"
      ]
     },
     "metadata": {},
     "output_type": "display_data"
    },
    {
     "name": "stdout",
     "output_type": "stream",
     "text": [
      "\n",
      "Average Metric: 2.00 / 3 (66.7%): 100%|██████████| 3/3 [00:01<00:00,  2.95it/s] "
     ]
    },
    {
     "name": "stderr",
     "output_type": "stream",
     "text": [
      "2025/09/03 17:02:48 INFO dspy.evaluate.evaluate: Average Metric: 2 / 3 (66.7%)\n",
      "2025/09/03 17:02:48 INFO dspy.teleprompt.mipro_optimizer_v2: Score: 66.67 with parameters ['Predictor 0: Instruction 1', 'Predictor 0: Few-Shot Set 11'].\n",
      "2025/09/03 17:02:48 INFO dspy.teleprompt.mipro_optimizer_v2: Scores so far: [66.67, 66.67, 66.67, 66.67, 66.67, 66.67, 66.67, 66.67, 66.67, 66.67, 66.67, 66.67, 66.67, 66.67, 66.67, 66.67, 66.67, 66.67, 66.67, 66.67, 66.67, 66.67, 66.67]\n",
      "2025/09/03 17:02:48 INFO dspy.teleprompt.mipro_optimizer_v2: Best score so far: 66.67\n",
      "2025/09/03 17:02:48 INFO dspy.teleprompt.mipro_optimizer_v2: =========================\n",
      "\n",
      "\n",
      "2025/09/03 17:02:48 INFO dspy.teleprompt.mipro_optimizer_v2: ===== Trial 24 / 27 =====\n"
     ]
    },
    {
     "name": "stdout",
     "output_type": "stream",
     "text": [
      "\n",
      "  0%|          | 0/3 [00:00<?, ?it/s]\n"
     ]
    },
    {
     "data": {
      "text/markdown": [
       "**expected**: Example({'number_guess': '1', 'answer': 'one'}) (input_keys={'number_guess'})"
      ],
      "text/plain": [
       "<IPython.core.display.Markdown object>"
      ]
     },
     "metadata": {},
     "output_type": "display_data"
    },
    {
     "data": {
      "text/markdown": [
       "**actual**: Prediction(  \n",
       "    answer='one'  \n",
       ")"
      ],
      "text/plain": [
       "<IPython.core.display.Markdown object>"
      ]
     },
     "metadata": {},
     "output_type": "display_data"
    },
    {
     "name": "stdout",
     "output_type": "stream",
     "text": [
      "\n",
      "Average Metric: 0.00 / 1 (0.0%):  33%|███▎      | 1/3 [00:00<00:01,  1.59it/s]\n"
     ]
    },
    {
     "data": {
      "text/markdown": [
       "**expected**: Example({'number_guess': '2', 'answer': 'two'}) (input_keys={'number_guess'})"
      ],
      "text/plain": [
       "<IPython.core.display.Markdown object>"
      ]
     },
     "metadata": {},
     "output_type": "display_data"
    },
    {
     "data": {
      "text/markdown": [
       "**actual**: Prediction(  \n",
       "    answer='two'  \n",
       ")"
      ],
      "text/plain": [
       "<IPython.core.display.Markdown object>"
      ]
     },
     "metadata": {},
     "output_type": "display_data"
    },
    {
     "name": "stdout",
     "output_type": "stream",
     "text": [
      "\n",
      "Average Metric: 1.00 / 2 (50.0%):  67%|██████▋   | 2/3 [00:00<00:00,  2.48it/s]\n"
     ]
    },
    {
     "data": {
      "text/markdown": [
       "**expected**: Example({'number_guess': 'two', 'answer': 'two'}) (input_keys={'number_guess'})"
      ],
      "text/plain": [
       "<IPython.core.display.Markdown object>"
      ]
     },
     "metadata": {},
     "output_type": "display_data"
    },
    {
     "data": {
      "text/markdown": [
       "**actual**: Prediction(  \n",
       "    answer='two'  \n",
       ")"
      ],
      "text/plain": [
       "<IPython.core.display.Markdown object>"
      ]
     },
     "metadata": {},
     "output_type": "display_data"
    },
    {
     "name": "stdout",
     "output_type": "stream",
     "text": [
      "\n",
      "Average Metric: 2.00 / 3 (66.7%): 100%|██████████| 3/3 [00:00<00:00,  3.05it/s]"
     ]
    },
    {
     "name": "stderr",
     "output_type": "stream",
     "text": [
      "2025/09/03 17:02:49 INFO dspy.evaluate.evaluate: Average Metric: 2 / 3 (66.7%)\n",
      "2025/09/03 17:02:49 INFO dspy.teleprompt.mipro_optimizer_v2: Score: 66.67 with parameters ['Predictor 0: Instruction 5', 'Predictor 0: Few-Shot Set 2'].\n",
      "2025/09/03 17:02:49 INFO dspy.teleprompt.mipro_optimizer_v2: Scores so far: [66.67, 66.67, 66.67, 66.67, 66.67, 66.67, 66.67, 66.67, 66.67, 66.67, 66.67, 66.67, 66.67, 66.67, 66.67, 66.67, 66.67, 66.67, 66.67, 66.67, 66.67, 66.67, 66.67, 66.67]\n",
      "2025/09/03 17:02:49 INFO dspy.teleprompt.mipro_optimizer_v2: Best score so far: 66.67\n",
      "2025/09/03 17:02:49 INFO dspy.teleprompt.mipro_optimizer_v2: =========================\n",
      "\n",
      "\n",
      "2025/09/03 17:02:49 INFO dspy.teleprompt.mipro_optimizer_v2: ===== Trial 25 / 27 =====\n"
     ]
    },
    {
     "name": "stdout",
     "output_type": "stream",
     "text": [
      "\n",
      "  0%|          | 0/3 [00:00<?, ?it/s]\n"
     ]
    },
    {
     "data": {
      "text/markdown": [
       "**expected**: Example({'number_guess': '2', 'answer': 'two'}) (input_keys={'number_guess'})"
      ],
      "text/plain": [
       "<IPython.core.display.Markdown object>"
      ]
     },
     "metadata": {},
     "output_type": "display_data"
    },
    {
     "data": {
      "text/markdown": [
       "**actual**: Prediction(  \n",
       "    answer='two'  \n",
       ")"
      ],
      "text/plain": [
       "<IPython.core.display.Markdown object>"
      ]
     },
     "metadata": {},
     "output_type": "display_data"
    },
    {
     "name": "stdout",
     "output_type": "stream",
     "text": [
      "\n",
      "Average Metric: 1.00 / 1 (100.0%):  33%|███▎      | 1/3 [00:00<00:01,  1.27it/s]\n"
     ]
    },
    {
     "data": {
      "text/markdown": [
       "**expected**: Example({'number_guess': '1', 'answer': 'one'}) (input_keys={'number_guess'})"
      ],
      "text/plain": [
       "<IPython.core.display.Markdown object>"
      ]
     },
     "metadata": {},
     "output_type": "display_data"
    },
    {
     "data": {
      "text/markdown": [
       "**actual**: Prediction(  \n",
       "    answer='one'  \n",
       ")"
      ],
      "text/plain": [
       "<IPython.core.display.Markdown object>"
      ]
     },
     "metadata": {},
     "output_type": "display_data"
    },
    {
     "name": "stdout",
     "output_type": "stream",
     "text": [
      "\n",
      "Average Metric: 1.00 / 2 (50.0%):  67%|██████▋   | 2/3 [00:01<00:00,  2.07it/s] \n"
     ]
    },
    {
     "data": {
      "text/markdown": [
       "**expected**: Example({'number_guess': 'two', 'answer': 'two'}) (input_keys={'number_guess'})"
      ],
      "text/plain": [
       "<IPython.core.display.Markdown object>"
      ]
     },
     "metadata": {},
     "output_type": "display_data"
    },
    {
     "data": {
      "text/markdown": [
       "**actual**: Prediction(  \n",
       "    answer='two'  \n",
       ")"
      ],
      "text/plain": [
       "<IPython.core.display.Markdown object>"
      ]
     },
     "metadata": {},
     "output_type": "display_data"
    },
    {
     "name": "stdout",
     "output_type": "stream",
     "text": [
      "\n",
      "Average Metric: 2.00 / 3 (66.7%): 100%|██████████| 3/3 [00:04<00:00,  1.56s/it]"
     ]
    },
    {
     "name": "stderr",
     "output_type": "stream",
     "text": [
      "2025/09/03 17:02:53 INFO dspy.evaluate.evaluate: Average Metric: 2 / 3 (66.7%)\n",
      "2025/09/03 17:02:53 INFO dspy.teleprompt.mipro_optimizer_v2: Score: 66.67 with parameters ['Predictor 0: Instruction 0', 'Predictor 0: Few-Shot Set 0'].\n",
      "2025/09/03 17:02:53 INFO dspy.teleprompt.mipro_optimizer_v2: Scores so far: [66.67, 66.67, 66.67, 66.67, 66.67, 66.67, 66.67, 66.67, 66.67, 66.67, 66.67, 66.67, 66.67, 66.67, 66.67, 66.67, 66.67, 66.67, 66.67, 66.67, 66.67, 66.67, 66.67, 66.67, 66.67]\n",
      "2025/09/03 17:02:53 INFO dspy.teleprompt.mipro_optimizer_v2: Best score so far: 66.67\n",
      "2025/09/03 17:02:53 INFO dspy.teleprompt.mipro_optimizer_v2: =========================\n",
      "\n",
      "\n",
      "2025/09/03 17:02:53 INFO dspy.teleprompt.mipro_optimizer_v2: ===== Trial 26 / 27 =====\n"
     ]
    },
    {
     "name": "stdout",
     "output_type": "stream",
     "text": [
      "\n",
      "  0%|          | 0/3 [00:00<?, ?it/s]\n"
     ]
    },
    {
     "data": {
      "text/markdown": [
       "**expected**: Example({'number_guess': 'two', 'answer': 'two'}) (input_keys={'number_guess'})"
      ],
      "text/plain": [
       "<IPython.core.display.Markdown object>"
      ]
     },
     "metadata": {},
     "output_type": "display_data"
    },
    {
     "data": {
      "text/markdown": [
       "**actual**: Prediction(  \n",
       "    answer='two'  \n",
       ")"
      ],
      "text/plain": [
       "<IPython.core.display.Markdown object>"
      ]
     },
     "metadata": {},
     "output_type": "display_data"
    },
    {
     "name": "stdout",
     "output_type": "stream",
     "text": [
      "\n",
      "Average Metric: 1.00 / 1 (100.0%):  33%|███▎      | 1/3 [00:00<00:01,  1.26it/s]\n"
     ]
    },
    {
     "data": {
      "text/markdown": [
       "**expected**: Example({'number_guess': '2', 'answer': 'two'}) (input_keys={'number_guess'})"
      ],
      "text/plain": [
       "<IPython.core.display.Markdown object>"
      ]
     },
     "metadata": {},
     "output_type": "display_data"
    },
    {
     "data": {
      "text/markdown": [
       "**actual**: Prediction(  \n",
       "    answer='two'  \n",
       ")"
      ],
      "text/plain": [
       "<IPython.core.display.Markdown object>"
      ]
     },
     "metadata": {},
     "output_type": "display_data"
    },
    {
     "name": "stdout",
     "output_type": "stream",
     "text": [
      "\n",
      "Average Metric: 2.00 / 2 (100.0%):  33%|███▎      | 1/3 [00:00<00:01,  1.26it/s]\n"
     ]
    },
    {
     "data": {
      "text/markdown": [
       "**expected**: Example({'number_guess': '1', 'answer': 'one'}) (input_keys={'number_guess'})"
      ],
      "text/plain": [
       "<IPython.core.display.Markdown object>"
      ]
     },
     "metadata": {},
     "output_type": "display_data"
    },
    {
     "data": {
      "text/markdown": [
       "**actual**: Prediction(  \n",
       "    answer='one'  \n",
       ")"
      ],
      "text/plain": [
       "<IPython.core.display.Markdown object>"
      ]
     },
     "metadata": {},
     "output_type": "display_data"
    },
    {
     "name": "stdout",
     "output_type": "stream",
     "text": [
      "\n",
      "Average Metric: 2.00 / 3 (66.7%): 100%|██████████| 3/3 [00:02<00:00,  1.44it/s] "
     ]
    },
    {
     "name": "stderr",
     "output_type": "stream",
     "text": [
      "2025/09/03 17:02:55 INFO dspy.evaluate.evaluate: Average Metric: 2 / 3 (66.7%)\n",
      "2025/09/03 17:02:55 INFO dspy.teleprompt.mipro_optimizer_v2: Score: 66.67 with parameters ['Predictor 0: Instruction 5', 'Predictor 0: Few-Shot Set 6'].\n",
      "2025/09/03 17:02:55 INFO dspy.teleprompt.mipro_optimizer_v2: Scores so far: [66.67, 66.67, 66.67, 66.67, 66.67, 66.67, 66.67, 66.67, 66.67, 66.67, 66.67, 66.67, 66.67, 66.67, 66.67, 66.67, 66.67, 66.67, 66.67, 66.67, 66.67, 66.67, 66.67, 66.67, 66.67, 66.67]\n",
      "2025/09/03 17:02:55 INFO dspy.teleprompt.mipro_optimizer_v2: Best score so far: 66.67\n",
      "2025/09/03 17:02:55 INFO dspy.teleprompt.mipro_optimizer_v2: =========================\n",
      "\n",
      "\n",
      "2025/09/03 17:02:55 INFO dspy.teleprompt.mipro_optimizer_v2: ===== Trial 27 / 27 =====\n"
     ]
    },
    {
     "name": "stdout",
     "output_type": "stream",
     "text": [
      "\n",
      "  0%|          | 0/3 [00:00<?, ?it/s]\n",
      "\n"
     ]
    },
    {
     "data": {
      "text/markdown": [
       "**expected**: Example({'number_guess': '2', 'answer': 'two'}) (input_keys={'number_guess'})"
      ],
      "text/plain": [
       "<IPython.core.display.Markdown object>"
      ]
     },
     "metadata": {},
     "output_type": "display_data"
    },
    {
     "data": {
      "text/markdown": [
       "**expected**: Example({'number_guess': '1', 'answer': 'one'}) (input_keys={'number_guess'})"
      ],
      "text/plain": [
       "<IPython.core.display.Markdown object>"
      ]
     },
     "metadata": {},
     "output_type": "display_data"
    },
    {
     "data": {
      "text/markdown": [
       "**actual**: Prediction(  \n",
       "    answer='two'  \n",
       ")"
      ],
      "text/plain": [
       "<IPython.core.display.Markdown object>"
      ]
     },
     "metadata": {},
     "output_type": "display_data"
    },
    {
     "name": "stdout",
     "output_type": "stream",
     "text": [
      "\n",
      "Average Metric: 1.00 / 1 (100.0%):   0%|          | 0/3 [00:00<?, ?it/s]"
     ]
    },
    {
     "data": {
      "text/markdown": [
       "**actual**: Prediction(  \n",
       "    answer='one'  \n",
       ")"
      ],
      "text/plain": [
       "<IPython.core.display.Markdown object>"
      ]
     },
     "metadata": {},
     "output_type": "display_data"
    },
    {
     "name": "stdout",
     "output_type": "stream",
     "text": [
      "Average Metric: 1.00 / 1 (100.0%):  33%|███▎      | 1/3 [00:00<00:01,  1.41it/s]\n",
      "Average Metric: 1.00 / 2 (50.0%):  33%|███▎      | 1/3 [00:00<00:01,  1.41it/s] \n"
     ]
    },
    {
     "data": {
      "text/markdown": [
       "**expected**: Example({'number_guess': 'two', 'answer': 'two'}) (input_keys={'number_guess'})"
      ],
      "text/plain": [
       "<IPython.core.display.Markdown object>"
      ]
     },
     "metadata": {},
     "output_type": "display_data"
    },
    {
     "data": {
      "text/markdown": [
       "**actual**: Prediction(  \n",
       "    answer='two'  \n",
       ")"
      ],
      "text/plain": [
       "<IPython.core.display.Markdown object>"
      ]
     },
     "metadata": {},
     "output_type": "display_data"
    },
    {
     "name": "stdout",
     "output_type": "stream",
     "text": [
      "\n",
      "Average Metric: 2.00 / 3 (66.7%): 100%|██████████| 3/3 [00:01<00:00,  2.99it/s]"
     ]
    },
    {
     "name": "stderr",
     "output_type": "stream",
     "text": [
      "2025/09/03 17:02:56 INFO dspy.evaluate.evaluate: Average Metric: 2 / 3 (66.7%)\n",
      "2025/09/03 17:02:56 INFO dspy.teleprompt.mipro_optimizer_v2: Score: 66.67 with parameters ['Predictor 0: Instruction 3', 'Predictor 0: Few-Shot Set 17'].\n",
      "2025/09/03 17:02:56 INFO dspy.teleprompt.mipro_optimizer_v2: Scores so far: [66.67, 66.67, 66.67, 66.67, 66.67, 66.67, 66.67, 66.67, 66.67, 66.67, 66.67, 66.67, 66.67, 66.67, 66.67, 66.67, 66.67, 66.67, 66.67, 66.67, 66.67, 66.67, 66.67, 66.67, 66.67, 66.67, 66.67]\n",
      "2025/09/03 17:02:56 INFO dspy.teleprompt.mipro_optimizer_v2: Best score so far: 66.67\n",
      "2025/09/03 17:02:56 INFO dspy.teleprompt.mipro_optimizer_v2: =========================\n",
      "\n",
      "\n",
      "2025/09/03 17:02:56 INFO dspy.teleprompt.mipro_optimizer_v2: ===== Trial 28 / 27 =====\n"
     ]
    },
    {
     "name": "stdout",
     "output_type": "stream",
     "text": [
      "\n",
      "  0%|          | 0/3 [00:00<?, ?it/s]\n"
     ]
    },
    {
     "data": {
      "text/markdown": [
       "**expected**: Example({'number_guess': '1', 'answer': 'one'}) (input_keys={'number_guess'})"
      ],
      "text/plain": [
       "<IPython.core.display.Markdown object>"
      ]
     },
     "metadata": {},
     "output_type": "display_data"
    },
    {
     "data": {
      "text/markdown": [
       "**actual**: Prediction(  \n",
       "    answer='one'  \n",
       ")"
      ],
      "text/plain": [
       "<IPython.core.display.Markdown object>"
      ]
     },
     "metadata": {},
     "output_type": "display_data"
    },
    {
     "name": "stdout",
     "output_type": "stream",
     "text": [
      "\n",
      "Average Metric: 0.00 / 1 (0.0%):  33%|███▎      | 1/3 [00:00<00:01,  1.47it/s]\n"
     ]
    },
    {
     "data": {
      "text/markdown": [
       "**expected**: Example({'number_guess': 'two', 'answer': 'two'}) (input_keys={'number_guess'})"
      ],
      "text/plain": [
       "<IPython.core.display.Markdown object>"
      ]
     },
     "metadata": {},
     "output_type": "display_data"
    },
    {
     "data": {
      "text/markdown": [
       "**actual**: Prediction(  \n",
       "    answer='two'  \n",
       ")"
      ],
      "text/plain": [
       "<IPython.core.display.Markdown object>"
      ]
     },
     "metadata": {},
     "output_type": "display_data"
    },
    {
     "name": "stdout",
     "output_type": "stream",
     "text": [
      "\n",
      "Average Metric: 1.00 / 2 (50.0%):  67%|██████▋   | 2/3 [00:00<00:00,  2.84it/s]\n"
     ]
    },
    {
     "data": {
      "text/markdown": [
       "**expected**: Example({'number_guess': '2', 'answer': 'two'}) (input_keys={'number_guess'})"
      ],
      "text/plain": [
       "<IPython.core.display.Markdown object>"
      ]
     },
     "metadata": {},
     "output_type": "display_data"
    },
    {
     "data": {
      "text/markdown": [
       "**actual**: Prediction(  \n",
       "    answer='two'  \n",
       ")"
      ],
      "text/plain": [
       "<IPython.core.display.Markdown object>"
      ]
     },
     "metadata": {},
     "output_type": "display_data"
    },
    {
     "name": "stdout",
     "output_type": "stream",
     "text": [
      "\n",
      "Average Metric: 2.00 / 3 (66.7%): 100%|██████████| 3/3 [00:01<00:00,  1.59it/s]"
     ]
    },
    {
     "name": "stderr",
     "output_type": "stream",
     "text": [
      "2025/09/03 17:02:58 INFO dspy.evaluate.evaluate: Average Metric: 2 / 3 (66.7%)\n",
      "2025/09/03 17:02:58 INFO dspy.teleprompt.mipro_optimizer_v2: Score: 66.67 with parameters ['Predictor 0: Instruction 1', 'Predictor 0: Few-Shot Set 14'].\n",
      "2025/09/03 17:02:58 INFO dspy.teleprompt.mipro_optimizer_v2: Scores so far: [66.67, 66.67, 66.67, 66.67, 66.67, 66.67, 66.67, 66.67, 66.67, 66.67, 66.67, 66.67, 66.67, 66.67, 66.67, 66.67, 66.67, 66.67, 66.67, 66.67, 66.67, 66.67, 66.67, 66.67, 66.67, 66.67, 66.67, 66.67]\n",
      "2025/09/03 17:02:58 INFO dspy.teleprompt.mipro_optimizer_v2: Best score so far: 66.67\n",
      "2025/09/03 17:02:58 INFO dspy.teleprompt.mipro_optimizer_v2: =========================\n",
      "\n",
      "\n",
      "2025/09/03 17:02:58 INFO dspy.teleprompt.mipro_optimizer_v2: Returning best identified program with score 66.67!\n"
     ]
    },
    {
     "name": "stdout",
     "output_type": "stream",
     "text": [
      "\n"
     ]
    }
   ],
   "source": [
    "def validate_match(expected, actual, trace=None) -> bool:\n",
    "    print()\n",
    "    md(\"**expected**: \", expected)\n",
    "    md(\"**actual**: \", actual)\n",
    "    #md(\"**Is Fish**: \", actual.dish_type == \"Fish\")\n",
    "    print()\n",
    "    return (actual.answer == \"two\")\n",
    "\n",
    "from dspy.teleprompt import *\n",
    "\n",
    "tp = dspy.MIPROv2(metric=validate_match, auto=\"heavy\", prompt_model=lm_gpt35, task_model=lm_gpt4)\n",
    "optimized_matcher = tp.compile(numberPickerPredict, trainset=trainset, requires_permission_to_run=False)"
   ]
  },
  {
   "cell_type": "code",
   "execution_count": 11,
   "id": "03767920",
   "metadata": {},
   "outputs": [],
   "source": [
    "###########################################################################################"
   ]
  },
  {
   "cell_type": "code",
   "execution_count": 12,
   "id": "2576b6f8",
   "metadata": {},
   "outputs": [],
   "source": [
    "optimized_matcher.save(\"./saved_files/\", save_program=True)"
   ]
  },
  {
   "cell_type": "code",
   "execution_count": 13,
   "id": "aa9677c8",
   "metadata": {},
   "outputs": [
    {
     "name": "stdout",
     "output_type": "stream",
     "text": [
      "**Optimized Prompt:** None\n"
     ]
    }
   ],
   "source": [
    "\n",
    "optimized_prompt = getattr(optimized_matcher, \"prompt\", None) \\\n",
    "    or getattr(optimized_matcher, \"instructions\", None) \\\n",
    "    or getattr(optimized_matcher, \"template\", None)\n",
    "\n",
    "print(\"**Optimized Prompt:**\", optimized_prompt)"
   ]
  },
  {
   "cell_type": "code",
   "execution_count": 14,
   "id": "6abdcda6",
   "metadata": {},
   "outputs": [
    {
     "name": "stdout",
     "output_type": "stream",
     "text": [
      "Few-shot demos: []\n"
     ]
    }
   ],
   "source": [
    "if hasattr(optimized_matcher, \"examples\"):\n",
    "    print(\"Few-shot examples:\", optimized_matcher.examples)\n",
    "elif hasattr(optimized_matcher, \"demos\"):\n",
    "    print(\"Few-shot demos:\", optimized_matcher.demos)"
   ]
  },
  {
   "cell_type": "code",
   "execution_count": 15,
   "id": "16a273a7",
   "metadata": {},
   "outputs": [
    {
     "name": "stdout",
     "output_type": "stream",
     "text": [
      "None\n"
     ]
    }
   ],
   "source": [
    "print(getattr(optimized_matcher, \"compiled_template\", None))"
   ]
  },
  {
   "cell_type": "code",
   "execution_count": 16,
   "id": "7c97b922",
   "metadata": {},
   "outputs": [
    {
     "name": "stdout",
     "output_type": "stream",
     "text": [
      "=== optimized_matcher.inspect() ===\n",
      "=== tp.inspect() ===\n"
     ]
    }
   ],
   "source": [
    "\n",
    "# Quick peeks (if available in your version)\n",
    "try:\n",
    "    print(\"=== optimized_matcher.inspect() ===\")\n",
    "    print(optimized_matcher.inspect())\n",
    "except Exception:\n",
    "    pass\n",
    "\n",
    "try:\n",
    "    print(\"=== tp.inspect() ===\")\n",
    "    print(tp.inspect())\n",
    "except Exception:\n",
    "    pass\n"
   ]
  },
  {
   "cell_type": "code",
   "execution_count": 17,
   "id": "0602144e",
   "metadata": {},
   "outputs": [
    {
     "name": "stdout",
     "output_type": "stream",
     "text": [
      "\n",
      "================= OPTIMIZED PROGRAM =================\n",
      ">>> Repr: Predict(NumberPicker(number_guess -> answer\n",
      "    instructions='Guess a number'\n",
      "    number_guess = Field(annotation=str required=True json_schema_extra={'__dspy_field_type': 'input', 'prefix': 'Number Guess:', 'desc': '${number_guess}'})\n",
      "    answer = Field(annotation=Literal['one', 'two'] required=True json_schema_extra={'__dspy_field_type': 'output', 'prefix': 'Answer:', 'desc': '${answer}'})\n",
      "))\n",
      "\n",
      "===== Signature =====\n",
      "NumberPicker(number_guess -> answer\n",
      "    instructions='Guess a number'\n",
      "    number_guess = Field(annotation=str required=True json_schema_extra={'__dspy_field_type': 'input', 'prefix': 'Number Guess:', 'desc': '${number_guess}'})\n",
      "    answer = Field(annotation=Literal['one', 'two'] required=True json_schema_extra={'__dspy_field_type': 'output', 'prefix': 'Answer:', 'desc': '${answer}'})\n",
      ")\n",
      "\n",
      "===== Signature Doc =====\n",
      "Guess a number\n",
      "\n",
      "===== Signature Instructions =====\n",
      "Guess a number\n",
      "\n",
      "===== Signature Inputs =====\n",
      "{'number_guess': FieldInfo(annotation=str, required=True, json_schema_extra={'__dspy_field_type': 'input', 'prefix': 'Number Guess:', 'desc': '${number_guess}'})}\n",
      "\n",
      "===== Signature Outputs =====\n",
      "{'answer': FieldInfo(annotation=Literal['one', 'two'], required=True, json_schema_extra={'__dspy_field_type': 'output', 'prefix': 'Answer:', 'desc': '${answer}'})}\n"
     ]
    }
   ],
   "source": [
    "from typing import Any\n",
    "\n",
    "def _safe(obj: Any, attr: str, default=None):\n",
    "    return getattr(obj, attr, default)\n",
    "\n",
    "def _print_section(title: str, content):\n",
    "    if content:\n",
    "        print(f\"\\n===== {title} =====\")\n",
    "        print(content)\n",
    "\n",
    "def print_dspy_program(program: Any):\n",
    "    print(\">>> Repr:\", repr(program))\n",
    "\n",
    "    # Signature + fields\n",
    "    sig = _safe(program, \"signature\")\n",
    "    _print_section(\"Signature\", sig)\n",
    "    if sig:\n",
    "        # Some versions expose .instructions or a docstring\n",
    "        _print_section(\"Signature Doc\", getattr(sig, \"__doc__\", None))\n",
    "        _print_section(\"Signature Instructions\", _safe(sig, \"instructions\"))\n",
    "        _print_section(\"Signature Inputs\", _safe(sig, \"inputs\", _safe(sig, \"input_fields\", None)))\n",
    "        _print_section(\"Signature Outputs\", _safe(sig, \"outputs\", _safe(sig, \"output_fields\", None)))\n",
    "\n",
    "    # Where different versions might store the optimized prompt/template\n",
    "    for k in (\"prompt\", \"instructions\", \"system_prompt\", \"template\", \"compiled_template\"):\n",
    "        _print_section(k, _safe(program, k))\n",
    "\n",
    "    # Few-shot examples (these keys vary by version/teleprompter)\n",
    "    examples = None\n",
    "    for k in (\"examples\", \"fewshot\", \"demos\", \"shots\", \"train_examples\", \"demo_store\"):\n",
    "        v = _safe(program, k)\n",
    "        if v:\n",
    "            _print_section(f\"{k} (container)\", f\"type={type(v)}, len={getattr(v, '__len__', lambda: 'n/a')() if hasattr(v, '__len__') else 'n/a'}\")\n",
    "            examples = v\n",
    "            break\n",
    "\n",
    "    # Try to print examples if iterable\n",
    "    if examples and hasattr(examples, \"__iter__\"):\n",
    "        try:\n",
    "            for i, ex in enumerate(list(examples)[:20]):  # cap to avoid huge logs\n",
    "                print(f\"\\n--- Few-shot Example #{i+1} ---\")\n",
    "                if hasattr(ex, \"inputs\") and callable(ex.inputs):\n",
    "                    print(\"inputs:\", ex.inputs())\n",
    "                elif hasattr(ex, \"inputs\"):\n",
    "                    print(\"inputs:\", ex.inputs)\n",
    "                else:\n",
    "                    print(\"inputs: <unknown>\")\n",
    "\n",
    "                if hasattr(ex, \"outputs\") and callable(ex.outputs):\n",
    "                    print(\"outputs:\", ex.outputs())\n",
    "                elif hasattr(ex, \"outputs\"):\n",
    "                    print(\"outputs:\", ex.outputs)\n",
    "                else:\n",
    "                    print(\"outputs: <unknown>\")\n",
    "        except Exception as e:\n",
    "            print(f\"(could not iterate examples cleanly: {e})\")\n",
    "\n",
    "print(\"\\n================= OPTIMIZED PROGRAM =================\")\n",
    "print_dspy_program(optimized_matcher)"
   ]
  }
 ],
 "metadata": {
  "kernelspec": {
   "display_name": "Python 3",
   "language": "python",
   "name": "python3"
  },
  "language_info": {
   "codemirror_mode": {
    "name": "ipython",
    "version": 3
   },
   "file_extension": ".py",
   "mimetype": "text/x-python",
   "name": "python",
   "nbconvert_exporter": "python",
   "pygments_lexer": "ipython3",
   "version": "3.12.1"
  }
 },
 "nbformat": 4,
 "nbformat_minor": 5
}
