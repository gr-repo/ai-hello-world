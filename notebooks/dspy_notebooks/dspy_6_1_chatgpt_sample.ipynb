{
 "cells": [
  {
   "cell_type": "code",
   "execution_count": null,
   "id": "8d69dd38",
   "metadata": {},
   "outputs": [],
   "source": [
    "import dspy\n",
    "from dspy.evaluate import MIPROv2\n",
    "\n",
    "# Define the signature\n",
    "class Dish(dspy.BaseModel):\n",
    "    dish_type: dspy.Literal[\"Fish\", \"Vegetarian\", \"Chicken\"] = dspy.OutputField()\n",
    "    name: str = dspy.OutputField()\n",
    "\n",
    "class Meal(dspy.Signature):\n",
    "    \"\"\"Suggest a meal\"\"\"\n",
    "    preferred_day = dspy.InputField(desc=\"Preferred day of the week for the meal\")\n",
    "    dish: Dish = dspy.OutputField()\n",
    "    day_of_the_week: dspy.Literal[\"Monday\", \"Tuesday\", \"Wednesday\", \"Thursday\", \"Friday\", \"Saturday\", \"Sunday\"] = dspy.OutputField()\n",
    "\n",
    "# Define a simple metric\n",
    "def validate_match(expected: Meal, actual: Meal) -> bool:\n",
    "    return (\n",
    "        expected.dish.dish_type == actual.dish.dish_type and\n",
    "        expected.dish.name == actual.dish.name and\n",
    "        expected.day_of_the_week == actual.day_of_the_week\n",
    "    )\n",
    "\n",
    "# Sample trainset\n",
    "trainset = [\n",
    "    Meal(preferred_day=\"Monday\", dish={\"dish_type\": \"Fish\", \"name\": \"Grilled Salmon\"}, day_of_the_week=\"Monday\"),\n",
    "    Meal(preferred_day=\"Tuesday\", dish={\"dish_type\": \"Vegetarian\", \"name\": \"Lentil Soup\"}, day_of_the_week=\"Tuesday\"),\n",
    "    Meal(preferred_day=\"Wednesday\", dish={\"dish_type\": \"Chicken\", \"name\": \"Chicken Alfredo\"}, day_of_the_week=\"Wednesday\"),\n",
    "    # ... add more examples as needed\n",
    "]\n",
    "\n",
    "# Define a basic model\n",
    "class MealGenerator(dspy.Module):\n",
    "    def __init__(self):\n",
    "        self.prompt = dspy.Predict(Meal)\n",
    "\n",
    "    def forward(self, preferred_day):\n",
    "        return self.prompt(preferred_day=preferred_day)\n",
    "\n",
    "# Run MIPROv2 optimization\n",
    "mipro = MIPROv2(metric=validate_match, trainset=trainset, num_candidates=5)\n",
    "optimized_model = mipro.optimize(MealGenerator())\n",
    "\n",
    "# Test the optimized model\n",
    "result = optimized_model(\"Friday\")\n",
    "print(result)"
   ]
  }
 ],
 "metadata": {
  "language_info": {
   "name": "python"
  }
 },
 "nbformat": 4,
 "nbformat_minor": 5
}
