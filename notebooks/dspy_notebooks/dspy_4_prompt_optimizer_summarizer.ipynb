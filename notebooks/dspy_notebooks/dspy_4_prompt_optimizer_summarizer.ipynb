{
 "cells": [
  {
   "cell_type": "markdown",
   "metadata": {},
   "source": [
    "# Simple Prompt Optimizer"
   ]
  },
  {
   "cell_type": "code",
   "execution_count": 10,
   "metadata": {},
   "outputs": [],
   "source": [
    "#!pip install dspy-ai\n",
    "#!pip install dspy-ai"
   ]
  },
  {
   "cell_type": "code",
   "execution_count": 11,
   "metadata": {},
   "outputs": [],
   "source": [
    "import sys\n",
    "import os\n",
    "import dspy \n",
    "from common.my_settings import MySettings  \n",
    "from common.utils import md\n",
    "from common.llm_client_factory import LlmClientFactory\n",
    "from dspy_utils.dspy_helpers import md_dspy\n",
    "\n",
    "settings = MySettings().get()"
   ]
  },
  {
   "cell_type": "code",
   "execution_count": 12,
   "metadata": {},
   "outputs": [],
   "source": [
    "\n",
    "lm = dspy.LM(\n",
    "    'gpt-4.1',  # Changed from gpt-4o to gpt-3.5-turbo\n",
    "    model_type='chat', \n",
    "    cache=False, \n",
    "    api_key=os.getenv(\"OPENAI_API_KEY\")\n",
    ")\n",
    "\n",
    "dspy.configure(lm=lm)"
   ]
  },
  {
   "cell_type": "code",
   "execution_count": 13,
   "metadata": {},
   "outputs": [
    {
     "name": "stdout",
     "output_type": "stream",
     "text": [
      "DSPy version: 3.0.1\n"
     ]
    },
    {
     "name": "stdout",
     "output_type": "stream",
     "text": [
      "Baseline: Optimizing prompts leads to better results from large language models (LLMs).\n"
     ]
    },
    {
     "name": "stderr",
     "output_type": "stream",
     "text": [
      "  2%|▏         | 1/50 [00:00<00:39,  1.24it/s]"
     ]
    },
    {
     "name": "stdout",
     "output_type": "stream",
     "text": [
      "Simple Metric: example:  Example({'text': 'AI is transforming industries by automating tasks.', 'summary': 'AI automation'}) (input_keys={'text'}) , pred: Prediction(\n",
      "    summary='AI automation'\n",
      ")\n",
      "pred.summary:  AI automation\n",
      "Simple metric: word count: 2  less than two:  True\n"
     ]
    },
    {
     "name": "stderr",
     "output_type": "stream",
     "text": [
      "  4%|▍         | 2/50 [00:01<00:39,  1.20it/s]"
     ]
    },
    {
     "name": "stdout",
     "output_type": "stream",
     "text": [
      "Simple Metric: example:  Example({'text': 'Climate change causes rising seas and extreme weather.', 'summary': 'Climate impact'}) (input_keys={'text'}) , pred: Prediction(\n",
      "    summary='Climate change leads to higher sea levels and more severe weather events.'\n",
      ")\n",
      "pred.summary:  Climate change leads to higher sea levels and more severe weather events.\n",
      "Simple metric: word count: 12  less than two:  False\n"
     ]
    },
    {
     "name": "stderr",
     "output_type": "stream",
     "text": [
      "  6%|▌         | 3/50 [00:02<00:40,  1.15it/s]"
     ]
    },
    {
     "name": "stdout",
     "output_type": "stream",
     "text": [
      "Simple Metric: example:  Example({'text': 'Electric vehicles are becoming more popular due to environmental concerns.', 'summary': 'EV growth'}) (input_keys={'text'}) , pred: Prediction(\n",
      "    summary='EVs gain popularity as people focus on the environment.'\n",
      ")\n",
      "pred.summary:  EVs gain popularity as people focus on the environment.\n",
      "Simple metric: word count: 9  less than two:  False\n"
     ]
    },
    {
     "name": "stderr",
     "output_type": "stream",
     "text": [
      "  8%|▊         | 4/50 [00:03<00:39,  1.17it/s]"
     ]
    },
    {
     "name": "stdout",
     "output_type": "stream",
     "text": [
      "Simple Metric: example:  Example({'text': 'Remote work has changed how companies manage productivity.', 'summary': 'Remote shift'}) (input_keys={'text'}) , pred: Prediction(\n",
      "    summary='Remote work impacts company productivity management.'\n",
      ")\n",
      "pred.summary:  Remote work impacts company productivity management.\n",
      "Simple metric: word count: 6  less than two:  False\n"
     ]
    },
    {
     "name": "stderr",
     "output_type": "stream",
     "text": [
      " 10%|█         | 5/50 [00:04<00:39,  1.14it/s]"
     ]
    },
    {
     "name": "stdout",
     "output_type": "stream",
     "text": [
      "Simple Metric: example:  Example({'text': 'Cryptocurrency markets are highly volatile and speculative.', 'summary': 'Crypto risk'}) (input_keys={'text'}) , pred: Prediction(\n",
      "    summary='Crypto volatility'\n",
      ")\n",
      "pred.summary:  Crypto volatility\n",
      "Simple metric: word count: 2  less than two:  True\n"
     ]
    },
    {
     "name": "stderr",
     "output_type": "stream",
     "text": [
      " 12%|█▏        | 6/50 [00:05<00:41,  1.06it/s]"
     ]
    },
    {
     "name": "stdout",
     "output_type": "stream",
     "text": [
      "Simple Metric: example:  Example({'text': 'Online education platforms are expanding access to learning.', 'summary': 'E-learning'}) (input_keys={'text'}) , pred: Prediction(\n",
      "    summary='Edtech broadens learning opportunities.'\n",
      ")\n",
      "pred.summary:  Edtech broadens learning opportunities.\n",
      "Simple metric: word count: 4  less than two:  False\n"
     ]
    },
    {
     "name": "stderr",
     "output_type": "stream",
     "text": [
      " 14%|█▍        | 7/50 [00:05<00:35,  1.20it/s]"
     ]
    },
    {
     "name": "stdout",
     "output_type": "stream",
     "text": [
      "Simple Metric: example:  Example({'text': 'Social media influences public opinion and behavior.', 'summary': 'Social influence'}) (input_keys={'text'}) , pred: Prediction(\n",
      "    summary='Social media shapes opinions and actions.'\n",
      ")\n",
      "pred.summary:  Social media shapes opinions and actions.\n",
      "Simple metric: word count: 6  less than two:  False\n"
     ]
    },
    {
     "name": "stderr",
     "output_type": "stream",
     "text": [
      " 16%|█▌        | 8/50 [00:06<00:33,  1.24it/s]"
     ]
    },
    {
     "name": "stdout",
     "output_type": "stream",
     "text": [
      "Simple Metric: example:  Example({'text': 'Renewable energy sources are replacing fossil fuels.', 'summary': 'Green energy'}) (input_keys={'text'}) , pred: Prediction(\n",
      "    summary='Renewables replacing fossil fuels'\n",
      ")\n",
      "pred.summary:  Renewables replacing fossil fuels\n",
      "Simple metric: word count: 4  less than two:  False\n"
     ]
    },
    {
     "name": "stderr",
     "output_type": "stream",
     "text": [
      " 18%|█▊        | 9/50 [00:07<00:34,  1.17it/s]"
     ]
    },
    {
     "name": "stdout",
     "output_type": "stream",
     "text": [
      "Simple Metric: example:  Example({'text': 'Cybersecurity threats are increasing in frequency and complexity.', 'summary': 'Cyber threats'}) (input_keys={'text'}) , pred: Prediction(\n",
      "    summary='Cyber threats are rising and becoming more sophisticated.'\n",
      ")\n",
      "pred.summary:  Cyber threats are rising and becoming more sophisticated.\n",
      "Simple metric: word count: 8  less than two:  False\n"
     ]
    },
    {
     "name": "stderr",
     "output_type": "stream",
     "text": [
      " 20%|██        | 10/50 [00:08<00:31,  1.28it/s]"
     ]
    },
    {
     "name": "stdout",
     "output_type": "stream",
     "text": [
      "Simple Metric: example:  Example({'text': 'Space exploration is advancing with private sector involvement.', 'summary': 'Space race'}) (input_keys={'text'}) , pred: Prediction(\n",
      "    summary='Private companies boost space exploration progress.'\n",
      ")\n",
      "pred.summary:  Private companies boost space exploration progress.\n",
      "Simple metric: word count: 6  less than two:  False\n"
     ]
    },
    {
     "name": "stderr",
     "output_type": "stream",
     "text": [
      " 22%|██▏       | 11/50 [00:09<00:30,  1.27it/s]"
     ]
    },
    {
     "name": "stdout",
     "output_type": "stream",
     "text": [
      "Simple Metric: example:  Example({'text': 'Machine learning models are improving medical diagnostics.', 'summary': 'ML diagnostics'}) (input_keys={'text'}) , pred: Prediction(\n",
      "    summary='ML enhances medical diagnosis'\n",
      ")\n",
      "pred.summary:  ML enhances medical diagnosis\n",
      "Simple metric: word count: 4  less than two:  False\n"
     ]
    },
    {
     "name": "stderr",
     "output_type": "stream",
     "text": [
      " 24%|██▍       | 12/50 [00:09<00:30,  1.23it/s]"
     ]
    },
    {
     "name": "stdout",
     "output_type": "stream",
     "text": [
      "Simple Metric: example:  Example({'text': 'Supply chain disruptions have impacted global trade.', 'summary': 'Trade disruption'}) (input_keys={'text'}) , pred: Prediction(\n",
      "    summary='Global trade affected by supply chain issues.'\n",
      ")\n",
      "pred.summary:  Global trade affected by supply chain issues.\n",
      "Simple metric: word count: 7  less than two:  False\n"
     ]
    },
    {
     "name": "stderr",
     "output_type": "stream",
     "text": [
      " 26%|██▌       | 13/50 [00:10<00:31,  1.16it/s]"
     ]
    },
    {
     "name": "stdout",
     "output_type": "stream",
     "text": [
      "Simple Metric: example:  Example({'text': 'Smartphones have become essential tools for communication and productivity.', 'summary': 'Smartphones'}) (input_keys={'text'}) , pred: Prediction(\n",
      "    summary='Smartphones are vital for staying connected and getting work done.'\n",
      ")\n",
      "pred.summary:  Smartphones are vital for staying connected and getting work done.\n",
      "Simple metric: word count: 10  less than two:  False\n"
     ]
    },
    {
     "name": "stderr",
     "output_type": "stream",
     "text": [
      " 28%|██▊       | 14/50 [00:12<00:33,  1.08it/s]"
     ]
    },
    {
     "name": "stdout",
     "output_type": "stream",
     "text": [
      "Simple Metric: example:  Example({'text': 'Augmented reality is being used in retail to enhance customer experience.', 'summary': 'AR retail'}) (input_keys={'text'}) , pred: Prediction(\n",
      "    summary='AR in retail'\n",
      ")\n",
      "pred.summary:  AR in retail\n",
      "Simple metric: word count: 3  less than two:  False\n"
     ]
    },
    {
     "name": "stderr",
     "output_type": "stream",
     "text": [
      " 30%|███       | 15/50 [00:12<00:32,  1.08it/s]"
     ]
    },
    {
     "name": "stdout",
     "output_type": "stream",
     "text": [
      "Simple Metric: example:  Example({'text': '5G networks promise faster connectivity and new applications.', 'summary': '5G rollout'}) (input_keys={'text'}) , pred: Prediction(\n",
      "    summary='5G enables higher speeds and innovative uses.'\n",
      ")\n",
      "pred.summary:  5G enables higher speeds and innovative uses.\n",
      "Simple metric: word count: 7  less than two:  False\n"
     ]
    },
    {
     "name": "stderr",
     "output_type": "stream",
     "text": [
      " 32%|███▏      | 16/50 [00:13<00:30,  1.12it/s]"
     ]
    },
    {
     "name": "stdout",
     "output_type": "stream",
     "text": [
      "Simple Metric: example:  Example({'text': 'Digital banking is replacing traditional financial services.', 'summary': 'Digital banking'}) (input_keys={'text'}) , pred: Prediction(\n",
      "    summary='Digital banking is overtaking traditional banking services.'\n",
      ")\n",
      "pred.summary:  Digital banking is overtaking traditional banking services.\n",
      "Simple metric: word count: 7  less than two:  False\n"
     ]
    },
    {
     "name": "stderr",
     "output_type": "stream",
     "text": [
      " 34%|███▍      | 17/50 [00:15<00:42,  1.28s/it]"
     ]
    },
    {
     "name": "stdout",
     "output_type": "stream",
     "text": [
      "Simple Metric: example:  Example({'text': 'Climate policies are shaping national energy strategies.', 'summary': 'Climate policy'}) (input_keys={'text'}) , pred: Prediction(\n",
      "    summary='Climate policy impact on energy planning'\n",
      ")\n",
      "pred.summary:  Climate policy impact on energy planning\n",
      "Simple metric: word count: 6  less than two:  False\n"
     ]
    },
    {
     "name": "stderr",
     "output_type": "stream",
     "text": [
      " 36%|███▌      | 18/50 [00:17<00:40,  1.26s/it]"
     ]
    },
    {
     "name": "stdout",
     "output_type": "stream",
     "text": [
      "Simple Metric: example:  Example({'text': 'Wearable technology is helping people monitor their health.', 'summary': 'Wearables'}) (input_keys={'text'}) , pred: Prediction(\n",
      "    summary='Wearables aid health tracking'\n",
      ")\n",
      "pred.summary:  Wearables aid health tracking\n",
      "Simple metric: word count: 4  less than two:  False\n"
     ]
    },
    {
     "name": "stderr",
     "output_type": "stream",
     "text": [
      " 38%|███▊      | 19/50 [00:18<00:35,  1.14s/it]"
     ]
    },
    {
     "name": "stdout",
     "output_type": "stream",
     "text": [
      "Simple Metric: example:  Example({'text': 'Data privacy regulations are evolving across regions.', 'summary': 'Privacy laws'}) (input_keys={'text'}) , pred: Prediction(\n",
      "    summary='Data privacy laws are changing globally.'\n",
      ")\n",
      "pred.summary:  Data privacy laws are changing globally.\n",
      "Simple metric: word count: 6  less than two:  False\n"
     ]
    },
    {
     "name": "stderr",
     "output_type": "stream",
     "text": [
      " 40%|████      | 20/50 [00:18<00:30,  1.01s/it]"
     ]
    },
    {
     "name": "stdout",
     "output_type": "stream",
     "text": [
      "Simple Metric: example:  Example({'text': 'Artificial intelligence is being used to personalize marketing.', 'summary': 'AI marketing'}) (input_keys={'text'}) , pred: Prediction(\n",
      "    summary='AI-driven marketing personalization'\n",
      ")\n",
      "pred.summary:  AI-driven marketing personalization\n",
      "Simple metric: word count: 3  less than two:  False\n"
     ]
    },
    {
     "name": "stderr",
     "output_type": "stream",
     "text": [
      " 42%|████▏     | 21/50 [00:19<00:27,  1.06it/s]"
     ]
    },
    {
     "name": "stdout",
     "output_type": "stream",
     "text": [
      "Simple Metric: example:  Example({'text': 'Biometric authentication is becoming more common in mobile devices.', 'summary': 'Biometrics'}) (input_keys={'text'}) , pred: Prediction(\n",
      "    summary='Biometric security on phones'\n",
      ")\n",
      "pred.summary:  Biometric security on phones\n",
      "Simple metric: word count: 4  less than two:  False\n"
     ]
    },
    {
     "name": "stderr",
     "output_type": "stream",
     "text": [
      " 44%|████▍     | 22/50 [00:20<00:23,  1.17it/s]"
     ]
    },
    {
     "name": "stdout",
     "output_type": "stream",
     "text": [
      "Simple Metric: example:  Example({'text': 'Cloud computing enables scalable infrastructure for businesses.', 'summary': 'Cloud tech'}) (input_keys={'text'}) , pred: Prediction(\n",
      "    summary='Cloud computing provides scalable business infrastructure.'\n",
      ")\n",
      "pred.summary:  Cloud computing provides scalable business infrastructure.\n",
      "Simple metric: word count: 6  less than two:  False\n"
     ]
    },
    {
     "name": "stderr",
     "output_type": "stream",
     "text": [
      " 46%|████▌     | 23/50 [00:21<00:27,  1.01s/it]"
     ]
    },
    {
     "name": "stdout",
     "output_type": "stream",
     "text": [
      "Simple Metric: example:  Example({'text': 'Drones are being used for delivery and surveillance.', 'summary': 'Drone use'}) (input_keys={'text'}) , pred: Prediction(\n",
      "    summary='Drones in delivery and surveillance'\n",
      ")\n",
      "pred.summary:  Drones in delivery and surveillance\n",
      "Simple metric: word count: 5  less than two:  False\n"
     ]
    },
    {
     "name": "stderr",
     "output_type": "stream",
     "text": [
      " 48%|████▊     | 24/50 [00:22<00:25,  1.02it/s]"
     ]
    },
    {
     "name": "stdout",
     "output_type": "stream",
     "text": [
      "Simple Metric: example:  Example({'text': 'Genetic editing tools like CRISPR are revolutionizing medicine.', 'summary': 'Gene editing'}) (input_keys={'text'}) , pred: Prediction(\n",
      "    summary='CRISPR and similar tools are transforming medical treatments.'\n",
      ")\n",
      "pred.summary:  CRISPR and similar tools are transforming medical treatments.\n",
      "Simple metric: word count: 8  less than two:  False\n"
     ]
    },
    {
     "name": "stderr",
     "output_type": "stream",
     "text": [
      " 50%|█████     | 25/50 [00:23<00:26,  1.07s/it]"
     ]
    },
    {
     "name": "stdout",
     "output_type": "stream",
     "text": [
      "Simple Metric: example:  Example({'text': 'Digital twins are used to simulate real-world systems.', 'summary': 'Digital twins'}) (input_keys={'text'}) , pred: Prediction(\n",
      "    summary='Digital twins model real systems for simulation and analysis.'\n",
      ")\n",
      "pred.summary:  Digital twins model real systems for simulation and analysis.\n",
      "Simple metric: word count: 9  less than two:  False\n"
     ]
    },
    {
     "name": "stderr",
     "output_type": "stream",
     "text": [
      " 52%|█████▏    | 26/50 [00:24<00:24,  1.03s/it]"
     ]
    },
    {
     "name": "stdout",
     "output_type": "stream",
     "text": [
      "Simple Metric: example:  Example({'text': 'Quantum computing promises exponential processing power.', 'summary': 'Quantum leap'}) (input_keys={'text'}) , pred: Prediction(\n",
      "    summary='Quantum computing offers vastly increased computational speed.'\n",
      ")\n",
      "pred.summary:  Quantum computing offers vastly increased computational speed.\n",
      "Simple metric: word count: 7  less than two:  False\n"
     ]
    },
    {
     "name": "stderr",
     "output_type": "stream",
     "text": [
      " 54%|█████▍    | 27/50 [00:25<00:21,  1.08it/s]"
     ]
    },
    {
     "name": "stdout",
     "output_type": "stream",
     "text": [
      "Simple Metric: example:  Example({'text': 'Voice assistants are becoming more integrated into daily life.', 'summary': 'Voice tech'}) (input_keys={'text'}) , pred: Prediction(\n",
      "    summary='Voice assistants are increasingly used in everyday activities.'\n",
      ")\n",
      "pred.summary:  Voice assistants are increasingly used in everyday activities.\n",
      "Simple metric: word count: 8  less than two:  False\n"
     ]
    },
    {
     "name": "stderr",
     "output_type": "stream",
     "text": [
      " 56%|█████▌    | 28/50 [00:25<00:18,  1.19it/s]"
     ]
    },
    {
     "name": "stdout",
     "output_type": "stream",
     "text": [
      "Simple Metric: example:  Example({'text': 'Facial recognition is used in security and marketing.', 'summary': 'Face ID'}) (input_keys={'text'}) , pred: Prediction(\n",
      "    summary='Facial recognition applications'\n",
      ")\n",
      "pred.summary:  Facial recognition applications\n",
      "Simple metric: word count: 3  less than two:  False\n"
     ]
    },
    {
     "name": "stderr",
     "output_type": "stream",
     "text": [
      " 58%|█████▊    | 29/50 [00:26<00:18,  1.14it/s]"
     ]
    },
    {
     "name": "stdout",
     "output_type": "stream",
     "text": [
      "Simple Metric: example:  Example({'text': '3D printing is transforming manufacturing and prototyping.', 'summary': '3D printing'}) (input_keys={'text'}) , pred: Prediction(\n",
      "    summary='3D printing revolutionizes manufacturing and prototyping.'\n",
      ")\n",
      "pred.summary:  3D printing revolutionizes manufacturing and prototyping.\n",
      "Simple metric: word count: 6  less than two:  False\n"
     ]
    },
    {
     "name": "stderr",
     "output_type": "stream",
     "text": [
      " 60%|██████    | 30/50 [00:27<00:18,  1.10it/s]"
     ]
    },
    {
     "name": "stdout",
     "output_type": "stream",
     "text": [
      "Simple Metric: example:  Example({'text': 'Blockchain is being explored for secure digital transactions.', 'summary': 'Blockchain'}) (input_keys={'text'}) , pred: Prediction(\n",
      "    summary='Blockchain for secure transactions'\n",
      ")\n",
      "pred.summary:  Blockchain for secure transactions\n",
      "Simple metric: word count: 4  less than two:  False\n"
     ]
    },
    {
     "name": "stderr",
     "output_type": "stream",
     "text": [
      " 62%|██████▏   | 31/50 [00:29<00:20,  1.09s/it]"
     ]
    },
    {
     "name": "stdout",
     "output_type": "stream",
     "text": [
      "Simple Metric: example:  Example({'text': 'Smart cities use data to improve urban living.', 'summary': 'Smart cities'}) (input_keys={'text'}) , pred: Prediction(\n",
      "    summary='Smart cities leverage data for better urban life.'\n",
      ")\n",
      "pred.summary:  Smart cities leverage data for better urban life.\n",
      "Simple metric: word count: 8  less than two:  False\n"
     ]
    },
    {
     "name": "stderr",
     "output_type": "stream",
     "text": [
      " 64%|██████▍   | 32/50 [00:30<00:19,  1.10s/it]"
     ]
    },
    {
     "name": "stdout",
     "output_type": "stream",
     "text": [
      "Simple Metric: example:  Example({'text': 'Digital art is gaining popularity through NFTs.', 'summary': 'NFT art'}) (input_keys={'text'}) , pred: Prediction(\n",
      "    summary='NFTs boost digital art popularity'\n",
      ")\n",
      "pred.summary:  NFTs boost digital art popularity\n",
      "Simple metric: word count: 5  less than two:  False\n"
     ]
    },
    {
     "name": "stderr",
     "output_type": "stream",
     "text": [
      " 66%|██████▌   | 33/50 [00:31<00:17,  1.01s/it]"
     ]
    },
    {
     "name": "stdout",
     "output_type": "stream",
     "text": [
      "Simple Metric: example:  Example({'text': 'Subscription models are changing how we consume media.', 'summary': 'Subscriptions'}) (input_keys={'text'}) , pred: Prediction(\n",
      "    summary='Media consumption is shifting due to subscription-based services.'\n",
      ")\n",
      "pred.summary:  Media consumption is shifting due to subscription-based services.\n",
      "Simple metric: word count: 8  less than two:  False\n"
     ]
    },
    {
     "name": "stderr",
     "output_type": "stream",
     "text": [
      " 68%|██████▊   | 34/50 [00:32<00:16,  1.02s/it]"
     ]
    },
    {
     "name": "stdout",
     "output_type": "stream",
     "text": [
      "Simple Metric: example:  Example({'text': 'Food delivery apps are reshaping the restaurant industry.', 'summary': 'Food apps'}) (input_keys={'text'}) , pred: Prediction(\n",
      "    summary='Food delivery apps are transforming how restaurants operate and serve customers.'\n",
      ")\n",
      "pred.summary:  Food delivery apps are transforming how restaurants operate and serve customers.\n",
      "Simple metric: word count: 11  less than two:  False\n"
     ]
    },
    {
     "name": "stderr",
     "output_type": "stream",
     "text": [
      " 70%|███████   | 35/50 [00:33<00:15,  1.02s/it]"
     ]
    },
    {
     "name": "stdout",
     "output_type": "stream",
     "text": [
      "Simple Metric: example:  Example({'text': 'Electric scooters are popular in urban transportation.', 'summary': 'E-scooters'}) (input_keys={'text'}) , pred: Prediction(\n",
      "    summary='E-scooters in cities'\n",
      ")\n",
      "pred.summary:  E-scooters in cities\n",
      "Simple metric: word count: 3  less than two:  False\n"
     ]
    },
    {
     "name": "stderr",
     "output_type": "stream",
     "text": [
      " 72%|███████▏  | 36/50 [00:34<00:14,  1.06s/it]"
     ]
    },
    {
     "name": "stdout",
     "output_type": "stream",
     "text": [
      "Simple Metric: example:  Example({'text': 'Crowdfunding platforms help launch creative projects.', 'summary': 'Crowdfunding'}) (input_keys={'text'}) , pred: Prediction(\n",
      "    summary='Crowdfunding enables creative project funding.'\n",
      ")\n",
      "pred.summary:  Crowdfunding enables creative project funding.\n",
      "Simple metric: word count: 5  less than two:  False\n"
     ]
    },
    {
     "name": "stderr",
     "output_type": "stream",
     "text": [
      " 74%|███████▍  | 37/50 [00:35<00:13,  1.03s/it]"
     ]
    },
    {
     "name": "stdout",
     "output_type": "stream",
     "text": [
      "Simple Metric: example:  Example({'text': 'Digital detoxes are becoming more common.', 'summary': 'Digital detox'}) (input_keys={'text'}) , pred: Prediction(\n",
      "    summary='More people are taking breaks from digital devices.'\n",
      ")\n",
      "pred.summary:  More people are taking breaks from digital devices.\n",
      "Simple metric: word count: 8  less than two:  False\n"
     ]
    },
    {
     "name": "stderr",
     "output_type": "stream",
     "text": [
      " 76%|███████▌  | 38/50 [00:36<00:11,  1.06it/s]"
     ]
    },
    {
     "name": "stdout",
     "output_type": "stream",
     "text": [
      "Simple Metric: example:  Example({'text': 'Gamification is used to boost engagement in apps.', 'summary': 'Gamification'}) (input_keys={'text'}) , pred: Prediction(\n",
      "    summary='Gamification increases app user engagement.'\n",
      ")\n",
      "pred.summary:  Gamification increases app user engagement.\n",
      "Simple metric: word count: 5  less than two:  False\n"
     ]
    },
    {
     "name": "stderr",
     "output_type": "stream",
     "text": [
      " 78%|███████▊  | 39/50 [00:37<00:10,  1.03it/s]"
     ]
    },
    {
     "name": "stdout",
     "output_type": "stream",
     "text": [
      "Simple Metric: example:  Example({'text': 'AI is helping doctors detect diseases earlier and more accurately.', 'summary': 'AI improves early disease detection in healthcare.'}) (input_keys={'text'}) , pred: Prediction(\n",
      "    summary='AI improves early and accurate disease detection for doctors.'\n",
      ")\n",
      "pred.summary:  AI improves early and accurate disease detection for doctors.\n",
      "Simple metric: word count: 9  less than two:  False\n"
     ]
    },
    {
     "name": "stderr",
     "output_type": "stream",
     "text": [
      " 80%|████████  | 40/50 [00:38<00:10,  1.02s/it]"
     ]
    },
    {
     "name": "stdout",
     "output_type": "stream",
     "text": [
      "Simple Metric: example:  Example({'text': 'Climate change is accelerating the melting of polar ice caps.', 'summary': 'Polar ice caps are melting faster due to climate change.'}) (input_keys={'text'}) , pred: Prediction(\n",
      "    summary='Climate change is causing polar ice caps to melt faster.'\n",
      ")\n",
      "pred.summary:  Climate change is causing polar ice caps to melt faster.\n",
      "Simple metric: word count: 10  less than two:  False\n"
     ]
    },
    {
     "name": "stderr",
     "output_type": "stream",
     "text": [
      " 82%|████████▏ | 41/50 [00:39<00:09,  1.04s/it]"
     ]
    },
    {
     "name": "stdout",
     "output_type": "stream",
     "text": [
      "Simple Metric: example:  Example({'text': 'Electric vehicles reduce emissions and dependence on fossil fuels.', 'summary': 'EVs help reduce carbon emissions and oil reliance.'}) (input_keys={'text'}) , pred: Prediction(\n",
      "    summary='EVs lower emissions and fossil fuel use.'\n",
      ")\n",
      "pred.summary:  EVs lower emissions and fossil fuel use.\n",
      "Simple metric: word count: 7  less than two:  False\n"
     ]
    },
    {
     "name": "stderr",
     "output_type": "stream",
     "text": [
      " 84%|████████▍ | 42/50 [00:40<00:08,  1.01s/it]"
     ]
    },
    {
     "name": "stdout",
     "output_type": "stream",
     "text": [
      "Simple Metric: example:  Example({'text': 'Remote work has led to changes in office space demand.', 'summary': 'Remote work is reshaping commercial real estate needs.'}) (input_keys={'text'}) , pred: Prediction(\n",
      "    summary='Remote work is reducing the need for traditional office space.'\n",
      ")\n",
      "pred.summary:  Remote work is reducing the need for traditional office space.\n",
      "Simple metric: word count: 10  less than two:  False\n"
     ]
    },
    {
     "name": "stderr",
     "output_type": "stream",
     "text": [
      " 86%|████████▌ | 43/50 [00:41<00:06,  1.11it/s]"
     ]
    },
    {
     "name": "stdout",
     "output_type": "stream",
     "text": [
      "Simple Metric: example:  Example({'text': 'Cryptocurrency adoption is growing despite regulatory uncertainty.', 'summary': 'Crypto adoption continues amid unclear regulations.'}) (input_keys={'text'}) , pred: Prediction(\n",
      "    summary='Crypto adoption rises'\n",
      ")\n",
      "pred.summary:  Crypto adoption rises\n",
      "Simple metric: word count: 3  less than two:  False\n"
     ]
    },
    {
     "name": "stderr",
     "output_type": "stream",
     "text": [
      " 88%|████████▊ | 44/50 [00:41<00:05,  1.15it/s]"
     ]
    },
    {
     "name": "stdout",
     "output_type": "stream",
     "text": [
      "Simple Metric: example:  Example({'text': 'Online education is bridging gaps in access to quality learning.', 'summary': 'E-learning expands access to quality education worldwide.'}) (input_keys={'text'}) , pred: Prediction(\n",
      "    summary='Online education increases access to quality learning.'\n",
      ")\n",
      "pred.summary:  Online education increases access to quality learning.\n",
      "Simple metric: word count: 7  less than two:  False\n"
     ]
    },
    {
     "name": "stderr",
     "output_type": "stream",
     "text": [
      " 90%|█████████ | 45/50 [00:42<00:04,  1.20it/s]"
     ]
    },
    {
     "name": "stdout",
     "output_type": "stream",
     "text": [
      "Simple Metric: example:  Example({'text': 'Social media platforms are under scrutiny for misinformation.', 'summary': 'Misinformation on social media is drawing regulatory attention.'}) (input_keys={'text'}) , pred: Prediction(\n",
      "    summary='Social media faces criticism over spreading false information.'\n",
      ")\n",
      "pred.summary:  Social media faces criticism over spreading false information.\n",
      "Simple metric: word count: 8  less than two:  False\n"
     ]
    },
    {
     "name": "stderr",
     "output_type": "stream",
     "text": [
      " 92%|█████████▏| 46/50 [00:43<00:03,  1.14it/s]"
     ]
    },
    {
     "name": "stdout",
     "output_type": "stream",
     "text": [
      "Simple Metric: example:  Example({'text': 'Renewable energy investments are increasing globally.', 'summary': 'Global investment in renewables is on the rise.'}) (input_keys={'text'}) , pred: Prediction(\n",
      "    summary='Global rise in renewable energy investments'\n",
      ")\n",
      "pred.summary:  Global rise in renewable energy investments\n",
      "Simple metric: word count: 6  less than two:  False\n"
     ]
    },
    {
     "name": "stderr",
     "output_type": "stream",
     "text": [
      " 94%|█████████▍| 47/50 [00:44<00:02,  1.12it/s]"
     ]
    },
    {
     "name": "stdout",
     "output_type": "stream",
     "text": [
      "Simple Metric: example:  Example({'text': 'Cybersecurity breaches are prompting stronger data protection laws.', 'summary': 'Data breaches are driving stricter cybersecurity regulations.'}) (input_keys={'text'}) , pred: Prediction(\n",
      "    summary='Stronger data protection laws are being enacted in response to cybersecurity breaches.'\n",
      ")\n",
      "pred.summary:  Stronger data protection laws are being enacted in response to cybersecurity breaches.\n",
      "Simple metric: word count: 12  less than two:  False\n"
     ]
    },
    {
     "name": "stderr",
     "output_type": "stream",
     "text": [
      " 96%|█████████▌| 48/50 [00:45<00:01,  1.11it/s]"
     ]
    },
    {
     "name": "stdout",
     "output_type": "stream",
     "text": [
      "Simple Metric: example:  Example({'text': 'Space tourism is becoming a reality for private citizens.', 'summary': 'Private space travel is emerging as a new industry.'}) (input_keys={'text'}) , pred: Prediction(\n",
      "    summary='Space tourism for civilians'\n",
      ")\n",
      "pred.summary:  Space tourism for civilians\n",
      "Simple metric: word count: 4  less than two:  False\n"
     ]
    },
    {
     "name": "stderr",
     "output_type": "stream",
     "text": [
      " 98%|█████████▊| 49/50 [00:46<00:00,  1.01it/s]"
     ]
    },
    {
     "name": "stdout",
     "output_type": "stream",
     "text": [
      "Simple Metric: example:  Example({'text': 'Machine learning is being used to predict customer behavior.', 'summary': 'ML helps businesses forecast customer actions and preferences.'}) (input_keys={'text'}) , pred: Prediction(\n",
      "    summary='ML for customer prediction'\n",
      ")\n",
      "pred.summary:  ML for customer prediction\n",
      "Simple metric: word count: 4  less than two:  False\n"
     ]
    },
    {
     "name": "stderr",
     "output_type": "stream",
     "text": [
      "100%|██████████| 50/50 [00:47<00:00,  1.05it/s]"
     ]
    },
    {
     "name": "stdout",
     "output_type": "stream",
     "text": [
      "Simple Metric: example:  Example({'text': 'Supply chain resilience is a top priority post-pandemic.', 'summary': 'Companies are focusing on building resilient supply chains.'}) (input_keys={'text'}) , pred: Prediction(\n",
      "    summary='Supply chain resilience is emphasized after the pandemic.'\n",
      ")\n",
      "pred.summary:  Supply chain resilience is emphasized after the pandemic.\n",
      "Simple metric: word count: 8  less than two:  False\n",
      "Bootstrapped 2 full traces after 49 examples for up to 1 rounds, amounting to 50 attempts.\n"
     ]
    },
    {
     "name": "stderr",
     "output_type": "stream",
     "text": [
      "\n"
     ]
    },
    {
     "name": "stdout",
     "output_type": "stream",
     "text": [
      "Optimized: Optimizing prompts enhances large language model performance.\n"
     ]
    }
   ],
   "source": [
    "import os\n",
    "import re\n",
    "import dspy\n",
    "\n",
    "# Check version\n",
    "import importlib.metadata\n",
    "print(\"DSPy version:\", importlib.metadata.version(\"dspy-ai\"))\n",
    "\n",
    "# ---------------------------\n",
    "# 1) Configure LLM\n",
    "# ---------------------------\n",
    "# Use Databricks secret or env var for your key\n",
    "# api_key = dbutils.secrets.get(\"scope-name\", \"openai-key\")  # or os.getenv(\"OPENAI_API_KEY\")\n",
    "# dspy.configure(lm=dspy.OpenAI(model=\"gpt-4o-mini\", api_key=api_key))\n",
    "dspy.configure(lm=lm)\n",
    "\n",
    "# ---------------------------\n",
    "# 2) Define Signature and Module\n",
    "# ---------------------------\n",
    "class Summarize(dspy.Signature):\n",
    "    text = dspy.InputField()\n",
    "    summary = dspy.OutputField()\n",
    "\n",
    "class Summarizer(dspy.Module):\n",
    "    def __init__(self):\n",
    "        super().__init__()\n",
    "        self.predict = dspy.Predict(Summarize)\n",
    "    def forward(self, text):\n",
    "        return self.predict(text=text)\n",
    "\n",
    "# ---------------------------\n",
    "# 3) Prepare examples (must use dspy.Example + .with_inputs)\n",
    "# ---------------------------\n",
    "# trainset = [\n",
    "#     dspy.Example(\n",
    "#         text=\"AI is transforming industries by automating tasks.\",\n",
    "#         summary=\"AI automates tasks across industries.\"\n",
    "#     ).with_inputs(\"text\"),\n",
    "#     dspy.Example(\n",
    "#         text=\"Climate change causes rising seas and extreme weather.\",\n",
    "#         summary=\"Climate change leads to rising seas and extreme weather.\"\n",
    "#     ).with_inputs(\"text\"),\n",
    "# ]\n",
    "\n",
    "# trainset = [\n",
    "#     dspy.Example(text=\"AI is transforming industries by automating tasks.\", summary=\"AI automates tasks across industries.\").with_inputs(\"text\"),\n",
    "#     dspy.Example(text=\"Climate change causes rising seas and extreme weather.\", summary=\"Climate change leads to rising seas and extreme weather.\").with_inputs(\"text\"),\n",
    "    \n",
    "#     # Short summaries (2 words or fewer)\n",
    "#     dspy.Example(text=\"Electric vehicles are becoming more popular due to environmental concerns.\", summary=\"EV adoption\").with_inputs(\"text\"),\n",
    "#     dspy.Example(text=\"Remote work has changed how companies manage productivity.\", summary=\"Remote shift\").with_inputs(\"text\"),\n",
    "#     dspy.Example(text=\"Cryptocurrency markets are highly volatile and speculative.\", summary=\"Crypto volatility\").with_inputs(\"text\"),\n",
    "#     dspy.Example(text=\"Online education platforms are expanding access to learning.\", summary=\"E-learning\").with_inputs(\"text\"),\n",
    "#     dspy.Example(text=\"Social media influences public opinion and behavior.\", summary=\"Influence\").with_inputs(\"text\"),\n",
    "#     dspy.Example(text=\"Renewable energy sources are replacing fossil fuels.\", summary=\"Green energy\").with_inputs(\"text\"),\n",
    "#     dspy.Example(text=\"Cybersecurity threats are increasing in frequency and complexity.\", summary=\"Cyber threats\").with_inputs(\"text\"),\n",
    "#     dspy.Example(text=\"Space exploration is advancing with private sector involvement.\", summary=\"Space race\").with_inputs(\"text\"),\n",
    "\n",
    "#     # Longer summaries\n",
    "#     dspy.Example(text=\"Machine learning models are improving medical diagnostics.\", summary=\"ML enhances medical diagnostics.\").with_inputs(\"text\"),\n",
    "#     dspy.Example(text=\"Supply chain disruptions have impacted global trade.\", summary=\"Global trade affected by supply chain issues.\").with_inputs(\"text\"),\n",
    "#     dspy.Example(text=\"Smartphones have become essential tools for communication and productivity.\", summary=\"Smartphones are vital for modern communication and work.\").with_inputs(\"text\"),\n",
    "#     dspy.Example(text=\"Augmented reality is being used in retail to enhance customer experience.\", summary=\"AR improves retail customer experience.\").with_inputs(\"text\"),\n",
    "#     dspy.Example(text=\"5G networks promise faster connectivity and new applications.\", summary=\"5G enables faster and broader connectivity.\").with_inputs(\"text\"),\n",
    "#     dspy.Example(text=\"Digital banking is replacing traditional financial services.\", summary=\"Digital banking transforms financial services.\").with_inputs(\"text\"),\n",
    "#     dspy.Example(text=\"Climate policies are shaping national energy strategies.\", summary=\"Climate policy influences energy planning.\").with_inputs(\"text\"),\n",
    "#     dspy.Example(text=\"Wearable technology is helping people monitor their health.\", summary=\"Wearables support health monitoring.\").with_inputs(\"text\"),\n",
    "#     dspy.Example(text=\"Data privacy regulations are evolving across regions.\", summary=\"Data privacy laws are becoming more stringent.\").with_inputs(\"text\"),\n",
    "#     dspy.Example(text=\"Artificial intelligence is being used to personalize marketing.\", summary=\"AI personalizes marketing strategies.\").with_inputs(\"text\"),\n",
    "# ]\n",
    "\n",
    "# 75 in total\n",
    "trainset = [\n",
    "    # 38 short summaries (2 words or fewer)\n",
    "    dspy.Example(text=\"AI is transforming industries by automating tasks.\", summary=\"AI automation\").with_inputs(\"text\"),\n",
    "    dspy.Example(text=\"Climate change causes rising seas and extreme weather.\", summary=\"Climate impact\").with_inputs(\"text\"),\n",
    "    dspy.Example(text=\"Electric vehicles are becoming more popular due to environmental concerns.\", summary=\"EV growth\").with_inputs(\"text\"),\n",
    "    dspy.Example(text=\"Remote work has changed how companies manage productivity.\", summary=\"Remote shift\").with_inputs(\"text\"),\n",
    "    dspy.Example(text=\"Cryptocurrency markets are highly volatile and speculative.\", summary=\"Crypto risk\").with_inputs(\"text\"),\n",
    "    dspy.Example(text=\"Online education platforms are expanding access to learning.\", summary=\"E-learning\").with_inputs(\"text\"),\n",
    "    dspy.Example(text=\"Social media influences public opinion and behavior.\", summary=\"Social influence\").with_inputs(\"text\"),\n",
    "    dspy.Example(text=\"Renewable energy sources are replacing fossil fuels.\", summary=\"Green energy\").with_inputs(\"text\"),\n",
    "    dspy.Example(text=\"Cybersecurity threats are increasing in frequency and complexity.\", summary=\"Cyber threats\").with_inputs(\"text\"),\n",
    "    dspy.Example(text=\"Space exploration is advancing with private sector involvement.\", summary=\"Space race\").with_inputs(\"text\"),\n",
    "    dspy.Example(text=\"Machine learning models are improving medical diagnostics.\", summary=\"ML diagnostics\").with_inputs(\"text\"),\n",
    "    dspy.Example(text=\"Supply chain disruptions have impacted global trade.\", summary=\"Trade disruption\").with_inputs(\"text\"),\n",
    "    dspy.Example(text=\"Smartphones have become essential tools for communication and productivity.\", summary=\"Smartphones\").with_inputs(\"text\"),\n",
    "    dspy.Example(text=\"Augmented reality is being used in retail to enhance customer experience.\", summary=\"AR retail\").with_inputs(\"text\"),\n",
    "    dspy.Example(text=\"5G networks promise faster connectivity and new applications.\", summary=\"5G rollout\").with_inputs(\"text\"),\n",
    "    dspy.Example(text=\"Digital banking is replacing traditional financial services.\", summary=\"Digital banking\").with_inputs(\"text\"),\n",
    "    dspy.Example(text=\"Climate policies are shaping national energy strategies.\", summary=\"Climate policy\").with_inputs(\"text\"),\n",
    "    dspy.Example(text=\"Wearable technology is helping people monitor their health.\", summary=\"Wearables\").with_inputs(\"text\"),\n",
    "    dspy.Example(text=\"Data privacy regulations are evolving across regions.\", summary=\"Privacy laws\").with_inputs(\"text\"),\n",
    "    dspy.Example(text=\"Artificial intelligence is being used to personalize marketing.\", summary=\"AI marketing\").with_inputs(\"text\"),\n",
    "    dspy.Example(text=\"Biometric authentication is becoming more common in mobile devices.\", summary=\"Biometrics\").with_inputs(\"text\"),\n",
    "    dspy.Example(text=\"Cloud computing enables scalable infrastructure for businesses.\", summary=\"Cloud tech\").with_inputs(\"text\"),\n",
    "    dspy.Example(text=\"Drones are being used for delivery and surveillance.\", summary=\"Drone use\").with_inputs(\"text\"),\n",
    "    dspy.Example(text=\"Genetic editing tools like CRISPR are revolutionizing medicine.\", summary=\"Gene editing\").with_inputs(\"text\"),\n",
    "    dspy.Example(text=\"Digital twins are used to simulate real-world systems.\", summary=\"Digital twins\").with_inputs(\"text\"),\n",
    "    dspy.Example(text=\"Quantum computing promises exponential processing power.\", summary=\"Quantum leap\").with_inputs(\"text\"),\n",
    "    dspy.Example(text=\"Voice assistants are becoming more integrated into daily life.\", summary=\"Voice tech\").with_inputs(\"text\"),\n",
    "    dspy.Example(text=\"Facial recognition is used in security and marketing.\", summary=\"Face ID\").with_inputs(\"text\"),\n",
    "    dspy.Example(text=\"3D printing is transforming manufacturing and prototyping.\", summary=\"3D printing\").with_inputs(\"text\"),\n",
    "    dspy.Example(text=\"Blockchain is being explored for secure digital transactions.\", summary=\"Blockchain\").with_inputs(\"text\"),\n",
    "    dspy.Example(text=\"Smart cities use data to improve urban living.\", summary=\"Smart cities\").with_inputs(\"text\"),\n",
    "    dspy.Example(text=\"Digital art is gaining popularity through NFTs.\", summary=\"NFT art\").with_inputs(\"text\"),\n",
    "    dspy.Example(text=\"Subscription models are changing how we consume media.\", summary=\"Subscriptions\").with_inputs(\"text\"),\n",
    "    dspy.Example(text=\"Food delivery apps are reshaping the restaurant industry.\", summary=\"Food apps\").with_inputs(\"text\"),\n",
    "    dspy.Example(text=\"Electric scooters are popular in urban transportation.\", summary=\"E-scooters\").with_inputs(\"text\"),\n",
    "    dspy.Example(text=\"Crowdfunding platforms help launch creative projects.\", summary=\"Crowdfunding\").with_inputs(\"text\"),\n",
    "    dspy.Example(text=\"Digital detoxes are becoming more common.\", summary=\"Digital detox\").with_inputs(\"text\"),\n",
    "    dspy.Example(text=\"Gamification is used to boost engagement in apps.\", summary=\"Gamification\").with_inputs(\"text\"),\n",
    "\n",
    "    # 12 longer summaries\n",
    "    dspy.Example(text=\"AI is helping doctors detect diseases earlier and more accurately.\", summary=\"AI improves early disease detection in healthcare.\").with_inputs(\"text\"),\n",
    "    dspy.Example(text=\"Climate change is accelerating the melting of polar ice caps.\", summary=\"Polar ice caps are melting faster due to climate change.\").with_inputs(\"text\"),\n",
    "    dspy.Example(text=\"Electric vehicles reduce emissions and dependence on fossil fuels.\", summary=\"EVs help reduce carbon emissions and oil reliance.\").with_inputs(\"text\"),\n",
    "    dspy.Example(text=\"Remote work has led to changes in office space demand.\", summary=\"Remote work is reshaping commercial real estate needs.\").with_inputs(\"text\"),\n",
    "    dspy.Example(text=\"Cryptocurrency adoption is growing despite regulatory uncertainty.\", summary=\"Crypto adoption continues amid unclear regulations.\").with_inputs(\"text\"),\n",
    "    dspy.Example(text=\"Online education is bridging gaps in access to quality learning.\", summary=\"E-learning expands access to quality education worldwide.\").with_inputs(\"text\"),\n",
    "    dspy.Example(text=\"Social media platforms are under scrutiny for misinformation.\", summary=\"Misinformation on social media is drawing regulatory attention.\").with_inputs(\"text\"),\n",
    "    dspy.Example(text=\"Renewable energy investments are increasing globally.\", summary=\"Global investment in renewables is on the rise.\").with_inputs(\"text\"),\n",
    "    dspy.Example(text=\"Cybersecurity breaches are prompting stronger data protection laws.\", summary=\"Data breaches are driving stricter cybersecurity regulations.\").with_inputs(\"text\"),\n",
    "    dspy.Example(text=\"Space tourism is becoming a reality for private citizens.\", summary=\"Private space travel is emerging as a new industry.\").with_inputs(\"text\"),\n",
    "    dspy.Example(text=\"Machine learning is being used to predict customer behavior.\", summary=\"ML helps businesses forecast customer actions and preferences.\").with_inputs(\"text\"),\n",
    "    dspy.Example(text=\"Supply chain resilience is a top priority post-pandemic.\", summary=\"Companies are focusing on building resilient supply chains.\").with_inputs(\"text\"),\n",
    "]\n",
    "\n",
    "\n",
    "# ---------------------------\n",
    "# 4) Simple metric\n",
    "# ---------------------------\n",
    "def simple_metric(example, pred, trace=None):\n",
    "    print(\"Simple Metric: example: \", example, \", pred:\", pred)\n",
    "    print(\"pred.summary: \", pred.summary)\n",
    "    # def toks(s): return set(re.findall(r\"\\w+\", (s or \"\").lower()))\n",
    "    # gt, pr = toks(example.summary), toks(pred.summary)\n",
    "    # result = len(gt & pr) / len(gt) if gt else 0.0\n",
    "    # print(\"Simple metric:result:\", result)\n",
    "    # return result  \n",
    "    sentence = pred.summary\n",
    "    word_count = len(sentence.split())\n",
    "    print(\"Simple metric: word count:\", word_count, \" less than two: \", word_count <= 2)\n",
    "    return word_count <= 2\n",
    "\n",
    "\n",
    "# ---------------------------\n",
    "# 5) Baseline\n",
    "# ---------------------------\n",
    "base = Summarizer()\n",
    "print(\"Baseline:\", base(\"Prompt optimization improves LLM outputs.\").summary)\n",
    "\n",
    "# ---------------------------\n",
    "# 6) Optimize with BootstrapFewShot\n",
    "# ---------------------------\n",
    "from dspy.teleprompt import BootstrapFewShot\n",
    "teleprompter = BootstrapFewShot(metric=simple_metric, max_bootstrapped_demos=4, max_labeled_demos=4)\n",
    "\n",
    "optimized_program = teleprompter.compile(\n",
    "    student=Summarizer(),\n",
    "    trainset=trainset\n",
    ")\n",
    "\n",
    "# ---------------------------\n",
    "# 7) Compare after optimization\n",
    "# ---------------------------\n",
    "print(\"Optimized:\", optimized_program(\"Prompt optimization improves LLM outputs.\").summary)\n"
   ]
  },
  {
   "cell_type": "markdown",
   "metadata": {},
   "source": [
    "# 🔍 Why You Don’t See Prompt Changes\n",
    "\n",
    "In DSPy, especially with BootstrapFewShot, the optimization process doesn't directly rewrite the prompt string (like \"Use as few words as possible\"). Instead, it:\n",
    "\n",
    "Selects examples from your trainset that best guide the model toward satisfying your metric.\n",
    "Constructs a few-shot prompt using those examples.\n",
    "Does not modify the Signature instructions unless you explicitly use a module that supports prompt rewriting (like MIPROv2 with auto=\"rewrite\").\n",
    "So the prompt string in your Summarize class stays the same, but the few-shot context passed to the model changes."
   ]
  },
  {
   "cell_type": "code",
   "execution_count": 17,
   "metadata": {},
   "outputs": [
    {
     "name": "stdout",
     "output_type": "stream",
     "text": [
      "4 demos in optimized program\n",
      "Example({'augmented': True, 'text': 'AI is transforming industries by automating tasks.', 'summary': 'AI automation'}) (input_keys=None)\n",
      "Example({'augmented': True, 'text': 'Cryptocurrency markets are highly volatile and speculative.', 'summary': 'Crypto volatility'}) (input_keys=None)\n",
      "Example({'text': 'Remote work has led to changes in office space demand.', 'summary': 'Remote work is reshaping commercial real estate needs.'}) (input_keys={'text'})\n",
      "Example({'text': 'Electric vehicles reduce emissions and dependence on fossil fuels.', 'summary': 'EVs help reduce carbon emissions and oil reliance.'}) (input_keys={'text'})\n"
     ]
    }
   ],
   "source": [
    "# Prompts below are the recommended or most optimised \"Few Shot Examples\"\n",
    "print(len(optimized_program.predict.demos), \"demos in optimized program\")\n",
    "for i in optimized_program.predict.demos:\n",
    "    print(i)\n",
    "    #print(i.text, \"->\", i.summary)"
   ]
  }
 ],
 "metadata": {
  "kernelspec": {
   "display_name": "Python 3",
   "language": "python",
   "name": "python3"
  },
  "language_info": {
   "codemirror_mode": {
    "name": "ipython",
    "version": 3
   },
   "file_extension": ".py",
   "mimetype": "text/x-python",
   "name": "python",
   "nbconvert_exporter": "python",
   "pygments_lexer": "ipython3",
   "version": "3.12.1"
  }
 },
 "nbformat": 4,
 "nbformat_minor": 2
}
