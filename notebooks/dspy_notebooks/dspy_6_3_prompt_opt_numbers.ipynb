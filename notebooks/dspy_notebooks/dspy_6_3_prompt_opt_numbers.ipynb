{
 "cells": [
  {
   "cell_type": "code",
   "execution_count": 9,
   "id": "059aacb1",
   "metadata": {},
   "outputs": [
    {
     "name": "stdout",
     "output_type": "stream",
     "text": [
      "Getting keys from environment variables\n"
     ]
    },
    {
     "name": "stderr",
     "output_type": "stream",
     "text": [
      "2025/09/04 18:35:45 INFO dspy.teleprompt.mipro_optimizer_v2: \n",
      "RUNNING WITH THE FOLLOWING MEDIUM AUTO RUN SETTINGS:\n",
      "num_trials: 18\n",
      "minibatch: False\n",
      "num_fewshot_candidates: 12\n",
      "num_instruct_candidates: 6\n",
      "valset size: 7\n",
      "\n",
      "2025/09/04 18:35:45 INFO dspy.teleprompt.mipro_optimizer_v2: \n",
      "==> STEP 1: BOOTSTRAP FEWSHOT EXAMPLES <==\n",
      "2025/09/04 18:35:45 INFO dspy.teleprompt.mipro_optimizer_v2: These will be used as few-shot example candidates for our program and for creating instructions.\n",
      "\n",
      "2025/09/04 18:35:45 INFO dspy.teleprompt.mipro_optimizer_v2: Bootstrapping N=12 sets of demonstrations...\n"
     ]
    },
    {
     "name": "stdout",
     "output_type": "stream",
     "text": [
      "Bootstrapping set 1/12\n",
      "Bootstrapping set 2/12\n",
      "Bootstrapping set 3/12\n"
     ]
    },
    {
     "name": "stderr",
     "output_type": "stream",
     "text": [
      "100%|██████████| 2/2 [00:01<00:00,  1.38it/s]\n"
     ]
    },
    {
     "name": "stdout",
     "output_type": "stream",
     "text": [
      "Bootstrapped 0 full traces after 1 examples for up to 1 rounds, amounting to 2 attempts.\n",
      "Bootstrapping set 4/12\n"
     ]
    },
    {
     "name": "stderr",
     "output_type": "stream",
     "text": [
      "100%|██████████| 2/2 [00:01<00:00,  1.35it/s]\n"
     ]
    },
    {
     "name": "stdout",
     "output_type": "stream",
     "text": [
      "Bootstrapped 0 full traces after 1 examples for up to 1 rounds, amounting to 2 attempts.\n",
      "Bootstrapping set 5/12\n"
     ]
    },
    {
     "name": "stderr",
     "output_type": "stream",
     "text": [
      "100%|██████████| 2/2 [00:01<00:00,  1.44it/s]\n"
     ]
    },
    {
     "name": "stdout",
     "output_type": "stream",
     "text": [
      "Bootstrapped 0 full traces after 1 examples for up to 1 rounds, amounting to 2 attempts.\n",
      "Bootstrapping set 6/12\n"
     ]
    },
    {
     "name": "stderr",
     "output_type": "stream",
     "text": [
      "100%|██████████| 2/2 [00:01<00:00,  1.44it/s]\n"
     ]
    },
    {
     "name": "stdout",
     "output_type": "stream",
     "text": [
      "Bootstrapped 0 full traces after 1 examples for up to 1 rounds, amounting to 2 attempts.\n",
      "Bootstrapping set 7/12\n"
     ]
    },
    {
     "name": "stderr",
     "output_type": "stream",
     "text": [
      "100%|██████████| 2/2 [00:01<00:00,  1.57it/s]\n"
     ]
    },
    {
     "name": "stdout",
     "output_type": "stream",
     "text": [
      "Bootstrapped 0 full traces after 1 examples for up to 1 rounds, amounting to 2 attempts.\n",
      "Bootstrapping set 8/12\n"
     ]
    },
    {
     "name": "stderr",
     "output_type": "stream",
     "text": [
      "100%|██████████| 2/2 [00:01<00:00,  1.47it/s]\n"
     ]
    },
    {
     "name": "stdout",
     "output_type": "stream",
     "text": [
      "Bootstrapped 0 full traces after 1 examples for up to 1 rounds, amounting to 2 attempts.\n",
      "Bootstrapping set 9/12\n"
     ]
    },
    {
     "name": "stderr",
     "output_type": "stream",
     "text": [
      "100%|██████████| 2/2 [00:01<00:00,  1.10it/s]\n"
     ]
    },
    {
     "name": "stdout",
     "output_type": "stream",
     "text": [
      "Bootstrapped 0 full traces after 1 examples for up to 1 rounds, amounting to 2 attempts.\n",
      "Bootstrapping set 10/12\n"
     ]
    },
    {
     "name": "stderr",
     "output_type": "stream",
     "text": [
      "100%|██████████| 2/2 [00:01<00:00,  1.34it/s]\n"
     ]
    },
    {
     "name": "stdout",
     "output_type": "stream",
     "text": [
      "Bootstrapped 0 full traces after 1 examples for up to 1 rounds, amounting to 2 attempts.\n",
      "Bootstrapping set 11/12\n"
     ]
    },
    {
     "name": "stderr",
     "output_type": "stream",
     "text": [
      "100%|██████████| 2/2 [00:01<00:00,  1.43it/s]\n"
     ]
    },
    {
     "name": "stdout",
     "output_type": "stream",
     "text": [
      "Bootstrapped 0 full traces after 1 examples for up to 1 rounds, amounting to 2 attempts.\n",
      "Bootstrapping set 12/12\n"
     ]
    },
    {
     "name": "stderr",
     "output_type": "stream",
     "text": [
      "100%|██████████| 2/2 [00:01<00:00,  1.47it/s]\n",
      "2025/09/04 18:35:59 INFO dspy.teleprompt.mipro_optimizer_v2: \n",
      "==> STEP 2: PROPOSE INSTRUCTION CANDIDATES <==\n",
      "2025/09/04 18:35:59 INFO dspy.teleprompt.mipro_optimizer_v2: We will use the few-shot examples from the previous step, a generated dataset summary, a summary of the program code, and a randomly selected prompting tip to propose instructions.\n"
     ]
    },
    {
     "name": "stdout",
     "output_type": "stream",
     "text": [
      "Bootstrapped 0 full traces after 1 examples for up to 1 rounds, amounting to 2 attempts.\n",
      "SOURCE CODE: \n",
      "\n",
      "\n"
     ]
    },
    {
     "name": "stderr",
     "output_type": "stream",
     "text": [
      "2025/09/04 18:36:01 INFO dspy.teleprompt.mipro_optimizer_v2: \n",
      "Proposing N=6 instructions...\n",
      "\n"
     ]
    },
    {
     "name": "stdout",
     "output_type": "stream",
     "text": [
      "DATA SUMMARY: The dataset appears to involve converting numerical values to their textual representations and vice versa. The examples demonstrate a pattern of providing a numerical value as `number_guess` and its corresponding word representation as the `answer` field, indicating a focus on understanding and generating text representations of numeric values.\n",
      "Using a randomly generated configuration for our grounded proposer.\n",
      "Selected tip: simple\n",
      "PROGRAM DESCRIPTION: The provided pseudocode appears to be for a language model program designed to solve a specific task. The program likely takes input data, processes it through a language model, and generates some output based on the model's predictions or classifications. It seems to involve a pipeline where data is fed into the model, and the model's output is then utilized for further processing or decision-making.\n",
      "task_demos No task demos provided.\n",
      "\n",
      "\n",
      "\n",
      "\n",
      "\u001b[34m[2025-09-04T18:36:05.859776]\u001b[0m\n",
      "\n",
      "\u001b[31mSystem message:\u001b[0m\n",
      "\n",
      "Your input fields are:\n",
      "1. `dataset_description` (str): A description of the dataset that we are using.\n",
      "2. `program_code` (str): Language model program designed to solve a particular task.\n",
      "3. `program_description` (str): Summary of the task the program is designed to solve, and how it goes about solving it.\n",
      "4. `module` (str): The module to create an instruction for.\n",
      "5. `module_description` (str): Description of the module to create an instruction for.\n",
      "6. `task_demos` (str): Example inputs/outputs of our module.\n",
      "7. `basic_instruction` (str): Basic instruction.\n",
      "8. `tip` (str): A suggestion for how to go about generating the new instruction.\n",
      "Your output fields are:\n",
      "1. `proposed_instruction` (str): Propose an instruction that will be used to prompt a Language Model to perform this task.\n",
      "All interactions will be structured in the following way, with the appropriate values filled in.\n",
      "\n",
      "[[ ## dataset_description ## ]]\n",
      "{dataset_description}\n",
      "\n",
      "[[ ## program_code ## ]]\n",
      "{program_code}\n",
      "\n",
      "[[ ## program_description ## ]]\n",
      "{program_description}\n",
      "\n",
      "[[ ## module ## ]]\n",
      "{module}\n",
      "\n",
      "[[ ## module_description ## ]]\n",
      "{module_description}\n",
      "\n",
      "[[ ## task_demos ## ]]\n",
      "{task_demos}\n",
      "\n",
      "[[ ## basic_instruction ## ]]\n",
      "{basic_instruction}\n",
      "\n",
      "[[ ## tip ## ]]\n",
      "{tip}\n",
      "\n",
      "[[ ## proposed_instruction ## ]]\n",
      "{proposed_instruction}\n",
      "\n",
      "[[ ## completed ## ]]\n",
      "In adhering to this structure, your objective is: \n",
      "        Use the information below to learn about a task that we are trying to solve using calls to an LM, then generate a new instruction that will be used to prompt a Language Model to better solve the task.\n",
      "\n",
      "\n",
      "\u001b[31mUser message:\u001b[0m\n",
      "\n",
      "[[ ## dataset_description ## ]]\n",
      "The dataset appears to involve converting numerical values to their textual representations and vice versa. The examples demonstrate a pattern of providing a numerical value as `number_guess` and its corresponding word representation as the `answer` field, indicating a focus on understanding and generating text representations of numeric values.\n",
      "\n",
      "[[ ## program_code ## ]]\n",
      "\n",
      "\n",
      "\n",
      "\n",
      "[[ ## program_description ## ]]\n",
      "The provided pseudocode appears to be for a language model program designed to solve a specific task. The program likely takes input data, processes it through a language model, and generates some output based on the model's predictions or classifications. It seems to involve a pipeline where data is fed into the model, and the model's output is then utilized for further processing or decision-making.\n",
      "\n",
      "[[ ## module ## ]]\n",
      "Predict(number_guess) -> answer\n",
      "\n",
      "[[ ## module_description ## ]]\n",
      "The `Predict` module in the program is responsible for taking a `number_guess` as input and generating an `answer` based on the predictions made by the language model. This module likely interfaces with the language model to process the input and provide a response or prediction based on the model's training and learned patterns. It serves as a bridge between the user's input and the model's output, making the model's capabilities accessible for generating answers to specific queries or tasks.\n",
      "\n",
      "[[ ## task_demos ## ]]\n",
      "No task demos provided.\n",
      "\n",
      "[[ ## basic_instruction ## ]]\n",
      "Guess a number from 1 to 10\n",
      "\n",
      "[[ ## tip ## ]]\n",
      "Keep the instruction clear and concise.\n",
      "\n",
      "Respond with the corresponding output fields, starting with the field `[[ ## proposed_instruction ## ]]`, and then ending with the marker for `[[ ## completed ## ]]`.\n",
      "\n",
      "\n",
      "\u001b[31mResponse:\u001b[0m\n",
      "\n",
      "\u001b[32m[[ ## proposed_instruction ## ]]\n",
      "Provide a numerical value between 1 and 10, and ask the language model to predict and generate its corresponding textual representation.\n",
      "\n",
      "[[ ## completed ## ]]\u001b[0m\n",
      "\n",
      "\n",
      "\n",
      "\n",
      "\n",
      "PROPOSED INSTRUCTION: Provide a numerical value between 1 and 10, and ask the language model to predict and generate its corresponding textual representation.\n",
      "Using a randomly generated configuration for our grounded proposer.\n",
      "Selected tip: creative\n",
      "PROGRAM DESCRIPTION: The program appears to be a pipeline designed to solve tasks using calls to language models. It likely takes input data, processes it through one or more language models, and produces an output based on the model's predictions or classifications.\n",
      "task_demos No task demos provided.\n",
      "\n",
      "\n",
      "\n",
      "\n",
      "\u001b[34m[2025-09-04T18:36:08.500122]\u001b[0m\n",
      "\n",
      "\u001b[31mSystem message:\u001b[0m\n",
      "\n",
      "Your input fields are:\n",
      "1. `dataset_description` (str): A description of the dataset that we are using.\n",
      "2. `program_code` (str): Language model program designed to solve a particular task.\n",
      "3. `program_description` (str): Summary of the task the program is designed to solve, and how it goes about solving it.\n",
      "4. `module` (str): The module to create an instruction for.\n",
      "5. `module_description` (str): Description of the module to create an instruction for.\n",
      "6. `task_demos` (str): Example inputs/outputs of our module.\n",
      "7. `basic_instruction` (str): Basic instruction.\n",
      "8. `tip` (str): A suggestion for how to go about generating the new instruction.\n",
      "Your output fields are:\n",
      "1. `proposed_instruction` (str): Propose an instruction that will be used to prompt a Language Model to perform this task.\n",
      "All interactions will be structured in the following way, with the appropriate values filled in.\n",
      "\n",
      "[[ ## dataset_description ## ]]\n",
      "{dataset_description}\n",
      "\n",
      "[[ ## program_code ## ]]\n",
      "{program_code}\n",
      "\n",
      "[[ ## program_description ## ]]\n",
      "{program_description}\n",
      "\n",
      "[[ ## module ## ]]\n",
      "{module}\n",
      "\n",
      "[[ ## module_description ## ]]\n",
      "{module_description}\n",
      "\n",
      "[[ ## task_demos ## ]]\n",
      "{task_demos}\n",
      "\n",
      "[[ ## basic_instruction ## ]]\n",
      "{basic_instruction}\n",
      "\n",
      "[[ ## tip ## ]]\n",
      "{tip}\n",
      "\n",
      "[[ ## proposed_instruction ## ]]\n",
      "{proposed_instruction}\n",
      "\n",
      "[[ ## completed ## ]]\n",
      "In adhering to this structure, your objective is: \n",
      "        Use the information below to learn about a task that we are trying to solve using calls to an LM, then generate a new instruction that will be used to prompt a Language Model to better solve the task.\n",
      "\n",
      "\n",
      "\u001b[31mUser message:\u001b[0m\n",
      "\n",
      "[[ ## dataset_description ## ]]\n",
      "The dataset appears to involve converting numerical values to their textual representations and vice versa. The examples demonstrate a pattern of providing a numerical value as `number_guess` and its corresponding word representation as the `answer` field, indicating a focus on understanding and generating text representations of numeric values.\n",
      "\n",
      "[[ ## program_code ## ]]\n",
      "\n",
      "\n",
      "\n",
      "\n",
      "[[ ## program_description ## ]]\n",
      "The program appears to be a pipeline designed to solve tasks using calls to language models. It likely takes input data, processes it through one or more language models, and produces an output based on the model's predictions or classifications.\n",
      "\n",
      "[[ ## module ## ]]\n",
      "Predict(number_guess) -> answer\n",
      "\n",
      "[[ ## module_description ## ]]\n",
      "The `Predict` module in this pipeline takes a `number_guess` as input and is responsible for predicting or determining the answer based on the input provided. It likely utilizes a language model to make this prediction and returns the result as `answer`.\n",
      "\n",
      "[[ ## task_demos ## ]]\n",
      "No task demos provided.\n",
      "\n",
      "[[ ## basic_instruction ## ]]\n",
      "Guess a number from 1 to 10\n",
      "\n",
      "[[ ## tip ## ]]\n",
      "Don't be afraid to be creative when creating the new instruction!\n",
      "\n",
      "Respond with the corresponding output fields, starting with the field `[[ ## proposed_instruction ## ]]`, and then ending with the marker for `[[ ## completed ## ]]`.\n",
      "\n",
      "\n",
      "\u001b[31mResponse:\u001b[0m\n",
      "\n",
      "\u001b[32m[[ ## proposed_instruction ## ]]\n",
      "Given a numerical value as `number_guess`, provide the corresponding textual representation as the output `answer`.\n",
      "\n",
      "[[ ## completed ## ]]\u001b[0m\n",
      "\n",
      "\n",
      "\n",
      "\n",
      "\n",
      "PROPOSED INSTRUCTION: Given a numerical value as `number_guess`, provide the corresponding textual representation as the output `answer`.\n",
      "Using a randomly generated configuration for our grounded proposer.\n",
      "Selected tip: description\n",
      "PROGRAM DESCRIPTION: The program appears to be a pipeline designed to solve tasks using calls to language models. It likely takes input data, processes it through one or more language models, and provides some form of output based on the model's predictions or classifications.\n",
      "task_demos No task demos provided.\n",
      "\n",
      "\n",
      "\n",
      "\n",
      "\u001b[34m[2025-09-04T18:36:11.620324]\u001b[0m\n",
      "\n",
      "\u001b[31mSystem message:\u001b[0m\n",
      "\n",
      "Your input fields are:\n",
      "1. `dataset_description` (str): A description of the dataset that we are using.\n",
      "2. `program_code` (str): Language model program designed to solve a particular task.\n",
      "3. `program_description` (str): Summary of the task the program is designed to solve, and how it goes about solving it.\n",
      "4. `module` (str): The module to create an instruction for.\n",
      "5. `module_description` (str): Description of the module to create an instruction for.\n",
      "6. `task_demos` (str): Example inputs/outputs of our module.\n",
      "7. `basic_instruction` (str): Basic instruction.\n",
      "8. `tip` (str): A suggestion for how to go about generating the new instruction.\n",
      "Your output fields are:\n",
      "1. `proposed_instruction` (str): Propose an instruction that will be used to prompt a Language Model to perform this task.\n",
      "All interactions will be structured in the following way, with the appropriate values filled in.\n",
      "\n",
      "[[ ## dataset_description ## ]]\n",
      "{dataset_description}\n",
      "\n",
      "[[ ## program_code ## ]]\n",
      "{program_code}\n",
      "\n",
      "[[ ## program_description ## ]]\n",
      "{program_description}\n",
      "\n",
      "[[ ## module ## ]]\n",
      "{module}\n",
      "\n",
      "[[ ## module_description ## ]]\n",
      "{module_description}\n",
      "\n",
      "[[ ## task_demos ## ]]\n",
      "{task_demos}\n",
      "\n",
      "[[ ## basic_instruction ## ]]\n",
      "{basic_instruction}\n",
      "\n",
      "[[ ## tip ## ]]\n",
      "{tip}\n",
      "\n",
      "[[ ## proposed_instruction ## ]]\n",
      "{proposed_instruction}\n",
      "\n",
      "[[ ## completed ## ]]\n",
      "In adhering to this structure, your objective is: \n",
      "        Use the information below to learn about a task that we are trying to solve using calls to an LM, then generate a new instruction that will be used to prompt a Language Model to better solve the task.\n",
      "\n",
      "\n",
      "\u001b[31mUser message:\u001b[0m\n",
      "\n",
      "[[ ## dataset_description ## ]]\n",
      "The dataset appears to involve converting numerical values to their textual representations and vice versa. The examples demonstrate a pattern of providing a numerical value as `number_guess` and its corresponding word representation as the `answer` field, indicating a focus on understanding and generating text representations of numeric values.\n",
      "\n",
      "[[ ## program_code ## ]]\n",
      "\n",
      "\n",
      "\n",
      "\n",
      "[[ ## program_description ## ]]\n",
      "The program appears to be a pipeline designed to solve tasks using calls to language models. It likely takes input data, processes it through one or more language models, and provides some form of output based on the model's predictions or classifications.\n",
      "\n",
      "[[ ## module ## ]]\n",
      "Predict(number_guess) -> answer\n",
      "\n",
      "[[ ## module_description ## ]]\n",
      "The `Predict` module in this pipeline takes a `number_guess` as input and returns an `answer`. This module likely utilizes a language model to predict or infer the correct answer based on the input `number_guess`. It encapsulates the logic required to interact with the language model, process the input, and provide a response to the user based on the model's predictions.\n",
      "\n",
      "[[ ## task_demos ## ]]\n",
      "No task demos provided.\n",
      "\n",
      "[[ ## basic_instruction ## ]]\n",
      "Guess a number from 1 to 10\n",
      "\n",
      "[[ ## tip ## ]]\n",
      "Make sure your instruction is very informative and descriptive.\n",
      "\n",
      "Respond with the corresponding output fields, starting with the field `[[ ## proposed_instruction ## ]]`, and then ending with the marker for `[[ ## completed ## ]]`.\n",
      "\n",
      "\n",
      "\u001b[31mResponse:\u001b[0m\n",
      "\n",
      "\u001b[32m[[ ## proposed_instruction ## ]]\n",
      "Given a numerical value `number_guess`, provide the textual representation of that number as the output `answer`.\n",
      "\n",
      "[[ ## completed ## ]]\u001b[0m\n",
      "\n",
      "\n",
      "\n",
      "\n",
      "\n",
      "PROPOSED INSTRUCTION: Given a numerical value `number_guess`, provide the textual representation of that number as the output `answer`.\n",
      "Using a randomly generated configuration for our grounded proposer.\n",
      "Selected tip: simple\n",
      "PROGRAM DESCRIPTION: The program appears to be a pseudocode for a language model program designed to solve a particular task. It likely involves utilizing language models to perform various natural language processing (NLP) tasks such as text generation, sentiment analysis, language translation, or question answering. The program code would consist of steps that involve interacting with pre-trained language models or training custom models for specific NLP tasks.\n",
      "task_demos No task demos provided.\n",
      "\n",
      "\n",
      "\n",
      "\n",
      "\u001b[34m[2025-09-04T18:36:15.921576]\u001b[0m\n",
      "\n",
      "\u001b[31mSystem message:\u001b[0m\n",
      "\n",
      "Your input fields are:\n",
      "1. `dataset_description` (str): A description of the dataset that we are using.\n",
      "2. `program_code` (str): Language model program designed to solve a particular task.\n",
      "3. `program_description` (str): Summary of the task the program is designed to solve, and how it goes about solving it.\n",
      "4. `module` (str): The module to create an instruction for.\n",
      "5. `module_description` (str): Description of the module to create an instruction for.\n",
      "6. `task_demos` (str): Example inputs/outputs of our module.\n",
      "7. `basic_instruction` (str): Basic instruction.\n",
      "8. `tip` (str): A suggestion for how to go about generating the new instruction.\n",
      "Your output fields are:\n",
      "1. `proposed_instruction` (str): Propose an instruction that will be used to prompt a Language Model to perform this task.\n",
      "All interactions will be structured in the following way, with the appropriate values filled in.\n",
      "\n",
      "[[ ## dataset_description ## ]]\n",
      "{dataset_description}\n",
      "\n",
      "[[ ## program_code ## ]]\n",
      "{program_code}\n",
      "\n",
      "[[ ## program_description ## ]]\n",
      "{program_description}\n",
      "\n",
      "[[ ## module ## ]]\n",
      "{module}\n",
      "\n",
      "[[ ## module_description ## ]]\n",
      "{module_description}\n",
      "\n",
      "[[ ## task_demos ## ]]\n",
      "{task_demos}\n",
      "\n",
      "[[ ## basic_instruction ## ]]\n",
      "{basic_instruction}\n",
      "\n",
      "[[ ## tip ## ]]\n",
      "{tip}\n",
      "\n",
      "[[ ## proposed_instruction ## ]]\n",
      "{proposed_instruction}\n",
      "\n",
      "[[ ## completed ## ]]\n",
      "In adhering to this structure, your objective is: \n",
      "        Use the information below to learn about a task that we are trying to solve using calls to an LM, then generate a new instruction that will be used to prompt a Language Model to better solve the task.\n",
      "\n",
      "\n",
      "\u001b[31mUser message:\u001b[0m\n",
      "\n",
      "[[ ## dataset_description ## ]]\n",
      "The dataset appears to involve converting numerical values to their textual representations and vice versa. The examples demonstrate a pattern of providing a numerical value as `number_guess` and its corresponding word representation as the `answer` field, indicating a focus on understanding and generating text representations of numeric values.\n",
      "\n",
      "[[ ## program_code ## ]]\n",
      "\n",
      "\n",
      "\n",
      "\n",
      "[[ ## program_description ## ]]\n",
      "The program appears to be a pseudocode for a language model program designed to solve a particular task. It likely involves utilizing language models to perform various natural language processing (NLP) tasks such as text generation, sentiment analysis, language translation, or question answering. The program code would consist of steps that involve interacting with pre-trained language models or training custom models for specific NLP tasks.\n",
      "\n",
      "[[ ## module ## ]]\n",
      "Predict(number_guess) -> answer\n",
      "\n",
      "[[ ## module_description ## ]]\n",
      "The `Predict(number_guess) -> answer` module in the program is responsible for making predictions based on a given number guess. This module likely interacts with a language model or a predictive algorithm to generate an answer based on the input provided. It could be used in tasks such as number prediction, sequence completion, or any scenario where predicting the next number in a sequence is required.\n",
      "\n",
      "[[ ## task_demos ## ]]\n",
      "No task demos provided.\n",
      "\n",
      "[[ ## basic_instruction ## ]]\n",
      "Guess a number from 1 to 10\n",
      "\n",
      "[[ ## tip ## ]]\n",
      "Keep the instruction clear and concise.\n",
      "\n",
      "Respond with the corresponding output fields, starting with the field `[[ ## proposed_instruction ## ]]`, and then ending with the marker for `[[ ## completed ## ]]`.\n",
      "\n",
      "\n",
      "\u001b[31mResponse:\u001b[0m\n",
      "\n",
      "\u001b[32m[[ ## proposed_instruction ## ]]\n",
      "Given a numerical value, provide the corresponding textual representation of the number.\n",
      "\n",
      "[[ ## completed ## ]]\n",
      "In adhering to this structure, your objective is: \n",
      "        Use the information below to learn about a task that we are trying to solve using calls to an LM, then generate a new instruction that will be used to prompt a Language Model to better solve the task.\u001b[0m\n",
      "\n",
      "\n",
      "\n",
      "\n",
      "\n",
      "PROPOSED INSTRUCTION: Given a numerical value, provide the corresponding textual representation of the number.\n",
      "Using a randomly generated configuration for our grounded proposer.\n",
      "Selected tip: description\n",
      "PROGRAM DESCRIPTION: The program code seems to be a pipeline designed to solve tasks using language models. It likely takes input data and processes it through different language models to perform various natural language processing tasks such as text generation, translation, sentiment analysis, or question answering. The pipeline may involve preprocessing the input, passing it through different language models, and post-processing the output to provide the desired results.\n",
      "task_demos No task demos provided.\n",
      "\n",
      "\n",
      "\n",
      "\n",
      "\u001b[34m[2025-09-04T18:36:20.010858]\u001b[0m\n",
      "\n",
      "\u001b[31mSystem message:\u001b[0m\n",
      "\n",
      "Your input fields are:\n",
      "1. `dataset_description` (str): A description of the dataset that we are using.\n",
      "2. `program_code` (str): Language model program designed to solve a particular task.\n",
      "3. `program_description` (str): Summary of the task the program is designed to solve, and how it goes about solving it.\n",
      "4. `module` (str): The module to create an instruction for.\n",
      "5. `module_description` (str): Description of the module to create an instruction for.\n",
      "6. `task_demos` (str): Example inputs/outputs of our module.\n",
      "7. `basic_instruction` (str): Basic instruction.\n",
      "8. `tip` (str): A suggestion for how to go about generating the new instruction.\n",
      "Your output fields are:\n",
      "1. `proposed_instruction` (str): Propose an instruction that will be used to prompt a Language Model to perform this task.\n",
      "All interactions will be structured in the following way, with the appropriate values filled in.\n",
      "\n",
      "[[ ## dataset_description ## ]]\n",
      "{dataset_description}\n",
      "\n",
      "[[ ## program_code ## ]]\n",
      "{program_code}\n",
      "\n",
      "[[ ## program_description ## ]]\n",
      "{program_description}\n",
      "\n",
      "[[ ## module ## ]]\n",
      "{module}\n",
      "\n",
      "[[ ## module_description ## ]]\n",
      "{module_description}\n",
      "\n",
      "[[ ## task_demos ## ]]\n",
      "{task_demos}\n",
      "\n",
      "[[ ## basic_instruction ## ]]\n",
      "{basic_instruction}\n",
      "\n",
      "[[ ## tip ## ]]\n",
      "{tip}\n",
      "\n",
      "[[ ## proposed_instruction ## ]]\n",
      "{proposed_instruction}\n",
      "\n",
      "[[ ## completed ## ]]\n",
      "In adhering to this structure, your objective is: \n",
      "        Use the information below to learn about a task that we are trying to solve using calls to an LM, then generate a new instruction that will be used to prompt a Language Model to better solve the task.\n",
      "\n",
      "\n",
      "\u001b[31mUser message:\u001b[0m\n",
      "\n",
      "[[ ## dataset_description ## ]]\n",
      "The dataset appears to involve converting numerical values to their textual representations and vice versa. The examples demonstrate a pattern of providing a numerical value as `number_guess` and its corresponding word representation as the `answer` field, indicating a focus on understanding and generating text representations of numeric values.\n",
      "\n",
      "[[ ## program_code ## ]]\n",
      "\n",
      "\n",
      "\n",
      "\n",
      "[[ ## program_description ## ]]\n",
      "The program code seems to be a pipeline designed to solve tasks using language models. It likely takes input data and processes it through different language models to perform various natural language processing tasks such as text generation, translation, sentiment analysis, or question answering. The pipeline may involve preprocessing the input, passing it through different language models, and post-processing the output to provide the desired results.\n",
      "\n",
      "[[ ## module ## ]]\n",
      "Predict(number_guess) -> answer\n",
      "\n",
      "[[ ## module_description ## ]]\n",
      "The `Predict` module in the pipeline takes a `number_guess` as input and provides an `answer` based on the processing done by the language models in the pipeline. This module likely uses language models to predict or generate an answer related to the `number_guess` provided. The specific implementation details of how the prediction is made would depend on the type of language models used in the pipeline, such as neural networks for regression tasks, generative models for text generation, or other models tailored to the specific task at hand.\n",
      "\n",
      "[[ ## task_demos ## ]]\n",
      "No task demos provided.\n",
      "\n",
      "[[ ## basic_instruction ## ]]\n",
      "Guess a number from 1 to 10\n",
      "\n",
      "[[ ## tip ## ]]\n",
      "Make sure your instruction is very informative and descriptive.\n",
      "\n",
      "Respond with the corresponding output fields, starting with the field `[[ ## proposed_instruction ## ]]`, and then ending with the marker for `[[ ## completed ## ]]`.\n",
      "\n",
      "\n",
      "\u001b[31mResponse:\u001b[0m\n",
      "\n",
      "\u001b[32m[[ ## proposed_instruction ## ]]\n",
      "Given a numerical value as input, provide the textual representation of that number using the language model pipeline. The pipeline will process the input number through different language models to generate the corresponding word representation. Please ensure the input number falls within the range specified for accurate results.\n",
      "\n",
      "[[ ## completed ## ]]\u001b[0m\n",
      "\n",
      "\n",
      "\n",
      "\n",
      "\n",
      "PROPOSED INSTRUCTION: Given a numerical value as input, provide the textual representation of that number using the language model pipeline. The pipeline will process the input number through different language models to generate the corresponding word representation. Please ensure the input number falls within the range specified for accurate results.\n",
      "Using a randomly generated configuration for our grounded proposer.\n",
      "Selected tip: none\n",
      "PROGRAM DESCRIPTION: The provided pseudocode appears to be a pipeline designed to solve tasks using language models. It likely takes input data, processes it through various language model components, and produces an output based on the task at hand. The program seems to utilize language models to perform tasks such as text generation, classification, translation, summarization, or any other natural language processing (NLP) related tasks.\n",
      "task_demos No task demos provided.\n"
     ]
    },
    {
     "name": "stderr",
     "output_type": "stream",
     "text": [
      "2025/09/04 18:36:24 INFO dspy.teleprompt.mipro_optimizer_v2: Proposed Instructions for Predictor 0:\n",
      "\n",
      "2025/09/04 18:36:24 INFO dspy.teleprompt.mipro_optimizer_v2: 0: Guess a number from 1 to 10\n",
      "\n",
      "2025/09/04 18:36:24 INFO dspy.teleprompt.mipro_optimizer_v2: 1: Given a numerical value as `number_guess`, provide the corresponding textual representation as the output `answer`.\n",
      "\n",
      "2025/09/04 18:36:24 INFO dspy.teleprompt.mipro_optimizer_v2: 2: Given a numerical value `number_guess`, provide the textual representation of that number as the output `answer`.\n",
      "\n",
      "2025/09/04 18:36:24 INFO dspy.teleprompt.mipro_optimizer_v2: 3: Given a numerical value, provide the corresponding textual representation of the number.\n",
      "\n",
      "2025/09/04 18:36:24 INFO dspy.teleprompt.mipro_optimizer_v2: 4: Given a numerical value as input, provide the textual representation of that number using the language model pipeline. The pipeline will process the input number through different language models to generate the corresponding word representation. Please ensure the input number falls within the range specified for accurate results.\n",
      "\n",
      "2025/09/04 18:36:24 INFO dspy.teleprompt.mipro_optimizer_v2: 5: Please provide a numerical value as input to the model for prediction. The model will then generate the corresponding textual representation of the input number.\n",
      "\n",
      "2025/09/04 18:36:24 INFO dspy.teleprompt.mipro_optimizer_v2: \n",
      "\n",
      "2025/09/04 18:36:24 INFO dspy.teleprompt.mipro_optimizer_v2: ==> STEP 3: FINDING OPTIMAL PROMPT PARAMETERS <==\n",
      "2025/09/04 18:36:24 INFO dspy.teleprompt.mipro_optimizer_v2: We will evaluate the program over a series of trials with different combinations of instructions and few-shot examples to find the optimal combination using Bayesian Optimization.\n",
      "\n",
      "2025/09/04 18:36:24 INFO dspy.teleprompt.mipro_optimizer_v2: == Trial 1 / 18 - Full Evaluation of Default Program ==\n"
     ]
    },
    {
     "name": "stdout",
     "output_type": "stream",
     "text": [
      "\n",
      "\n",
      "\n",
      "\n",
      "\u001b[34m[2025-09-04T18:36:24.930934]\u001b[0m\n",
      "\n",
      "\u001b[31mSystem message:\u001b[0m\n",
      "\n",
      "Your input fields are:\n",
      "1. `dataset_description` (str): A description of the dataset that we are using.\n",
      "2. `program_code` (str): Language model program designed to solve a particular task.\n",
      "3. `program_description` (str): Summary of the task the program is designed to solve, and how it goes about solving it.\n",
      "4. `module` (str): The module to create an instruction for.\n",
      "5. `module_description` (str): Description of the module to create an instruction for.\n",
      "6. `task_demos` (str): Example inputs/outputs of our module.\n",
      "7. `basic_instruction` (str): Basic instruction.\n",
      "Your output fields are:\n",
      "1. `proposed_instruction` (str): Propose an instruction that will be used to prompt a Language Model to perform this task.\n",
      "All interactions will be structured in the following way, with the appropriate values filled in.\n",
      "\n",
      "[[ ## dataset_description ## ]]\n",
      "{dataset_description}\n",
      "\n",
      "[[ ## program_code ## ]]\n",
      "{program_code}\n",
      "\n",
      "[[ ## program_description ## ]]\n",
      "{program_description}\n",
      "\n",
      "[[ ## module ## ]]\n",
      "{module}\n",
      "\n",
      "[[ ## module_description ## ]]\n",
      "{module_description}\n",
      "\n",
      "[[ ## task_demos ## ]]\n",
      "{task_demos}\n",
      "\n",
      "[[ ## basic_instruction ## ]]\n",
      "{basic_instruction}\n",
      "\n",
      "[[ ## proposed_instruction ## ]]\n",
      "{proposed_instruction}\n",
      "\n",
      "[[ ## completed ## ]]\n",
      "In adhering to this structure, your objective is: \n",
      "        Use the information below to learn about a task that we are trying to solve using calls to an LM, then generate a new instruction that will be used to prompt a Language Model to better solve the task.\n",
      "\n",
      "\n",
      "\u001b[31mUser message:\u001b[0m\n",
      "\n",
      "[[ ## dataset_description ## ]]\n",
      "The dataset appears to involve converting numerical values to their textual representations and vice versa. The examples demonstrate a pattern of providing a numerical value as `number_guess` and its corresponding word representation as the `answer` field, indicating a focus on understanding and generating text representations of numeric values.\n",
      "\n",
      "[[ ## program_code ## ]]\n",
      "\n",
      "\n",
      "\n",
      "\n",
      "[[ ## program_description ## ]]\n",
      "The provided pseudocode appears to be a pipeline designed to solve tasks using language models. It likely takes input data, processes it through various language model components, and produces an output based on the task at hand. The program seems to utilize language models to perform tasks such as text generation, classification, translation, summarization, or any other natural language processing (NLP) related tasks.\n",
      "\n",
      "[[ ## module ## ]]\n",
      "Predict(number_guess) -> answer\n",
      "\n",
      "[[ ## module_description ## ]]\n",
      "The `Predict(number_guess) -> answer` module in the pipeline is responsible for making predictions based on a given input `number_guess`. This module likely interfaces with a language model component that has been trained to predict or generate numerical values based on the input provided. It takes the `number_guess` as input, processes it through the language model, and returns an `answer` that represents the model's prediction or generation related to the input number.\n",
      "\n",
      "[[ ## task_demos ## ]]\n",
      "No task demos provided.\n",
      "\n",
      "[[ ## basic_instruction ## ]]\n",
      "Guess a number from 1 to 10\n",
      "\n",
      "Respond with the corresponding output fields, starting with the field `[[ ## proposed_instruction ## ]]`, and then ending with the marker for `[[ ## completed ## ]]`.\n",
      "\n",
      "\n",
      "\u001b[31mResponse:\u001b[0m\n",
      "\n",
      "\u001b[32m[[ ## proposed_instruction ## ]]\n",
      "Please provide a numerical value as input to the model for prediction. The model will then generate the corresponding textual representation of the input number.\n",
      "\n",
      "[[ ## completed ## ]]\u001b[0m\n",
      "\n",
      "\n",
      "\n",
      "\n",
      "\n",
      "PROPOSED INSTRUCTION: Please provide a numerical value as input to the model for prediction. The model will then generate the corresponding textual representation of the input number.\n",
      "Average Metric: 1.00 / 7 (14.3%): 100%|██████████| 7/7 [00:02<00:00,  2.66it/s] "
     ]
    },
    {
     "name": "stderr",
     "output_type": "stream",
     "text": [
      "2025/09/04 18:36:27 INFO dspy.evaluate.evaluate: Average Metric: 1 / 7 (14.3%)\n",
      "2025/09/04 18:36:27 INFO dspy.teleprompt.mipro_optimizer_v2: Default program score: 14.29\n",
      "\n",
      "2025/09/04 18:36:27 INFO dspy.teleprompt.mipro_optimizer_v2: ===== Trial 2 / 18 =====\n",
      "2025/09/04 18:36:27 INFO dspy.teleprompt.mipro_optimizer_v2: Evaluating the following candidate program...\n",
      "\n"
     ]
    },
    {
     "name": "stdout",
     "output_type": "stream",
     "text": [
      "\n",
      "Predictor 0\n",
      "i: Given a numerical value as `number_guess`, provide the corresponding textual representation as the output `answer`.\n",
      "p: Answer:\n",
      "\n",
      "\n",
      "Average Metric: 1.00 / 7 (14.3%): 100%|██████████| 7/7 [00:00<00:00,  7.88it/s]"
     ]
    },
    {
     "name": "stderr",
     "output_type": "stream",
     "text": [
      "2025/09/04 18:36:28 INFO dspy.evaluate.evaluate: Average Metric: 1 / 7 (14.3%)\n",
      "2025/09/04 18:36:28 INFO dspy.teleprompt.mipro_optimizer_v2: Score: 14.29 with parameters ['Predictor 0: Instruction 1', 'Predictor 0: Few-Shot Set 6'].\n"
     ]
    },
    {
     "name": "stdout",
     "output_type": "stream",
     "text": [
      "\n"
     ]
    },
    {
     "name": "stderr",
     "output_type": "stream",
     "text": [
      "2025/09/04 18:36:28 INFO dspy.teleprompt.mipro_optimizer_v2: Scores so far: [14.29, 14.29]\n",
      "2025/09/04 18:36:28 INFO dspy.teleprompt.mipro_optimizer_v2: Best score so far: 14.29\n",
      "2025/09/04 18:36:28 INFO dspy.teleprompt.mipro_optimizer_v2: ========================\n",
      "\n",
      "\n",
      "2025/09/04 18:36:28 INFO dspy.teleprompt.mipro_optimizer_v2: ===== Trial 3 / 18 =====\n",
      "2025/09/04 18:36:28 INFO dspy.teleprompt.mipro_optimizer_v2: Evaluating the following candidate program...\n",
      "\n"
     ]
    },
    {
     "name": "stdout",
     "output_type": "stream",
     "text": [
      "Predictor 0\n",
      "i: Given a numerical value as input, provide the textual representation of that number using the language model pipeline. The pipeline will process the input number through different language models to generate the corresponding word representation. Please ensure the input number falls within the range specified for accurate results.\n",
      "p: Answer:\n",
      "\n",
      "\n",
      "Average Metric: 1.00 / 7 (14.3%): 100%|██████████| 7/7 [00:02<00:00,  3.50it/s]"
     ]
    },
    {
     "name": "stderr",
     "output_type": "stream",
     "text": [
      "2025/09/04 18:36:30 INFO dspy.evaluate.evaluate: Average Metric: 1 / 7 (14.3%)\n",
      "2025/09/04 18:36:30 INFO dspy.teleprompt.mipro_optimizer_v2: Score: 14.29 with parameters ['Predictor 0: Instruction 4', 'Predictor 0: Few-Shot Set 2'].\n",
      "2025/09/04 18:36:30 INFO dspy.teleprompt.mipro_optimizer_v2: Scores so far: [14.29, 14.29, 14.29]\n",
      "2025/09/04 18:36:30 INFO dspy.teleprompt.mipro_optimizer_v2: Best score so far: 14.29\n",
      "2025/09/04 18:36:30 INFO dspy.teleprompt.mipro_optimizer_v2: ========================\n",
      "\n",
      "\n",
      "2025/09/04 18:36:30 INFO dspy.teleprompt.mipro_optimizer_v2: ===== Trial 4 / 18 =====\n",
      "2025/09/04 18:36:30 INFO dspy.teleprompt.mipro_optimizer_v2: Evaluating the following candidate program...\n",
      "\n"
     ]
    },
    {
     "name": "stdout",
     "output_type": "stream",
     "text": [
      "\n",
      "Predictor 0\n",
      "i: Guess a number from 1 to 10\n",
      "p: Answer:\n",
      "\n",
      "\n",
      "Average Metric: 1.00 / 7 (14.3%): 100%|██████████| 7/7 [00:00<00:00,  7.38it/s]"
     ]
    },
    {
     "name": "stderr",
     "output_type": "stream",
     "text": [
      "2025/09/04 18:36:31 INFO dspy.evaluate.evaluate: Average Metric: 1 / 7 (14.3%)\n",
      "2025/09/04 18:36:31 INFO dspy.teleprompt.mipro_optimizer_v2: Score: 14.29 with parameters ['Predictor 0: Instruction 0', 'Predictor 0: Few-Shot Set 6'].\n"
     ]
    },
    {
     "name": "stdout",
     "output_type": "stream",
     "text": [
      "\n"
     ]
    },
    {
     "name": "stderr",
     "output_type": "stream",
     "text": [
      "2025/09/04 18:36:31 INFO dspy.teleprompt.mipro_optimizer_v2: Scores so far: [14.29, 14.29, 14.29, 14.29]\n",
      "2025/09/04 18:36:31 INFO dspy.teleprompt.mipro_optimizer_v2: Best score so far: 14.29\n",
      "2025/09/04 18:36:31 INFO dspy.teleprompt.mipro_optimizer_v2: ========================\n",
      "\n",
      "\n",
      "2025/09/04 18:36:31 INFO dspy.teleprompt.mipro_optimizer_v2: ===== Trial 5 / 18 =====\n",
      "2025/09/04 18:36:31 INFO dspy.teleprompt.mipro_optimizer_v2: Evaluating the following candidate program...\n",
      "\n"
     ]
    },
    {
     "name": "stdout",
     "output_type": "stream",
     "text": [
      "Predictor 0\n",
      "i: Given a numerical value `number_guess`, provide the textual representation of that number as the output `answer`.\n",
      "p: Answer:\n",
      "\n",
      "\n",
      "Average Metric: 1.00 / 7 (14.3%): 100%|██████████| 7/7 [00:00<00:00,  7.02it/s]"
     ]
    },
    {
     "name": "stderr",
     "output_type": "stream",
     "text": [
      "2025/09/04 18:36:32 INFO dspy.evaluate.evaluate: Average Metric: 1 / 7 (14.3%)\n",
      "2025/09/04 18:36:32 INFO dspy.teleprompt.mipro_optimizer_v2: Score: 14.29 with parameters ['Predictor 0: Instruction 2', 'Predictor 0: Few-Shot Set 4'].\n",
      "2025/09/04 18:36:32 INFO dspy.teleprompt.mipro_optimizer_v2: Scores so far: [14.29, 14.29, 14.29, 14.29, 14.29]\n",
      "2025/09/04 18:36:32 INFO dspy.teleprompt.mipro_optimizer_v2: Best score so far: 14.29\n",
      "2025/09/04 18:36:32 INFO dspy.teleprompt.mipro_optimizer_v2: ========================\n",
      "\n",
      "\n",
      "2025/09/04 18:36:32 INFO dspy.teleprompt.mipro_optimizer_v2: ===== Trial 6 / 18 =====\n",
      "2025/09/04 18:36:32 INFO dspy.teleprompt.mipro_optimizer_v2: Evaluating the following candidate program...\n",
      "\n"
     ]
    },
    {
     "name": "stdout",
     "output_type": "stream",
     "text": [
      "\n",
      "Predictor 0\n",
      "i: Given a numerical value, provide the corresponding textual representation of the number.\n",
      "p: Answer:\n",
      "\n",
      "\n",
      "Average Metric: 1.00 / 7 (14.3%): 100%|██████████| 7/7 [00:01<00:00,  5.66it/s]"
     ]
    },
    {
     "name": "stderr",
     "output_type": "stream",
     "text": [
      "2025/09/04 18:36:33 INFO dspy.evaluate.evaluate: Average Metric: 1 / 7 (14.3%)\n",
      "2025/09/04 18:36:33 INFO dspy.teleprompt.mipro_optimizer_v2: Score: 14.29 with parameters ['Predictor 0: Instruction 3', 'Predictor 0: Few-Shot Set 5'].\n",
      "2025/09/04 18:36:33 INFO dspy.teleprompt.mipro_optimizer_v2: Scores so far: [14.29, 14.29, 14.29, 14.29, 14.29, 14.29]\n",
      "2025/09/04 18:36:33 INFO dspy.teleprompt.mipro_optimizer_v2: Best score so far: 14.29\n",
      "2025/09/04 18:36:33 INFO dspy.teleprompt.mipro_optimizer_v2: ========================\n",
      "\n",
      "\n",
      "2025/09/04 18:36:33 INFO dspy.teleprompt.mipro_optimizer_v2: ===== Trial 7 / 18 =====\n",
      "2025/09/04 18:36:33 INFO dspy.teleprompt.mipro_optimizer_v2: Evaluating the following candidate program...\n",
      "\n"
     ]
    },
    {
     "name": "stdout",
     "output_type": "stream",
     "text": [
      "\n",
      "Predictor 0\n",
      "i: Given a numerical value as input, provide the textual representation of that number using the language model pipeline. The pipeline will process the input number through different language models to generate the corresponding word representation. Please ensure the input number falls within the range specified for accurate results.\n",
      "p: Answer:\n",
      "\n",
      "\n",
      "Average Metric: 1.00 / 7 (14.3%): 100%|██████████| 7/7 [00:00<00:00,  8.31it/s]"
     ]
    },
    {
     "name": "stderr",
     "output_type": "stream",
     "text": [
      "2025/09/04 18:36:34 INFO dspy.evaluate.evaluate: Average Metric: 1 / 7 (14.3%)\n",
      "2025/09/04 18:36:34 INFO dspy.teleprompt.mipro_optimizer_v2: Score: 14.29 with parameters ['Predictor 0: Instruction 4', 'Predictor 0: Few-Shot Set 6'].\n",
      "2025/09/04 18:36:34 INFO dspy.teleprompt.mipro_optimizer_v2: Scores so far: [14.29, 14.29, 14.29, 14.29, 14.29, 14.29, 14.29]\n",
      "2025/09/04 18:36:34 INFO dspy.teleprompt.mipro_optimizer_v2: Best score so far: 14.29\n",
      "2025/09/04 18:36:34 INFO dspy.teleprompt.mipro_optimizer_v2: ========================\n",
      "\n",
      "\n",
      "2025/09/04 18:36:34 INFO dspy.teleprompt.mipro_optimizer_v2: ===== Trial 8 / 18 =====\n",
      "2025/09/04 18:36:34 INFO dspy.teleprompt.mipro_optimizer_v2: Evaluating the following candidate program...\n",
      "\n"
     ]
    },
    {
     "name": "stdout",
     "output_type": "stream",
     "text": [
      "\n",
      "Predictor 0\n",
      "i: Please provide a numerical value as input to the model for prediction. The model will then generate the corresponding textual representation of the input number.\n",
      "p: Answer:\n",
      "\n",
      "\n",
      "Average Metric: 1.00 / 7 (14.3%): 100%|██████████| 7/7 [00:01<00:00,  6.71it/s]"
     ]
    },
    {
     "name": "stderr",
     "output_type": "stream",
     "text": [
      "2025/09/04 18:36:35 INFO dspy.evaluate.evaluate: Average Metric: 1 / 7 (14.3%)\n",
      "2025/09/04 18:36:35 INFO dspy.teleprompt.mipro_optimizer_v2: Score: 14.29 with parameters ['Predictor 0: Instruction 5', 'Predictor 0: Few-Shot Set 1'].\n",
      "2025/09/04 18:36:35 INFO dspy.teleprompt.mipro_optimizer_v2: Scores so far: [14.29, 14.29, 14.29, 14.29, 14.29, 14.29, 14.29, 14.29]\n",
      "2025/09/04 18:36:35 INFO dspy.teleprompt.mipro_optimizer_v2: Best score so far: 14.29\n",
      "2025/09/04 18:36:35 INFO dspy.teleprompt.mipro_optimizer_v2: ========================\n",
      "\n",
      "\n",
      "2025/09/04 18:36:35 INFO dspy.teleprompt.mipro_optimizer_v2: ===== Trial 9 / 18 =====\n"
     ]
    },
    {
     "name": "stdout",
     "output_type": "stream",
     "text": [
      "\n"
     ]
    },
    {
     "name": "stderr",
     "output_type": "stream",
     "text": [
      "2025/09/04 18:36:35 INFO dspy.teleprompt.mipro_optimizer_v2: Evaluating the following candidate program...\n",
      "\n"
     ]
    },
    {
     "name": "stdout",
     "output_type": "stream",
     "text": [
      "Predictor 0\n",
      "i: Given a numerical value, provide the corresponding textual representation of the number.\n",
      "p: Answer:\n",
      "\n",
      "\n",
      "Average Metric: 1.00 / 7 (14.3%): 100%|██████████| 7/7 [00:00<00:00,  8.00it/s]"
     ]
    },
    {
     "name": "stderr",
     "output_type": "stream",
     "text": [
      "2025/09/04 18:36:36 INFO dspy.evaluate.evaluate: Average Metric: 1 / 7 (14.3%)\n",
      "2025/09/04 18:36:36 INFO dspy.teleprompt.mipro_optimizer_v2: Score: 14.29 with parameters ['Predictor 0: Instruction 3', 'Predictor 0: Few-Shot Set 3'].\n",
      "2025/09/04 18:36:36 INFO dspy.teleprompt.mipro_optimizer_v2: Scores so far: [14.29, 14.29, 14.29, 14.29, 14.29, 14.29, 14.29, 14.29, 14.29]\n",
      "2025/09/04 18:36:36 INFO dspy.teleprompt.mipro_optimizer_v2: Best score so far: 14.29\n",
      "2025/09/04 18:36:36 INFO dspy.teleprompt.mipro_optimizer_v2: ========================\n",
      "\n",
      "\n",
      "2025/09/04 18:36:36 INFO dspy.teleprompt.mipro_optimizer_v2: ===== Trial 10 / 18 =====\n",
      "2025/09/04 18:36:36 INFO dspy.teleprompt.mipro_optimizer_v2: Evaluating the following candidate program...\n",
      "\n"
     ]
    },
    {
     "name": "stdout",
     "output_type": "stream",
     "text": [
      "\n",
      "Predictor 0\n",
      "i: Given a numerical value, provide the corresponding textual representation of the number.\n",
      "p: Answer:\n",
      "\n",
      "\n",
      "Average Metric: 1.00 / 7 (14.3%): 100%|██████████| 7/7 [00:01<00:00,  5.36it/s]"
     ]
    },
    {
     "name": "stderr",
     "output_type": "stream",
     "text": [
      "2025/09/04 18:36:38 INFO dspy.evaluate.evaluate: Average Metric: 1 / 7 (14.3%)\n",
      "2025/09/04 18:36:38 INFO dspy.teleprompt.mipro_optimizer_v2: Score: 14.29 with parameters ['Predictor 0: Instruction 3', 'Predictor 0: Few-Shot Set 10'].\n",
      "2025/09/04 18:36:38 INFO dspy.teleprompt.mipro_optimizer_v2: Scores so far: [14.29, 14.29, 14.29, 14.29, 14.29, 14.29, 14.29, 14.29, 14.29, 14.29]\n",
      "2025/09/04 18:36:38 INFO dspy.teleprompt.mipro_optimizer_v2: Best score so far: 14.29\n",
      "2025/09/04 18:36:38 INFO dspy.teleprompt.mipro_optimizer_v2: =========================\n",
      "\n",
      "\n",
      "2025/09/04 18:36:38 INFO dspy.teleprompt.mipro_optimizer_v2: ===== Trial 11 / 18 =====\n",
      "2025/09/04 18:36:38 INFO dspy.teleprompt.mipro_optimizer_v2: Evaluating the following candidate program...\n",
      "\n"
     ]
    },
    {
     "name": "stdout",
     "output_type": "stream",
     "text": [
      "\n",
      "Predictor 0\n",
      "i: Guess a number from 1 to 10\n",
      "p: Answer:\n",
      "\n",
      "\n",
      "Average Metric: 1.00 / 7 (14.3%): 100%|██████████| 7/7 [00:00<00:00,  7.32it/s]"
     ]
    },
    {
     "name": "stderr",
     "output_type": "stream",
     "text": [
      "2025/09/04 18:36:39 INFO dspy.evaluate.evaluate: Average Metric: 1 / 7 (14.3%)\n",
      "2025/09/04 18:36:39 INFO dspy.teleprompt.mipro_optimizer_v2: Score: 14.29 with parameters ['Predictor 0: Instruction 0', 'Predictor 0: Few-Shot Set 0'].\n"
     ]
    },
    {
     "name": "stdout",
     "output_type": "stream",
     "text": [
      "\n"
     ]
    },
    {
     "name": "stderr",
     "output_type": "stream",
     "text": [
      "2025/09/04 18:36:39 INFO dspy.teleprompt.mipro_optimizer_v2: Scores so far: [14.29, 14.29, 14.29, 14.29, 14.29, 14.29, 14.29, 14.29, 14.29, 14.29, 14.29]\n",
      "2025/09/04 18:36:39 INFO dspy.teleprompt.mipro_optimizer_v2: Best score so far: 14.29\n",
      "2025/09/04 18:36:39 INFO dspy.teleprompt.mipro_optimizer_v2: =========================\n",
      "\n",
      "\n",
      "2025/09/04 18:36:39 INFO dspy.teleprompt.mipro_optimizer_v2: ===== Trial 12 / 18 =====\n",
      "2025/09/04 18:36:39 INFO dspy.teleprompt.mipro_optimizer_v2: Evaluating the following candidate program...\n",
      "\n"
     ]
    },
    {
     "name": "stdout",
     "output_type": "stream",
     "text": [
      "Predictor 0\n",
      "i: Given a numerical value as `number_guess`, provide the corresponding textual representation as the output `answer`.\n",
      "p: Answer:\n",
      "\n",
      "\n",
      "Average Metric: 1.00 / 7 (14.3%): 100%|██████████| 7/7 [00:01<00:00,  5.78it/s]"
     ]
    },
    {
     "name": "stderr",
     "output_type": "stream",
     "text": [
      "2025/09/04 18:36:40 INFO dspy.evaluate.evaluate: Average Metric: 1 / 7 (14.3%)\n",
      "2025/09/04 18:36:40 INFO dspy.teleprompt.mipro_optimizer_v2: Score: 14.29 with parameters ['Predictor 0: Instruction 1', 'Predictor 0: Few-Shot Set 6'].\n",
      "2025/09/04 18:36:40 INFO dspy.teleprompt.mipro_optimizer_v2: Scores so far: [14.29, 14.29, 14.29, 14.29, 14.29, 14.29, 14.29, 14.29, 14.29, 14.29, 14.29, 14.29]\n",
      "2025/09/04 18:36:40 INFO dspy.teleprompt.mipro_optimizer_v2: Best score so far: 14.29\n",
      "2025/09/04 18:36:40 INFO dspy.teleprompt.mipro_optimizer_v2: =========================\n",
      "\n",
      "\n",
      "2025/09/04 18:36:40 INFO dspy.teleprompt.mipro_optimizer_v2: ===== Trial 13 / 18 =====\n",
      "2025/09/04 18:36:40 INFO dspy.teleprompt.mipro_optimizer_v2: Evaluating the following candidate program...\n",
      "\n"
     ]
    },
    {
     "name": "stdout",
     "output_type": "stream",
     "text": [
      "\n",
      "Predictor 0\n",
      "i: Given a numerical value as `number_guess`, provide the corresponding textual representation as the output `answer`.\n",
      "p: Answer:\n",
      "\n",
      "\n",
      "Average Metric: 1.00 / 7 (14.3%): 100%|██████████| 7/7 [00:01<00:00,  6.40it/s]"
     ]
    },
    {
     "name": "stderr",
     "output_type": "stream",
     "text": [
      "2025/09/04 18:36:41 INFO dspy.evaluate.evaluate: Average Metric: 1 / 7 (14.3%)\n",
      "2025/09/04 18:36:41 INFO dspy.teleprompt.mipro_optimizer_v2: Score: 14.29 with parameters ['Predictor 0: Instruction 1', 'Predictor 0: Few-Shot Set 8'].\n",
      "2025/09/04 18:36:41 INFO dspy.teleprompt.mipro_optimizer_v2: Scores so far: [14.29, 14.29, 14.29, 14.29, 14.29, 14.29, 14.29, 14.29, 14.29, 14.29, 14.29, 14.29, 14.29]\n",
      "2025/09/04 18:36:41 INFO dspy.teleprompt.mipro_optimizer_v2: Best score so far: 14.29\n",
      "2025/09/04 18:36:41 INFO dspy.teleprompt.mipro_optimizer_v2: =========================\n",
      "\n",
      "\n",
      "2025/09/04 18:36:41 INFO dspy.teleprompt.mipro_optimizer_v2: ===== Trial 14 / 18 =====\n",
      "2025/09/04 18:36:41 INFO dspy.teleprompt.mipro_optimizer_v2: Evaluating the following candidate program...\n",
      "\n"
     ]
    },
    {
     "name": "stdout",
     "output_type": "stream",
     "text": [
      "\n",
      "Predictor 0\n",
      "i: Given a numerical value as `number_guess`, provide the corresponding textual representation as the output `answer`.\n",
      "p: Answer:\n",
      "\n",
      "\n",
      "Average Metric: 1.00 / 7 (14.3%): 100%|██████████| 7/7 [00:00<00:00,  8.32it/s]"
     ]
    },
    {
     "name": "stderr",
     "output_type": "stream",
     "text": [
      "2025/09/04 18:36:42 INFO dspy.evaluate.evaluate: Average Metric: 1 / 7 (14.3%)\n"
     ]
    },
    {
     "name": "stdout",
     "output_type": "stream",
     "text": [
      "\n"
     ]
    },
    {
     "name": "stderr",
     "output_type": "stream",
     "text": [
      "2025/09/04 18:36:42 INFO dspy.teleprompt.mipro_optimizer_v2: Score: 14.29 with parameters ['Predictor 0: Instruction 1', 'Predictor 0: Few-Shot Set 0'].\n",
      "2025/09/04 18:36:42 INFO dspy.teleprompt.mipro_optimizer_v2: Scores so far: [14.29, 14.29, 14.29, 14.29, 14.29, 14.29, 14.29, 14.29, 14.29, 14.29, 14.29, 14.29, 14.29, 14.29]\n",
      "2025/09/04 18:36:42 INFO dspy.teleprompt.mipro_optimizer_v2: Best score so far: 14.29\n",
      "2025/09/04 18:36:42 INFO dspy.teleprompt.mipro_optimizer_v2: =========================\n",
      "\n",
      "\n",
      "2025/09/04 18:36:42 INFO dspy.teleprompt.mipro_optimizer_v2: ===== Trial 15 / 18 =====\n",
      "2025/09/04 18:36:42 INFO dspy.teleprompt.mipro_optimizer_v2: Evaluating the following candidate program...\n",
      "\n"
     ]
    },
    {
     "name": "stdout",
     "output_type": "stream",
     "text": [
      "Predictor 0\n",
      "i: Guess a number from 1 to 10\n",
      "p: Answer:\n",
      "\n",
      "\n",
      "Average Metric: 1.00 / 7 (14.3%): 100%|██████████| 7/7 [00:01<00:00,  6.13it/s]"
     ]
    },
    {
     "name": "stderr",
     "output_type": "stream",
     "text": [
      "2025/09/04 18:36:43 INFO dspy.evaluate.evaluate: Average Metric: 1 / 7 (14.3%)\n",
      "2025/09/04 18:36:43 INFO dspy.teleprompt.mipro_optimizer_v2: Score: 14.29 with parameters ['Predictor 0: Instruction 0', 'Predictor 0: Few-Shot Set 7'].\n",
      "2025/09/04 18:36:43 INFO dspy.teleprompt.mipro_optimizer_v2: Scores so far: [14.29, 14.29, 14.29, 14.29, 14.29, 14.29, 14.29, 14.29, 14.29, 14.29, 14.29, 14.29, 14.29, 14.29, 14.29]\n",
      "2025/09/04 18:36:43 INFO dspy.teleprompt.mipro_optimizer_v2: Best score so far: 14.29\n",
      "2025/09/04 18:36:43 INFO dspy.teleprompt.mipro_optimizer_v2: =========================\n",
      "\n",
      "\n",
      "2025/09/04 18:36:43 INFO dspy.teleprompt.mipro_optimizer_v2: ===== Trial 16 / 18 =====\n",
      "2025/09/04 18:36:43 INFO dspy.teleprompt.mipro_optimizer_v2: Evaluating the following candidate program...\n",
      "\n"
     ]
    },
    {
     "name": "stdout",
     "output_type": "stream",
     "text": [
      "\n",
      "Predictor 0\n",
      "i: Please provide a numerical value as input to the model for prediction. The model will then generate the corresponding textual representation of the input number.\n",
      "p: Answer:\n",
      "\n",
      "\n",
      "Average Metric: 1.00 / 7 (14.3%): 100%|██████████| 7/7 [00:01<00:00,  5.15it/s]"
     ]
    },
    {
     "name": "stderr",
     "output_type": "stream",
     "text": [
      "2025/09/04 18:36:45 INFO dspy.evaluate.evaluate: Average Metric: 1 / 7 (14.3%)\n",
      "2025/09/04 18:36:45 INFO dspy.teleprompt.mipro_optimizer_v2: Score: 14.29 with parameters ['Predictor 0: Instruction 5', 'Predictor 0: Few-Shot Set 9'].\n",
      "2025/09/04 18:36:45 INFO dspy.teleprompt.mipro_optimizer_v2: Scores so far: [14.29, 14.29, 14.29, 14.29, 14.29, 14.29, 14.29, 14.29, 14.29, 14.29, 14.29, 14.29, 14.29, 14.29, 14.29, 14.29]\n",
      "2025/09/04 18:36:45 INFO dspy.teleprompt.mipro_optimizer_v2: Best score so far: 14.29\n",
      "2025/09/04 18:36:45 INFO dspy.teleprompt.mipro_optimizer_v2: =========================\n",
      "\n",
      "\n",
      "2025/09/04 18:36:45 INFO dspy.teleprompt.mipro_optimizer_v2: ===== Trial 17 / 18 =====\n",
      "2025/09/04 18:36:45 INFO dspy.teleprompt.mipro_optimizer_v2: Evaluating the following candidate program...\n",
      "\n"
     ]
    },
    {
     "name": "stdout",
     "output_type": "stream",
     "text": [
      "\n",
      "Predictor 0\n",
      "i: Guess a number from 1 to 10\n",
      "p: Answer:\n",
      "\n",
      "\n",
      "Average Metric: 1.00 / 7 (14.3%): 100%|██████████| 7/7 [00:01<00:00,  6.70it/s]"
     ]
    },
    {
     "name": "stderr",
     "output_type": "stream",
     "text": [
      "2025/09/04 18:36:46 INFO dspy.evaluate.evaluate: Average Metric: 1 / 7 (14.3%)\n",
      "2025/09/04 18:36:46 INFO dspy.teleprompt.mipro_optimizer_v2: Score: 14.29 with parameters ['Predictor 0: Instruction 0', 'Predictor 0: Few-Shot Set 11'].\n",
      "2025/09/04 18:36:46 INFO dspy.teleprompt.mipro_optimizer_v2: Scores so far: [14.29, 14.29, 14.29, 14.29, 14.29, 14.29, 14.29, 14.29, 14.29, 14.29, 14.29, 14.29, 14.29, 14.29, 14.29, 14.29, 14.29]\n",
      "2025/09/04 18:36:46 INFO dspy.teleprompt.mipro_optimizer_v2: Best score so far: 14.29\n",
      "2025/09/04 18:36:46 INFO dspy.teleprompt.mipro_optimizer_v2: =========================\n",
      "\n",
      "\n",
      "2025/09/04 18:36:46 INFO dspy.teleprompt.mipro_optimizer_v2: ===== Trial 18 / 18 =====\n",
      "2025/09/04 18:36:46 INFO dspy.teleprompt.mipro_optimizer_v2: Evaluating the following candidate program...\n",
      "\n"
     ]
    },
    {
     "name": "stdout",
     "output_type": "stream",
     "text": [
      "\n",
      "Predictor 0\n",
      "i: Please provide a numerical value as input to the model for prediction. The model will then generate the corresponding textual representation of the input number.\n",
      "p: Answer:\n",
      "\n",
      "\n",
      "Average Metric: 1.00 / 7 (14.3%): 100%|██████████| 7/7 [00:01<00:00,  3.91it/s]"
     ]
    },
    {
     "name": "stderr",
     "output_type": "stream",
     "text": [
      "2025/09/04 18:36:48 INFO dspy.evaluate.evaluate: Average Metric: 1 / 7 (14.3%)\n",
      "2025/09/04 18:36:48 INFO dspy.teleprompt.mipro_optimizer_v2: Score: 14.29 with parameters ['Predictor 0: Instruction 5', 'Predictor 0: Few-Shot Set 0'].\n",
      "2025/09/04 18:36:48 INFO dspy.teleprompt.mipro_optimizer_v2: Scores so far: [14.29, 14.29, 14.29, 14.29, 14.29, 14.29, 14.29, 14.29, 14.29, 14.29, 14.29, 14.29, 14.29, 14.29, 14.29, 14.29, 14.29, 14.29]\n",
      "2025/09/04 18:36:48 INFO dspy.teleprompt.mipro_optimizer_v2: Best score so far: 14.29\n",
      "2025/09/04 18:36:48 INFO dspy.teleprompt.mipro_optimizer_v2: =========================\n",
      "\n",
      "\n",
      "2025/09/04 18:36:48 INFO dspy.teleprompt.mipro_optimizer_v2: ===== Trial 19 / 18 =====\n",
      "2025/09/04 18:36:48 INFO dspy.teleprompt.mipro_optimizer_v2: Evaluating the following candidate program...\n",
      "\n"
     ]
    },
    {
     "name": "stdout",
     "output_type": "stream",
     "text": [
      "\n",
      "Predictor 0\n",
      "i: Given a numerical value as `number_guess`, provide the corresponding textual representation as the output `answer`.\n",
      "p: Answer:\n",
      "\n",
      "\n",
      "Average Metric: 1.00 / 7 (14.3%): 100%|██████████| 7/7 [00:01<00:00,  3.77it/s]"
     ]
    },
    {
     "name": "stderr",
     "output_type": "stream",
     "text": [
      "2025/09/04 18:36:50 INFO dspy.evaluate.evaluate: Average Metric: 1 / 7 (14.3%)\n",
      "2025/09/04 18:36:50 INFO dspy.teleprompt.mipro_optimizer_v2: Score: 14.29 with parameters ['Predictor 0: Instruction 1', 'Predictor 0: Few-Shot Set 3'].\n",
      "2025/09/04 18:36:50 INFO dspy.teleprompt.mipro_optimizer_v2: Scores so far: [14.29, 14.29, 14.29, 14.29, 14.29, 14.29, 14.29, 14.29, 14.29, 14.29, 14.29, 14.29, 14.29, 14.29, 14.29, 14.29, 14.29, 14.29, 14.29]\n",
      "2025/09/04 18:36:50 INFO dspy.teleprompt.mipro_optimizer_v2: Best score so far: 14.29\n",
      "2025/09/04 18:36:50 INFO dspy.teleprompt.mipro_optimizer_v2: =========================\n",
      "\n",
      "\n",
      "2025/09/04 18:36:50 INFO dspy.teleprompt.mipro_optimizer_v2: Returning best identified program with score 14.29!\n"
     ]
    },
    {
     "name": "stdout",
     "output_type": "stream",
     "text": [
      "\n",
      "{\n",
      "  \"traces\": [],\n",
      "  \"train\": [],\n",
      "  \"demos\": [],\n",
      "  \"signature\": {\n",
      "    \"instructions\": \"Guess a number from 1 to 10\",\n",
      "    \"fields\": [\n",
      "      {\n",
      "        \"prefix\": \"Number Guess:\",\n",
      "        \"description\": \"${number_guess}\"\n",
      "      },\n",
      "      {\n",
      "        \"prefix\": \"Answer:\",\n",
      "        \"description\": \"${answer}\"\n",
      "      }\n",
      "    ]\n",
      "  },\n",
      "  \"lm\": null,\n",
      "  \"metadata\": {\n",
      "    \"dependency_versions\": {\n",
      "      \"python\": \"3.12\",\n",
      "      \"dspy\": \"3.0.1\",\n",
      "      \"cloudpickle\": \"3.1\"\n",
      "    }\n",
      "  }\n",
      "}\n",
      "Done.\n"
     ]
    }
   ],
   "source": [
    "import sys\n",
    "import os\n",
    "import dspy \n",
    "from common.my_settings import MySettings  \n",
    "from common.utils import md\n",
    "from common.llm_client_factory import LlmClientFactory\n",
    "from dspy_utils.dspy_helpers import md_dspy\n",
    "\n",
    "settings = MySettings().get()\n",
    "\n",
    "lm_gpt35 = dspy.LM('gpt-3.5-turbo', temperature=0.8, model_type='chat', cache=False, api_key=settings.OPENAI_API_KEY)\n",
    "lm_gpt4 = dspy.LM('gpt-4.1', temperature=0.9, model_type='chat', cache=False, api_key=settings.OPENAI_API_KEY)\n",
    "dspy.configure(lm=lm_gpt4)\n",
    "\n",
    "# Create domain classes\n",
    "from typing import Literal\n",
    "    \n",
    "class NumberPicker(dspy.Signature):\n",
    "    \"\"\"Guess a number from 1 to 10\"\"\"\n",
    "    number_guess: str = dspy.InputField()\n",
    "    answer: Literal[\"one\", \"two\", \"three\", \"four\", \"five\", \"six\", \"seven\", \"eight\", \"nine\", \"ten\"] = dspy.OutputField()\n",
    "\n",
    "numberPickerPredict = dspy.Predict(NumberPicker)\n",
    "numberPickerPredict(number_guess=\"even\")\n",
    "\n",
    "trainset = [\n",
    "    dspy.Example(number_guess=\"1\", answer=\"one\").with_inputs(\"number_guess\"),\n",
    "    dspy.Example(number_guess=\"2\", answer=\"two\").with_inputs(\"number_guess\"),\n",
    "    dspy.Example(number_guess=\"Four\", answer=\"four\").with_inputs(\"number_guess\"),\n",
    "    dspy.Example(number_guess=\"Five\", answer=\"five\").with_inputs(\"number_guess\"),\n",
    "    dspy.Example(number_guess=\"The number: 3\", answer=\"three\").with_inputs(\"number_guess\"),\n",
    "    dspy.Example(number_guess=\"6\", answer=\"six\").with_inputs(\"number_guess\"),\n",
    "    dspy.Example(number_guess=\"7\", answer=\"seven\").with_inputs(\"number_guess\"),\n",
    "    dspy.Example(number_guess=\"The number: 8\", answer=\"eight\").with_inputs(\"number_guess\"),\n",
    "    dspy.Example(number_guess=\"The number: 10\", answer=\"ten\").with_inputs(\"number_guess\"),\n",
    "]\n",
    "\n",
    "def validate_match(expected, actual, trace=None) -> bool:\n",
    "    # print()\n",
    "    # md(\"**expected**: \", expected)\n",
    "    # print(\"**actual**: \", actual)\n",
    "    # md(\"**Is match**: \", actual.answer == \"two\")\n",
    "    # print()\n",
    "    return (actual.answer == \"three\")\n",
    "\n",
    "from dspy.teleprompt import *\n",
    "\n",
    "tp = dspy.MIPROv2(metric=validate_match, auto=\"medium\", prompt_model=lm_gpt35, task_model=lm_gpt4, verbose=True)\n",
    "optimized_matcher = tp.compile(numberPickerPredict, trainset=trainset, requires_permission_to_run=False)\n",
    "optimized_matcher.save(\"./saved_files/test.json\")\n",
    "\n",
    "import json\n",
    "\n",
    "with open(\"./saved_files/test.json\", \"r\") as f:\n",
    "    data = json.load(f)\n",
    "\n",
    "print(json.dumps(data, indent=2))\n",
    "\n",
    "print(\"Done.\")\n"
   ]
  }
 ],
 "metadata": {
  "kernelspec": {
   "display_name": "Python 3",
   "language": "python",
   "name": "python3"
  },
  "language_info": {
   "codemirror_mode": {
    "name": "ipython",
    "version": 3
   },
   "file_extension": ".py",
   "mimetype": "text/x-python",
   "name": "python",
   "nbconvert_exporter": "python",
   "pygments_lexer": "ipython3",
   "version": "3.12.1"
  }
 },
 "nbformat": 4,
 "nbformat_minor": 5
}
