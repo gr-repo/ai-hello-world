{
 "cells": [
  {
   "cell_type": "code",
   "execution_count": 2,
   "id": "059aacb1",
   "metadata": {},
   "outputs": [
    {
     "name": "stdout",
     "output_type": "stream",
     "text": [
      "Getting keys from environment variables\n"
     ]
    },
    {
     "name": "stderr",
     "output_type": "stream",
     "text": [
      "2025/09/04 18:13:34 INFO dspy.teleprompt.mipro_optimizer_v2: \n",
      "RUNNING WITH THE FOLLOWING LIGHT AUTO RUN SETTINGS:\n",
      "num_trials: 10\n",
      "minibatch: False\n",
      "num_fewshot_candidates: 6\n",
      "num_instruct_candidates: 3\n",
      "valset size: 4\n",
      "\n",
      "2025/09/04 18:13:34 INFO dspy.teleprompt.mipro_optimizer_v2: \n",
      "==> STEP 1: BOOTSTRAP FEWSHOT EXAMPLES <==\n",
      "2025/09/04 18:13:34 INFO dspy.teleprompt.mipro_optimizer_v2: These will be used as few-shot example candidates for our program and for creating instructions.\n",
      "\n",
      "2025/09/04 18:13:34 INFO dspy.teleprompt.mipro_optimizer_v2: Bootstrapping N=6 sets of demonstrations...\n"
     ]
    },
    {
     "name": "stdout",
     "output_type": "stream",
     "text": [
      "Bootstrapping set 1/6\n",
      "Bootstrapping set 2/6\n",
      "Bootstrapping set 3/6\n"
     ]
    },
    {
     "name": "stderr",
     "output_type": "stream",
     "text": [
      "100%|██████████| 1/1 [00:00<00:00,  1.39it/s]\n"
     ]
    },
    {
     "name": "stdout",
     "output_type": "stream",
     "text": [
      "Bootstrapped 0 full traces after 0 examples for up to 1 rounds, amounting to 1 attempts.\n",
      "Bootstrapping set 4/6\n"
     ]
    },
    {
     "name": "stderr",
     "output_type": "stream",
     "text": [
      "100%|██████████| 1/1 [00:01<00:00,  1.19s/it]\n"
     ]
    },
    {
     "name": "stdout",
     "output_type": "stream",
     "text": [
      "Bootstrapped 0 full traces after 0 examples for up to 1 rounds, amounting to 1 attempts.\n",
      "Bootstrapping set 5/6\n"
     ]
    },
    {
     "name": "stderr",
     "output_type": "stream",
     "text": [
      "100%|██████████| 1/1 [00:00<00:00,  1.29it/s]\n"
     ]
    },
    {
     "name": "stdout",
     "output_type": "stream",
     "text": [
      "Bootstrapped 0 full traces after 0 examples for up to 1 rounds, amounting to 1 attempts.\n",
      "Bootstrapping set 6/6\n"
     ]
    },
    {
     "name": "stderr",
     "output_type": "stream",
     "text": [
      "100%|██████████| 1/1 [00:01<00:00,  1.63s/it]\n",
      "2025/09/04 18:13:39 INFO dspy.teleprompt.mipro_optimizer_v2: \n",
      "==> STEP 2: PROPOSE INSTRUCTION CANDIDATES <==\n",
      "2025/09/04 18:13:39 INFO dspy.teleprompt.mipro_optimizer_v2: We will use the few-shot examples from the previous step, a generated dataset summary, a summary of the program code, and a randomly selected prompting tip to propose instructions.\n"
     ]
    },
    {
     "name": "stdout",
     "output_type": "stream",
     "text": [
      "Bootstrapped 0 full traces after 0 examples for up to 1 rounds, amounting to 1 attempts.\n"
     ]
    },
    {
     "name": "stderr",
     "output_type": "stream",
     "text": [
      "2025/09/04 18:13:41 INFO dspy.teleprompt.mipro_optimizer_v2: \n",
      "Proposing N=3 instructions...\n",
      "\n",
      "2025/09/04 18:13:52 INFO dspy.teleprompt.mipro_optimizer_v2: Proposed Instructions for Predictor 0:\n",
      "\n",
      "2025/09/04 18:13:52 INFO dspy.teleprompt.mipro_optimizer_v2: 0: Guess a number from 1 to 5..\n",
      "\n",
      "2025/09/04 18:13:52 INFO dspy.teleprompt.mipro_optimizer_v2: 1: Given a number guess from 1 to 5, predict the corresponding word representation as accurately as possible. Imagine that the correct prediction is crucial for saving a person's life in a high-stakes situation.\n",
      "\n",
      "2025/09/04 18:13:52 INFO dspy.teleprompt.mipro_optimizer_v2: 2: Given a high stakes scenario where accurate predictions are crucial, predict the word representation for the numerical value provided in the input.\n",
      "\n",
      "2025/09/04 18:13:52 INFO dspy.teleprompt.mipro_optimizer_v2: \n",
      "\n",
      "2025/09/04 18:13:52 INFO dspy.teleprompt.mipro_optimizer_v2: ==> STEP 3: FINDING OPTIMAL PROMPT PARAMETERS <==\n",
      "2025/09/04 18:13:52 INFO dspy.teleprompt.mipro_optimizer_v2: We will evaluate the program over a series of trials with different combinations of instructions and few-shot examples to find the optimal combination using Bayesian Optimization.\n",
      "\n",
      "2025/09/04 18:13:52 INFO dspy.teleprompt.mipro_optimizer_v2: == Trial 1 / 10 - Full Evaluation of Default Program ==\n"
     ]
    },
    {
     "name": "stdout",
     "output_type": "stream",
     "text": [
      "Average Metric: 1.00 / 4 (25.0%): 100%|██████████| 4/4 [00:00<00:00,  4.66it/s]"
     ]
    },
    {
     "name": "stderr",
     "output_type": "stream",
     "text": [
      "2025/09/04 18:13:53 INFO dspy.evaluate.evaluate: Average Metric: 1 / 4 (25.0%)\n",
      "2025/09/04 18:13:53 INFO dspy.teleprompt.mipro_optimizer_v2: Default program score: 25.0\n",
      "\n",
      "2025/09/04 18:13:53 INFO dspy.teleprompt.mipro_optimizer_v2: ===== Trial 2 / 10 =====\n"
     ]
    },
    {
     "name": "stdout",
     "output_type": "stream",
     "text": [
      "\n",
      "Average Metric: 1.00 / 4 (25.0%): 100%|██████████| 4/4 [00:01<00:00,  2.97it/s] "
     ]
    },
    {
     "name": "stderr",
     "output_type": "stream",
     "text": [
      "2025/09/04 18:13:54 INFO dspy.evaluate.evaluate: Average Metric: 1 / 4 (25.0%)\n",
      "2025/09/04 18:13:54 INFO dspy.teleprompt.mipro_optimizer_v2: Score: 25.0 with parameters ['Predictor 0: Instruction 1', 'Predictor 0: Few-Shot Set 3'].\n",
      "2025/09/04 18:13:54 INFO dspy.teleprompt.mipro_optimizer_v2: Scores so far: [25.0, 25.0]\n",
      "2025/09/04 18:13:54 INFO dspy.teleprompt.mipro_optimizer_v2: Best score so far: 25.0\n",
      "2025/09/04 18:13:54 INFO dspy.teleprompt.mipro_optimizer_v2: ========================\n",
      "\n",
      "\n",
      "2025/09/04 18:13:54 INFO dspy.teleprompt.mipro_optimizer_v2: ===== Trial 3 / 10 =====\n"
     ]
    },
    {
     "name": "stdout",
     "output_type": "stream",
     "text": [
      "\n",
      "Average Metric: 1.00 / 4 (25.0%): 100%|██████████| 4/4 [00:00<00:00,  4.85it/s] "
     ]
    },
    {
     "name": "stderr",
     "output_type": "stream",
     "text": [
      "2025/09/04 18:13:55 INFO dspy.evaluate.evaluate: Average Metric: 1 / 4 (25.0%)\n",
      "2025/09/04 18:13:55 INFO dspy.teleprompt.mipro_optimizer_v2: Score: 25.0 with parameters ['Predictor 0: Instruction 2', 'Predictor 0: Few-Shot Set 0'].\n",
      "2025/09/04 18:13:55 INFO dspy.teleprompt.mipro_optimizer_v2: Scores so far: [25.0, 25.0, 25.0]\n",
      "2025/09/04 18:13:55 INFO dspy.teleprompt.mipro_optimizer_v2: Best score so far: 25.0\n",
      "2025/09/04 18:13:55 INFO dspy.teleprompt.mipro_optimizer_v2: ========================\n",
      "\n",
      "\n",
      "2025/09/04 18:13:55 INFO dspy.teleprompt.mipro_optimizer_v2: ===== Trial 4 / 10 =====\n"
     ]
    },
    {
     "name": "stdout",
     "output_type": "stream",
     "text": [
      "\n",
      "Average Metric: 1.00 / 4 (25.0%): 100%|██████████| 4/4 [00:00<00:00,  5.31it/s]"
     ]
    },
    {
     "name": "stderr",
     "output_type": "stream",
     "text": [
      "2025/09/04 18:13:56 INFO dspy.evaluate.evaluate: Average Metric: 1 / 4 (25.0%)\n",
      "2025/09/04 18:13:56 INFO dspy.teleprompt.mipro_optimizer_v2: Score: 25.0 with parameters ['Predictor 0: Instruction 1', 'Predictor 0: Few-Shot Set 5'].\n",
      "2025/09/04 18:13:56 INFO dspy.teleprompt.mipro_optimizer_v2: Scores so far: [25.0, 25.0, 25.0, 25.0]\n",
      "2025/09/04 18:13:56 INFO dspy.teleprompt.mipro_optimizer_v2: Best score so far: 25.0\n",
      "2025/09/04 18:13:56 INFO dspy.teleprompt.mipro_optimizer_v2: ========================\n",
      "\n",
      "\n",
      "2025/09/04 18:13:56 INFO dspy.teleprompt.mipro_optimizer_v2: ===== Trial 5 / 10 =====\n"
     ]
    },
    {
     "name": "stdout",
     "output_type": "stream",
     "text": [
      "\n",
      "Average Metric: 1.00 / 4 (25.0%): 100%|██████████| 4/4 [00:01<00:00,  2.37it/s]"
     ]
    },
    {
     "name": "stderr",
     "output_type": "stream",
     "text": [
      "2025/09/04 18:13:57 INFO dspy.evaluate.evaluate: Average Metric: 1 / 4 (25.0%)\n",
      "2025/09/04 18:13:57 INFO dspy.teleprompt.mipro_optimizer_v2: Score: 25.0 with parameters ['Predictor 0: Instruction 2', 'Predictor 0: Few-Shot Set 2'].\n",
      "2025/09/04 18:13:57 INFO dspy.teleprompt.mipro_optimizer_v2: Scores so far: [25.0, 25.0, 25.0, 25.0, 25.0]\n",
      "2025/09/04 18:13:57 INFO dspy.teleprompt.mipro_optimizer_v2: Best score so far: 25.0\n",
      "2025/09/04 18:13:57 INFO dspy.teleprompt.mipro_optimizer_v2: ========================\n",
      "\n",
      "\n",
      "2025/09/04 18:13:57 INFO dspy.teleprompt.mipro_optimizer_v2: ===== Trial 6 / 10 =====\n"
     ]
    },
    {
     "name": "stdout",
     "output_type": "stream",
     "text": [
      "\n",
      "Average Metric: 1.00 / 4 (25.0%): 100%|██████████| 4/4 [00:00<00:00,  5.02it/s]"
     ]
    },
    {
     "name": "stderr",
     "output_type": "stream",
     "text": [
      "2025/09/04 18:13:58 INFO dspy.evaluate.evaluate: Average Metric: 1 / 4 (25.0%)\n",
      "2025/09/04 18:13:58 INFO dspy.teleprompt.mipro_optimizer_v2: Score: 25.0 with parameters ['Predictor 0: Instruction 0', 'Predictor 0: Few-Shot Set 5'].\n",
      "2025/09/04 18:13:58 INFO dspy.teleprompt.mipro_optimizer_v2: Scores so far: [25.0, 25.0, 25.0, 25.0, 25.0, 25.0]\n",
      "2025/09/04 18:13:58 INFO dspy.teleprompt.mipro_optimizer_v2: Best score so far: 25.0\n",
      "2025/09/04 18:13:58 INFO dspy.teleprompt.mipro_optimizer_v2: ========================\n",
      "\n",
      "\n",
      "2025/09/04 18:13:58 INFO dspy.teleprompt.mipro_optimizer_v2: ===== Trial 7 / 10 =====\n"
     ]
    },
    {
     "name": "stdout",
     "output_type": "stream",
     "text": [
      "\n",
      "Average Metric: 1.00 / 4 (25.0%): 100%|██████████| 4/4 [00:01<00:00,  2.23it/s] "
     ]
    },
    {
     "name": "stderr",
     "output_type": "stream",
     "text": [
      "2025/09/04 18:14:00 INFO dspy.evaluate.evaluate: Average Metric: 1 / 4 (25.0%)\n",
      "2025/09/04 18:14:00 INFO dspy.teleprompt.mipro_optimizer_v2: Score: 25.0 with parameters ['Predictor 0: Instruction 2', 'Predictor 0: Few-Shot Set 0'].\n",
      "2025/09/04 18:14:00 INFO dspy.teleprompt.mipro_optimizer_v2: Scores so far: [25.0, 25.0, 25.0, 25.0, 25.0, 25.0, 25.0]\n",
      "2025/09/04 18:14:00 INFO dspy.teleprompt.mipro_optimizer_v2: Best score so far: 25.0\n",
      "2025/09/04 18:14:00 INFO dspy.teleprompt.mipro_optimizer_v2: ========================\n",
      "\n",
      "\n",
      "2025/09/04 18:14:00 INFO dspy.teleprompt.mipro_optimizer_v2: ===== Trial 8 / 10 =====\n"
     ]
    },
    {
     "name": "stdout",
     "output_type": "stream",
     "text": [
      "\n",
      "Average Metric: 1.00 / 4 (25.0%): 100%|██████████| 4/4 [00:00<00:00,  4.33it/s]"
     ]
    },
    {
     "name": "stderr",
     "output_type": "stream",
     "text": [
      "2025/09/04 18:14:01 INFO dspy.evaluate.evaluate: Average Metric: 1 / 4 (25.0%)\n",
      "2025/09/04 18:14:01 INFO dspy.teleprompt.mipro_optimizer_v2: Score: 25.0 with parameters ['Predictor 0: Instruction 2', 'Predictor 0: Few-Shot Set 5'].\n",
      "2025/09/04 18:14:01 INFO dspy.teleprompt.mipro_optimizer_v2: Scores so far: [25.0, 25.0, 25.0, 25.0, 25.0, 25.0, 25.0, 25.0]\n",
      "2025/09/04 18:14:01 INFO dspy.teleprompt.mipro_optimizer_v2: Best score so far: 25.0\n",
      "2025/09/04 18:14:01 INFO dspy.teleprompt.mipro_optimizer_v2: ========================\n",
      "\n",
      "\n",
      "2025/09/04 18:14:01 INFO dspy.teleprompt.mipro_optimizer_v2: ===== Trial 9 / 10 =====\n"
     ]
    },
    {
     "name": "stdout",
     "output_type": "stream",
     "text": [
      "\n",
      "Average Metric: 1.00 / 4 (25.0%): 100%|██████████| 4/4 [00:00<00:00,  5.56it/s] "
     ]
    },
    {
     "name": "stderr",
     "output_type": "stream",
     "text": [
      "2025/09/04 18:14:02 INFO dspy.evaluate.evaluate: Average Metric: 1 / 4 (25.0%)\n",
      "2025/09/04 18:14:02 INFO dspy.teleprompt.mipro_optimizer_v2: Score: 25.0 with parameters ['Predictor 0: Instruction 1', 'Predictor 0: Few-Shot Set 4'].\n",
      "2025/09/04 18:14:02 INFO dspy.teleprompt.mipro_optimizer_v2: Scores so far: [25.0, 25.0, 25.0, 25.0, 25.0, 25.0, 25.0, 25.0, 25.0]\n",
      "2025/09/04 18:14:02 INFO dspy.teleprompt.mipro_optimizer_v2: Best score so far: 25.0\n",
      "2025/09/04 18:14:02 INFO dspy.teleprompt.mipro_optimizer_v2: ========================\n",
      "\n",
      "\n",
      "2025/09/04 18:14:02 INFO dspy.teleprompt.mipro_optimizer_v2: ===== Trial 10 / 10 =====\n"
     ]
    },
    {
     "name": "stdout",
     "output_type": "stream",
     "text": [
      "\n",
      "Average Metric: 1.00 / 4 (25.0%): 100%|██████████| 4/4 [00:00<00:00,  5.08it/s] "
     ]
    },
    {
     "name": "stderr",
     "output_type": "stream",
     "text": [
      "2025/09/04 18:14:03 INFO dspy.evaluate.evaluate: Average Metric: 1 / 4 (25.0%)\n"
     ]
    },
    {
     "name": "stdout",
     "output_type": "stream",
     "text": [
      "\n"
     ]
    },
    {
     "name": "stderr",
     "output_type": "stream",
     "text": [
      "2025/09/04 18:14:03 INFO dspy.teleprompt.mipro_optimizer_v2: Score: 25.0 with parameters ['Predictor 0: Instruction 2', 'Predictor 0: Few-Shot Set 5'].\n",
      "2025/09/04 18:14:03 INFO dspy.teleprompt.mipro_optimizer_v2: Scores so far: [25.0, 25.0, 25.0, 25.0, 25.0, 25.0, 25.0, 25.0, 25.0, 25.0]\n",
      "2025/09/04 18:14:03 INFO dspy.teleprompt.mipro_optimizer_v2: Best score so far: 25.0\n",
      "2025/09/04 18:14:03 INFO dspy.teleprompt.mipro_optimizer_v2: =========================\n",
      "\n",
      "\n",
      "2025/09/04 18:14:03 INFO dspy.teleprompt.mipro_optimizer_v2: ===== Trial 11 / 10 =====\n"
     ]
    },
    {
     "name": "stdout",
     "output_type": "stream",
     "text": [
      "Average Metric: 1.00 / 4 (25.0%): 100%|██████████| 4/4 [00:00<00:00,  4.95it/s]"
     ]
    },
    {
     "name": "stderr",
     "output_type": "stream",
     "text": [
      "2025/09/04 18:14:04 INFO dspy.evaluate.evaluate: Average Metric: 1 / 4 (25.0%)\n",
      "2025/09/04 18:14:04 INFO dspy.teleprompt.mipro_optimizer_v2: Score: 25.0 with parameters ['Predictor 0: Instruction 0', 'Predictor 0: Few-Shot Set 0'].\n",
      "2025/09/04 18:14:04 INFO dspy.teleprompt.mipro_optimizer_v2: Scores so far: [25.0, 25.0, 25.0, 25.0, 25.0, 25.0, 25.0, 25.0, 25.0, 25.0, 25.0]\n",
      "2025/09/04 18:14:04 INFO dspy.teleprompt.mipro_optimizer_v2: Best score so far: 25.0\n",
      "2025/09/04 18:14:04 INFO dspy.teleprompt.mipro_optimizer_v2: =========================\n",
      "\n",
      "\n",
      "2025/09/04 18:14:04 INFO dspy.teleprompt.mipro_optimizer_v2: Returning best identified program with score 25.0!\n"
     ]
    },
    {
     "name": "stdout",
     "output_type": "stream",
     "text": [
      "\n",
      "Done.\n"
     ]
    }
   ],
   "source": [
    "import sys\n",
    "import os\n",
    "import dspy \n",
    "from common.my_settings import MySettings  \n",
    "from common.utils import md\n",
    "from common.llm_client_factory import LlmClientFactory\n",
    "from dspy_utils.dspy_helpers import md_dspy\n",
    "\n",
    "settings = MySettings().get()\n",
    "\n",
    "lm_gpt35 = dspy.LM('gpt-3.5-turbo', temperature=0.8, model_type='chat', cache=False, api_key=settings.OPENAI_API_KEY)\n",
    "lm_gpt4 = dspy.LM('gpt-4.1', temperature=0.9, model_type='chat', cache=False, api_key=settings.OPENAI_API_KEY)\n",
    "dspy.configure(lm=lm_gpt4)\n",
    "\n",
    "# Create domain classes\n",
    "from typing import Literal\n",
    "    \n",
    "class NumberPicker(dspy.Signature):\n",
    "    \"\"\"Guess a number from 1 to 5..\"\"\"\n",
    "    number_guess: str = dspy.InputField()\n",
    "    answer: Literal[\"one\", \"two\", \"three\", \"four\", \"five\"] = dspy.OutputField()\n",
    "\n",
    "numberPickerPredict = dspy.Predict(NumberPicker)\n",
    "numberPickerPredict(number_guess=\"even\")\n",
    "\n",
    "trainset = [\n",
    "    dspy.Example(number_guess=\"1\", answer=\"one\").with_inputs(\"number_guess\"),\n",
    "    dspy.Example(number_guess=\"2\", answer=\"two\").with_inputs(\"number_guess\"),\n",
    "    dspy.Example(number_guess=\"Four\", answer=\"four\").with_inputs(\"number_guess\"),\n",
    "    dspy.Example(number_guess=\"Five\", answer=\"five\").with_inputs(\"number_guess\"),\n",
    "    dspy.Example(number_guess=\"The number: 3\", answer=\"trhe\").with_inputs(\"number_guess\"),\n",
    "]\n",
    "\n",
    "def validate_match(expected, actual, trace=None) -> bool:\n",
    "    # print()\n",
    "    # md(\"**expected**: \", expected)\n",
    "    # print(\"**actual**: \", actual)\n",
    "    # md(\"**Is match**: \", actual.answer == \"two\")\n",
    "    # print()\n",
    "    return (actual.answer == \"three\")\n",
    "\n",
    "from dspy.teleprompt import *\n",
    "\n",
    "tp = dspy.MIPROv2(metric=validate_match, auto=\"light\", prompt_model=lm_gpt35, task_model=lm_gpt4)\n",
    "optimized_matcher = tp.compile(numberPickerPredict, trainset=trainset, requires_permission_to_run=False)\n",
    "optimized_matcher.save(\"./saved_files/test.json\")\n",
    "print(\"Done.\")\n"
   ]
  },
  {
   "cell_type": "code",
   "execution_count": null,
   "id": "90527a2e",
   "metadata": {},
   "outputs": [
    {
     "name": "stdout",
     "output_type": "stream",
     "text": [
      "{\n",
      "  \"traces\": [],\n",
      "  \"train\": [],\n",
      "  \"demos\": [],\n",
      "  \"signature\": {\n",
      "    \"instructions\": \"Guess a number from 1 to 5..\",\n",
      "    \"fields\": [\n",
      "      {\n",
      "        \"prefix\": \"Number Guess:\",\n",
      "        \"description\": \"${number_guess}\"\n",
      "      },\n",
      "      {\n",
      "        \"prefix\": \"Answer:\",\n",
      "        \"description\": \"${answer}\"\n",
      "      }\n",
      "    ]\n",
      "  },\n",
      "  \"lm\": null,\n",
      "  \"metadata\": {\n",
      "    \"dependency_versions\": {\n",
      "      \"python\": \"3.12\",\n",
      "      \"dspy\": \"3.0.1\",\n",
      "      \"cloudpickle\": \"3.1\"\n",
      "    }\n",
      "  }\n",
      "}\n"
     ]
    }
   ],
   "source": [
    "import json\n",
    "\n",
    "with open(\"./saved_files/test.json\", \"r\") as f:\n",
    "    data = json.load(f)\n",
    "\n",
    "print(json.dumps(data, indent=2))\n"
   ]
  }
 ],
 "metadata": {
  "kernelspec": {
   "display_name": "Python 3",
   "language": "python",
   "name": "python3"
  },
  "language_info": {
   "codemirror_mode": {
    "name": "ipython",
    "version": 3
   },
   "file_extension": ".py",
   "mimetype": "text/x-python",
   "name": "python",
   "nbconvert_exporter": "python",
   "pygments_lexer": "ipython3",
   "version": "3.12.1"
  }
 },
 "nbformat": 4,
 "nbformat_minor": 5
}
