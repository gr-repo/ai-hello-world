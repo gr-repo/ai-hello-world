{
 "cells": [
  {
   "cell_type": "markdown",
   "id": "df967dde",
   "metadata": {},
   "source": [
    "# Prompt Optimisation Using MIPRO\n",
    "\n",
    "This method, MIPRO, rewrites the prompt. So start with a simple vague prompt and get it re-written to something that fits. \n",
    "\n",
    "Use Case:  \n",
    "Create Meal/Dish classes with a prompt that is vague to start off with (i.e. \"Create a meal\"). Then put in a constraint that it only knows about during the optimisation phase (i.e. \"Only select Fish dishes\"). Then optimise the prompt and see if it changes it to cater for this constraint."
   ]
  },
  {
   "cell_type": "markdown",
   "id": "86043947",
   "metadata": {},
   "source": [
    "# Setup\n",
    "Note: Update OPENAI_API_KEY in env settings or MySettings class, see repo's README."
   ]
  },
  {
   "cell_type": "code",
   "execution_count": 90,
   "id": "0e6bbc94",
   "metadata": {},
   "outputs": [
    {
     "name": "stdout",
     "output_type": "stream",
     "text": [
      "Getting keys from environment variables\n"
     ]
    }
   ],
   "source": [
    "import sys\n",
    "import os\n",
    "import dspy \n",
    "from common.my_settings import MySettings  \n",
    "from common.utils import md\n",
    "from common.llm_client_factory import LlmClientFactory\n",
    "from dspy_utils.dspy_helpers import md_dspy\n",
    "\n",
    "settings = MySettings().get()"
   ]
  },
  {
   "cell_type": "markdown",
   "id": "a368fdf0",
   "metadata": {},
   "source": [
    "# Creat LLM Clients"
   ]
  },
  {
   "cell_type": "code",
   "execution_count": null,
   "id": "83a32205",
   "metadata": {},
   "outputs": [],
   "source": [
    "# Smaller LLM, this is the one that we are trying to optimize for, the prompts are going to be tweaked\n",
    "# to get the best out of this model\n",
    "lm_gpt35 = dspy.LM('gpt-3.5-turbo', temperature=0.8, model_type='chat', cache=False, api_key=settings.OPENAI_API_KEY)\n",
    "#dspy.configure(lm=lm_gpt35)\n",
    "\n",
    "lm_gpt41mini = dspy.LM('gpt-4.1-mini', temperature=0.8, model_type='chat', cache=False, api_key=settings.OPENAI_API_KEY)\n",
    "\n",
    "# # Larger LLM, this is the one that we are going to use to optimize the prompts\n",
    "# # It will be the helper/teach/AI Judge to assist in the optimization process\n",
    "lm_gpt4 = dspy.LM('gpt-4.1', temperature=0.9, model_type='chat', cache=False, api_key=settings.OPENAI_API_KEY)\n",
    "dspy.configure(lm=lm_gpt4)"
   ]
  },
  {
   "cell_type": "markdown",
   "id": "3a497e0a",
   "metadata": {},
   "source": [
    "# Create Domain"
   ]
  },
  {
   "cell_type": "code",
   "execution_count": 92,
   "id": "2f8a873b",
   "metadata": {},
   "outputs": [
    {
     "data": {
      "text/plain": [
       "Prediction(\n",
       "    name='Grilled Salmon with Lemon and Dill',\n",
       "    dish_type='Fish'\n",
       ")"
      ]
     },
     "execution_count": 92,
     "metadata": {},
     "output_type": "execute_result"
    }
   ],
   "source": [
    "# Create domain classes\n",
    "\n",
    "from pydantic import BaseModel\n",
    "from typing import Literal\n",
    "    \n",
    "class MealDecider(dspy.Signature):\n",
    "    \"\"\"Suggest a dish for todays meal\"\"\"\n",
    "    suggested_meal: str = dspy.InputField()\n",
    "\n",
    "    name: str = dspy.OutputField()\n",
    "    # description: str = dspy.OutputField()\n",
    "    dish_type: Literal[\"Fish\", \"Vegetarian\", \"Chicken\"] = dspy.OutputField()\n",
    "\n",
    "mealDeciderPredict = dspy.Predict(MealDecider)\n",
    "mealDeciderPredict(suggested_meal=\"From the ocean\")"
   ]
  },
  {
   "cell_type": "markdown",
   "id": "cfb80c38",
   "metadata": {},
   "source": [
    "# Create Trainset\n",
    "The ideal number of trainset examples for the DSPy MIPRO Prompt Optimizer depends on the complexity of your task and the variability in your data. However, here are some general guidelines:\n",
    "\n",
    "Recommended Starting Point\n",
    "1. Small-scale tasks or prototyping: Start with **20–50 examples**.\n",
    "1. Medium complexity tasks: Use **100–500 examples**.\n",
    "1. High variability or complex tasks: Consider **1,000+ examples**, if computationally feasible."
   ]
  },
  {
   "cell_type": "code",
   "execution_count": 93,
   "id": "30500874",
   "metadata": {},
   "outputs": [],
   "source": [
    "\n",
    "trainset = [\n",
    "    dspy.Example(\n",
    "        suggested_meal=\"Heavy dinner meal\",\n",
    "        name=\"Lamb Rogan Josh\",\n",
    "        #description=\"A rich and hearty Indian curry made with tender lamb chunks slow-cooked in a blend of aromatic spices, tomatoes, onions, and yogurt. Served with fragrant basmati rice and garlic naan, it’s a satisfying meal perfect for a heavy dinner.\",\n",
    "        dish_type=\"Lamb\"\n",
    "    ).with_inputs(\"suggested_meal\")\n",
    "    ,\n",
    "    dspy.Example(\n",
    "        suggested_meal=\"Breakfast suggestion\",\n",
    "        name=\"Avocado Toast with Poached Egg\",\n",
    "        #description=\"A slice of whole grain toast topped with creamy avocado, a perfectly poached egg, a sprinkle of salt and pepper, and a touch of fresh herbs. Light, nutritious, and perfect for a wholesome breakfast.\",\n",
    "        dish_type=\"Vegetarian\"\n",
    "    ).with_inputs(\"suggested_meal\")\n",
    "    ,\n",
    "    dspy.Example(\n",
    "        suggested_meal=\"Something light\",\n",
    "        name=\"Grilled Salmon with Asparagus\",\n",
    "        #description=\"A healthy grilled salmon fillet served with steamed asparagus and a lemon butter sauce.\",\n",
    "        dish_type=\"Fish\"\n",
    "    ).with_inputs(\"suggested_meal\")    \n",
    "]\n"
   ]
  },
  {
   "cell_type": "markdown",
   "id": "a162017c",
   "metadata": {},
   "source": [
    "# Optimization\n",
    "\n",
    "Purpose of metric in MIPRO\n",
    "The metric function in MIPRO is used to evaluate the quality of a model’s output against the expected result. It should return a boolean or score indicating whether the output is correct."
   ]
  },
  {
   "cell_type": "code",
   "execution_count": 94,
   "id": "2f9ec6b1",
   "metadata": {},
   "outputs": [
    {
     "name": "stderr",
     "output_type": "stream",
     "text": [
      "2025/09/03 16:45:13 INFO dspy.teleprompt.mipro_optimizer_v2: \n",
      "RUNNING WITH THE FOLLOWING MEDIUM AUTO RUN SETTINGS:\n",
      "num_trials: 18\n",
      "minibatch: False\n",
      "num_fewshot_candidates: 12\n",
      "num_instruct_candidates: 6\n",
      "valset size: 2\n",
      "\n",
      "2025/09/03 16:45:13 INFO dspy.teleprompt.mipro_optimizer_v2: \n",
      "==> STEP 1: BOOTSTRAP FEWSHOT EXAMPLES <==\n",
      "2025/09/03 16:45:13 INFO dspy.teleprompt.mipro_optimizer_v2: These will be used as few-shot example candidates for our program and for creating instructions.\n",
      "\n",
      "2025/09/03 16:45:13 INFO dspy.teleprompt.mipro_optimizer_v2: Bootstrapping N=12 sets of demonstrations...\n"
     ]
    },
    {
     "name": "stdout",
     "output_type": "stream",
     "text": [
      "Bootstrapping set 1/12\n",
      "Bootstrapping set 2/12\n",
      "Bootstrapping set 3/12\n"
     ]
    },
    {
     "name": "stderr",
     "output_type": "stream",
     "text": [
      "  0%|          | 0/1 [00:00<?, ?it/s]"
     ]
    },
    {
     "name": "stdout",
     "output_type": "stream",
     "text": [
      "\n"
     ]
    },
    {
     "data": {
      "text/markdown": [
       "**expected**: Example({'suggested_meal': 'Heavy dinner meal', 'name': 'Lamb Rogan Josh', 'dish_type': 'Lamb'}) (input_keys={'suggested_meal'})"
      ],
      "text/plain": [
       "<IPython.core.display.Markdown object>"
      ]
     },
     "metadata": {},
     "output_type": "display_data"
    },
    {
     "data": {
      "text/markdown": [
       "**actual**: Prediction(  \n",
       "    name='Butter Chicken with Garlic Naan',  \n",
       "    dish_type='Chicken'  \n",
       ")"
      ],
      "text/plain": [
       "<IPython.core.display.Markdown object>"
      ]
     },
     "metadata": {},
     "output_type": "display_data"
    },
    {
     "data": {
      "text/markdown": [
       "**Is Fish**: False"
      ],
      "text/plain": [
       "<IPython.core.display.Markdown object>"
      ]
     },
     "metadata": {},
     "output_type": "display_data"
    },
    {
     "name": "stderr",
     "output_type": "stream",
     "text": [
      "100%|██████████| 1/1 [00:00<00:00,  1.25it/s]\n"
     ]
    },
    {
     "name": "stdout",
     "output_type": "stream",
     "text": [
      "\n",
      "Bootstrapped 0 full traces after 0 examples for up to 1 rounds, amounting to 1 attempts.\n",
      "Bootstrapping set 4/12\n"
     ]
    },
    {
     "name": "stderr",
     "output_type": "stream",
     "text": [
      "  0%|          | 0/1 [00:00<?, ?it/s]"
     ]
    },
    {
     "name": "stdout",
     "output_type": "stream",
     "text": [
      "\n"
     ]
    },
    {
     "data": {
      "text/markdown": [
       "**expected**: Example({'suggested_meal': 'Heavy dinner meal', 'name': 'Lamb Rogan Josh', 'dish_type': 'Lamb'}) (input_keys={'suggested_meal'})"
      ],
      "text/plain": [
       "<IPython.core.display.Markdown object>"
      ]
     },
     "metadata": {},
     "output_type": "display_data"
    },
    {
     "data": {
      "text/markdown": [
       "**actual**: Prediction(  \n",
       "    name='Butter Chicken with Garlic Naan',  \n",
       "    dish_type='Chicken'  \n",
       ")"
      ],
      "text/plain": [
       "<IPython.core.display.Markdown object>"
      ]
     },
     "metadata": {},
     "output_type": "display_data"
    },
    {
     "data": {
      "text/markdown": [
       "**Is Fish**: False"
      ],
      "text/plain": [
       "<IPython.core.display.Markdown object>"
      ]
     },
     "metadata": {},
     "output_type": "display_data"
    },
    {
     "name": "stderr",
     "output_type": "stream",
     "text": [
      "100%|██████████| 1/1 [00:00<00:00,  1.46it/s]\n"
     ]
    },
    {
     "name": "stdout",
     "output_type": "stream",
     "text": [
      "\n",
      "Bootstrapped 0 full traces after 0 examples for up to 1 rounds, amounting to 1 attempts.\n",
      "Bootstrapping set 5/12\n"
     ]
    },
    {
     "name": "stderr",
     "output_type": "stream",
     "text": [
      "  0%|          | 0/1 [00:00<?, ?it/s]"
     ]
    },
    {
     "name": "stdout",
     "output_type": "stream",
     "text": [
      "\n"
     ]
    },
    {
     "data": {
      "text/markdown": [
       "**expected**: Example({'suggested_meal': 'Heavy dinner meal', 'name': 'Lamb Rogan Josh', 'dish_type': 'Lamb'}) (input_keys={'suggested_meal'})"
      ],
      "text/plain": [
       "<IPython.core.display.Markdown object>"
      ]
     },
     "metadata": {},
     "output_type": "display_data"
    },
    {
     "data": {
      "text/markdown": [
       "**actual**: Prediction(  \n",
       "    name='Butter Chicken with Naan and Rice',  \n",
       "    dish_type='Chicken'  \n",
       ")"
      ],
      "text/plain": [
       "<IPython.core.display.Markdown object>"
      ]
     },
     "metadata": {},
     "output_type": "display_data"
    },
    {
     "data": {
      "text/markdown": [
       "**Is Fish**: False"
      ],
      "text/plain": [
       "<IPython.core.display.Markdown object>"
      ]
     },
     "metadata": {},
     "output_type": "display_data"
    },
    {
     "name": "stderr",
     "output_type": "stream",
     "text": [
      "100%|██████████| 1/1 [00:02<00:00,  2.49s/it]\n"
     ]
    },
    {
     "name": "stdout",
     "output_type": "stream",
     "text": [
      "\n",
      "Bootstrapped 0 full traces after 0 examples for up to 1 rounds, amounting to 1 attempts.\n",
      "Bootstrapping set 6/12\n"
     ]
    },
    {
     "name": "stderr",
     "output_type": "stream",
     "text": [
      "  0%|          | 0/1 [00:00<?, ?it/s]"
     ]
    },
    {
     "name": "stdout",
     "output_type": "stream",
     "text": [
      "\n"
     ]
    },
    {
     "data": {
      "text/markdown": [
       "**expected**: Example({'suggested_meal': 'Heavy dinner meal', 'name': 'Lamb Rogan Josh', 'dish_type': 'Lamb'}) (input_keys={'suggested_meal'})"
      ],
      "text/plain": [
       "<IPython.core.display.Markdown object>"
      ]
     },
     "metadata": {},
     "output_type": "display_data"
    },
    {
     "data": {
      "text/markdown": [
       "**actual**: Prediction(  \n",
       "    name='Butter Chicken with Naan and Rice',  \n",
       "    dish_type='Chicken'  \n",
       ")"
      ],
      "text/plain": [
       "<IPython.core.display.Markdown object>"
      ]
     },
     "metadata": {},
     "output_type": "display_data"
    },
    {
     "data": {
      "text/markdown": [
       "**Is Fish**: False"
      ],
      "text/plain": [
       "<IPython.core.display.Markdown object>"
      ]
     },
     "metadata": {},
     "output_type": "display_data"
    },
    {
     "name": "stderr",
     "output_type": "stream",
     "text": [
      "100%|██████████| 1/1 [00:00<00:00,  1.01it/s]\n"
     ]
    },
    {
     "name": "stdout",
     "output_type": "stream",
     "text": [
      "\n",
      "Bootstrapped 0 full traces after 0 examples for up to 1 rounds, amounting to 1 attempts.\n",
      "Bootstrapping set 7/12\n"
     ]
    },
    {
     "name": "stderr",
     "output_type": "stream",
     "text": [
      "  0%|          | 0/1 [00:00<?, ?it/s]"
     ]
    },
    {
     "name": "stdout",
     "output_type": "stream",
     "text": [
      "\n"
     ]
    },
    {
     "data": {
      "text/markdown": [
       "**expected**: Example({'suggested_meal': 'Heavy dinner meal', 'name': 'Lamb Rogan Josh', 'dish_type': 'Lamb'}) (input_keys={'suggested_meal'})"
      ],
      "text/plain": [
       "<IPython.core.display.Markdown object>"
      ]
     },
     "metadata": {},
     "output_type": "display_data"
    },
    {
     "data": {
      "text/markdown": [
       "**actual**: Prediction(  \n",
       "    name='Butter Chicken with Naan',  \n",
       "    dish_type='Chicken'  \n",
       ")"
      ],
      "text/plain": [
       "<IPython.core.display.Markdown object>"
      ]
     },
     "metadata": {},
     "output_type": "display_data"
    },
    {
     "data": {
      "text/markdown": [
       "**Is Fish**: False"
      ],
      "text/plain": [
       "<IPython.core.display.Markdown object>"
      ]
     },
     "metadata": {},
     "output_type": "display_data"
    },
    {
     "name": "stderr",
     "output_type": "stream",
     "text": [
      "100%|██████████| 1/1 [00:00<00:00,  1.09it/s]\n"
     ]
    },
    {
     "name": "stdout",
     "output_type": "stream",
     "text": [
      "\n",
      "Bootstrapped 0 full traces after 0 examples for up to 1 rounds, amounting to 1 attempts.\n",
      "Bootstrapping set 8/12\n"
     ]
    },
    {
     "name": "stderr",
     "output_type": "stream",
     "text": [
      "  0%|          | 0/1 [00:00<?, ?it/s]"
     ]
    },
    {
     "name": "stdout",
     "output_type": "stream",
     "text": [
      "\n"
     ]
    },
    {
     "data": {
      "text/markdown": [
       "**expected**: Example({'suggested_meal': 'Heavy dinner meal', 'name': 'Lamb Rogan Josh', 'dish_type': 'Lamb'}) (input_keys={'suggested_meal'})"
      ],
      "text/plain": [
       "<IPython.core.display.Markdown object>"
      ]
     },
     "metadata": {},
     "output_type": "display_data"
    },
    {
     "data": {
      "text/markdown": [
       "**actual**: Prediction(  \n",
       "    name='Grilled Chicken with Creamy Mashed Potatoes and Steamed Vegetables',  \n",
       "    dish_type='Chicken'  \n",
       ")"
      ],
      "text/plain": [
       "<IPython.core.display.Markdown object>"
      ]
     },
     "metadata": {},
     "output_type": "display_data"
    },
    {
     "data": {
      "text/markdown": [
       "**Is Fish**: False"
      ],
      "text/plain": [
       "<IPython.core.display.Markdown object>"
      ]
     },
     "metadata": {},
     "output_type": "display_data"
    },
    {
     "name": "stderr",
     "output_type": "stream",
     "text": [
      "100%|██████████| 1/1 [00:01<00:00,  1.90s/it]\n"
     ]
    },
    {
     "name": "stdout",
     "output_type": "stream",
     "text": [
      "\n",
      "Bootstrapped 0 full traces after 0 examples for up to 1 rounds, amounting to 1 attempts.\n",
      "Bootstrapping set 9/12\n"
     ]
    },
    {
     "name": "stderr",
     "output_type": "stream",
     "text": [
      "  0%|          | 0/1 [00:00<?, ?it/s]"
     ]
    },
    {
     "name": "stdout",
     "output_type": "stream",
     "text": [
      "\n"
     ]
    },
    {
     "data": {
      "text/markdown": [
       "**expected**: Example({'suggested_meal': 'Heavy dinner meal', 'name': 'Lamb Rogan Josh', 'dish_type': 'Lamb'}) (input_keys={'suggested_meal'})"
      ],
      "text/plain": [
       "<IPython.core.display.Markdown object>"
      ]
     },
     "metadata": {},
     "output_type": "display_data"
    },
    {
     "data": {
      "text/markdown": [
       "**actual**: Prediction(  \n",
       "    name='Grilled Chicken with Creamy Garlic Mashed Potatoes',  \n",
       "    dish_type='Chicken'  \n",
       ")"
      ],
      "text/plain": [
       "<IPython.core.display.Markdown object>"
      ]
     },
     "metadata": {},
     "output_type": "display_data"
    },
    {
     "data": {
      "text/markdown": [
       "**Is Fish**: False"
      ],
      "text/plain": [
       "<IPython.core.display.Markdown object>"
      ]
     },
     "metadata": {},
     "output_type": "display_data"
    },
    {
     "name": "stderr",
     "output_type": "stream",
     "text": [
      "100%|██████████| 1/1 [00:01<00:00,  1.29s/it]\n"
     ]
    },
    {
     "name": "stdout",
     "output_type": "stream",
     "text": [
      "\n",
      "Bootstrapped 0 full traces after 0 examples for up to 1 rounds, amounting to 1 attempts.\n",
      "Bootstrapping set 10/12\n"
     ]
    },
    {
     "name": "stderr",
     "output_type": "stream",
     "text": [
      "  0%|          | 0/1 [00:00<?, ?it/s]"
     ]
    },
    {
     "name": "stdout",
     "output_type": "stream",
     "text": [
      "\n"
     ]
    },
    {
     "data": {
      "text/markdown": [
       "**expected**: Example({'suggested_meal': 'Heavy dinner meal', 'name': 'Lamb Rogan Josh', 'dish_type': 'Lamb'}) (input_keys={'suggested_meal'})"
      ],
      "text/plain": [
       "<IPython.core.display.Markdown object>"
      ]
     },
     "metadata": {},
     "output_type": "display_data"
    },
    {
     "data": {
      "text/markdown": [
       "**actual**: Prediction(  \n",
       "    name='Butter Chicken with Garlic Naan',  \n",
       "    dish_type='Chicken'  \n",
       ")"
      ],
      "text/plain": [
       "<IPython.core.display.Markdown object>"
      ]
     },
     "metadata": {},
     "output_type": "display_data"
    },
    {
     "data": {
      "text/markdown": [
       "**Is Fish**: False"
      ],
      "text/plain": [
       "<IPython.core.display.Markdown object>"
      ]
     },
     "metadata": {},
     "output_type": "display_data"
    },
    {
     "name": "stderr",
     "output_type": "stream",
     "text": [
      "100%|██████████| 1/1 [00:01<00:00,  1.69s/it]\n"
     ]
    },
    {
     "name": "stdout",
     "output_type": "stream",
     "text": [
      "\n",
      "Bootstrapped 0 full traces after 0 examples for up to 1 rounds, amounting to 1 attempts.\n",
      "Bootstrapping set 11/12\n"
     ]
    },
    {
     "name": "stderr",
     "output_type": "stream",
     "text": [
      "  0%|          | 0/1 [00:00<?, ?it/s]"
     ]
    },
    {
     "name": "stdout",
     "output_type": "stream",
     "text": [
      "\n"
     ]
    },
    {
     "data": {
      "text/markdown": [
       "**expected**: Example({'suggested_meal': 'Heavy dinner meal', 'name': 'Lamb Rogan Josh', 'dish_type': 'Lamb'}) (input_keys={'suggested_meal'})"
      ],
      "text/plain": [
       "<IPython.core.display.Markdown object>"
      ]
     },
     "metadata": {},
     "output_type": "display_data"
    },
    {
     "data": {
      "text/markdown": [
       "**actual**: Prediction(  \n",
       "    name='Butter Chicken with Garlic Naan',  \n",
       "    dish_type='Chicken'  \n",
       ")"
      ],
      "text/plain": [
       "<IPython.core.display.Markdown object>"
      ]
     },
     "metadata": {},
     "output_type": "display_data"
    },
    {
     "data": {
      "text/markdown": [
       "**Is Fish**: False"
      ],
      "text/plain": [
       "<IPython.core.display.Markdown object>"
      ]
     },
     "metadata": {},
     "output_type": "display_data"
    },
    {
     "name": "stderr",
     "output_type": "stream",
     "text": [
      "100%|██████████| 1/1 [00:00<00:00,  1.11it/s]\n"
     ]
    },
    {
     "name": "stdout",
     "output_type": "stream",
     "text": [
      "\n",
      "Bootstrapped 0 full traces after 0 examples for up to 1 rounds, amounting to 1 attempts.\n",
      "Bootstrapping set 12/12\n"
     ]
    },
    {
     "name": "stderr",
     "output_type": "stream",
     "text": [
      "  0%|          | 0/1 [00:00<?, ?it/s]"
     ]
    },
    {
     "name": "stdout",
     "output_type": "stream",
     "text": [
      "\n"
     ]
    },
    {
     "data": {
      "text/markdown": [
       "**expected**: Example({'suggested_meal': 'Heavy dinner meal', 'name': 'Lamb Rogan Josh', 'dish_type': 'Lamb'}) (input_keys={'suggested_meal'})"
      ],
      "text/plain": [
       "<IPython.core.display.Markdown object>"
      ]
     },
     "metadata": {},
     "output_type": "display_data"
    },
    {
     "data": {
      "text/markdown": [
       "**actual**: Prediction(  \n",
       "    name='Butter Chicken with Naan',  \n",
       "    dish_type='Chicken'  \n",
       ")"
      ],
      "text/plain": [
       "<IPython.core.display.Markdown object>"
      ]
     },
     "metadata": {},
     "output_type": "display_data"
    },
    {
     "data": {
      "text/markdown": [
       "**Is Fish**: False"
      ],
      "text/plain": [
       "<IPython.core.display.Markdown object>"
      ]
     },
     "metadata": {},
     "output_type": "display_data"
    },
    {
     "name": "stderr",
     "output_type": "stream",
     "text": [
      "100%|██████████| 1/1 [00:01<00:00,  1.55s/it]\n",
      "2025/09/03 16:45:26 INFO dspy.teleprompt.mipro_optimizer_v2: \n",
      "==> STEP 2: PROPOSE INSTRUCTION CANDIDATES <==\n",
      "2025/09/03 16:45:26 INFO dspy.teleprompt.mipro_optimizer_v2: We will use the few-shot examples from the previous step, a generated dataset summary, a summary of the program code, and a randomly selected prompting tip to propose instructions.\n"
     ]
    },
    {
     "name": "stdout",
     "output_type": "stream",
     "text": [
      "\n",
      "Bootstrapped 0 full traces after 0 examples for up to 1 rounds, amounting to 1 attempts.\n"
     ]
    },
    {
     "name": "stderr",
     "output_type": "stream",
     "text": [
      "2025/09/03 16:45:28 INFO dspy.teleprompt.mipro_optimizer_v2: \n",
      "Proposing N=6 instructions...\n",
      "\n",
      "2025/09/03 16:45:58 INFO dspy.teleprompt.mipro_optimizer_v2: Proposed Instructions for Predictor 0:\n",
      "\n",
      "2025/09/03 16:45:58 INFO dspy.teleprompt.mipro_optimizer_v2: 0: Suggest a dish for todays meal\n",
      "\n",
      "2025/09/03 16:45:58 INFO dspy.teleprompt.mipro_optimizer_v2: 1: You are a food enthusiast looking for meal inspiration. Please suggest a dish for today's meal.\n",
      "\n",
      "2025/09/03 16:45:58 INFO dspy.teleprompt.mipro_optimizer_v2: 2: You are a food enthusiast looking for meal inspiration. Please suggest a dish for today's meal.\n",
      "\n",
      "2025/09/03 16:45:58 INFO dspy.teleprompt.mipro_optimizer_v2: 3: Given a suggested meal, predict the name and dish type of the meal.\n",
      "\n",
      "2025/09/03 16:45:58 INFO dspy.teleprompt.mipro_optimizer_v2: 4: Given a suggested meal, predict the name and dish type of the meal using the language model.\n",
      "\n",
      "2025/09/03 16:45:58 INFO dspy.teleprompt.mipro_optimizer_v2: 5: You are a renowned chef hosting a high-profile event with discerning guests. Your reputation is on the line as you need to impress them with a unique and exquisite dish. Consult the language model to predict the name and dish type of the meal you should serve for today's event.\n",
      "\n",
      "2025/09/03 16:45:58 INFO dspy.teleprompt.mipro_optimizer_v2: \n",
      "\n",
      "2025/09/03 16:45:58 INFO dspy.teleprompt.mipro_optimizer_v2: ==> STEP 3: FINDING OPTIMAL PROMPT PARAMETERS <==\n",
      "2025/09/03 16:45:58 INFO dspy.teleprompt.mipro_optimizer_v2: We will evaluate the program over a series of trials with different combinations of instructions and few-shot examples to find the optimal combination using Bayesian Optimization.\n",
      "\n",
      "2025/09/03 16:45:58 INFO dspy.teleprompt.mipro_optimizer_v2: == Trial 1 / 18 - Full Evaluation of Default Program ==\n"
     ]
    },
    {
     "name": "stdout",
     "output_type": "stream",
     "text": [
      "  0%|          | 0/2 [00:00<?, ?it/s]\n"
     ]
    },
    {
     "data": {
      "text/markdown": [
       "**expected**: Example({'suggested_meal': 'Something light', 'name': 'Grilled Salmon with Asparagus', 'dish_type': 'Fish'}) (input_keys={'suggested_meal'})"
      ],
      "text/plain": [
       "<IPython.core.display.Markdown object>"
      ]
     },
     "metadata": {},
     "output_type": "display_data"
    },
    {
     "data": {
      "text/markdown": [
       "**actual**: Prediction(  \n",
       "    name='Grilled Lemon Herb Salmon',  \n",
       "    dish_type='Fish'  \n",
       ")"
      ],
      "text/plain": [
       "<IPython.core.display.Markdown object>"
      ]
     },
     "metadata": {},
     "output_type": "display_data"
    },
    {
     "data": {
      "text/markdown": [
       "**Is Fish**: True"
      ],
      "text/plain": [
       "<IPython.core.display.Markdown object>"
      ]
     },
     "metadata": {},
     "output_type": "display_data"
    },
    {
     "name": "stdout",
     "output_type": "stream",
     "text": [
      "\n",
      "Average Metric: 1.00 / 1 (100.0%):  50%|█████     | 1/2 [00:00<00:00,  1.26it/s]\n"
     ]
    },
    {
     "data": {
      "text/markdown": [
       "**expected**: Example({'suggested_meal': 'Breakfast suggestion', 'name': 'Avocado Toast with Poached Egg', 'dish_type': 'Vegetarian'}) (input_keys={'suggested_meal'})"
      ],
      "text/plain": [
       "<IPython.core.display.Markdown object>"
      ]
     },
     "metadata": {},
     "output_type": "display_data"
    },
    {
     "data": {
      "text/markdown": [
       "**actual**: Prediction(  \n",
       "    name='Vegetable Omelette with Whole Wheat Toast',  \n",
       "    dish_type='Vegetarian'  \n",
       ")"
      ],
      "text/plain": [
       "<IPython.core.display.Markdown object>"
      ]
     },
     "metadata": {},
     "output_type": "display_data"
    },
    {
     "data": {
      "text/markdown": [
       "**Is Fish**: False"
      ],
      "text/plain": [
       "<IPython.core.display.Markdown object>"
      ]
     },
     "metadata": {},
     "output_type": "display_data"
    },
    {
     "name": "stdout",
     "output_type": "stream",
     "text": [
      "\n",
      "Average Metric: 1.00 / 2 (50.0%): 100%|██████████| 2/2 [00:01<00:00,  1.69it/s] "
     ]
    },
    {
     "name": "stderr",
     "output_type": "stream",
     "text": [
      "2025/09/03 16:45:59 INFO dspy.evaluate.evaluate: Average Metric: 1 / 2 (50.0%)\n",
      "2025/09/03 16:45:59 INFO dspy.teleprompt.mipro_optimizer_v2: Default program score: 50.0\n",
      "\n",
      "2025/09/03 16:45:59 INFO dspy.teleprompt.mipro_optimizer_v2: ===== Trial 2 / 18 =====\n"
     ]
    },
    {
     "name": "stdout",
     "output_type": "stream",
     "text": [
      "\n",
      "  0%|          | 0/2 [00:00<?, ?it/s]\n"
     ]
    },
    {
     "data": {
      "text/markdown": [
       "**expected**: Example({'suggested_meal': 'Something light', 'name': 'Grilled Salmon with Asparagus', 'dish_type': 'Fish'}) (input_keys={'suggested_meal'})"
      ],
      "text/plain": [
       "<IPython.core.display.Markdown object>"
      ]
     },
     "metadata": {},
     "output_type": "display_data"
    },
    {
     "data": {
      "text/markdown": [
       "**actual**: Prediction(  \n",
       "    name='Grilled Vegetable Salad',  \n",
       "    dish_type='Vegetarian'  \n",
       ")"
      ],
      "text/plain": [
       "<IPython.core.display.Markdown object>"
      ]
     },
     "metadata": {},
     "output_type": "display_data"
    },
    {
     "data": {
      "text/markdown": [
       "**Is Fish**: False"
      ],
      "text/plain": [
       "<IPython.core.display.Markdown object>"
      ]
     },
     "metadata": {},
     "output_type": "display_data"
    },
    {
     "name": "stdout",
     "output_type": "stream",
     "text": [
      "\n",
      "Average Metric: 0.00 / 1 (0.0%):  50%|█████     | 1/2 [00:00<00:00,  1.13it/s]\n"
     ]
    },
    {
     "data": {
      "text/markdown": [
       "**expected**: Example({'suggested_meal': 'Breakfast suggestion', 'name': 'Avocado Toast with Poached Egg', 'dish_type': 'Vegetarian'}) (input_keys={'suggested_meal'})"
      ],
      "text/plain": [
       "<IPython.core.display.Markdown object>"
      ]
     },
     "metadata": {},
     "output_type": "display_data"
    },
    {
     "data": {
      "text/markdown": [
       "**actual**: Prediction(  \n",
       "    name='Vegetarian Omelette',  \n",
       "    dish_type='Vegetarian'  \n",
       ")"
      ],
      "text/plain": [
       "<IPython.core.display.Markdown object>"
      ]
     },
     "metadata": {},
     "output_type": "display_data"
    },
    {
     "data": {
      "text/markdown": [
       "**Is Fish**: False"
      ],
      "text/plain": [
       "<IPython.core.display.Markdown object>"
      ]
     },
     "metadata": {},
     "output_type": "display_data"
    },
    {
     "name": "stdout",
     "output_type": "stream",
     "text": [
      "\n",
      "Average Metric: 0.00 / 2 (0.0%): 100%|██████████| 2/2 [00:01<00:00,  1.89it/s]"
     ]
    },
    {
     "name": "stderr",
     "output_type": "stream",
     "text": [
      "2025/09/03 16:46:00 INFO dspy.evaluate.evaluate: Average Metric: 0 / 2 (0.0%)\n",
      "2025/09/03 16:46:00 INFO dspy.teleprompt.mipro_optimizer_v2: Score: 0.0 with parameters ['Predictor 0: Instruction 1', 'Predictor 0: Few-Shot Set 6'].\n",
      "2025/09/03 16:46:00 INFO dspy.teleprompt.mipro_optimizer_v2: Scores so far: [50.0, 0.0]\n",
      "2025/09/03 16:46:00 INFO dspy.teleprompt.mipro_optimizer_v2: Best score so far: 50.0\n",
      "2025/09/03 16:46:00 INFO dspy.teleprompt.mipro_optimizer_v2: ========================\n",
      "\n",
      "\n",
      "2025/09/03 16:46:00 INFO dspy.teleprompt.mipro_optimizer_v2: ===== Trial 3 / 18 =====\n"
     ]
    },
    {
     "name": "stdout",
     "output_type": "stream",
     "text": [
      "\n",
      "  0%|          | 0/2 [00:00<?, ?it/s]\n"
     ]
    },
    {
     "data": {
      "text/markdown": [
       "**expected**: Example({'suggested_meal': 'Breakfast suggestion', 'name': 'Avocado Toast with Poached Egg', 'dish_type': 'Vegetarian'}) (input_keys={'suggested_meal'})"
      ],
      "text/plain": [
       "<IPython.core.display.Markdown object>"
      ]
     },
     "metadata": {},
     "output_type": "display_data"
    },
    {
     "data": {
      "text/markdown": [
       "**actual**: Prediction(  \n",
       "    name='Vegetable Omelette',  \n",
       "    dish_type='Vegetarian'  \n",
       ")"
      ],
      "text/plain": [
       "<IPython.core.display.Markdown object>"
      ]
     },
     "metadata": {},
     "output_type": "display_data"
    },
    {
     "data": {
      "text/markdown": [
       "**Is Fish**: False"
      ],
      "text/plain": [
       "<IPython.core.display.Markdown object>"
      ]
     },
     "metadata": {},
     "output_type": "display_data"
    },
    {
     "name": "stdout",
     "output_type": "stream",
     "text": [
      "\n",
      "Average Metric: 0.00 / 1 (0.0%):  50%|█████     | 1/2 [00:00<00:00,  1.54it/s]\n"
     ]
    },
    {
     "data": {
      "text/markdown": [
       "**expected**: Example({'suggested_meal': 'Something light', 'name': 'Grilled Salmon with Asparagus', 'dish_type': 'Fish'}) (input_keys={'suggested_meal'})"
      ],
      "text/plain": [
       "<IPython.core.display.Markdown object>"
      ]
     },
     "metadata": {},
     "output_type": "display_data"
    },
    {
     "data": {
      "text/markdown": [
       "**actual**: Prediction(  \n",
       "    name='Grilled Vegetable Salad',  \n",
       "    dish_type='Vegetarian'  \n",
       ")"
      ],
      "text/plain": [
       "<IPython.core.display.Markdown object>"
      ]
     },
     "metadata": {},
     "output_type": "display_data"
    },
    {
     "data": {
      "text/markdown": [
       "**Is Fish**: False"
      ],
      "text/plain": [
       "<IPython.core.display.Markdown object>"
      ]
     },
     "metadata": {},
     "output_type": "display_data"
    },
    {
     "name": "stdout",
     "output_type": "stream",
     "text": [
      "\n",
      "Average Metric: 0.00 / 2 (0.0%): 100%|██████████| 2/2 [00:00<00:00,  2.43it/s]"
     ]
    },
    {
     "name": "stderr",
     "output_type": "stream",
     "text": [
      "2025/09/03 16:46:01 INFO dspy.evaluate.evaluate: Average Metric: 0 / 2 (0.0%)\n",
      "2025/09/03 16:46:01 INFO dspy.teleprompt.mipro_optimizer_v2: Score: 0.0 with parameters ['Predictor 0: Instruction 4', 'Predictor 0: Few-Shot Set 2'].\n",
      "2025/09/03 16:46:01 INFO dspy.teleprompt.mipro_optimizer_v2: Scores so far: [50.0, 0.0, 0.0]\n",
      "2025/09/03 16:46:01 INFO dspy.teleprompt.mipro_optimizer_v2: Best score so far: 50.0\n",
      "2025/09/03 16:46:01 INFO dspy.teleprompt.mipro_optimizer_v2: ========================\n",
      "\n",
      "\n",
      "2025/09/03 16:46:01 INFO dspy.teleprompt.mipro_optimizer_v2: ===== Trial 4 / 18 =====\n"
     ]
    },
    {
     "name": "stdout",
     "output_type": "stream",
     "text": [
      "\n",
      "  0%|          | 0/2 [00:00<?, ?it/s]\n"
     ]
    },
    {
     "data": {
      "text/markdown": [
       "**expected**: Example({'suggested_meal': 'Breakfast suggestion', 'name': 'Avocado Toast with Poached Egg', 'dish_type': 'Vegetarian'}) (input_keys={'suggested_meal'})"
      ],
      "text/plain": [
       "<IPython.core.display.Markdown object>"
      ]
     },
     "metadata": {},
     "output_type": "display_data"
    },
    {
     "data": {
      "text/markdown": [
       "**actual**: Prediction(  \n",
       "    name='Vegetable Omelette',  \n",
       "    dish_type='Vegetarian'  \n",
       ")"
      ],
      "text/plain": [
       "<IPython.core.display.Markdown object>"
      ]
     },
     "metadata": {},
     "output_type": "display_data"
    },
    {
     "data": {
      "text/markdown": [
       "**Is Fish**: False"
      ],
      "text/plain": [
       "<IPython.core.display.Markdown object>"
      ]
     },
     "metadata": {},
     "output_type": "display_data"
    },
    {
     "name": "stdout",
     "output_type": "stream",
     "text": [
      "\n",
      "Average Metric: 0.00 / 1 (0.0%):  50%|█████     | 1/2 [00:00<00:00,  1.11it/s]\n"
     ]
    },
    {
     "data": {
      "text/markdown": [
       "**expected**: Example({'suggested_meal': 'Something light', 'name': 'Grilled Salmon with Asparagus', 'dish_type': 'Fish'}) (input_keys={'suggested_meal'})"
      ],
      "text/plain": [
       "<IPython.core.display.Markdown object>"
      ]
     },
     "metadata": {},
     "output_type": "display_data"
    },
    {
     "data": {
      "text/markdown": [
       "**actual**: Prediction(  \n",
       "    name='Grilled Vegetable Salad',  \n",
       "    dish_type='Vegetarian'  \n",
       ")"
      ],
      "text/plain": [
       "<IPython.core.display.Markdown object>"
      ]
     },
     "metadata": {},
     "output_type": "display_data"
    },
    {
     "data": {
      "text/markdown": [
       "**Is Fish**: False"
      ],
      "text/plain": [
       "<IPython.core.display.Markdown object>"
      ]
     },
     "metadata": {},
     "output_type": "display_data"
    },
    {
     "name": "stdout",
     "output_type": "stream",
     "text": [
      "\n",
      "Average Metric: 0.00 / 2 (0.0%): 100%|██████████| 2/2 [00:01<00:00,  1.84it/s]"
     ]
    },
    {
     "name": "stderr",
     "output_type": "stream",
     "text": [
      "2025/09/03 16:46:02 INFO dspy.evaluate.evaluate: Average Metric: 0 / 2 (0.0%)\n",
      "2025/09/03 16:46:02 INFO dspy.teleprompt.mipro_optimizer_v2: Score: 0.0 with parameters ['Predictor 0: Instruction 0', 'Predictor 0: Few-Shot Set 6'].\n"
     ]
    },
    {
     "name": "stdout",
     "output_type": "stream",
     "text": [
      "\n"
     ]
    },
    {
     "name": "stderr",
     "output_type": "stream",
     "text": [
      "2025/09/03 16:46:02 INFO dspy.teleprompt.mipro_optimizer_v2: Scores so far: [50.0, 0.0, 0.0, 0.0]\n",
      "2025/09/03 16:46:02 INFO dspy.teleprompt.mipro_optimizer_v2: Best score so far: 50.0\n",
      "2025/09/03 16:46:02 INFO dspy.teleprompt.mipro_optimizer_v2: ========================\n",
      "\n",
      "\n",
      "2025/09/03 16:46:02 INFO dspy.teleprompt.mipro_optimizer_v2: ===== Trial 5 / 18 =====\n"
     ]
    },
    {
     "name": "stdout",
     "output_type": "stream",
     "text": [
      "  0%|          | 0/2 [00:00<?, ?it/s]\n"
     ]
    },
    {
     "data": {
      "text/markdown": [
       "**expected**: Example({'suggested_meal': 'Something light', 'name': 'Grilled Salmon with Asparagus', 'dish_type': 'Fish'}) (input_keys={'suggested_meal'})"
      ],
      "text/plain": [
       "<IPython.core.display.Markdown object>"
      ]
     },
     "metadata": {},
     "output_type": "display_data"
    },
    {
     "data": {
      "text/markdown": [
       "**actual**: Prediction(  \n",
       "    name='Grilled Vegetable Salad',  \n",
       "    dish_type='Vegetarian'  \n",
       ")"
      ],
      "text/plain": [
       "<IPython.core.display.Markdown object>"
      ]
     },
     "metadata": {},
     "output_type": "display_data"
    },
    {
     "data": {
      "text/markdown": [
       "**Is Fish**: False"
      ],
      "text/plain": [
       "<IPython.core.display.Markdown object>"
      ]
     },
     "metadata": {},
     "output_type": "display_data"
    },
    {
     "name": "stdout",
     "output_type": "stream",
     "text": [
      "\n",
      "Average Metric: 0.00 / 1 (0.0%):  50%|█████     | 1/2 [00:00<00:00,  1.17it/s]\n"
     ]
    },
    {
     "data": {
      "text/markdown": [
       "**expected**: Example({'suggested_meal': 'Breakfast suggestion', 'name': 'Avocado Toast with Poached Egg', 'dish_type': 'Vegetarian'}) (input_keys={'suggested_meal'})"
      ],
      "text/plain": [
       "<IPython.core.display.Markdown object>"
      ]
     },
     "metadata": {},
     "output_type": "display_data"
    },
    {
     "data": {
      "text/markdown": [
       "**actual**: Prediction(  \n",
       "    name='Vegetable Omelette',  \n",
       "    dish_type='Vegetarian'  \n",
       ")"
      ],
      "text/plain": [
       "<IPython.core.display.Markdown object>"
      ]
     },
     "metadata": {},
     "output_type": "display_data"
    },
    {
     "data": {
      "text/markdown": [
       "**Is Fish**: False"
      ],
      "text/plain": [
       "<IPython.core.display.Markdown object>"
      ]
     },
     "metadata": {},
     "output_type": "display_data"
    },
    {
     "name": "stdout",
     "output_type": "stream",
     "text": [
      "\n",
      "Average Metric: 0.00 / 2 (0.0%): 100%|██████████| 2/2 [00:01<00:00,  1.52it/s]"
     ]
    },
    {
     "name": "stderr",
     "output_type": "stream",
     "text": [
      "2025/09/03 16:46:03 INFO dspy.evaluate.evaluate: Average Metric: 0 / 2 (0.0%)\n",
      "2025/09/03 16:46:03 INFO dspy.teleprompt.mipro_optimizer_v2: Score: 0.0 with parameters ['Predictor 0: Instruction 2', 'Predictor 0: Few-Shot Set 4'].\n",
      "2025/09/03 16:46:03 INFO dspy.teleprompt.mipro_optimizer_v2: Scores so far: [50.0, 0.0, 0.0, 0.0, 0.0]\n",
      "2025/09/03 16:46:03 INFO dspy.teleprompt.mipro_optimizer_v2: Best score so far: 50.0\n",
      "2025/09/03 16:46:03 INFO dspy.teleprompt.mipro_optimizer_v2: ========================\n",
      "\n",
      "\n",
      "2025/09/03 16:46:03 INFO dspy.teleprompt.mipro_optimizer_v2: ===== Trial 6 / 18 =====\n"
     ]
    },
    {
     "name": "stdout",
     "output_type": "stream",
     "text": [
      "\n",
      "  0%|          | 0/2 [00:00<?, ?it/s]\n"
     ]
    },
    {
     "data": {
      "text/markdown": [
       "**expected**: Example({'suggested_meal': 'Breakfast suggestion', 'name': 'Avocado Toast with Poached Egg', 'dish_type': 'Vegetarian'}) (input_keys={'suggested_meal'})"
      ],
      "text/plain": [
       "<IPython.core.display.Markdown object>"
      ]
     },
     "metadata": {},
     "output_type": "display_data"
    },
    {
     "data": {
      "text/markdown": [
       "**actual**: Prediction(  \n",
       "    name='Vegetable Omelette',  \n",
       "    dish_type='Vegetarian'  \n",
       ")"
      ],
      "text/plain": [
       "<IPython.core.display.Markdown object>"
      ]
     },
     "metadata": {},
     "output_type": "display_data"
    },
    {
     "data": {
      "text/markdown": [
       "**Is Fish**: False"
      ],
      "text/plain": [
       "<IPython.core.display.Markdown object>"
      ]
     },
     "metadata": {},
     "output_type": "display_data"
    },
    {
     "name": "stdout",
     "output_type": "stream",
     "text": [
      "\n",
      "Average Metric: 0.00 / 1 (0.0%):  50%|█████     | 1/2 [00:00<00:00,  1.45it/s]\n"
     ]
    },
    {
     "data": {
      "text/markdown": [
       "**expected**: Example({'suggested_meal': 'Something light', 'name': 'Grilled Salmon with Asparagus', 'dish_type': 'Fish'}) (input_keys={'suggested_meal'})"
      ],
      "text/plain": [
       "<IPython.core.display.Markdown object>"
      ]
     },
     "metadata": {},
     "output_type": "display_data"
    },
    {
     "data": {
      "text/markdown": [
       "**actual**: Prediction(  \n",
       "    name='Grilled Vegetable Salad',  \n",
       "    dish_type='Vegetarian'  \n",
       ")"
      ],
      "text/plain": [
       "<IPython.core.display.Markdown object>"
      ]
     },
     "metadata": {},
     "output_type": "display_data"
    },
    {
     "data": {
      "text/markdown": [
       "**Is Fish**: False"
      ],
      "text/plain": [
       "<IPython.core.display.Markdown object>"
      ]
     },
     "metadata": {},
     "output_type": "display_data"
    },
    {
     "name": "stdout",
     "output_type": "stream",
     "text": [
      "\n",
      "Average Metric: 0.00 / 2 (0.0%): 100%|██████████| 2/2 [00:00<00:00,  2.65it/s]"
     ]
    },
    {
     "name": "stderr",
     "output_type": "stream",
     "text": [
      "2025/09/03 16:46:04 INFO dspy.evaluate.evaluate: Average Metric: 0 / 2 (0.0%)\n",
      "2025/09/03 16:46:04 INFO dspy.teleprompt.mipro_optimizer_v2: Score: 0.0 with parameters ['Predictor 0: Instruction 3', 'Predictor 0: Few-Shot Set 5'].\n",
      "2025/09/03 16:46:04 INFO dspy.teleprompt.mipro_optimizer_v2: Scores so far: [50.0, 0.0, 0.0, 0.0, 0.0, 0.0]\n",
      "2025/09/03 16:46:04 INFO dspy.teleprompt.mipro_optimizer_v2: Best score so far: 50.0\n",
      "2025/09/03 16:46:04 INFO dspy.teleprompt.mipro_optimizer_v2: ========================\n",
      "\n",
      "\n",
      "2025/09/03 16:46:04 INFO dspy.teleprompt.mipro_optimizer_v2: ===== Trial 7 / 18 =====\n"
     ]
    },
    {
     "name": "stdout",
     "output_type": "stream",
     "text": [
      "\n",
      "  0%|          | 0/2 [00:00<?, ?it/s]\n"
     ]
    },
    {
     "data": {
      "text/markdown": [
       "**expected**: Example({'suggested_meal': 'Something light', 'name': 'Grilled Salmon with Asparagus', 'dish_type': 'Fish'}) (input_keys={'suggested_meal'})"
      ],
      "text/plain": [
       "<IPython.core.display.Markdown object>"
      ]
     },
     "metadata": {},
     "output_type": "display_data"
    },
    {
     "data": {
      "text/markdown": [
       "**actual**: Prediction(  \n",
       "    name='Grilled Vegetable Salad',  \n",
       "    dish_type='Vegetarian'  \n",
       ")"
      ],
      "text/plain": [
       "<IPython.core.display.Markdown object>"
      ]
     },
     "metadata": {},
     "output_type": "display_data"
    },
    {
     "data": {
      "text/markdown": [
       "**Is Fish**: False"
      ],
      "text/plain": [
       "<IPython.core.display.Markdown object>"
      ]
     },
     "metadata": {},
     "output_type": "display_data"
    },
    {
     "name": "stdout",
     "output_type": "stream",
     "text": [
      "\n",
      "Average Metric: 0.00 / 1 (0.0%):  50%|█████     | 1/2 [00:00<00:00,  1.25it/s]\n"
     ]
    },
    {
     "data": {
      "text/markdown": [
       "**expected**: Example({'suggested_meal': 'Breakfast suggestion', 'name': 'Avocado Toast with Poached Egg', 'dish_type': 'Vegetarian'}) (input_keys={'suggested_meal'})"
      ],
      "text/plain": [
       "<IPython.core.display.Markdown object>"
      ]
     },
     "metadata": {},
     "output_type": "display_data"
    },
    {
     "data": {
      "text/markdown": [
       "**actual**: Prediction(  \n",
       "    name='Vegetable Omelette',  \n",
       "    dish_type='Vegetarian'  \n",
       ")"
      ],
      "text/plain": [
       "<IPython.core.display.Markdown object>"
      ]
     },
     "metadata": {},
     "output_type": "display_data"
    },
    {
     "data": {
      "text/markdown": [
       "**Is Fish**: False"
      ],
      "text/plain": [
       "<IPython.core.display.Markdown object>"
      ]
     },
     "metadata": {},
     "output_type": "display_data"
    },
    {
     "name": "stdout",
     "output_type": "stream",
     "text": [
      "\n",
      "Average Metric: 0.00 / 2 (0.0%): 100%|██████████| 2/2 [00:00<00:00,  2.33it/s]"
     ]
    },
    {
     "name": "stderr",
     "output_type": "stream",
     "text": [
      "2025/09/03 16:46:05 INFO dspy.evaluate.evaluate: Average Metric: 0 / 2 (0.0%)\n",
      "2025/09/03 16:46:05 INFO dspy.teleprompt.mipro_optimizer_v2: Score: 0.0 with parameters ['Predictor 0: Instruction 4', 'Predictor 0: Few-Shot Set 6'].\n",
      "2025/09/03 16:46:05 INFO dspy.teleprompt.mipro_optimizer_v2: Scores so far: [50.0, 0.0, 0.0, 0.0, 0.0, 0.0, 0.0]\n",
      "2025/09/03 16:46:05 INFO dspy.teleprompt.mipro_optimizer_v2: Best score so far: 50.0\n",
      "2025/09/03 16:46:05 INFO dspy.teleprompt.mipro_optimizer_v2: ========================\n",
      "\n",
      "\n",
      "2025/09/03 16:46:05 INFO dspy.teleprompt.mipro_optimizer_v2: ===== Trial 8 / 18 =====\n"
     ]
    },
    {
     "name": "stdout",
     "output_type": "stream",
     "text": [
      "\n",
      "  0%|          | 0/2 [00:00<?, ?it/s]\n"
     ]
    },
    {
     "data": {
      "text/markdown": [
       "**expected**: Example({'suggested_meal': 'Something light', 'name': 'Grilled Salmon with Asparagus', 'dish_type': 'Fish'}) (input_keys={'suggested_meal'})"
      ],
      "text/plain": [
       "<IPython.core.display.Markdown object>"
      ]
     },
     "metadata": {},
     "output_type": "display_data"
    },
    {
     "data": {
      "text/markdown": [
       "**actual**: Prediction(  \n",
       "    name='Grilled Lemon Herb Salmon',  \n",
       "    dish_type='Fish'  \n",
       ")"
      ],
      "text/plain": [
       "<IPython.core.display.Markdown object>"
      ]
     },
     "metadata": {},
     "output_type": "display_data"
    },
    {
     "data": {
      "text/markdown": [
       "**Is Fish**: True"
      ],
      "text/plain": [
       "<IPython.core.display.Markdown object>"
      ]
     },
     "metadata": {},
     "output_type": "display_data"
    },
    {
     "name": "stdout",
     "output_type": "stream",
     "text": [
      "\n",
      "Average Metric: 1.00 / 1 (100.0%):  50%|█████     | 1/2 [00:00<00:00,  1.37it/s]\n"
     ]
    },
    {
     "data": {
      "text/markdown": [
       "**expected**: Example({'suggested_meal': 'Breakfast suggestion', 'name': 'Avocado Toast with Poached Egg', 'dish_type': 'Vegetarian'}) (input_keys={'suggested_meal'})"
      ],
      "text/plain": [
       "<IPython.core.display.Markdown object>"
      ]
     },
     "metadata": {},
     "output_type": "display_data"
    },
    {
     "data": {
      "text/markdown": [
       "**actual**: Prediction(  \n",
       "    name='Shakshuka with Feta',  \n",
       "    dish_type='Vegetarian'  \n",
       ")"
      ],
      "text/plain": [
       "<IPython.core.display.Markdown object>"
      ]
     },
     "metadata": {},
     "output_type": "display_data"
    },
    {
     "data": {
      "text/markdown": [
       "**Is Fish**: False"
      ],
      "text/plain": [
       "<IPython.core.display.Markdown object>"
      ]
     },
     "metadata": {},
     "output_type": "display_data"
    },
    {
     "name": "stdout",
     "output_type": "stream",
     "text": [
      "\n",
      "Average Metric: 1.00 / 2 (50.0%): 100%|██████████| 2/2 [00:00<00:00,  2.16it/s] "
     ]
    },
    {
     "name": "stderr",
     "output_type": "stream",
     "text": [
      "2025/09/03 16:46:06 INFO dspy.evaluate.evaluate: Average Metric: 1 / 2 (50.0%)\n",
      "2025/09/03 16:46:06 INFO dspy.teleprompt.mipro_optimizer_v2: Score: 50.0 with parameters ['Predictor 0: Instruction 5', 'Predictor 0: Few-Shot Set 1'].\n",
      "2025/09/03 16:46:06 INFO dspy.teleprompt.mipro_optimizer_v2: Scores so far: [50.0, 0.0, 0.0, 0.0, 0.0, 0.0, 0.0, 50.0]\n",
      "2025/09/03 16:46:06 INFO dspy.teleprompt.mipro_optimizer_v2: Best score so far: 50.0\n"
     ]
    },
    {
     "name": "stdout",
     "output_type": "stream",
     "text": [
      "\n"
     ]
    },
    {
     "name": "stderr",
     "output_type": "stream",
     "text": [
      "2025/09/03 16:46:06 INFO dspy.teleprompt.mipro_optimizer_v2: ========================\n",
      "\n",
      "\n",
      "2025/09/03 16:46:06 INFO dspy.teleprompt.mipro_optimizer_v2: ===== Trial 9 / 18 =====\n"
     ]
    },
    {
     "name": "stdout",
     "output_type": "stream",
     "text": [
      "  0%|          | 0/2 [00:00<?, ?it/s]\n"
     ]
    },
    {
     "data": {
      "text/markdown": [
       "**expected**: Example({'suggested_meal': 'Something light', 'name': 'Grilled Salmon with Asparagus', 'dish_type': 'Fish'}) (input_keys={'suggested_meal'})"
      ],
      "text/plain": [
       "<IPython.core.display.Markdown object>"
      ]
     },
     "metadata": {},
     "output_type": "display_data"
    },
    {
     "data": {
      "text/markdown": [
       "**actual**: Prediction(  \n",
       "    name='Grilled Vegetable Salad',  \n",
       "    dish_type='Vegetarian'  \n",
       ")"
      ],
      "text/plain": [
       "<IPython.core.display.Markdown object>"
      ]
     },
     "metadata": {},
     "output_type": "display_data"
    },
    {
     "data": {
      "text/markdown": [
       "**Is Fish**: False"
      ],
      "text/plain": [
       "<IPython.core.display.Markdown object>"
      ]
     },
     "metadata": {},
     "output_type": "display_data"
    },
    {
     "name": "stdout",
     "output_type": "stream",
     "text": [
      "\n",
      "Average Metric: 0.00 / 1 (0.0%):  50%|█████     | 1/2 [00:00<00:00,  1.50it/s]\n"
     ]
    },
    {
     "data": {
      "text/markdown": [
       "**expected**: Example({'suggested_meal': 'Breakfast suggestion', 'name': 'Avocado Toast with Poached Egg', 'dish_type': 'Vegetarian'}) (input_keys={'suggested_meal'})"
      ],
      "text/plain": [
       "<IPython.core.display.Markdown object>"
      ]
     },
     "metadata": {},
     "output_type": "display_data"
    },
    {
     "data": {
      "text/markdown": [
       "**actual**: Prediction(  \n",
       "    name='Vegetable Omelette',  \n",
       "    dish_type='Vegetarian'  \n",
       ")"
      ],
      "text/plain": [
       "<IPython.core.display.Markdown object>"
      ]
     },
     "metadata": {},
     "output_type": "display_data"
    },
    {
     "data": {
      "text/markdown": [
       "**Is Fish**: False"
      ],
      "text/plain": [
       "<IPython.core.display.Markdown object>"
      ]
     },
     "metadata": {},
     "output_type": "display_data"
    },
    {
     "name": "stdout",
     "output_type": "stream",
     "text": [
      "\n",
      "Average Metric: 0.00 / 2 (0.0%): 100%|██████████| 2/2 [00:01<00:00,  1.75it/s]"
     ]
    },
    {
     "name": "stderr",
     "output_type": "stream",
     "text": [
      "2025/09/03 16:46:07 INFO dspy.evaluate.evaluate: Average Metric: 0 / 2 (0.0%)\n",
      "2025/09/03 16:46:07 INFO dspy.teleprompt.mipro_optimizer_v2: Score: 0.0 with parameters ['Predictor 0: Instruction 3', 'Predictor 0: Few-Shot Set 3'].\n",
      "2025/09/03 16:46:07 INFO dspy.teleprompt.mipro_optimizer_v2: Scores so far: [50.0, 0.0, 0.0, 0.0, 0.0, 0.0, 0.0, 50.0, 0.0]\n",
      "2025/09/03 16:46:07 INFO dspy.teleprompt.mipro_optimizer_v2: Best score so far: 50.0\n",
      "2025/09/03 16:46:07 INFO dspy.teleprompt.mipro_optimizer_v2: ========================\n",
      "\n",
      "\n",
      "2025/09/03 16:46:07 INFO dspy.teleprompt.mipro_optimizer_v2: ===== Trial 10 / 18 =====\n"
     ]
    },
    {
     "name": "stdout",
     "output_type": "stream",
     "text": [
      "\n",
      "  0%|          | 0/2 [00:00<?, ?it/s]\n"
     ]
    },
    {
     "data": {
      "text/markdown": [
       "**expected**: Example({'suggested_meal': 'Something light', 'name': 'Grilled Salmon with Asparagus', 'dish_type': 'Fish'}) (input_keys={'suggested_meal'})"
      ],
      "text/plain": [
       "<IPython.core.display.Markdown object>"
      ]
     },
     "metadata": {},
     "output_type": "display_data"
    },
    {
     "data": {
      "text/markdown": [
       "**actual**: Prediction(  \n",
       "    name='Grilled Vegetable Salad',  \n",
       "    dish_type='Vegetarian'  \n",
       ")"
      ],
      "text/plain": [
       "<IPython.core.display.Markdown object>"
      ]
     },
     "metadata": {},
     "output_type": "display_data"
    },
    {
     "data": {
      "text/markdown": [
       "**Is Fish**: False"
      ],
      "text/plain": [
       "<IPython.core.display.Markdown object>"
      ]
     },
     "metadata": {},
     "output_type": "display_data"
    },
    {
     "name": "stdout",
     "output_type": "stream",
     "text": [
      "\n",
      "Average Metric: 0.00 / 1 (0.0%):  50%|█████     | 1/2 [00:00<00:00,  1.36it/s]\n"
     ]
    },
    {
     "data": {
      "text/markdown": [
       "**expected**: Example({'suggested_meal': 'Breakfast suggestion', 'name': 'Avocado Toast with Poached Egg', 'dish_type': 'Vegetarian'}) (input_keys={'suggested_meal'})"
      ],
      "text/plain": [
       "<IPython.core.display.Markdown object>"
      ]
     },
     "metadata": {},
     "output_type": "display_data"
    },
    {
     "data": {
      "text/markdown": [
       "**actual**: Prediction(  \n",
       "    name='Vegetable Omelette',  \n",
       "    dish_type='Vegetarian'  \n",
       ")"
      ],
      "text/plain": [
       "<IPython.core.display.Markdown object>"
      ]
     },
     "metadata": {},
     "output_type": "display_data"
    },
    {
     "data": {
      "text/markdown": [
       "**Is Fish**: False"
      ],
      "text/plain": [
       "<IPython.core.display.Markdown object>"
      ]
     },
     "metadata": {},
     "output_type": "display_data"
    },
    {
     "name": "stdout",
     "output_type": "stream",
     "text": [
      "\n",
      "Average Metric: 0.00 / 2 (0.0%): 100%|██████████| 2/2 [00:00<00:00,  2.41it/s]"
     ]
    },
    {
     "name": "stderr",
     "output_type": "stream",
     "text": [
      "2025/09/03 16:46:08 INFO dspy.evaluate.evaluate: Average Metric: 0 / 2 (0.0%)\n",
      "2025/09/03 16:46:08 INFO dspy.teleprompt.mipro_optimizer_v2: Score: 0.0 with parameters ['Predictor 0: Instruction 3', 'Predictor 0: Few-Shot Set 10'].\n",
      "2025/09/03 16:46:08 INFO dspy.teleprompt.mipro_optimizer_v2: Scores so far: [50.0, 0.0, 0.0, 0.0, 0.0, 0.0, 0.0, 50.0, 0.0, 0.0]\n",
      "2025/09/03 16:46:08 INFO dspy.teleprompt.mipro_optimizer_v2: Best score so far: 50.0\n",
      "2025/09/03 16:46:08 INFO dspy.teleprompt.mipro_optimizer_v2: =========================\n",
      "\n",
      "\n",
      "2025/09/03 16:46:08 INFO dspy.teleprompt.mipro_optimizer_v2: ===== Trial 11 / 18 =====\n"
     ]
    },
    {
     "name": "stdout",
     "output_type": "stream",
     "text": [
      "\n",
      "  0%|          | 0/2 [00:00<?, ?it/s]\n"
     ]
    },
    {
     "data": {
      "text/markdown": [
       "**expected**: Example({'suggested_meal': 'Something light', 'name': 'Grilled Salmon with Asparagus', 'dish_type': 'Fish'}) (input_keys={'suggested_meal'})"
      ],
      "text/plain": [
       "<IPython.core.display.Markdown object>"
      ]
     },
     "metadata": {},
     "output_type": "display_data"
    },
    {
     "data": {
      "text/markdown": [
       "**actual**: Prediction(  \n",
       "    name='Grilled Lemon Herb Tilapia',  \n",
       "    dish_type='Fish'  \n",
       ")"
      ],
      "text/plain": [
       "<IPython.core.display.Markdown object>"
      ]
     },
     "metadata": {},
     "output_type": "display_data"
    },
    {
     "data": {
      "text/markdown": [
       "**Is Fish**: True"
      ],
      "text/plain": [
       "<IPython.core.display.Markdown object>"
      ]
     },
     "metadata": {},
     "output_type": "display_data"
    },
    {
     "name": "stdout",
     "output_type": "stream",
     "text": [
      "\n",
      "Average Metric: 1.00 / 1 (100.0%):  50%|█████     | 1/2 [00:00<00:00,  1.19it/s]\n"
     ]
    },
    {
     "data": {
      "text/markdown": [
       "**expected**: Example({'suggested_meal': 'Breakfast suggestion', 'name': 'Avocado Toast with Poached Egg', 'dish_type': 'Vegetarian'}) (input_keys={'suggested_meal'})"
      ],
      "text/plain": [
       "<IPython.core.display.Markdown object>"
      ]
     },
     "metadata": {},
     "output_type": "display_data"
    },
    {
     "data": {
      "text/markdown": [
       "**actual**: Prediction(  \n",
       "    name='Spinach and Mushroom Omelette',  \n",
       "    dish_type='Vegetarian'  \n",
       ")"
      ],
      "text/plain": [
       "<IPython.core.display.Markdown object>"
      ]
     },
     "metadata": {},
     "output_type": "display_data"
    },
    {
     "data": {
      "text/markdown": [
       "**Is Fish**: False"
      ],
      "text/plain": [
       "<IPython.core.display.Markdown object>"
      ]
     },
     "metadata": {},
     "output_type": "display_data"
    },
    {
     "name": "stdout",
     "output_type": "stream",
     "text": [
      "\n",
      "Average Metric: 1.00 / 2 (50.0%): 100%|██████████| 2/2 [00:01<00:00,  1.82it/s] "
     ]
    },
    {
     "name": "stderr",
     "output_type": "stream",
     "text": [
      "2025/09/03 16:46:09 INFO dspy.evaluate.evaluate: Average Metric: 1 / 2 (50.0%)\n",
      "2025/09/03 16:46:09 INFO dspy.teleprompt.mipro_optimizer_v2: Score: 50.0 with parameters ['Predictor 0: Instruction 0', 'Predictor 0: Few-Shot Set 0'].\n",
      "2025/09/03 16:46:09 INFO dspy.teleprompt.mipro_optimizer_v2: Scores so far: [50.0, 0.0, 0.0, 0.0, 0.0, 0.0, 0.0, 50.0, 0.0, 0.0, 50.0]\n",
      "2025/09/03 16:46:09 INFO dspy.teleprompt.mipro_optimizer_v2: Best score so far: 50.0\n",
      "2025/09/03 16:46:09 INFO dspy.teleprompt.mipro_optimizer_v2: =========================\n",
      "\n",
      "\n",
      "2025/09/03 16:46:09 INFO dspy.teleprompt.mipro_optimizer_v2: ===== Trial 12 / 18 =====\n"
     ]
    },
    {
     "name": "stdout",
     "output_type": "stream",
     "text": [
      "\n",
      "  0%|          | 0/2 [00:00<?, ?it/s]\n"
     ]
    },
    {
     "data": {
      "text/markdown": [
       "**expected**: Example({'suggested_meal': 'Something light', 'name': 'Grilled Salmon with Asparagus', 'dish_type': 'Fish'}) (input_keys={'suggested_meal'})"
      ],
      "text/plain": [
       "<IPython.core.display.Markdown object>"
      ]
     },
     "metadata": {},
     "output_type": "display_data"
    },
    {
     "data": {
      "text/markdown": [
       "**actual**: Prediction(  \n",
       "    name='Grilled Lemon Herb Salmon',  \n",
       "    dish_type='Fish'  \n",
       ")"
      ],
      "text/plain": [
       "<IPython.core.display.Markdown object>"
      ]
     },
     "metadata": {},
     "output_type": "display_data"
    },
    {
     "data": {
      "text/markdown": [
       "**Is Fish**: True"
      ],
      "text/plain": [
       "<IPython.core.display.Markdown object>"
      ]
     },
     "metadata": {},
     "output_type": "display_data"
    },
    {
     "name": "stdout",
     "output_type": "stream",
     "text": [
      "\n",
      "Average Metric: 1.00 / 1 (100.0%):  50%|█████     | 1/2 [00:00<00:00,  1.37it/s]\n"
     ]
    },
    {
     "data": {
      "text/markdown": [
       "**expected**: Example({'suggested_meal': 'Breakfast suggestion', 'name': 'Avocado Toast with Poached Egg', 'dish_type': 'Vegetarian'}) (input_keys={'suggested_meal'})"
      ],
      "text/plain": [
       "<IPython.core.display.Markdown object>"
      ]
     },
     "metadata": {},
     "output_type": "display_data"
    },
    {
     "data": {
      "text/markdown": [
       "**actual**: Prediction(  \n",
       "    name='Vegetable Frittata',  \n",
       "    dish_type='Vegetarian'  \n",
       ")"
      ],
      "text/plain": [
       "<IPython.core.display.Markdown object>"
      ]
     },
     "metadata": {},
     "output_type": "display_data"
    },
    {
     "data": {
      "text/markdown": [
       "**Is Fish**: False"
      ],
      "text/plain": [
       "<IPython.core.display.Markdown object>"
      ]
     },
     "metadata": {},
     "output_type": "display_data"
    },
    {
     "name": "stdout",
     "output_type": "stream",
     "text": [
      "\n",
      "Average Metric: 1.00 / 2 (50.0%): 100%|██████████| 2/2 [00:00<00:00,  2.60it/s] "
     ]
    },
    {
     "name": "stderr",
     "output_type": "stream",
     "text": [
      "2025/09/03 16:46:10 INFO dspy.evaluate.evaluate: Average Metric: 1 / 2 (50.0%)\n",
      "2025/09/03 16:46:10 INFO dspy.teleprompt.mipro_optimizer_v2: Score: 50.0 with parameters ['Predictor 0: Instruction 5', 'Predictor 0: Few-Shot Set 1'].\n",
      "2025/09/03 16:46:10 INFO dspy.teleprompt.mipro_optimizer_v2: Scores so far: [50.0, 0.0, 0.0, 0.0, 0.0, 0.0, 0.0, 50.0, 0.0, 0.0, 50.0, 50.0]\n",
      "2025/09/03 16:46:10 INFO dspy.teleprompt.mipro_optimizer_v2: Best score so far: 50.0\n",
      "2025/09/03 16:46:10 INFO dspy.teleprompt.mipro_optimizer_v2: =========================\n",
      "\n",
      "\n",
      "2025/09/03 16:46:10 INFO dspy.teleprompt.mipro_optimizer_v2: ===== Trial 13 / 18 =====\n"
     ]
    },
    {
     "name": "stdout",
     "output_type": "stream",
     "text": [
      "\n",
      "  0%|          | 0/2 [00:00<?, ?it/s]\n"
     ]
    },
    {
     "data": {
      "text/markdown": [
       "**expected**: Example({'suggested_meal': 'Breakfast suggestion', 'name': 'Avocado Toast with Poached Egg', 'dish_type': 'Vegetarian'}) (input_keys={'suggested_meal'})"
      ],
      "text/plain": [
       "<IPython.core.display.Markdown object>"
      ]
     },
     "metadata": {},
     "output_type": "display_data"
    },
    {
     "data": {
      "text/markdown": [
       "**actual**: Prediction(  \n",
       "    name='Smoked Salmon Eggs Benedict',  \n",
       "    dish_type='Fish'  \n",
       ")"
      ],
      "text/plain": [
       "<IPython.core.display.Markdown object>"
      ]
     },
     "metadata": {},
     "output_type": "display_data"
    },
    {
     "data": {
      "text/markdown": [
       "**Is Fish**: True"
      ],
      "text/plain": [
       "<IPython.core.display.Markdown object>"
      ]
     },
     "metadata": {},
     "output_type": "display_data"
    },
    {
     "name": "stdout",
     "output_type": "stream",
     "text": [
      "\n",
      "Average Metric: 1.00 / 1 (100.0%):  50%|█████     | 1/2 [00:00<00:00,  1.34it/s]\n"
     ]
    },
    {
     "data": {
      "text/markdown": [
       "**expected**: Example({'suggested_meal': 'Something light', 'name': 'Grilled Salmon with Asparagus', 'dish_type': 'Fish'}) (input_keys={'suggested_meal'})"
      ],
      "text/plain": [
       "<IPython.core.display.Markdown object>"
      ]
     },
     "metadata": {},
     "output_type": "display_data"
    },
    {
     "data": {
      "text/markdown": [
       "**actual**: Prediction(  \n",
       "    name='Citrus-Infused Seabass Carpaccio',  \n",
       "    dish_type='Fish'  \n",
       ")"
      ],
      "text/plain": [
       "<IPython.core.display.Markdown object>"
      ]
     },
     "metadata": {},
     "output_type": "display_data"
    },
    {
     "data": {
      "text/markdown": [
       "**Is Fish**: True"
      ],
      "text/plain": [
       "<IPython.core.display.Markdown object>"
      ]
     },
     "metadata": {},
     "output_type": "display_data"
    },
    {
     "name": "stdout",
     "output_type": "stream",
     "text": [
      "\n",
      "Average Metric: 2.00 / 2 (100.0%): 100%|██████████| 2/2 [00:00<00:00,  2.60it/s]"
     ]
    },
    {
     "name": "stderr",
     "output_type": "stream",
     "text": [
      "2025/09/03 16:46:11 INFO dspy.evaluate.evaluate: Average Metric: 2 / 2 (100.0%)\n",
      "2025/09/03 16:46:11 INFO dspy.teleprompt.mipro_optimizer_v2: \u001b[92mBest full score so far!\u001b[0m Score: 100.0\n",
      "2025/09/03 16:46:11 INFO dspy.teleprompt.mipro_optimizer_v2: Score: 100.0 with parameters ['Predictor 0: Instruction 5', 'Predictor 0: Few-Shot Set 0'].\n",
      "2025/09/03 16:46:11 INFO dspy.teleprompt.mipro_optimizer_v2: Scores so far: [50.0, 0.0, 0.0, 0.0, 0.0, 0.0, 0.0, 50.0, 0.0, 0.0, 50.0, 50.0, 100.0]\n",
      "2025/09/03 16:46:11 INFO dspy.teleprompt.mipro_optimizer_v2: Best score so far: 100.0\n",
      "2025/09/03 16:46:11 INFO dspy.teleprompt.mipro_optimizer_v2: =========================\n",
      "\n",
      "\n",
      "2025/09/03 16:46:11 INFO dspy.teleprompt.mipro_optimizer_v2: ===== Trial 14 / 18 =====\n"
     ]
    },
    {
     "name": "stdout",
     "output_type": "stream",
     "text": [
      "\n",
      "  0%|          | 0/2 [00:00<?, ?it/s]\n"
     ]
    },
    {
     "data": {
      "text/markdown": [
       "**expected**: Example({'suggested_meal': 'Breakfast suggestion', 'name': 'Avocado Toast with Poached Egg', 'dish_type': 'Vegetarian'}) (input_keys={'suggested_meal'})"
      ],
      "text/plain": [
       "<IPython.core.display.Markdown object>"
      ]
     },
     "metadata": {},
     "output_type": "display_data"
    },
    {
     "data": {
      "text/markdown": [
       "**actual**: Prediction(  \n",
       "    name='Truffle-infused Wild Mushroom Omelette',  \n",
       "    dish_type='Vegetarian'  \n",
       ")"
      ],
      "text/plain": [
       "<IPython.core.display.Markdown object>"
      ]
     },
     "metadata": {},
     "output_type": "display_data"
    },
    {
     "data": {
      "text/markdown": [
       "**Is Fish**: False"
      ],
      "text/plain": [
       "<IPython.core.display.Markdown object>"
      ]
     },
     "metadata": {},
     "output_type": "display_data"
    },
    {
     "name": "stdout",
     "output_type": "stream",
     "text": [
      "\n",
      "Average Metric: 0.00 / 1 (0.0%):  50%|█████     | 1/2 [00:00<00:00,  1.18it/s]\n"
     ]
    },
    {
     "data": {
      "text/markdown": [
       "**expected**: Example({'suggested_meal': 'Something light', 'name': 'Grilled Salmon with Asparagus', 'dish_type': 'Fish'}) (input_keys={'suggested_meal'})"
      ],
      "text/plain": [
       "<IPython.core.display.Markdown object>"
      ]
     },
     "metadata": {},
     "output_type": "display_data"
    },
    {
     "data": {
      "text/markdown": [
       "**actual**: Prediction(  \n",
       "    name='Citrus Poached Sea Bass with Microgreens',  \n",
       "    dish_type='Fish'  \n",
       ")"
      ],
      "text/plain": [
       "<IPython.core.display.Markdown object>"
      ]
     },
     "metadata": {},
     "output_type": "display_data"
    },
    {
     "data": {
      "text/markdown": [
       "**Is Fish**: True"
      ],
      "text/plain": [
       "<IPython.core.display.Markdown object>"
      ]
     },
     "metadata": {},
     "output_type": "display_data"
    },
    {
     "name": "stdout",
     "output_type": "stream",
     "text": [
      "\n",
      "Average Metric: 1.00 / 2 (50.0%): 100%|██████████| 2/2 [00:00<00:00,  2.15it/s]"
     ]
    },
    {
     "name": "stderr",
     "output_type": "stream",
     "text": [
      "2025/09/03 16:46:11 INFO dspy.evaluate.evaluate: Average Metric: 1 / 2 (50.0%)\n",
      "2025/09/03 16:46:11 INFO dspy.teleprompt.mipro_optimizer_v2: Score: 50.0 with parameters ['Predictor 0: Instruction 5', 'Predictor 0: Few-Shot Set 0'].\n",
      "2025/09/03 16:46:11 INFO dspy.teleprompt.mipro_optimizer_v2: Scores so far: [50.0, 0.0, 0.0, 0.0, 0.0, 0.0, 0.0, 50.0, 0.0, 0.0, 50.0, 50.0, 100.0, 50.0]\n",
      "2025/09/03 16:46:11 INFO dspy.teleprompt.mipro_optimizer_v2: Best score so far: 100.0\n",
      "2025/09/03 16:46:11 INFO dspy.teleprompt.mipro_optimizer_v2: =========================\n",
      "\n",
      "\n",
      "2025/09/03 16:46:11 INFO dspy.teleprompt.mipro_optimizer_v2: ===== Trial 15 / 18 =====\n"
     ]
    },
    {
     "name": "stdout",
     "output_type": "stream",
     "text": [
      "\n",
      "  0%|          | 0/2 [00:00<?, ?it/s]\n"
     ]
    },
    {
     "data": {
      "text/markdown": [
       "**expected**: Example({'suggested_meal': 'Breakfast suggestion', 'name': 'Avocado Toast with Poached Egg', 'dish_type': 'Vegetarian'}) (input_keys={'suggested_meal'})"
      ],
      "text/plain": [
       "<IPython.core.display.Markdown object>"
      ]
     },
     "metadata": {},
     "output_type": "display_data"
    },
    {
     "data": {
      "text/markdown": [
       "**actual**: Prediction(  \n",
       "    name='Vegetable Omelette with Toast',  \n",
       "    dish_type='Vegetarian'  \n",
       ")"
      ],
      "text/plain": [
       "<IPython.core.display.Markdown object>"
      ]
     },
     "metadata": {},
     "output_type": "display_data"
    },
    {
     "data": {
      "text/markdown": [
       "**Is Fish**: False"
      ],
      "text/plain": [
       "<IPython.core.display.Markdown object>"
      ]
     },
     "metadata": {},
     "output_type": "display_data"
    },
    {
     "name": "stdout",
     "output_type": "stream",
     "text": [
      "\n",
      "Average Metric: 0.00 / 1 (0.0%):  50%|█████     | 1/2 [00:00<00:00,  1.29it/s]\n"
     ]
    },
    {
     "data": {
      "text/markdown": [
       "**expected**: Example({'suggested_meal': 'Something light', 'name': 'Grilled Salmon with Asparagus', 'dish_type': 'Fish'}) (input_keys={'suggested_meal'})"
      ],
      "text/plain": [
       "<IPython.core.display.Markdown object>"
      ]
     },
     "metadata": {},
     "output_type": "display_data"
    },
    {
     "data": {
      "text/markdown": [
       "**actual**: Prediction(  \n",
       "    name='Grilled Lemon Herb Fish',  \n",
       "    dish_type='Fish'  \n",
       ")"
      ],
      "text/plain": [
       "<IPython.core.display.Markdown object>"
      ]
     },
     "metadata": {},
     "output_type": "display_data"
    },
    {
     "data": {
      "text/markdown": [
       "**Is Fish**: True"
      ],
      "text/plain": [
       "<IPython.core.display.Markdown object>"
      ]
     },
     "metadata": {},
     "output_type": "display_data"
    },
    {
     "name": "stdout",
     "output_type": "stream",
     "text": [
      "\n",
      "Average Metric: 1.00 / 2 (50.0%): 100%|██████████| 2/2 [00:01<00:00,  1.50it/s]"
     ]
    },
    {
     "name": "stderr",
     "output_type": "stream",
     "text": [
      "2025/09/03 16:46:13 INFO dspy.evaluate.evaluate: Average Metric: 1 / 2 (50.0%)\n",
      "2025/09/03 16:46:13 INFO dspy.teleprompt.mipro_optimizer_v2: Score: 50.0 with parameters ['Predictor 0: Instruction 0', 'Predictor 0: Few-Shot Set 7'].\n",
      "2025/09/03 16:46:13 INFO dspy.teleprompt.mipro_optimizer_v2: Scores so far: [50.0, 0.0, 0.0, 0.0, 0.0, 0.0, 0.0, 50.0, 0.0, 0.0, 50.0, 50.0, 100.0, 50.0, 50.0]\n",
      "2025/09/03 16:46:13 INFO dspy.teleprompt.mipro_optimizer_v2: Best score so far: 100.0\n",
      "2025/09/03 16:46:13 INFO dspy.teleprompt.mipro_optimizer_v2: =========================\n",
      "\n",
      "\n",
      "2025/09/03 16:46:13 INFO dspy.teleprompt.mipro_optimizer_v2: ===== Trial 16 / 18 =====\n"
     ]
    },
    {
     "name": "stdout",
     "output_type": "stream",
     "text": [
      "\n",
      "  0%|          | 0/2 [00:00<?, ?it/s]\n"
     ]
    },
    {
     "data": {
      "text/markdown": [
       "**expected**: Example({'suggested_meal': 'Breakfast suggestion', 'name': 'Avocado Toast with Poached Egg', 'dish_type': 'Vegetarian'}) (input_keys={'suggested_meal'})"
      ],
      "text/plain": [
       "<IPython.core.display.Markdown object>"
      ]
     },
     "metadata": {},
     "output_type": "display_data"
    },
    {
     "data": {
      "text/markdown": [
       "**actual**: Prediction(  \n",
       "    name='Avocado Toast with Poached Eggs',  \n",
       "    dish_type='Vegetarian'  \n",
       ")"
      ],
      "text/plain": [
       "<IPython.core.display.Markdown object>"
      ]
     },
     "metadata": {},
     "output_type": "display_data"
    },
    {
     "data": {
      "text/markdown": [
       "**Is Fish**: False"
      ],
      "text/plain": [
       "<IPython.core.display.Markdown object>"
      ]
     },
     "metadata": {},
     "output_type": "display_data"
    },
    {
     "name": "stdout",
     "output_type": "stream",
     "text": [
      "\n",
      "Average Metric: 0.00 / 1 (0.0%):  50%|█████     | 1/2 [00:01<00:01,  1.14s/it]\n"
     ]
    },
    {
     "data": {
      "text/markdown": [
       "**expected**: Example({'suggested_meal': 'Something light', 'name': 'Grilled Salmon with Asparagus', 'dish_type': 'Fish'}) (input_keys={'suggested_meal'})"
      ],
      "text/plain": [
       "<IPython.core.display.Markdown object>"
      ]
     },
     "metadata": {},
     "output_type": "display_data"
    },
    {
     "data": {
      "text/markdown": [
       "**actual**: Prediction(  \n",
       "    name='Grilled Lemon Herb Fish Fillet',  \n",
       "    dish_type='Fish'  \n",
       ")"
      ],
      "text/plain": [
       "<IPython.core.display.Markdown object>"
      ]
     },
     "metadata": {},
     "output_type": "display_data"
    },
    {
     "data": {
      "text/markdown": [
       "**Is Fish**: True"
      ],
      "text/plain": [
       "<IPython.core.display.Markdown object>"
      ]
     },
     "metadata": {},
     "output_type": "display_data"
    },
    {
     "name": "stdout",
     "output_type": "stream",
     "text": [
      "\n",
      "Average Metric: 1.00 / 2 (50.0%): 100%|██████████| 2/2 [00:01<00:00,  1.72it/s]"
     ]
    },
    {
     "name": "stderr",
     "output_type": "stream",
     "text": [
      "2025/09/03 16:46:14 INFO dspy.evaluate.evaluate: Average Metric: 1 / 2 (50.0%)\n",
      "2025/09/03 16:46:14 INFO dspy.teleprompt.mipro_optimizer_v2: Score: 50.0 with parameters ['Predictor 0: Instruction 1', 'Predictor 0: Few-Shot Set 0'].\n",
      "2025/09/03 16:46:14 INFO dspy.teleprompt.mipro_optimizer_v2: Scores so far: [50.0, 0.0, 0.0, 0.0, 0.0, 0.0, 0.0, 50.0, 0.0, 0.0, 50.0, 50.0, 100.0, 50.0, 50.0, 50.0]\n",
      "2025/09/03 16:46:14 INFO dspy.teleprompt.mipro_optimizer_v2: Best score so far: 100.0\n",
      "2025/09/03 16:46:14 INFO dspy.teleprompt.mipro_optimizer_v2: =========================\n",
      "\n",
      "\n",
      "2025/09/03 16:46:14 INFO dspy.teleprompt.mipro_optimizer_v2: ===== Trial 17 / 18 =====\n"
     ]
    },
    {
     "name": "stdout",
     "output_type": "stream",
     "text": [
      "\n",
      "  0%|          | 0/2 [00:00<?, ?it/s]\n"
     ]
    },
    {
     "data": {
      "text/markdown": [
       "**expected**: Example({'suggested_meal': 'Something light', 'name': 'Grilled Salmon with Asparagus', 'dish_type': 'Fish'}) (input_keys={'suggested_meal'})"
      ],
      "text/plain": [
       "<IPython.core.display.Markdown object>"
      ]
     },
     "metadata": {},
     "output_type": "display_data"
    },
    {
     "data": {
      "text/markdown": [
       "**actual**: Prediction(  \n",
       "    name='Grilled Vegetable Salad',  \n",
       "    dish_type='Vegetarian'  \n",
       ")"
      ],
      "text/plain": [
       "<IPython.core.display.Markdown object>"
      ]
     },
     "metadata": {},
     "output_type": "display_data"
    },
    {
     "data": {
      "text/markdown": [
       "**Is Fish**: False"
      ],
      "text/plain": [
       "<IPython.core.display.Markdown object>"
      ]
     },
     "metadata": {},
     "output_type": "display_data"
    },
    {
     "name": "stdout",
     "output_type": "stream",
     "text": [
      "\n",
      "Average Metric: 0.00 / 1 (0.0%):  50%|█████     | 1/2 [00:00<00:00,  1.38it/s]\n"
     ]
    },
    {
     "data": {
      "text/markdown": [
       "**expected**: Example({'suggested_meal': 'Breakfast suggestion', 'name': 'Avocado Toast with Poached Egg', 'dish_type': 'Vegetarian'}) (input_keys={'suggested_meal'})"
      ],
      "text/plain": [
       "<IPython.core.display.Markdown object>"
      ]
     },
     "metadata": {},
     "output_type": "display_data"
    },
    {
     "data": {
      "text/markdown": [
       "**actual**: Prediction(  \n",
       "    name='Vegetable Omelette',  \n",
       "    dish_type='Vegetarian'  \n",
       ")"
      ],
      "text/plain": [
       "<IPython.core.display.Markdown object>"
      ]
     },
     "metadata": {},
     "output_type": "display_data"
    },
    {
     "data": {
      "text/markdown": [
       "**Is Fish**: False"
      ],
      "text/plain": [
       "<IPython.core.display.Markdown object>"
      ]
     },
     "metadata": {},
     "output_type": "display_data"
    },
    {
     "name": "stdout",
     "output_type": "stream",
     "text": [
      "\n",
      "Average Metric: 0.00 / 2 (0.0%): 100%|██████████| 2/2 [00:00<00:00,  2.42it/s]"
     ]
    },
    {
     "name": "stderr",
     "output_type": "stream",
     "text": [
      "2025/09/03 16:46:15 INFO dspy.evaluate.evaluate: Average Metric: 0 / 2 (0.0%)\n",
      "2025/09/03 16:46:15 INFO dspy.teleprompt.mipro_optimizer_v2: Score: 0.0 with parameters ['Predictor 0: Instruction 2', 'Predictor 0: Few-Shot Set 8'].\n",
      "2025/09/03 16:46:15 INFO dspy.teleprompt.mipro_optimizer_v2: Scores so far: [50.0, 0.0, 0.0, 0.0, 0.0, 0.0, 0.0, 50.0, 0.0, 0.0, 50.0, 50.0, 100.0, 50.0, 50.0, 50.0, 0.0]\n",
      "2025/09/03 16:46:15 INFO dspy.teleprompt.mipro_optimizer_v2: Best score so far: 100.0\n",
      "2025/09/03 16:46:15 INFO dspy.teleprompt.mipro_optimizer_v2: =========================\n",
      "\n",
      "\n",
      "2025/09/03 16:46:15 INFO dspy.teleprompt.mipro_optimizer_v2: ===== Trial 18 / 18 =====\n"
     ]
    },
    {
     "name": "stdout",
     "output_type": "stream",
     "text": [
      "\n",
      "  0%|          | 0/2 [00:00<?, ?it/s]\n"
     ]
    },
    {
     "data": {
      "text/markdown": [
       "**expected**: Example({'suggested_meal': 'Something light', 'name': 'Grilled Salmon with Asparagus', 'dish_type': 'Fish'}) (input_keys={'suggested_meal'})"
      ],
      "text/plain": [
       "<IPython.core.display.Markdown object>"
      ]
     },
     "metadata": {},
     "output_type": "display_data"
    },
    {
     "data": {
      "text/markdown": [
       "**actual**: Prediction(  \n",
       "    name='Grilled Vegetable Salad',  \n",
       "    dish_type='Vegetarian'  \n",
       ")"
      ],
      "text/plain": [
       "<IPython.core.display.Markdown object>"
      ]
     },
     "metadata": {},
     "output_type": "display_data"
    },
    {
     "data": {
      "text/markdown": [
       "**Is Fish**: False"
      ],
      "text/plain": [
       "<IPython.core.display.Markdown object>"
      ]
     },
     "metadata": {},
     "output_type": "display_data"
    },
    {
     "name": "stdout",
     "output_type": "stream",
     "text": [
      "\n",
      "Average Metric: 0.00 / 1 (0.0%):  50%|█████     | 1/2 [00:00<00:00,  1.31it/s]\n"
     ]
    },
    {
     "data": {
      "text/markdown": [
       "**expected**: Example({'suggested_meal': 'Breakfast suggestion', 'name': 'Avocado Toast with Poached Egg', 'dish_type': 'Vegetarian'}) (input_keys={'suggested_meal'})"
      ],
      "text/plain": [
       "<IPython.core.display.Markdown object>"
      ]
     },
     "metadata": {},
     "output_type": "display_data"
    },
    {
     "data": {
      "text/markdown": [
       "**actual**: Prediction(  \n",
       "    name='Vegetable Omelette',  \n",
       "    dish_type='Vegetarian'  \n",
       ")"
      ],
      "text/plain": [
       "<IPython.core.display.Markdown object>"
      ]
     },
     "metadata": {},
     "output_type": "display_data"
    },
    {
     "data": {
      "text/markdown": [
       "**Is Fish**: False"
      ],
      "text/plain": [
       "<IPython.core.display.Markdown object>"
      ]
     },
     "metadata": {},
     "output_type": "display_data"
    },
    {
     "name": "stdout",
     "output_type": "stream",
     "text": [
      "\n",
      "Average Metric: 0.00 / 2 (0.0%): 100%|██████████| 2/2 [00:00<00:00,  2.17it/s]"
     ]
    },
    {
     "name": "stderr",
     "output_type": "stream",
     "text": [
      "2025/09/03 16:46:16 INFO dspy.evaluate.evaluate: Average Metric: 0 / 2 (0.0%)\n",
      "2025/09/03 16:46:16 INFO dspy.teleprompt.mipro_optimizer_v2: Score: 0.0 with parameters ['Predictor 0: Instruction 4', 'Predictor 0: Few-Shot Set 0'].\n",
      "2025/09/03 16:46:16 INFO dspy.teleprompt.mipro_optimizer_v2: Scores so far: [50.0, 0.0, 0.0, 0.0, 0.0, 0.0, 0.0, 50.0, 0.0, 0.0, 50.0, 50.0, 100.0, 50.0, 50.0, 50.0, 0.0, 0.0]\n",
      "2025/09/03 16:46:16 INFO dspy.teleprompt.mipro_optimizer_v2: Best score so far: 100.0\n",
      "2025/09/03 16:46:16 INFO dspy.teleprompt.mipro_optimizer_v2: =========================\n",
      "\n",
      "\n",
      "2025/09/03 16:46:16 INFO dspy.teleprompt.mipro_optimizer_v2: ===== Trial 19 / 18 =====\n"
     ]
    },
    {
     "name": "stdout",
     "output_type": "stream",
     "text": [
      "\n",
      "  0%|          | 0/2 [00:00<?, ?it/s]\n"
     ]
    },
    {
     "data": {
      "text/markdown": [
       "**expected**: Example({'suggested_meal': 'Something light', 'name': 'Grilled Salmon with Asparagus', 'dish_type': 'Fish'}) (input_keys={'suggested_meal'})"
      ],
      "text/plain": [
       "<IPython.core.display.Markdown object>"
      ]
     },
     "metadata": {},
     "output_type": "display_data"
    },
    {
     "data": {
      "text/markdown": [
       "**actual**: Prediction(  \n",
       "    name='Grilled Lemon Herb Salmon',  \n",
       "    dish_type='Fish'  \n",
       ")"
      ],
      "text/plain": [
       "<IPython.core.display.Markdown object>"
      ]
     },
     "metadata": {},
     "output_type": "display_data"
    },
    {
     "data": {
      "text/markdown": [
       "**Is Fish**: True"
      ],
      "text/plain": [
       "<IPython.core.display.Markdown object>"
      ]
     },
     "metadata": {},
     "output_type": "display_data"
    },
    {
     "name": "stdout",
     "output_type": "stream",
     "text": [
      "\n",
      "Average Metric: 1.00 / 1 (100.0%):  50%|█████     | 1/2 [00:00<00:00,  1.34it/s]\n"
     ]
    },
    {
     "data": {
      "text/markdown": [
       "**expected**: Example({'suggested_meal': 'Breakfast suggestion', 'name': 'Avocado Toast with Poached Egg', 'dish_type': 'Vegetarian'}) (input_keys={'suggested_meal'})"
      ],
      "text/plain": [
       "<IPython.core.display.Markdown object>"
      ]
     },
     "metadata": {},
     "output_type": "display_data"
    },
    {
     "data": {
      "text/markdown": [
       "**actual**: Prediction(  \n",
       "    name='Spinach and Feta Omelette',  \n",
       "    dish_type='Vegetarian'  \n",
       ")"
      ],
      "text/plain": [
       "<IPython.core.display.Markdown object>"
      ]
     },
     "metadata": {},
     "output_type": "display_data"
    },
    {
     "data": {
      "text/markdown": [
       "**Is Fish**: False"
      ],
      "text/plain": [
       "<IPython.core.display.Markdown object>"
      ]
     },
     "metadata": {},
     "output_type": "display_data"
    },
    {
     "name": "stdout",
     "output_type": "stream",
     "text": [
      "\n",
      "Average Metric: 1.00 / 2 (50.0%): 100%|██████████| 2/2 [00:00<00:00,  2.25it/s] "
     ]
    },
    {
     "name": "stderr",
     "output_type": "stream",
     "text": [
      "2025/09/03 16:46:17 INFO dspy.evaluate.evaluate: Average Metric: 1 / 2 (50.0%)\n",
      "2025/09/03 16:46:17 INFO dspy.teleprompt.mipro_optimizer_v2: Score: 50.0 with parameters ['Predictor 0: Instruction 5', 'Predictor 0: Few-Shot Set 11'].\n",
      "2025/09/03 16:46:17 INFO dspy.teleprompt.mipro_optimizer_v2: Scores so far: [50.0, 0.0, 0.0, 0.0, 0.0, 0.0, 0.0, 50.0, 0.0, 0.0, 50.0, 50.0, 100.0, 50.0, 50.0, 50.0, 0.0, 0.0, 50.0]\n",
      "2025/09/03 16:46:17 INFO dspy.teleprompt.mipro_optimizer_v2: Best score so far: 100.0\n",
      "2025/09/03 16:46:17 INFO dspy.teleprompt.mipro_optimizer_v2: =========================\n",
      "\n",
      "\n",
      "2025/09/03 16:46:17 INFO dspy.teleprompt.mipro_optimizer_v2: Returning best identified program with score 100.0!\n"
     ]
    },
    {
     "name": "stdout",
     "output_type": "stream",
     "text": [
      "\n"
     ]
    }
   ],
   "source": [
    "def validate_match(expected, actual, trace=None) -> bool:\n",
    "    print()\n",
    "    md(\"**expected**: \", expected)\n",
    "    md(\"**actual**: \", actual)\n",
    "    md(\"**Is Fish**: \", actual.dish_type == \"Fish\")\n",
    "    print()\n",
    "    return (actual.dish_type == \"Fish\")\n",
    "\n",
    "from dspy.teleprompt import *\n",
    "\n",
    "tp = dspy.MIPROv2(metric=validate_match, auto=\"medium\", prompt_model=lm_gpt35, task_model=lm_gpt4)\n",
    "optimized_matcher = tp.compile(mealDeciderPredict, trainset=trainset, requires_permission_to_run=False)"
   ]
  },
  {
   "cell_type": "code",
   "execution_count": 95,
   "id": "96a04fa5",
   "metadata": {},
   "outputs": [],
   "source": [
    "optimized_matcher.save(\"./saved_files/\", save_program=True)"
   ]
  },
  {
   "cell_type": "markdown",
   "id": "0a6c8546",
   "metadata": {},
   "source": [
    "# Inspect results"
   ]
  },
  {
   "cell_type": "code",
   "execution_count": 104,
   "id": "7ea26234",
   "metadata": {},
   "outputs": [
    {
     "name": "stdout",
     "output_type": "stream",
     "text": [
      "**Optimized Prompt:** None\n"
     ]
    }
   ],
   "source": [
    "\n",
    "optimized_prompt = getattr(optimized_matcher, \"prompt\", None) \\\n",
    "    or getattr(optimized_matcher, \"instructions\", None) \\\n",
    "    or getattr(optimized_matcher, \"template\", None)\n",
    "\n",
    "print(\"**Optimized Prompt:**\", optimized_prompt)"
   ]
  },
  {
   "cell_type": "code",
   "execution_count": 105,
   "id": "f2150845",
   "metadata": {},
   "outputs": [
    {
     "name": "stdout",
     "output_type": "stream",
     "text": [
      "Few-shot demos: []\n"
     ]
    }
   ],
   "source": [
    "if hasattr(optimized_matcher, \"examples\"):\n",
    "    print(\"Few-shot examples:\", optimized_matcher.examples)\n",
    "elif hasattr(optimized_matcher, \"demos\"):\n",
    "    print(\"Few-shot demos:\", optimized_matcher.demos)"
   ]
  },
  {
   "cell_type": "code",
   "execution_count": 106,
   "id": "6a9c9284",
   "metadata": {},
   "outputs": [
    {
     "name": "stdout",
     "output_type": "stream",
     "text": [
      "None\n"
     ]
    }
   ],
   "source": [
    "print(getattr(optimized_matcher, \"compiled_template\", None))"
   ]
  },
  {
   "cell_type": "code",
   "execution_count": 99,
   "id": "27dc54b2",
   "metadata": {},
   "outputs": [
    {
     "name": "stdout",
     "output_type": "stream",
     "text": [
      "=== optimized_matcher.inspect() ===\n",
      "=== tp.inspect() ===\n"
     ]
    }
   ],
   "source": [
    "\n",
    "# Quick peeks (if available in your version)\n",
    "try:\n",
    "    print(\"=== optimized_matcher.inspect() ===\")\n",
    "    print(optimized_matcher.inspect())\n",
    "except Exception:\n",
    "    pass\n",
    "\n",
    "try:\n",
    "    print(\"=== tp.inspect() ===\")\n",
    "    print(tp.inspect())\n",
    "except Exception:\n",
    "    pass\n"
   ]
  },
  {
   "cell_type": "code",
   "execution_count": 100,
   "id": "b9df4882",
   "metadata": {},
   "outputs": [
    {
     "name": "stdout",
     "output_type": "stream",
     "text": [
      "\n",
      "================= OPTIMIZED PROGRAM =================\n",
      ">>> Repr: Predict(StringSignature(suggested_meal -> name, dish_type\n",
      "    instructions=\"You are a renowned chef hosting a high-profile event with discerning guests. Your reputation is on the line as you need to impress them with a unique and exquisite dish. Consult the language model to predict the name and dish type of the meal you should serve for today's event.\"\n",
      "    suggested_meal = Field(annotation=str required=True json_schema_extra={'__dspy_field_type': 'input', 'prefix': 'Suggested Meal:', 'desc': '${suggested_meal}'})\n",
      "    name = Field(annotation=str required=True json_schema_extra={'__dspy_field_type': 'output', 'prefix': 'Name:', 'desc': '${name}'})\n",
      "    dish_type = Field(annotation=Literal['Fish', 'Vegetarian', 'Chicken'] required=True json_schema_extra={'__dspy_field_type': 'output', 'prefix': 'Dish Type:', 'desc': '${dish_type}'})\n",
      "))\n",
      "\n",
      "===== Signature =====\n",
      "StringSignature(suggested_meal -> name, dish_type\n",
      "    instructions=\"You are a renowned chef hosting a high-profile event with discerning guests. Your reputation is on the line as you need to impress them with a unique and exquisite dish. Consult the language model to predict the name and dish type of the meal you should serve for today's event.\"\n",
      "    suggested_meal = Field(annotation=str required=True json_schema_extra={'__dspy_field_type': 'input', 'prefix': 'Suggested Meal:', 'desc': '${suggested_meal}'})\n",
      "    name = Field(annotation=str required=True json_schema_extra={'__dspy_field_type': 'output', 'prefix': 'Name:', 'desc': '${name}'})\n",
      "    dish_type = Field(annotation=Literal['Fish', 'Vegetarian', 'Chicken'] required=True json_schema_extra={'__dspy_field_type': 'output', 'prefix': 'Dish Type:', 'desc': '${dish_type}'})\n",
      ")\n",
      "\n",
      "===== Signature Doc =====\n",
      "You are a renowned chef hosting a high-profile event with discerning guests. Your reputation is on the line as you need to impress them with a unique and exquisite dish. Consult the language model to predict the name and dish type of the meal you should serve for today's event.\n",
      "\n",
      "===== Signature Instructions =====\n",
      "You are a renowned chef hosting a high-profile event with discerning guests. Your reputation is on the line as you need to impress them with a unique and exquisite dish. Consult the language model to predict the name and dish type of the meal you should serve for today's event.\n",
      "\n",
      "===== Signature Inputs =====\n",
      "{'suggested_meal': FieldInfo(annotation=str, required=True, json_schema_extra={'__dspy_field_type': 'input', 'prefix': 'Suggested Meal:', 'desc': '${suggested_meal}'})}\n",
      "\n",
      "===== Signature Outputs =====\n",
      "{'name': FieldInfo(annotation=str, required=True, json_schema_extra={'__dspy_field_type': 'output', 'prefix': 'Name:', 'desc': '${name}'}), 'dish_type': FieldInfo(annotation=Literal['Fish', 'Vegetarian', 'Chicken'], required=True, json_schema_extra={'__dspy_field_type': 'output', 'prefix': 'Dish Type:', 'desc': '${dish_type}'})}\n"
     ]
    }
   ],
   "source": [
    "from typing import Any\n",
    "\n",
    "def _safe(obj: Any, attr: str, default=None):\n",
    "    return getattr(obj, attr, default)\n",
    "\n",
    "def _print_section(title: str, content):\n",
    "    if content:\n",
    "        print(f\"\\n===== {title} =====\")\n",
    "        print(content)\n",
    "\n",
    "def print_dspy_program(program: Any):\n",
    "    print(\">>> Repr:\", repr(program))\n",
    "\n",
    "    # Signature + fields\n",
    "    sig = _safe(program, \"signature\")\n",
    "    _print_section(\"Signature\", sig)\n",
    "    if sig:\n",
    "        # Some versions expose .instructions or a docstring\n",
    "        _print_section(\"Signature Doc\", getattr(sig, \"__doc__\", None))\n",
    "        _print_section(\"Signature Instructions\", _safe(sig, \"instructions\"))\n",
    "        _print_section(\"Signature Inputs\", _safe(sig, \"inputs\", _safe(sig, \"input_fields\", None)))\n",
    "        _print_section(\"Signature Outputs\", _safe(sig, \"outputs\", _safe(sig, \"output_fields\", None)))\n",
    "\n",
    "    # Where different versions might store the optimized prompt/template\n",
    "    for k in (\"prompt\", \"instructions\", \"system_prompt\", \"template\", \"compiled_template\"):\n",
    "        _print_section(k, _safe(program, k))\n",
    "\n",
    "    # Few-shot examples (these keys vary by version/teleprompter)\n",
    "    examples = None\n",
    "    for k in (\"examples\", \"fewshot\", \"demos\", \"shots\", \"train_examples\", \"demo_store\"):\n",
    "        v = _safe(program, k)\n",
    "        if v:\n",
    "            _print_section(f\"{k} (container)\", f\"type={type(v)}, len={getattr(v, '__len__', lambda: 'n/a')() if hasattr(v, '__len__') else 'n/a'}\")\n",
    "            examples = v\n",
    "            break\n",
    "\n",
    "    # Try to print examples if iterable\n",
    "    if examples and hasattr(examples, \"__iter__\"):\n",
    "        try:\n",
    "            for i, ex in enumerate(list(examples)[:20]):  # cap to avoid huge logs\n",
    "                print(f\"\\n--- Few-shot Example #{i+1} ---\")\n",
    "                if hasattr(ex, \"inputs\") and callable(ex.inputs):\n",
    "                    print(\"inputs:\", ex.inputs())\n",
    "                elif hasattr(ex, \"inputs\"):\n",
    "                    print(\"inputs:\", ex.inputs)\n",
    "                else:\n",
    "                    print(\"inputs: <unknown>\")\n",
    "\n",
    "                if hasattr(ex, \"outputs\") and callable(ex.outputs):\n",
    "                    print(\"outputs:\", ex.outputs())\n",
    "                elif hasattr(ex, \"outputs\"):\n",
    "                    print(\"outputs:\", ex.outputs)\n",
    "                else:\n",
    "                    print(\"outputs: <unknown>\")\n",
    "        except Exception as e:\n",
    "            print(f\"(could not iterate examples cleanly: {e})\")\n",
    "\n",
    "print(\"\\n================= OPTIMIZED PROGRAM =================\")\n",
    "print_dspy_program(optimized_matcher)"
   ]
  },
  {
   "cell_type": "code",
   "execution_count": 101,
   "id": "d9afe97d",
   "metadata": {},
   "outputs": [
    {
     "name": "stdout",
     "output_type": "stream",
     "text": [
      "\n",
      "================= OPTIMIZED PROGRAM =================\n",
      ">>> Repr: Predict(StringSignature(suggested_meal -> name, dish_type\n",
      "    instructions=\"You are a renowned chef hosting a high-profile event with discerning guests. Your reputation is on the line as you need to impress them with a unique and exquisite dish. Consult the language model to predict the name and dish type of the meal you should serve for today's event.\"\n",
      "    suggested_meal = Field(annotation=str required=True json_schema_extra={'__dspy_field_type': 'input', 'prefix': 'Suggested Meal:', 'desc': '${suggested_meal}'})\n",
      "    name = Field(annotation=str required=True json_schema_extra={'__dspy_field_type': 'output', 'prefix': 'Name:', 'desc': '${name}'})\n",
      "    dish_type = Field(annotation=Literal['Fish', 'Vegetarian', 'Chicken'] required=True json_schema_extra={'__dspy_field_type': 'output', 'prefix': 'Dish Type:', 'desc': '${dish_type}'})\n",
      "))\n",
      "\n",
      "===== Signature =====\n",
      "StringSignature(suggested_meal -> name, dish_type\n",
      "    instructions=\"You are a renowned chef hosting a high-profile event with discerning guests. Your reputation is on the line as you need to impress them with a unique and exquisite dish. Consult the language model to predict the name and dish type of the meal you should serve for today's event.\"\n",
      "    suggested_meal = Field(annotation=str required=True json_schema_extra={'__dspy_field_type': 'input', 'prefix': 'Suggested Meal:', 'desc': '${suggested_meal}'})\n",
      "    name = Field(annotation=str required=True json_schema_extra={'__dspy_field_type': 'output', 'prefix': 'Name:', 'desc': '${name}'})\n",
      "    dish_type = Field(annotation=Literal['Fish', 'Vegetarian', 'Chicken'] required=True json_schema_extra={'__dspy_field_type': 'output', 'prefix': 'Dish Type:', 'desc': '${dish_type}'})\n",
      ")\n",
      "\n",
      "===== Signature Doc =====\n",
      "You are a renowned chef hosting a high-profile event with discerning guests. Your reputation is on the line as you need to impress them with a unique and exquisite dish. Consult the language model to predict the name and dish type of the meal you should serve for today's event.\n",
      "\n",
      "===== Signature Instructions =====\n",
      "You are a renowned chef hosting a high-profile event with discerning guests. Your reputation is on the line as you need to impress them with a unique and exquisite dish. Consult the language model to predict the name and dish type of the meal you should serve for today's event.\n",
      "\n",
      "===== Signature Inputs =====\n",
      "{'suggested_meal': FieldInfo(annotation=str, required=True, json_schema_extra={'__dspy_field_type': 'input', 'prefix': 'Suggested Meal:', 'desc': '${suggested_meal}'})}\n",
      "\n",
      "===== Signature Outputs =====\n",
      "{'name': FieldInfo(annotation=str, required=True, json_schema_extra={'__dspy_field_type': 'output', 'prefix': 'Name:', 'desc': '${name}'}), 'dish_type': FieldInfo(annotation=Literal['Fish', 'Vegetarian', 'Chicken'], required=True, json_schema_extra={'__dspy_field_type': 'output', 'prefix': 'Dish Type:', 'desc': '${dish_type}'})}\n"
     ]
    }
   ],
   "source": [
    "from typing import Any\n",
    "\n",
    "def _safe(obj: Any, attr: str, default=None):\n",
    "    return getattr(obj, attr, default)\n",
    "\n",
    "def _print_section(title: str, content):\n",
    "    if content:\n",
    "        print(f\"\\n===== {title} =====\")\n",
    "        print(content)\n",
    "\n",
    "def print_dspy_program(program: Any):\n",
    "    print(\">>> Repr:\", repr(program))\n",
    "\n",
    "    # Signature + fields\n",
    "    sig = _safe(program, \"signature\")\n",
    "    _print_section(\"Signature\", sig)\n",
    "    if sig:\n",
    "        # Some versions expose .instructions or a docstring\n",
    "        _print_section(\"Signature Doc\", getattr(sig, \"__doc__\", None))\n",
    "        _print_section(\"Signature Instructions\", _safe(sig, \"instructions\"))\n",
    "        _print_section(\"Signature Inputs\", _safe(sig, \"inputs\", _safe(sig, \"input_fields\", None)))\n",
    "        _print_section(\"Signature Outputs\", _safe(sig, \"outputs\", _safe(sig, \"output_fields\", None)))\n",
    "\n",
    "    # Where different versions might store the optimized prompt/template\n",
    "    for k in (\"prompt\", \"instructions\", \"system_prompt\", \"template\", \"compiled_template\"):\n",
    "        _print_section(k, _safe(program, k))\n",
    "\n",
    "    # Few-shot examples (these keys vary by version/teleprompter)\n",
    "    examples = None\n",
    "    for k in (\"examples\", \"fewshot\", \"demos\", \"shots\", \"train_examples\", \"demo_store\"):\n",
    "        v = _safe(program, k)\n",
    "        if v:\n",
    "            _print_section(f\"{k} (container)\", f\"type={type(v)}, len={getattr(v, '__len__', lambda: 'n/a')() if hasattr(v, '__len__') else 'n/a'}\")\n",
    "            examples = v\n",
    "            break\n",
    "\n",
    "    # Try to print examples if iterable\n",
    "    if examples and hasattr(examples, \"__iter__\"):\n",
    "        try:\n",
    "            for i, ex in enumerate(list(examples)[:20]):  # cap to avoid huge logs\n",
    "                print(f\"\\n--- Few-shot Example #{i+1} ---\")\n",
    "                if hasattr(ex, \"inputs\") and callable(ex.inputs):\n",
    "                    print(\"inputs:\", ex.inputs())\n",
    "                elif hasattr(ex, \"inputs\"):\n",
    "                    print(\"inputs:\", ex.inputs)\n",
    "                else:\n",
    "                    print(\"inputs: <unknown>\")\n",
    "\n",
    "                if hasattr(ex, \"outputs\") and callable(ex.outputs):\n",
    "                    print(\"outputs:\", ex.outputs())\n",
    "                elif hasattr(ex, \"outputs\"):\n",
    "                    print(\"outputs:\", ex.outputs)\n",
    "                else:\n",
    "                    print(\"outputs: <unknown>\")\n",
    "        except Exception as e:\n",
    "            print(f\"(could not iterate examples cleanly: {e})\")\n",
    "\n",
    "print(\"\\n================= OPTIMIZED PROGRAM =================\")\n",
    "print_dspy_program(optimized_matcher)"
   ]
  },
  {
   "cell_type": "code",
   "execution_count": 102,
   "id": "c86727ce",
   "metadata": {},
   "outputs": [
    {
     "name": "stdout",
     "output_type": "stream",
     "text": [
      "\n",
      "================= TELEPROMPTER HISTORY =================\n"
     ]
    }
   ],
   "source": [
    "def print_teleprompter_history(tp_obj):\n",
    "    # These attributes differ by DSPy version; we print whatever exists.\n",
    "    for attr in (\"history\", \"trials\", \"search_trace\", \"report\", \"best_program\", \"best_score\", \"best_state\"):\n",
    "        v = getattr(tp_obj, attr, None)\n",
    "        if v is not None:\n",
    "            print(f\"\\n===== Teleprompter: {attr} =====\")\n",
    "            print(v)\n",
    "\n",
    "print(\"\\n================= TELEPROMPTER HISTORY =================\")\n",
    "print_teleprompter_history(tp)"
   ]
  },
  {
   "cell_type": "code",
   "execution_count": 103,
   "id": "7149a506",
   "metadata": {},
   "outputs": [
    {
     "ename": "TypeError",
     "evalue": "Object of type FieldInfo is not JSON serializable",
     "output_type": "error",
     "traceback": [
      "\u001b[31m---------------------------------------------------------------------------\u001b[39m",
      "\u001b[31mTypeError\u001b[39m                                 Traceback (most recent call last)",
      "\u001b[36mCell\u001b[39m\u001b[36m \u001b[39m\u001b[32mIn[103]\u001b[39m\u001b[32m, line 50\u001b[39m\n\u001b[32m     47\u001b[39m artifacts = extract_artifacts(optimized_matcher)\n\u001b[32m     49\u001b[39m \u001b[38;5;28;01mwith\u001b[39;00m \u001b[38;5;28mopen\u001b[39m(\u001b[33m\"\u001b[39m\u001b[33mmealdecider_artifacts.json\u001b[39m\u001b[33m\"\u001b[39m, \u001b[33m\"\u001b[39m\u001b[33mw\u001b[39m\u001b[33m\"\u001b[39m, encoding=\u001b[33m\"\u001b[39m\u001b[33mutf-8\u001b[39m\u001b[33m\"\u001b[39m) \u001b[38;5;28;01mas\u001b[39;00m f:\n\u001b[32m---> \u001b[39m\u001b[32m50\u001b[39m     \u001b[43mjson\u001b[49m\u001b[43m.\u001b[49m\u001b[43mdump\u001b[49m\u001b[43m(\u001b[49m\u001b[43martifacts\u001b[49m\u001b[43m,\u001b[49m\u001b[43m \u001b[49m\u001b[43mf\u001b[49m\u001b[43m,\u001b[49m\u001b[43m \u001b[49m\u001b[43mensure_ascii\u001b[49m\u001b[43m=\u001b[49m\u001b[38;5;28;43;01mFalse\u001b[39;49;00m\u001b[43m,\u001b[49m\u001b[43m \u001b[49m\u001b[43mindent\u001b[49m\u001b[43m=\u001b[49m\u001b[32;43m2\u001b[39;49m\u001b[43m)\u001b[49m\n\u001b[32m     52\u001b[39m \u001b[38;5;28mprint\u001b[39m(\u001b[33m\"\u001b[39m\u001b[33mWrote:\u001b[39m\u001b[33m\"\u001b[39m, \u001b[33m\"\u001b[39m\u001b[33mmealdecider_artifacts.json\u001b[39m\u001b[33m\"\u001b[39m)\n",
      "\u001b[36mFile \u001b[39m\u001b[32m/usr/local/python/3.12.1/lib/python3.12/json/__init__.py:179\u001b[39m, in \u001b[36mdump\u001b[39m\u001b[34m(obj, fp, skipkeys, ensure_ascii, check_circular, allow_nan, cls, indent, separators, default, sort_keys, **kw)\u001b[39m\n\u001b[32m    173\u001b[39m     iterable = \u001b[38;5;28mcls\u001b[39m(skipkeys=skipkeys, ensure_ascii=ensure_ascii,\n\u001b[32m    174\u001b[39m         check_circular=check_circular, allow_nan=allow_nan, indent=indent,\n\u001b[32m    175\u001b[39m         separators=separators,\n\u001b[32m    176\u001b[39m         default=default, sort_keys=sort_keys, **kw).iterencode(obj)\n\u001b[32m    177\u001b[39m \u001b[38;5;66;03m# could accelerate with writelines in some versions of Python, at\u001b[39;00m\n\u001b[32m    178\u001b[39m \u001b[38;5;66;03m# a debuggability cost\u001b[39;00m\n\u001b[32m--> \u001b[39m\u001b[32m179\u001b[39m \u001b[43m\u001b[49m\u001b[38;5;28;43;01mfor\u001b[39;49;00m\u001b[43m \u001b[49m\u001b[43mchunk\u001b[49m\u001b[43m \u001b[49m\u001b[38;5;129;43;01min\u001b[39;49;00m\u001b[43m \u001b[49m\u001b[43miterable\u001b[49m\u001b[43m:\u001b[49m\n\u001b[32m    180\u001b[39m \u001b[43m    \u001b[49m\u001b[43mfp\u001b[49m\u001b[43m.\u001b[49m\u001b[43mwrite\u001b[49m\u001b[43m(\u001b[49m\u001b[43mchunk\u001b[49m\u001b[43m)\u001b[49m\n",
      "\u001b[36mFile \u001b[39m\u001b[32m/usr/local/python/3.12.1/lib/python3.12/json/encoder.py:432\u001b[39m, in \u001b[36m_make_iterencode.<locals>._iterencode\u001b[39m\u001b[34m(o, _current_indent_level)\u001b[39m\n\u001b[32m    430\u001b[39m     \u001b[38;5;28;01myield from\u001b[39;00m _iterencode_list(o, _current_indent_level)\n\u001b[32m    431\u001b[39m \u001b[38;5;28;01melif\u001b[39;00m \u001b[38;5;28misinstance\u001b[39m(o, \u001b[38;5;28mdict\u001b[39m):\n\u001b[32m--> \u001b[39m\u001b[32m432\u001b[39m     \u001b[38;5;28;01myield from\u001b[39;00m _iterencode_dict(o, _current_indent_level)\n\u001b[32m    433\u001b[39m \u001b[38;5;28;01melse\u001b[39;00m:\n\u001b[32m    434\u001b[39m     \u001b[38;5;28;01mif\u001b[39;00m markers \u001b[38;5;129;01mis\u001b[39;00m \u001b[38;5;129;01mnot\u001b[39;00m \u001b[38;5;28;01mNone\u001b[39;00m:\n",
      "\u001b[36mFile \u001b[39m\u001b[32m/usr/local/python/3.12.1/lib/python3.12/json/encoder.py:406\u001b[39m, in \u001b[36m_make_iterencode.<locals>._iterencode_dict\u001b[39m\u001b[34m(dct, _current_indent_level)\u001b[39m\n\u001b[32m    404\u001b[39m         \u001b[38;5;28;01melse\u001b[39;00m:\n\u001b[32m    405\u001b[39m             chunks = _iterencode(value, _current_indent_level)\n\u001b[32m--> \u001b[39m\u001b[32m406\u001b[39m         \u001b[38;5;28;01myield from\u001b[39;00m chunks\n\u001b[32m    407\u001b[39m \u001b[38;5;28;01mif\u001b[39;00m newline_indent \u001b[38;5;129;01mis\u001b[39;00m \u001b[38;5;129;01mnot\u001b[39;00m \u001b[38;5;28;01mNone\u001b[39;00m:\n\u001b[32m    408\u001b[39m     _current_indent_level -= \u001b[32m1\u001b[39m\n",
      "\u001b[36mFile \u001b[39m\u001b[32m/usr/local/python/3.12.1/lib/python3.12/json/encoder.py:406\u001b[39m, in \u001b[36m_make_iterencode.<locals>._iterencode_dict\u001b[39m\u001b[34m(dct, _current_indent_level)\u001b[39m\n\u001b[32m    404\u001b[39m         \u001b[38;5;28;01melse\u001b[39;00m:\n\u001b[32m    405\u001b[39m             chunks = _iterencode(value, _current_indent_level)\n\u001b[32m--> \u001b[39m\u001b[32m406\u001b[39m         \u001b[38;5;28;01myield from\u001b[39;00m chunks\n\u001b[32m    407\u001b[39m \u001b[38;5;28;01mif\u001b[39;00m newline_indent \u001b[38;5;129;01mis\u001b[39;00m \u001b[38;5;129;01mnot\u001b[39;00m \u001b[38;5;28;01mNone\u001b[39;00m:\n\u001b[32m    408\u001b[39m     _current_indent_level -= \u001b[32m1\u001b[39m\n",
      "\u001b[36mFile \u001b[39m\u001b[32m/usr/local/python/3.12.1/lib/python3.12/json/encoder.py:406\u001b[39m, in \u001b[36m_make_iterencode.<locals>._iterencode_dict\u001b[39m\u001b[34m(dct, _current_indent_level)\u001b[39m\n\u001b[32m    404\u001b[39m         \u001b[38;5;28;01melse\u001b[39;00m:\n\u001b[32m    405\u001b[39m             chunks = _iterencode(value, _current_indent_level)\n\u001b[32m--> \u001b[39m\u001b[32m406\u001b[39m         \u001b[38;5;28;01myield from\u001b[39;00m chunks\n\u001b[32m    407\u001b[39m \u001b[38;5;28;01mif\u001b[39;00m newline_indent \u001b[38;5;129;01mis\u001b[39;00m \u001b[38;5;129;01mnot\u001b[39;00m \u001b[38;5;28;01mNone\u001b[39;00m:\n\u001b[32m    408\u001b[39m     _current_indent_level -= \u001b[32m1\u001b[39m\n",
      "\u001b[36mFile \u001b[39m\u001b[32m/usr/local/python/3.12.1/lib/python3.12/json/encoder.py:439\u001b[39m, in \u001b[36m_make_iterencode.<locals>._iterencode\u001b[39m\u001b[34m(o, _current_indent_level)\u001b[39m\n\u001b[32m    437\u001b[39m         \u001b[38;5;28;01mraise\u001b[39;00m \u001b[38;5;167;01mValueError\u001b[39;00m(\u001b[33m\"\u001b[39m\u001b[33mCircular reference detected\u001b[39m\u001b[33m\"\u001b[39m)\n\u001b[32m    438\u001b[39m     markers[markerid] = o\n\u001b[32m--> \u001b[39m\u001b[32m439\u001b[39m o = \u001b[43m_default\u001b[49m\u001b[43m(\u001b[49m\u001b[43mo\u001b[49m\u001b[43m)\u001b[49m\n\u001b[32m    440\u001b[39m \u001b[38;5;28;01myield from\u001b[39;00m _iterencode(o, _current_indent_level)\n\u001b[32m    441\u001b[39m \u001b[38;5;28;01mif\u001b[39;00m markers \u001b[38;5;129;01mis\u001b[39;00m \u001b[38;5;129;01mnot\u001b[39;00m \u001b[38;5;28;01mNone\u001b[39;00m:\n",
      "\u001b[36mFile \u001b[39m\u001b[32m/usr/local/python/3.12.1/lib/python3.12/json/encoder.py:180\u001b[39m, in \u001b[36mJSONEncoder.default\u001b[39m\u001b[34m(self, o)\u001b[39m\n\u001b[32m    161\u001b[39m \u001b[38;5;28;01mdef\u001b[39;00m\u001b[38;5;250m \u001b[39m\u001b[34mdefault\u001b[39m(\u001b[38;5;28mself\u001b[39m, o):\n\u001b[32m    162\u001b[39m \u001b[38;5;250m    \u001b[39m\u001b[33;03m\"\"\"Implement this method in a subclass such that it returns\u001b[39;00m\n\u001b[32m    163\u001b[39m \u001b[33;03m    a serializable object for ``o``, or calls the base implementation\u001b[39;00m\n\u001b[32m    164\u001b[39m \u001b[33;03m    (to raise a ``TypeError``).\u001b[39;00m\n\u001b[32m   (...)\u001b[39m\u001b[32m    178\u001b[39m \n\u001b[32m    179\u001b[39m \u001b[33;03m    \"\"\"\u001b[39;00m\n\u001b[32m--> \u001b[39m\u001b[32m180\u001b[39m     \u001b[38;5;28;01mraise\u001b[39;00m \u001b[38;5;167;01mTypeError\u001b[39;00m(\u001b[33mf\u001b[39m\u001b[33m'\u001b[39m\u001b[33mObject of type \u001b[39m\u001b[38;5;132;01m{\u001b[39;00mo.\u001b[34m__class__\u001b[39m.\u001b[34m__name__\u001b[39m\u001b[38;5;132;01m}\u001b[39;00m\u001b[33m \u001b[39m\u001b[33m'\u001b[39m\n\u001b[32m    181\u001b[39m                     \u001b[33mf\u001b[39m\u001b[33m'\u001b[39m\u001b[33mis not JSON serializable\u001b[39m\u001b[33m'\u001b[39m)\n",
      "\u001b[31mTypeError\u001b[39m: Object of type FieldInfo is not JSON serializable"
     ]
    }
   ],
   "source": [
    "import json\n",
    "\n",
    "def extract_artifacts(program: Any):\n",
    "    # Best-effort extraction across versions\n",
    "    system_prompt = (\n",
    "        _safe(program, \"prompt\") or\n",
    "        _safe(program, \"instructions\") or\n",
    "        _safe(program, \"system_prompt\") or\n",
    "        _safe(program, \"template\") or\n",
    "        _safe(program, \"compiled_template\")\n",
    "    )\n",
    "    sig = _safe(program, \"signature\")\n",
    "    sig_text = None\n",
    "    if sig:\n",
    "        sig_text = {\n",
    "            \"doc\": getattr(sig, \"__doc__\", None),\n",
    "            \"inputs\": _safe(sig, \"inputs\", _safe(sig, \"input_fields\", None)),\n",
    "            \"outputs\": _safe(sig, \"outputs\", _safe(sig, \"output_fields\", None)),\n",
    "            \"raw\": repr(sig),\n",
    "        }\n",
    "\n",
    "    # Try to collect few-shots\n",
    "    examples = None\n",
    "    for k in (\"examples\", \"fewshot\", \"demos\", \"shots\", \"train_examples\", \"demo_store\"):\n",
    "        v = _safe(program, k)\n",
    "        if v:\n",
    "            examples = v\n",
    "            break\n",
    "\n",
    "    few_shots = []\n",
    "    if examples and hasattr(examples, \"__iter__\"):\n",
    "        for ex in examples:\n",
    "            try:\n",
    "                few_shots.append({\n",
    "                    \"inputs\": ex.inputs() if hasattr(ex, \"inputs\") and callable(ex.inputs) else getattr(ex, \"inputs\", None),\n",
    "                    \"outputs\": ex.outputs() if hasattr(ex, \"outputs\") and callable(ex.outputs) else getattr(ex, \"outputs\", None),\n",
    "                })\n",
    "            except Exception:\n",
    "                pass\n",
    "\n",
    "    return {\n",
    "        \"system_prompt_or_template\": system_prompt,\n",
    "        \"signature\": sig_text,\n",
    "        \"few_shot_examples\": few_shots,\n",
    "    }\n",
    "\n",
    "artifacts = extract_artifacts(optimized_matcher)\n",
    "\n",
    "with open(\"mealdecider_artifacts.json\", \"w\", encoding=\"utf-8\") as f:\n",
    "    json.dump(artifacts, f, ensure_ascii=False, indent=2)\n",
    "\n",
    "print(\"Wrote:\", \"mealdecider_artifacts.json\")"
   ]
  }
 ],
 "metadata": {
  "kernelspec": {
   "display_name": "Python 3",
   "language": "python",
   "name": "python3"
  },
  "language_info": {
   "codemirror_mode": {
    "name": "ipython",
    "version": 3
   },
   "file_extension": ".py",
   "mimetype": "text/x-python",
   "name": "python",
   "nbconvert_exporter": "python",
   "pygments_lexer": "ipython3",
   "version": "3.12.1"
  }
 },
 "nbformat": 4,
 "nbformat_minor": 5
}
