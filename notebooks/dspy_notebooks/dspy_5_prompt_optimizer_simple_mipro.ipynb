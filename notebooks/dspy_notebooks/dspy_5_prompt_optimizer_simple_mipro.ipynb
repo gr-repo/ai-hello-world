{
 "cells": [
  {
   "cell_type": "markdown",
   "metadata": {},
   "source": [
    "# Optimise Prompts\n",
    "\n",
    " Guide: [Let the LLM Write the Prompts: An Intro to DSPy in Compound AI Pipelines](https://www.youtube.com/watch?v=I9ZtkgYZnOw)\n",
    " \n",
    "Location 18:19 in video.  "
   ]
  },
  {
   "cell_type": "code",
   "execution_count": 1,
   "metadata": {},
   "outputs": [],
   "source": [
    "import bootstrap\n",
    "import common \n",
    "from common.utils import md\n",
    "from dspy_extensions.dspy_utils import md_dspy\n",
    "import dspy\n",
    "\n",
    "settings = common.MySettings().get()\n",
    "lm = common.LlmClientFactory(settings).get_dspy_lm_chat_connecting_to_internal_databricks()"
   ]
  },
  {
   "cell_type": "code",
   "execution_count": 2,
   "metadata": {},
   "outputs": [],
   "source": [
    "# Create classes\n",
    "\n",
    "import dspy \n",
    "from pydantic import BaseModel\n",
    "from typing import Literal\n",
    "\n",
    "class Place(BaseModel):\n",
    "    address: str = dspy.InputField()\n",
    "    name: str = dspy.InputField()\n",
    "    \n",
    "class PlaceMatcher(dspy.Signature):\n",
    "    \"\"\"Verify that the text is based on the provided context.\"\"\"\n",
    "    \n",
    "    # Inputs\n",
    "    place_one: Place = dspy.InputField()\n",
    "    place_two: Place = dspy.InputField()\n",
    "    \n",
    "    # Outputs\n",
    "    is_match: bool = dspy.OutputField(desc=\"Do the two places refer to the same place?\")\n",
    "    match_confidence: Literal[\"low\", \"medium\", \"high\"] = dspy.OutputField()\n",
    "    rationale: str = dspy.OutputField(desc=\"Rationale for the decision\")\n",
    "    \n",
    "matcher = dspy.Predict(PlaceMatcher)\n",
    "result = matcher(place_one=Place(address=\"123 Main St, Springfield\", name=\"Springfield Library\"),\n",
    "                 place_two=Place(address=\"123 Main St, Springfield\", name=\"Springfield Public Library\"))\n",
    "\n",
    "# md(result)"
   ]
  },
  {
   "cell_type": "code",
   "execution_count": 3,
   "metadata": {},
   "outputs": [],
   "source": [
    "from dspy import Example\n",
    "\n",
    "trainset = [\n",
    "    Example(\n",
    "        place_one={\"address\": \"123 Main St, Springfield\", \"name\": \"Springfield Library\"},\n",
    "        place_two={\"address\": \"123 Main St, Springfield\", \"name\": \"Springfield Public Library\"}\n",
    "        ,is_match=True\n",
    "    ).with_inputs(\"place_one\", \"place_two\"),\n",
    "\n",
    "    Example(\n",
    "        place_one={\"address\": \"456 Oak Ave, Shelbyville\", \"name\": \"Shelbyville Museum\"},\n",
    "        place_two={\"address\": \"456 Oak Avenue, Shelbyville\", \"name\": \"Shelbyville History Museum\"},\n",
    "        is_match=True\n",
    "    ).with_inputs(\"place_one\", \"place_two\"),\n",
    "\n",
    "    Example(\n",
    "        place_one={\"address\": \"789 Pine Rd, Capital City\", \"name\": \"Capital City Zoo\"},\n",
    "        place_two={\"address\": \"101 Maple St, Capital City\", \"name\": \"Capital City Aquarium\"},\n",
    "        is_match=False\n",
    "    ).with_inputs(\"place_one\", \"place_two\"),\n",
    "\n",
    "    Example(\n",
    "        place_one={\"address\": \"202 Birch Blvd, Ogdenville\", \"name\": \"Ogdenville Coffee House\"},\n",
    "        place_two={\"address\": \"202 Birch Blvd, Ogdenville\", \"name\": \"Ogdenville Café\"},\n",
    "        is_match=True\n",
    "    ).with_inputs(\"place_one\", \"place_two\")\n",
    "    ,\n",
    "\n",
    "    Example(\n",
    "        place_one={\"address\": \"303 Cedar Ln, North Haverbrook\", \"name\": \"North Haverbrook Gym\"},\n",
    "        place_two={\"address\": \"404 Elm St, North Haverbrook\", \"name\": \"North Haverbrook Fitness Center\"},\n",
    "        is_match=False\n",
    "    ).with_inputs(\"place_one\", \"place_two\"),\n",
    "]\n"
   ]
  },
  {
   "cell_type": "code",
   "execution_count": 4,
   "metadata": {},
   "outputs": [
    {
     "data": {
      "text/markdown": [
       "[\"I'm Gemma, a large language model created by the Gemma team at Google DeepMind. I'm an open-weights model, which means I'm widely available for public use.\\n\\nAs for my size, there are actually two versions of me:\\n\\n*   **Gemma 2B:** This version has 2 billion parameters.\\n*   **Gemma 7B:** This version has 7 billion parameters.\\n\\nGenerally, a larger model (like the 7B version) has a greater capacity for understanding and generating text, but also requires more computational resources.\\n\\n\\n\\nYou can find more details about me on the Gemma website: [https://gemma.google/](https://gemma.google/)\"]"
      ],
      "text/plain": [
       "<IPython.core.display.Markdown object>"
      ]
     },
     "metadata": {},
     "output_type": "display_data"
    }
   ],
   "source": [
    "prompt_lm = common.LlmClientFactory(settings).get_dspy_lm_chat_connecting_to_internal_databricks_model('databricks/databricks-gemma-3-12b')\n",
    "md(prompt_lm('What model are you and what size are you?'))\n",
    "\n",
    "# #databricks/databricks-gemma-3-12b\n",
    "# # mixtral-8x7b-v0-1\n"
   ]
  },
  {
   "cell_type": "markdown",
   "metadata": {},
   "source": [
    "In the context of DSPy and the code you're working with:\n",
    "\n",
    "```python\n",
    "tp = dspy.MIPROv2(metric=validate_match, auto=\"light\", prompt_model=prompt_lm, task_model=lm)\n",
    "```\n",
    "\n",
    "### 🔹 `prompt_model`\n",
    "This is typically the **intent model**—the one that will be used in production (PRD) to **generate responses** based on the prompts that DSPy helps optimize. It's the model that will be deployed to handle real user inputs.\n",
    "\n",
    "- It’s used during training to generate candidate completions.\n",
    "- It’s the model DSPy is trying to **fine-tune prompts for**.\n",
    "- It’s usually **smaller or faster**, suitable for real-time inference.\n",
    "\n",
    "### 🔹 `task_model`\n",
    "This is the **evaluation model**—used during training to **judge the quality** of the outputs from `prompt_model`.\n",
    "\n",
    "- It’s not necessarily used in production.\n",
    "- It helps DSPy decide which prompts are best by scoring or validating them.\n",
    "- It’s often **larger or more accurate**, used offline for optimization.\n",
    "\n",
    "### 🔹 `metric=validate_match`\n",
    "This is your **custom evaluation function**. It defines what “success” looks like for a prediction. DSPy uses this function to determine whether a generated output is correct or useful.\n",
    "\n",
    "So in summary:\n",
    "\n",
    "| Component       | Role in DSPy | Role in PRD |\n",
    "|----------------|--------------|-------------|\n",
    "| `prompt_model` | Generates candidate outputs during training | **Used in production to serve prompts** |\n",
    "| `task_model`   | Evaluates candidate outputs during training | Not used in production |\n",
    "| `metric`       | Defines correctness for training | Not used in production |\n",
    "\n",
    "Would you like help setting up a pipeline where the optimized prompts are exported for production use with `prompt_model`?"
   ]
  },
  {
   "cell_type": "code",
   "execution_count": 5,
   "metadata": {},
   "outputs": [
    {
     "name": "stderr",
     "output_type": "stream",
     "text": [
      "2025/08/19 18:33:04 INFO dspy.teleprompt.mipro_optimizer_v2: \n",
      "RUNNING WITH THE FOLLOWING LIGHT AUTO RUN SETTINGS:\n",
      "num_trials: 10\n",
      "minibatch: False\n",
      "num_fewshot_candidates: 6\n",
      "num_instruct_candidates: 3\n",
      "valset size: 4\n",
      "\n",
      "2025/08/19 18:33:04 INFO dspy.teleprompt.mipro_optimizer_v2: \n",
      "==> STEP 1: BOOTSTRAP FEWSHOT EXAMPLES <==\n",
      "2025/08/19 18:33:04 INFO dspy.teleprompt.mipro_optimizer_v2: These will be used as few-shot example candidates for our program and for creating instructions.\n",
      "\n",
      "2025/08/19 18:33:04 INFO dspy.teleprompt.mipro_optimizer_v2: Bootstrapping N=6 sets of demonstrations...\n"
     ]
    },
    {
     "name": "stdout",
     "output_type": "stream",
     "text": [
      "Bootstrapping set 1/6\n",
      "Bootstrapping set 2/6\n",
      "Bootstrapping set 3/6\n"
     ]
    },
    {
     "name": "stderr",
     "output_type": "stream",
     "text": [
      "  0%|          | 0/1 [00:00<?, ?it/s]"
     ]
    },
    {
     "data": {
      "text/markdown": [
       "**Validate()**\n",
       "\n",
       "**Example**: Example({'place_one': {'address': '123 Main St, Springfield', 'name': 'Springfield Library'}, 'place_two': {'address': '123 Main St, Springfield', 'name': 'Springfield Public Library'}, 'is_match': True}) (input_keys={'place_two', 'place_one'})**Prediction**: Prediction(\n",
       "    is_match=True,\n",
       "    match_confidence='high',\n",
       "    rationale='Both places share the same address (\"123 Main St, Springfield\"). While the names are slightly different (\"Springfield Library\" vs. \"Springfield Public Library\"), the address match strongly suggests they refer to the same location.'\n",
       ")"
      ],
      "text/plain": [
       "<IPython.core.display.Markdown object>"
      ]
     },
     "metadata": {},
     "output_type": "display_data"
    },
    {
     "name": "stderr",
     "output_type": "stream",
     "text": [
      "100%|██████████| 1/1 [00:01<00:00,  1.37s/it]\n"
     ]
    },
    {
     "name": "stdout",
     "output_type": "stream",
     "text": [
      "Bootstrapped 0 full traces after 0 examples for up to 1 rounds, amounting to 1 attempts.\n",
      "Bootstrapping set 4/6\n"
     ]
    },
    {
     "name": "stderr",
     "output_type": "stream",
     "text": [
      "  0%|          | 0/1 [00:00<?, ?it/s]"
     ]
    },
    {
     "data": {
      "text/markdown": [
       "**Validate()**\n",
       "\n",
       "**Example**: Example({'place_one': {'address': '123 Main St, Springfield', 'name': 'Springfield Library'}, 'place_two': {'address': '123 Main St, Springfield', 'name': 'Springfield Public Library'}, 'is_match': True}) (input_keys={'place_two', 'place_one'})**Prediction**: Prediction(\n",
       "    is_match=True,\n",
       "    match_confidence='high',\n",
       "    rationale='Both places share the same address (\"123 Main St, Springfield\"). While the names are slightly different (\"Springfield Library\" vs. \"Springfield Public Library\"), the address match strongly suggests they refer to the same location.'\n",
       ")"
      ],
      "text/plain": [
       "<IPython.core.display.Markdown object>"
      ]
     },
     "metadata": {},
     "output_type": "display_data"
    },
    {
     "name": "stderr",
     "output_type": "stream",
     "text": [
      "100%|██████████| 1/1 [00:01<00:00,  1.38s/it]\n"
     ]
    },
    {
     "name": "stdout",
     "output_type": "stream",
     "text": [
      "Bootstrapped 0 full traces after 0 examples for up to 1 rounds, amounting to 1 attempts.\n",
      "Bootstrapping set 5/6\n"
     ]
    },
    {
     "name": "stderr",
     "output_type": "stream",
     "text": [
      "  0%|          | 0/1 [00:00<?, ?it/s]"
     ]
    },
    {
     "data": {
      "text/markdown": [
       "**Validate()**\n",
       "\n",
       "**Example**: Example({'place_one': {'address': '123 Main St, Springfield', 'name': 'Springfield Library'}, 'place_two': {'address': '123 Main St, Springfield', 'name': 'Springfield Public Library'}, 'is_match': True}) (input_keys={'place_two', 'place_one'})**Prediction**: Prediction(\n",
       "    is_match=True,\n",
       "    match_confidence='high',\n",
       "    rationale='Both places share the same address (\"123 Main St, Springfield\"). While the names are slightly different (\"Springfield Library\" vs. \"Springfield Public Library\"), the address match strongly suggests they refer to the same location.'\n",
       ")"
      ],
      "text/plain": [
       "<IPython.core.display.Markdown object>"
      ]
     },
     "metadata": {},
     "output_type": "display_data"
    },
    {
     "name": "stderr",
     "output_type": "stream",
     "text": [
      "100%|██████████| 1/1 [00:01<00:00,  1.18s/it]\n"
     ]
    },
    {
     "name": "stdout",
     "output_type": "stream",
     "text": [
      "Bootstrapped 1 full traces after 0 examples for up to 1 rounds, amounting to 1 attempts.\n",
      "Bootstrapping set 6/6\n"
     ]
    },
    {
     "name": "stderr",
     "output_type": "stream",
     "text": [
      "  0%|          | 0/1 [00:00<?, ?it/s]"
     ]
    },
    {
     "data": {
      "text/markdown": [
       "**Validate()**\n",
       "\n",
       "**Example**: Example({'place_one': {'address': '123 Main St, Springfield', 'name': 'Springfield Library'}, 'place_two': {'address': '123 Main St, Springfield', 'name': 'Springfield Public Library'}, 'is_match': True}) (input_keys={'place_two', 'place_one'})**Prediction**: Prediction(\n",
       "    is_match=True,\n",
       "    match_confidence='high',\n",
       "    rationale='Both places share the same address (\"123 Main St, Springfield\"). While the names are slightly different (\"Springfield Library\" vs. \"Springfield Public Library\"), the address match strongly suggests they refer to the same location.'\n",
       ")"
      ],
      "text/plain": [
       "<IPython.core.display.Markdown object>"
      ]
     },
     "metadata": {},
     "output_type": "display_data"
    },
    {
     "name": "stderr",
     "output_type": "stream",
     "text": [
      "100%|██████████| 1/1 [00:01<00:00,  1.31s/it]\n",
      "2025/08/19 18:33:09 INFO dspy.teleprompt.mipro_optimizer_v2: \n",
      "==> STEP 2: PROPOSE INSTRUCTION CANDIDATES <==\n",
      "2025/08/19 18:33:09 INFO dspy.teleprompt.mipro_optimizer_v2: We will use the few-shot examples from the previous step, a generated dataset summary, a summary of the program code, and a randomly selected prompting tip to propose instructions.\n"
     ]
    },
    {
     "name": "stdout",
     "output_type": "stream",
     "text": [
      "Bootstrapped 0 full traces after 0 examples for up to 1 rounds, amounting to 1 attempts.\n"
     ]
    },
    {
     "name": "stderr",
     "output_type": "stream",
     "text": [
      "2025/08/19 18:33:12 INFO dspy.teleprompt.mipro_optimizer_v2: \n",
      "Proposing N=3 instructions...\n",
      "\n",
      "2025/08/19 18:33:30 INFO dspy.teleprompt.mipro_optimizer_v2: Proposed Instructions for Predictor 0:\n",
      "\n",
      "2025/08/19 18:33:30 INFO dspy.teleprompt.mipro_optimizer_v2: 0: Verify that the text is based on the provided context.\n",
      "\n",
      "2025/08/19 18:33:30 INFO dspy.teleprompt.mipro_optimizer_v2: 1: You are a critical data analyst responsible for ensuring the accuracy of a city's emergency response system. Incorrect location matching can lead to delayed assistance and potentially life-threatening situations. Given two place entries, each with an address and name, determine if they refer to the same location. Output a boolean `is_match`, a `match_confidence` score (between 0.0 and 1.0, where 1.0 indicates absolute certainty), and a detailed `rationale` explaining your decision. Consider subtle differences in names and potential variations in addresses. Prioritize accuracy; a false negative (incorrectly identifying two locations as different) is far more dangerous than a false positive.\n",
      "\n",
      "Here are the place entries:\n",
      "\n",
      "Place One: {'address': '123 Main St, Springfield', 'name': 'Springfield Library'}\n",
      "Place Two: {'address': '123 Main St, Springfield', 'name': 'Springfield Public Library'}\n",
      "\n",
      "Provide your response in the following format:\n",
      "\n",
      "Is Match: [True/False]\n",
      "Match Confidence: [0.0-1.0]\n",
      "Rationale: [Detailed explanation]\n",
      "\n",
      "2025/08/19 18:33:30 INFO dspy.teleprompt.mipro_optimizer_v2: 2: You are a critical data verification specialist for a large mapping application. Your task is to accurately determine if two provided place descriptions refer to the same location. Incorrect matches can lead to users being directed to the wrong place, resulting in frustration and negative reviews. Given two place descriptions, each containing an 'address' and a 'name', predict whether they represent the same location. Output a tuple containing: `is_match` (True or False), `match_confidence` (high, medium, or low), and a `rationale` explaining your decision. Consider the address as the primary factor, but also account for slight variations in names. For example, \"Springfield Library\" and \"Springfield Public Library\" likely refer to the same place if the addresses match.\n",
      "\n",
      "Here are the place descriptions:\n",
      "\n",
      "Place One: {'address': '123 Main St, Springfield', 'name': 'Springfield Library'}\n",
      "Place Two: {'address': '123 Main St, Springfield', 'name': 'Springfield Public Library'}\n",
      "\n",
      "2025/08/19 18:33:30 INFO dspy.teleprompt.mipro_optimizer_v2: \n",
      "\n",
      "2025/08/19 18:33:30 INFO dspy.teleprompt.mipro_optimizer_v2: ==> STEP 3: FINDING OPTIMAL PROMPT PARAMETERS <==\n",
      "2025/08/19 18:33:30 INFO dspy.teleprompt.mipro_optimizer_v2: We will evaluate the program over a series of trials with different combinations of instructions and few-shot examples to find the optimal combination using Bayesian Optimization.\n",
      "\n",
      "2025/08/19 18:33:30 INFO dspy.teleprompt.mipro_optimizer_v2: == Trial 1 / 10 - Full Evaluation of Default Program ==\n"
     ]
    },
    {
     "name": "stdout",
     "output_type": "stream",
     "text": [
      "  0%|          | 0/4 [00:00<?, ?it/s]"
     ]
    },
    {
     "data": {
      "text/markdown": [
       "**Validate()**\n",
       "\n",
       "**Example**: Example({'place_one': {'address': '789 Pine Rd, Capital City', 'name': 'Capital City Zoo'}, 'place_two': {'address': '101 Maple St, Capital City', 'name': 'Capital City Aquarium'}, 'is_match': False}) (input_keys={'place_two', 'place_one'})**Prediction**: Prediction(\n",
       "    is_match=False,\n",
       "    match_confidence='low',\n",
       "    rationale='The places have different names (\"Capital City Zoo\" vs. \"Capital City Aquarium\") and different addresses. While they are both in Capital City, the differences in name and address suggest they are not the same place.'\n",
       ")"
      ],
      "text/plain": [
       "<IPython.core.display.Markdown object>"
      ]
     },
     "metadata": {},
     "output_type": "display_data"
    },
    {
     "name": "stdout",
     "output_type": "stream",
     "text": [
      "Average Metric: 1.00 / 1 (100.0%):  25%|██▌       | 1/4 [00:01<00:05,  1.95s/it]"
     ]
    },
    {
     "data": {
      "text/markdown": [
       "**Validate()**\n",
       "\n",
       "**Example**: Example({'place_one': {'address': '303 Cedar Ln, North Haverbrook', 'name': 'North Haverbrook Gym'}, 'place_two': {'address': '404 Elm St, North Haverbrook', 'name': 'North Haverbrook Fitness Center'}, 'is_match': False}) (input_keys={'place_two', 'place_one'})**Prediction**: Prediction(\n",
       "    is_match=False,\n",
       "    match_confidence='low',\n",
       "    rationale='While both places are in North Haverbrook, they have different names and addresses. The names \"North Haverbrook Gym\" and \"North Haverbrook Fitness Center\" are distinct, and the addresses (303 Cedar Ln vs. 404 Elm St) are also different.'\n",
       ")"
      ],
      "text/plain": [
       "<IPython.core.display.Markdown object>"
      ]
     },
     "metadata": {},
     "output_type": "display_data"
    },
    {
     "name": "stdout",
     "output_type": "stream",
     "text": [
      "Average Metric: 1.00 / 2 (50.0%):  50%|█████     | 2/4 [00:02<00:01,  1.08it/s] "
     ]
    },
    {
     "data": {
      "text/markdown": [
       "**Validate()**\n",
       "\n",
       "**Example**: Example({'place_one': {'address': '202 Birch Blvd, Ogdenville', 'name': 'Ogdenville Coffee House'}, 'place_two': {'address': '202 Birch Blvd, Ogdenville', 'name': 'Ogdenville Café'}, 'is_match': True}) (input_keys={'place_two', 'place_one'})**Prediction**: Prediction(\n",
       "    is_match=True,\n",
       "    match_confidence='high',\n",
       "    rationale='Both places share the same address (\"202 Birch Blvd, Ogdenville\"). While the names are slightly different (\"Coffee House\" vs. \"Café\"), this is a common variation and doesn\\'t necessarily indicate different locations.'\n",
       ")"
      ],
      "text/plain": [
       "<IPython.core.display.Markdown object>"
      ]
     },
     "metadata": {},
     "output_type": "display_data"
    },
    {
     "name": "stdout",
     "output_type": "stream",
     "text": [
      "Average Metric: 2.00 / 3 (66.7%):  50%|█████     | 2/4 [00:02<00:01,  1.08it/s]"
     ]
    },
    {
     "data": {
      "text/markdown": [
       "**Validate()**\n",
       "\n",
       "**Example**: Example({'place_one': {'address': '456 Oak Ave, Shelbyville', 'name': 'Shelbyville Museum'}, 'place_two': {'address': '456 Oak Avenue, Shelbyville', 'name': 'Shelbyville History Museum'}, 'is_match': True}) (input_keys={'place_two', 'place_one'})**Prediction**: Prediction(\n",
       "    is_match=True,\n",
       "    match_confidence='high',\n",
       "    rationale='The addresses are very similar (\"456 Oak Ave\" vs \"456 Oak Avenue\"), and both museums are in Shelbyville. The names are also closely related (\"Shelbyville Museum\" vs \"Shelbyville History Museum\"), suggesting they likely refer to the same place. The slight difference in name (\"Museum\" vs \"History Museum\") is common and doesn\\'t necessarily indicate a different location.'\n",
       ")"
      ],
      "text/plain": [
       "<IPython.core.display.Markdown object>"
      ]
     },
     "metadata": {},
     "output_type": "display_data"
    },
    {
     "name": "stdout",
     "output_type": "stream",
     "text": [
      "Average Metric: 3.00 / 4 (75.0%): 100%|██████████| 4/4 [00:02<00:00,  1.67it/s]"
     ]
    },
    {
     "name": "stderr",
     "output_type": "stream",
     "text": [
      "2025/08/19 18:33:32 INFO dspy.evaluate.evaluate: Average Metric: 3 / 4 (75.0%)\n",
      "2025/08/19 18:33:32 INFO dspy.teleprompt.mipro_optimizer_v2: Default program score: 75.0\n",
      "\n",
      "2025/08/19 18:33:32 INFO dspy.teleprompt.mipro_optimizer_v2: ===== Trial 2 / 10 =====\n"
     ]
    },
    {
     "name": "stdout",
     "output_type": "stream",
     "text": [
      "\n",
      "  0%|          | 0/4 [00:00<?, ?it/s]"
     ]
    },
    {
     "data": {
      "text/markdown": [
       "**Validate()**\n",
       "\n",
       "**Example**: Example({'place_one': {'address': '303 Cedar Ln, North Haverbrook', 'name': 'North Haverbrook Gym'}, 'place_two': {'address': '404 Elm St, North Haverbrook', 'name': 'North Haverbrook Fitness Center'}, 'is_match': False}) (input_keys={'place_two', 'place_one'})**Prediction**: Prediction(\n",
       "    is_match=False,\n",
       "    match_confidence='low',\n",
       "    rationale='The addresses are different (\"303 Cedar Ln\" vs. \"404 Elm St\") and the names, while related (\"North Haverbrook Gym\" vs. \"North Haverbrook Fitness Center\"), suggest different establishments. While both are fitness-related and in the same town, the distinct addresses indicate they are not the same place.'\n",
       ")"
      ],
      "text/plain": [
       "<IPython.core.display.Markdown object>"
      ]
     },
     "metadata": {},
     "output_type": "display_data"
    },
    {
     "name": "stdout",
     "output_type": "stream",
     "text": [
      "Average Metric: 1.00 / 1 (100.0%):  25%|██▌       | 1/4 [00:01<00:04,  1.40s/it]"
     ]
    },
    {
     "data": {
      "text/markdown": [
       "**Validate()**\n",
       "\n",
       "**Example**: Example({'place_one': {'address': '789 Pine Rd, Capital City', 'name': 'Capital City Zoo'}, 'place_two': {'address': '101 Maple St, Capital City', 'name': 'Capital City Aquarium'}, 'is_match': False}) (input_keys={'place_two', 'place_one'})**Prediction**: Prediction(\n",
       "    is_match=False,\n",
       "    match_confidence='low',\n",
       "    rationale='The addresses are different (789 Pine Rd vs. 101 Maple St) and the names are also different (Capital City Zoo vs. Capital City Aquarium). While both are located in Capital City, the distinct addresses and names strongly suggest they are not the same location.'\n",
       ")"
      ],
      "text/plain": [
       "<IPython.core.display.Markdown object>"
      ]
     },
     "metadata": {},
     "output_type": "display_data"
    },
    {
     "name": "stdout",
     "output_type": "stream",
     "text": [
      "Average Metric: 1.00 / 2 (50.0%):  50%|█████     | 2/4 [00:01<00:01,  1.41it/s] "
     ]
    },
    {
     "data": {
      "text/markdown": [
       "**Validate()**\n",
       "\n",
       "**Example**: Example({'place_one': {'address': '456 Oak Ave, Shelbyville', 'name': 'Shelbyville Museum'}, 'place_two': {'address': '456 Oak Avenue, Shelbyville', 'name': 'Shelbyville History Museum'}, 'is_match': True}) (input_keys={'place_two', 'place_one'})**Prediction**: Prediction(\n",
       "    is_match=True,\n",
       "    match_confidence='high',\n",
       "    rationale='The addresses are nearly identical. \"Ave\" and \"Avenue\" are common abbreviations for the same thing. The names are also very similar, with \"Shelbyville Museum\" and \"Shelbyville History Museum\" likely referring to the same institution. The slight difference in name (\"History\" vs. no descriptor) doesn\\'t indicate a different location.'\n",
       ")"
      ],
      "text/plain": [
       "<IPython.core.display.Markdown object>"
      ]
     },
     "metadata": {},
     "output_type": "display_data"
    },
    {
     "name": "stdout",
     "output_type": "stream",
     "text": [
      "Average Metric: 1.00 / 3 (33.3%):  75%|███████▌  | 3/4 [00:01<00:00,  1.89it/s]"
     ]
    },
    {
     "data": {
      "text/markdown": [
       "**Validate()**\n",
       "\n",
       "**Example**: Example({'place_one': {'address': '202 Birch Blvd, Ogdenville', 'name': 'Ogdenville Coffee House'}, 'place_two': {'address': '202 Birch Blvd, Ogdenville', 'name': 'Ogdenville Café'}, 'is_match': True}) (input_keys={'place_two', 'place_one'})**Prediction**: Prediction(\n",
       "    is_match=True,\n",
       "    match_confidence='medium',\n",
       "    rationale='The addresses are identical. While the names differ (\"Coffee House\" vs. \"Café\"), these are often used interchangeably to describe similar types of establishments. The shared address strongly suggests they are the same location. A higher confidence would require additional information (e.g., phone number verification).'\n",
       ")"
      ],
      "text/plain": [
       "<IPython.core.display.Markdown object>"
      ]
     },
     "metadata": {},
     "output_type": "display_data"
    },
    {
     "name": "stdout",
     "output_type": "stream",
     "text": [
      "Average Metric: 2.00 / 4 (50.0%): 100%|██████████| 4/4 [00:03<00:00,  1.24it/s]"
     ]
    },
    {
     "name": "stderr",
     "output_type": "stream",
     "text": [
      "2025/08/19 18:33:35 INFO dspy.evaluate.evaluate: Average Metric: 2 / 4 (50.0%)\n",
      "2025/08/19 18:33:35 INFO dspy.teleprompt.mipro_optimizer_v2: Score: 50.0 with parameters ['Predictor 0: Instruction 1', 'Predictor 0: Few-Shot Set 3'].\n",
      "2025/08/19 18:33:35 INFO dspy.teleprompt.mipro_optimizer_v2: Scores so far: [75.0, 50.0]\n",
      "2025/08/19 18:33:35 INFO dspy.teleprompt.mipro_optimizer_v2: Best score so far: 75.0\n",
      "2025/08/19 18:33:35 INFO dspy.teleprompt.mipro_optimizer_v2: ========================\n",
      "\n",
      "\n",
      "2025/08/19 18:33:35 INFO dspy.teleprompt.mipro_optimizer_v2: ===== Trial 3 / 10 =====\n"
     ]
    },
    {
     "name": "stdout",
     "output_type": "stream",
     "text": [
      "\n",
      "  0%|          | 0/4 [00:00<?, ?it/s]"
     ]
    },
    {
     "data": {
      "text/markdown": [
       "**Validate()**\n",
       "\n",
       "**Example**: Example({'place_one': {'address': '303 Cedar Ln, North Haverbrook', 'name': 'North Haverbrook Gym'}, 'place_two': {'address': '404 Elm St, North Haverbrook', 'name': 'North Haverbrook Fitness Center'}, 'is_match': False}) (input_keys={'place_two', 'place_one'})**Prediction**: Prediction(\n",
       "    is_match=False,\n",
       "    match_confidence='low',\n",
       "    rationale='The addresses are different. Place one is located on Cedar Ln, while place two is on Elm St. Although both are in North Haverbrook, the different street addresses indicate they are not the same location. The names are also slightly different, further supporting this conclusion.'\n",
       ")"
      ],
      "text/plain": [
       "<IPython.core.display.Markdown object>"
      ]
     },
     "metadata": {},
     "output_type": "display_data"
    },
    {
     "name": "stdout",
     "output_type": "stream",
     "text": [
      "Average Metric: 1.00 / 1 (100.0%):  25%|██▌       | 1/4 [00:01<00:03,  1.03s/it]"
     ]
    },
    {
     "data": {
      "text/markdown": [
       "**Validate()**\n",
       "\n",
       "**Example**: Example({'place_one': {'address': '202 Birch Blvd, Ogdenville', 'name': 'Ogdenville Coffee House'}, 'place_two': {'address': '202 Birch Blvd, Ogdenville', 'name': 'Ogdenville Café'}, 'is_match': True}) (input_keys={'place_two', 'place_one'})**Prediction**: Prediction(\n",
       "    is_match=True,\n",
       "    match_confidence='high',\n",
       "    rationale='The addresses are identical (\"202 Birch Blvd, Ogdenville\"). While the names differ slightly (\"Coffee House\" vs. \"Café\"), this is a common variation and doesn\\'t indicate different locations. Therefore, they likely refer to the same place.'\n",
       ")"
      ],
      "text/plain": [
       "<IPython.core.display.Markdown object>"
      ]
     },
     "metadata": {},
     "output_type": "display_data"
    },
    {
     "name": "stdout",
     "output_type": "stream",
     "text": [
      "Average Metric: 2.00 / 2 (100.0%):  50%|█████     | 2/4 [00:01<00:01,  1.88it/s]"
     ]
    },
    {
     "data": {
      "text/markdown": [
       "**Validate()**\n",
       "\n",
       "**Example**: Example({'place_one': {'address': '789 Pine Rd, Capital City', 'name': 'Capital City Zoo'}, 'place_two': {'address': '101 Maple St, Capital City', 'name': 'Capital City Aquarium'}, 'is_match': False}) (input_keys={'place_two', 'place_one'})**Prediction**: Prediction(\n",
       "    is_match=False,\n",
       "    match_confidence='low',\n",
       "    rationale='The addresses are different (\"789 Pine Rd\" vs. \"101 Maple St\"), indicating the places are likely different. While both places are in \"Capital City,\" the distinct addresses outweigh any similarity in the city name. The names are also different (\"Zoo\" vs. \"Aquarium\"), further supporting the conclusion that they are not the same place.'\n",
       ")"
      ],
      "text/plain": [
       "<IPython.core.display.Markdown object>"
      ]
     },
     "metadata": {},
     "output_type": "display_data"
    },
    {
     "name": "stdout",
     "output_type": "stream",
     "text": [
      "Average Metric: 2.00 / 3 (66.7%):  75%|███████▌  | 3/4 [00:01<00:00,  2.07it/s] "
     ]
    },
    {
     "data": {
      "text/markdown": [
       "**Validate()**\n",
       "\n",
       "**Example**: Example({'place_one': {'address': '456 Oak Ave, Shelbyville', 'name': 'Shelbyville Museum'}, 'place_two': {'address': '456 Oak Avenue, Shelbyville', 'name': 'Shelbyville History Museum'}, 'is_match': True}) (input_keys={'place_two', 'place_one'})**Prediction**: Prediction(\n",
       "    is_match=True,\n",
       "    match_confidence='high',\n",
       "    rationale='The addresses are very similar (\"456 Oak Ave\" vs \"456 Oak Avenue\"). The names are also related (\"Shelbyville Museum\" vs \"Shelbyville History Museum\"), suggesting they refer to the same location. The slight difference in \"Ave\" vs \"Avenue\" is a common variation and doesn\\'t indicate a different place.'\n",
       ")"
      ],
      "text/plain": [
       "<IPython.core.display.Markdown object>"
      ]
     },
     "metadata": {},
     "output_type": "display_data"
    },
    {
     "name": "stdout",
     "output_type": "stream",
     "text": [
      "Average Metric: 3.00 / 4 (75.0%): 100%|██████████| 4/4 [00:01<00:00,  2.40it/s]"
     ]
    },
    {
     "name": "stderr",
     "output_type": "stream",
     "text": [
      "2025/08/19 18:33:37 INFO dspy.evaluate.evaluate: Average Metric: 3 / 4 (75.0%)\n",
      "2025/08/19 18:33:37 INFO dspy.teleprompt.mipro_optimizer_v2: Score: 75.0 with parameters ['Predictor 0: Instruction 2', 'Predictor 0: Few-Shot Set 0'].\n",
      "2025/08/19 18:33:37 INFO dspy.teleprompt.mipro_optimizer_v2: Scores so far: [75.0, 50.0, 75.0]\n",
      "2025/08/19 18:33:37 INFO dspy.teleprompt.mipro_optimizer_v2: Best score so far: 75.0\n",
      "2025/08/19 18:33:37 INFO dspy.teleprompt.mipro_optimizer_v2: ========================\n",
      "\n",
      "\n",
      "2025/08/19 18:33:37 INFO dspy.teleprompt.mipro_optimizer_v2: ===== Trial 4 / 10 =====\n"
     ]
    },
    {
     "name": "stdout",
     "output_type": "stream",
     "text": [
      "\n",
      "  0%|          | 0/4 [00:00<?, ?it/s]"
     ]
    },
    {
     "data": {
      "text/markdown": [
       "**Validate()**\n",
       "\n",
       "**Example**: Example({'place_one': {'address': '789 Pine Rd, Capital City', 'name': 'Capital City Zoo'}, 'place_two': {'address': '101 Maple St, Capital City', 'name': 'Capital City Aquarium'}, 'is_match': False}) (input_keys={'place_two', 'place_one'})**Prediction**: Prediction(\n",
       "    is_match=False,\n",
       "    match_confidence='low',\n",
       "    rationale='The addresses are different (789 Pine Rd vs. 101 Maple St) and the names are also different (Capital City Zoo vs. Capital City Aquarium). While both are located in Capital City, the distinct addresses and names strongly suggest they are not the same location.'\n",
       ")"
      ],
      "text/plain": [
       "<IPython.core.display.Markdown object>"
      ]
     },
     "metadata": {},
     "output_type": "display_data"
    },
    {
     "name": "stdout",
     "output_type": "stream",
     "text": [
      "Average Metric: 0.00 / 1 (0.0%):  25%|██▌       | 1/4 [00:01<00:03,  1.11s/it]"
     ]
    },
    {
     "data": {
      "text/markdown": [
       "**Validate()**\n",
       "\n",
       "**Example**: Example({'place_one': {'address': '456 Oak Ave, Shelbyville', 'name': 'Shelbyville Museum'}, 'place_two': {'address': '456 Oak Avenue, Shelbyville', 'name': 'Shelbyville History Museum'}, 'is_match': True}) (input_keys={'place_two', 'place_one'})**Prediction**: Prediction(\n",
       "    is_match=True,\n",
       "    match_confidence='high',\n",
       "    rationale='The addresses are nearly identical. \"Ave\" and \"Avenue\" are common abbreviations for the same thing. The names are also very similar, with \"Shelbyville Museum\" and \"Shelbyville History Museum\" likely referring to the same institution. The slight difference in name (\"History\" vs. no descriptor) doesn\\'t indicate a different location.'\n",
       ")"
      ],
      "text/plain": [
       "<IPython.core.display.Markdown object>"
      ]
     },
     "metadata": {},
     "output_type": "display_data"
    },
    {
     "name": "stdout",
     "output_type": "stream",
     "text": [
      "Average Metric: 0.00 / 2 (0.0%):  50%|█████     | 2/4 [00:01<00:01,  1.80it/s]"
     ]
    },
    {
     "data": {
      "text/markdown": [
       "**Validate()**\n",
       "\n",
       "**Example**: Example({'place_one': {'address': '303 Cedar Ln, North Haverbrook', 'name': 'North Haverbrook Gym'}, 'place_two': {'address': '404 Elm St, North Haverbrook', 'name': 'North Haverbrook Fitness Center'}, 'is_match': False}) (input_keys={'place_two', 'place_one'})**Prediction**: Prediction(\n",
       "    is_match=False,\n",
       "    match_confidence='low',\n",
       "    rationale='The addresses are different (\"303 Cedar Ln\" vs. \"404 Elm St\") and the names, while related (\"North Haverbrook Gym\" vs. \"North Haverbrook Fitness Center\"), suggest different establishments. While both are fitness-related and in the same town, the distinct addresses indicate they are not the same place.'\n",
       ")"
      ],
      "text/plain": [
       "<IPython.core.display.Markdown object>"
      ]
     },
     "metadata": {},
     "output_type": "display_data"
    },
    {
     "name": "stdout",
     "output_type": "stream",
     "text": [
      "Average Metric: 0.00 / 3 (0.0%):  75%|███████▌  | 3/4 [00:01<00:00,  1.76it/s]"
     ]
    },
    {
     "data": {
      "text/markdown": [
       "**Validate()**\n",
       "\n",
       "**Example**: Example({'place_one': {'address': '202 Birch Blvd, Ogdenville', 'name': 'Ogdenville Coffee House'}, 'place_two': {'address': '202 Birch Blvd, Ogdenville', 'name': 'Ogdenville Café'}, 'is_match': True}) (input_keys={'place_two', 'place_one'})**Prediction**: Prediction(\n",
       "    is_match=True,\n",
       "    match_confidence='medium',\n",
       "    rationale='The addresses are identical. While the names differ (\"Coffee House\" vs. \"Café\"), these are often used interchangeably to describe similar types of establishments. The shared address strongly suggests they are the same location. A higher confidence would require additional information (e.g., phone number verification).'\n",
       ")"
      ],
      "text/plain": [
       "<IPython.core.display.Markdown object>"
      ]
     },
     "metadata": {},
     "output_type": "display_data"
    },
    {
     "name": "stdout",
     "output_type": "stream",
     "text": [
      "Average Metric: 1.00 / 4 (25.0%): 100%|██████████| 4/4 [00:02<00:00,  1.43it/s]"
     ]
    },
    {
     "name": "stderr",
     "output_type": "stream",
     "text": [
      "2025/08/19 18:33:40 INFO dspy.evaluate.evaluate: Average Metric: 1 / 4 (25.0%)\n",
      "2025/08/19 18:33:40 INFO dspy.teleprompt.mipro_optimizer_v2: Score: 25.0 with parameters ['Predictor 0: Instruction 1', 'Predictor 0: Few-Shot Set 5'].\n",
      "2025/08/19 18:33:40 INFO dspy.teleprompt.mipro_optimizer_v2: Scores so far: [75.0, 50.0, 75.0, 25.0]\n",
      "2025/08/19 18:33:40 INFO dspy.teleprompt.mipro_optimizer_v2: Best score so far: 75.0\n",
      "2025/08/19 18:33:40 INFO dspy.teleprompt.mipro_optimizer_v2: ========================\n",
      "\n",
      "\n",
      "2025/08/19 18:33:40 INFO dspy.teleprompt.mipro_optimizer_v2: ===== Trial 5 / 10 =====\n"
     ]
    },
    {
     "name": "stdout",
     "output_type": "stream",
     "text": [
      "\n",
      "  0%|          | 0/4 [00:00<?, ?it/s]"
     ]
    },
    {
     "data": {
      "text/markdown": [
       "**Validate()**\n",
       "\n",
       "**Example**: Example({'place_one': {'address': '789 Pine Rd, Capital City', 'name': 'Capital City Zoo'}, 'place_two': {'address': '101 Maple St, Capital City', 'name': 'Capital City Aquarium'}, 'is_match': False}) (input_keys={'place_two', 'place_one'})**Prediction**: Prediction(\n",
       "    is_match=False,\n",
       "    match_confidence='low',\n",
       "    rationale='The addresses are different (\"789 Pine Rd\" vs. \"101 Maple St\"), indicating the places are likely different. While both names contain \"Capital City,\" the place types (Zoo vs. Aquarium) further suggest they are not the same location.'\n",
       ")"
      ],
      "text/plain": [
       "<IPython.core.display.Markdown object>"
      ]
     },
     "metadata": {},
     "output_type": "display_data"
    },
    {
     "name": "stdout",
     "output_type": "stream",
     "text": [
      "Average Metric: 0.00 / 1 (0.0%):  25%|██▌       | 1/4 [00:01<00:03,  1.16s/it]"
     ]
    },
    {
     "data": {
      "text/markdown": [
       "**Validate()**\n",
       "\n",
       "**Example**: Example({'place_one': {'address': '202 Birch Blvd, Ogdenville', 'name': 'Ogdenville Coffee House'}, 'place_two': {'address': '202 Birch Blvd, Ogdenville', 'name': 'Ogdenville Café'}, 'is_match': True}) (input_keys={'place_two', 'place_one'})**Prediction**: Prediction(\n",
       "    is_match=True,\n",
       "    match_confidence='medium',\n",
       "    rationale='The addresses are identical. While the names differ (\"Coffee House\" vs. \"Café\"), these are often used interchangeably for similar types of establishments. Therefore, it\\'s likely they refer to the same place, but with a moderate level of confidence.'\n",
       ")"
      ],
      "text/plain": [
       "<IPython.core.display.Markdown object>"
      ]
     },
     "metadata": {},
     "output_type": "display_data"
    },
    {
     "name": "stdout",
     "output_type": "stream",
     "text": [
      "Average Metric: 1.00 / 2 (50.0%):  25%|██▌       | 1/4 [00:01<00:03,  1.16s/it]"
     ]
    },
    {
     "data": {
      "text/markdown": [
       "**Validate()**\n",
       "\n",
       "**Example**: Example({'place_one': {'address': '303 Cedar Ln, North Haverbrook', 'name': 'North Haverbrook Gym'}, 'place_two': {'address': '404 Elm St, North Haverbrook', 'name': 'North Haverbrook Fitness Center'}, 'is_match': False}) (input_keys={'place_two', 'place_one'})**Prediction**: Prediction(\n",
       "    is_match=False,\n",
       "    match_confidence='low',\n",
       "    rationale='The addresses are different. Place one is located on Cedar Ln, while place two is on Elm St. Although both are in North Haverbrook, the different street addresses indicate they are likely different locations. The names are also different, further supporting this conclusion.'\n",
       ")"
      ],
      "text/plain": [
       "<IPython.core.display.Markdown object>"
      ]
     },
     "metadata": {},
     "output_type": "display_data"
    },
    {
     "data": {
      "text/markdown": [
       "**Validate()**\n",
       "\n",
       "**Example**: Example({'place_one': {'address': '456 Oak Ave, Shelbyville', 'name': 'Shelbyville Museum'}, 'place_two': {'address': '456 Oak Avenue, Shelbyville', 'name': 'Shelbyville History Museum'}, 'is_match': True}) (input_keys={'place_two', 'place_one'})**Prediction**: Prediction(\n",
       "    is_match=True,\n",
       "    match_confidence='high',\n",
       "    rationale='The addresses are very similar, with \"Ave\" and \"Avenue\" being common abbreviations. The names are also closely related, with \"Museum\" and \"History Museum\" indicating a similar type of institution. Therefore, it\\'s highly likely these are the same place.'\n",
       ")"
      ],
      "text/plain": [
       "<IPython.core.display.Markdown object>"
      ]
     },
     "metadata": {},
     "output_type": "display_data"
    },
    {
     "name": "stdout",
     "output_type": "stream",
     "text": [
      "Average Metric: 2.00 / 4 (50.0%): 100%|██████████| 4/4 [00:01<00:00,  2.80it/s]"
     ]
    },
    {
     "name": "stderr",
     "output_type": "stream",
     "text": [
      "2025/08/19 18:33:41 INFO dspy.evaluate.evaluate: Average Metric: 2 / 4 (50.0%)\n",
      "2025/08/19 18:33:41 INFO dspy.teleprompt.mipro_optimizer_v2: Score: 50.0 with parameters ['Predictor 0: Instruction 2', 'Predictor 0: Few-Shot Set 2'].\n",
      "2025/08/19 18:33:41 INFO dspy.teleprompt.mipro_optimizer_v2: Scores so far: [75.0, 50.0, 75.0, 25.0, 50.0]\n",
      "2025/08/19 18:33:41 INFO dspy.teleprompt.mipro_optimizer_v2: Best score so far: 75.0\n",
      "2025/08/19 18:33:41 INFO dspy.teleprompt.mipro_optimizer_v2: ========================\n",
      "\n",
      "\n",
      "2025/08/19 18:33:41 INFO dspy.teleprompt.mipro_optimizer_v2: ===== Trial 6 / 10 =====\n"
     ]
    },
    {
     "name": "stdout",
     "output_type": "stream",
     "text": [
      "\n",
      "  0%|          | 0/4 [00:00<?, ?it/s]"
     ]
    },
    {
     "data": {
      "text/markdown": [
       "**Validate()**\n",
       "\n",
       "**Example**: Example({'place_one': {'address': '202 Birch Blvd, Ogdenville', 'name': 'Ogdenville Coffee House'}, 'place_two': {'address': '202 Birch Blvd, Ogdenville', 'name': 'Ogdenville Café'}, 'is_match': True}) (input_keys={'place_two', 'place_one'})**Prediction**: Prediction(\n",
       "    is_match=True,\n",
       "    match_confidence='medium',\n",
       "    rationale='Both places share the same address (\"202 Birch Blvd, Ogdenville\"). While the names differ (\"Coffee House\" vs. \"Café\"), they both describe similar types of establishments (coffee/café). This suggests a likely match, but with moderate confidence due to the name difference.'\n",
       ")"
      ],
      "text/plain": [
       "<IPython.core.display.Markdown object>"
      ]
     },
     "metadata": {},
     "output_type": "display_data"
    },
    {
     "name": "stdout",
     "output_type": "stream",
     "text": [
      "Average Metric: 0.00 / 1 (0.0%):  25%|██▌       | 1/4 [00:01<00:03,  1.11s/it]"
     ]
    },
    {
     "data": {
      "text/markdown": [
       "**Validate()**\n",
       "\n",
       "**Example**: Example({'place_one': {'address': '303 Cedar Ln, North Haverbrook', 'name': 'North Haverbrook Gym'}, 'place_two': {'address': '404 Elm St, North Haverbrook', 'name': 'North Haverbrook Fitness Center'}, 'is_match': False}) (input_keys={'place_two', 'place_one'})**Prediction**: Prediction(\n",
       "    is_match=False,\n",
       "    match_confidence='low',\n",
       "    rationale='The names of the places are different (\"North Haverbrook Gym\" vs. \"North Haverbrook Fitness Center\"), and while both are in North Haverbrook, their addresses are different (Cedar Ln vs. Elm St). This suggests they are not the same place.'\n",
       ")"
      ],
      "text/plain": [
       "<IPython.core.display.Markdown object>"
      ]
     },
     "metadata": {},
     "output_type": "display_data"
    },
    {
     "name": "stdout",
     "output_type": "stream",
     "text": [
      "Average Metric: 1.00 / 2 (50.0%):  25%|██▌       | 1/4 [00:01<00:03,  1.11s/it]"
     ]
    },
    {
     "data": {
      "text/markdown": [
       "**Validate()**\n",
       "\n",
       "**Example**: Example({'place_one': {'address': '789 Pine Rd, Capital City', 'name': 'Capital City Zoo'}, 'place_two': {'address': '101 Maple St, Capital City', 'name': 'Capital City Aquarium'}, 'is_match': False}) (input_keys={'place_two', 'place_one'})**Prediction**: Prediction(\n",
       "    is_match=False,\n",
       "    match_confidence='low',\n",
       "    rationale='The places have the same city (\"Capital City\") but different names (\"Capital City Zoo\" vs. \"Capital City Aquarium\") and different addresses (\"789 Pine Rd\" vs. \"101 Maple St\"). This suggests they are distinct locations.'\n",
       ")"
      ],
      "text/plain": [
       "<IPython.core.display.Markdown object>"
      ]
     },
     "metadata": {},
     "output_type": "display_data"
    },
    {
     "name": "stdout",
     "output_type": "stream",
     "text": [
      "Average Metric: 1.00 / 3 (33.3%):  50%|█████     | 2/4 [00:01<00:02,  1.11s/it]"
     ]
    },
    {
     "data": {
      "text/markdown": [
       "**Validate()**\n",
       "\n",
       "**Example**: Example({'place_one': {'address': '456 Oak Ave, Shelbyville', 'name': 'Shelbyville Museum'}, 'place_two': {'address': '456 Oak Avenue, Shelbyville', 'name': 'Shelbyville History Museum'}, 'is_match': True}) (input_keys={'place_two', 'place_one'})**Prediction**: Prediction(\n",
       "    is_match=True,\n",
       "    match_confidence='high',\n",
       "    rationale='The addresses are identical except for \"Ave\" vs \"Avenue\", which are common abbreviations. The names are very similar, with \"Museum\" and \"History Museum\" being closely related. Both places are in Shelbyville.'\n",
       ")"
      ],
      "text/plain": [
       "<IPython.core.display.Markdown object>"
      ]
     },
     "metadata": {},
     "output_type": "display_data"
    },
    {
     "name": "stdout",
     "output_type": "stream",
     "text": [
      "Average Metric: 1.00 / 4 (25.0%): 100%|██████████| 4/4 [00:01<00:00,  3.24it/s]"
     ]
    },
    {
     "name": "stderr",
     "output_type": "stream",
     "text": [
      "2025/08/19 18:33:43 INFO dspy.evaluate.evaluate: Average Metric: 1 / 4 (25.0%)\n",
      "2025/08/19 18:33:43 INFO dspy.teleprompt.mipro_optimizer_v2: Score: 25.0 with parameters ['Predictor 0: Instruction 0', 'Predictor 0: Few-Shot Set 5'].\n",
      "2025/08/19 18:33:43 INFO dspy.teleprompt.mipro_optimizer_v2: Scores so far: [75.0, 50.0, 75.0, 25.0, 50.0, 25.0]\n",
      "2025/08/19 18:33:43 INFO dspy.teleprompt.mipro_optimizer_v2: Best score so far: 75.0\n",
      "2025/08/19 18:33:43 INFO dspy.teleprompt.mipro_optimizer_v2: ========================\n",
      "\n",
      "\n",
      "2025/08/19 18:33:43 INFO dspy.teleprompt.mipro_optimizer_v2: ===== Trial 7 / 10 =====\n"
     ]
    },
    {
     "name": "stdout",
     "output_type": "stream",
     "text": [
      "\n",
      "  0%|          | 0/4 [00:00<?, ?it/s]"
     ]
    },
    {
     "data": {
      "text/markdown": [
       "**Validate()**\n",
       "\n",
       "**Example**: Example({'place_one': {'address': '202 Birch Blvd, Ogdenville', 'name': 'Ogdenville Coffee House'}, 'place_two': {'address': '202 Birch Blvd, Ogdenville', 'name': 'Ogdenville Café'}, 'is_match': True}) (input_keys={'place_two', 'place_one'})**Prediction**: Prediction(\n",
       "    is_match=True,\n",
       "    match_confidence='high',\n",
       "    rationale='The addresses are identical (\"202 Birch Blvd, Ogdenville\"). While the names differ slightly (\"Coffee House\" vs. \"Café\"), this is a common variation and doesn\\'t indicate different locations. Therefore, they likely refer to the same place.'\n",
       ")"
      ],
      "text/plain": [
       "<IPython.core.display.Markdown object>"
      ]
     },
     "metadata": {},
     "output_type": "display_data"
    },
    {
     "name": "stdout",
     "output_type": "stream",
     "text": [
      "Average Metric: 1.00 / 1 (100.0%):  25%|██▌       | 1/4 [00:01<00:03,  1.03s/it]"
     ]
    },
    {
     "data": {
      "text/markdown": [
       "**Validate()**\n",
       "\n",
       "**Example**: Example({'place_one': {'address': '303 Cedar Ln, North Haverbrook', 'name': 'North Haverbrook Gym'}, 'place_two': {'address': '404 Elm St, North Haverbrook', 'name': 'North Haverbrook Fitness Center'}, 'is_match': False}) (input_keys={'place_two', 'place_one'})**Prediction**: Prediction(\n",
       "    is_match=False,\n",
       "    match_confidence='low',\n",
       "    rationale='The addresses are different. Place one is located on Cedar Ln, while place two is on Elm St. Although both are in North Haverbrook, the different street addresses indicate they are not the same location. The names are also different, further supporting this conclusion.'\n",
       ")"
      ],
      "text/plain": [
       "<IPython.core.display.Markdown object>"
      ]
     },
     "metadata": {},
     "output_type": "display_data"
    },
    {
     "name": "stdout",
     "output_type": "stream",
     "text": [
      "Average Metric: 2.00 / 2 (100.0%):  50%|█████     | 2/4 [00:02<00:02,  1.35s/it]"
     ]
    },
    {
     "data": {
      "text/markdown": [
       "**Validate()**\n",
       "\n",
       "**Example**: Example({'place_one': {'address': '789 Pine Rd, Capital City', 'name': 'Capital City Zoo'}, 'place_two': {'address': '101 Maple St, Capital City', 'name': 'Capital City Aquarium'}, 'is_match': False}) (input_keys={'place_two', 'place_one'})**Prediction**: Prediction(\n",
       "    is_match=False,\n",
       "    match_confidence='low',\n",
       "    rationale='The addresses are different (\"789 Pine Rd\" vs. \"101 Maple St\"), indicating the places are likely different. While both places are in \"Capital City,\" the distinct addresses outweigh any similarity in the city name. The names are also different (\"Zoo\" vs. \"Aquarium\"), further supporting the conclusion that they are not the same place.'\n",
       ")"
      ],
      "text/plain": [
       "<IPython.core.display.Markdown object>"
      ]
     },
     "metadata": {},
     "output_type": "display_data"
    },
    {
     "name": "stdout",
     "output_type": "stream",
     "text": [
      "Average Metric: 3.00 / 3 (100.0%):  75%|███████▌  | 3/4 [00:02<00:00,  1.24it/s]"
     ]
    },
    {
     "data": {
      "text/markdown": [
       "**Validate()**\n",
       "\n",
       "**Example**: Example({'place_one': {'address': '456 Oak Ave, Shelbyville', 'name': 'Shelbyville Museum'}, 'place_two': {'address': '456 Oak Avenue, Shelbyville', 'name': 'Shelbyville History Museum'}, 'is_match': True}) (input_keys={'place_two', 'place_one'})**Prediction**: Prediction(\n",
       "    is_match=True,\n",
       "    match_confidence='high',\n",
       "    rationale='The addresses are very similar (\"456 Oak Ave\" vs \"456 Oak Avenue\"). The names are also related (\"Shelbyville Museum\" vs \"Shelbyville History Museum\"), suggesting they refer to the same location. The slight difference in \"Ave\" vs \"Avenue\" is a common variation and doesn\\'t indicate a different place.'\n",
       ")"
      ],
      "text/plain": [
       "<IPython.core.display.Markdown object>"
      ]
     },
     "metadata": {},
     "output_type": "display_data"
    },
    {
     "name": "stdout",
     "output_type": "stream",
     "text": [
      "Average Metric: 4.00 / 4 (100.0%): 100%|██████████| 4/4 [00:02<00:00,  1.43it/s]"
     ]
    },
    {
     "name": "stderr",
     "output_type": "stream",
     "text": [
      "2025/08/19 18:33:45 INFO dspy.evaluate.evaluate: Average Metric: 4 / 4 (100.0%)\n",
      "2025/08/19 18:33:45 INFO dspy.teleprompt.mipro_optimizer_v2: \u001b[92mBest full score so far!\u001b[0m Score: 100.0\n",
      "2025/08/19 18:33:45 INFO dspy.teleprompt.mipro_optimizer_v2: Score: 100.0 with parameters ['Predictor 0: Instruction 2', 'Predictor 0: Few-Shot Set 0'].\n",
      "2025/08/19 18:33:45 INFO dspy.teleprompt.mipro_optimizer_v2: Scores so far: [75.0, 50.0, 75.0, 25.0, 50.0, 25.0, 100.0]\n",
      "2025/08/19 18:33:45 INFO dspy.teleprompt.mipro_optimizer_v2: Best score so far: 100.0\n",
      "2025/08/19 18:33:45 INFO dspy.teleprompt.mipro_optimizer_v2: ========================\n",
      "\n",
      "\n",
      "2025/08/19 18:33:45 INFO dspy.teleprompt.mipro_optimizer_v2: ===== Trial 8 / 10 =====\n"
     ]
    },
    {
     "name": "stdout",
     "output_type": "stream",
     "text": [
      "\n",
      "  0%|          | 0/4 [00:00<?, ?it/s]"
     ]
    },
    {
     "data": {
      "text/markdown": [
       "**Validate()**\n",
       "\n",
       "**Example**: Example({'place_one': {'address': '456 Oak Ave, Shelbyville', 'name': 'Shelbyville Museum'}, 'place_two': {'address': '456 Oak Avenue, Shelbyville', 'name': 'Shelbyville History Museum'}, 'is_match': True}) (input_keys={'place_two', 'place_one'})**Prediction**: Prediction(\n",
       "    is_match=True,\n",
       "    match_confidence='high',\n",
       "    rationale='The addresses are very similar, with \"Ave\" and \"Avenue\" being common abbreviations. The names are also closely related, with \"Museum\" and \"History Museum\" indicating a similar type of institution. Therefore, it\\'s highly likely these are the same place.'\n",
       ")"
      ],
      "text/plain": [
       "<IPython.core.display.Markdown object>"
      ]
     },
     "metadata": {},
     "output_type": "display_data"
    },
    {
     "name": "stdout",
     "output_type": "stream",
     "text": [
      "Average Metric: 0.00 / 1 (0.0%):  25%|██▌       | 1/4 [00:01<00:03,  1.24s/it]"
     ]
    },
    {
     "data": {
      "text/markdown": [
       "**Validate()**\n",
       "\n",
       "**Example**: Example({'place_one': {'address': '303 Cedar Ln, North Haverbrook', 'name': 'North Haverbrook Gym'}, 'place_two': {'address': '404 Elm St, North Haverbrook', 'name': 'North Haverbrook Fitness Center'}, 'is_match': False}) (input_keys={'place_two', 'place_one'})**Prediction**: Prediction(\n",
       "    is_match=False,\n",
       "    match_confidence='low',\n",
       "    rationale='The addresses are different. Place one is located on Cedar Ln, while place two is on Elm St. Although both are in North Haverbrook, the different street addresses indicate they are likely different locations. The names are also different, further supporting this conclusion.'\n",
       ")"
      ],
      "text/plain": [
       "<IPython.core.display.Markdown object>"
      ]
     },
     "metadata": {},
     "output_type": "display_data"
    },
    {
     "name": "stdout",
     "output_type": "stream",
     "text": [
      "Average Metric: 1.00 / 2 (50.0%):  25%|██▌       | 1/4 [00:01<00:03,  1.24s/it]"
     ]
    },
    {
     "data": {
      "text/markdown": [
       "**Validate()**\n",
       "\n",
       "**Example**: Example({'place_one': {'address': '789 Pine Rd, Capital City', 'name': 'Capital City Zoo'}, 'place_two': {'address': '101 Maple St, Capital City', 'name': 'Capital City Aquarium'}, 'is_match': False}) (input_keys={'place_two', 'place_one'})**Prediction**: Prediction(\n",
       "    is_match=False,\n",
       "    match_confidence='low',\n",
       "    rationale='The addresses are different (\"789 Pine Rd\" vs \"101 Maple St\"), indicating the places are likely different. While both names contain \"Capital City\", the types of establishments (Zoo vs Aquarium) further suggest they are not the same place.'\n",
       ")"
      ],
      "text/plain": [
       "<IPython.core.display.Markdown object>"
      ]
     },
     "metadata": {},
     "output_type": "display_data"
    },
    {
     "name": "stdout",
     "output_type": "stream",
     "text": [
      "Average Metric: 2.00 / 3 (66.7%):  75%|███████▌  | 3/4 [00:01<00:00,  2.56it/s]"
     ]
    },
    {
     "data": {
      "text/markdown": [
       "**Validate()**\n",
       "\n",
       "**Example**: Example({'place_one': {'address': '202 Birch Blvd, Ogdenville', 'name': 'Ogdenville Coffee House'}, 'place_two': {'address': '202 Birch Blvd, Ogdenville', 'name': 'Ogdenville Café'}, 'is_match': True}) (input_keys={'place_two', 'place_one'})**Prediction**: Prediction(\n",
       "    is_match=True,\n",
       "    match_confidence='medium',\n",
       "    rationale='The addresses are identical. While the names differ (\"Coffee House\" vs. \"Café\"), these are often used interchangeably for similar businesses. The address match strongly suggests they are the same place.'\n",
       ")"
      ],
      "text/plain": [
       "<IPython.core.display.Markdown object>"
      ]
     },
     "metadata": {},
     "output_type": "display_data"
    },
    {
     "name": "stdout",
     "output_type": "stream",
     "text": [
      "Average Metric: 2.00 / 4 (50.0%): 100%|██████████| 4/4 [00:04<00:00,  1.17s/it]"
     ]
    },
    {
     "name": "stderr",
     "output_type": "stream",
     "text": [
      "2025/08/19 18:33:50 INFO dspy.evaluate.evaluate: Average Metric: 2 / 4 (50.0%)\n",
      "2025/08/19 18:33:50 INFO dspy.teleprompt.mipro_optimizer_v2: Score: 50.0 with parameters ['Predictor 0: Instruction 2', 'Predictor 0: Few-Shot Set 5'].\n",
      "2025/08/19 18:33:50 INFO dspy.teleprompt.mipro_optimizer_v2: Scores so far: [75.0, 50.0, 75.0, 25.0, 50.0, 25.0, 100.0, 50.0]\n",
      "2025/08/19 18:33:50 INFO dspy.teleprompt.mipro_optimizer_v2: Best score so far: 100.0\n",
      "2025/08/19 18:33:50 INFO dspy.teleprompt.mipro_optimizer_v2: ========================\n",
      "\n",
      "\n",
      "2025/08/19 18:33:50 INFO dspy.teleprompt.mipro_optimizer_v2: ===== Trial 9 / 10 =====\n"
     ]
    },
    {
     "name": "stdout",
     "output_type": "stream",
     "text": [
      "\n",
      "  0%|          | 0/4 [00:00<?, ?it/s]"
     ]
    },
    {
     "data": {
      "text/markdown": [
       "**Validate()**\n",
       "\n",
       "**Example**: Example({'place_one': {'address': '789 Pine Rd, Capital City', 'name': 'Capital City Zoo'}, 'place_two': {'address': '101 Maple St, Capital City', 'name': 'Capital City Aquarium'}, 'is_match': False}) (input_keys={'place_two', 'place_one'})**Prediction**: Prediction(\n",
       "    is_match=False,\n",
       "    match_confidence='high',\n",
       "    rationale='The addresses are different (\"789 Pine Rd\" vs. \"101 Maple St\") and the names are also different (\"Capital City Zoo\" vs. \"Capital City Aquarium\"). These differences indicate that the two places are not the same.'\n",
       ")"
      ],
      "text/plain": [
       "<IPython.core.display.Markdown object>"
      ]
     },
     "metadata": {},
     "output_type": "display_data"
    },
    {
     "name": "stdout",
     "output_type": "stream",
     "text": [
      "Average Metric: 1.00 / 1 (100.0%):  25%|██▌       | 1/4 [00:01<00:03,  1.17s/it]"
     ]
    },
    {
     "data": {
      "text/markdown": [
       "**Validate()**\n",
       "\n",
       "**Example**: Example({'place_one': {'address': '456 Oak Ave, Shelbyville', 'name': 'Shelbyville Museum'}, 'place_two': {'address': '456 Oak Avenue, Shelbyville', 'name': 'Shelbyville History Museum'}, 'is_match': True}) (input_keys={'place_two', 'place_one'})**Prediction**: Prediction(\n",
       "    is_match=True,\n",
       "    match_confidence='high',\n",
       "    rationale='The addresses are very similar. \"Oak Ave\" and \"Oak Avenue\" are common variations of the same street name. The names, \"Shelbyville Museum\" and \"Shelbyville History Museum,\" also suggest the same institution, with \"History Museum\" being a more descriptive title. The high degree of similarity in both address and name indicates a match.'\n",
       ")"
      ],
      "text/plain": [
       "<IPython.core.display.Markdown object>"
      ]
     },
     "metadata": {},
     "output_type": "display_data"
    },
    {
     "name": "stdout",
     "output_type": "stream",
     "text": [
      "Average Metric: 2.00 / 2 (100.0%):  50%|█████     | 2/4 [00:01<00:01,  1.62it/s]"
     ]
    },
    {
     "data": {
      "text/markdown": [
       "**Validate()**\n",
       "\n",
       "**Example**: Example({'place_one': {'address': '303 Cedar Ln, North Haverbrook', 'name': 'North Haverbrook Gym'}, 'place_two': {'address': '404 Elm St, North Haverbrook', 'name': 'North Haverbrook Fitness Center'}, 'is_match': False}) (input_keys={'place_two', 'place_one'})**Prediction**: Prediction(\n",
       "    is_match=False,\n",
       "    match_confidence='low',\n",
       "    rationale='The addresses are different (\"303 Cedar Ln\" vs. \"404 Elm St\") and the names are also distinct (\"North Haverbrook Gym\" vs. \"North Haverbrook Fitness Center\"). While both are fitness-related businesses in the same town, the differing addresses indicate they are likely different locations. The low confidence reflects the possibility of a typo in one of the addresses, but the difference is significant enough to classify them as separate places.'\n",
       ")"
      ],
      "text/plain": [
       "<IPython.core.display.Markdown object>"
      ]
     },
     "metadata": {},
     "output_type": "display_data"
    },
    {
     "name": "stdout",
     "output_type": "stream",
     "text": [
      "Average Metric: 3.00 / 3 (100.0%):  50%|█████     | 2/4 [00:01<00:01,  1.62it/s]"
     ]
    },
    {
     "data": {
      "text/markdown": [
       "**Validate()**\n",
       "\n",
       "**Example**: Example({'place_one': {'address': '202 Birch Blvd, Ogdenville', 'name': 'Ogdenville Coffee House'}, 'place_two': {'address': '202 Birch Blvd, Ogdenville', 'name': 'Ogdenville Café'}, 'is_match': True}) (input_keys={'place_two', 'place_one'})**Prediction**: Prediction(\n",
       "    is_match=True,\n",
       "    match_confidence='medium',\n",
       "    rationale='The addresses are identical (\"202 Birch Blvd, Ogdenville\"). The names differ (\"Ogdenville Coffee House\" vs. \"Ogdenville Café\"), but \"coffee house\" and \"café\" are very similar business types and often used interchangeably. Therefore, it\\'s likely they are the same place, but the name difference warrants a medium confidence level.'\n",
       ")"
      ],
      "text/plain": [
       "<IPython.core.display.Markdown object>"
      ]
     },
     "metadata": {},
     "output_type": "display_data"
    },
    {
     "name": "stdout",
     "output_type": "stream",
     "text": [
      "Average Metric: 3.00 / 4 (75.0%): 100%|██████████| 4/4 [00:01<00:00,  2.79it/s] "
     ]
    },
    {
     "name": "stderr",
     "output_type": "stream",
     "text": [
      "2025/08/19 18:33:52 INFO dspy.evaluate.evaluate: Average Metric: 3 / 4 (75.0%)\n",
      "2025/08/19 18:33:52 INFO dspy.teleprompt.mipro_optimizer_v2: Score: 75.0 with parameters ['Predictor 0: Instruction 1', 'Predictor 0: Few-Shot Set 4'].\n",
      "2025/08/19 18:33:52 INFO dspy.teleprompt.mipro_optimizer_v2: Scores so far: [75.0, 50.0, 75.0, 25.0, 50.0, 25.0, 100.0, 50.0, 75.0]\n",
      "2025/08/19 18:33:52 INFO dspy.teleprompt.mipro_optimizer_v2: Best score so far: 100.0\n",
      "2025/08/19 18:33:52 INFO dspy.teleprompt.mipro_optimizer_v2: ========================\n",
      "\n",
      "\n",
      "2025/08/19 18:33:52 INFO dspy.teleprompt.mipro_optimizer_v2: ===== Trial 10 / 10 =====\n"
     ]
    },
    {
     "name": "stdout",
     "output_type": "stream",
     "text": [
      "\n",
      "  0%|          | 0/4 [00:00<?, ?it/s]"
     ]
    },
    {
     "data": {
      "text/markdown": [
       "**Validate()**\n",
       "\n",
       "**Example**: Example({'place_one': {'address': '789 Pine Rd, Capital City', 'name': 'Capital City Zoo'}, 'place_two': {'address': '101 Maple St, Capital City', 'name': 'Capital City Aquarium'}, 'is_match': False}) (input_keys={'place_two', 'place_one'})**Prediction**: Prediction(\n",
       "    is_match=False,\n",
       "    match_confidence='low',\n",
       "    rationale='The addresses are different (\"789 Pine Rd\" vs. \"101 Maple St\"), indicating the places are likely different. While both names contain \"Capital City,\" the place types (Zoo vs. Aquarium) further suggest they are not the same location.'\n",
       ")"
      ],
      "text/plain": [
       "<IPython.core.display.Markdown object>"
      ]
     },
     "metadata": {},
     "output_type": "display_data"
    },
    {
     "name": "stdout",
     "output_type": "stream",
     "text": [
      "Average Metric: 1.00 / 1 (100.0%):  25%|██▌       | 1/4 [00:01<00:03,  1.04s/it]"
     ]
    },
    {
     "data": {
      "text/markdown": [
       "**Validate()**\n",
       "\n",
       "**Example**: Example({'place_one': {'address': '202 Birch Blvd, Ogdenville', 'name': 'Ogdenville Coffee House'}, 'place_two': {'address': '202 Birch Blvd, Ogdenville', 'name': 'Ogdenville Café'}, 'is_match': True}) (input_keys={'place_two', 'place_one'})**Prediction**: Prediction(\n",
       "    is_match=True,\n",
       "    match_confidence='medium',\n",
       "    rationale='The addresses are identical. While the names differ (\"Coffee House\" vs. \"Café\"), these are often used interchangeably for similar types of establishments. Therefore, it\\'s likely they refer to the same place, but with a moderate level of confidence.'\n",
       ")"
      ],
      "text/plain": [
       "<IPython.core.display.Markdown object>"
      ]
     },
     "metadata": {},
     "output_type": "display_data"
    },
    {
     "name": "stdout",
     "output_type": "stream",
     "text": [
      "Average Metric: 1.00 / 2 (50.0%):  25%|██▌       | 1/4 [00:01<00:03,  1.04s/it] "
     ]
    },
    {
     "data": {
      "text/markdown": [
       "**Validate()**\n",
       "\n",
       "**Example**: Example({'place_one': {'address': '456 Oak Ave, Shelbyville', 'name': 'Shelbyville Museum'}, 'place_two': {'address': '456 Oak Avenue, Shelbyville', 'name': 'Shelbyville History Museum'}, 'is_match': True}) (input_keys={'place_two', 'place_one'})**Prediction**: Prediction(\n",
       "    is_match=True,\n",
       "    match_confidence='high',\n",
       "    rationale='The addresses are very similar, with \"Ave\" and \"Avenue\" being common abbreviations. The names are also closely related, with \"Museum\" and \"History Museum\" indicating a similar type of institution. Therefore, it\\'s highly likely these are the same place.'\n",
       ")"
      ],
      "text/plain": [
       "<IPython.core.display.Markdown object>"
      ]
     },
     "metadata": {},
     "output_type": "display_data"
    },
    {
     "name": "stdout",
     "output_type": "stream",
     "text": [
      "Average Metric: 2.00 / 3 (66.7%):  50%|█████     | 2/4 [00:01<00:02,  1.04s/it]"
     ]
    },
    {
     "data": {
      "text/markdown": [
       "**Validate()**\n",
       "\n",
       "**Example**: Example({'place_one': {'address': '303 Cedar Ln, North Haverbrook', 'name': 'North Haverbrook Gym'}, 'place_two': {'address': '404 Elm St, North Haverbrook', 'name': 'North Haverbrook Fitness Center'}, 'is_match': False}) (input_keys={'place_two', 'place_one'})**Prediction**: Prediction(\n",
       "    is_match=False,\n",
       "    match_confidence='low',\n",
       "    rationale='The addresses are different. Place one is located on Cedar Ln, while place two is on Elm St. Although both are in North Haverbrook, the different street addresses indicate they are likely different locations. The names are also different, further supporting this conclusion.'\n",
       ")"
      ],
      "text/plain": [
       "<IPython.core.display.Markdown object>"
      ]
     },
     "metadata": {},
     "output_type": "display_data"
    },
    {
     "name": "stdout",
     "output_type": "stream",
     "text": [
      "Average Metric: 3.00 / 4 (75.0%): 100%|██████████| 4/4 [00:01<00:00,  3.31it/s]"
     ]
    },
    {
     "name": "stderr",
     "output_type": "stream",
     "text": [
      "2025/08/19 18:33:53 INFO dspy.evaluate.evaluate: Average Metric: 3 / 4 (75.0%)\n",
      "2025/08/19 18:33:53 INFO dspy.teleprompt.mipro_optimizer_v2: Score: 75.0 with parameters ['Predictor 0: Instruction 2', 'Predictor 0: Few-Shot Set 5'].\n",
      "2025/08/19 18:33:53 INFO dspy.teleprompt.mipro_optimizer_v2: Scores so far: [75.0, 50.0, 75.0, 25.0, 50.0, 25.0, 100.0, 50.0, 75.0, 75.0]\n",
      "2025/08/19 18:33:53 INFO dspy.teleprompt.mipro_optimizer_v2: Best score so far: 100.0\n",
      "2025/08/19 18:33:53 INFO dspy.teleprompt.mipro_optimizer_v2: =========================\n",
      "\n",
      "\n",
      "2025/08/19 18:33:53 INFO dspy.teleprompt.mipro_optimizer_v2: ===== Trial 11 / 10 =====\n"
     ]
    },
    {
     "name": "stdout",
     "output_type": "stream",
     "text": [
      "\n",
      "  0%|          | 0/4 [00:00<?, ?it/s]"
     ]
    },
    {
     "data": {
      "text/markdown": [
       "**Validate()**\n",
       "\n",
       "**Example**: Example({'place_one': {'address': '789 Pine Rd, Capital City', 'name': 'Capital City Zoo'}, 'place_two': {'address': '101 Maple St, Capital City', 'name': 'Capital City Aquarium'}, 'is_match': False}) (input_keys={'place_two', 'place_one'})**Prediction**: Prediction(\n",
       "    is_match=False,\n",
       "    match_confidence='low',\n",
       "    rationale='The addresses are different (\"789 Pine Rd\" vs. \"101 Maple St\"), indicating the places are likely distinct. While both names contain \"Capital City,\" the place types (Zoo vs. Aquarium) further suggest they are not the same location.'\n",
       ")"
      ],
      "text/plain": [
       "<IPython.core.display.Markdown object>"
      ]
     },
     "metadata": {},
     "output_type": "display_data"
    },
    {
     "name": "stdout",
     "output_type": "stream",
     "text": [
      "Average Metric: 1.00 / 1 (100.0%):  25%|██▌       | 1/4 [00:01<00:03,  1.08s/it]"
     ]
    },
    {
     "data": {
      "text/markdown": [
       "**Validate()**\n",
       "\n",
       "**Example**: Example({'place_one': {'address': '456 Oak Ave, Shelbyville', 'name': 'Shelbyville Museum'}, 'place_two': {'address': '456 Oak Avenue, Shelbyville', 'name': 'Shelbyville History Museum'}, 'is_match': True}) (input_keys={'place_two', 'place_one'})**Prediction**: Prediction(\n",
       "    is_match=True,\n",
       "    match_confidence='high',\n",
       "    rationale='The addresses are very similar, with \"Ave\" and \"Avenue\" being common abbreviations. The names are also related, with \"Museum\" and \"History Museum\" indicating a similar type of institution. Therefore, it\\'s highly likely they refer to the same place.'\n",
       ")"
      ],
      "text/plain": [
       "<IPython.core.display.Markdown object>"
      ]
     },
     "metadata": {},
     "output_type": "display_data"
    },
    {
     "name": "stdout",
     "output_type": "stream",
     "text": [
      "Average Metric: 1.00 / 2 (50.0%):  25%|██▌       | 1/4 [00:01<00:03,  1.08s/it] "
     ]
    },
    {
     "data": {
      "text/markdown": [
       "**Validate()**\n",
       "\n",
       "**Example**: Example({'place_one': {'address': '202 Birch Blvd, Ogdenville', 'name': 'Ogdenville Coffee House'}, 'place_two': {'address': '202 Birch Blvd, Ogdenville', 'name': 'Ogdenville Café'}, 'is_match': True}) (input_keys={'place_two', 'place_one'})**Prediction**: Prediction(\n",
       "    is_match=True,\n",
       "    match_confidence='medium',\n",
       "    rationale='The addresses are identical. While the names differ (\"Coffee House\" vs. \"Café\"), these are often used interchangeably for similar businesses. The address match strongly suggests they are the same place.'\n",
       ")"
      ],
      "text/plain": [
       "<IPython.core.display.Markdown object>"
      ]
     },
     "metadata": {},
     "output_type": "display_data"
    },
    {
     "name": "stdout",
     "output_type": "stream",
     "text": [
      "Average Metric: 1.00 / 3 (33.3%):  75%|███████▌  | 3/4 [00:04<00:01,  1.66s/it]"
     ]
    },
    {
     "data": {
      "text/markdown": [
       "**Validate()**\n",
       "\n",
       "**Example**: Example({'place_one': {'address': '303 Cedar Ln, North Haverbrook', 'name': 'North Haverbrook Gym'}, 'place_two': {'address': '404 Elm St, North Haverbrook', 'name': 'North Haverbrook Fitness Center'}, 'is_match': False}) (input_keys={'place_two', 'place_one'})**Prediction**: Prediction(\n",
       "    is_match=False,\n",
       "    match_confidence='low',\n",
       "    rationale='The addresses are different. Place one is located on Cedar Ln, while place two is on Elm St. Although both are in North Haverbrook, the different street addresses indicate they are likely different locations. The names are also different, further supporting this conclusion.'\n",
       ")"
      ],
      "text/plain": [
       "<IPython.core.display.Markdown object>"
      ]
     },
     "metadata": {},
     "output_type": "display_data"
    },
    {
     "name": "stdout",
     "output_type": "stream",
     "text": [
      "Average Metric: 2.00 / 4 (50.0%): 100%|██████████| 4/4 [00:04<00:00,  1.24s/it]"
     ]
    },
    {
     "name": "stderr",
     "output_type": "stream",
     "text": [
      "2025/08/19 18:33:58 INFO dspy.evaluate.evaluate: Average Metric: 2 / 4 (50.0%)\n",
      "2025/08/19 18:33:58 INFO dspy.teleprompt.mipro_optimizer_v2: Score: 50.0 with parameters ['Predictor 0: Instruction 2', 'Predictor 0: Few-Shot Set 3'].\n",
      "2025/08/19 18:33:58 INFO dspy.teleprompt.mipro_optimizer_v2: Scores so far: [75.0, 50.0, 75.0, 25.0, 50.0, 25.0, 100.0, 50.0, 75.0, 75.0, 50.0]\n",
      "2025/08/19 18:33:58 INFO dspy.teleprompt.mipro_optimizer_v2: Best score so far: 100.0\n",
      "2025/08/19 18:33:58 INFO dspy.teleprompt.mipro_optimizer_v2: =========================\n",
      "\n",
      "\n",
      "2025/08/19 18:33:58 INFO dspy.teleprompt.mipro_optimizer_v2: Returning best identified program with score 100.0!\n"
     ]
    },
    {
     "name": "stdout",
     "output_type": "stream",
     "text": [
      "\n"
     ]
    }
   ],
   "source": [
    "import random\n",
    "\n",
    "def validate_match(example, pred, trace=None):\n",
    "    md(\"**Validate()**\", \"\", \"**Example**: \", example, \"**Prediction**: \", pred)\n",
    "    #return example.is_match == pred.is_match  # The models are able to guess this every time so it always gets 100% score and thus doesn't optimise the prompt. Need a harder example.\n",
    "    return random.choice([True, False])  # randomise the response to force DSPY to try different prompts. Make it erratic on purpose.\n",
    "\n",
    "from dspy.teleprompt import *\n",
    "\n",
    "prompt_lm = common.LlmClientFactory(settings).get_dspy_lm_chat_connecting_to_internal_databricks_model('databricks/databricks-gemma-3-12b')\n",
    "\n",
    "# mixtral-8x7b-v0-1\n",
    "#prompt_lm = common.LlmClientFactory(settings).get_dspy_lm_chat_connecting_to_internal_databricks_model('')\n",
    "#\n",
    "#md(prompt_lm('hello there who are you?'))\n",
    "\n",
    "# prompt_model: generates prompts/prompt candidates. Usually smaller model. This is the one used in PRD that the prompts will get called against.\n",
    "# task_model: AI Judge, evaluates outputs. Usually larger model. May be used internally by DSPy to help refine or rank those outputs.\n",
    "# validate_match(): Scores outputs of prompt_model\n",
    "tp = dspy.MIPROv2(metric=validate_match, auto=\"light\", prompt_model=prompt_lm, task_model=lm)\n",
    "optimized_matcher = tp.compile(matcher, trainset=trainset, requires_permission_to_run=False)"
   ]
  },
  {
   "cell_type": "code",
   "execution_count": null,
   "metadata": {},
   "outputs": [
    {
     "name": "stdout",
     "output_type": "stream",
     "text": [
      "Predict(StringSignature(place_one, place_two -> is_match, match_confidence, rationale\n",
      "    instructions='You are a critical data verification specialist for a large mapping application. Your task is to accurately determine if two provided place descriptions refer to the same location. Incorrect matches can lead to users being directed to the wrong place, resulting in frustration and negative reviews. Given two place descriptions, each containing an \\'address\\' and a \\'name\\', predict whether they represent the same location. Output a tuple containing: `is_match` (True or False), `match_confidence` (high, medium, or low), and a `rationale` explaining your decision. Consider the address as the primary factor, but also account for slight variations in names. For example, \"Springfield Library\" and \"Springfield Public Library\" likely refer to the same place if the addresses match.\\n\\nHere are the place descriptions:\\n\\nPlace One: {\\'address\\': \\'123 Main St, Springfield\\', \\'name\\': \\'Springfield Library\\'}\\nPlace Two: {\\'address\\': \\'123 Main St, Springfield\\', \\'name\\': \\'Springfield Public Library\\'}'\n",
      "    place_one = Field(annotation=Place required=True json_schema_extra={'__dspy_field_type': 'input', 'prefix': 'Place One:', 'desc': '${place_one}'})\n",
      "    place_two = Field(annotation=Place required=True json_schema_extra={'__dspy_field_type': 'input', 'prefix': 'Place Two:', 'desc': '${place_two}'})\n",
      "    is_match = Field(annotation=bool required=True json_schema_extra={'desc': 'Do the two places refer to the same place?', '__dspy_field_type': 'output', 'prefix': 'Is Match:'})\n",
      "    match_confidence = Field(annotation=Literal['low', 'medium', 'high'] required=True json_schema_extra={'__dspy_field_type': 'output', 'prefix': 'Match Confidence:', 'desc': '${match_confidence}'})\n",
      "    rationale = Field(annotation=str required=True json_schema_extra={'desc': 'Rationale for the decision', '__dspy_field_type': 'output', 'prefix': 'Rationale:'})\n",
      "))\n"
     ]
    }
   ],
   "source": [
    "from pprint import pprint\n",
    "\n",
    "pprint(optimized_matcher)"
   ]
  },
  {
   "cell_type": "code",
   "execution_count": 8,
   "metadata": {},
   "outputs": [
    {
     "name": "stdout",
     "output_type": "stream",
     "text": [
      "StringSignature(place_one, place_two -> is_match, match_confidence, rationale\n",
      "    instructions='You are a critical data verification specialist for a large mapping application. Your task is to accurately determine if two provided place descriptions refer to the same location. Incorrect matches can lead to users being directed to the wrong place, resulting in frustration and negative reviews. Given two place descriptions, each containing an \\'address\\' and a \\'name\\', predict whether they represent the same location. Output a tuple containing: `is_match` (True or False), `match_confidence` (high, medium, or low), and a `rationale` explaining your decision. Consider the address as the primary factor, but also account for slight variations in names. For example, \"Springfield Library\" and \"Springfield Public Library\" likely refer to the same place if the addresses match.\\n\\nHere are the place descriptions:\\n\\nPlace One: {\\'address\\': \\'123 Main St, Springfield\\', \\'name\\': \\'Springfield Library\\'}\\nPlace Two: {\\'address\\': \\'123 Main St, Springfield\\', \\'name\\': \\'Springfield Public Library\\'}'\n",
      "    place_one = Field(annotation=Place required=True json_schema_extra={'__dspy_field_type': 'input', 'prefix': 'Place One:', 'desc': '${place_one}'})\n",
      "    place_two = Field(annotation=Place required=True json_schema_extra={'__dspy_field_type': 'input', 'prefix': 'Place Two:', 'desc': '${place_two}'})\n",
      "    is_match = Field(annotation=bool required=True json_schema_extra={'desc': 'Do the two places refer to the same place?', '__dspy_field_type': 'output', 'prefix': 'Is Match:'})\n",
      "    match_confidence = Field(annotation=Literal['low', 'medium', 'high'] required=True json_schema_extra={'__dspy_field_type': 'output', 'prefix': 'Match Confidence:', 'desc': '${match_confidence}'})\n",
      "    rationale = Field(annotation=str required=True json_schema_extra={'desc': 'Rationale for the decision', '__dspy_field_type': 'output', 'prefix': 'Rationale:'})\n",
      ")\n"
     ]
    }
   ],
   "source": [
    "# print(optimized_matcher)\n",
    "print(optimized_matcher.signature)"
   ]
  }
 ],
 "metadata": {
  "kernelspec": {
   "display_name": "Python 3",
   "language": "python",
   "name": "python3"
  },
  "language_info": {
   "codemirror_mode": {
    "name": "ipython",
    "version": 3
   },
   "file_extension": ".py",
   "mimetype": "text/x-python",
   "name": "python",
   "nbconvert_exporter": "python",
   "pygments_lexer": "ipython3",
   "version": "3.13.7"
  }
 },
 "nbformat": 4,
 "nbformat_minor": 2
}
