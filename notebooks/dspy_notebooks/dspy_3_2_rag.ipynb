{
 "cells": [
  {
   "cell_type": "markdown",
   "id": "b980365a",
   "metadata": {},
   "source": [
    "# RAG"
   ]
  },
  {
   "cell_type": "code",
   "execution_count": 1,
   "id": "dfca1ea3",
   "metadata": {},
   "outputs": [
    {
     "name": "stdout",
     "output_type": "stream",
     "text": [
      "Getting keys from environment variables\n"
     ]
    }
   ],
   "source": [
    "import sys\n",
    "import os\n",
    "import dspy \n",
    "from common.my_settings import MySettings  \n",
    "from common.utils import md\n",
    "from common.llm_client_factory import LlmClientFactory\n",
    "from dspy_utils.dspy_helpers import md_dspy\n",
    "\n",
    "settings = MySettings().get()\n",
    "\n",
    "lm = dspy.LM(\n",
    "    'gpt-4.1',  \n",
    "    model_type='chat', \n",
    "    cache=False, \n",
    "    api_key=settings.OPENAI_API_KEY,\n",
    "    temperature=0.8  \n",
    "    \n",
    ")\n",
    "\n",
    "dspy.configure(lm=lm)"
   ]
  },
  {
   "cell_type": "code",
   "execution_count": 2,
   "id": "c080343b",
   "metadata": {},
   "outputs": [],
   "source": [
    "# Setup\n",
    "\n",
    "import dspy\n",
    "\n",
    "def widget_information() -> str:\n",
    "    \"\"\"Provides information about widgets like color, shape, size, cost to make, and weight.\"\"\" # This is a doc string that the agent will use to understand what this function does.\n",
    "    \n",
    "    return \"The Widget is square, blue, and has a diameter of 5 cm and costs $100 to make. Each one weights 10kg.\"\n",
    "\n",
    "def shipping_cost_calculator(weight: float, number_of_items: int) -> float:\n",
    "    \"\"\"Calculates the shipping cost based on weight and number of items. \n",
    "    Args:\n",
    "        weight (float): The weight of a single item in kg.\n",
    "        number_of_items (int): The number of items to be shipped.\n",
    "    Returns:\n",
    "        float: The total shipping cost.\n",
    "    \"\"\"\n",
    "    return weight * number_of_items * 1.1\n",
    "\n",
    "my_tools = [widget_information]\n",
    "my_tools.append(shipping_cost_calculator)\n",
    "\n",
    "# The dspy.ReAct class is an agent. It stands for \"Reason/Action\" where it works in a loop to answer the question until it has enough information to provide an answer.\n",
    "# The tools parameter is a list of functions that the agent can call to get more information.\n",
    "# The agent will use the function names and docstrings to decide which tool to use.\n",
    "agent = dspy.ReAct(\"question -> answer: str\", tools=my_tools)"
   ]
  },
  {
   "cell_type": "code",
   "execution_count": 3,
   "id": "62963fab",
   "metadata": {},
   "outputs": [],
   "source": [
    "question=\"How much will it cost to ship 3 widgets?\"\n",
    "#question=\"Can I please get a green widget?\"\n",
    "#question = \"My uncle loves green, do you think he'd like a widget?\"\n",
    "\n",
    "# Call the LLM\n",
    "result = agent(question=question)"
   ]
  },
  {
   "cell_type": "code",
   "execution_count": 4,
   "id": "fb8e59a3",
   "metadata": {},
   "outputs": [
    {
     "data": {
      "text/markdown": [
       "Prediction(  \n",
       "    trajectory={'thought_0': 'To calculate the shipping cost for 3 widgets, I need to know the weight of a single widget.', 'tool_name_0': 'widget_information', 'tool_args_0': {}, 'observation_0': 'The Widget is square, blue, and has a diameter of 5 cm and costs $100 to make. Each one weights 10kg.', 'thought_1': 'Now that I know each widget weighs 10 kg, I can use the shipping cost calculator to find the total shipping cost for 3 widgets.', 'tool_name_1': 'shipping_cost_calculator', 'tool_args_1': {'weight': 10, 'number_of_items': 3}, 'observation_1': 33.0, 'thought_2': 'I have obtained the total shipping cost for 3 widgets, which is $33. I am ready to finish the task and provide the answer.', 'tool_name_2': 'finish', 'tool_args_2': {}, 'observation_2': 'Completed.'},  \n",
       "    reasoning='First, I determined the weight of a single widget, which is 10 kg. Then, I calculated the shipping cost for 3 widgets by using the shipping cost calculator, inputting a weight of 10 kg per widget and a quantity of 3. The calculator returned a shipping cost of $33 for 3 widgets.',  \n",
       "    answer='It will cost $33 to ship 3 widgets.'  \n",
       ")"
      ],
      "text/plain": [
       "<IPython.core.display.Markdown object>"
      ]
     },
     "metadata": {},
     "output_type": "display_data"
    }
   ],
   "source": [
    "md(result)"
   ]
  },
  {
   "cell_type": "code",
   "execution_count": 11,
   "id": "a4bbe789",
   "metadata": {},
   "outputs": [
    {
     "data": {
      "text/markdown": [
       "**Question** How much will it cost to ship 3 widgets?"
      ],
      "text/plain": [
       "<IPython.core.display.Markdown object>"
      ]
     },
     "metadata": {},
     "output_type": "display_data"
    },
    {
     "data": {
      "text/markdown": [
       "**Final Answer** It will cost $33 to ship 3 widgets."
      ],
      "text/plain": [
       "<IPython.core.display.Markdown object>"
      ]
     },
     "metadata": {},
     "output_type": "display_data"
    },
    {
     "data": {
      "text/markdown": [
       "**Final Reasoning** First, I determined the weight of a single widget, which is 10 kg. Then, I calculated the shipping cost for 3 widgets by using the shipping cost calculator, inputting a weight of 10 kg per widget and a quantity of 3. The calculator returned a shipping cost of $33 for 3 widgets."
      ],
      "text/plain": [
       "<IPython.core.display.Markdown object>"
      ]
     },
     "metadata": {},
     "output_type": "display_data"
    },
    {
     "data": {
      "text/markdown": [
       "**Reasoning Trajectory** {'thought_0': 'To calculate the shipping cost for 3 widgets, I need to know the weight of a single widget.', 'tool_name_0': 'widget_information', 'tool_args_0': {}, 'observation_0': 'The Widget is square, blue, and has a diameter of 5 cm and costs $100 to make. Each one weights 10kg.', 'thought_1': 'Now that I know each widget weighs 10 kg, I can use the shipping cost calculator to find the total shipping cost for 3 widgets.', 'tool_name_1': 'shipping_cost_calculator', 'tool_args_1': {'weight': 10, 'number_of_items': 3}, 'observation_1': 33.0, 'thought_2': 'I have obtained the total shipping cost for 3 widgets, which is $33. I am ready to finish the task and provide the answer.', 'tool_name_2': 'finish', 'tool_args_2': {}, 'observation_2': 'Completed.'}"
      ],
      "text/plain": [
       "<IPython.core.display.Markdown object>"
      ]
     },
     "metadata": {},
     "output_type": "display_data"
    },
    {
     "data": {
      "text/markdown": [
       "It took **3 steps** to find the answer, the steps below is the agent calling the LLM in a 'while' loop until the LLM responds with Completed because it has decided that it has achieved it's goal in answering the question. The LLM directs the agent asking it to fetch information for it using the tools available to it."
      ],
      "text/plain": [
       "<IPython.core.display.Markdown object>"
      ]
     },
     "metadata": {},
     "output_type": "display_data"
    },
    {
     "data": {
      "text/markdown": [
       "#### Step 1"
      ],
      "text/plain": [
       "<IPython.core.display.Markdown object>"
      ]
     },
     "metadata": {},
     "output_type": "display_data"
    },
    {
     "data": {
      "text/markdown": [
       "Agent => LLM: Sends **body of text** with instructions, list of tool metadata text and history of the conversation so far to the LLM."
      ],
      "text/plain": [
       "<IPython.core.display.Markdown object>"
      ]
     },
     "metadata": {},
     "output_type": "display_data"
    },
    {
     "data": {
      "text/markdown": [
       "LLM => LLM: The LLM has the following **internal thought** on what to do next **To calculate the shipping cost for 3 widgets, I need to know the weight of a single widget.**"
      ],
      "text/plain": [
       "<IPython.core.display.Markdown object>"
      ]
     },
     "metadata": {},
     "output_type": "display_data"
    },
    {
     "data": {
      "text/markdown": [
       "Agent <= LLM:  Responds to ```agent``` by directing it to call the ```widget_information()``` tool with the following parameters **{}**"
      ],
      "text/plain": [
       "<IPython.core.display.Markdown object>"
      ]
     },
     "metadata": {},
     "output_type": "display_data"
    },
    {
     "data": {
      "text/markdown": [
       "Agent => Tool: The ```agent``` calls the tool ```widget_information()``` with the parameters **{}**"
      ],
      "text/plain": [
       "<IPython.core.display.Markdown object>"
      ]
     },
     "metadata": {},
     "output_type": "display_data"
    },
    {
     "data": {
      "text/markdown": [
       "Agent <= Tool: The tool ```widget_information()``` returns the following result to the agent **The Widget is square, blue, and has a diameter of 5 cm and costs $100 to make. Each one weights 10kg.**"
      ],
      "text/plain": [
       "<IPython.core.display.Markdown object>"
      ]
     },
     "metadata": {},
     "output_type": "display_data"
    },
    {
     "data": {
      "text/markdown": [
       "Agent => LLM: Tool call response is **appended to the conversation** and passed to the LLM"
      ],
      "text/plain": [
       "<IPython.core.display.Markdown object>"
      ]
     },
     "metadata": {},
     "output_type": "display_data"
    },
    {
     "data": {
      "text/markdown": [
       "#### Step 2"
      ],
      "text/plain": [
       "<IPython.core.display.Markdown object>"
      ]
     },
     "metadata": {},
     "output_type": "display_data"
    },
    {
     "data": {
      "text/markdown": [
       "Agent => LLM: Sends **body of text** with instructions, list of tool metadata text and history of the conversation so far to the LLM."
      ],
      "text/plain": [
       "<IPython.core.display.Markdown object>"
      ]
     },
     "metadata": {},
     "output_type": "display_data"
    },
    {
     "data": {
      "text/markdown": [
       "LLM => LLM: The LLM has the following **internal thought** on what to do next **Now that I know each widget weighs 10 kg, I can use the shipping cost calculator to find the total shipping cost for 3 widgets.**"
      ],
      "text/plain": [
       "<IPython.core.display.Markdown object>"
      ]
     },
     "metadata": {},
     "output_type": "display_data"
    },
    {
     "data": {
      "text/markdown": [
       "Agent <= LLM:  Responds to ```agent``` by directing it to call the ```shipping_cost_calculator()``` tool with the following parameters **{'weight': 10, 'number_of_items': 3}**"
      ],
      "text/plain": [
       "<IPython.core.display.Markdown object>"
      ]
     },
     "metadata": {},
     "output_type": "display_data"
    },
    {
     "data": {
      "text/markdown": [
       "Agent => Tool: The ```agent``` calls the tool ```shipping_cost_calculator()``` with the parameters **{'weight': 10, 'number_of_items': 3}**"
      ],
      "text/plain": [
       "<IPython.core.display.Markdown object>"
      ]
     },
     "metadata": {},
     "output_type": "display_data"
    },
    {
     "data": {
      "text/markdown": [
       "Agent <= Tool: The tool ```shipping_cost_calculator()``` returns the following result to the agent **33.0**"
      ],
      "text/plain": [
       "<IPython.core.display.Markdown object>"
      ]
     },
     "metadata": {},
     "output_type": "display_data"
    },
    {
     "data": {
      "text/markdown": [
       "Agent => LLM: Tool call response is **appended to the conversation** and passed to the LLM"
      ],
      "text/plain": [
       "<IPython.core.display.Markdown object>"
      ]
     },
     "metadata": {},
     "output_type": "display_data"
    },
    {
     "data": {
      "text/markdown": [
       "#### Step 3"
      ],
      "text/plain": [
       "<IPython.core.display.Markdown object>"
      ]
     },
     "metadata": {},
     "output_type": "display_data"
    },
    {
     "data": {
      "text/markdown": [
       "Agent => LLM: Sends **body of text** with instructions, list of tool metadata text and history of the conversation so far to the LLM."
      ],
      "text/plain": [
       "<IPython.core.display.Markdown object>"
      ]
     },
     "metadata": {},
     "output_type": "display_data"
    },
    {
     "data": {
      "text/markdown": [
       "LLM => LLM: The LLM has the following **internal thought** on what to do next **I have obtained the total shipping cost for 3 widgets, which is $33. I am ready to finish the task and provide the answer.**"
      ],
      "text/plain": [
       "<IPython.core.display.Markdown object>"
      ]
     },
     "metadata": {},
     "output_type": "display_data"
    },
    {
     "data": {
      "text/markdown": [
       "Agent <= LLM:  Responds to ```agent``` by directing it to call the ```finish()``` tool with the following parameters **{}**"
      ],
      "text/plain": [
       "<IPython.core.display.Markdown object>"
      ]
     },
     "metadata": {},
     "output_type": "display_data"
    },
    {
     "data": {
      "text/markdown": [
       "Agent => Tool: The ```agent``` calls the tool ```finish()``` with the parameters **{}**"
      ],
      "text/plain": [
       "<IPython.core.display.Markdown object>"
      ]
     },
     "metadata": {},
     "output_type": "display_data"
    },
    {
     "data": {
      "text/markdown": [
       "Agent <= Tool: The tool ```finish()``` returns the following result to the agent **Completed.**"
      ],
      "text/plain": [
       "<IPython.core.display.Markdown object>"
      ]
     },
     "metadata": {},
     "output_type": "display_data"
    },
    {
     "data": {
      "text/markdown": [
       "Agent => LLM: Tool call response is **appended to the conversation** and passed to the LLM"
      ],
      "text/plain": [
       "<IPython.core.display.Markdown object>"
      ]
     },
     "metadata": {},
     "output_type": "display_data"
    },
    {
     "name": "stdout",
     "output_type": "stream",
     "text": [
      "\n"
     ]
    },
    {
     "data": {
      "text/markdown": [
       "Since the LLM responded to the agent with **Completed** to the agent, the agent stops here and returns the final answer and reasoning."
      ],
      "text/plain": [
       "<IPython.core.display.Markdown object>"
      ]
     },
     "metadata": {},
     "output_type": "display_data"
    }
   ],
   "source": [
    "md(\"**Question** \", question)\n",
    "md(\"**Final Answer** \", result.answer)\n",
    "md(\"**Final Reasoning** \", result.reasoning)\n",
    "md(\"**Reasoning Trajectory** \", result.trajectory)\n",
    "\n",
    "number_of_steps = round(len(result.trajectory)/4)\n",
    "\n",
    "md(f\"It took **{number_of_steps} steps** to find the answer, the steps below is the agent calling the LLM in a 'while' loop until the LLM responds with Completed because it has decided that it has achieved it's goal in answering the question. The LLM directs the agent asking it to fetch information for it using the tools available to it.\")\n",
    "for i in range(number_of_steps):\n",
    "    md(\"#### Step \", i+1)\n",
    "    md(\"Agent => LLM: Sends **body of text** with instructions, list of tool metadata text and history of the conversation so far to the LLM.\")\n",
    "    md(\"LLM => LLM: The LLM has the following **internal thought** on what to do next **\", result.trajectory[f\"thought_{i}\"], \"**\")\n",
    "    md(\"Agent <= LLM:  Responds to ```agent``` by directing it to call the ```\", result.trajectory[f\"tool_name_{i}\"], \"()``` tool with the following parameters **\", result.trajectory[f\"tool_args_{i}\"], \"**\")\n",
    "    md(\"Agent => Tool: The ```agent``` calls the tool ```\", result.trajectory[f\"tool_name_{i}\"], \"()``` with the parameters **\", result.trajectory[f\"tool_args_{i}\"], \"**\")\n",
    "    md(\"Agent <= Tool: The tool ```\", result.trajectory[f\"tool_name_{i}\"], \"()``` returns the following result to the agent **\", result.trajectory[f\"observation_{i}\"], \"**\")\n",
    "    md(\"Agent => LLM: Tool call response is **appended to the conversation** and passed to the LLM\")\n",
    "    \n",
    "    \n",
    "print()\n",
    "md(\"Since the LLM responded to the agent with **Completed** to the agent, the agent stops here and returns the final answer and reasoning.\")"
   ]
  }
 ],
 "metadata": {
  "kernelspec": {
   "display_name": "Python 3",
   "language": "python",
   "name": "python3"
  },
  "language_info": {
   "codemirror_mode": {
    "name": "ipython",
    "version": 3
   },
   "file_extension": ".py",
   "mimetype": "text/x-python",
   "name": "python",
   "nbconvert_exporter": "python",
   "pygments_lexer": "ipython3",
   "version": "3.12.1"
  }
 },
 "nbformat": 4,
 "nbformat_minor": 5
}
