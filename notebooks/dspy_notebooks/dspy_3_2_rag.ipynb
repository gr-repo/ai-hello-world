{
 "cells": [
  {
   "cell_type": "code",
   "execution_count": null,
   "id": "28bdda6b",
   "metadata": {},
   "outputs": [],
   "source": []
  },
  {
   "cell_type": "markdown",
   "id": "b980365a",
   "metadata": {},
   "source": [
    "# RAG"
   ]
  },
  {
   "cell_type": "code",
   "execution_count": 1,
   "id": "dfca1ea3",
   "metadata": {},
   "outputs": [
    {
     "name": "stdout",
     "output_type": "stream",
     "text": [
      "Getting keys from environment variables\n"
     ]
    }
   ],
   "source": [
    "import sys\n",
    "import os\n",
    "import dspy \n",
    "from common.my_settings import MySettings  \n",
    "from common.utils import md\n",
    "from common.llm_client_factory import LlmClientFactory\n",
    "from dspy_utils.dspy_helpers import md_dspy\n",
    "\n",
    "settings = MySettings().get()\n",
    "\n",
    "lm = dspy.LM(\n",
    "    'gpt-4.1',  # Changed from gpt-4o to gpt-3.5-turbo\n",
    "    model_type='chat', \n",
    "    cache=False, \n",
    "    api_key=settings.OPENAI_API_KEY,\n",
    "    temperature=0.8  \n",
    "    \n",
    ")\n",
    "\n",
    "dspy.configure(lm=lm)"
   ]
  },
  {
   "cell_type": "code",
   "execution_count": 2,
   "id": "c080343b",
   "metadata": {},
   "outputs": [],
   "source": [
    "# Setup\n",
    "\n",
    "import dspy\n",
    "\n",
    "def widget_information(expression: str):\n",
    "    \"\"\"Provides information about widgets like color, shape, size, cost to make, and weight.\"\"\"\n",
    "    return \"The Widget is round, blue, and has a diameter of 5 cm and costs $100 to make. Each one weights 10kg.\"\n",
    "\n",
    "def shipping_cost_calculator(weight: float, number_of_items: int) -> float:\n",
    "    return weight * number_of_items * 1.1\n",
    "\n",
    "my_tools = [widget_information]\n",
    "my_tools.append(shipping_cost_calculator)\n",
    "\n",
    "react = dspy.ReAct(\"question -> answer: str\", tools=my_tools)"
   ]
  },
  {
   "cell_type": "code",
   "execution_count": 3,
   "id": "62963fab",
   "metadata": {},
   "outputs": [],
   "source": [
    "# Call LLM\n",
    "#result = react(question=\"How much will it cost to create 3 widgets?\")\n",
    "#result = react(question=\"Can I please get a green widget?\")\n",
    "result = react(question=\"What is the shipping cost for 3 widgets?\")"
   ]
  },
  {
   "cell_type": "code",
   "execution_count": 4,
   "id": "fb8e59a3",
   "metadata": {},
   "outputs": [
    {
     "name": "stdout",
     "output_type": "stream",
     "text": [
      "<class 'dspy.primitives.prediction.Prediction'>\n",
      "Prediction(\n",
      "    trajectory={'thought_0': \"To calculate the shipping cost for 3 widgets, I need to know the weight of a single widget. I'll first retrieve information about the widget's weight.\", 'tool_name_0': 'widget_information', 'tool_args_0': {'expression': 'weight of a widget'}, 'observation_0': 'The Widget is round, blue, and has a diameter of 5 cm and costs $100 to make. Each one weights 10kg.', 'thought_1': 'Now that I know each widget weighs 10kg, I can calculate the shipping cost for 3 widgets by providing the total number of items and the weight per item to the shipping cost calculator.', 'tool_name_1': 'shipping_cost_calculator', 'tool_args_1': {'weight': 10, 'number_of_items': 3}, 'observation_1': 33.0, 'thought_2': 'I have obtained the shipping cost for 3 widgets, which is 33.0. I can now finish the task and provide the final answer.', 'tool_name_2': 'finish', 'tool_args_2': {}, 'observation_2': 'Completed.'},\n",
      "    reasoning='To determine the shipping cost for 3 widgets, I first found out that each widget weighs 10kg. Using this information, I calculated the shipping cost for 3 widgets by inputting the total weight and quantity into the shipping cost calculator, which returned a total cost of 33.0.',\n",
      "    answer='The shipping cost for 3 widgets is 33.0.'\n",
      ")\n"
     ]
    }
   ],
   "source": [
    "print(type(result))\n",
    "print(result)"
   ]
  },
  {
   "cell_type": "code",
   "execution_count": 5,
   "id": "b943489a",
   "metadata": {},
   "outputs": [
    {
     "data": {
      "text/markdown": [
       "Prediction(  \n",
       "    trajectory={'thought_0': \"To calculate the shipping cost for 3 widgets, I need to know the weight of a single widget. I'll first retrieve information about the widget's weight.\", 'tool_name_0': 'widget_information', 'tool_args_0': {'expression': 'weight of a widget'}, 'observation_0': 'The Widget is round, blue, and has a diameter of 5 cm and costs $100 to make. Each one weights 10kg.', 'thought_1': 'Now that I know each widget weighs 10kg, I can calculate the shipping cost for 3 widgets by providing the total number of items and the weight per item to the shipping cost calculator.', 'tool_name_1': 'shipping_cost_calculator', 'tool_args_1': {'weight': 10, 'number_of_items': 3}, 'observation_1': 33.0, 'thought_2': 'I have obtained the shipping cost for 3 widgets, which is 33.0. I can now finish the task and provide the final answer.', 'tool_name_2': 'finish', 'tool_args_2': {}, 'observation_2': 'Completed.'},  \n",
       "    reasoning='To determine the shipping cost for 3 widgets, I first found out that each widget weighs 10kg. Using this information, I calculated the shipping cost for 3 widgets by inputting the total weight and quantity into the shipping cost calculator, which returned a total cost of 33.0.',  \n",
       "    answer='The shipping cost for 3 widgets is 33.0.'  \n",
       ")"
      ],
      "text/plain": [
       "<IPython.core.display.Markdown object>"
      ]
     },
     "metadata": {},
     "output_type": "display_data"
    }
   ],
   "source": [
    "md(result)"
   ]
  },
  {
   "cell_type": "code",
   "execution_count": 6,
   "id": "a4bbe789",
   "metadata": {},
   "outputs": [
    {
     "data": {
      "text/markdown": [
       "**Answer** The shipping cost for 3 widgets is 33.0."
      ],
      "text/plain": [
       "<IPython.core.display.Markdown object>"
      ]
     },
     "metadata": {},
     "output_type": "display_data"
    },
    {
     "data": {
      "text/markdown": [
       "**Reasoning** To determine the shipping cost for 3 widgets, I first found out that each widget weighs 10kg. Using this information, I calculated the shipping cost for 3 widgets by inputting the total weight and quantity into the shipping cost calculator, which returned a total cost of 33.0."
      ],
      "text/plain": [
       "<IPython.core.display.Markdown object>"
      ]
     },
     "metadata": {},
     "output_type": "display_data"
    },
    {
     "data": {
      "text/markdown": [
       "How it got the answer..."
      ],
      "text/plain": [
       "<IPython.core.display.Markdown object>"
      ]
     },
     "metadata": {},
     "output_type": "display_data"
    },
    {
     "data": {
      "text/markdown": [
       "{'thought_0': \"To calculate the shipping cost for 3 widgets, I need to know the weight of a single widget. I'll first retrieve information about the widget's weight.\", 'tool_name_0': 'widget_information', 'tool_args_0': {'expression': 'weight of a widget'}, 'observation_0': 'The Widget is round, blue, and has a diameter of 5 cm and costs $100 to make. Each one weights 10kg.', 'thought_1': 'Now that I know each widget weighs 10kg, I can calculate the shipping cost for 3 widgets by providing the total number of items and the weight per item to the shipping cost calculator.', 'tool_name_1': 'shipping_cost_calculator', 'tool_args_1': {'weight': 10, 'number_of_items': 3}, 'observation_1': 33.0, 'thought_2': 'I have obtained the shipping cost for 3 widgets, which is 33.0. I can now finish the task and provide the final answer.', 'tool_name_2': 'finish', 'tool_args_2': {}, 'observation_2': 'Completed.'}"
      ],
      "text/plain": [
       "<IPython.core.display.Markdown object>"
      ]
     },
     "metadata": {},
     "output_type": "display_data"
    },
    {
     "data": {
      "text/markdown": [
       "dict_keys(['thought_0', 'tool_name_0', 'tool_args_0', 'observation_0', 'thought_1', 'tool_name_1', 'tool_args_1', 'observation_1', 'thought_2', 'tool_name_2', 'tool_args_2', 'observation_2'])"
      ],
      "text/plain": [
       "<IPython.core.display.Markdown object>"
      ]
     },
     "metadata": {},
     "output_type": "display_data"
    },
    {
     "data": {
      "text/markdown": [
       "3.0"
      ],
      "text/plain": [
       "<IPython.core.display.Markdown object>"
      ]
     },
     "metadata": {},
     "output_type": "display_data"
    },
    {
     "data": {
      "text/markdown": [
       "**thought_0** To calculate the shipping cost for 3 widgets, I need to know the weight of a single widget. I'll first retrieve information about the widget's weight.** "
      ],
      "text/plain": [
       "<IPython.core.display.Markdown object>"
      ]
     },
     "metadata": {},
     "output_type": "display_data"
    },
    {
     "data": {
      "text/markdown": [
       "**tool_name_0** widget_information** "
      ],
      "text/plain": [
       "<IPython.core.display.Markdown object>"
      ]
     },
     "metadata": {},
     "output_type": "display_data"
    },
    {
     "data": {
      "text/markdown": [
       "**tool_args_0** {'expression': 'weight of a widget'}** "
      ],
      "text/plain": [
       "<IPython.core.display.Markdown object>"
      ]
     },
     "metadata": {},
     "output_type": "display_data"
    },
    {
     "data": {
      "text/markdown": [
       "**observation_0** The Widget is round, blue, and has a diameter of 5 cm and costs $100 to make. Each one weights 10kg.** "
      ],
      "text/plain": [
       "<IPython.core.display.Markdown object>"
      ]
     },
     "metadata": {},
     "output_type": "display_data"
    },
    {
     "data": {
      "text/markdown": [
       "**thought_1** Now that I know each widget weighs 10kg, I can calculate the shipping cost for 3 widgets by providing the total number of items and the weight per item to the shipping cost calculator.** "
      ],
      "text/plain": [
       "<IPython.core.display.Markdown object>"
      ]
     },
     "metadata": {},
     "output_type": "display_data"
    },
    {
     "data": {
      "text/markdown": [
       "**tool_name_1** shipping_cost_calculator** "
      ],
      "text/plain": [
       "<IPython.core.display.Markdown object>"
      ]
     },
     "metadata": {},
     "output_type": "display_data"
    },
    {
     "data": {
      "text/markdown": [
       "**tool_args_1** {'weight': 10, 'number_of_items': 3}** "
      ],
      "text/plain": [
       "<IPython.core.display.Markdown object>"
      ]
     },
     "metadata": {},
     "output_type": "display_data"
    },
    {
     "data": {
      "text/markdown": [
       "**observation_1** 33.0** "
      ],
      "text/plain": [
       "<IPython.core.display.Markdown object>"
      ]
     },
     "metadata": {},
     "output_type": "display_data"
    },
    {
     "data": {
      "text/markdown": [
       "**thought_2** I have obtained the shipping cost for 3 widgets, which is 33.0. I can now finish the task and provide the final answer.** "
      ],
      "text/plain": [
       "<IPython.core.display.Markdown object>"
      ]
     },
     "metadata": {},
     "output_type": "display_data"
    },
    {
     "data": {
      "text/markdown": [
       "**tool_name_2** finish** "
      ],
      "text/plain": [
       "<IPython.core.display.Markdown object>"
      ]
     },
     "metadata": {},
     "output_type": "display_data"
    },
    {
     "data": {
      "text/markdown": [
       "**tool_args_2** {}** "
      ],
      "text/plain": [
       "<IPython.core.display.Markdown object>"
      ]
     },
     "metadata": {},
     "output_type": "display_data"
    },
    {
     "data": {
      "text/markdown": [
       "**observation_2** Completed.** "
      ],
      "text/plain": [
       "<IPython.core.display.Markdown object>"
      ]
     },
     "metadata": {},
     "output_type": "display_data"
    }
   ],
   "source": [
    "md(\"**Answer** \",result.answer)\n",
    "md(\"**Reasoning** \",result.reasoning)\n",
    "\n",
    "md(\"How it got the answer...\")\n",
    "md(result.trajectory)\n",
    "md(result.trajectory.keys())\n",
    "\n",
    "md(len(result.trajectory)/4)\n",
    "for key in result.trajectory.keys():\n",
    "    md(\"**\", key, \"** \", result.trajectory[key], \"** \")"
   ]
  },
  {
   "cell_type": "code",
   "execution_count": 7,
   "id": "f17c5891",
   "metadata": {},
   "outputs": [
    {
     "ename": "SyntaxError",
     "evalue": "incomplete input (1494010644.py, line 8)",
     "output_type": "error",
     "traceback": [
      "  \u001b[36mCell\u001b[39m\u001b[36m \u001b[39m\u001b[32mIn[7]\u001b[39m\u001b[32m, line 8\u001b[39m\n\u001b[31m    \u001b[39m\u001b[31m#     md(\"** Thought ** \", result.trajectory[f\"thought_{i}\"])\u001b[39m\n                                                                 ^\n\u001b[31mSyntaxError\u001b[39m\u001b[31m:\u001b[39m incomplete input\n"
     ]
    }
   ],
   "source": [
    "number_of_steps = len(result.trajectory)/4\n",
    "print(int(number_of_steps)\n",
    "# for i in range(number_of_steps):\n",
    "#     md(\"### Step \", i+1)\n",
    "#     md(\"** Action ** \", result.trajectory[f\"action_{i}\"])\n",
    "#     md(\"** Action Input ** \", result.trajectory[f\"action_input_{i}\"])\n",
    "#     md(\"** Observation ** \", result.trajectory[f\"observation_{i}\"])\n",
    "#     md(\"** Thought ** \", result.trajectory[f\"thought_{i}\"])"
   ]
  }
 ],
 "metadata": {
  "kernelspec": {
   "display_name": "Python 3",
   "language": "python",
   "name": "python3"
  },
  "language_info": {
   "codemirror_mode": {
    "name": "ipython",
    "version": 3
   },
   "file_extension": ".py",
   "mimetype": "text/x-python",
   "name": "python",
   "nbconvert_exporter": "python",
   "pygments_lexer": "ipython3",
   "version": "3.12.1"
  }
 },
 "nbformat": 4,
 "nbformat_minor": 5
}
