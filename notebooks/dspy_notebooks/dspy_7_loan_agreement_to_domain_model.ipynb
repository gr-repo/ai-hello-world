{
 "cells": [
  {
   "cell_type": "code",
   "execution_count": 24,
   "id": "7ce57172",
   "metadata": {},
   "outputs": [
    {
     "name": "stdout",
     "output_type": "stream",
     "text": [
      "Getting keys from environment variables\n"
     ]
    }
   ],
   "source": [
    "import sys\n",
    "import os\n",
    "import dspy \n",
    "from common.my_settings import MySettings  \n",
    "from common.utils import md\n",
    "from common.llm_client_factory import LlmClientFactory\n",
    "from dspy_utils.dspy_helpers import md_dspy\n",
    "\n",
    "settings = MySettings().get()"
   ]
  },
  {
   "cell_type": "code",
   "execution_count": 25,
   "id": "6127bd94",
   "metadata": {},
   "outputs": [],
   "source": [
    "import dspy\n",
    "\n",
    "# Configure DSPy to use the Responses API for your language model\n",
    "dspy.settings.configure(\n",
    "    lm=dspy.LM(\n",
    "        \"openai/gpt-5-mini\",\n",
    "        model_type=\"responses\",\n",
    "        temperature=1.0,\n",
    "        max_tokens=16000,\n",
    "    ),\n",
    ")\n",
    "\n"
   ]
  },
  {
   "cell_type": "code",
   "execution_count": 26,
   "id": "819f82e9",
   "metadata": {},
   "outputs": [],
   "source": [
    "# # lm_gpt35 = dspy.LM('gpt-3.5-turbo', temperature=0.8, model_type='chat', cache=False, api_key=settings.OPENAI_API_KEY)\n",
    "# lm_gpt4 = dspy.LM('gpt-4.1', temperature=0.9, model_type='chat', cache=False, api_key=settings.OPENAI_API_KEY)\n",
    "\n",
    "# #lm_gpt5 = dspy.LM('openai/gpt-5', temperature='1.0', max_tokens=16001, model_type='chat', cache=False, api_key=settings.OPENAI_API_KEY)\n",
    "# lm=lm_gpt4\n",
    "# dspy.configure(lm=lm)"
   ]
  },
  {
   "cell_type": "code",
   "execution_count": 27,
   "id": "0fe063f5",
   "metadata": {},
   "outputs": [],
   "source": [
    "lm = dspy.LM(\n",
    "        \"openai/gpt-5-mini\",\n",
    "        model_type=\"responses\",\n",
    "        temperature=1.0,\n",
    "        max_tokens=16000,\n",
    "    )\n",
    "dspy.settings.configure(\n",
    "    lm=lm\n",
    ")"
   ]
  },
  {
   "cell_type": "code",
   "execution_count": 28,
   "id": "eb9b9d27",
   "metadata": {},
   "outputs": [],
   "source": [
    "# https://view.officeapps.live.com/op/view.aspx?src=https%3A%2F%2Fwww.dtf.vic.gov.au%2Fsites%2Fdefault%2Ffiles%2F2024-10%2FLoan-Agreement.DOCX&wdOrigin=BROWSELINK\n",
    "\n",
    "sample_loan_agreement = \"\"\"\n",
    "Loan Agreement – Standard Terms\n",
    "\n",
    "What is this sample document usually called? Loan Agreement.\n",
    "\n",
    "What group of documents does it\n",
    "\n",
    "belong to? Project Financing Documents. See What other documents are closely related to it? below.\n",
    "\n",
    "Who will sign it? Proponent. Financier.\n",
    "\n",
    "When is it used? Partnerships Addressing Disadvantage arrangements (PAD Arrangement).\n",
    "\n",
    "What does it do? Provides for a loan from the Financier to the Proponent to fund the Project under the relevant PAD Arrangement.\n",
    "\n",
    "What areas does it cover? - The purpose for which funds may be used. - Loan funding mechanics, and applicable interest. - Repayment obligations. - Representations, warranties and undertakings. - Events of default, indemnities and assignment.\n",
    "\n",
    "What drafting options does it\n",
    "\n",
    "include? Optional Provisions that may be applicable to a transaction. Drafting instructions are included in the sample document to assist in drafting for the inclusion (or removal) of these and other optional features.\n",
    "\n",
    "What other documents are\n",
    "\n",
    "closely related to it? - Master Guarantee Deed – provides for a guarantee of the payment of all amounts due and owing by the Proponent to the Financier by the First Loss Guarantor and all Additional Guarantors. - Guarantor Accession Deed Poll – enables Additional Guarantors to accede to the Master Guarantee Deed. - Pledge Deed – enables Pledgors to make a pledge to the Proponent for the purpose of supporting the Project for an aggregate agreed amount. - Side Deed – details, among other things, certain undertakings made by the Proponent and the Financier to the State of Victoria (acting through a named Government Department) (the State) and the State’s limited liability.\n",
    "\n",
    "What should we do before we use\n",
    "\n",
    "this sample document? This sample document contains general provisions and other information only and does not take into account the objectives, needs or financial arrangements of any particular transaction. Before using this sample document, you should: - carefully consider and make your own assessment of whether it is appropriate for the PAD Arrangement or other transaction that you are considering; - perform your own independent investigation and analysis of the suitability and appropriateness of this sample document for any PAD Arrangement or other transaction that you are considering; - consult your own legal, tax, financial and other professional advisers as part of your assessment of this sample document and its\n",
    "\n",
    "suitability for your transaction; and - satisfy yourself that cross references in the sample document to other provisions of the sample document, or to any provisions or the names of other documents, are correct.\n",
    "\n",
    "Why is this sample document\n",
    "\n",
    "available? This sample document is intended to provide a guide for, and to streamline the development of, the documentation (and specific provisions) that may be used as an alternative financing structure for a PAD Arrangement. The acceptance of the final form of this document by the State will be a key condition for any agreement of the terms of a PAD Arrangement. However, it may not be suitable in all circumstances and the State reserves the right to require a departure from this sample document in order to address the specifics of a particular PAD Arrangement, to address then current market practice and conditions and otherwise as necessary to protect the interests of the relevant department, agency or other State body and the State.\n",
    "\n",
    "Where can I get further\n",
    "\n",
    "information? If you have any questions in relation to this sample document, or any specific provision or other related information, queries can be directed to pads@dtf.vic.gov.au.\n",
    "\n",
    "Legal matters\n",
    "\n",
    "This sample document has been prepared by Norton Rose Fulbright Australia at the request of, and in consultation with, the Victorian Department of Treasury and Finance (DTF) and its advisers. It forms part of a suite of sample transaction documents that has been developed by DTF for use in connection with PAD Arrangements.\n",
    "\n",
    "Users of this sample document are directed to the copyright notices on its cover page. No reliance may be placed for any purposes whatsoever on the provisions and other information contained in this sample document (or any other communications or materials separately provided or discussed verbally in connection with this sample document) or on its completeness, accuracy or fairness. No representation or warranty, expressed or implied, is given by, or on behalf of, the State, Norton Rose Fulbright Australia or any other person as to the provisions and other information included in this sample document being acceptable to the State in all circumstances, that it is suitable for any particular PAD Arrangement or as to the accuracy or completeness of the provisions or other information contained in this sample document and no liability whatsoever is accepted by the State or Norton Rose Fulbright Australia for any loss howsoever arising, directly or indirectly, from any use of such provisions or other information or otherwise arising in connection with it. The provisions and other information in this sample document are subject to negotiation, verification, completion and change.\n",
    "\n",
    "\n",
    "\n",
    "\n",
    "Dated Loan agreement Parties [insert Proponent name] ACN [number] [insert Financier name] ACN [number]\n",
    "\n",
    "\n",
    "© 2019 State of Victoria, State of New South Wales and State of Queensland\n",
    "\n",
    "\n",
    "\n",
    "\n",
    "This document has been prepared by Norton Rose Fulbright Australia at the request of, and in consultation with, the State of Victoria (Department of Treasury and\n",
    "\n",
    "Finance). You are free to re-use this work under a Creative Commons Attribution-NonCommercial-ShareAlike 3.0 Australia licence (available at\n",
    "\n",
    "https://creativecommons.org/licenses/by-nc-sa/3.0/au/legalcode) (Licence), provided you retain this notice, indicate if changes were made and comply with the other\n",
    "\n",
    "licence terms. You must not in any way suggest that the State of Victoria or other Governments endorse you or your use. The licence does not apply to any branding,\n",
    "\n",
    "including Government logos.\n",
    "\n",
    "\n",
    "This document has been derived in part from the sample social benefit bond transaction documents (Reference Work) prepared by the State of Queensland in\n",
    "\n",
    "consultation with Trevor Danos AM and King & Wood Mallesons, available at https://www.treasury.qld.gov.au/projects-infrastructure/initiatives/sbb/resources.php.\n",
    "\n",
    "The Reference Work is derived in part from the sample legal documents of the NSW Office of Social Impact Investment, prepared by the NSW Crown Solicitor’s\n",
    "\n",
    "Office in consultation with Trevor Danos AM, available at http://www.dpc.nsw.gov.au/programs_and_services/social_impact_investment/social_benefit_bonds. To\n",
    "\n",
    "the extent that this work is a derivative work of those works, this work is licensed to you under clause 9 of the Licence.\n",
    "\n",
    "\n",
    "Copyright queries may be directed to IPpolicy@dtf.vic.gov.au.\n",
    "\n",
    "Contents\n",
    "\n",
    "\n",
    "2 Definitions and interpretation ..........................................................................................4\n",
    "\n",
    "2.1 Details ..............................................................................................................4\n",
    "\n",
    "2.2 Definitions .........................................................................................................4\n",
    "\n",
    "2.3 Interpretation .....................................................................................................8\n",
    "\n",
    "2.4 Parties ..............................................................................................................9\n",
    "\n",
    "3 Availability and limits ......................................................................................................9\n",
    "\n",
    "3.1 Availability of Facility ..........................................................................................9\n",
    "\n",
    "3.2 Conditions Precedent.........................................................................................9\n",
    "\n",
    "3.3 Limit of Facility...................................................................................................9\n",
    "\n",
    "3.4 Redrawings .......................................................................................................9\n",
    "\n",
    "3.5 Cancellation ......................................................................................................9\n",
    "\n",
    "4 Purpose ........................................................................................................................9\n",
    "\n",
    "5 Interest........................................................................................................................ 10\n",
    "\n",
    "5.1 Interest on Advance ......................................................................................... 10\n",
    "\n",
    "5.2 Accrual and payment ....................................................................................... 10\n",
    "\n",
    "5.3 Rate................................................................................................................ 10\n",
    "\n",
    "6 Prepayments of Advances............................................................................................ 10\n",
    "\n",
    "6.1 Voluntary prepayments .................................................................................... 10\n",
    "\n",
    "6.2 Interest and break costs ................................................................................... 10\n",
    "\n",
    "7 Repayments ................................................................................................................ 11\n",
    "\n",
    "7.1 Repayment schedule ....................................................................................... 11\n",
    "\n",
    "7.2 Amount payable............................................................................................... 11\n",
    "\n",
    "8 Payments .................................................................................................................... 11\n",
    "\n",
    "8.1 Payments by Borrower ..................................................................................... 11\n",
    "\n",
    "8.2 No deductions ................................................................................................. 11\n",
    "\n",
    "8.3 Payment to be made on Business Day .............................................................. 12\n",
    "\n",
    "8.4 Appropriation where insufficient money available ............................................... 12\n",
    "\n",
    "8.5 Rounding ........................................................................................................ 12\n",
    "\n",
    "9 Changes in law ............................................................................................................ 12\n",
    "\n",
    "9.1 Increased costs ............................................................................................... 12\n",
    "\n",
    "10 Illegality....................................................................................................................... 13\n",
    "\n",
    "11 Representations and warranties.................................................................................... 13\n",
    "\n",
    "11.1 Representations and warranties........................................................................ 13\n",
    "\n",
    "11.2 Reliance on representations and warranties ...................................................... 14\n",
    "\n",
    "11.3 Repetition........................................................................................................ 14\n",
    "\n",
    "11.4 Survival of representations and warranties ........................................................ 15\n",
    "\n",
    "12 Obligations and undertakings ....................................................................................... 15\n",
    "\n",
    "12.1 Reporting obligations ....................................................................................... 15\n",
    "\n",
    "12.2 Ranking .......................................................................................................... 15\n",
    "\n",
    "12.3 Insurance ........................................................................................................ 15\n",
    "\n",
    "12.4 Negative pledge by the Borrower ...................................................................... 15\n",
    "\n",
    "12.5 Comply with laws ............................................................................................. 16\n",
    "\n",
    "12.6 Other financial accommodation......................................................................... 16\n",
    "\n",
    "12.7 Disposal of assets............................................................................................ 16\n",
    "\n",
    "12.8 Continue to stay in business ............................................................................. 16\n",
    "\n",
    "12.9 No merger or acquisition .................................................................................. 16\n",
    "\n",
    "12.10 No disposal of subsidiaries ............................................................................... 16\n",
    "\n",
    "12.11 Term of undertakings ....................................................................................... 16\n",
    "\n",
    "13 Default ........................................................................................................................ 16\n",
    "\n",
    "13.1 Events of Default ............................................................................................. 16\n",
    "\n",
    "13.2 Obligations under Finance Documents .............................................................. 16\n",
    "\n",
    "13.3 Misrepresentation ............................................................................................ 17\n",
    "\n",
    "13.4 Insolvency Event ............................................................................................. 17\n",
    "\n",
    "13.5 Enforcement against assets ............................................................................. 17\n",
    "\n",
    "13.6 Vitiation of Finance Documents ........................................................................ 17\n",
    "\n",
    "13.7 Revocation of Authorisation .............................................................................. 17\n",
    "\n",
    "13.8 Material adverse effect ..................................................................................... 17\n",
    "\n",
    "13.9 Default under Finance Document...................................................................... 18\n",
    "\n",
    "14 Financier’s rights on Default ......................................................................................... 18\n",
    "\n",
    "14.1 Consequences ................................................................................................ 18\n",
    "\n",
    "14.2 Payments ........................................................................................................ 18\n",
    "\n",
    "15 Fees ........................................................................................................................... 18\n",
    "\n",
    "16 Expenses .................................................................................................................... 18\n",
    "\n",
    "17 Stamp duties and Taxes............................................................................................... 19\n",
    "\n",
    "17.1 Stamp duties and Taxes................................................................................... 19\n",
    "\n",
    "17.2 GST ................................................................................................................ 19\n",
    "\n",
    "17.3 Indemnity ........................................................................................................ 19\n",
    "\n",
    "18 Indemnities.................................................................................................................. 19\n",
    "\n",
    "18.1 Nature............................................................................................................. 19\n",
    "\n",
    "18.2 Survival of obligations ...................................................................................... 20\n",
    "\n",
    "19 Use of State funds ....................................................................................................... 20\n",
    "\n",
    "20 Assignment ................................................................................................................. 20\n",
    "\n",
    "20.1 No assignment by Borrower ............................................................................. 20\n",
    "\n",
    "20.2 Assignment by Financier .................................................................................. 20\n",
    "\n",
    "21 Set-off ......................................................................................................................... 20\n",
    "\n",
    "22 Pledge Deed ............................................................................................................... 20\n",
    "\n",
    "23 Limited rights of recourse ............................................................................................. 21\n",
    "\n",
    "24 Financier’s determination and certificate........................................................................ 22\n",
    "\n",
    "24.1 Certificate........................................................................................................ 22\n",
    "\n",
    "24.2 Not obliged to give reasons .............................................................................. 22\n",
    "\n",
    "24.3 Authorised Officer ............................................................................................ 22\n",
    "\n",
    "25 Cumulative rights ......................................................................................................... 22\n",
    "\n",
    "26 Approvals and consent................................................................................................. 22\n",
    "\n",
    "27 Time of the essence..................................................................................................... 22\n",
    "\n",
    "28 Time for performance................................................................................................... 23\n",
    "\n",
    "29 Records as evidence ................................................................................................... 23\n",
    "\n",
    "30 Supervening legislation ................................................................................................ 23\n",
    "\n",
    "31 Borrower’s own judgment ............................................................................................. 23\n",
    "\n",
    "31.1 No reliance on Financier .................................................................................. 23\n",
    "\n",
    "31.2 Financier not liable........................................................................................... 24\n",
    "\n",
    "32 Authorised Officers ...................................................................................................... 24\n",
    "\n",
    "33 Severability ................................................................................................................. 24\n",
    "\n",
    "34 Variation ..................................................................................................................... 24\n",
    "\n",
    "35 Waiver and exercise of rights........................................................................................ 24\n",
    "\n",
    "35.1 Waiver ............................................................................................................ 24\n",
    "\n",
    "35.2 Exercise of rights ............................................................................................. 24\n",
    "\n",
    "35.3 No liability ....................................................................................................... 24\n",
    "\n",
    "36 Notices........................................................................................................................ 25\n",
    "\n",
    "36.1 Method of service ............................................................................................ 25\n",
    "\n",
    "37 Governing law and jurisdiction ...................................................................................... 25\n",
    "\n",
    "37.1 Relevant Jurisdiction ........................................................................................ 25\n",
    "\n",
    "37.2 Non-exclusive jurisdiction ................................................................................. 25\n",
    "\n",
    "38 Inconsistency of provisions ........................................................................................... 25\n",
    "\n",
    "39 Counterparts ............................................................................................................... 25\n",
    "\n",
    "40 Execution by attorney................................................................................................... 25\n",
    "\n",
    "\n",
    "Agreement dated 2019\n",
    "\n",
    "\n",
    "Details\n",
    "\n",
    "Parties\n",
    "\n",
    "The Financier and the Borrower as described below.\n",
    "\n",
    "Item 1 Financier [Name] ACN [number]\n",
    "\n",
    "Item 2 Borrower [Name] ACN [number]\n",
    "\n",
    "Item 3 Facility Amount (clause 3.3) $[insert facility amount]\n",
    "\n",
    "Item 4 Expiry Date (clause 7.2) [date]\n",
    "\n",
    "Item 5 Interest Rate (clause 5) [percentage (fixed rate)]% per annum.\n",
    "\n",
    "Item 6 Availability Period (clause 3.1) The period commencing on (and including) the first day on which any of the Services (as defined in the Implementation Agreement) (the First Delivery Date) are delivered, and ending on the date falling [months] calendar months after the First Delivery Date (or such other date as agreed between the Financier and the Borrower).\n",
    "\n",
    "Item 7 Purpose (clause 4) To fund the Project.\n",
    "\n",
    "Item 8 Relevant Jurisdiction (clause 37.1) State of Victoria.\n",
    "\n",
    "Item 9 Conditions Precedent (clause 3.2) [Note – the following list of Conditions Precedent is illustrative only and is not exhaustive. The State and/or the Financier may require that additional or alternative conditions be included under this section. The nature of conditions to be included may vary with the transaction structure for a particular PAD Arrangement. Regard should be had to the timings by which each condition can be reasonably expected to be satisfied.] (1) A certificate from the Borrower as to solvency and annexing a resolution of the directors of the Borrower approving the Finance\n",
    "\n",
    "Documents, in such form as is acceptable to the Financier.\n",
    "\n",
    "(2) Specimen signatures A certified specimen signature of each Authorised Officer of the Borrower.\n",
    "\n",
    "(3) Finance Documents Duly executed counterparts of each Finance Document that the Financier requires to be executed on or before the date of the first Advance.\n",
    "\n",
    "(4) Stamping Evidence that all Finance Documents which require stamping have been duly stamped or if the Financier in its sole discretion does not require stamping at that time payment of the estimated funds for payment of stamp duty by the Borrower to the Financier.\n",
    "\n",
    "(5) Fees Evidence that all fees, if any, payable by the Borrower on or before the date of the first Advance have been paid (or will be paid simultaneously with the first Advance).\n",
    "\n",
    "(6) Constitution A certified copy of the constitution of each Finance Party. (7) Guarantors and Pledgors (1) Details of all Guarantors and/or Pledgors. (2) Evidence that each Guarantor and/or Pledgor (as applicable): (a) is credible; (b) in the case of each Guarantor, is one or more large public and private ancillary funds; (c) [in the case of each Pledgor, is a philanthropic trust or foundation]; and (d) has a balance sheet that is capable of supporting its obligations under the Guarantee; (3) Evidence to the satisfaction of the Financier that each Guarantor and/or Pledgor provides a statement from the auditor of that Guarantor and/or Pledgor confirming that that Guarantor and/or Pledgor is a wholesale or sophisticated investor. (8) Repayment Schedule A repayment schedule for the Facility to be agreed in writing between the Borrower and the Financier [provided that the first repayment date shall not fall earlier than [insert date]]; (9) No termination of the [Services Subcontract and/ or] Implementation Agreement Evidence that:\n",
    "\n",
    "(1) [the Services Subcontract and/ or] the Implementation Agreement [is/are] not terminated or proposed to be terminated on or before [insert date] or such extended date as agreed to by the Financier and the Borrower; or (2) if [the Services Subcontract and/or] the Implementation Agreement [has/ have] been terminated or is proposed to be terminated on or before [insert date] (or such extended date as agreed to by the Financier and the Borrower), evidence that further service delivery in respect of the Services is required or contemplated by the Borrower following or in accordance with termination of [the Services Subcontract and/or] the Implementation Agreement. [Note – the Services Subcontract is optional under the Implementation Agreement. If no Services Subcontract is required, this document will need to be updated to remove all references to the Services Subcontract.]\n",
    "\n",
    "Item 10 Fees (clause 15) [insert details of any fees payable – otherwise, specify ‘Not applicable’]\n",
    "\n",
    "Item 11 Address for Notices (clause 36)\n",
    "\n",
    "Borrower: [Name] ACN [number] Address: [insert details] Facsimile: [insert details] Email: [insert details] Attention: [insert contact person/title] Financier: [Name] ACN [number] Address: [insert details] Facsimile: [insert details] Email: [insert details] Attention: [insert contact person/title]\n",
    "\n",
    "\n",
    "\n",
    "\n",
    "It is agreed\n",
    "\n",
    "2 Definitions and interpretation\n",
    "\n",
    "2.1 Details\n",
    "\n",
    "Terms in bold type in the Details have the meaning described under them.\n",
    "\n",
    "2.2 Definitions\n",
    "\n",
    "In this document the following definitions apply unless the context indicates otherwise:\n",
    "\n",
    "(1) Advance means each loan drawn down under the Facility in accordance with this document or, as applicable, the outstanding principal amount of that Advance (including capitalised interest) at the relevant time;\n",
    "\n",
    "(2) Authorisation means:\n",
    "\n",
    "(a) an authorisation, consent, approval, resolution, licence, exemption, filing, lodgment or registration required by any Government Agency or any law; or\n",
    "\n",
    "(b) in relation to anything which will be fully or partially prohibited or restricted by law if a Government Agency intervenes or acts in any way within a specified period after lodgement, filing, registration or notification, the expiry of that period without intervention or action;\n",
    "\n",
    "(3) Authorised Officer means:\n",
    "\n",
    "(a) in relation to a Finance Party, any director or company secretary of that Finance Party, or any other person nominated by that Finance Party by a notice to the Financier as an ‘Authorised Officer’ on behalf of that Finance Party to sign notices or documents in connection with any of the Finance Documents, such notice to be accompanied by specimen signatures of the persons concerned; and\n",
    "\n",
    "\n",
    "(b) in relation to the Financier, any person whose title or office includes the word ‘Director’, ‘Associate Director’, ‘Manager’ or ‘Company Secretary’, or any person acting in any of those offices, or any person nominated by the Financier as an ‘Authorised Officer’ on behalf of the Financier by a notice to the Borrower;\n",
    "\n",
    "(4) Business Day means a day that is not a Saturday, Sunday or public or bank holiday in Melbourne, Australia;\n",
    "\n",
    "(5) Controller has the meaning given to it in section 9 of the Corporations Act;\n",
    "\n",
    "(6) Corporations Act means the Corporations Act 2001 (Cth);\n",
    "\n",
    "(7) Details means the itemised details at the front of this document; (8) Event of Default means any event described in clause 13 or otherwise specified in this document as an Event of Default;\n",
    "\n",
    "(9) Facility means the provision of each Advance to the Borrower as provided in this document;\n",
    "\n",
    "(10) Finance Documents means:\n",
    "\n",
    "(a) this document;\n",
    "\n",
    "(b) the Implementation Agreement;\n",
    "\n",
    "(c) the Master Guarantee Deed;\n",
    "\n",
    "(d) each Guarantor Accession Deed Poll;\n",
    "\n",
    "(e) any document or agreement entered into or provided under or in connection with, or for the purpose of amending or novating, any of the above;\n",
    "\n",
    "(f) any undertaking by or to a party or its lawyers under or in relation to any of the above; and\n",
    "\n",
    "(g) any other document that the Financier and the Borrower agree in writing is a Finance Document for the purposes of this document;\n",
    "\n",
    "(11) Finance Party means the Borrower and each Guarantor or any one or more of them;\n",
    "\n",
    "(12) Financial Indebtedness means any indebtedness or other liability (present or future, actual or contingent) relating to any loan, finance lease (as defined in Australian accounting standards), guarantee or indemnity in relation to any financial accommodation, or other financial accommodation;\n",
    "\n",
    "(13) First Delivery Date has the meaning given to that term in the Details;\n",
    "\n",
    "(14) First Loss Guarantor means [Name] ACN [number];\n",
    "\n",
    "(15) Government Agency means any government or governmental, semi-governmental or judicial entity or authority in any state, country or other jurisdiction, including any self-regulatory organisation established under a statute or stock exchange;\n",
    "\n",
    "(16) GST means any goods or services tax, value-added tax, consumption tax or similar tax including as that term is defined in the GST Act;\n",
    "\n",
    "(17) GST Act means A New Tax System (Goods and Services Tax) Act 1999 (Cth);\n",
    "\n",
    "(18) Guarantee means the guarantee, undertaking and indemnity given under the Master Guarantee Deed;\n",
    "\n",
    "(19) Guarantor has the meaning given to that term in the Master Guarantee Deed;\n",
    "\n",
    "(20) Guarantor Accession Deed Poll has the meaning given to that term in the Master Guarantee Deed;\n",
    "\n",
    "(21) Implementation Agreement means the implementation agreement standard terms dated on or about [date] between the Borrower and the State of Victoria acting through the [insert Department];\n",
    "\n",
    "(22) Insolvency Event means the happening of any one or more of the following events:\n",
    "\n",
    "(a) an application (not being an application that is being contested in good faith and that is withdrawn or dismissed within 5 Business Days of its\n",
    "\n",
    "commencement) is made to a court for an order or an order is made that a body corporate be wound up or that a liquidator or provisional liquidator be appointed to a Finance Party;\n",
    "\n",
    "(b) except to reconstruct or amalgamate while solvent on terms approved in writing by the Financier, a Finance Party enters into, or resolves to enter into, a scheme of arrangement, deed of company arrangement or composition with, or assignment for the benefit of, all or any class of its creditors, or it proposes a reorganisation, moratorium or other administration involving any of them;\n",
    "\n",
    "(c) except to reconstruct or amalgamate while solvent upon terms approved in writing by the Financier, a Finance Party resolves to wind itself up or otherwise dissolve itself, or gives notice of intention to do so, or is otherwise wound up or dissolves;\n",
    "\n",
    "(d) a Finance Party is unable to pay its debts as they fall due or is or states that it is insolvent or is treated as or presumed insolvent under any applicable legislation;\n",
    "\n",
    "(e) a receiver, receiver and manager, trustee, administrator or similar official is appointed over any or all of the assets or undertaking of a Finance Party;\n",
    "\n",
    "(f) a Finance Party takes any step to obtain protection or is granted protection from its creditors, under any applicable legislation;\n",
    "\n",
    "(g) a Liquidation occurs in relation to a Finance Party; or\n",
    "\n",
    "(h) anything analogous or having a substantially similar effect to any of the events specified above happens under the law of any applicable jurisdiction;\n",
    "\n",
    "(23) Liquidation includes provisional liquidation, administration, receivership, compromise, arrangement, amalgamation, reconstruction, winding up, dissolution, assignment for the benefit of creditors, arrangement or compromise with creditors, bankruptcy or death;\n",
    "\n",
    "(24) Master Guarantee Deed means the document of that title dated on or about [date] made by the Borrower, the First Loss Guarantor and the Financier;\n",
    "\n",
    "(25) Material Adverse Effect means a material adverse effect on any one or more of the following:\n",
    "\n",
    "(a) the ability of any Finance Party to comply with its obligations under any Finance Document;\n",
    "\n",
    "(b) the financial condition or business of any Finance Party; or\n",
    "\n",
    "(c) the effectiveness, priority or enforceability of this document or any of the Securities;\n",
    "\n",
    "(26) Outstanding Amount means all money that the Borrower (whether alone or with another person) is or at any time may become actually or contingently liable to pay to or for the account of the Financier (whether alone or with another person) for any reason whatsoever under or in connection with a Finance Document.\n",
    "\n",
    "It includes money by way of principal, interest, fees, costs, indemnities, charges, duties or expenses or payment of liquidated or unliquidated damages for which the Borrower is or at any time may become liable under or in connection with a\n",
    "\n",
    "Finance Document, or as a result of a breach of or default under or in connection with a Finance Document.\n",
    "\n",
    "Where the Borrower would have been liable but for its Liquidation, it will be taken still to be liable;\n",
    "\n",
    "(27) Permitted Encumbrances means in relation to each Finance Party:\n",
    "\n",
    "(a) the Master Guarantee Deed;\n",
    "\n",
    "(b) any Security Interest over any of its assets to which the Financier has expressly consented in writing;\n",
    "\n",
    "(c) a lien arising by operation of law in the ordinary course of day-to-day trading and not securing Financial Indebtedness, where it duly pays the indebtedness secured by that lien other than indebtedness contested in good faith;\n",
    "\n",
    "(d) a charge or lien arising in favour of a Government Agency by operation of statute unless there is default in payment of money secured by that charge or lien; and\n",
    "\n",
    "(e) any rights of set-off, netting or combination of accounts;\n",
    "\n",
    "[Note – consideration should be given as to whether any other encumbrances specific to a Finance Party’s business and/or operations should be specified above.]\n",
    "\n",
    "(28) Pledge Deed means each deed setting out the terms pursuant to which a pledge is made available to the Borrower for the purpose of supporting the Project, including as at the date of this document:\n",
    "\n",
    "(a) the pledge deed dated on or about the date of this document between [insert pledgor(s)] and the Borrower; and\n",
    "\n",
    "(b) the pledge deed dated on or about the date of this document between [insert pledgor(s)] and the Borrower;\n",
    "\n",
    "[Note – include a description of all pledge deeds that are to be entered into on or about the same date as this document.]\n",
    "\n",
    "(29) Pledgor a party that has entered into a Pledge Deed as a ‘pledgor’, including as at the date of this document:\n",
    "\n",
    "(a) [insert pledgor(s)]; and\n",
    "\n",
    "(b) [insert pledgor(s)];\n",
    "\n",
    "(30) Potential Event of Default means any event or circumstance that with the giving of notice or passage of time or both would become an Event of Default;\n",
    "\n",
    "(31) Principal Outstanding means at any time, the aggregate principal amount of all outstanding Advances (including capitalised interest) at that time;\n",
    "\n",
    "(32) Project means [insert description and purpose of the Project];\n",
    "\n",
    "(33) Repayment Schedule means a repayment schedule for the Facility agreed in writing from time to time between the Borrower and the Financier;\n",
    "\n",
    "(34) Security Interest means any interest held as security for the payment of a monetary obligation or the performance of any other obligation, including:\n",
    "\n",
    "(a) a mortgage, charge, encumbrance, lien, pledge or hypothecation; and\n",
    "\n",
    "(b) a bill of sale, assignment, title retention arrangement, trust or power held as security;\n",
    "\n",
    "(35) Services has the meaning given to it in the Implementation Agreement;\n",
    "\n",
    "(36) [Services Subcontract means the services subcontract between the [insert party] and the Borrower in relation to delivery of services under the Project dated on or about the date of this document];\n",
    "\n",
    "[Note – the Services Subcontract is optional under the Implementation Agreement. If no Services Subcontract is required, this document will need to be updated to remove all references to the Services Subcontract.]\n",
    "\n",
    "(37) Side Deed means the side deed dated on or about the date of this document between the Borrower, the State, the Financier and the First Loss Guarantor;\n",
    "\n",
    "(38) State means the State of Victoria acting through the [insert Department];\n",
    "\n",
    "(39) Tax includes any tax, GST, rate, levy, impost or duty (other than a tax on the net overall income of the Financier) and any interest, penalty, fine or expense relating to any of them; and\n",
    "\n",
    "(40) Undrawn Commitment means at any time, the Facility Amount less the aggregate of the Principal Outstanding, at that time.\n",
    "\n",
    "2.3 Interpretation\n",
    "\n",
    "(1) In this document, unless the context indicates otherwise, reference to:\n",
    "\n",
    "(a) one gender includes the others;\n",
    "\n",
    "(b) the singular includes the plural and the plural includes the singular;\n",
    "\n",
    "(c) a person includes a firm, unincorporated association, corporation and a government or statutory body or authority;\n",
    "\n",
    "(d) a party to this document or another agreement or document includes the party's executors, administrators, successors and permitted substitutes or assigns;\n",
    "\n",
    "(e) a clause, annexure or schedule is a reference to a clause of, or annexure or schedule to, this document;\n",
    "\n",
    "(f) an agreement or document is to the agreement or document as amended, novated, supplemented or replaced, except to the extent prohibited by this document;\n",
    "\n",
    "(g) any law, legislation or legislative provision includes any statutory modification, amendment or re-enactment, and any subordinate legislation or regulations issued under that legislation or legislative provision; and\n",
    "\n",
    "(h) \"writing\" includes a facsimile transmission and any means of reproducing words in a tangible and permanently visible form.\n",
    "\n",
    "(2) Where a word or expression is given a particular meaning, other parts of speech and grammatical forms of that word or expression have a corresponding meaning.\n",
    "\n",
    "(3) Headings and any table of contents or index are for convenience only and do not form part of this document or affect its interpretation.\n",
    "\n",
    "(4) A provision of this document must not be construed to the disadvantage of a party merely because that party was responsible for the preparation of the document or the inclusion of the provision in the document.\n",
    "\n",
    "2.4 Parties\n",
    "\n",
    "If a Finance Party comprises 2 or more persons a reference to that Finance Party includes each and any 2 or more of them.\n",
    "\n",
    "3 Availability and limits\n",
    "\n",
    "3.1 Availability of Facility\n",
    "\n",
    "Provided no Event of Default or Potential Event of Default has occurred and subject to this document, the Financier will provide an Advance to the Borrower during the Availability Period on the date requested in writing by the Borrower not less than 2 Business Days (or such shorter period as the Financier may agree) before the date the Advance is to be made. The Facility may be provided in 1 or more Advances in any amount.\n",
    "\n",
    "3.2 Conditions Precedent\n",
    "\n",
    "The right of the Borrower to request an Advance and the obligation of the Financier to make an Advance are subject to the Financier having been provided with the Conditions Precedent in form and substance satisfactory to the Financier.\n",
    "\n",
    "3.3 Limit of Facility\n",
    "\n",
    "The Borrower will not be entitled to request an Advance and the Financier will have no obligation to comply with any request for an Advance which would result in the aggregate of the Principal Outstanding exceeding the Facility Amount.\n",
    "\n",
    "3.4 Redrawings\n",
    "\n",
    "Unless a contrary indication appears in this document, any part of the Facility which is repaid may be re-borrowed in accordance with the terms of this document.\n",
    "\n",
    "3.5 Cancellation\n",
    "\n",
    "After the Availability Period, any Undrawn Commitment under the Facility will be cancelled.\n",
    "\n",
    "4 Purpose\n",
    "\n",
    "The Borrower may only use the Facility for the Purpose or any other purpose the Financier agrees to in writing.\n",
    "\n",
    "5 Interest\n",
    "\n",
    "5.1 Interest on Advance\n",
    "\n",
    "(1) Interest accrues daily on each Advance at the Interest Rate.\n",
    "\n",
    "(2) The Borrower must pay interest in arrears on each Advance on [the last Business Day of each calendar month].\n",
    "\n",
    "[Note – the above timing requirement for payment of interest is illustrative only. Parties may agree a different interest regime depending on the transaction structure for a particular PAD Arrangement.]\n",
    "\n",
    "(3) Interest will be calculated on the actual days elapsed based on a 365 day year.\n",
    "\n",
    "5.2 Accrual and payment\n",
    "\n",
    "(1) Interest accrues on each unpaid amount that is due and payable by the Borrower:\n",
    "\n",
    "(a) daily up to the date of actual payment from (and including) the due date or, in the case of an amount payable by way of reimbursement or indemnity, the date of disbursement or loss, if earlier;\n",
    "\n",
    "(b) both before and after judgment (as a separate and independent obligation); and (c) at the rate provided in clause 5.3. (2) The Borrower must pay interest accrued under this clause 5.2 on demand by the Financier and, if not paid, shall be capitalised as principal on the relevant due date.\n",
    "\n",
    "5.3 Rate The rate applicable under clause 5.2 is the sum of [2%] per annum plus the rate (if any) applicable to the amount immediately before the due date.\n",
    "\n",
    "[Note – the above rate of default interest is indicative only. Parties may agree a different interest regime depending on the transaction structure for a particular PAD Arrangement.]\n",
    "\n",
    "6 Prepayments of Advances\n",
    "\n",
    "6.1 Voluntary prepayments (1) Subject to this clause 6, if the Borrower gives at least 5 Business Days prior notice to the Financier the Borrower may prepay all or part of the Principal Outstanding. That notice is irrevocable and the Borrower must prepay in accordance with it.\n",
    "\n",
    "(2) Unless the Financier agrees otherwise, prepayment of part only of the Principal Outstanding may only be made in a principal amount of a minimum of A$[insert facility amount] or an integral multiple of that amount.\n",
    "\n",
    "6.2 Interest and break costs\n",
    "\n",
    "The Borrower must pay to the Financier for the account of the Financier:\n",
    "\n",
    "(1) any interest accrued on any amount prepaid under this document; and (2) any amount payable under clause 18 in consequence of a prepayment that is not made in accordance with clause 6.1.\n",
    "\n",
    "[Note – the ability for the Borrower to prepay principal outstanding has been included as an example only and may not be applicable to the transaction structure for a particular PAD Arrangement.]\n",
    "\n",
    "7 Repayments\n",
    "\n",
    "7.1 Repayment schedule\n",
    "\n",
    "Subject to this document, the Borrower must repay the Principal Outstanding to the Financier in accordance with the Repayment Schedule.\n",
    "\n",
    "[Note – this document has been drafted on the basis that the relevant loan will be repaid in accordance with a repayment schedule to be separately agreed between the parties. This is illustrative only, and may not be appropriate for a particular PAD Arrangement (eg, in other cases, a bullet repayment on maturity may be agreed/appropriate).]\n",
    "\n",
    "7.2 Amount payable\n",
    "\n",
    "On the Expiry Date the Borrower must pay to the Financier:\n",
    "\n",
    "(1) the whole of any remaining Principal Outstanding together with accrued interest and fees on that amount; and\n",
    "\n",
    "(2) all other money then payable by the Borrower under this document and unpaid.\n",
    "\n",
    "8 Payments\n",
    "\n",
    "8.1 Payments by Borrower\n",
    "\n",
    "The Borrower must make all payments under this document by transfer of immediately available funds to the account or accounts in Australia specified by the Financier, by 11.00am (Melbourne time) on the due date.\n",
    "\n",
    "8.2 No deductions\n",
    "\n",
    "(1) All payments to be made by the Borrower under this document must be made without set-off or counterclaim and free and clear of and without deduction or withholding for or on account of Taxes.\n",
    "\n",
    "(2) If the Borrower is prohibited by law from making a payment free of all deductions and withholdings then:\n",
    "\n",
    "(a) the Borrower must pay an additional amount to the Financier so that the actual amount received after deduction or withholding (and after payment of any additional Taxes or other taxes or charges due as a consequence of the payment of the additional amount) equals the amount that would have been received by the Financier if the deduction or withholding were not required; and\n",
    "\n",
    "(b) the Borrower must promptly provide to the Financier official receipts or other documentation acceptable to the Financier evidencing the payment to the relevant Government Agency of any amount withheld or deducted.\n",
    "\n",
    "8.3 Payment to be made on Business Day\n",
    "\n",
    "(1) Whenever any payment by the Borrower becomes due on a day that is not a Business Day, the due date will be the preceding Business Day.\n",
    "\n",
    "(2) If a payment is received from the Borrower by the Financier on the due date but after the time specified for payment or otherwise not in accordance with this document that payment will be treated as having been received before the specified time on the following Business Day.\n",
    "\n",
    "8.4 Appropriation where insufficient money available\n",
    "\n",
    "Amounts received by the Financier will be appropriated as between principal, interest and other amounts as the Financier may respectively determine. This appropriation will override any appropriation made by a Finance Party. Without limitation the Financier may appropriate amounts received first in payment of amounts payable to it by way of indemnity or reimbursement.\n",
    "\n",
    "8.5 Rounding\n",
    "\n",
    "In making any allocation or appropriation under this document the Financier may round amounts to the nearest dollar.\n",
    "\n",
    "9 Changes in law\n",
    "\n",
    "9.1 Increased costs\n",
    "\n",
    "If the Financier or any holding company of the Financier is affected by any change in, any making of or any change in the interpretation or application by any Government Agency of, any law, official directive or request and as a result:\n",
    "\n",
    "(1) the effective cost to the Financier or any holding company of the Financier of making, funding or maintaining any accommodation made available or to be made available under the Finance Documents is increased in any way;\n",
    "\n",
    "(2) any amount paid or payable to the Financier or received or receivable by the Financier, or the effective return to the Financier under or in respect of any Finance Document is reduced in any way; or\n",
    "\n",
    "(3) the return of the Financier or any holding company of the Financier on the capital that is or becomes directly or indirectly allocated by the Financier to any accommodation made available or to be made available under the Finance Documents is reduced in any way,\n",
    "\n",
    "then:\n",
    "\n",
    "(4) the Financier will promptly notify and provide details of the calculation of the amount of the increased cost or the reduction to the Borrower; and\n",
    "\n",
    "(5) on demand by the Financier, the Borrower must pay to the Financier the amount certified by an Authorised Officer of the Financier to be necessary to compensate it or any holding company of the Financier for that increased cost or the reduction (as applicable).\n",
    "\n",
    "10 Illegality\n",
    "\n",
    "If at any time it is or will become unlawful or contrary to any law or directive of any Government Agency for the Financier to:\n",
    "\n",
    "(1) allow all or part of the Facility to remain outstanding;\n",
    "\n",
    "(2) make or fund or allow to be outstanding all or part of the Facility;\n",
    "\n",
    "(3) carry out all or any of its other obligations under this document; or\n",
    "\n",
    "(4) charge or receiv\n",
    "\n",
    "then on the Financier so notifying the Borrower:\n",
    "\n",
    "(5) that part of the Facility that is or will become unlawful or contrary to any law or directive of any Government Agency will be cancelled; and\n",
    "\n",
    "(6) the Borrower must repay that part that is affected by the illegality on demand or on the date the Financier certifies to be necessary to comply with the relevant law or directive, together with all accrued interest on that amount and any other sum then due to the Financier under this document.\n",
    "\n",
    "11 Representations and warranties\n",
    "\n",
    "11.1 Representations and warranties\n",
    "\n",
    "The Borrower represents and warrants that:\n",
    "\n",
    "[Note – the following list of representations and warranties is illustrative only and is not exhaustive. The State and/or the Financier may require that additional or alternative representations and warranties be included under this section. The nature of representations and warranties to be included may vary with the transaction structure for a particular PAD Arrangement.]\n",
    "\n",
    "(1) it is duly incorporated and validly existing under the law of its jurisdiction of incorporation;\n",
    "\n",
    "(2) it has taken all necessary corporate action to authorise the entry into and performance of the Finance Documents to which it is expressed to be a party, and to carry out the transactions contemplated by those documents;\n",
    "\n",
    "(3) each Finance Document to which it is expressed to be a party is its valid and binding obligation enforceable in accordance with its terms, subject to any necessary stamping and registration;\n",
    "\n",
    "(4) the execution and performance by it of the Finance Documents to which it is expressed to be a party and each transaction contemplated under those documents did not and will not violate in any respect a provision of:\n",
    "\n",
    "(a) a law or treaty or a judgment, ruling, order or decree of a Government Agency binding on it;\n",
    "\n",
    "(b) its constitution; or\n",
    "\n",
    "(c) any other document or agreement that is binding on it or its assets,\n",
    "\n",
    "and, except as provided by the Finance Documents, did not and will not:\n",
    "\n",
    "(d) create or impose a Security Interest on any of its assets; or\n",
    "\n",
    "(e) allow a person to accelerate or cancel an obligation with respect to Financial Indebtedness, or constitute an event of default, cancellation event, prepayment event or similar event (whatever called) under an agreement relating to Financial Indebtedness, whether immediately or after notice or lapse of time or both;\n",
    "\n",
    "(5) no litigation, arbitration, Tax claim, dispute or administrative or other proceeding is current or pending or, to its knowledge, threatened, which may have a Material Adverse Effect;\n",
    "\n",
    "(6) no Event of Default or Potential Event of Default has occurred;\n",
    "\n",
    "(7) each Authorisation that is required in relation to:\n",
    "\n",
    "(a) the execution, delivery and performance by it of the Finance Documents to which it is expressed to be a party and the transactions contemplated by those documents; and\n",
    "\n",
    "(b) the validity and enforceability of those documents,\n",
    "\n",
    "has been obtained or effected, is in full force and effect, has been complied with and all applicable fees have been paid;\n",
    "\n",
    "(8) all financial statements and other documents and information provided by the Borrower to the Financier is true and complete in all material respects at the date of this document or, if provided later, when provided. Neither that information nor its conduct and the conduct of anyone on its behalf in relation to the transactions contemplated by the Finance Documents, was or is misleading in any material respect, by omission or otherwise;\n",
    "\n",
    "(9) it has complied with all laws binding on it;\n",
    "\n",
    "(10) except as disclosed to and agreed to by the Financier, it does not hold any assets as the trustee of any trust;\n",
    "\n",
    "(11) the entry into the Finance Documents to which it is a party is for its commercial benefit;\n",
    "\n",
    "(12) no Controller is currently appointed to any of its property; and\n",
    "\n",
    "(13) it is able to, and will continue to be able to, pay its debts as and when they fall due for payment after entering into or participating in any Finance Document or any transaction contemplated under any of those documents to which it is a party.\n",
    "\n",
    "11.2 Reliance on representations and warranties\n",
    "\n",
    "The Borrower acknowledges that the Financier has entered into the Finance Documents in reliance on the representations and warranties in this document.\n",
    "\n",
    "11.3 Repetition\n",
    "\n",
    "The Borrower will be taken to have represented and warranted to the Financier that the representations and warranties contained in this clause 11 are true, correct and not misleading as at the date of each Advance, on each date on which a Finance Document is executed and on each day when the Outstanding Amount exists.\n",
    "\n",
    "11.4 Survival of representations and warranties\n",
    "\n",
    "All representations and warranties in any Finance Document survive the execution and delivery of the Finance Documents and the provision of Advances and accommodation.\n",
    "\n",
    "12 Obligations and undertakings\n",
    "\n",
    "[Note – the following list of undertakings (including reporting requirements) is illustrative only and is not exhaustive. The State and/or the Financier may require that additional or alternative undertakings be included under this section. The nature of undertakings to be included may vary with the transaction structure for a particular PAD Arrangement.]\n",
    "\n",
    "12.1 Reporting obligations\n",
    "\n",
    "The Borrower must:\n",
    "\n",
    "(1) provide or procure to be provided to the Financier when requested by the Financier such financial and other information as the Financier may require in relation to its financial condition and property and assets and in relation to any Event of Default or Potential Event of Default; and\n",
    "\n",
    "(2) promptly advise the Financier of any Event of Default or Potential Event of Default.\n",
    "\n",
    "12.2 Ranking\n",
    "\n",
    "The Borrower must ensure that its payment obligations to the State under the Documents will rank at least pari passu with the claims of all its other unsecured and unsubordinated creditors including the Financier, except for obligations mandatorily preferred by law applying to companies generally.\n",
    "\n",
    "12.3 Insurance\n",
    "\n",
    "The Borrower must:\n",
    "\n",
    "(1) maintain all risks insurance over all its physical assets, including insurance on the items for which funds are borrowed on terms acceptable to the Financier;\n",
    "\n",
    "(2) where the Facility is used to fund the cost of construction, the Borrower must ensure that the contractor has adequate insurance cover during any construction period on terms acceptable to the Financier; and\n",
    "\n",
    "(3) provide to the Financier evidence of insurance cover annually for the term of this document.\n",
    "\n",
    "12.4 Negative pledge by the Borrower\n",
    "\n",
    "The Borrower must not create or allow to exist without the prior consent of the Financier any Security Interest over all or any of its respective present or future revenues or assets other than:\n",
    "\n",
    "(1) under the Master Guarantee Deed; or\n",
    "\n",
    "(2) Permitted Encumbrances.\n",
    "\n",
    "12.5 Comply with laws\n",
    "\n",
    "The Borrower must comply with all applicable laws and pay all obligations that if unpaid might result in a lien or claim against any of the Borrower's assets;\n",
    "\n",
    "12.6 Other financial accommodation\n",
    "\n",
    "The Borrower undertakes that it will not raise any financial accommodation from any other party [other than financial accommodation agreed by the Financier in writing from time to time].\n",
    "\n",
    "[Note – permitted financial accommodation to be agreed between the parties depending on the structure of the PAD Arrangement. An alternative approach may be to specify particular financial accommodation that is expressly permitted (such as credit cards, loans in the ordinary course of the Borrower’s ordinary business etc).]\n",
    "\n",
    "12.7 Disposal of assets\n",
    "\n",
    "The Borrower must not dispose of any assets other than in its usual and ordinary course of business.\n",
    "\n",
    "12.8 Continue to stay in business\n",
    "\n",
    "The Borrower must not engage in any other business other than that in which it is presently operating.\n",
    "\n",
    "12.9 No merger or acquisition\n",
    "\n",
    "The Borrower must not merge with or acquire another company or entity.\n",
    "\n",
    "12.10 No disposal of subsidiaries\n",
    "\n",
    "The Borrower must not dispose of any of its subsidiaries.\n",
    "\n",
    "12.11 Term of undertakings Each undertaking in this clause 12 continues from the date of this document until the Outstanding Amount is fully and finally repaid.\n",
    "\n",
    "13 Default\n",
    "\n",
    "13.1 Events of Default Each of the following events listed in this clause 13 is an Event of Default (whether or not it is in the control of any Finance Party).\n",
    "\n",
    "[Note – the events of default listed in this section are drafted broadly. These should be carefully considered and revised as required for the purposes of the relevant PAD Arrangement.]\n",
    "\n",
    "13.2 Obligations under Finance Documents\n",
    "\n",
    "A Finance Party fails:\n",
    "\n",
    "(1) to pay or repay in accordance with its obligations under the Finance Documents any part of the Outstanding Amount when due;\n",
    "\n",
    "(2) to comply with any of its other obligations under a Finance Document and, if in the opinion of the Financier that failure can be remedied within 5 Business Days, does not remedy the failure within 5 Business Days after the Financier gives notice to the Borrower requiring that failure to be remedied; or\n",
    "\n",
    "(3) to satisfy within the time stipulated anything that the Financier made a condition of its waiving compliance with a condition precedent or undertaking in a Finance Document.\n",
    "\n",
    "13.3 Misrepresentation\n",
    "\n",
    "A representation, warranty or statement by or on behalf of a Finance Party in a Finance Document, or in a document provided under or in connection with a Finance Document, is not true in a material respect or is misleading in a material respect when made or repeated.\n",
    "\n",
    "13.4 Insolvency Event\n",
    "\n",
    "Any Insolvency Event occurs.\n",
    "\n",
    "13.5 Enforcement against assets\n",
    "\n",
    "One or more of the following events occurs in relation to all or any of the assets and undertaking of a Finance Party:\n",
    "\n",
    "(1) a receiver, receiver and manager, administrative receiver or similar officer is appointed;\n",
    "\n",
    "(2) a Security Interest becomes enforceable or is enforced; or\n",
    "\n",
    "(3) a distress, attachment or other execution is levied or enforced.\n",
    "\n",
    "13.6 Vitiation of Finance Documents\n",
    "\n",
    "One or more of the following events occurs in relation to a Finance Document:\n",
    "\n",
    "(1) all or any part of a Finance Document is terminated or is or becomes void, illegal, invalid, unenforceable or of limited force and effect;\n",
    "\n",
    "(2) a party becomes entitled to terminate, rescind or avoid all or part of a Finance Document; or\n",
    "\n",
    "(3) a party other than the Financier alleges or claims that an event described in clause 13.6(1) has occurred or that it is entitled as described in clause 13.6(2).\n",
    "\n",
    "13.7 Revocation of Authorisation\n",
    "\n",
    "An Authorisation that is material to the performance by any Finance Party of a Finance Document, or to the validity and enforceability of a Finance Document is repealed, revoked or terminated or expires, or is modified or amended or not renewed, or conditions are attached to it in a manner unacceptable to the Financier, and is not immediately replaced by another Authorisation acceptable to the Financier.\n",
    "\n",
    "13.8 Material adverse effect\n",
    "\n",
    "Any event or series of events, whether related or not, occurs, that may have in the opinion of the Financier a Material Adverse Effect.\n",
    "\n",
    "13.9 Default under Finance Document\n",
    "\n",
    "Any default, event of default or potential event of default (as those expression, or any equivalent expressions, are defined in any Finance Document) occurs.\n",
    "\n",
    "14 Financier’s rights on Default\n",
    "\n",
    "14.1 Consequences\n",
    "\n",
    "In addition to any other rights provided by law, any Finance Document or the Side Deed, at any time after an Event of Default (unless that Event of Default has been expressly waived by the Financier in writing) the Financier may do all or any of the following:\n",
    "\n",
    "(1) by notice to the Borrower declare all Outstanding Amount (or any part of that money as specified by the Financier in the notice) actually or contingently owing immediately due and payable, and the Borrower must immediately pay to the Financier the Outstanding Amount (or any part of that money as specified by the Financier in the notice);\n",
    "\n",
    "(2) by notice to the Borrower terminate the obligations of the Financier under this document;\n",
    "\n",
    "(3) enforce any or all of the Guarantees; and\n",
    "\n",
    "(4) take any action whatsoever that the Financier (or any person acting on the Financier’s behalf) is authorised or entitled to take under this document or any other Finance Document on the occurrence of an Event of Default.\n",
    "\n",
    "14.2 Payments\n",
    "\n",
    "All money received by the Financier at any time after any Outstanding Amount has become immediately due and payable under a notice given under clause 14.1 will be applied, subject to any prior ranking claims:\n",
    "\n",
    "(1) firstly, in or towards discharging all costs and expenses incurred by the Financier in preserving, exercising, protecting or enforcing its rights under the Finance Documents;\n",
    "\n",
    "(2) secondly, in or towards discharging the Outstanding Amount and any other money payable under the Finance Documents; and\n",
    "\n",
    "(3) thirdly, subject to payment and satisfaction of all Outstanding Amount and subject to the rights of third parties of which the Financier has actual notice, any balance in payment to the Borrower.\n",
    "\n",
    "15 Fees Subject to clause 19, the Borrower must pay to the Financier the fees (if any) as described in Item 10 of the Details.\n",
    "\n",
    "16 Expenses Subject to clause 19, on demand the Borrower must pay or, if the Financier requires, reimburse the Financier for the Financier’s costs and expenses (including legal costs and expenses on a full indemnity basis) in relation to:\n",
    "\n",
    "(1) the actual, attempted or contemplated enforcement of the Finance Documents, or actual or contemplated exercise, preservation or consideration of any rights, powers or remedies under the Transaction Documents; and\n",
    "\n",
    "(2) any other costs, expenses and fees payable by the Borrower to the Financier under any of the Finance Documents or as otherwise agreed between the Financier and the Borrower.\n",
    "\n",
    "17 Stamp duties and Taxes\n",
    "\n",
    "17.1 Stamp duties and Taxes Subject to clause 19, the Borrower must pay all stamp, transaction, registration and other Taxes (including, subject to clause 17.3, fines and penalties) that may be payable or determined to be payable in relation to the execution, delivery, performance or enforcement of any Finance Document or any payment or receipt or any other transaction contemplated by any Finance Document. Those Taxes exclude any Tax on the overall net income of the Financier.\n",
    "\n",
    "17.2 GST\n",
    "\n",
    "(1) Unless expressly specified otherwise, all payments to be made by the Transaction Parties under or in connection with any Finance Document have been calculated or determined without regard to GST. (2) Subject to clause 19, if all or part of any such payment is the consideration for a taxable supply for GST purposes then, when the Finance Party makes the payment:\n",
    "\n",
    "(a) it must pay to the Financier an additional amount equal to that payment (or part) multiplied by the appropriate rate of GST (currently 10%); and\n",
    "\n",
    "(b) the Financier will promptly provide to the Finance Party a tax invoice complying with the relevant GST legislation.\n",
    "\n",
    "(3) Where under any Finance Document a Finance Party is required to reimburse or indemnify for an amount, the Finance Party must pay the relevant amount (including any sum in respect of GST) less any GST input tax credit the Financier determines that it is entitled to claim in respect of that amount.\n",
    "\n",
    "17.3 Indemnity Subject to clause 19, the Borrower indemnifies the Financier against any liability resulting from delay or omission to pay those Taxes under this clause 17 except to the extent the liability results from failure by the Financier to pay any Tax after having been put in funds to do so by the Borrower.\n",
    "\n",
    "18 Indemnities\n",
    "\n",
    "18.1 Nature Subject to clause 19, the Borrower indemnifies the Financier against any loss, cost, charge, liability or expense the Financier sustains or incurs (but excluding any loss, cost, charge, liability or expense solely caused by the fraud, wilful default or gross negligence of the Financier) caused or contributed to by:\n",
    "\n",
    "(1) any Event of Default or Potential Event of Default;\n",
    "\n",
    "(2) any exercise or attempted exercise of any right, power or remedy under any Finance Document;\n",
    "\n",
    "(3) any act by the Financier in reliance on or any communication purporting to be from a Finance Party or to be given on behalf of that Finance Party that on its face appears to be genuine and signed by an Authorised Officer of that Finance Party; or\n",
    "\n",
    "(4) accommodation requested by the Borrower not being provided for any reason (including failure to fulfil any Condition Precedent, but excluding if due to any default by the Financier).\n",
    "\n",
    "18.2 Survival of obligations\n",
    "\n",
    "Each indemnity in the Finance Documents is a continuing obligation, separate and independent from the other obligations of the Finance Party and survives the termination of this document.\n",
    "\n",
    "19 Use of State funds\n",
    "\n",
    "Other than any legal costs referred to in or otherwise contemplated by the financial model agreed between the Borrower and the State for the Project, any amount in the nature of costs, Taxes and expenses incurred by the Borrower to the Financier under this document must not be:\n",
    "\n",
    "(1) paid out of any funds received by the Borrower from the State under or in accordance with the Implementation Agreement; or\n",
    "\n",
    "(2) paid out of any sources of funds other than as permitted under this document.\n",
    "\n",
    "20 Assignment\n",
    "\n",
    "20.1 No assignment by Borrower\n",
    "\n",
    "The Borrower must not at any time assign or transfer to any person or cause or permit any person to acquire an interest in the Borrower’s rights under the Finance Documents.\n",
    "\n",
    "20.2 Assignment by Financier\n",
    "\n",
    "Subject to the Side Deed, the Financier may at any time assign or transfer all or any of its rights or obligations under the Finance Documents.\n",
    "\n",
    "21 Set-off\n",
    "\n",
    "Subject always to the Side Deed, the Financier may set-off against any debt due and owing by the Borrower to the Financier, including debts due and owing under any Finance Document, any debt due and owing by the Financier to the Borrower, including any money in any currency held by the Financier for the account of the Borrower in any place.\n",
    "\n",
    "22 Pledge Deed\n",
    "\n",
    "The Borrower agrees that, except to the extent otherwise expressly agreed in writing by the Financier, the Borrower must:\n",
    "\n",
    "(1) promptly provide the Financier with true and complete copies of all variations, novations or replacements of each Pledge Deed;\n",
    "\n",
    "(2) use its best endeavours to ensure that each Pledge Deed is at all times legal, valid, binding and enforceable in accordance with its terms;\n",
    "\n",
    "(3) not agree to any amendment to the terms of a Pledge Deed;\n",
    "\n",
    "(4) not assign, novate or otherwise dispose of a Pledge Deed;\n",
    "\n",
    "(5) not request payment under a Pledge Deed;\n",
    "\n",
    "(6) comply with all requirements (including its obligations) under or in relation to each Pledge Deed;\n",
    "\n",
    "(7) not release any other party to a Pledge Deed from any obligation under or in relation to that Pledge Deed;\n",
    "\n",
    "(8) not waive performance by any other party to a Pledge Deed of any obligation under or in relation to that Pledge Deed;\n",
    "\n",
    "(9) not allow any right of set off, any counterclaim, or any defence to performance of obligations, to arise in favour of any other party to a Pledge Deed;\n",
    "\n",
    "(10) obtain and maintain all consents, approvals and authorisations which at any time are necessary in connection with each Pledge Deed or to maintain each Pledge Deed’s continuance, validity or performance (including enforcement);\n",
    "\n",
    "(11) notify the Financier of any non-compliance with obligations under, or dispute under, a Pledge Deed promptly on becoming aware of it;\n",
    "\n",
    "(12) inform the Financier promptly if claims, proceedings or actions are taken or commenced which could adversely affect a Pledge Deed;\n",
    "\n",
    "(13) not do (or omit to do) anything which might result in a Pledge Deed, any of its rights or interests in a Pledge Deed being or becoming invalid, unenforceable, liable to forfeiture or cancellation; and\n",
    "\n",
    "(14) if requested by the Financier in writing exercise its rights, powers and entitlements under any or all Pledge Deeds in accordance with any direction or instruction issued by the Financier, including requesting payment of a pledge under any Pledge Deed and applying that payment towards reduction of the Outstanding Amount.\n",
    "\n",
    "23 Limited rights of recourse (1) Subject to paragraphs (2) and (3) below and to the terms of the Side Deed, there shall be full recourse to the Borrower and to all of its assets for the liabilities of the Borrower under this document and the other Finance Documents, and in no event shall the Guarantors, any Pledgor or any employee, officer, director, advisor, consultant, agent or representative of the Borrower or the Guarantors or any pledgor under a Pledge Deed, be liable or obligated for such liabilities and obligations of the Borrower, other than in terms of the Master Guarantee Deed, each Guarantor Accession Deed Poll and each Pledge Deed.\n",
    "\n",
    "(2) The Borrower's liability under or in connection with this document is limited to the extent the liability can be satisfied out of the assets of the Borrower.\n",
    "\n",
    "(3) The Financier may not seek to recover any amounts owing to it under this document or any other Finance Document by bringing proceedings against the Borrower to have the Borrower wound up. (4) For the avoidance of doubt, but subject to the Side Deed, this clause 23 does not prevent the Financier from:\n",
    "\n",
    "(a) doing anything else necessary to enforce its rights in connection with the assets of the Borrower; or\n",
    "\n",
    "(b) taking proceedings to obtain (1) an injunction or other order to restrain any breach of the Documents; or (2) declaratory relief or another similar judgment or order as to the obligations of the Borrower and Guarantors under the Documents. (5) This clause 23 will not apply to a liability or an obligation of the Borrower as a result of the Borrower's fraud, wilful default or gross negligence, including a wilful failure to comply with any of its obligations under the Finance Documents.\n",
    "\n",
    "24 Financier’s determination and certificate\n",
    "\n",
    "24.1 Certificate\n",
    "\n",
    "A certificate by the Financier relating to any Finance Document is, in the absence of manifest error, conclusive evidence against the Borrower of the matters certified.\n",
    "\n",
    "24.2 Not obliged to give reasons\n",
    "\n",
    "The Financier is not obliged to give the reasons for its determination or opinion in relation to any matter under any Finance Document.\n",
    "\n",
    "24.3 Authorised Officer\n",
    "\n",
    "A determination or an opinion of an Authorised Officer of the Financier that is given to the Borrower or otherwise expressed or acted on by the Financier as being a determination or an opinion of the Financier will be treated as being a determination or opinion of the Financier.\n",
    "\n",
    "25 Cumulative rights\n",
    "\n",
    "The rights, powers and remedies provided in this document are in addition to those provided by law independently of this document and each right, power and remedy provided in this document (including any right of indemnity) is additional to and not exclusive of every other right, power or remedy provided in this document.\n",
    "\n",
    "26 Approvals and consent\n",
    "\n",
    "Subject to any express provision in the Finance Documents to the contrary or unless this document expressly provides otherwise, the Financier may conditionally or unconditionally give or withhold its approval or consent in its absolute discretion.\n",
    "\n",
    "27 Time of the essence\n",
    "\n",
    "(1) Time is of the essence of this document.\n",
    "\n",
    "(2) If the parties agree to vary a time requirement, the time requirement so varied is of the essence of this document.\n",
    "\n",
    "(3) An agreement to vary a time requirement must be in writing.\n",
    "\n",
    "28 Time for performance\n",
    "\n",
    "Subject to any express provision to the contrary in this document, if:\n",
    "\n",
    "(1) the day on which anything is to be done is not a Business Day, that thing must be done on the next following Business Day; and\n",
    "\n",
    "(2) an act, other than a payment or the giving of a communication, is required to be done on a particular day and the act is done after 5.00pm on that day, it will be treated as having be\n",
    "\n",
    "29 Records as evidence\n",
    "\n",
    "The Financier may maintain records specifying:\n",
    "\n",
    "(1) payments made by the Financier for the account of any Finance Party;\n",
    "\n",
    "(2) payments by any Finance Party for the account of the Financier under any Finance Document; and\n",
    "\n",
    "(3) interest, fees, charges, costs and expenses payable in relation to the Finance Documents,\n",
    "\n",
    "and those records will as against the Borrower constitute conclusive evidence, in the absence of manifest error, of the matters set out in them.\n",
    "\n",
    "30 Supervening legislation\n",
    "\n",
    "Any present or future legislation that operates:\n",
    "\n",
    "(1) to lessen or vary in favour of a Finance Party any of its obligations in connection with this document; or\n",
    "\n",
    "(2) to postpone, stay, suspend or curtail any rights of the Financier under this document,\n",
    "\n",
    "is excluded except to the extent that its exclusion is prohibited or rendered ineffective by law.\n",
    "\n",
    "31 Borrower’s own judgment\n",
    "\n",
    "31.1 No reliance on Financier\n",
    "\n",
    "The Borrower will make its own judgment and decision in respect of each utilisation of financial accommodation under this document independently and without reliance on the Financier.\n",
    "\n",
    "31.2 Financier not liable\n",
    "\n",
    "The Financier is under no liability or responsibility (whether in contract, tort or otherwise) and is not to be taken to have accepted any liability or responsibility (whether in contract, tort or otherwise) whatsoever in respect of movement in rates of interest or exchange or any advice, opinions or data rendered or given by any of their officers, employees, agents or other persons representing the Financier, irrespective of whether or not the advice, opinions or data was or is rendered or given at the request of the Borrower or that the advice was or is incorrectly or negligently given.\n",
    "\n",
    "32 Authorised Officers\n",
    "\n",
    "The Borrower:\n",
    "\n",
    "(1) irrevocably authorises the Financier to rely on a certificate by any person purporting to be its director or secretary as to the identity and signatures of its Authorised Officers; and\n",
    "\n",
    "(2) warrants that those persons have been authorised to give notices and communications under or in connection with the Finance Documents.\n",
    "\n",
    "33 Severability\n",
    "\n",
    "A provision of a Finance Document that is prohibited or unenforceable in any jurisdiction is ineffective in that jurisdiction to the extent of the prohibition or unenforceability. This does not invalidate the remaining provisions of that Finance Document nor affect the validity or enforceability of that provision in any other jurisdiction.\n",
    "\n",
    "34 Variation\n",
    "\n",
    "An amendment or variation to this document is not effective unless it is in writing and signed by the parties.\n",
    "\n",
    "35 Waiver and exercise of rights\n",
    "\n",
    "35.1 Waiver\n",
    "\n",
    "A right in favour of the Financier under a Finance Document, a breach of an obligation of a Finance Party under a Finance Document or the occurrence of an Event of Default can only be waived by a written instrument signed by the Financier. No other act, omission or delay of the Financier will constitute a waiver.\n",
    "\n",
    "35.2 Exercise of rights\n",
    "\n",
    "A single or partial exercise or waiver by the Financier of any right under a Finance Document will not prevent any other exercise of that right or the exercise of any other right.\n",
    "\n",
    "35.3 No liability\n",
    "\n",
    "The Financier will not be liable for any loss, cost or expense of the Borrower caused or contributed to by the waiver of, exercise of, attempted exercise of, failure to exercise or delay in exercising a right of the Financier.\n",
    "\n",
    "36 Notices\n",
    "\n",
    "36.1 Method of service\n",
    "\n",
    "All notices or other communications to or by a party to this document:\n",
    "\n",
    "(1) must be in writing;\n",
    "\n",
    "(2) must be signed by an Authorised Officer of the sender;\n",
    "\n",
    "(3) will be treated as being given or made:\n",
    "\n",
    "(a) (in the case of delivery in person or by post) when delivered, received or left at the address of the recipient shown below; or\n",
    "\n",
    "(b) (in the case of a facsimile transmission) on receipt by the sender of an error free transmission report at the end of transmission,\n",
    "\n",
    "but if delivery or receipt is on a day that is not a Business Day in the place to which the communication is sent or is later than 4.00pm (local time), it will be treated as being given or made at the commencement of business on the next Business Day in that place; and\n",
    "\n",
    "(4) must be addressed to the recipient at the address or facsimile number specified in Item 11 of the Details for that party or any other address or facsimile number in the\n",
    "\n",
    "same country subsequently notified by one party to the other parties for the purposes of this document.\n",
    "\n",
    "37 Governing law and jurisdiction\n",
    "\n",
    "37.1 Relevant Jurisdiction\n",
    "\n",
    "The law of the Relevant Jurisdiction governs this document.\n",
    "\n",
    "37.2 Non-exclusive jurisdiction\n",
    "\n",
    "The parties submit to the non-exclusive jurisdiction of the courts of the Relevant Jurisdiction and of the Commonwealth of Australia.\n",
    "\n",
    "38 Inconsistency of provisions\n",
    "\n",
    "If there is any inconsistency between the provisions of this document and the provisions of any other Finance Document, the provisions of this document will govern and apply to the extent of the inconsistency.\n",
    "\n",
    "39 Counterparts\n",
    "\n",
    "This document may be executed in any number of counterparts. Each counterpart is an original but the counterparts together are one and the same instrument.\n",
    "\n",
    "40 Execution by attorney\n",
    "\n",
    "If an attorney executes this document, the attorney declares that the attorney has no notice of revocation, termination or suspension of the power of attorney under which the attorney executes this document.\n",
    "\n",
    "Executed as an agree\"\"\""
   ]
  },
  {
   "cell_type": "code",
   "execution_count": 29,
   "id": "55dd405d",
   "metadata": {},
   "outputs": [],
   "source": [
    "from pydantic import BaseModel\n",
    "from typing import Literal\n",
    "import dspy"
   ]
  },
  {
   "cell_type": "code",
   "execution_count": null,
   "id": "8ff0cd68",
   "metadata": {},
   "outputs": [],
   "source": []
  },
  {
   "cell_type": "code",
   "execution_count": 30,
   "id": "c65a7ed5",
   "metadata": {},
   "outputs": [],
   "source": [
    "class SubSection(dspy.Signature):\n",
    "    \"\"\" A section of a document. \"\"\"\n",
    "    \n",
    "    number: str = dspy.OutputField(desc=\"Sub-section number like 6, 6.1, 6.1.2, 5.2.1.a, 5.2.1.ii\")\n",
    "    heading: str = dspy.OutputField(desc=\"Heading of the sub-section\")\n",
    "    body: str = dspy.OutputField(desc=\"Text content of the sub-section\")\n",
    "    note: str = dspy.OutputField(desc=\"Note content of the sub-section\")\n",
    "    \n",
    "class Section(SubSection):\n",
    "    \"\"\" A section of a document. May contain child sub-sections. \"\"\"\n",
    "\n",
    "    sub_sections: list[SubSection] = dspy.OutputField(desc=\"Child sub-sections, may be empty list if no sub-sections or nested sub-sections\")\n",
    "\n",
    "class LoanAgreement(dspy.Signature):\n",
    "    \"\"\" A loan agreement document. \n",
    "    Instructions:\n",
    "     * Extract the title, parties, definitions, and sections of the agreement.\n",
    "     * Copy the text exactly as it appears in the input, do not summarize or change it\n",
    "     * For each section extract the number, heading, body, note, and any sub-sections recursively.\n",
    "       \"\"\"\n",
    "    \n",
    "    # Inputs\n",
    "    loan_agreement_text = dspy.InputField(desc=\"Full text of the loan agreement\")\n",
    "    \n",
    "    # Outputs\n",
    "    title: str = dspy.OutputField(desc=\"Title of the document\")\n",
    "    parties: list[str] = dspy.OutputField(desc=\"List of parties involved in the agreement\")\n",
    "    definitions: dict[str, str] = dspy.OutputField(desc=\"Key definitions used in the agreement\")\n",
    "    sections: list[Section] = dspy.OutputField(desc=\"Sections of the loan agreement\")\n",
    "    "
   ]
  },
  {
   "cell_type": "code",
   "execution_count": 31,
   "id": "7917452f",
   "metadata": {},
   "outputs": [
    {
     "ename": "KeyboardInterrupt",
     "evalue": "",
     "output_type": "error",
     "traceback": [
      "\u001b[31m---------------------------------------------------------------------------\u001b[39m",
      "\u001b[31mKeyboardInterrupt\u001b[39m                         Traceback (most recent call last)",
      "\u001b[36mCell\u001b[39m\u001b[36m \u001b[39m\u001b[32mIn[31]\u001b[39m\u001b[32m, line 2\u001b[39m\n\u001b[32m      1\u001b[39m predict = dspy.Predict(LoanAgreement)\n\u001b[32m----> \u001b[39m\u001b[32m2\u001b[39m sections = \u001b[43mpredict\u001b[49m\u001b[43m(\u001b[49m\u001b[43mloan_agreement_text\u001b[49m\u001b[43m=\u001b[49m\u001b[43msample_loan_agreement\u001b[49m\u001b[43m)\u001b[49m\n\u001b[32m      3\u001b[39m \u001b[38;5;28mprint\u001b[39m(sections)\n",
      "\u001b[36mFile \u001b[39m\u001b[32m/usr/local/python/3.12.1/lib/python3.12/site-packages/dspy/predict/predict.py:103\u001b[39m, in \u001b[36mPredict.__call__\u001b[39m\u001b[34m(self, *args, **kwargs)\u001b[39m\n\u001b[32m    100\u001b[39m \u001b[38;5;28;01mif\u001b[39;00m args:\n\u001b[32m    101\u001b[39m     \u001b[38;5;28;01mraise\u001b[39;00m \u001b[38;5;167;01mValueError\u001b[39;00m(\u001b[38;5;28mself\u001b[39m._get_positional_args_error_message())\n\u001b[32m--> \u001b[39m\u001b[32m103\u001b[39m \u001b[38;5;28;01mreturn\u001b[39;00m \u001b[38;5;28;43msuper\u001b[39;49m\u001b[43m(\u001b[49m\u001b[43m)\u001b[49m\u001b[43m.\u001b[49m\u001b[34;43m__call__\u001b[39;49m\u001b[43m(\u001b[49m\u001b[43m*\u001b[49m\u001b[43m*\u001b[49m\u001b[43mkwargs\u001b[49m\u001b[43m)\u001b[49m\n",
      "\u001b[36mFile \u001b[39m\u001b[32m/usr/local/python/3.12.1/lib/python3.12/site-packages/dspy/utils/callback.py:326\u001b[39m, in \u001b[36mwith_callbacks.<locals>.sync_wrapper\u001b[39m\u001b[34m(instance, *args, **kwargs)\u001b[39m\n\u001b[32m    324\u001b[39m callbacks = _get_active_callbacks(instance)\n\u001b[32m    325\u001b[39m \u001b[38;5;28;01mif\u001b[39;00m \u001b[38;5;129;01mnot\u001b[39;00m callbacks:\n\u001b[32m--> \u001b[39m\u001b[32m326\u001b[39m     \u001b[38;5;28;01mreturn\u001b[39;00m \u001b[43mfn\u001b[49m\u001b[43m(\u001b[49m\u001b[43minstance\u001b[49m\u001b[43m,\u001b[49m\u001b[43m \u001b[49m\u001b[43m*\u001b[49m\u001b[43margs\u001b[49m\u001b[43m,\u001b[49m\u001b[43m \u001b[49m\u001b[43m*\u001b[49m\u001b[43m*\u001b[49m\u001b[43mkwargs\u001b[49m\u001b[43m)\u001b[49m\n\u001b[32m    328\u001b[39m call_id = uuid.uuid4().hex\n\u001b[32m    330\u001b[39m _execute_start_callbacks(instance, fn, call_id, callbacks, args, kwargs)\n",
      "\u001b[36mFile \u001b[39m\u001b[32m/usr/local/python/3.12.1/lib/python3.12/site-packages/dspy/primitives/module.py:78\u001b[39m, in \u001b[36mModule.__call__\u001b[39m\u001b[34m(self, *args, **kwargs)\u001b[39m\n\u001b[32m     75\u001b[39m     output.set_lm_usage(usage_tracker.get_total_tokens())\n\u001b[32m     76\u001b[39m     \u001b[38;5;28;01mreturn\u001b[39;00m output\n\u001b[32m---> \u001b[39m\u001b[32m78\u001b[39m \u001b[38;5;28;01mreturn\u001b[39;00m \u001b[38;5;28;43mself\u001b[39;49m\u001b[43m.\u001b[49m\u001b[43mforward\u001b[49m\u001b[43m(\u001b[49m\u001b[43m*\u001b[49m\u001b[43margs\u001b[49m\u001b[43m,\u001b[49m\u001b[43m \u001b[49m\u001b[43m*\u001b[49m\u001b[43m*\u001b[49m\u001b[43mkwargs\u001b[49m\u001b[43m)\u001b[49m\n",
      "\u001b[36mFile \u001b[39m\u001b[32m/usr/local/python/3.12.1/lib/python3.12/site-packages/dspy/predict/predict.py:192\u001b[39m, in \u001b[36mPredict.forward\u001b[39m\u001b[34m(self, **kwargs)\u001b[39m\n\u001b[32m    190\u001b[39m \u001b[38;5;28;01melse\u001b[39;00m:\n\u001b[32m    191\u001b[39m     \u001b[38;5;28;01mwith\u001b[39;00m settings.context(send_stream=\u001b[38;5;28;01mNone\u001b[39;00m):\n\u001b[32m--> \u001b[39m\u001b[32m192\u001b[39m         completions = \u001b[43madapter\u001b[49m\u001b[43m(\u001b[49m\u001b[43mlm\u001b[49m\u001b[43m,\u001b[49m\u001b[43m \u001b[49m\u001b[43mlm_kwargs\u001b[49m\u001b[43m=\u001b[49m\u001b[43mconfig\u001b[49m\u001b[43m,\u001b[49m\u001b[43m \u001b[49m\u001b[43msignature\u001b[49m\u001b[43m=\u001b[49m\u001b[43msignature\u001b[49m\u001b[43m,\u001b[49m\u001b[43m \u001b[49m\u001b[43mdemos\u001b[49m\u001b[43m=\u001b[49m\u001b[43mdemos\u001b[49m\u001b[43m,\u001b[49m\u001b[43m \u001b[49m\u001b[43minputs\u001b[49m\u001b[43m=\u001b[49m\u001b[43mkwargs\u001b[49m\u001b[43m)\u001b[49m\n\u001b[32m    194\u001b[39m \u001b[38;5;28;01mreturn\u001b[39;00m \u001b[38;5;28mself\u001b[39m._forward_postprocess(completions, signature, **kwargs)\n",
      "\u001b[36mFile \u001b[39m\u001b[32m/usr/local/python/3.12.1/lib/python3.12/site-packages/dspy/adapters/chat_adapter.py:38\u001b[39m, in \u001b[36mChatAdapter.__call__\u001b[39m\u001b[34m(self, lm, lm_kwargs, signature, demos, inputs)\u001b[39m\n\u001b[32m     29\u001b[39m \u001b[38;5;28;01mdef\u001b[39;00m\u001b[38;5;250m \u001b[39m\u001b[34m__call__\u001b[39m(\n\u001b[32m     30\u001b[39m     \u001b[38;5;28mself\u001b[39m,\n\u001b[32m     31\u001b[39m     lm: LM,\n\u001b[32m   (...)\u001b[39m\u001b[32m     35\u001b[39m     inputs: \u001b[38;5;28mdict\u001b[39m[\u001b[38;5;28mstr\u001b[39m, Any],\n\u001b[32m     36\u001b[39m ) -> \u001b[38;5;28mlist\u001b[39m[\u001b[38;5;28mdict\u001b[39m[\u001b[38;5;28mstr\u001b[39m, Any]]:\n\u001b[32m     37\u001b[39m     \u001b[38;5;28;01mtry\u001b[39;00m:\n\u001b[32m---> \u001b[39m\u001b[32m38\u001b[39m         \u001b[38;5;28;01mreturn\u001b[39;00m \u001b[38;5;28;43msuper\u001b[39;49m\u001b[43m(\u001b[49m\u001b[43m)\u001b[49m\u001b[43m.\u001b[49m\u001b[34;43m__call__\u001b[39;49m\u001b[43m(\u001b[49m\u001b[43mlm\u001b[49m\u001b[43m,\u001b[49m\u001b[43m \u001b[49m\u001b[43mlm_kwargs\u001b[49m\u001b[43m,\u001b[49m\u001b[43m \u001b[49m\u001b[43msignature\u001b[49m\u001b[43m,\u001b[49m\u001b[43m \u001b[49m\u001b[43mdemos\u001b[49m\u001b[43m,\u001b[49m\u001b[43m \u001b[49m\u001b[43minputs\u001b[49m\u001b[43m)\u001b[49m\n\u001b[32m     39\u001b[39m     \u001b[38;5;28;01mexcept\u001b[39;00m \u001b[38;5;167;01mException\u001b[39;00m \u001b[38;5;28;01mas\u001b[39;00m e:\n\u001b[32m     40\u001b[39m         \u001b[38;5;66;03m# fallback to JSONAdapter\u001b[39;00m\n\u001b[32m     41\u001b[39m         \u001b[38;5;28;01mfrom\u001b[39;00m\u001b[38;5;250m \u001b[39m\u001b[34;01mdspy\u001b[39;00m\u001b[34;01m.\u001b[39;00m\u001b[34;01madapters\u001b[39;00m\u001b[34;01m.\u001b[39;00m\u001b[34;01mjson_adapter\u001b[39;00m\u001b[38;5;250m \u001b[39m\u001b[38;5;28;01mimport\u001b[39;00m JSONAdapter\n",
      "\u001b[36mFile \u001b[39m\u001b[32m/usr/local/python/3.12.1/lib/python3.12/site-packages/dspy/adapters/base.py:127\u001b[39m, in \u001b[36mAdapter.__call__\u001b[39m\u001b[34m(self, lm, lm_kwargs, signature, demos, inputs)\u001b[39m\n\u001b[32m    124\u001b[39m processed_signature = \u001b[38;5;28mself\u001b[39m._call_preprocess(lm, lm_kwargs, signature, inputs)\n\u001b[32m    125\u001b[39m inputs = \u001b[38;5;28mself\u001b[39m.format(processed_signature, demos, inputs)\n\u001b[32m--> \u001b[39m\u001b[32m127\u001b[39m outputs = \u001b[43mlm\u001b[49m\u001b[43m(\u001b[49m\u001b[43mmessages\u001b[49m\u001b[43m=\u001b[49m\u001b[43minputs\u001b[49m\u001b[43m,\u001b[49m\u001b[43m \u001b[49m\u001b[43m*\u001b[49m\u001b[43m*\u001b[49m\u001b[43mlm_kwargs\u001b[49m\u001b[43m)\u001b[49m\n\u001b[32m    128\u001b[39m \u001b[38;5;28;01mreturn\u001b[39;00m \u001b[38;5;28mself\u001b[39m._call_postprocess(processed_signature, signature, outputs)\n",
      "\u001b[36mFile \u001b[39m\u001b[32m/usr/local/python/3.12.1/lib/python3.12/site-packages/dspy/utils/callback.py:326\u001b[39m, in \u001b[36mwith_callbacks.<locals>.sync_wrapper\u001b[39m\u001b[34m(instance, *args, **kwargs)\u001b[39m\n\u001b[32m    324\u001b[39m callbacks = _get_active_callbacks(instance)\n\u001b[32m    325\u001b[39m \u001b[38;5;28;01mif\u001b[39;00m \u001b[38;5;129;01mnot\u001b[39;00m callbacks:\n\u001b[32m--> \u001b[39m\u001b[32m326\u001b[39m     \u001b[38;5;28;01mreturn\u001b[39;00m \u001b[43mfn\u001b[49m\u001b[43m(\u001b[49m\u001b[43minstance\u001b[49m\u001b[43m,\u001b[49m\u001b[43m \u001b[49m\u001b[43m*\u001b[49m\u001b[43margs\u001b[49m\u001b[43m,\u001b[49m\u001b[43m \u001b[49m\u001b[43m*\u001b[49m\u001b[43m*\u001b[49m\u001b[43mkwargs\u001b[49m\u001b[43m)\u001b[49m\n\u001b[32m    328\u001b[39m call_id = uuid.uuid4().hex\n\u001b[32m    330\u001b[39m _execute_start_callbacks(instance, fn, call_id, callbacks, args, kwargs)\n",
      "\u001b[36mFile \u001b[39m\u001b[32m/usr/local/python/3.12.1/lib/python3.12/site-packages/dspy/clients/base_lm.py:85\u001b[39m, in \u001b[36mBaseLM.__call__\u001b[39m\u001b[34m(self, prompt, messages, **kwargs)\u001b[39m\n\u001b[32m     83\u001b[39m \u001b[38;5;129m@with_callbacks\u001b[39m\n\u001b[32m     84\u001b[39m \u001b[38;5;28;01mdef\u001b[39;00m\u001b[38;5;250m \u001b[39m\u001b[34m__call__\u001b[39m(\u001b[38;5;28mself\u001b[39m, prompt=\u001b[38;5;28;01mNone\u001b[39;00m, messages=\u001b[38;5;28;01mNone\u001b[39;00m, **kwargs):\n\u001b[32m---> \u001b[39m\u001b[32m85\u001b[39m     response = \u001b[38;5;28;43mself\u001b[39;49m\u001b[43m.\u001b[49m\u001b[43mforward\u001b[49m\u001b[43m(\u001b[49m\u001b[43mprompt\u001b[49m\u001b[43m=\u001b[49m\u001b[43mprompt\u001b[49m\u001b[43m,\u001b[49m\u001b[43m \u001b[49m\u001b[43mmessages\u001b[49m\u001b[43m=\u001b[49m\u001b[43mmessages\u001b[49m\u001b[43m,\u001b[49m\u001b[43m \u001b[49m\u001b[43m*\u001b[49m\u001b[43m*\u001b[49m\u001b[43mkwargs\u001b[49m\u001b[43m)\u001b[49m\n\u001b[32m     86\u001b[39m     outputs = \u001b[38;5;28mself\u001b[39m._process_lm_response(response, prompt, messages, **kwargs)\n\u001b[32m     88\u001b[39m     \u001b[38;5;28;01mreturn\u001b[39;00m outputs\n",
      "\u001b[36mFile \u001b[39m\u001b[32m/usr/local/python/3.12.1/lib/python3.12/site-packages/dspy/clients/lm.py:147\u001b[39m, in \u001b[36mLM.forward\u001b[39m\u001b[34m(self, prompt, messages, **kwargs)\u001b[39m\n\u001b[32m    144\u001b[39m     completion = litellm_responses_completion\n\u001b[32m    145\u001b[39m completion, litellm_cache_args = \u001b[38;5;28mself\u001b[39m._get_cached_completion_fn(completion, cache)\n\u001b[32m--> \u001b[39m\u001b[32m147\u001b[39m results = \u001b[43mcompletion\u001b[49m\u001b[43m(\u001b[49m\n\u001b[32m    148\u001b[39m \u001b[43m    \u001b[49m\u001b[43mrequest\u001b[49m\u001b[43m=\u001b[49m\u001b[38;5;28;43mdict\u001b[39;49m\u001b[43m(\u001b[49m\u001b[43mmodel\u001b[49m\u001b[43m=\u001b[49m\u001b[38;5;28;43mself\u001b[39;49m\u001b[43m.\u001b[49m\u001b[43mmodel\u001b[49m\u001b[43m,\u001b[49m\u001b[43m \u001b[49m\u001b[43mmessages\u001b[49m\u001b[43m=\u001b[49m\u001b[43mmessages\u001b[49m\u001b[43m,\u001b[49m\u001b[43m \u001b[49m\u001b[43m*\u001b[49m\u001b[43m*\u001b[49m\u001b[43mkwargs\u001b[49m\u001b[43m)\u001b[49m\u001b[43m,\u001b[49m\n\u001b[32m    149\u001b[39m \u001b[43m    \u001b[49m\u001b[43mnum_retries\u001b[49m\u001b[43m=\u001b[49m\u001b[38;5;28;43mself\u001b[39;49m\u001b[43m.\u001b[49m\u001b[43mnum_retries\u001b[49m\u001b[43m,\u001b[49m\n\u001b[32m    150\u001b[39m \u001b[43m    \u001b[49m\u001b[43mcache\u001b[49m\u001b[43m=\u001b[49m\u001b[43mlitellm_cache_args\u001b[49m\u001b[43m,\u001b[49m\n\u001b[32m    151\u001b[39m \u001b[43m\u001b[49m\u001b[43m)\u001b[49m\n\u001b[32m    153\u001b[39m \u001b[38;5;28mself\u001b[39m._check_truncation(results)\n\u001b[32m    155\u001b[39m \u001b[38;5;28;01mif\u001b[39;00m \u001b[38;5;129;01mnot\u001b[39;00m \u001b[38;5;28mgetattr\u001b[39m(results, \u001b[33m\"\u001b[39m\u001b[33mcache_hit\u001b[39m\u001b[33m\"\u001b[39m, \u001b[38;5;28;01mFalse\u001b[39;00m) \u001b[38;5;129;01mand\u001b[39;00m dspy.settings.usage_tracker \u001b[38;5;129;01mand\u001b[39;00m \u001b[38;5;28mhasattr\u001b[39m(results, \u001b[33m\"\u001b[39m\u001b[33musage\u001b[39m\u001b[33m\"\u001b[39m):\n",
      "\u001b[36mFile \u001b[39m\u001b[32m/usr/local/python/3.12.1/lib/python3.12/site-packages/dspy/clients/cache.py:235\u001b[39m, in \u001b[36mrequest_cache.<locals>.decorator.<locals>.sync_wrapper\u001b[39m\u001b[34m(*args, **kwargs)\u001b[39m\n\u001b[32m    232\u001b[39m \u001b[38;5;66;03m# Otherwise, compute and store the result\u001b[39;00m\n\u001b[32m    233\u001b[39m \u001b[38;5;66;03m# Make a copy of the original request in case it's modified in place, e.g., deleting some fields\u001b[39;00m\n\u001b[32m    234\u001b[39m original_request = copy.deepcopy(modified_request)\n\u001b[32m--> \u001b[39m\u001b[32m235\u001b[39m result = \u001b[43mfn\u001b[49m\u001b[43m(\u001b[49m\u001b[43m*\u001b[49m\u001b[43margs\u001b[49m\u001b[43m,\u001b[49m\u001b[43m \u001b[49m\u001b[43m*\u001b[49m\u001b[43m*\u001b[49m\u001b[43mkwargs\u001b[49m\u001b[43m)\u001b[49m\n\u001b[32m    236\u001b[39m \u001b[38;5;66;03m# `enable_memory_cache` can be provided at call time to avoid indefinite growth.\u001b[39;00m\n\u001b[32m    237\u001b[39m cache.put(original_request, result, ignored_args_for_cache_key, enable_memory_cache)\n",
      "\u001b[36mFile \u001b[39m\u001b[32m/usr/local/python/3.12.1/lib/python3.12/site-packages/dspy/clients/lm.py:421\u001b[39m, in \u001b[36mlitellm_responses_completion\u001b[39m\u001b[34m(request, num_retries, cache)\u001b[39m\n\u001b[32m    418\u001b[39m request.pop(\u001b[33m\"\u001b[39m\u001b[33mrollout_id\u001b[39m\u001b[33m\"\u001b[39m, \u001b[38;5;28;01mNone\u001b[39;00m)\n\u001b[32m    419\u001b[39m request = _convert_chat_request_to_responses_request(request)\n\u001b[32m--> \u001b[39m\u001b[32m421\u001b[39m \u001b[38;5;28;01mreturn\u001b[39;00m \u001b[43mlitellm\u001b[49m\u001b[43m.\u001b[49m\u001b[43mresponses\u001b[49m\u001b[43m(\u001b[49m\n\u001b[32m    422\u001b[39m \u001b[43m    \u001b[49m\u001b[43mcache\u001b[49m\u001b[43m=\u001b[49m\u001b[43mcache\u001b[49m\u001b[43m,\u001b[49m\n\u001b[32m    423\u001b[39m \u001b[43m    \u001b[49m\u001b[43mnum_retries\u001b[49m\u001b[43m=\u001b[49m\u001b[43mnum_retries\u001b[49m\u001b[43m,\u001b[49m\n\u001b[32m    424\u001b[39m \u001b[43m    \u001b[49m\u001b[43mretry_strategy\u001b[49m\u001b[43m=\u001b[49m\u001b[33;43m\"\u001b[39;49m\u001b[33;43mexponential_backoff_retry\u001b[39;49m\u001b[33;43m\"\u001b[39;49m\u001b[43m,\u001b[49m\n\u001b[32m    425\u001b[39m \u001b[43m    \u001b[49m\u001b[43m*\u001b[49m\u001b[43m*\u001b[49m\u001b[43mrequest\u001b[49m\u001b[43m,\u001b[49m\n\u001b[32m    426\u001b[39m \u001b[43m\u001b[49m\u001b[43m)\u001b[49m\n",
      "\u001b[36mFile \u001b[39m\u001b[32m/usr/local/python/3.12.1/lib/python3.12/site-packages/litellm/utils.py:1218\u001b[39m, in \u001b[36mclient.<locals>.wrapper\u001b[39m\u001b[34m(*args, **kwargs)\u001b[39m\n\u001b[32m   1216\u001b[39m         print_verbose(\u001b[33mf\u001b[39m\u001b[33m\"\u001b[39m\u001b[33mError while checking max token limit: \u001b[39m\u001b[38;5;132;01m{\u001b[39;00m\u001b[38;5;28mstr\u001b[39m(e)\u001b[38;5;132;01m}\u001b[39;00m\u001b[33m\"\u001b[39m)\n\u001b[32m   1217\u001b[39m \u001b[38;5;66;03m# MODEL CALL\u001b[39;00m\n\u001b[32m-> \u001b[39m\u001b[32m1218\u001b[39m result = \u001b[43moriginal_function\u001b[49m\u001b[43m(\u001b[49m\u001b[43m*\u001b[49m\u001b[43margs\u001b[49m\u001b[43m,\u001b[49m\u001b[43m \u001b[49m\u001b[43m*\u001b[49m\u001b[43m*\u001b[49m\u001b[43mkwargs\u001b[49m\u001b[43m)\u001b[49m\n\u001b[32m   1219\u001b[39m end_time = datetime.datetime.now()\n\u001b[32m   1220\u001b[39m \u001b[38;5;28;01mif\u001b[39;00m _is_streaming_request(\n\u001b[32m   1221\u001b[39m     kwargs=kwargs,\n\u001b[32m   1222\u001b[39m     call_type=call_type,\n\u001b[32m   1223\u001b[39m ):\n",
      "\u001b[36mFile \u001b[39m\u001b[32m/usr/local/python/3.12.1/lib/python3.12/site-packages/litellm/responses/main.py:505\u001b[39m, in \u001b[36mresponses\u001b[39m\u001b[34m(input, model, include, instructions, max_output_tokens, prompt, metadata, parallel_tool_calls, previous_response_id, reasoning, store, background, stream, temperature, text, text_format, tool_choice, tools, top_p, truncation, user, service_tier, safety_identifier, extra_headers, extra_query, extra_body, timeout, allowed_openai_params, custom_llm_provider, **kwargs)\u001b[39m\n\u001b[32m    493\u001b[39m litellm_logging_obj.update_environment_variables(\n\u001b[32m    494\u001b[39m     model=model,\n\u001b[32m    495\u001b[39m     user=user,\n\u001b[32m   (...)\u001b[39m\u001b[32m    501\u001b[39m     custom_llm_provider=custom_llm_provider,\n\u001b[32m    502\u001b[39m )\n\u001b[32m    504\u001b[39m \u001b[38;5;66;03m# Call the handler with _is_async flag instead of directly calling the async handler\u001b[39;00m\n\u001b[32m--> \u001b[39m\u001b[32m505\u001b[39m response = \u001b[43mbase_llm_http_handler\u001b[49m\u001b[43m.\u001b[49m\u001b[43mresponse_api_handler\u001b[49m\u001b[43m(\u001b[49m\n\u001b[32m    506\u001b[39m \u001b[43m    \u001b[49m\u001b[43mmodel\u001b[49m\u001b[43m=\u001b[49m\u001b[43mmodel\u001b[49m\u001b[43m,\u001b[49m\n\u001b[32m    507\u001b[39m \u001b[43m    \u001b[49m\u001b[38;5;28;43minput\u001b[39;49m\u001b[43m=\u001b[49m\u001b[38;5;28;43minput\u001b[39;49m\u001b[43m,\u001b[49m\n\u001b[32m    508\u001b[39m \u001b[43m    \u001b[49m\u001b[43mresponses_api_provider_config\u001b[49m\u001b[43m=\u001b[49m\u001b[43mresponses_api_provider_config\u001b[49m\u001b[43m,\u001b[49m\n\u001b[32m    509\u001b[39m \u001b[43m    \u001b[49m\u001b[43mresponse_api_optional_request_params\u001b[49m\u001b[43m=\u001b[49m\u001b[43mresponses_api_request_params\u001b[49m\u001b[43m,\u001b[49m\n\u001b[32m    510\u001b[39m \u001b[43m    \u001b[49m\u001b[43mcustom_llm_provider\u001b[49m\u001b[43m=\u001b[49m\u001b[43mcustom_llm_provider\u001b[49m\u001b[43m,\u001b[49m\n\u001b[32m    511\u001b[39m \u001b[43m    \u001b[49m\u001b[43mlitellm_params\u001b[49m\u001b[43m=\u001b[49m\u001b[43mlitellm_params\u001b[49m\u001b[43m,\u001b[49m\n\u001b[32m    512\u001b[39m \u001b[43m    \u001b[49m\u001b[43mlogging_obj\u001b[49m\u001b[43m=\u001b[49m\u001b[43mlitellm_logging_obj\u001b[49m\u001b[43m,\u001b[49m\n\u001b[32m    513\u001b[39m \u001b[43m    \u001b[49m\u001b[43mextra_headers\u001b[49m\u001b[43m=\u001b[49m\u001b[43mextra_headers\u001b[49m\u001b[43m,\u001b[49m\n\u001b[32m    514\u001b[39m \u001b[43m    \u001b[49m\u001b[43mextra_body\u001b[49m\u001b[43m=\u001b[49m\u001b[43mextra_body\u001b[49m\u001b[43m,\u001b[49m\n\u001b[32m    515\u001b[39m \u001b[43m    \u001b[49m\u001b[43mtimeout\u001b[49m\u001b[43m=\u001b[49m\u001b[43mtimeout\u001b[49m\u001b[43m \u001b[49m\u001b[38;5;129;43;01mor\u001b[39;49;00m\u001b[43m \u001b[49m\u001b[43mrequest_timeout\u001b[49m\u001b[43m,\u001b[49m\n\u001b[32m    516\u001b[39m \u001b[43m    \u001b[49m\u001b[43m_is_async\u001b[49m\u001b[43m=\u001b[49m\u001b[43m_is_async\u001b[49m\u001b[43m,\u001b[49m\n\u001b[32m    517\u001b[39m \u001b[43m    \u001b[49m\u001b[43mclient\u001b[49m\u001b[43m=\u001b[49m\u001b[43mkwargs\u001b[49m\u001b[43m.\u001b[49m\u001b[43mget\u001b[49m\u001b[43m(\u001b[49m\u001b[33;43m\"\u001b[39;49m\u001b[33;43mclient\u001b[39;49m\u001b[33;43m\"\u001b[39;49m\u001b[43m)\u001b[49m\u001b[43m,\u001b[49m\n\u001b[32m    518\u001b[39m \u001b[43m    \u001b[49m\u001b[43mfake_stream\u001b[49m\u001b[43m=\u001b[49m\u001b[43mresponses_api_provider_config\u001b[49m\u001b[43m.\u001b[49m\u001b[43mshould_fake_stream\u001b[49m\u001b[43m(\u001b[49m\n\u001b[32m    519\u001b[39m \u001b[43m        \u001b[49m\u001b[43mmodel\u001b[49m\u001b[43m=\u001b[49m\u001b[43mmodel\u001b[49m\u001b[43m,\u001b[49m\u001b[43m \u001b[49m\u001b[43mstream\u001b[49m\u001b[43m=\u001b[49m\u001b[43mstream\u001b[49m\u001b[43m,\u001b[49m\u001b[43m \u001b[49m\u001b[43mcustom_llm_provider\u001b[49m\u001b[43m=\u001b[49m\u001b[43mcustom_llm_provider\u001b[49m\n\u001b[32m    520\u001b[39m \u001b[43m    \u001b[49m\u001b[43m)\u001b[49m\u001b[43m,\u001b[49m\n\u001b[32m    521\u001b[39m \u001b[43m    \u001b[49m\u001b[43mlitellm_metadata\u001b[49m\u001b[43m=\u001b[49m\u001b[43mkwargs\u001b[49m\u001b[43m.\u001b[49m\u001b[43mget\u001b[49m\u001b[43m(\u001b[49m\u001b[33;43m\"\u001b[39;49m\u001b[33;43mlitellm_metadata\u001b[39;49m\u001b[33;43m\"\u001b[39;49m\u001b[43m,\u001b[49m\u001b[43m \u001b[49m\u001b[43m{\u001b[49m\u001b[43m}\u001b[49m\u001b[43m)\u001b[49m\u001b[43m,\u001b[49m\n\u001b[32m    522\u001b[39m \u001b[43m\u001b[49m\u001b[43m)\u001b[49m\n\u001b[32m    524\u001b[39m \u001b[38;5;66;03m# Update the responses_api_response_id with the model_id\u001b[39;00m\n\u001b[32m    525\u001b[39m \u001b[38;5;28;01mif\u001b[39;00m \u001b[38;5;28misinstance\u001b[39m(response, ResponsesAPIResponse):\n",
      "\u001b[36mFile \u001b[39m\u001b[32m/usr/local/python/3.12.1/lib/python3.12/site-packages/litellm/llms/custom_httpx/llm_http_handler.py:1556\u001b[39m, in \u001b[36mBaseLLMHTTPHandler.response_api_handler\u001b[39m\u001b[34m(self, model, input, responses_api_provider_config, response_api_optional_request_params, custom_llm_provider, litellm_params, logging_obj, extra_headers, extra_body, timeout, client, _is_async, fake_stream, litellm_metadata)\u001b[39m\n\u001b[32m   1546\u001b[39m         \u001b[38;5;28;01mreturn\u001b[39;00m SyncResponsesAPIStreamingIterator(\n\u001b[32m   1547\u001b[39m             response=response,\n\u001b[32m   1548\u001b[39m             model=model,\n\u001b[32m   (...)\u001b[39m\u001b[32m   1552\u001b[39m             custom_llm_provider=custom_llm_provider,\n\u001b[32m   1553\u001b[39m         )\n\u001b[32m   1554\u001b[39m     \u001b[38;5;28;01melse\u001b[39;00m:\n\u001b[32m   1555\u001b[39m         \u001b[38;5;66;03m# For non-streaming requests\u001b[39;00m\n\u001b[32m-> \u001b[39m\u001b[32m1556\u001b[39m         response = \u001b[43msync_httpx_client\u001b[49m\u001b[43m.\u001b[49m\u001b[43mpost\u001b[49m\u001b[43m(\u001b[49m\n\u001b[32m   1557\u001b[39m \u001b[43m            \u001b[49m\u001b[43murl\u001b[49m\u001b[43m=\u001b[49m\u001b[43mapi_base\u001b[49m\u001b[43m,\u001b[49m\n\u001b[32m   1558\u001b[39m \u001b[43m            \u001b[49m\u001b[43mheaders\u001b[49m\u001b[43m=\u001b[49m\u001b[43mheaders\u001b[49m\u001b[43m,\u001b[49m\n\u001b[32m   1559\u001b[39m \u001b[43m            \u001b[49m\u001b[43mjson\u001b[49m\u001b[43m=\u001b[49m\u001b[43mdata\u001b[49m\u001b[43m,\u001b[49m\n\u001b[32m   1560\u001b[39m \u001b[43m            \u001b[49m\u001b[43mtimeout\u001b[49m\u001b[43m=\u001b[49m\u001b[43mtimeout\u001b[49m\n\u001b[32m   1561\u001b[39m \u001b[43m            \u001b[49m\u001b[38;5;129;43;01mor\u001b[39;49;00m\u001b[43m \u001b[49m\u001b[43mresponse_api_optional_request_params\u001b[49m\u001b[43m.\u001b[49m\u001b[43mget\u001b[49m\u001b[43m(\u001b[49m\u001b[33;43m\"\u001b[39;49m\u001b[33;43mtimeout\u001b[39;49m\u001b[33;43m\"\u001b[39;49m\u001b[43m)\u001b[49m\u001b[43m,\u001b[49m\n\u001b[32m   1562\u001b[39m \u001b[43m        \u001b[49m\u001b[43m)\u001b[49m\n\u001b[32m   1563\u001b[39m \u001b[38;5;28;01mexcept\u001b[39;00m \u001b[38;5;167;01mException\u001b[39;00m \u001b[38;5;28;01mas\u001b[39;00m e:\n\u001b[32m   1564\u001b[39m     \u001b[38;5;28;01mraise\u001b[39;00m \u001b[38;5;28mself\u001b[39m._handle_error(\n\u001b[32m   1565\u001b[39m         e=e,\n\u001b[32m   1566\u001b[39m         provider_config=responses_api_provider_config,\n\u001b[32m   1567\u001b[39m     )\n",
      "\u001b[36mFile \u001b[39m\u001b[32m/usr/local/python/3.12.1/lib/python3.12/site-packages/litellm/llms/custom_httpx/http_handler.py:763\u001b[39m, in \u001b[36mHTTPHandler.post\u001b[39m\u001b[34m(self, url, data, json, params, headers, stream, timeout, files, content, logging_obj)\u001b[39m\n\u001b[32m    759\u001b[39m \u001b[38;5;28;01melse\u001b[39;00m:\n\u001b[32m    760\u001b[39m     req = \u001b[38;5;28mself\u001b[39m.client.build_request(\n\u001b[32m    761\u001b[39m         \u001b[33m\"\u001b[39m\u001b[33mPOST\u001b[39m\u001b[33m\"\u001b[39m, url, data=data, json=json, params=params, headers=headers, files=files, content=content  \u001b[38;5;66;03m# type: ignore\u001b[39;00m\n\u001b[32m    762\u001b[39m     )\n\u001b[32m--> \u001b[39m\u001b[32m763\u001b[39m response = \u001b[38;5;28;43mself\u001b[39;49m\u001b[43m.\u001b[49m\u001b[43mclient\u001b[49m\u001b[43m.\u001b[49m\u001b[43msend\u001b[49m\u001b[43m(\u001b[49m\u001b[43mreq\u001b[49m\u001b[43m,\u001b[49m\u001b[43m \u001b[49m\u001b[43mstream\u001b[49m\u001b[43m=\u001b[49m\u001b[43mstream\u001b[49m\u001b[43m)\u001b[49m\n\u001b[32m    764\u001b[39m response.raise_for_status()\n\u001b[32m    765\u001b[39m \u001b[38;5;28;01mreturn\u001b[39;00m response\n",
      "\u001b[36mFile \u001b[39m\u001b[32m~/.local/lib/python3.12/site-packages/httpx/_client.py:914\u001b[39m, in \u001b[36mClient.send\u001b[39m\u001b[34m(self, request, stream, auth, follow_redirects)\u001b[39m\n\u001b[32m    910\u001b[39m \u001b[38;5;28mself\u001b[39m._set_timeout(request)\n\u001b[32m    912\u001b[39m auth = \u001b[38;5;28mself\u001b[39m._build_request_auth(request, auth)\n\u001b[32m--> \u001b[39m\u001b[32m914\u001b[39m response = \u001b[38;5;28;43mself\u001b[39;49m\u001b[43m.\u001b[49m\u001b[43m_send_handling_auth\u001b[49m\u001b[43m(\u001b[49m\n\u001b[32m    915\u001b[39m \u001b[43m    \u001b[49m\u001b[43mrequest\u001b[49m\u001b[43m,\u001b[49m\n\u001b[32m    916\u001b[39m \u001b[43m    \u001b[49m\u001b[43mauth\u001b[49m\u001b[43m=\u001b[49m\u001b[43mauth\u001b[49m\u001b[43m,\u001b[49m\n\u001b[32m    917\u001b[39m \u001b[43m    \u001b[49m\u001b[43mfollow_redirects\u001b[49m\u001b[43m=\u001b[49m\u001b[43mfollow_redirects\u001b[49m\u001b[43m,\u001b[49m\n\u001b[32m    918\u001b[39m \u001b[43m    \u001b[49m\u001b[43mhistory\u001b[49m\u001b[43m=\u001b[49m\u001b[43m[\u001b[49m\u001b[43m]\u001b[49m\u001b[43m,\u001b[49m\n\u001b[32m    919\u001b[39m \u001b[43m\u001b[49m\u001b[43m)\u001b[49m\n\u001b[32m    920\u001b[39m \u001b[38;5;28;01mtry\u001b[39;00m:\n\u001b[32m    921\u001b[39m     \u001b[38;5;28;01mif\u001b[39;00m \u001b[38;5;129;01mnot\u001b[39;00m stream:\n",
      "\u001b[36mFile \u001b[39m\u001b[32m~/.local/lib/python3.12/site-packages/httpx/_client.py:942\u001b[39m, in \u001b[36mClient._send_handling_auth\u001b[39m\u001b[34m(self, request, auth, follow_redirects, history)\u001b[39m\n\u001b[32m    939\u001b[39m request = \u001b[38;5;28mnext\u001b[39m(auth_flow)\n\u001b[32m    941\u001b[39m \u001b[38;5;28;01mwhile\u001b[39;00m \u001b[38;5;28;01mTrue\u001b[39;00m:\n\u001b[32m--> \u001b[39m\u001b[32m942\u001b[39m     response = \u001b[38;5;28;43mself\u001b[39;49m\u001b[43m.\u001b[49m\u001b[43m_send_handling_redirects\u001b[49m\u001b[43m(\u001b[49m\n\u001b[32m    943\u001b[39m \u001b[43m        \u001b[49m\u001b[43mrequest\u001b[49m\u001b[43m,\u001b[49m\n\u001b[32m    944\u001b[39m \u001b[43m        \u001b[49m\u001b[43mfollow_redirects\u001b[49m\u001b[43m=\u001b[49m\u001b[43mfollow_redirects\u001b[49m\u001b[43m,\u001b[49m\n\u001b[32m    945\u001b[39m \u001b[43m        \u001b[49m\u001b[43mhistory\u001b[49m\u001b[43m=\u001b[49m\u001b[43mhistory\u001b[49m\u001b[43m,\u001b[49m\n\u001b[32m    946\u001b[39m \u001b[43m    \u001b[49m\u001b[43m)\u001b[49m\n\u001b[32m    947\u001b[39m     \u001b[38;5;28;01mtry\u001b[39;00m:\n\u001b[32m    948\u001b[39m         \u001b[38;5;28;01mtry\u001b[39;00m:\n",
      "\u001b[36mFile \u001b[39m\u001b[32m~/.local/lib/python3.12/site-packages/httpx/_client.py:979\u001b[39m, in \u001b[36mClient._send_handling_redirects\u001b[39m\u001b[34m(self, request, follow_redirects, history)\u001b[39m\n\u001b[32m    976\u001b[39m \u001b[38;5;28;01mfor\u001b[39;00m hook \u001b[38;5;129;01min\u001b[39;00m \u001b[38;5;28mself\u001b[39m._event_hooks[\u001b[33m\"\u001b[39m\u001b[33mrequest\u001b[39m\u001b[33m\"\u001b[39m]:\n\u001b[32m    977\u001b[39m     hook(request)\n\u001b[32m--> \u001b[39m\u001b[32m979\u001b[39m response = \u001b[38;5;28;43mself\u001b[39;49m\u001b[43m.\u001b[49m\u001b[43m_send_single_request\u001b[49m\u001b[43m(\u001b[49m\u001b[43mrequest\u001b[49m\u001b[43m)\u001b[49m\n\u001b[32m    980\u001b[39m \u001b[38;5;28;01mtry\u001b[39;00m:\n\u001b[32m    981\u001b[39m     \u001b[38;5;28;01mfor\u001b[39;00m hook \u001b[38;5;129;01min\u001b[39;00m \u001b[38;5;28mself\u001b[39m._event_hooks[\u001b[33m\"\u001b[39m\u001b[33mresponse\u001b[39m\u001b[33m\"\u001b[39m]:\n",
      "\u001b[36mFile \u001b[39m\u001b[32m~/.local/lib/python3.12/site-packages/httpx/_client.py:1014\u001b[39m, in \u001b[36mClient._send_single_request\u001b[39m\u001b[34m(self, request)\u001b[39m\n\u001b[32m   1009\u001b[39m     \u001b[38;5;28;01mraise\u001b[39;00m \u001b[38;5;167;01mRuntimeError\u001b[39;00m(\n\u001b[32m   1010\u001b[39m         \u001b[33m\"\u001b[39m\u001b[33mAttempted to send an async request with a sync Client instance.\u001b[39m\u001b[33m\"\u001b[39m\n\u001b[32m   1011\u001b[39m     )\n\u001b[32m   1013\u001b[39m \u001b[38;5;28;01mwith\u001b[39;00m request_context(request=request):\n\u001b[32m-> \u001b[39m\u001b[32m1014\u001b[39m     response = \u001b[43mtransport\u001b[49m\u001b[43m.\u001b[49m\u001b[43mhandle_request\u001b[49m\u001b[43m(\u001b[49m\u001b[43mrequest\u001b[49m\u001b[43m)\u001b[49m\n\u001b[32m   1016\u001b[39m \u001b[38;5;28;01massert\u001b[39;00m \u001b[38;5;28misinstance\u001b[39m(response.stream, SyncByteStream)\n\u001b[32m   1018\u001b[39m response.request = request\n",
      "\u001b[36mFile \u001b[39m\u001b[32m~/.local/lib/python3.12/site-packages/httpx/_transports/default.py:250\u001b[39m, in \u001b[36mHTTPTransport.handle_request\u001b[39m\u001b[34m(self, request)\u001b[39m\n\u001b[32m    237\u001b[39m req = httpcore.Request(\n\u001b[32m    238\u001b[39m     method=request.method,\n\u001b[32m    239\u001b[39m     url=httpcore.URL(\n\u001b[32m   (...)\u001b[39m\u001b[32m    247\u001b[39m     extensions=request.extensions,\n\u001b[32m    248\u001b[39m )\n\u001b[32m    249\u001b[39m \u001b[38;5;28;01mwith\u001b[39;00m map_httpcore_exceptions():\n\u001b[32m--> \u001b[39m\u001b[32m250\u001b[39m     resp = \u001b[38;5;28;43mself\u001b[39;49m\u001b[43m.\u001b[49m\u001b[43m_pool\u001b[49m\u001b[43m.\u001b[49m\u001b[43mhandle_request\u001b[49m\u001b[43m(\u001b[49m\u001b[43mreq\u001b[49m\u001b[43m)\u001b[49m\n\u001b[32m    252\u001b[39m \u001b[38;5;28;01massert\u001b[39;00m \u001b[38;5;28misinstance\u001b[39m(resp.stream, typing.Iterable)\n\u001b[32m    254\u001b[39m \u001b[38;5;28;01mreturn\u001b[39;00m Response(\n\u001b[32m    255\u001b[39m     status_code=resp.status,\n\u001b[32m    256\u001b[39m     headers=resp.headers,\n\u001b[32m    257\u001b[39m     stream=ResponseStream(resp.stream),\n\u001b[32m    258\u001b[39m     extensions=resp.extensions,\n\u001b[32m    259\u001b[39m )\n",
      "\u001b[36mFile \u001b[39m\u001b[32m~/.local/lib/python3.12/site-packages/httpcore/_sync/connection_pool.py:256\u001b[39m, in \u001b[36mConnectionPool.handle_request\u001b[39m\u001b[34m(self, request)\u001b[39m\n\u001b[32m    253\u001b[39m         closing = \u001b[38;5;28mself\u001b[39m._assign_requests_to_connections()\n\u001b[32m    255\u001b[39m     \u001b[38;5;28mself\u001b[39m._close_connections(closing)\n\u001b[32m--> \u001b[39m\u001b[32m256\u001b[39m     \u001b[38;5;28;01mraise\u001b[39;00m exc \u001b[38;5;28;01mfrom\u001b[39;00m\u001b[38;5;250m \u001b[39m\u001b[38;5;28;01mNone\u001b[39;00m\n\u001b[32m    258\u001b[39m \u001b[38;5;66;03m# Return the response. Note that in this case we still have to manage\u001b[39;00m\n\u001b[32m    259\u001b[39m \u001b[38;5;66;03m# the point at which the response is closed.\u001b[39;00m\n\u001b[32m    260\u001b[39m \u001b[38;5;28;01massert\u001b[39;00m \u001b[38;5;28misinstance\u001b[39m(response.stream, typing.Iterable)\n",
      "\u001b[36mFile \u001b[39m\u001b[32m~/.local/lib/python3.12/site-packages/httpcore/_sync/connection_pool.py:236\u001b[39m, in \u001b[36mConnectionPool.handle_request\u001b[39m\u001b[34m(self, request)\u001b[39m\n\u001b[32m    232\u001b[39m connection = pool_request.wait_for_connection(timeout=timeout)\n\u001b[32m    234\u001b[39m \u001b[38;5;28;01mtry\u001b[39;00m:\n\u001b[32m    235\u001b[39m     \u001b[38;5;66;03m# Send the request on the assigned connection.\u001b[39;00m\n\u001b[32m--> \u001b[39m\u001b[32m236\u001b[39m     response = \u001b[43mconnection\u001b[49m\u001b[43m.\u001b[49m\u001b[43mhandle_request\u001b[49m\u001b[43m(\u001b[49m\n\u001b[32m    237\u001b[39m \u001b[43m        \u001b[49m\u001b[43mpool_request\u001b[49m\u001b[43m.\u001b[49m\u001b[43mrequest\u001b[49m\n\u001b[32m    238\u001b[39m \u001b[43m    \u001b[49m\u001b[43m)\u001b[49m\n\u001b[32m    239\u001b[39m \u001b[38;5;28;01mexcept\u001b[39;00m ConnectionNotAvailable:\n\u001b[32m    240\u001b[39m     \u001b[38;5;66;03m# In some cases a connection may initially be available to\u001b[39;00m\n\u001b[32m    241\u001b[39m     \u001b[38;5;66;03m# handle a request, but then become unavailable.\u001b[39;00m\n\u001b[32m    242\u001b[39m     \u001b[38;5;66;03m#\u001b[39;00m\n\u001b[32m    243\u001b[39m     \u001b[38;5;66;03m# In this case we clear the connection and try again.\u001b[39;00m\n\u001b[32m    244\u001b[39m     pool_request.clear_connection()\n",
      "\u001b[36mFile \u001b[39m\u001b[32m~/.local/lib/python3.12/site-packages/httpcore/_sync/connection.py:103\u001b[39m, in \u001b[36mHTTPConnection.handle_request\u001b[39m\u001b[34m(self, request)\u001b[39m\n\u001b[32m    100\u001b[39m     \u001b[38;5;28mself\u001b[39m._connect_failed = \u001b[38;5;28;01mTrue\u001b[39;00m\n\u001b[32m    101\u001b[39m     \u001b[38;5;28;01mraise\u001b[39;00m exc\n\u001b[32m--> \u001b[39m\u001b[32m103\u001b[39m \u001b[38;5;28;01mreturn\u001b[39;00m \u001b[38;5;28;43mself\u001b[39;49m\u001b[43m.\u001b[49m\u001b[43m_connection\u001b[49m\u001b[43m.\u001b[49m\u001b[43mhandle_request\u001b[49m\u001b[43m(\u001b[49m\u001b[43mrequest\u001b[49m\u001b[43m)\u001b[49m\n",
      "\u001b[36mFile \u001b[39m\u001b[32m~/.local/lib/python3.12/site-packages/httpcore/_sync/http11.py:136\u001b[39m, in \u001b[36mHTTP11Connection.handle_request\u001b[39m\u001b[34m(self, request)\u001b[39m\n\u001b[32m    134\u001b[39m     \u001b[38;5;28;01mwith\u001b[39;00m Trace(\u001b[33m\"\u001b[39m\u001b[33mresponse_closed\u001b[39m\u001b[33m\"\u001b[39m, logger, request) \u001b[38;5;28;01mas\u001b[39;00m trace:\n\u001b[32m    135\u001b[39m         \u001b[38;5;28mself\u001b[39m._response_closed()\n\u001b[32m--> \u001b[39m\u001b[32m136\u001b[39m \u001b[38;5;28;01mraise\u001b[39;00m exc\n",
      "\u001b[36mFile \u001b[39m\u001b[32m~/.local/lib/python3.12/site-packages/httpcore/_sync/http11.py:106\u001b[39m, in \u001b[36mHTTP11Connection.handle_request\u001b[39m\u001b[34m(self, request)\u001b[39m\n\u001b[32m     95\u001b[39m     \u001b[38;5;28;01mpass\u001b[39;00m\n\u001b[32m     97\u001b[39m \u001b[38;5;28;01mwith\u001b[39;00m Trace(\n\u001b[32m     98\u001b[39m     \u001b[33m\"\u001b[39m\u001b[33mreceive_response_headers\u001b[39m\u001b[33m\"\u001b[39m, logger, request, kwargs\n\u001b[32m     99\u001b[39m ) \u001b[38;5;28;01mas\u001b[39;00m trace:\n\u001b[32m    100\u001b[39m     (\n\u001b[32m    101\u001b[39m         http_version,\n\u001b[32m    102\u001b[39m         status,\n\u001b[32m    103\u001b[39m         reason_phrase,\n\u001b[32m    104\u001b[39m         headers,\n\u001b[32m    105\u001b[39m         trailing_data,\n\u001b[32m--> \u001b[39m\u001b[32m106\u001b[39m     ) = \u001b[38;5;28;43mself\u001b[39;49m\u001b[43m.\u001b[49m\u001b[43m_receive_response_headers\u001b[49m\u001b[43m(\u001b[49m\u001b[43m*\u001b[49m\u001b[43m*\u001b[49m\u001b[43mkwargs\u001b[49m\u001b[43m)\u001b[49m\n\u001b[32m    107\u001b[39m     trace.return_value = (\n\u001b[32m    108\u001b[39m         http_version,\n\u001b[32m    109\u001b[39m         status,\n\u001b[32m    110\u001b[39m         reason_phrase,\n\u001b[32m    111\u001b[39m         headers,\n\u001b[32m    112\u001b[39m     )\n\u001b[32m    114\u001b[39m network_stream = \u001b[38;5;28mself\u001b[39m._network_stream\n",
      "\u001b[36mFile \u001b[39m\u001b[32m~/.local/lib/python3.12/site-packages/httpcore/_sync/http11.py:177\u001b[39m, in \u001b[36mHTTP11Connection._receive_response_headers\u001b[39m\u001b[34m(self, request)\u001b[39m\n\u001b[32m    174\u001b[39m timeout = timeouts.get(\u001b[33m\"\u001b[39m\u001b[33mread\u001b[39m\u001b[33m\"\u001b[39m, \u001b[38;5;28;01mNone\u001b[39;00m)\n\u001b[32m    176\u001b[39m \u001b[38;5;28;01mwhile\u001b[39;00m \u001b[38;5;28;01mTrue\u001b[39;00m:\n\u001b[32m--> \u001b[39m\u001b[32m177\u001b[39m     event = \u001b[38;5;28;43mself\u001b[39;49m\u001b[43m.\u001b[49m\u001b[43m_receive_event\u001b[49m\u001b[43m(\u001b[49m\u001b[43mtimeout\u001b[49m\u001b[43m=\u001b[49m\u001b[43mtimeout\u001b[49m\u001b[43m)\u001b[49m\n\u001b[32m    178\u001b[39m     \u001b[38;5;28;01mif\u001b[39;00m \u001b[38;5;28misinstance\u001b[39m(event, h11.Response):\n\u001b[32m    179\u001b[39m         \u001b[38;5;28;01mbreak\u001b[39;00m\n",
      "\u001b[36mFile \u001b[39m\u001b[32m~/.local/lib/python3.12/site-packages/httpcore/_sync/http11.py:217\u001b[39m, in \u001b[36mHTTP11Connection._receive_event\u001b[39m\u001b[34m(self, timeout)\u001b[39m\n\u001b[32m    214\u001b[39m     event = \u001b[38;5;28mself\u001b[39m._h11_state.next_event()\n\u001b[32m    216\u001b[39m \u001b[38;5;28;01mif\u001b[39;00m event \u001b[38;5;129;01mis\u001b[39;00m h11.NEED_DATA:\n\u001b[32m--> \u001b[39m\u001b[32m217\u001b[39m     data = \u001b[38;5;28;43mself\u001b[39;49m\u001b[43m.\u001b[49m\u001b[43m_network_stream\u001b[49m\u001b[43m.\u001b[49m\u001b[43mread\u001b[49m\u001b[43m(\u001b[49m\n\u001b[32m    218\u001b[39m \u001b[43m        \u001b[49m\u001b[38;5;28;43mself\u001b[39;49m\u001b[43m.\u001b[49m\u001b[43mREAD_NUM_BYTES\u001b[49m\u001b[43m,\u001b[49m\u001b[43m \u001b[49m\u001b[43mtimeout\u001b[49m\u001b[43m=\u001b[49m\u001b[43mtimeout\u001b[49m\n\u001b[32m    219\u001b[39m \u001b[43m    \u001b[49m\u001b[43m)\u001b[49m\n\u001b[32m    221\u001b[39m     \u001b[38;5;66;03m# If we feed this case through h11 we'll raise an exception like:\u001b[39;00m\n\u001b[32m    222\u001b[39m     \u001b[38;5;66;03m#\u001b[39;00m\n\u001b[32m    223\u001b[39m     \u001b[38;5;66;03m#     httpcore.RemoteProtocolError: can't handle event type\u001b[39;00m\n\u001b[32m   (...)\u001b[39m\u001b[32m    227\u001b[39m     \u001b[38;5;66;03m# perspective. Instead we handle this case distinctly and treat\u001b[39;00m\n\u001b[32m    228\u001b[39m     \u001b[38;5;66;03m# it as a ConnectError.\u001b[39;00m\n\u001b[32m    229\u001b[39m     \u001b[38;5;28;01mif\u001b[39;00m data == \u001b[33mb\u001b[39m\u001b[33m\"\u001b[39m\u001b[33m\"\u001b[39m \u001b[38;5;129;01mand\u001b[39;00m \u001b[38;5;28mself\u001b[39m._h11_state.their_state == h11.SEND_RESPONSE:\n",
      "\u001b[36mFile \u001b[39m\u001b[32m~/.local/lib/python3.12/site-packages/httpcore/_backends/sync.py:128\u001b[39m, in \u001b[36mSyncStream.read\u001b[39m\u001b[34m(self, max_bytes, timeout)\u001b[39m\n\u001b[32m    126\u001b[39m \u001b[38;5;28;01mwith\u001b[39;00m map_exceptions(exc_map):\n\u001b[32m    127\u001b[39m     \u001b[38;5;28mself\u001b[39m._sock.settimeout(timeout)\n\u001b[32m--> \u001b[39m\u001b[32m128\u001b[39m     \u001b[38;5;28;01mreturn\u001b[39;00m \u001b[38;5;28;43mself\u001b[39;49m\u001b[43m.\u001b[49m\u001b[43m_sock\u001b[49m\u001b[43m.\u001b[49m\u001b[43mrecv\u001b[49m\u001b[43m(\u001b[49m\u001b[43mmax_bytes\u001b[49m\u001b[43m)\u001b[49m\n",
      "\u001b[36mFile \u001b[39m\u001b[32m/usr/local/python/3.12.1/lib/python3.12/ssl.py:1234\u001b[39m, in \u001b[36mSSLSocket.recv\u001b[39m\u001b[34m(self, buflen, flags)\u001b[39m\n\u001b[32m   1230\u001b[39m     \u001b[38;5;28;01mif\u001b[39;00m flags != \u001b[32m0\u001b[39m:\n\u001b[32m   1231\u001b[39m         \u001b[38;5;28;01mraise\u001b[39;00m \u001b[38;5;167;01mValueError\u001b[39;00m(\n\u001b[32m   1232\u001b[39m             \u001b[33m\"\u001b[39m\u001b[33mnon-zero flags not allowed in calls to recv() on \u001b[39m\u001b[38;5;132;01m%s\u001b[39;00m\u001b[33m\"\u001b[39m %\n\u001b[32m   1233\u001b[39m             \u001b[38;5;28mself\u001b[39m.\u001b[34m__class__\u001b[39m)\n\u001b[32m-> \u001b[39m\u001b[32m1234\u001b[39m     \u001b[38;5;28;01mreturn\u001b[39;00m \u001b[38;5;28;43mself\u001b[39;49m\u001b[43m.\u001b[49m\u001b[43mread\u001b[49m\u001b[43m(\u001b[49m\u001b[43mbuflen\u001b[49m\u001b[43m)\u001b[49m\n\u001b[32m   1235\u001b[39m \u001b[38;5;28;01melse\u001b[39;00m:\n\u001b[32m   1236\u001b[39m     \u001b[38;5;28;01mreturn\u001b[39;00m \u001b[38;5;28msuper\u001b[39m().recv(buflen, flags)\n",
      "\u001b[36mFile \u001b[39m\u001b[32m/usr/local/python/3.12.1/lib/python3.12/ssl.py:1107\u001b[39m, in \u001b[36mSSLSocket.read\u001b[39m\u001b[34m(self, len, buffer)\u001b[39m\n\u001b[32m   1105\u001b[39m         \u001b[38;5;28;01mreturn\u001b[39;00m \u001b[38;5;28mself\u001b[39m._sslobj.read(\u001b[38;5;28mlen\u001b[39m, buffer)\n\u001b[32m   1106\u001b[39m     \u001b[38;5;28;01melse\u001b[39;00m:\n\u001b[32m-> \u001b[39m\u001b[32m1107\u001b[39m         \u001b[38;5;28;01mreturn\u001b[39;00m \u001b[38;5;28;43mself\u001b[39;49m\u001b[43m.\u001b[49m\u001b[43m_sslobj\u001b[49m\u001b[43m.\u001b[49m\u001b[43mread\u001b[49m\u001b[43m(\u001b[49m\u001b[38;5;28;43mlen\u001b[39;49m\u001b[43m)\u001b[49m\n\u001b[32m   1108\u001b[39m \u001b[38;5;28;01mexcept\u001b[39;00m SSLError \u001b[38;5;28;01mas\u001b[39;00m x:\n\u001b[32m   1109\u001b[39m     \u001b[38;5;28;01mif\u001b[39;00m x.args[\u001b[32m0\u001b[39m] == SSL_ERROR_EOF \u001b[38;5;129;01mand\u001b[39;00m \u001b[38;5;28mself\u001b[39m.suppress_ragged_eofs:\n",
      "\u001b[31mKeyboardInterrupt\u001b[39m: "
     ]
    }
   ],
   "source": [
    "predict = dspy.Predict(LoanAgreement)\n",
    "sections = predict(loan_agreement_text=sample_loan_agreement)\n",
    "print(sections)"
   ]
  },
  {
   "cell_type": "code",
   "execution_count": null,
   "id": "65cc7995",
   "metadata": {},
   "outputs": [
    {
     "name": "stdout",
     "output_type": "stream",
     "text": [
      "40\n",
      "105\n"
     ]
    },
    {
     "data": {
      "text/markdown": [
       "number='2.4' heading='Parties' body='If a Finance Party comprises 2 or more persons a reference to that Finance Party includes each and any 2 or more of them.' note=''"
      ],
      "text/plain": [
       "<IPython.core.display.Markdown object>"
      ]
     },
     "metadata": {},
     "output_type": "display_data"
    }
   ],
   "source": [
    "print(len(sections.definitions.keys()))\n",
    "print(len(sections.sections))\n",
    "md(sections.sections[4])"
   ]
  },
  {
   "cell_type": "code",
   "execution_count": null,
   "id": "881f69a0",
   "metadata": {},
   "outputs": [
    {
     "name": "stdout",
     "output_type": "stream",
     "text": [
      "[Section(number='2', heading='Definitions and interpretation', body='It is agreed\\n\\n2 Definitions and interpretation', note=''), Section(number='2.1', heading='Details', body='Terms in bold type in the Details have the meaning described under them.', note=''), Section(number='2.2', heading='Definitions', body='In this document the following definitions apply unless the context indicates otherwise:\\n\\n(1) Advance means each loan drawn down under the Facility in accordance with this document or, as applicable, the outstanding principal amount of that Advance (including capitalised interest) at the relevant time;\\n\\n(2) Authorisation means:\\n\\n(a) an authorisation, consent, approval, resolution, licence, exemption, filing, lodgment or registration required by any Government Agency or any law; or\\n\\n(b) in relation to anything which will be fully or partially prohibited or restricted by law if a Government Agency intervenes or acts in any way within a specified period after lodgement, filing, registration or notification, the expiry of that period without intervention or action;\\n\\n(3) Authorised Officer means:\\n\\n(a) in relation to a Finance Party, any director or company secretary of that Finance Party, or any other person nominated by that Finance Party by a notice to the Financier as an ‘Authorised Officer’ on behalf of that Finance Party to sign notices or documents in connection with any of the Finance Documents, such notice to be accompanied by specimen signatures of the persons concerned; and\\n\\n\\n(b) in relation to the Financier, any person whose title or office includes the word ‘Director’, ‘Associate Director’, ‘Manager’ or ‘Company Secretary’, or any person acting in any of those offices, or any person nominated by the Financier as an ‘Authorised Officer’ on behalf of the Financier by a notice to the Borrower;\\n\\n(4) Business Day means a day that is not a Saturday, Sunday or public or bank holiday in Melbourne, Australia;\\n\\n(5) Controller has the meaning given to it in section 9 of the Corporations Act;\\n\\n(6) Corporations Act means the Corporations Act 2001 (Cth);\\n\\n(7) Details means the itemised details at the front of this document; (8) Event of Default means any event described in clause 13 or otherwise specified in this document as an Event of Default;\\n\\n(9) Facility means the provision of each Advance to the Borrower as provided in this document;\\n\\n(10) Finance Documents means:\\n\\n(a) this document;\\n\\n(b) the Implementation Agreement;\\n\\n(c) the Master Guarantee Deed;\\n\\n(d) each Guarantor Accession Deed Poll;\\n\\n(e) any document or agreement entered into or provided under or in connection with, or for the purpose of amending or novating, any of the above;\\n\\n(f) any undertaking by or to a party or its lawyers under or in relation to any of the above; and\\n\\n(g) any other document that the Financier and the Borrower agree in writing is a Finance Document for the purposes of this document;\\n\\n(11) Finance Party means the Borrower and each Guarantor or any one or more of them;\\n\\n(12) Financial Indebtedness means any indebtedness or other liability (present or future, actual or contingent) relating to any loan, finance lease (as defined in Australian accounting standards), guarantee or indemnity in relation to any financial accommodation, or other financial accommodation;\\n\\n(13) First Delivery Date has the meaning given to that term in the Details;\\n\\n(14) First Loss Guarantor means [Name] ACN [number];\\n\\n(15) Government Agency means any government or governmental, semi-governmental or judicial entity or authority in any state, country or other jurisdiction, including any self-regulatory organisation established under a statute or stock exchange;\\n\\n(16) GST means any goods or services tax, value-added tax, consumption tax or similar tax including as that term is defined in the GST Act;\\n\\n(17) GST Act means A New Tax System (Goods and Services Tax) Act 1999 (Cth);\\n\\n(18) Guarantee means the guarantee, undertaking and indemnity given under the Master Guarantee Deed;\\n\\n(19) Guarantor has the meaning given to that term in the Master Guarantee Deed;\\n\\n(20) Guarantor Accession Deed Poll has the meaning given to that term in the Master Guarantee Deed;\\n\\n(21) Implementation Agreement means the implementation agreement standard terms dated on or about [date] between the Borrower and the State of Victoria acting through the [insert Department];\\n\\n(22) Insolvency Event means the happening of any one or more of the following events:\\n\\n(a) an application (not being an application that is being contested in good faith and that is withdrawn or dismissed within 5 Business Days of its\\n\\ncommencement) is made to a court for an order or an order is made that a body corporate be wound up or that a liquidator or provisional liquidator be appointed to a Finance Party;\\n\\n(b) except to reconstruct or amalgamate while solvent on terms approved in writing by the Financier, a Finance Party enters into, or resolves to enter into, a scheme of arrangement, deed of company arrangement or composition with, or assignment for the benefit of, all or any class of its creditors, or it proposes a reorganisation, moratorium or other administration involving any of them;\\n\\n(c) except to reconstruct or amalgamate while solvent upon terms approved in writing by the Financier, a Finance Party resolves to wind itself up or otherwise dissolve itself, or gives notice of intention to do so, or is otherwise wound up or dissolves;\\n\\n(d) a Finance Party is unable to pay its debts as they fall due or is or states that it is insolvent or is treated as or presumed insolvent under any applicable legislation;\\n\\n(e) a receiver, receiver and manager, trustee, administrator or similar official is appointed over any or all of the assets or undertaking of a Finance Party;\\n\\n(f) a Finance Party takes any step to obtain protection or is granted protection from its creditors, under any applicable legislation;\\n\\n(g) a Liquidation occurs in relation to a Finance Party; or\\n\\n(h) anything analogous or having a substantially similar effect to any of the events specified above happens under the law of any applicable jurisdiction;\\n\\n(23) Liquidation includes provisional liquidation, administration, receivership, compromise, arrangement, amalgamation, reconstruction, winding up, dissolution, assignment for the benefit of creditors, arrangement or compromise with creditors, bankruptcy or death;\\n\\n(24) Master Guarantee Deed means the document of that title dated on or about [date] made by the Borrower, the First Loss Guarantor and the Financier;\\n\\n(25) Material Adverse Effect means a material adverse effect on any one or more of the following:\\n\\n(a) the ability of any Finance Party to comply with its obligations under any Finance Document;\\n\\n(b) the financial condition or business of any Finance Party; or\\n\\n(c) the effectiveness, priority or enforceability of this document or any of the Securities;\\n\\n(26) Outstanding Amount means all money that the Borrower (whether alone or with another person) is or at any time may become actually or contingently liable to pay to or for the account of the Financier (whether alone or with another person) for any reason whatsoever under or in connection with a Finance Document.\\n\\nIt includes money by way of principal, interest, fees, costs, indemnities, charges, duties or expenses or payment of liquidated or unliquidated damages for which the Borrower is or at any time may become liable under or in connection with a\\n\\nFinance Document, or as a result of a breach of or default under or in connection with a Finance Document.\\n\\nWhere the Borrower would have been liable but for its Liquidation, it will be taken still to be liable;\\n\\n(27) Permitted Encumbrances means in relation to each Finance Party:\\n\\n(a) the Master Guarantee Deed;\\n\\n(b) any Security Interest over any of its assets to which the Financier has expressly consented in writing;\\n\\n(c) a lien arising by operation of law in the ordinary course of day-to-day trading and not securing Financial Indebtedness, where it duly pays the indebtedness secured by that lien other than indebtedness contested in good faith;\\n\\n(d) a charge or lien arising in favour of a Government Agency by operation of statute unless there is default in payment of money secured by that charge or lien; and\\n\\n(e) any rights of set-off, netting or combination of accounts;\\n\\n[Note – consideration should be given as to whether any other encumbrances specific to a Finance Party’s business and/or operations should be specified above.]\\n\\n(28) Pledge Deed means each deed setting out the terms pursuant to which a pledge is made available to the Borrower for the purpose of supporting the Project, including as at the date of this document:\\n\\n(a) the pledge deed dated on or about the date of this document between [insert pledgor(s)] and the Borrower; and\\n\\n(b) the pledge deed dated on or about the date of this document between [insert pledgor(s)] and the Borrower;\\n\\n[Note – include a description of all pledge deeds that are to be entered into on or about the same date as this document.]\\n\\n(29) Pledgor a party that has entered into a Pledge Deed as a ‘pledgor’, including as at the date of this document:\\n\\n(a) [insert pledgor(s)]; and\\n\\n(b) [insert pledgor(s)];\\n\\n(30) Potential Event of Default means any event or circumstance that with the giving of notice or passage of time or both would become an Event of Default;\\n\\n(31) Principal Outstanding means at any time, the aggregate principal amount of all outstanding Advances (including capitalised interest) at that time;\\n\\n(32) Project means [insert description and purpose of the Project];\\n\\n(33) Repayment Schedule means a repayment schedule for the Facility agreed in writing from time to time between the Borrower and the Financier;\\n\\n(34) Security Interest means any interest held as security for the payment of a monetary obligation or the performance of any other obligation, including:\\n\\n(a) a mortgage, charge, encumbrance, lien, pledge or hypothecation; and\\n\\n(b) a bill of sale, assignment, title retention arrangement, trust or power held as security;\\n\\n(35) Services has the meaning given to it in the Implementation Agreement;\\n\\n(36) [Services Subcontract means the services subcontract between the [insert party] and the Borrower in relation to delivery of services under the Project dated on or about the date of this document];\\n\\n[Note – the Services Subcontract is optional under the Implementation Agreement. If no Services Subcontract is required, this document will need to be updated to remove all references to the Services Subcontract.]\\n\\n(37) Side Deed means the side deed dated on or about the date of this document between the Borrower, the State, the Financier and the First Loss Guarantor;\\n\\n(38) State means the State of Victoria acting through the [insert Department];\\n\\n(39) Tax includes any tax, GST, rate, levy, impost or duty (other than a tax on the net overall income of the Financier) and any interest, penalty, fine or expense relating to any of them; and\\n\\n(40) Undrawn Commitment means at any time, the Facility Amount less the aggregate of the Principal Outstanding, at that time.', note=''), Section(number='2.3', heading='Interpretation', body='(1) In this document, unless the context indicates otherwise, reference to:\\n\\n(a) one gender includes the others;\\n\\n(b) the singular includes the plural and the plural includes the singular;\\n\\n(c) a person includes a firm, unincorporated association, corporation and a government or statutory body or authority;\\n\\n(d) a party to this document or another agreement or document includes the party\\'s executors, administrators, successors and permitted substitutes or assigns;\\n\\n(e) a clause, annexure or schedule is a reference to a clause of, or annexure or schedule to, this document;\\n\\n(f) an agreement or document is to the agreement or document as amended, novated, supplemented or replaced, except to the extent prohibited by this document;\\n\\n(g) any law, legislation or legislative provision includes any statutory modification, amendment or re-enactment, and any subordinate legislation or regulations issued under that legislation or legislative provision; and\\n\\n(h) \"writing\" includes a facsimile transmission and any means of reproducing words in a tangible and permanently visible form.\\n\\n(2) Where a word or expression is given a particular meaning, other parts of speech and grammatical forms of that word or expression have a corresponding meaning.\\n\\n(3) Headings and any table of contents or index are for convenience only and do not form part of this document or affect its interpretation.\\n\\n(4) A provision of this document must not be construed to the disadvantage of a party merely because that party was responsible for the preparation of the document or the inclusion of the provision in the document.', note=''), Section(number='2.4', heading='Parties', body='If a Finance Party comprises 2 or more persons a reference to that Finance Party includes each and any 2 or more of them.', note=''), Section(number='3', heading='Availability and limits', body='3 Availability and limits', note=''), Section(number='3.1', heading='Availability of Facility', body='Provided no Event of Default or Potential Event of Default has occurred and subject to this document, the Financier will provide an Advance to the Borrower during the Availability Period on the date requested in writing by the Borrower not less than 2 Business Days (or such shorter period as the Financier may agree) before the date the Advance is to be made. The Facility may be provided in 1 or more Advances in any amount.', note=''), Section(number='3.2', heading='Conditions Precedent', body='The right of the Borrower to request an Advance and the obligation of the Financier to make an Advance are subject to the Financier having been provided with the Conditions Precedent in form and substance satisfactory to the Financier.', note=''), Section(number='3.3', heading='Limit of Facility', body='The Borrower will not be entitled to request an Advance and the Financier will have no obligation to comply with any request for an Advance which would result in the aggregate of the Principal Outstanding exceeding the Facility Amount.', note=''), Section(number='3.4', heading='Redrawings', body='Unless a contrary indication appears in this document, any part of the Facility which is repaid may be re-borrowed in accordance with the terms of this document.', note=''), Section(number='3.5', heading='Cancellation', body='After the Availability Period, any Undrawn Commitment under the Facility will be cancelled.', note=''), Section(number='4', heading='Purpose', body='The Borrower may only use the Facility for the Purpose or any other purpose the Financier agrees to in writing.', note=''), Section(number='5', heading='Interest', body='5 Interest', note=''), Section(number='5.1', heading='Interest on Advance', body='(1) Interest accrues daily on each Advance at the Interest Rate.\\n\\n(2) The Borrower must pay interest in arrears on each Advance on [the last Business Day of each calendar month].\\n\\n[Note – the above timing requirement for payment of interest is illustrative only. Parties may agree a different interest regime depending on the transaction structure for a particular PAD Arrangement.]\\n\\n(3) Interest will be calculated on the actual days elapsed based on a 365 day year.', note='[Note – the above timing requirement for payment of interest is illustrative only. Parties may agree a different interest regime depending on the transaction structure for a particular PAD Arrangement.]'), Section(number='5.2', heading='Accrual and payment', body='(1) Interest accrues on each unpaid amount that is due and payable by the Borrower:\\n\\n(a) daily up to the date of actual payment from (and including) the due date or, in the case of an amount payable by way of reimbursement or indemnity, the date of disbursement or loss, if earlier;\\n\\n(b) both before and after judgment (as a separate and independent obligation); and (c) at the rate provided in clause 5.3. (2) The Borrower must pay interest accrued under this clause 5.2 on demand by the Financier and, if not paid, shall be capitalised as principal on the relevant due date.', note=''), Section(number='5.3', heading='Rate', body='The rate applicable under clause 5.2 is the sum of [2%] per annum plus the rate (if any) applicable to the amount immediately before the due date.\\n\\n[Note – the above rate of default interest is indicative only. Parties may agree a different interest regime depending on the transaction structure for a particular PAD Arrangement.]', note='[Note – the above rate of default interest is indicative only. Parties may agree a different interest regime depending on the transaction structure for a particular PAD Arrangement.]'), Section(number='6', heading='Prepayments of Advances', body='6 Prepayments of Advances', note=''), Section(number='6.1', heading='Voluntary prepayments', body='(1) Subject to this clause 6, if the Borrower gives at least 5 Business Days prior notice to the Financier the Borrower may prepay all or part of the Principal Outstanding. That notice is irrevocable and the Borrower must prepay in accordance with it.\\n\\n(2) Unless the Financier agrees otherwise, prepayment of part only of the Principal Outstanding may only be made in a principal amount of a minimum of A$[insert facility amount] or an integral multiple of that amount.', note=''), Section(number='6.2', heading='Interest and break costs', body='The Borrower must pay to the Financier for the account of the Financier:\\n\\n(1) any interest accrued on any amount prepaid under this document; and (2) any amount payable under clause 18 in consequence of a prepayment that is not made in accordance with clause 6.1.\\n\\n[Note – the ability for the Borrower to prepay principal outstanding has been included as an example only and may not be applicable to the transaction structure for a particular PAD Arrangement.]', note='[Note – the ability for the Borrower to prepay principal outstanding has been included as an example only and may not be applicable to the transaction structure for a particular PAD Arrangement.]'), Section(number='7', heading='Repayments', body='7 Repayments', note=''), Section(number='7.1', heading='Repayment schedule', body='Subject to this document, the Borrower must repay the Principal Outstanding to the Financier in accordance with the Repayment Schedule.\\n\\n[Note – this document has been drafted on the basis that the relevant loan will be repaid in accordance with a repayment schedule to be separately agreed between the parties. This is illustrative only, and may not be appropriate for a particular PAD Arrangement (eg, in other cases, a bullet repayment on maturity may be agreed/appropriate).]', note='[Note – this document has been drafted on the basis that the relevant loan will be repaid in accordance with a repayment schedule to be separately agreed between the parties. This is illustrative only, and may not be appropriate for a particular PAD Arrangement (eg, in other cases, a bullet repayment on maturity may be agreed/appropriate).]'), Section(number='7.2', heading='Amount payable', body='On the Expiry Date the Borrower must pay to the Financier:\\n\\n(1) the whole of any remaining Principal Outstanding together with accrued interest and fees on that amount; and\\n\\n(2) all other money then payable by the Borrower under this document and unpaid.', note=''), Section(number='8', heading='Payments', body='8 Payments', note=''), Section(number='8.1', heading='Payments by Borrower', body='The Borrower must make all payments under this document by transfer of immediately available funds to the account or accounts in Australia specified by the Financier, by 11.00am (Melbourne time) on the due date.', note=''), Section(number='8.2', heading='No deductions', body='(1) All payments to be made by the Borrower under this document must be made without set-off or counterclaim and free and clear of and without deduction or withholding for or on account of Taxes.\\n\\n(2) If the Borrower is prohibited by law from making a payment free of all deductions and withholdings then:\\n\\n(a) the Borrower must pay an additional amount to the Financier so that the actual amount received after deduction or withholding (and after payment of any additional Taxes or other taxes or charges due as a consequence of the payment of the additional amount) equals the amount that would have been received by the Financier if the deduction or withholding were not required; and\\n\\n(b) the Borrower must promptly provide to the Financier official receipts or other documentation acceptable to the Financier evidencing the payment to the relevant Government Agency of any amount withheld or deducted.', note=''), Section(number='8.3', heading='Payment to be made on Business Day', body='(1) Whenever any payment by the Borrower becomes due on a day that is not a Business Day, the due date will be the preceding Business Day.\\n\\n(2) If a payment is received from the Borrower by the Financier on the due date but after the time specified for payment or otherwise not in accordance with this document that payment will be treated as having been received before the specified time on the following Business Day.', note=''), Section(number='8.4', heading='Appropriation where insufficient money available', body='Amounts received by the Financier will be appropriated as between principal, interest and other amounts as the Financier may respectively determine. This appropriation will override any appropriation made by a Finance Party. Without limitation the Financier may appropriate amounts received first in payment of amounts payable to it by way of indemnity or reimbursement.', note=''), Section(number='8.5', heading='Rounding', body='In making any allocation or appropriation under this document the Financier may round amounts to the nearest dollar.', note=''), Section(number='9', heading='Changes in law', body='9 Changes in law', note=''), Section(number='9.1', heading='Increased costs', body='If the Financier or any holding company of the Financier is affected by any change in, any making of or any change in the interpretation or application by any Government Agency of, any law, official directive or request and as a result:\\n\\n(1) the effective cost to the Financier or any holding company of the Financier of making, funding or maintaining any accommodation made available or to be made available under the Finance Documents is increased in any way;\\n\\n(2) any amount paid or payable to the Financier or received or receivable by the Financier, or the effective return to the Financier under or in respect of any Finance Document is reduced in any way; or\\n\\n(3) the return of the Financier or any holding company of the Financier on the capital that is or becomes directly or indirectly allocated by the Financier to any accommodation made available or to be made available under the Finance Documents is reduced in any way,\\n\\nthen:\\n\\n(4) the Financier will promptly notify and provide details of the calculation of the amount of the increased cost or the reduction to the Borrower; and\\n\\n(5) on demand by the Financier, the Borrower must pay to the Financier the amount certified by an Authorised Officer of the Financier to be necessary to compensate it or any holding company of the Financier for that increased cost or the reduction (as applicable).', note=''), Section(number='10', heading='Illegality', body='If at any time it is or will become unlawful or contrary to any law or directive of any Government Agency for the Financier to:\\n\\n(1) allow all or part of the Facility to remain outstanding;\\n\\n(2) make or fund or allow to be outstanding all or part of the Facility;\\n\\n(3) carry out all or any of its other obligations under this document; or\\n\\n(4) charge or receiv\\n\\nthen on the Financier so notifying the Borrower:\\n\\n(5) that part of the Facility that is or will become unlawful or contrary to any law or directive of any Government Agency will be cancelled; and\\n\\n(6) the Borrower must repay that part that is affected by the illegality on demand or on the date the Financier certifies to be necessary to comply with the relevant law or directive, together with all accrued interest on that amount and any other sum then due to the Financier under this document.', note=''), Section(number='11', heading='Representations and warranties', body='11 Representations and warranties', note=''), Section(number='11.1', heading='Representations and warranties', body='The Borrower represents and warrants that:\\n\\n[Note – the following list of representations and warranties is illustrative only and is not exhaustive. The State and/or the Financier may require that additional or alternative representations and warranties be included under this section. The nature of representations and warranties to be included may vary with the transaction structure for a particular PAD Arrangement.]\\n\\n(1) it is duly incorporated and validly existing under the law of its jurisdiction of incorporation;\\n\\n(2) it has taken all necessary corporate action to authorise the entry into and performance of the Finance Documents to which it is expressed to be a party, and to carry out the transactions contemplated by those documents;\\n\\n(3) each Finance Document to which it is expressed to be a party is its valid and binding obligation enforceable in accordance with its terms, subject to any necessary stamping and registration;\\n\\n(4) the execution and performance by it of the Finance Documents to which it is expressed to be a party and each transaction contemplated under those documents did not and will not violate in any respect a provision of:\\n\\n(a) a law or treaty or a judgment, ruling, order or decree of a Government Agency binding on it;\\n\\n(b) its constitution; or\\n\\n(c) any other document or agreement that is binding on it or its assets,\\n\\nand, except as provided by the Finance Documents, did not and will not:\\n\\n(d) create or impose a Security Interest on any of its assets; or\\n\\n(e) allow a person to accelerate or cancel an obligation with respect to Financial Indebtedness, or constitute an event of default, cancellation event, prepayment event or similar event (whatever called) under an agreement relating to Financial Indebtedness, whether immediately or after notice or lapse of time or both;\\n\\n(5) no litigation, arbitration, Tax claim, dispute or administrative or other proceeding is current or pending or, to its knowledge, threatened, which may have a Material Adverse Effect;\\n\\n(6) no Event of Default or Potential Event of Default has occurred;\\n\\n(7) each Authorisation that is required in relation to:\\n\\n(a) the execution, delivery and performance by it of the Finance Documents to which it is expressed to be a party and the transactions contemplated by those documents; and\\n\\n(b) the validity and enforceability of those documents,\\n\\nhas been obtained or effected, is in full force and effect, has been complied with and all applicable fees have been paid;\\n\\n(8) all financial statements and other documents and information provided by the Borrower to the Financier is true and complete in all material respects at the date of this document or, if provided later, when provided. Neither that information nor its conduct and the conduct of anyone on its behalf in relation to the transactions contemplated by the Finance Documents, was or is misleading in any material respect, by omission or otherwise;\\n\\n(9) it has complied with all laws binding on it;\\n\\n(10) except as disclosed to and agreed to by the Financier, it does not hold any assets as the trustee of any trust;\\n\\n(11) the entry into the Finance Documents to which it is a party is for its commercial benefit;\\n\\n(12) no Controller is currently appointed to any of its property; and\\n\\n(13) it is able to, and will continue to be able to, pay its debts as and when they fall due for payment after entering into or participating in any Finance Document or any transaction contemplated under any of those documents to which it is a party.', note='[Note – the following list of representations and warranties is illustrative only and is not exhaustive. The State and/or the Financier may require that additional or alternative representations and warranties be included under this section. The nature of representations and warranties to be included may vary with the transaction structure for a particular PAD Arrangement.]'), Section(number='11.2', heading='Reliance on representations and warranties', body='The Borrower acknowledges that the Financier has entered into the Finance Documents in reliance on the representations and warranties in this document.', note=''), Section(number='11.3', heading='Repetition', body='The Borrower will be taken to have represented and warranted to the Financier that the representations and warranties contained in this clause 11 are true, correct and not misleading as at the date of each Advance, on each date on which a Finance Document is executed and on each day when the Outstanding Amount exists.', note=''), Section(number='11.4', heading='Survival of representations and warranties', body='All representations and warranties in any Finance Document survive the execution and delivery of the Finance Documents and the provision of Advances and accommodation.', note=''), Section(number='12', heading='Obligations and undertakings', body='[Note – the following list of undertakings (including reporting requirements) is illustrative only and is not exhaustive. The State and/or the Financier may require that additional or alternative undertakings be included under this section. The nature of undertakings to be included may vary with the transaction structure for a particular PAD Arrangement.]', note='[Note – the following list of undertakings (including reporting requirements) is illustrative only and is not exhaustive. The State and/or the Financier may require that additional or alternative undertakings be included under this section. The nature of undertakings to be included may vary with the transaction structure for a particular PAD Arrangement.]'), Section(number='12.1', heading='Reporting obligations', body='The Borrower must:\\n\\n(1) provide or procure to be provided to the Financier when requested by the Financier such financial and other information as the Financier may require in relation to its financial condition and property and assets and in relation to any Event of Default or Potential Event of Default; and\\n\\n(2) promptly advise the Financier of any Event of Default or Potential Event of Default.', note=''), Section(number='12.2', heading='Ranking', body='The Borrower must ensure that its payment obligations to the State under the Documents will rank at least pari passu with the claims of all its other unsecured and unsubordinated creditors including the Financier, except for obligations mandatorily preferred by law applying to companies generally.', note=''), Section(number='12.3', heading='Insurance', body='The Borrower must:\\n\\n(1) maintain all risks insurance over all its physical assets, including insurance on the items for which funds are borrowed on terms acceptable to the Financier;\\n\\n(2) where the Facility is used to fund the cost of construction, the Borrower must ensure that the contractor has adequate insurance cover during any construction period on terms acceptable to the Financier; and\\n\\n(3) provide to the Financier evidence of insurance cover annually for the term of this document.', note=''), Section(number='12.4', heading='Negative pledge by the Borrower', body='The Borrower must not create or allow to exist without the prior consent of the Financier any Security Interest over all or any of its respective present or future revenues or assets other than:\\n\\n(1) under the Master Guarantee Deed; or\\n\\n(2) Permitted Encumbrances.', note=''), Section(number='12.5', heading='Comply with laws', body=\"The Borrower must comply with all applicable laws and pay all obligations that if unpaid might result in a lien or claim against any of the Borrower's assets;\", note=''), Section(number='12.6', heading='Other financial accommodation', body='The Borrower undertakes that it will not raise any financial accommodation from any other party [other than financial accommodation agreed by the Financier in writing from time to time].\\n\\n[Note – permitted financial accommodation to be agreed between the parties depending on the structure of the PAD Arrangement. An alternative approach may be to specify particular financial accommodation that is expressly permitted (such as credit cards, loans in the ordinary course of the Borrower’s ordinary business etc).]', note='[Note – permitted financial accommodation to be agreed between the parties depending on the structure of the PAD Arrangement. An alternative approach may be to specify particular financial accommodation that is expressly permitted (such as credit cards, loans in the ordinary course of the Borrower’s ordinary business etc).]'), Section(number='12.7', heading='Disposal of assets', body='The Borrower must not dispose of any assets other than in its usual and ordinary course of business.', note=''), Section(number='12.8', heading='Continue to stay in business', body='The Borrower must not engage in any other business other than that in which it is presently operating.', note=''), Section(number='12.9', heading='No merger or acquisition', body='The Borrower must not merge with or acquire another company or entity.', note=''), Section(number='12.10', heading='No disposal of subsidiaries', body='The Borrower must not dispose of any of its subsidiaries.', note=''), Section(number='12.11', heading='Term of undertakings', body='Each undertaking in this clause 12 continues from the date of this document until the Outstanding Amount is fully and finally repaid.', note=''), Section(number='13', heading='Default', body='13 Default', note=''), Section(number='13.1', heading='Events of Default', body='Each of the following events listed in this clause 13 is an Event of Default (whether or not it is in the control of any Finance Party).\\n\\n[Note – the events of default listed in this section are drafted broadly. These should be carefully considered and revised as required for the purposes of the relevant PAD Arrangement.]', note='[Note – the events of default listed in this section are drafted broadly. These should be carefully considered and revised as required for the purposes of the relevant PAD Arrangement.]'), Section(number='13.2', heading='Obligations under Finance Documents', body='A Finance Party fails:\\n\\n(1) to pay or repay in accordance with its obligations under the Finance Documents any part of the Outstanding Amount when due;\\n\\n(2) to comply with any of its other obligations under a Finance Document and, if in the opinion of the Financier that failure can be remedied within 5 Business Days, does not remedy the failure within 5 Business Days after the Financier gives notice to the Borrower requiring that failure to be remedied; or\\n\\n(3) to satisfy within the time stipulated anything that the Financier made a condition of its waiving compliance with a condition precedent or undertaking in a Finance Document.', note=''), Section(number='13.3', heading='Misrepresentation', body='A representation, warranty or statement by or on behalf of a Finance Party in a Finance Document, or in a document provided under or in connection with a Finance Document, is not true in a material respect or is misleading in a material respect when made or repeated.', note=''), Section(number='13.4', heading='Insolvency Event', body='Any Insolvency Event occurs.', note=''), Section(number='13.5', heading='Enforcement against assets', body='One or more of the following events occurs in relation to all or any of the assets and undertaking of a Finance Party:\\n\\n(1) a receiver, receiver and manager, administrative receiver or similar officer is appointed;\\n\\n(2) a Security Interest becomes enforceable or is enforced; or\\n\\n(3) a distress, attachment or other execution is levied or enforced.', note=''), Section(number='13.6', heading='Vitiation of Finance Documents', body='One or more of the following events occurs in relation to a Finance Document:\\n\\n(1) all or any part of a Finance Document is terminated or is or becomes void, illegal, invalid, unenforceable or of limited force and effect;\\n\\n(2) a party becomes entitled to terminate, rescind or avoid all or part of a Finance Document; or\\n\\n(3) a party other than the Financier alleges or claims that an event described in clause 13.6(1) has occurred or that it is entitled as described in clause 13.6(2).', note=''), Section(number='13.7', heading='Revocation of Authorisation', body='An Authorisation that is material to the performance by any Finance Party of a Finance Document, or to the validity and enforceability of a Finance Document is repealed, revoked or terminated or expires, or is modified or amended or not renewed, or conditions are attached to it in a manner unacceptable to the Financier, and is not immediately replaced by another Authorisation acceptable to the Financier.', note=''), Section(number='13.8', heading='Material adverse effect', body='Any event or series of events, whether related or not, occurs, that may have in the opinion of the Financier a Material Adverse Effect.', note=''), Section(number='13.9', heading='Default under Finance Document', body='Any default, event of default or potential event of default (as those expression, or any equivalent expressions, are defined in any Finance Document) occurs.', note=''), Section(number='14', heading='Financier’s rights on Default', body='14 Financier’s rights on Default', note=''), Section(number='14.1', heading='Consequences', body='In addition to any other rights provided by law, any Finance Document or the Side Deed, at any time after an Event of Default (unless that Event of Default has been expressly waived by the Financier in writing) the Financier may do all or any of the following:\\n\\n(1) by notice to the Borrower declare all Outstanding Amount (or any part of that money as specified by the Financier in the notice) actually or contingently owing immediately due and payable, and the Borrower must immediately pay to the Financier the Outstanding Amount (or any part of that money as specified by the Financier in the notice);\\n\\n(2) by notice to the Borrower terminate the obligations of the Financier under this document;\\n\\n(3) enforce any or all of the Guarantees; and\\n\\n(4) take any action whatsoever that the Financier (or any person acting on the Financier’s behalf) is authorised or entitled to take under this document or any other Finance Document on the occurrence of an Event of Default.', note=''), Section(number='14.2', heading='Payments', body='All money received by the Financier at any time after any Outstanding Amount has become immediately due and payable under a notice given under clause 14.1 will be applied, subject to any prior ranking claims:\\n\\n(1) firstly, in or towards discharging all costs and expenses incurred by the Financier in preserving, exercising, protecting or enforcing its rights under the Finance Documents;\\n\\n(2) secondly, in or towards discharging the Outstanding Amount and any other money payable under the Finance Documents; and\\n\\n(3) thirdly, subject to payment and satisfaction of all Outstanding Amount and subject to the rights of third parties of which the Financier has actual notice, any balance in payment to the Borrower.', note=''), Section(number='15', heading='Fees', body='Subject to clause 19, the Borrower must pay to the Financier the fees (if any) as described in Item 10 of the Details.', note=''), Section(number='16', heading='Expenses', body='Subject to clause 19, on demand the Borrower must pay or, if the Financier requires, reimburse the Financier for the Financier’s costs and expenses (including legal costs and expenses on a full indemnity basis) in relation to:\\n\\n(1) the actual, attempted or contemplated enforcement of the Finance Documents, or actual or contemplated exercise, preservation or consideration of any rights, powers or remedies under the Transaction Documents; and\\n\\n(2) any other costs, expenses and fees payable by the Borrower to the Financier under any of the Finance Documents or as otherwise agreed between the Financier and the Borrower.', note=''), Section(number='17', heading='Stamp duties and Taxes', body='17 Stamp duties and Taxes', note=''), Section(number='17.1', heading='Stamp duties and Taxes', body='Subject to clause 19, the Borrower must pay all stamp, transaction, registration and other Taxes (including, subject to clause 17.3, fines and penalties) that may be payable or determined to be payable in relation to the execution, delivery, performance or enforcement of any Finance Document or any payment or receipt or any other transaction contemplated by any Finance Document. Those Taxes exclude any Tax on the overall net income of the Financier.', note=''), Section(number='17.2', heading='GST', body='(1) Unless expressly specified otherwise, all payments to be made by the Transaction Parties under or in connection with any Finance Document have been calculated or determined without regard to GST. (2) Subject to clause 19, if all or part of any such payment is the consideration for a taxable supply for GST purposes then, when the Finance Party makes the payment:\\n\\n(a) it must pay to the Financier an additional amount equal to that payment (or part) multiplied by the appropriate rate of GST (currently 10%); and\\n\\n(b) the Financier will promptly provide to the Finance Party a tax invoice complying with the relevant GST legislation.\\n\\n(3) Where under any Finance Document a Finance Party is required to reimburse or indemnify for an amount, the Finance Party must pay the relevant amount (including any sum in respect of GST) less any GST input tax credit the Financier determines that it is entitled to claim in respect of that amount.', note=''), Section(number='17.3', heading='Indemnity', body='Subject to clause 19, the Borrower indemnifies the Financier against any liability resulting from delay or omission to pay those Taxes under this clause 17 except to the extent the liability results from failure by the Financier to pay any Tax after having been put in funds to do so by the Borrower.', note=''), Section(number='18', heading='Indemnities', body='18 Indemnities', note=''), Section(number='18.1', heading='Nature', body='Subject to clause 19, the Borrower indemnifies the Financier against any loss, cost, charge, liability or expense the Financier sustains or incurs (but excluding any loss, cost, charge, liability or expense solely caused by the fraud, wilful default or gross negligence of the Financier) caused or contributed to by:\\n\\n(1) any Event of Default or Potential Event of Default;\\n\\n(2) any exercise or attempted exercise of any right, power or remedy under any Finance Document;\\n\\n(3) any act by the Financier in reliance on or any communication purporting to be from a Finance Party or to be given on behalf of that Finance Party that on its face appears to be genuine and signed by an Authorised Officer of that Finance Party; or\\n\\n(4) accommodation requested by the Borrower not being provided for any reason (including failure to fulfil any Condition Precedent, but excluding if due to any default by the Financier).', note=''), Section(number='18.2', heading='Survival of obligations', body='Each indemnity in the Finance Documents is a continuing obligation, separate and independent from the other obligations of the Finance Party and survives the termination of this document.', note=''), Section(number='19', heading='Use of State funds', body='Other than any legal costs referred to in or otherwise contemplated by the financial model agreed between the Borrower and the State for the Project, any amount in the nature of costs, Taxes and expenses incurred by the Borrower to the Financier under this document must not be:\\n\\n(1) paid out of any funds received by the Borrower from the State under or in accordance with the Implementation Agreement; or\\n\\n(2) paid out of any sources of funds other than as permitted under this document.', note=''), Section(number='20', heading='Assignment', body='20 Assignment', note=''), Section(number='20.1', heading='No assignment by Borrower', body='The Borrower must not at any time assign or transfer to any person or cause or permit any person to acquire an interest in the Borrower’s rights under the Finance Documents.', note=''), Section(number='20.2', heading='Assignment by Financier', body='Subject to the Side Deed, the Financier may at any time assign or transfer all or any of its rights or obligations under the Finance Documents.', note=''), Section(number='21', heading='Set-off', body='Subject always to the Side Deed, the Financier may set-off against any debt due and owing by the Borrower to the Financier, including debts due and owing under any Finance Document, any debt due and owing by the Financier to the Borrower, including any money in any currency held by the Financier for the account of the Borrower in any place.', note=''), Section(number='22', heading='Pledge Deed', body='The Borrower agrees that, except to the extent otherwise expressly agreed in writing by the Financier, the Borrower must:\\n\\n(1) promptly provide the Financier with true and complete copies of all variations, novations or replacements of each Pledge Deed;\\n\\n(2) use its best endeavours to ensure that each Pledge Deed is at all times legal, valid, binding and enforceable in accordance with its terms;\\n\\n(3) not agree to any amendment to the terms of a Pledge Deed;\\n\\n(4) not assign, novate or otherwise dispose of a Pledge Deed;\\n\\n(5) not request payment under a Pledge Deed;\\n\\n(6) comply with all requirements (including its obligations) under or in relation to each Pledge Deed;\\n\\n(7) not release any other party to a Pledge Deed from any obligation under or in relation to that Pledge Deed;\\n\\n(8) not waive performance by any other party to a Pledge Deed of any obligation under or in relation to that Pledge Deed;\\n\\n(9) not allow any right of set off, any counterclaim, or any defence to performance of obligations, to arise in favour of any other party to a Pledge Deed;\\n\\n(10) obtain and maintain all consents, approvals and authorisations which at any time are necessary in connection with each Pledge Deed or to maintain each Pledge Deed’s continuance, validity or performance (including enforcement);\\n\\n(11) notify the Financier of any non-compliance with obligations under, or dispute under, a Pledge Deed promptly on becoming aware of it;\\n\\n(12) inform the Financier promptly if claims, proceedings or actions are taken or commenced which could adversely affect a Pledge Deed;\\n\\n(13) not do (or omit to do) anything which might result in a Pledge Deed, any of its rights or interests in a Pledge Deed being or becoming invalid, unenforceable, liable to forfeiture or cancellation; and\\n\\n(14) if requested by the Financier in writing exercise its rights, powers and entitlements under any or all Pledge Deeds in accordance with any direction or instruction issued by the Financier, including requesting payment of a pledge under any Pledge Deed and applying that payment towards reduction of the Outstanding Amount.', note=''), Section(number='23', heading='Limited rights of recourse', body=\"(1) Subject to paragraphs (2) and (3) below and to the terms of the Side Deed, there shall be full recourse to the Borrower and to all of its assets for the liabilities of the Borrower under this document and the other Finance Documents, and in no event shall the Guarantors, any Pledgor or any employee, officer, director, advisor, consultant, agent or representative of the Borrower or the Guarantors or any pledgor under a Pledge Deed, be liable or obligated for such liabilities and obligations of the Borrower, other than in terms of the Master Guarantee Deed, each Guarantor Accession Deed Poll and each Pledge Deed.\\n\\n(2) The Borrower's liability under or in connection with this document is limited to the extent the liability can be satisfied out of the assets of the Borrower.\\n\\n(3) The Financier may not seek to recover any amounts owing to it under this document or any other Finance Document by bringing proceedings against the Borrower to have the Borrower wound up. (4) For the avoidance of doubt, but subject to the Side Deed, this clause 23 does not prevent the Financier from:\\n\\n(a) doing anything else necessary to enforce its rights in connection with the assets of the Borrower; or\\n\\n(b) taking proceedings to obtain (1) an injunction or other order to restrain any breach of the Documents; or (2) declaratory relief or another similar judgment or order as to the obligations of the Borrower and Guarantors under the Documents. (5) This clause 23 will not apply to a liability or an obligation of the Borrower as a result of the Borrower's fraud, wilful default or gross negligence, including a wilful failure to comply with any of its obligations under the Finance Documents.\", note=''), Section(number='24', heading='Financier’s determination and certificate', body='24 Financier’s determination and certificate', note=''), Section(number='24.1', heading='Certificate', body='A certificate by the Financier relating to any Finance Document is, in the absence of manifest error, conclusive evidence against the Borrower of the matters certified.', note=''), Section(number='24.2', heading='Not obliged to give reasons', body='The Financier is not obliged to give the reasons for its determination or opinion in relation to any matter under any Finance Document.', note=''), Section(number='24.3', heading='Authorised Officer', body='A determination or an opinion of an Authorised Officer of the Financier that is given to the Borrower or otherwise expressed or acted on by the Financier as being a determination or an opinion of the Financier will be treated as being a determination or opinion of the Financier.', note=''), Section(number='25', heading='Cumulative rights', body='The rights, powers and remedies provided in this document are in addition to those provided by law independently of this document and each right, power and remedy provided in this document (including any right of indemnity) is additional to and not exclusive of every other right, power or remedy provided in this document.', note=''), Section(number='26', heading='Approvals and consent', body='Subject to any express provision in the Finance Documents to the contrary or unless this document expressly provides otherwise, the Financier may conditionally or unconditionally give or withhold its approval or consent in its absolute discretion.', note=''), Section(number='27', heading='Time of the essence', body='(1) Time is of the essence of this document.\\n\\n(2) If the parties agree to vary a time requirement, the time requirement so varied is of the essence of this document.\\n\\n(3) An agreement to vary a time requirement must be in writing.', note=''), Section(number='28', heading='Time for performance', body='Subject to any express provision to the contrary in this document, if:\\n\\n(1) the day on which anything is to be done is not a Business Day, that thing must be done on the next following Business Day; and\\n\\n(2) an act, other than a payment or the giving of a communication, is required to be done on a particular day and the act is done after 5.00pm on that day, it will be treated as having be', note=''), Section(number='29', heading='Records as evidence', body='The Financier may maintain records specifying:\\n\\n(1) payments made by the Financier for the account of any Finance Party;\\n\\n(2) payments by any Finance Party for the account of the Financier under any Finance Document; and\\n\\n(3) interest, fees, charges, costs and expenses payable in relation to the Finance Documents,\\n\\nand those records will as against the Borrower constitute conclusive evidence, in the absence of manifest error, of the matters set out in them.', note=''), Section(number='30', heading='Supervening legislation', body='Any present or future legislation that operates:\\n\\n(1) to lessen or vary in favour of a Finance Party any of its obligations in connection with this document; or\\n\\n(2) to postpone, stay, suspend or curtail any rights of the Financier under this document,\\n\\nis excluded except to the extent that its exclusion is prohibited or rendered ineffective by law.', note=''), Section(number='31', heading='Borrower’s own judgment', body='31 Borrower’s own judgment', note=''), Section(number='31.1', heading='No reliance on Financier', body='The Borrower will make its own judgment and decision in respect of each utilisation of financial accommodation under this document independently and without reliance on the Financier.', note=''), Section(number='31.2', heading='Financier not liable', body='The Financier is under no liability or responsibility (whether in contract, tort or otherwise) and is not to be taken to have accepted any liability or responsibility (whether in contract, tort or otherwise) whatsoever in respect of movement in rates of interest or exchange or any advice, opinions or data rendered or given by any of their officers, employees, agents or other persons representing the Financier, irrespective of whether or not the advice, opinions or data was or is rendered or given at the request of the Borrower or that the advice was or is incorrectly or negligently given.', note=''), Section(number='32', heading='Authorised Officers', body='The Borrower:\\n\\n(1) irrevocably authorises the Financier to rely on a certificate by any person purporting to be its director or secretary as to the identity and signatures of its Authorised Officers; and\\n\\n(2) warrants that those persons have been authorised to give notices and communications under or in connection with the Finance Documents.', note=''), Section(number='33', heading='Severability', body='A provision of a Finance Document that is prohibited or unenforceable in any jurisdiction is ineffective in that jurisdiction to the extent of the prohibition or unenforceability. This does not invalidate the remaining provisions of that Finance Document nor affect the validity or enforceability of that provision in any other jurisdiction.', note=''), Section(number='34', heading='Variation', body='An amendment or variation to this document is not effective unless it is in writing and signed by the parties.', note=''), Section(number='35', heading='Waiver and exercise of rights', body='35 Waiver and exercise of rights', note=''), Section(number='35.1', heading='Waiver', body='A right in favour of the Financier under a Finance Document, a breach of an obligation of a Finance Party under a Finance Document or the occurrence of an Event of Default can only be waived by a written instrument signed by the Financier. No other act, omission or delay of the Financier will constitute a waiver.', note=''), Section(number='35.2', heading='Exercise of rights', body='A single or partial exercise or waiver by the Financier of any right under a Finance Document will not prevent any other exercise of that right or the exercise of any other right.', note=''), Section(number='35.3', heading='No liability', body='The Financier will not be liable for any loss, cost or expense of the Borrower caused or contributed to by the waiver of, exercise of, attempted exercise of, failure to exercise or delay in exercising a right of the Financier.', note=''), Section(number='36', heading='Notices', body='36 Notices', note=''), Section(number='36.1', heading='Method of service', body='All notices or other communications to or by a party to this document:\\n\\n(1) must be in writing;\\n\\n(2) must be signed by an Authorised Officer of the sender;\\n\\n(3) will be treated as being given or made:\\n\\n(a) (in the case of delivery in person or by post) when delivered, received or left at the address of the recipient shown below; or\\n\\n(b) (in the case of a facsimile transmission) on receipt by the sender of an error free transmission report at the end of transmission,\\n\\nbut if delivery or receipt is on a day that is not a Business Day in the place to which the communication is sent or is later than 4.00pm (local time), it will be treated as being given or made at the commencement of business on the next Business Day in that place; and\\n\\n(4) must be addressed to the recipient at the address or facsimile number specified in Item 11 of the Details for that party or any other address or facsimile number in the\\n\\nsame country subsequently notified by one party to the other parties for the purposes of this document.', note=''), Section(number='37', heading='Governing law and jurisdiction', body='37 Governing law and jurisdiction', note=''), Section(number='37.1', heading='Relevant Jurisdiction', body='The law of the Relevant Jurisdiction governs this document.', note=''), Section(number='37.2', heading='Non-exclusive jurisdiction', body='The parties submit to the non-exclusive jurisdiction of the courts of the Relevant Jurisdiction and of the Commonwealth of Australia.', note=''), Section(number='38', heading='Inconsistency of provisions', body='If there is any inconsistency between the provisions of this document and the provisions of any other Finance Document, the provisions of this document will govern and apply to the extent of the inconsistency.', note=''), Section(number='39', heading='Counterparts', body='This document may be executed in any number of counterparts. Each counterpart is an original but the counterparts together are one and the same instrument.', note=''), Section(number='40', heading='Execution by attorney', body='If an attorney executes this document, the attorney declares that the attorney has no notice of revocation, termination or suspension of the power of attorney under which the attorney executes this document.', note='')]\n"
     ]
    }
   ],
   "source": [
    "print(sections.sections)"
   ]
  },
  {
   "cell_type": "code",
   "execution_count": null,
   "id": "d4023b48",
   "metadata": {},
   "outputs": [
    {
     "data": {
      "text/markdown": [
       "2 **Heading**: Definitions and interpretation"
      ],
      "text/plain": [
       "<IPython.core.display.Markdown object>"
      ]
     },
     "metadata": {},
     "output_type": "display_data"
    },
    {
     "data": {
      "text/markdown": [
       "It is agreed  \n",
       "  \n",
       "2 Definitions and interpretation"
      ],
      "text/plain": [
       "<IPython.core.display.Markdown object>"
      ]
     },
     "metadata": {},
     "output_type": "display_data"
    },
    {
     "data": {
      "text/markdown": [
       "**Note**:\n",
       "\n"
      ],
      "text/plain": [
       "<IPython.core.display.Markdown object>"
      ]
     },
     "metadata": {},
     "output_type": "display_data"
    },
    {
     "data": {
      "text/markdown": [
       "2.1 **Heading**: Details"
      ],
      "text/plain": [
       "<IPython.core.display.Markdown object>"
      ]
     },
     "metadata": {},
     "output_type": "display_data"
    },
    {
     "data": {
      "text/markdown": [
       "Terms in bold type in the Details have the meaning described under them."
      ],
      "text/plain": [
       "<IPython.core.display.Markdown object>"
      ]
     },
     "metadata": {},
     "output_type": "display_data"
    },
    {
     "data": {
      "text/markdown": [
       "**Note**:\n",
       "\n"
      ],
      "text/plain": [
       "<IPython.core.display.Markdown object>"
      ]
     },
     "metadata": {},
     "output_type": "display_data"
    },
    {
     "data": {
      "text/markdown": [
       "2.2 **Heading**: Definitions"
      ],
      "text/plain": [
       "<IPython.core.display.Markdown object>"
      ]
     },
     "metadata": {},
     "output_type": "display_data"
    },
    {
     "data": {
      "text/markdown": [
       "In this document the following definitions apply unless the context indicates otherwise:  \n",
       "  \n",
       "(1) Advance means each loan drawn down under the Facility in accordance with this document or, as applicable, the outstanding principal amount of that Advance (including capitalised interest) at the relevant time;  \n",
       "  \n",
       "(2) Authorisation means:  \n",
       "  \n",
       "(a) an authorisation, consent, approval, resolution, licence, exemption, filing, lodgment or registration required by any Government Agency or any law; or  \n",
       "  \n",
       "(b) in relation to anything which will be fully or partially prohibited or restricted by law if a Government Agency intervenes or acts in any way within a specified period after lodgement, filing, registration or notification, the expiry of that period without intervention or action;  \n",
       "  \n",
       "(3) Authorised Officer means:  \n",
       "  \n",
       "(a) in relation to a Finance Party, any director or company secretary of that Finance Party, or any other person nominated by that Finance Party by a notice to the Financier as an ‘Authorised Officer’ on behalf of that Finance Party to sign notices or documents in connection with any of the Finance Documents, such notice to be accompanied by specimen signatures of the persons concerned; and  \n",
       "  \n",
       "  \n",
       "(b) in relation to the Financier, any person whose title or office includes the word ‘Director’, ‘Associate Director’, ‘Manager’ or ‘Company Secretary’, or any person acting in any of those offices, or any person nominated by the Financier as an ‘Authorised Officer’ on behalf of the Financier by a notice to the Borrower;  \n",
       "  \n",
       "(4) Business Day means a day that is not a Saturday, Sunday or public or bank holiday in Melbourne, Australia;  \n",
       "  \n",
       "(5) Controller has the meaning given to it in section 9 of the Corporations Act;  \n",
       "  \n",
       "(6) Corporations Act means the Corporations Act 2001 (Cth);  \n",
       "  \n",
       "(7) Details means the itemised details at the front of this document; (8) Event of Default means any event described in clause 13 or otherwise specified in this document as an Event of Default;  \n",
       "  \n",
       "(9) Facility means the provision of each Advance to the Borrower as provided in this document;  \n",
       "  \n",
       "(10) Finance Documents means:  \n",
       "  \n",
       "(a) this document;  \n",
       "  \n",
       "(b) the Implementation Agreement;  \n",
       "  \n",
       "(c) the Master Guarantee Deed;  \n",
       "  \n",
       "(d) each Guarantor Accession Deed Poll;  \n",
       "  \n",
       "(e) any document or agreement entered into or provided under or in connection with, or for the purpose of amending or novating, any of the above;  \n",
       "  \n",
       "(f) any undertaking by or to a party or its lawyers under or in relation to any of the above; and  \n",
       "  \n",
       "(g) any other document that the Financier and the Borrower agree in writing is a Finance Document for the purposes of this document;  \n",
       "  \n",
       "(11) Finance Party means the Borrower and each Guarantor or any one or more of them;  \n",
       "  \n",
       "(12) Financial Indebtedness means any indebtedness or other liability (present or future, actual or contingent) relating to any loan, finance lease (as defined in Australian accounting standards), guarantee or indemnity in relation to any financial accommodation, or other financial accommodation;  \n",
       "  \n",
       "(13) First Delivery Date has the meaning given to that term in the Details;  \n",
       "  \n",
       "(14) First Loss Guarantor means [Name] ACN [number];  \n",
       "  \n",
       "(15) Government Agency means any government or governmental, semi-governmental or judicial entity or authority in any state, country or other jurisdiction, including any self-regulatory organisation established under a statute or stock exchange;  \n",
       "  \n",
       "(16) GST means any goods or services tax, value-added tax, consumption tax or similar tax including as that term is defined in the GST Act;  \n",
       "  \n",
       "(17) GST Act means A New Tax System (Goods and Services Tax) Act 1999 (Cth);  \n",
       "  \n",
       "(18) Guarantee means the guarantee, undertaking and indemnity given under the Master Guarantee Deed;  \n",
       "  \n",
       "(19) Guarantor has the meaning given to that term in the Master Guarantee Deed;  \n",
       "  \n",
       "(20) Guarantor Accession Deed Poll has the meaning given to that term in the Master Guarantee Deed;  \n",
       "  \n",
       "(21) Implementation Agreement means the implementation agreement standard terms dated on or about [date] between the Borrower and the State of Victoria acting through the [insert Department];  \n",
       "  \n",
       "(22) Insolvency Event means the happening of any one or more of the following events:  \n",
       "  \n",
       "(a) an application (not being an application that is being contested in good faith and that is withdrawn or dismissed within 5 Business Days of its  \n",
       "  \n",
       "commencement) is made to a court for an order or an order is made that a body corporate be wound up or that a liquidator or provisional liquidator be appointed to a Finance Party;  \n",
       "  \n",
       "(b) except to reconstruct or amalgamate while solvent on terms approved in writing by the Financier, a Finance Party enters into, or resolves to enter into, a scheme of arrangement, deed of company arrangement or composition with, or assignment for the benefit of, all or any class of its creditors, or it proposes a reorganisation, moratorium or other administration involving any of them;  \n",
       "  \n",
       "(c) except to reconstruct or amalgamate while solvent upon terms approved in writing by the Financier, a Finance Party resolves to wind itself up or otherwise dissolve itself, or gives notice of intention to do so, or is otherwise wound up or dissolves;  \n",
       "  \n",
       "(d) a Finance Party is unable to pay its debts as they fall due or is or states that it is insolvent or is treated as or presumed insolvent under any applicable legislation;  \n",
       "  \n",
       "(e) a receiver, receiver and manager, trustee, administrator or similar official is appointed over any or all of the assets or undertaking of a Finance Party;  \n",
       "  \n",
       "(f) a Finance Party takes any step to obtain protection or is granted protection from its creditors, under any applicable legislation;  \n",
       "  \n",
       "(g) a Liquidation occurs in relation to a Finance Party; or  \n",
       "  \n",
       "(h) anything analogous or having a substantially similar effect to any of the events specified above happens under the law of any applicable jurisdiction;  \n",
       "  \n",
       "(23) Liquidation includes provisional liquidation, administration, receivership, compromise, arrangement, amalgamation, reconstruction, winding up, dissolution, assignment for the benefit of creditors, arrangement or compromise with creditors, bankruptcy or death;  \n",
       "  \n",
       "(24) Master Guarantee Deed means the document of that title dated on or about [date] made by the Borrower, the First Loss Guarantor and the Financier;  \n",
       "  \n",
       "(25) Material Adverse Effect means a material adverse effect on any one or more of the following:  \n",
       "  \n",
       "(a) the ability of any Finance Party to comply with its obligations under any Finance Document;  \n",
       "  \n",
       "(b) the financial condition or business of any Finance Party; or  \n",
       "  \n",
       "(c) the effectiveness, priority or enforceability of this document or any of the Securities;  \n",
       "  \n",
       "(26) Outstanding Amount means all money that the Borrower (whether alone or with another person) is or at any time may become actually or contingently liable to pay to or for the account of the Financier (whether alone or with another person) for any reason whatsoever under or in connection with a Finance Document.  \n",
       "  \n",
       "It includes money by way of principal, interest, fees, costs, indemnities, charges, duties or expenses or payment of liquidated or unliquidated damages for which the Borrower is or at any time may become liable under or in connection with a  \n",
       "  \n",
       "Finance Document, or as a result of a breach of or default under or in connection with a Finance Document.  \n",
       "  \n",
       "Where the Borrower would have been liable but for its Liquidation, it will be taken still to be liable;  \n",
       "  \n",
       "(27) Permitted Encumbrances means in relation to each Finance Party:  \n",
       "  \n",
       "(a) the Master Guarantee Deed;  \n",
       "  \n",
       "(b) any Security Interest over any of its assets to which the Financier has expressly consented in writing;  \n",
       "  \n",
       "(c) a lien arising by operation of law in the ordinary course of day-to-day trading and not securing Financial Indebtedness, where it duly pays the indebtedness secured by that lien other than indebtedness contested in good faith;  \n",
       "  \n",
       "(d) a charge or lien arising in favour of a Government Agency by operation of statute unless there is default in payment of money secured by that charge or lien; and  \n",
       "  \n",
       "(e) any rights of set-off, netting or combination of accounts;  \n",
       "  \n",
       "[Note – consideration should be given as to whether any other encumbrances specific to a Finance Party’s business and/or operations should be specified above.]  \n",
       "  \n",
       "(28) Pledge Deed means each deed setting out the terms pursuant to which a pledge is made available to the Borrower for the purpose of supporting the Project, including as at the date of this document:  \n",
       "  \n",
       "(a) the pledge deed dated on or about the date of this document between [insert pledgor(s)] and the Borrower; and  \n",
       "  \n",
       "(b) the pledge deed dated on or about the date of this document between [insert pledgor(s)] and the Borrower;  \n",
       "  \n",
       "[Note – include a description of all pledge deeds that are to be entered into on or about the same date as this document.]  \n",
       "  \n",
       "(29) Pledgor a party that has entered into a Pledge Deed as a ‘pledgor’, including as at the date of this document:  \n",
       "  \n",
       "(a) [insert pledgor(s)]; and  \n",
       "  \n",
       "(b) [insert pledgor(s)];  \n",
       "  \n",
       "(30) Potential Event of Default means any event or circumstance that with the giving of notice or passage of time or both would become an Event of Default;  \n",
       "  \n",
       "(31) Principal Outstanding means at any time, the aggregate principal amount of all outstanding Advances (including capitalised interest) at that time;  \n",
       "  \n",
       "(32) Project means [insert description and purpose of the Project];  \n",
       "  \n",
       "(33) Repayment Schedule means a repayment schedule for the Facility agreed in writing from time to time between the Borrower and the Financier;  \n",
       "  \n",
       "(34) Security Interest means any interest held as security for the payment of a monetary obligation or the performance of any other obligation, including:  \n",
       "  \n",
       "(a) a mortgage, charge, encumbrance, lien, pledge or hypothecation; and  \n",
       "  \n",
       "(b) a bill of sale, assignment, title retention arrangement, trust or power held as security;  \n",
       "  \n",
       "(35) Services has the meaning given to it in the Implementation Agreement;  \n",
       "  \n",
       "(36) [Services Subcontract means the services subcontract between the [insert party] and the Borrower in relation to delivery of services under the Project dated on or about the date of this document];  \n",
       "  \n",
       "[Note – the Services Subcontract is optional under the Implementation Agreement. If no Services Subcontract is required, this document will need to be updated to remove all references to the Services Subcontract.]  \n",
       "  \n",
       "(37) Side Deed means the side deed dated on or about the date of this document between the Borrower, the State, the Financier and the First Loss Guarantor;  \n",
       "  \n",
       "(38) State means the State of Victoria acting through the [insert Department];  \n",
       "  \n",
       "(39) Tax includes any tax, GST, rate, levy, impost or duty (other than a tax on the net overall income of the Financier) and any interest, penalty, fine or expense relating to any of them; and  \n",
       "  \n",
       "(40) Undrawn Commitment means at any time, the Facility Amount less the aggregate of the Principal Outstanding, at that time."
      ],
      "text/plain": [
       "<IPython.core.display.Markdown object>"
      ]
     },
     "metadata": {},
     "output_type": "display_data"
    },
    {
     "data": {
      "text/markdown": [
       "**Note**:\n",
       "\n"
      ],
      "text/plain": [
       "<IPython.core.display.Markdown object>"
      ]
     },
     "metadata": {},
     "output_type": "display_data"
    },
    {
     "data": {
      "text/markdown": [
       "2.3 **Heading**: Interpretation"
      ],
      "text/plain": [
       "<IPython.core.display.Markdown object>"
      ]
     },
     "metadata": {},
     "output_type": "display_data"
    },
    {
     "data": {
      "text/markdown": [
       "(1) In this document, unless the context indicates otherwise, reference to:  \n",
       "  \n",
       "(a) one gender includes the others;  \n",
       "  \n",
       "(b) the singular includes the plural and the plural includes the singular;  \n",
       "  \n",
       "(c) a person includes a firm, unincorporated association, corporation and a government or statutory body or authority;  \n",
       "  \n",
       "(d) a party to this document or another agreement or document includes the party's executors, administrators, successors and permitted substitutes or assigns;  \n",
       "  \n",
       "(e) a clause, annexure or schedule is a reference to a clause of, or annexure or schedule to, this document;  \n",
       "  \n",
       "(f) an agreement or document is to the agreement or document as amended, novated, supplemented or replaced, except to the extent prohibited by this document;  \n",
       "  \n",
       "(g) any law, legislation or legislative provision includes any statutory modification, amendment or re-enactment, and any subordinate legislation or regulations issued under that legislation or legislative provision; and  \n",
       "  \n",
       "(h) \"writing\" includes a facsimile transmission and any means of reproducing words in a tangible and permanently visible form.  \n",
       "  \n",
       "(2) Where a word or expression is given a particular meaning, other parts of speech and grammatical forms of that word or expression have a corresponding meaning.  \n",
       "  \n",
       "(3) Headings and any table of contents or index are for convenience only and do not form part of this document or affect its interpretation.  \n",
       "  \n",
       "(4) A provision of this document must not be construed to the disadvantage of a party merely because that party was responsible for the preparation of the document or the inclusion of the provision in the document."
      ],
      "text/plain": [
       "<IPython.core.display.Markdown object>"
      ]
     },
     "metadata": {},
     "output_type": "display_data"
    },
    {
     "data": {
      "text/markdown": [
       "**Note**:\n",
       "\n"
      ],
      "text/plain": [
       "<IPython.core.display.Markdown object>"
      ]
     },
     "metadata": {},
     "output_type": "display_data"
    },
    {
     "data": {
      "text/markdown": [
       "2.4 **Heading**: Parties"
      ],
      "text/plain": [
       "<IPython.core.display.Markdown object>"
      ]
     },
     "metadata": {},
     "output_type": "display_data"
    },
    {
     "data": {
      "text/markdown": [
       "If a Finance Party comprises 2 or more persons a reference to that Finance Party includes each and any 2 or more of them."
      ],
      "text/plain": [
       "<IPython.core.display.Markdown object>"
      ]
     },
     "metadata": {},
     "output_type": "display_data"
    },
    {
     "data": {
      "text/markdown": [
       "**Note**:\n",
       "\n"
      ],
      "text/plain": [
       "<IPython.core.display.Markdown object>"
      ]
     },
     "metadata": {},
     "output_type": "display_data"
    },
    {
     "data": {
      "text/markdown": [
       "3 **Heading**: Availability and limits"
      ],
      "text/plain": [
       "<IPython.core.display.Markdown object>"
      ]
     },
     "metadata": {},
     "output_type": "display_data"
    },
    {
     "data": {
      "text/markdown": [
       "3 Availability and limits"
      ],
      "text/plain": [
       "<IPython.core.display.Markdown object>"
      ]
     },
     "metadata": {},
     "output_type": "display_data"
    },
    {
     "data": {
      "text/markdown": [
       "**Note**:\n",
       "\n"
      ],
      "text/plain": [
       "<IPython.core.display.Markdown object>"
      ]
     },
     "metadata": {},
     "output_type": "display_data"
    },
    {
     "data": {
      "text/markdown": [
       "3.1 **Heading**: Availability of Facility"
      ],
      "text/plain": [
       "<IPython.core.display.Markdown object>"
      ]
     },
     "metadata": {},
     "output_type": "display_data"
    },
    {
     "data": {
      "text/markdown": [
       "Provided no Event of Default or Potential Event of Default has occurred and subject to this document, the Financier will provide an Advance to the Borrower during the Availability Period on the date requested in writing by the Borrower not less than 2 Business Days (or such shorter period as the Financier may agree) before the date the Advance is to be made. The Facility may be provided in 1 or more Advances in any amount."
      ],
      "text/plain": [
       "<IPython.core.display.Markdown object>"
      ]
     },
     "metadata": {},
     "output_type": "display_data"
    },
    {
     "data": {
      "text/markdown": [
       "**Note**:\n",
       "\n"
      ],
      "text/plain": [
       "<IPython.core.display.Markdown object>"
      ]
     },
     "metadata": {},
     "output_type": "display_data"
    },
    {
     "data": {
      "text/markdown": [
       "3.2 **Heading**: Conditions Precedent"
      ],
      "text/plain": [
       "<IPython.core.display.Markdown object>"
      ]
     },
     "metadata": {},
     "output_type": "display_data"
    },
    {
     "data": {
      "text/markdown": [
       "The right of the Borrower to request an Advance and the obligation of the Financier to make an Advance are subject to the Financier having been provided with the Conditions Precedent in form and substance satisfactory to the Financier."
      ],
      "text/plain": [
       "<IPython.core.display.Markdown object>"
      ]
     },
     "metadata": {},
     "output_type": "display_data"
    },
    {
     "data": {
      "text/markdown": [
       "**Note**:\n",
       "\n"
      ],
      "text/plain": [
       "<IPython.core.display.Markdown object>"
      ]
     },
     "metadata": {},
     "output_type": "display_data"
    },
    {
     "data": {
      "text/markdown": [
       "3.3 **Heading**: Limit of Facility"
      ],
      "text/plain": [
       "<IPython.core.display.Markdown object>"
      ]
     },
     "metadata": {},
     "output_type": "display_data"
    },
    {
     "data": {
      "text/markdown": [
       "The Borrower will not be entitled to request an Advance and the Financier will have no obligation to comply with any request for an Advance which would result in the aggregate of the Principal Outstanding exceeding the Facility Amount."
      ],
      "text/plain": [
       "<IPython.core.display.Markdown object>"
      ]
     },
     "metadata": {},
     "output_type": "display_data"
    },
    {
     "data": {
      "text/markdown": [
       "**Note**:\n",
       "\n"
      ],
      "text/plain": [
       "<IPython.core.display.Markdown object>"
      ]
     },
     "metadata": {},
     "output_type": "display_data"
    },
    {
     "data": {
      "text/markdown": [
       "3.4 **Heading**: Redrawings"
      ],
      "text/plain": [
       "<IPython.core.display.Markdown object>"
      ]
     },
     "metadata": {},
     "output_type": "display_data"
    },
    {
     "data": {
      "text/markdown": [
       "Unless a contrary indication appears in this document, any part of the Facility which is repaid may be re-borrowed in accordance with the terms of this document."
      ],
      "text/plain": [
       "<IPython.core.display.Markdown object>"
      ]
     },
     "metadata": {},
     "output_type": "display_data"
    },
    {
     "data": {
      "text/markdown": [
       "**Note**:\n",
       "\n"
      ],
      "text/plain": [
       "<IPython.core.display.Markdown object>"
      ]
     },
     "metadata": {},
     "output_type": "display_data"
    },
    {
     "data": {
      "text/markdown": [
       "3.5 **Heading**: Cancellation"
      ],
      "text/plain": [
       "<IPython.core.display.Markdown object>"
      ]
     },
     "metadata": {},
     "output_type": "display_data"
    },
    {
     "data": {
      "text/markdown": [
       "After the Availability Period, any Undrawn Commitment under the Facility will be cancelled."
      ],
      "text/plain": [
       "<IPython.core.display.Markdown object>"
      ]
     },
     "metadata": {},
     "output_type": "display_data"
    },
    {
     "data": {
      "text/markdown": [
       "**Note**:\n",
       "\n"
      ],
      "text/plain": [
       "<IPython.core.display.Markdown object>"
      ]
     },
     "metadata": {},
     "output_type": "display_data"
    },
    {
     "data": {
      "text/markdown": [
       "4 **Heading**: Purpose"
      ],
      "text/plain": [
       "<IPython.core.display.Markdown object>"
      ]
     },
     "metadata": {},
     "output_type": "display_data"
    },
    {
     "data": {
      "text/markdown": [
       "The Borrower may only use the Facility for the Purpose or any other purpose the Financier agrees to in writing."
      ],
      "text/plain": [
       "<IPython.core.display.Markdown object>"
      ]
     },
     "metadata": {},
     "output_type": "display_data"
    },
    {
     "data": {
      "text/markdown": [
       "**Note**:\n",
       "\n"
      ],
      "text/plain": [
       "<IPython.core.display.Markdown object>"
      ]
     },
     "metadata": {},
     "output_type": "display_data"
    },
    {
     "data": {
      "text/markdown": [
       "5 **Heading**: Interest"
      ],
      "text/plain": [
       "<IPython.core.display.Markdown object>"
      ]
     },
     "metadata": {},
     "output_type": "display_data"
    },
    {
     "data": {
      "text/markdown": [
       "5 Interest"
      ],
      "text/plain": [
       "<IPython.core.display.Markdown object>"
      ]
     },
     "metadata": {},
     "output_type": "display_data"
    },
    {
     "data": {
      "text/markdown": [
       "**Note**:\n",
       "\n"
      ],
      "text/plain": [
       "<IPython.core.display.Markdown object>"
      ]
     },
     "metadata": {},
     "output_type": "display_data"
    },
    {
     "data": {
      "text/markdown": [
       "5.1 **Heading**: Interest on Advance"
      ],
      "text/plain": [
       "<IPython.core.display.Markdown object>"
      ]
     },
     "metadata": {},
     "output_type": "display_data"
    },
    {
     "data": {
      "text/markdown": [
       "(1) Interest accrues daily on each Advance at the Interest Rate.  \n",
       "  \n",
       "(2) The Borrower must pay interest in arrears on each Advance on [the last Business Day of each calendar month].  \n",
       "  \n",
       "[Note – the above timing requirement for payment of interest is illustrative only. Parties may agree a different interest regime depending on the transaction structure for a particular PAD Arrangement.]  \n",
       "  \n",
       "(3) Interest will be calculated on the actual days elapsed based on a 365 day year."
      ],
      "text/plain": [
       "<IPython.core.display.Markdown object>"
      ]
     },
     "metadata": {},
     "output_type": "display_data"
    },
    {
     "data": {
      "text/markdown": [
       "**Note**:[Note – the above timing requirement for payment of interest is illustrative only. Parties may agree a different interest regime depending on the transaction structure for a particular PAD Arrangement.]"
      ],
      "text/plain": [
       "<IPython.core.display.Markdown object>"
      ]
     },
     "metadata": {},
     "output_type": "display_data"
    },
    {
     "data": {
      "text/markdown": [
       "5.2 **Heading**: Accrual and payment"
      ],
      "text/plain": [
       "<IPython.core.display.Markdown object>"
      ]
     },
     "metadata": {},
     "output_type": "display_data"
    },
    {
     "data": {
      "text/markdown": [
       "(1) Interest accrues on each unpaid amount that is due and payable by the Borrower:  \n",
       "  \n",
       "(a) daily up to the date of actual payment from (and including) the due date or, in the case of an amount payable by way of reimbursement or indemnity, the date of disbursement or loss, if earlier;  \n",
       "  \n",
       "(b) both before and after judgment (as a separate and independent obligation); and (c) at the rate provided in clause 5.3. (2) The Borrower must pay interest accrued under this clause 5.2 on demand by the Financier and, if not paid, shall be capitalised as principal on the relevant due date."
      ],
      "text/plain": [
       "<IPython.core.display.Markdown object>"
      ]
     },
     "metadata": {},
     "output_type": "display_data"
    },
    {
     "data": {
      "text/markdown": [
       "**Note**:\n",
       "\n"
      ],
      "text/plain": [
       "<IPython.core.display.Markdown object>"
      ]
     },
     "metadata": {},
     "output_type": "display_data"
    },
    {
     "data": {
      "text/markdown": [
       "5.3 **Heading**: Rate"
      ],
      "text/plain": [
       "<IPython.core.display.Markdown object>"
      ]
     },
     "metadata": {},
     "output_type": "display_data"
    },
    {
     "data": {
      "text/markdown": [
       "The rate applicable under clause 5.2 is the sum of [2%] per annum plus the rate (if any) applicable to the amount immediately before the due date.  \n",
       "  \n",
       "[Note – the above rate of default interest is indicative only. Parties may agree a different interest regime depending on the transaction structure for a particular PAD Arrangement.]"
      ],
      "text/plain": [
       "<IPython.core.display.Markdown object>"
      ]
     },
     "metadata": {},
     "output_type": "display_data"
    },
    {
     "data": {
      "text/markdown": [
       "**Note**:[Note – the above rate of default interest is indicative only. Parties may agree a different interest regime depending on the transaction structure for a particular PAD Arrangement.]"
      ],
      "text/plain": [
       "<IPython.core.display.Markdown object>"
      ]
     },
     "metadata": {},
     "output_type": "display_data"
    },
    {
     "data": {
      "text/markdown": [
       "6 **Heading**: Prepayments of Advances"
      ],
      "text/plain": [
       "<IPython.core.display.Markdown object>"
      ]
     },
     "metadata": {},
     "output_type": "display_data"
    },
    {
     "data": {
      "text/markdown": [
       "6 Prepayments of Advances"
      ],
      "text/plain": [
       "<IPython.core.display.Markdown object>"
      ]
     },
     "metadata": {},
     "output_type": "display_data"
    },
    {
     "data": {
      "text/markdown": [
       "**Note**:\n",
       "\n"
      ],
      "text/plain": [
       "<IPython.core.display.Markdown object>"
      ]
     },
     "metadata": {},
     "output_type": "display_data"
    },
    {
     "data": {
      "text/markdown": [
       "6.1 **Heading**: Voluntary prepayments"
      ],
      "text/plain": [
       "<IPython.core.display.Markdown object>"
      ]
     },
     "metadata": {},
     "output_type": "display_data"
    },
    {
     "data": {
      "text/markdown": [
       "(1) Subject to this clause 6, if the Borrower gives at least 5 Business Days prior notice to the Financier the Borrower may prepay all or part of the Principal Outstanding. That notice is irrevocable and the Borrower must prepay in accordance with it.  \n",
       "  \n",
       "(2) Unless the Financier agrees otherwise, prepayment of part only of the Principal Outstanding may only be made in a principal amount of a minimum of A$[insert facility amount] or an integral multiple of that amount."
      ],
      "text/plain": [
       "<IPython.core.display.Markdown object>"
      ]
     },
     "metadata": {},
     "output_type": "display_data"
    },
    {
     "data": {
      "text/markdown": [
       "**Note**:\n",
       "\n"
      ],
      "text/plain": [
       "<IPython.core.display.Markdown object>"
      ]
     },
     "metadata": {},
     "output_type": "display_data"
    },
    {
     "data": {
      "text/markdown": [
       "6.2 **Heading**: Interest and break costs"
      ],
      "text/plain": [
       "<IPython.core.display.Markdown object>"
      ]
     },
     "metadata": {},
     "output_type": "display_data"
    },
    {
     "data": {
      "text/markdown": [
       "The Borrower must pay to the Financier for the account of the Financier:  \n",
       "  \n",
       "(1) any interest accrued on any amount prepaid under this document; and (2) any amount payable under clause 18 in consequence of a prepayment that is not made in accordance with clause 6.1.  \n",
       "  \n",
       "[Note – the ability for the Borrower to prepay principal outstanding has been included as an example only and may not be applicable to the transaction structure for a particular PAD Arrangement.]"
      ],
      "text/plain": [
       "<IPython.core.display.Markdown object>"
      ]
     },
     "metadata": {},
     "output_type": "display_data"
    },
    {
     "data": {
      "text/markdown": [
       "**Note**:[Note – the ability for the Borrower to prepay principal outstanding has been included as an example only and may not be applicable to the transaction structure for a particular PAD Arrangement.]"
      ],
      "text/plain": [
       "<IPython.core.display.Markdown object>"
      ]
     },
     "metadata": {},
     "output_type": "display_data"
    },
    {
     "data": {
      "text/markdown": [
       "7 **Heading**: Repayments"
      ],
      "text/plain": [
       "<IPython.core.display.Markdown object>"
      ]
     },
     "metadata": {},
     "output_type": "display_data"
    },
    {
     "data": {
      "text/markdown": [
       "7 Repayments"
      ],
      "text/plain": [
       "<IPython.core.display.Markdown object>"
      ]
     },
     "metadata": {},
     "output_type": "display_data"
    },
    {
     "data": {
      "text/markdown": [
       "**Note**:\n",
       "\n"
      ],
      "text/plain": [
       "<IPython.core.display.Markdown object>"
      ]
     },
     "metadata": {},
     "output_type": "display_data"
    },
    {
     "data": {
      "text/markdown": [
       "7.1 **Heading**: Repayment schedule"
      ],
      "text/plain": [
       "<IPython.core.display.Markdown object>"
      ]
     },
     "metadata": {},
     "output_type": "display_data"
    },
    {
     "data": {
      "text/markdown": [
       "Subject to this document, the Borrower must repay the Principal Outstanding to the Financier in accordance with the Repayment Schedule.  \n",
       "  \n",
       "[Note – this document has been drafted on the basis that the relevant loan will be repaid in accordance with a repayment schedule to be separately agreed between the parties. This is illustrative only, and may not be appropriate for a particular PAD Arrangement (eg, in other cases, a bullet repayment on maturity may be agreed/appropriate).]"
      ],
      "text/plain": [
       "<IPython.core.display.Markdown object>"
      ]
     },
     "metadata": {},
     "output_type": "display_data"
    },
    {
     "data": {
      "text/markdown": [
       "**Note**:[Note – this document has been drafted on the basis that the relevant loan will be repaid in accordance with a repayment schedule to be separately agreed between the parties. This is illustrative only, and may not be appropriate for a particular PAD Arrangement (eg, in other cases, a bullet repayment on maturity may be agreed/appropriate).]"
      ],
      "text/plain": [
       "<IPython.core.display.Markdown object>"
      ]
     },
     "metadata": {},
     "output_type": "display_data"
    },
    {
     "data": {
      "text/markdown": [
       "7.2 **Heading**: Amount payable"
      ],
      "text/plain": [
       "<IPython.core.display.Markdown object>"
      ]
     },
     "metadata": {},
     "output_type": "display_data"
    },
    {
     "data": {
      "text/markdown": [
       "On the Expiry Date the Borrower must pay to the Financier:  \n",
       "  \n",
       "(1) the whole of any remaining Principal Outstanding together with accrued interest and fees on that amount; and  \n",
       "  \n",
       "(2) all other money then payable by the Borrower under this document and unpaid."
      ],
      "text/plain": [
       "<IPython.core.display.Markdown object>"
      ]
     },
     "metadata": {},
     "output_type": "display_data"
    },
    {
     "data": {
      "text/markdown": [
       "**Note**:\n",
       "\n"
      ],
      "text/plain": [
       "<IPython.core.display.Markdown object>"
      ]
     },
     "metadata": {},
     "output_type": "display_data"
    },
    {
     "data": {
      "text/markdown": [
       "8 **Heading**: Payments"
      ],
      "text/plain": [
       "<IPython.core.display.Markdown object>"
      ]
     },
     "metadata": {},
     "output_type": "display_data"
    },
    {
     "data": {
      "text/markdown": [
       "8 Payments"
      ],
      "text/plain": [
       "<IPython.core.display.Markdown object>"
      ]
     },
     "metadata": {},
     "output_type": "display_data"
    },
    {
     "data": {
      "text/markdown": [
       "**Note**:\n",
       "\n"
      ],
      "text/plain": [
       "<IPython.core.display.Markdown object>"
      ]
     },
     "metadata": {},
     "output_type": "display_data"
    },
    {
     "data": {
      "text/markdown": [
       "8.1 **Heading**: Payments by Borrower"
      ],
      "text/plain": [
       "<IPython.core.display.Markdown object>"
      ]
     },
     "metadata": {},
     "output_type": "display_data"
    },
    {
     "data": {
      "text/markdown": [
       "The Borrower must make all payments under this document by transfer of immediately available funds to the account or accounts in Australia specified by the Financier, by 11.00am (Melbourne time) on the due date."
      ],
      "text/plain": [
       "<IPython.core.display.Markdown object>"
      ]
     },
     "metadata": {},
     "output_type": "display_data"
    },
    {
     "data": {
      "text/markdown": [
       "**Note**:\n",
       "\n"
      ],
      "text/plain": [
       "<IPython.core.display.Markdown object>"
      ]
     },
     "metadata": {},
     "output_type": "display_data"
    },
    {
     "data": {
      "text/markdown": [
       "8.2 **Heading**: No deductions"
      ],
      "text/plain": [
       "<IPython.core.display.Markdown object>"
      ]
     },
     "metadata": {},
     "output_type": "display_data"
    },
    {
     "data": {
      "text/markdown": [
       "(1) All payments to be made by the Borrower under this document must be made without set-off or counterclaim and free and clear of and without deduction or withholding for or on account of Taxes.  \n",
       "  \n",
       "(2) If the Borrower is prohibited by law from making a payment free of all deductions and withholdings then:  \n",
       "  \n",
       "(a) the Borrower must pay an additional amount to the Financier so that the actual amount received after deduction or withholding (and after payment of any additional Taxes or other taxes or charges due as a consequence of the payment of the additional amount) equals the amount that would have been received by the Financier if the deduction or withholding were not required; and  \n",
       "  \n",
       "(b) the Borrower must promptly provide to the Financier official receipts or other documentation acceptable to the Financier evidencing the payment to the relevant Government Agency of any amount withheld or deducted."
      ],
      "text/plain": [
       "<IPython.core.display.Markdown object>"
      ]
     },
     "metadata": {},
     "output_type": "display_data"
    },
    {
     "data": {
      "text/markdown": [
       "**Note**:\n",
       "\n"
      ],
      "text/plain": [
       "<IPython.core.display.Markdown object>"
      ]
     },
     "metadata": {},
     "output_type": "display_data"
    },
    {
     "data": {
      "text/markdown": [
       "8.3 **Heading**: Payment to be made on Business Day"
      ],
      "text/plain": [
       "<IPython.core.display.Markdown object>"
      ]
     },
     "metadata": {},
     "output_type": "display_data"
    },
    {
     "data": {
      "text/markdown": [
       "(1) Whenever any payment by the Borrower becomes due on a day that is not a Business Day, the due date will be the preceding Business Day.  \n",
       "  \n",
       "(2) If a payment is received from the Borrower by the Financier on the due date but after the time specified for payment or otherwise not in accordance with this document that payment will be treated as having been received before the specified time on the following Business Day."
      ],
      "text/plain": [
       "<IPython.core.display.Markdown object>"
      ]
     },
     "metadata": {},
     "output_type": "display_data"
    },
    {
     "data": {
      "text/markdown": [
       "**Note**:\n",
       "\n"
      ],
      "text/plain": [
       "<IPython.core.display.Markdown object>"
      ]
     },
     "metadata": {},
     "output_type": "display_data"
    },
    {
     "data": {
      "text/markdown": [
       "8.4 **Heading**: Appropriation where insufficient money available"
      ],
      "text/plain": [
       "<IPython.core.display.Markdown object>"
      ]
     },
     "metadata": {},
     "output_type": "display_data"
    },
    {
     "data": {
      "text/markdown": [
       "Amounts received by the Financier will be appropriated as between principal, interest and other amounts as the Financier may respectively determine. This appropriation will override any appropriation made by a Finance Party. Without limitation the Financier may appropriate amounts received first in payment of amounts payable to it by way of indemnity or reimbursement."
      ],
      "text/plain": [
       "<IPython.core.display.Markdown object>"
      ]
     },
     "metadata": {},
     "output_type": "display_data"
    },
    {
     "data": {
      "text/markdown": [
       "**Note**:\n",
       "\n"
      ],
      "text/plain": [
       "<IPython.core.display.Markdown object>"
      ]
     },
     "metadata": {},
     "output_type": "display_data"
    },
    {
     "data": {
      "text/markdown": [
       "8.5 **Heading**: Rounding"
      ],
      "text/plain": [
       "<IPython.core.display.Markdown object>"
      ]
     },
     "metadata": {},
     "output_type": "display_data"
    },
    {
     "data": {
      "text/markdown": [
       "In making any allocation or appropriation under this document the Financier may round amounts to the nearest dollar."
      ],
      "text/plain": [
       "<IPython.core.display.Markdown object>"
      ]
     },
     "metadata": {},
     "output_type": "display_data"
    },
    {
     "data": {
      "text/markdown": [
       "**Note**:\n",
       "\n"
      ],
      "text/plain": [
       "<IPython.core.display.Markdown object>"
      ]
     },
     "metadata": {},
     "output_type": "display_data"
    },
    {
     "data": {
      "text/markdown": [
       "9 **Heading**: Changes in law"
      ],
      "text/plain": [
       "<IPython.core.display.Markdown object>"
      ]
     },
     "metadata": {},
     "output_type": "display_data"
    },
    {
     "data": {
      "text/markdown": [
       "9 Changes in law"
      ],
      "text/plain": [
       "<IPython.core.display.Markdown object>"
      ]
     },
     "metadata": {},
     "output_type": "display_data"
    },
    {
     "data": {
      "text/markdown": [
       "**Note**:\n",
       "\n"
      ],
      "text/plain": [
       "<IPython.core.display.Markdown object>"
      ]
     },
     "metadata": {},
     "output_type": "display_data"
    },
    {
     "data": {
      "text/markdown": [
       "9.1 **Heading**: Increased costs"
      ],
      "text/plain": [
       "<IPython.core.display.Markdown object>"
      ]
     },
     "metadata": {},
     "output_type": "display_data"
    },
    {
     "data": {
      "text/markdown": [
       "If the Financier or any holding company of the Financier is affected by any change in, any making of or any change in the interpretation or application by any Government Agency of, any law, official directive or request and as a result:  \n",
       "  \n",
       "(1) the effective cost to the Financier or any holding company of the Financier of making, funding or maintaining any accommodation made available or to be made available under the Finance Documents is increased in any way;  \n",
       "  \n",
       "(2) any amount paid or payable to the Financier or received or receivable by the Financier, or the effective return to the Financier under or in respect of any Finance Document is reduced in any way; or  \n",
       "  \n",
       "(3) the return of the Financier or any holding company of the Financier on the capital that is or becomes directly or indirectly allocated by the Financier to any accommodation made available or to be made available under the Finance Documents is reduced in any way,  \n",
       "  \n",
       "then:  \n",
       "  \n",
       "(4) the Financier will promptly notify and provide details of the calculation of the amount of the increased cost or the reduction to the Borrower; and  \n",
       "  \n",
       "(5) on demand by the Financier, the Borrower must pay to the Financier the amount certified by an Authorised Officer of the Financier to be necessary to compensate it or any holding company of the Financier for that increased cost or the reduction (as applicable)."
      ],
      "text/plain": [
       "<IPython.core.display.Markdown object>"
      ]
     },
     "metadata": {},
     "output_type": "display_data"
    },
    {
     "data": {
      "text/markdown": [
       "**Note**:\n",
       "\n"
      ],
      "text/plain": [
       "<IPython.core.display.Markdown object>"
      ]
     },
     "metadata": {},
     "output_type": "display_data"
    },
    {
     "data": {
      "text/markdown": [
       "10 **Heading**: Illegality"
      ],
      "text/plain": [
       "<IPython.core.display.Markdown object>"
      ]
     },
     "metadata": {},
     "output_type": "display_data"
    },
    {
     "data": {
      "text/markdown": [
       "If at any time it is or will become unlawful or contrary to any law or directive of any Government Agency for the Financier to:  \n",
       "  \n",
       "(1) allow all or part of the Facility to remain outstanding;  \n",
       "  \n",
       "(2) make or fund or allow to be outstanding all or part of the Facility;  \n",
       "  \n",
       "(3) carry out all or any of its other obligations under this document; or  \n",
       "  \n",
       "(4) charge or receiv  \n",
       "  \n",
       "then on the Financier so notifying the Borrower:  \n",
       "  \n",
       "(5) that part of the Facility that is or will become unlawful or contrary to any law or directive of any Government Agency will be cancelled; and  \n",
       "  \n",
       "(6) the Borrower must repay that part that is affected by the illegality on demand or on the date the Financier certifies to be necessary to comply with the relevant law or directive, together with all accrued interest on that amount and any other sum then due to the Financier under this document."
      ],
      "text/plain": [
       "<IPython.core.display.Markdown object>"
      ]
     },
     "metadata": {},
     "output_type": "display_data"
    },
    {
     "data": {
      "text/markdown": [
       "**Note**:\n",
       "\n"
      ],
      "text/plain": [
       "<IPython.core.display.Markdown object>"
      ]
     },
     "metadata": {},
     "output_type": "display_data"
    },
    {
     "data": {
      "text/markdown": [
       "11 **Heading**: Representations and warranties"
      ],
      "text/plain": [
       "<IPython.core.display.Markdown object>"
      ]
     },
     "metadata": {},
     "output_type": "display_data"
    },
    {
     "data": {
      "text/markdown": [
       "11 Representations and warranties"
      ],
      "text/plain": [
       "<IPython.core.display.Markdown object>"
      ]
     },
     "metadata": {},
     "output_type": "display_data"
    },
    {
     "data": {
      "text/markdown": [
       "**Note**:\n",
       "\n"
      ],
      "text/plain": [
       "<IPython.core.display.Markdown object>"
      ]
     },
     "metadata": {},
     "output_type": "display_data"
    },
    {
     "data": {
      "text/markdown": [
       "11.1 **Heading**: Representations and warranties"
      ],
      "text/plain": [
       "<IPython.core.display.Markdown object>"
      ]
     },
     "metadata": {},
     "output_type": "display_data"
    },
    {
     "data": {
      "text/markdown": [
       "The Borrower represents and warrants that:  \n",
       "  \n",
       "[Note – the following list of representations and warranties is illustrative only and is not exhaustive. The State and/or the Financier may require that additional or alternative representations and warranties be included under this section. The nature of representations and warranties to be included may vary with the transaction structure for a particular PAD Arrangement.]  \n",
       "  \n",
       "(1) it is duly incorporated and validly existing under the law of its jurisdiction of incorporation;  \n",
       "  \n",
       "(2) it has taken all necessary corporate action to authorise the entry into and performance of the Finance Documents to which it is expressed to be a party, and to carry out the transactions contemplated by those documents;  \n",
       "  \n",
       "(3) each Finance Document to which it is expressed to be a party is its valid and binding obligation enforceable in accordance with its terms, subject to any necessary stamping and registration;  \n",
       "  \n",
       "(4) the execution and performance by it of the Finance Documents to which it is expressed to be a party and each transaction contemplated under those documents did not and will not violate in any respect a provision of:  \n",
       "  \n",
       "(a) a law or treaty or a judgment, ruling, order or decree of a Government Agency binding on it;  \n",
       "  \n",
       "(b) its constitution; or  \n",
       "  \n",
       "(c) any other document or agreement that is binding on it or its assets,  \n",
       "  \n",
       "and, except as provided by the Finance Documents, did not and will not:  \n",
       "  \n",
       "(d) create or impose a Security Interest on any of its assets; or  \n",
       "  \n",
       "(e) allow a person to accelerate or cancel an obligation with respect to Financial Indebtedness, or constitute an event of default, cancellation event, prepayment event or similar event (whatever called) under an agreement relating to Financial Indebtedness, whether immediately or after notice or lapse of time or both;  \n",
       "  \n",
       "(5) no litigation, arbitration, Tax claim, dispute or administrative or other proceeding is current or pending or, to its knowledge, threatened, which may have a Material Adverse Effect;  \n",
       "  \n",
       "(6) no Event of Default or Potential Event of Default has occurred;  \n",
       "  \n",
       "(7) each Authorisation that is required in relation to:  \n",
       "  \n",
       "(a) the execution, delivery and performance by it of the Finance Documents to which it is expressed to be a party and the transactions contemplated by those documents; and  \n",
       "  \n",
       "(b) the validity and enforceability of those documents,  \n",
       "  \n",
       "has been obtained or effected, is in full force and effect, has been complied with and all applicable fees have been paid;  \n",
       "  \n",
       "(8) all financial statements and other documents and information provided by the Borrower to the Financier is true and complete in all material respects at the date of this document or, if provided later, when provided. Neither that information nor its conduct and the conduct of anyone on its behalf in relation to the transactions contemplated by the Finance Documents, was or is misleading in any material respect, by omission or otherwise;  \n",
       "  \n",
       "(9) it has complied with all laws binding on it;  \n",
       "  \n",
       "(10) except as disclosed to and agreed to by the Financier, it does not hold any assets as the trustee of any trust;  \n",
       "  \n",
       "(11) the entry into the Finance Documents to which it is a party is for its commercial benefit;  \n",
       "  \n",
       "(12) no Controller is currently appointed to any of its property; and  \n",
       "  \n",
       "(13) it is able to, and will continue to be able to, pay its debts as and when they fall due for payment after entering into or participating in any Finance Document or any transaction contemplated under any of those documents to which it is a party."
      ],
      "text/plain": [
       "<IPython.core.display.Markdown object>"
      ]
     },
     "metadata": {},
     "output_type": "display_data"
    },
    {
     "data": {
      "text/markdown": [
       "**Note**:[Note – the following list of representations and warranties is illustrative only and is not exhaustive. The State and/or the Financier may require that additional or alternative representations and warranties be included under this section. The nature of representations and warranties to be included may vary with the transaction structure for a particular PAD Arrangement.]"
      ],
      "text/plain": [
       "<IPython.core.display.Markdown object>"
      ]
     },
     "metadata": {},
     "output_type": "display_data"
    },
    {
     "data": {
      "text/markdown": [
       "11.2 **Heading**: Reliance on representations and warranties"
      ],
      "text/plain": [
       "<IPython.core.display.Markdown object>"
      ]
     },
     "metadata": {},
     "output_type": "display_data"
    },
    {
     "data": {
      "text/markdown": [
       "The Borrower acknowledges that the Financier has entered into the Finance Documents in reliance on the representations and warranties in this document."
      ],
      "text/plain": [
       "<IPython.core.display.Markdown object>"
      ]
     },
     "metadata": {},
     "output_type": "display_data"
    },
    {
     "data": {
      "text/markdown": [
       "**Note**:\n",
       "\n"
      ],
      "text/plain": [
       "<IPython.core.display.Markdown object>"
      ]
     },
     "metadata": {},
     "output_type": "display_data"
    },
    {
     "data": {
      "text/markdown": [
       "11.3 **Heading**: Repetition"
      ],
      "text/plain": [
       "<IPython.core.display.Markdown object>"
      ]
     },
     "metadata": {},
     "output_type": "display_data"
    },
    {
     "data": {
      "text/markdown": [
       "The Borrower will be taken to have represented and warranted to the Financier that the representations and warranties contained in this clause 11 are true, correct and not misleading as at the date of each Advance, on each date on which a Finance Document is executed and on each day when the Outstanding Amount exists."
      ],
      "text/plain": [
       "<IPython.core.display.Markdown object>"
      ]
     },
     "metadata": {},
     "output_type": "display_data"
    },
    {
     "data": {
      "text/markdown": [
       "**Note**:\n",
       "\n"
      ],
      "text/plain": [
       "<IPython.core.display.Markdown object>"
      ]
     },
     "metadata": {},
     "output_type": "display_data"
    },
    {
     "data": {
      "text/markdown": [
       "11.4 **Heading**: Survival of representations and warranties"
      ],
      "text/plain": [
       "<IPython.core.display.Markdown object>"
      ]
     },
     "metadata": {},
     "output_type": "display_data"
    },
    {
     "data": {
      "text/markdown": [
       "All representations and warranties in any Finance Document survive the execution and delivery of the Finance Documents and the provision of Advances and accommodation."
      ],
      "text/plain": [
       "<IPython.core.display.Markdown object>"
      ]
     },
     "metadata": {},
     "output_type": "display_data"
    },
    {
     "data": {
      "text/markdown": [
       "**Note**:\n",
       "\n"
      ],
      "text/plain": [
       "<IPython.core.display.Markdown object>"
      ]
     },
     "metadata": {},
     "output_type": "display_data"
    },
    {
     "data": {
      "text/markdown": [
       "12 **Heading**: Obligations and undertakings"
      ],
      "text/plain": [
       "<IPython.core.display.Markdown object>"
      ]
     },
     "metadata": {},
     "output_type": "display_data"
    },
    {
     "data": {
      "text/markdown": [
       "[Note – the following list of undertakings (including reporting requirements) is illustrative only and is not exhaustive. The State and/or the Financier may require that additional or alternative undertakings be included under this section. The nature of undertakings to be included may vary with the transaction structure for a particular PAD Arrangement.]"
      ],
      "text/plain": [
       "<IPython.core.display.Markdown object>"
      ]
     },
     "metadata": {},
     "output_type": "display_data"
    },
    {
     "data": {
      "text/markdown": [
       "**Note**:[Note – the following list of undertakings (including reporting requirements) is illustrative only and is not exhaustive. The State and/or the Financier may require that additional or alternative undertakings be included under this section. The nature of undertakings to be included may vary with the transaction structure for a particular PAD Arrangement.]"
      ],
      "text/plain": [
       "<IPython.core.display.Markdown object>"
      ]
     },
     "metadata": {},
     "output_type": "display_data"
    },
    {
     "data": {
      "text/markdown": [
       "12.1 **Heading**: Reporting obligations"
      ],
      "text/plain": [
       "<IPython.core.display.Markdown object>"
      ]
     },
     "metadata": {},
     "output_type": "display_data"
    },
    {
     "data": {
      "text/markdown": [
       "The Borrower must:  \n",
       "  \n",
       "(1) provide or procure to be provided to the Financier when requested by the Financier such financial and other information as the Financier may require in relation to its financial condition and property and assets and in relation to any Event of Default or Potential Event of Default; and  \n",
       "  \n",
       "(2) promptly advise the Financier of any Event of Default or Potential Event of Default."
      ],
      "text/plain": [
       "<IPython.core.display.Markdown object>"
      ]
     },
     "metadata": {},
     "output_type": "display_data"
    },
    {
     "data": {
      "text/markdown": [
       "**Note**:\n",
       "\n"
      ],
      "text/plain": [
       "<IPython.core.display.Markdown object>"
      ]
     },
     "metadata": {},
     "output_type": "display_data"
    },
    {
     "data": {
      "text/markdown": [
       "12.2 **Heading**: Ranking"
      ],
      "text/plain": [
       "<IPython.core.display.Markdown object>"
      ]
     },
     "metadata": {},
     "output_type": "display_data"
    },
    {
     "data": {
      "text/markdown": [
       "The Borrower must ensure that its payment obligations to the State under the Documents will rank at least pari passu with the claims of all its other unsecured and unsubordinated creditors including the Financier, except for obligations mandatorily preferred by law applying to companies generally."
      ],
      "text/plain": [
       "<IPython.core.display.Markdown object>"
      ]
     },
     "metadata": {},
     "output_type": "display_data"
    },
    {
     "data": {
      "text/markdown": [
       "**Note**:\n",
       "\n"
      ],
      "text/plain": [
       "<IPython.core.display.Markdown object>"
      ]
     },
     "metadata": {},
     "output_type": "display_data"
    },
    {
     "data": {
      "text/markdown": [
       "12.3 **Heading**: Insurance"
      ],
      "text/plain": [
       "<IPython.core.display.Markdown object>"
      ]
     },
     "metadata": {},
     "output_type": "display_data"
    },
    {
     "data": {
      "text/markdown": [
       "The Borrower must:  \n",
       "  \n",
       "(1) maintain all risks insurance over all its physical assets, including insurance on the items for which funds are borrowed on terms acceptable to the Financier;  \n",
       "  \n",
       "(2) where the Facility is used to fund the cost of construction, the Borrower must ensure that the contractor has adequate insurance cover during any construction period on terms acceptable to the Financier; and  \n",
       "  \n",
       "(3) provide to the Financier evidence of insurance cover annually for the term of this document."
      ],
      "text/plain": [
       "<IPython.core.display.Markdown object>"
      ]
     },
     "metadata": {},
     "output_type": "display_data"
    },
    {
     "data": {
      "text/markdown": [
       "**Note**:\n",
       "\n"
      ],
      "text/plain": [
       "<IPython.core.display.Markdown object>"
      ]
     },
     "metadata": {},
     "output_type": "display_data"
    },
    {
     "data": {
      "text/markdown": [
       "12.4 **Heading**: Negative pledge by the Borrower"
      ],
      "text/plain": [
       "<IPython.core.display.Markdown object>"
      ]
     },
     "metadata": {},
     "output_type": "display_data"
    },
    {
     "data": {
      "text/markdown": [
       "The Borrower must not create or allow to exist without the prior consent of the Financier any Security Interest over all or any of its respective present or future revenues or assets other than:  \n",
       "  \n",
       "(1) under the Master Guarantee Deed; or  \n",
       "  \n",
       "(2) Permitted Encumbrances."
      ],
      "text/plain": [
       "<IPython.core.display.Markdown object>"
      ]
     },
     "metadata": {},
     "output_type": "display_data"
    },
    {
     "data": {
      "text/markdown": [
       "**Note**:\n",
       "\n"
      ],
      "text/plain": [
       "<IPython.core.display.Markdown object>"
      ]
     },
     "metadata": {},
     "output_type": "display_data"
    },
    {
     "data": {
      "text/markdown": [
       "12.5 **Heading**: Comply with laws"
      ],
      "text/plain": [
       "<IPython.core.display.Markdown object>"
      ]
     },
     "metadata": {},
     "output_type": "display_data"
    },
    {
     "data": {
      "text/markdown": [
       "The Borrower must comply with all applicable laws and pay all obligations that if unpaid might result in a lien or claim against any of the Borrower's assets;"
      ],
      "text/plain": [
       "<IPython.core.display.Markdown object>"
      ]
     },
     "metadata": {},
     "output_type": "display_data"
    },
    {
     "data": {
      "text/markdown": [
       "**Note**:\n",
       "\n"
      ],
      "text/plain": [
       "<IPython.core.display.Markdown object>"
      ]
     },
     "metadata": {},
     "output_type": "display_data"
    },
    {
     "data": {
      "text/markdown": [
       "12.6 **Heading**: Other financial accommodation"
      ],
      "text/plain": [
       "<IPython.core.display.Markdown object>"
      ]
     },
     "metadata": {},
     "output_type": "display_data"
    },
    {
     "data": {
      "text/markdown": [
       "The Borrower undertakes that it will not raise any financial accommodation from any other party [other than financial accommodation agreed by the Financier in writing from time to time].  \n",
       "  \n",
       "[Note – permitted financial accommodation to be agreed between the parties depending on the structure of the PAD Arrangement. An alternative approach may be to specify particular financial accommodation that is expressly permitted (such as credit cards, loans in the ordinary course of the Borrower’s ordinary business etc).]"
      ],
      "text/plain": [
       "<IPython.core.display.Markdown object>"
      ]
     },
     "metadata": {},
     "output_type": "display_data"
    },
    {
     "data": {
      "text/markdown": [
       "**Note**:[Note – permitted financial accommodation to be agreed between the parties depending on the structure of the PAD Arrangement. An alternative approach may be to specify particular financial accommodation that is expressly permitted (such as credit cards, loans in the ordinary course of the Borrower’s ordinary business etc).]"
      ],
      "text/plain": [
       "<IPython.core.display.Markdown object>"
      ]
     },
     "metadata": {},
     "output_type": "display_data"
    },
    {
     "data": {
      "text/markdown": [
       "12.7 **Heading**: Disposal of assets"
      ],
      "text/plain": [
       "<IPython.core.display.Markdown object>"
      ]
     },
     "metadata": {},
     "output_type": "display_data"
    },
    {
     "data": {
      "text/markdown": [
       "The Borrower must not dispose of any assets other than in its usual and ordinary course of business."
      ],
      "text/plain": [
       "<IPython.core.display.Markdown object>"
      ]
     },
     "metadata": {},
     "output_type": "display_data"
    },
    {
     "data": {
      "text/markdown": [
       "**Note**:\n",
       "\n"
      ],
      "text/plain": [
       "<IPython.core.display.Markdown object>"
      ]
     },
     "metadata": {},
     "output_type": "display_data"
    },
    {
     "data": {
      "text/markdown": [
       "12.8 **Heading**: Continue to stay in business"
      ],
      "text/plain": [
       "<IPython.core.display.Markdown object>"
      ]
     },
     "metadata": {},
     "output_type": "display_data"
    },
    {
     "data": {
      "text/markdown": [
       "The Borrower must not engage in any other business other than that in which it is presently operating."
      ],
      "text/plain": [
       "<IPython.core.display.Markdown object>"
      ]
     },
     "metadata": {},
     "output_type": "display_data"
    },
    {
     "data": {
      "text/markdown": [
       "**Note**:\n",
       "\n"
      ],
      "text/plain": [
       "<IPython.core.display.Markdown object>"
      ]
     },
     "metadata": {},
     "output_type": "display_data"
    },
    {
     "data": {
      "text/markdown": [
       "12.9 **Heading**: No merger or acquisition"
      ],
      "text/plain": [
       "<IPython.core.display.Markdown object>"
      ]
     },
     "metadata": {},
     "output_type": "display_data"
    },
    {
     "data": {
      "text/markdown": [
       "The Borrower must not merge with or acquire another company or entity."
      ],
      "text/plain": [
       "<IPython.core.display.Markdown object>"
      ]
     },
     "metadata": {},
     "output_type": "display_data"
    },
    {
     "data": {
      "text/markdown": [
       "**Note**:\n",
       "\n"
      ],
      "text/plain": [
       "<IPython.core.display.Markdown object>"
      ]
     },
     "metadata": {},
     "output_type": "display_data"
    },
    {
     "data": {
      "text/markdown": [
       "12.10 **Heading**: No disposal of subsidiaries"
      ],
      "text/plain": [
       "<IPython.core.display.Markdown object>"
      ]
     },
     "metadata": {},
     "output_type": "display_data"
    },
    {
     "data": {
      "text/markdown": [
       "The Borrower must not dispose of any of its subsidiaries."
      ],
      "text/plain": [
       "<IPython.core.display.Markdown object>"
      ]
     },
     "metadata": {},
     "output_type": "display_data"
    },
    {
     "data": {
      "text/markdown": [
       "**Note**:\n",
       "\n"
      ],
      "text/plain": [
       "<IPython.core.display.Markdown object>"
      ]
     },
     "metadata": {},
     "output_type": "display_data"
    },
    {
     "data": {
      "text/markdown": [
       "12.11 **Heading**: Term of undertakings"
      ],
      "text/plain": [
       "<IPython.core.display.Markdown object>"
      ]
     },
     "metadata": {},
     "output_type": "display_data"
    },
    {
     "data": {
      "text/markdown": [
       "Each undertaking in this clause 12 continues from the date of this document until the Outstanding Amount is fully and finally repaid."
      ],
      "text/plain": [
       "<IPython.core.display.Markdown object>"
      ]
     },
     "metadata": {},
     "output_type": "display_data"
    },
    {
     "data": {
      "text/markdown": [
       "**Note**:\n",
       "\n"
      ],
      "text/plain": [
       "<IPython.core.display.Markdown object>"
      ]
     },
     "metadata": {},
     "output_type": "display_data"
    },
    {
     "data": {
      "text/markdown": [
       "13 **Heading**: Default"
      ],
      "text/plain": [
       "<IPython.core.display.Markdown object>"
      ]
     },
     "metadata": {},
     "output_type": "display_data"
    },
    {
     "data": {
      "text/markdown": [
       "13 Default"
      ],
      "text/plain": [
       "<IPython.core.display.Markdown object>"
      ]
     },
     "metadata": {},
     "output_type": "display_data"
    },
    {
     "data": {
      "text/markdown": [
       "**Note**:\n",
       "\n"
      ],
      "text/plain": [
       "<IPython.core.display.Markdown object>"
      ]
     },
     "metadata": {},
     "output_type": "display_data"
    },
    {
     "data": {
      "text/markdown": [
       "13.1 **Heading**: Events of Default"
      ],
      "text/plain": [
       "<IPython.core.display.Markdown object>"
      ]
     },
     "metadata": {},
     "output_type": "display_data"
    },
    {
     "data": {
      "text/markdown": [
       "Each of the following events listed in this clause 13 is an Event of Default (whether or not it is in the control of any Finance Party).  \n",
       "  \n",
       "[Note – the events of default listed in this section are drafted broadly. These should be carefully considered and revised as required for the purposes of the relevant PAD Arrangement.]"
      ],
      "text/plain": [
       "<IPython.core.display.Markdown object>"
      ]
     },
     "metadata": {},
     "output_type": "display_data"
    },
    {
     "data": {
      "text/markdown": [
       "**Note**:[Note – the events of default listed in this section are drafted broadly. These should be carefully considered and revised as required for the purposes of the relevant PAD Arrangement.]"
      ],
      "text/plain": [
       "<IPython.core.display.Markdown object>"
      ]
     },
     "metadata": {},
     "output_type": "display_data"
    },
    {
     "data": {
      "text/markdown": [
       "13.2 **Heading**: Obligations under Finance Documents"
      ],
      "text/plain": [
       "<IPython.core.display.Markdown object>"
      ]
     },
     "metadata": {},
     "output_type": "display_data"
    },
    {
     "data": {
      "text/markdown": [
       "A Finance Party fails:  \n",
       "  \n",
       "(1) to pay or repay in accordance with its obligations under the Finance Documents any part of the Outstanding Amount when due;  \n",
       "  \n",
       "(2) to comply with any of its other obligations under a Finance Document and, if in the opinion of the Financier that failure can be remedied within 5 Business Days, does not remedy the failure within 5 Business Days after the Financier gives notice to the Borrower requiring that failure to be remedied; or  \n",
       "  \n",
       "(3) to satisfy within the time stipulated anything that the Financier made a condition of its waiving compliance with a condition precedent or undertaking in a Finance Document."
      ],
      "text/plain": [
       "<IPython.core.display.Markdown object>"
      ]
     },
     "metadata": {},
     "output_type": "display_data"
    },
    {
     "data": {
      "text/markdown": [
       "**Note**:\n",
       "\n"
      ],
      "text/plain": [
       "<IPython.core.display.Markdown object>"
      ]
     },
     "metadata": {},
     "output_type": "display_data"
    },
    {
     "data": {
      "text/markdown": [
       "13.3 **Heading**: Misrepresentation"
      ],
      "text/plain": [
       "<IPython.core.display.Markdown object>"
      ]
     },
     "metadata": {},
     "output_type": "display_data"
    },
    {
     "data": {
      "text/markdown": [
       "A representation, warranty or statement by or on behalf of a Finance Party in a Finance Document, or in a document provided under or in connection with a Finance Document, is not true in a material respect or is misleading in a material respect when made or repeated."
      ],
      "text/plain": [
       "<IPython.core.display.Markdown object>"
      ]
     },
     "metadata": {},
     "output_type": "display_data"
    },
    {
     "data": {
      "text/markdown": [
       "**Note**:\n",
       "\n"
      ],
      "text/plain": [
       "<IPython.core.display.Markdown object>"
      ]
     },
     "metadata": {},
     "output_type": "display_data"
    },
    {
     "data": {
      "text/markdown": [
       "13.4 **Heading**: Insolvency Event"
      ],
      "text/plain": [
       "<IPython.core.display.Markdown object>"
      ]
     },
     "metadata": {},
     "output_type": "display_data"
    },
    {
     "data": {
      "text/markdown": [
       "Any Insolvency Event occurs."
      ],
      "text/plain": [
       "<IPython.core.display.Markdown object>"
      ]
     },
     "metadata": {},
     "output_type": "display_data"
    },
    {
     "data": {
      "text/markdown": [
       "**Note**:\n",
       "\n"
      ],
      "text/plain": [
       "<IPython.core.display.Markdown object>"
      ]
     },
     "metadata": {},
     "output_type": "display_data"
    },
    {
     "data": {
      "text/markdown": [
       "13.5 **Heading**: Enforcement against assets"
      ],
      "text/plain": [
       "<IPython.core.display.Markdown object>"
      ]
     },
     "metadata": {},
     "output_type": "display_data"
    },
    {
     "data": {
      "text/markdown": [
       "One or more of the following events occurs in relation to all or any of the assets and undertaking of a Finance Party:  \n",
       "  \n",
       "(1) a receiver, receiver and manager, administrative receiver or similar officer is appointed;  \n",
       "  \n",
       "(2) a Security Interest becomes enforceable or is enforced; or  \n",
       "  \n",
       "(3) a distress, attachment or other execution is levied or enforced."
      ],
      "text/plain": [
       "<IPython.core.display.Markdown object>"
      ]
     },
     "metadata": {},
     "output_type": "display_data"
    },
    {
     "data": {
      "text/markdown": [
       "**Note**:\n",
       "\n"
      ],
      "text/plain": [
       "<IPython.core.display.Markdown object>"
      ]
     },
     "metadata": {},
     "output_type": "display_data"
    },
    {
     "data": {
      "text/markdown": [
       "13.6 **Heading**: Vitiation of Finance Documents"
      ],
      "text/plain": [
       "<IPython.core.display.Markdown object>"
      ]
     },
     "metadata": {},
     "output_type": "display_data"
    },
    {
     "data": {
      "text/markdown": [
       "One or more of the following events occurs in relation to a Finance Document:  \n",
       "  \n",
       "(1) all or any part of a Finance Document is terminated or is or becomes void, illegal, invalid, unenforceable or of limited force and effect;  \n",
       "  \n",
       "(2) a party becomes entitled to terminate, rescind or avoid all or part of a Finance Document; or  \n",
       "  \n",
       "(3) a party other than the Financier alleges or claims that an event described in clause 13.6(1) has occurred or that it is entitled as described in clause 13.6(2)."
      ],
      "text/plain": [
       "<IPython.core.display.Markdown object>"
      ]
     },
     "metadata": {},
     "output_type": "display_data"
    },
    {
     "data": {
      "text/markdown": [
       "**Note**:\n",
       "\n"
      ],
      "text/plain": [
       "<IPython.core.display.Markdown object>"
      ]
     },
     "metadata": {},
     "output_type": "display_data"
    },
    {
     "data": {
      "text/markdown": [
       "13.7 **Heading**: Revocation of Authorisation"
      ],
      "text/plain": [
       "<IPython.core.display.Markdown object>"
      ]
     },
     "metadata": {},
     "output_type": "display_data"
    },
    {
     "data": {
      "text/markdown": [
       "An Authorisation that is material to the performance by any Finance Party of a Finance Document, or to the validity and enforceability of a Finance Document is repealed, revoked or terminated or expires, or is modified or amended or not renewed, or conditions are attached to it in a manner unacceptable to the Financier, and is not immediately replaced by another Authorisation acceptable to the Financier."
      ],
      "text/plain": [
       "<IPython.core.display.Markdown object>"
      ]
     },
     "metadata": {},
     "output_type": "display_data"
    },
    {
     "data": {
      "text/markdown": [
       "**Note**:\n",
       "\n"
      ],
      "text/plain": [
       "<IPython.core.display.Markdown object>"
      ]
     },
     "metadata": {},
     "output_type": "display_data"
    },
    {
     "data": {
      "text/markdown": [
       "13.8 **Heading**: Material adverse effect"
      ],
      "text/plain": [
       "<IPython.core.display.Markdown object>"
      ]
     },
     "metadata": {},
     "output_type": "display_data"
    },
    {
     "data": {
      "text/markdown": [
       "Any event or series of events, whether related or not, occurs, that may have in the opinion of the Financier a Material Adverse Effect."
      ],
      "text/plain": [
       "<IPython.core.display.Markdown object>"
      ]
     },
     "metadata": {},
     "output_type": "display_data"
    },
    {
     "data": {
      "text/markdown": [
       "**Note**:\n",
       "\n"
      ],
      "text/plain": [
       "<IPython.core.display.Markdown object>"
      ]
     },
     "metadata": {},
     "output_type": "display_data"
    },
    {
     "data": {
      "text/markdown": [
       "13.9 **Heading**: Default under Finance Document"
      ],
      "text/plain": [
       "<IPython.core.display.Markdown object>"
      ]
     },
     "metadata": {},
     "output_type": "display_data"
    },
    {
     "data": {
      "text/markdown": [
       "Any default, event of default or potential event of default (as those expression, or any equivalent expressions, are defined in any Finance Document) occurs."
      ],
      "text/plain": [
       "<IPython.core.display.Markdown object>"
      ]
     },
     "metadata": {},
     "output_type": "display_data"
    },
    {
     "data": {
      "text/markdown": [
       "**Note**:\n",
       "\n"
      ],
      "text/plain": [
       "<IPython.core.display.Markdown object>"
      ]
     },
     "metadata": {},
     "output_type": "display_data"
    },
    {
     "data": {
      "text/markdown": [
       "14 **Heading**: Financier’s rights on Default"
      ],
      "text/plain": [
       "<IPython.core.display.Markdown object>"
      ]
     },
     "metadata": {},
     "output_type": "display_data"
    },
    {
     "data": {
      "text/markdown": [
       "14 Financier’s rights on Default"
      ],
      "text/plain": [
       "<IPython.core.display.Markdown object>"
      ]
     },
     "metadata": {},
     "output_type": "display_data"
    },
    {
     "data": {
      "text/markdown": [
       "**Note**:\n",
       "\n"
      ],
      "text/plain": [
       "<IPython.core.display.Markdown object>"
      ]
     },
     "metadata": {},
     "output_type": "display_data"
    },
    {
     "data": {
      "text/markdown": [
       "14.1 **Heading**: Consequences"
      ],
      "text/plain": [
       "<IPython.core.display.Markdown object>"
      ]
     },
     "metadata": {},
     "output_type": "display_data"
    },
    {
     "data": {
      "text/markdown": [
       "In addition to any other rights provided by law, any Finance Document or the Side Deed, at any time after an Event of Default (unless that Event of Default has been expressly waived by the Financier in writing) the Financier may do all or any of the following:  \n",
       "  \n",
       "(1) by notice to the Borrower declare all Outstanding Amount (or any part of that money as specified by the Financier in the notice) actually or contingently owing immediately due and payable, and the Borrower must immediately pay to the Financier the Outstanding Amount (or any part of that money as specified by the Financier in the notice);  \n",
       "  \n",
       "(2) by notice to the Borrower terminate the obligations of the Financier under this document;  \n",
       "  \n",
       "(3) enforce any or all of the Guarantees; and  \n",
       "  \n",
       "(4) take any action whatsoever that the Financier (or any person acting on the Financier’s behalf) is authorised or entitled to take under this document or any other Finance Document on the occurrence of an Event of Default."
      ],
      "text/plain": [
       "<IPython.core.display.Markdown object>"
      ]
     },
     "metadata": {},
     "output_type": "display_data"
    },
    {
     "data": {
      "text/markdown": [
       "**Note**:\n",
       "\n"
      ],
      "text/plain": [
       "<IPython.core.display.Markdown object>"
      ]
     },
     "metadata": {},
     "output_type": "display_data"
    },
    {
     "data": {
      "text/markdown": [
       "14.2 **Heading**: Payments"
      ],
      "text/plain": [
       "<IPython.core.display.Markdown object>"
      ]
     },
     "metadata": {},
     "output_type": "display_data"
    },
    {
     "data": {
      "text/markdown": [
       "All money received by the Financier at any time after any Outstanding Amount has become immediately due and payable under a notice given under clause 14.1 will be applied, subject to any prior ranking claims:  \n",
       "  \n",
       "(1) firstly, in or towards discharging all costs and expenses incurred by the Financier in preserving, exercising, protecting or enforcing its rights under the Finance Documents;  \n",
       "  \n",
       "(2) secondly, in or towards discharging the Outstanding Amount and any other money payable under the Finance Documents; and  \n",
       "  \n",
       "(3) thirdly, subject to payment and satisfaction of all Outstanding Amount and subject to the rights of third parties of which the Financier has actual notice, any balance in payment to the Borrower."
      ],
      "text/plain": [
       "<IPython.core.display.Markdown object>"
      ]
     },
     "metadata": {},
     "output_type": "display_data"
    },
    {
     "data": {
      "text/markdown": [
       "**Note**:\n",
       "\n"
      ],
      "text/plain": [
       "<IPython.core.display.Markdown object>"
      ]
     },
     "metadata": {},
     "output_type": "display_data"
    },
    {
     "data": {
      "text/markdown": [
       "15 **Heading**: Fees"
      ],
      "text/plain": [
       "<IPython.core.display.Markdown object>"
      ]
     },
     "metadata": {},
     "output_type": "display_data"
    },
    {
     "data": {
      "text/markdown": [
       "Subject to clause 19, the Borrower must pay to the Financier the fees (if any) as described in Item 10 of the Details."
      ],
      "text/plain": [
       "<IPython.core.display.Markdown object>"
      ]
     },
     "metadata": {},
     "output_type": "display_data"
    },
    {
     "data": {
      "text/markdown": [
       "**Note**:\n",
       "\n"
      ],
      "text/plain": [
       "<IPython.core.display.Markdown object>"
      ]
     },
     "metadata": {},
     "output_type": "display_data"
    },
    {
     "data": {
      "text/markdown": [
       "16 **Heading**: Expenses"
      ],
      "text/plain": [
       "<IPython.core.display.Markdown object>"
      ]
     },
     "metadata": {},
     "output_type": "display_data"
    },
    {
     "data": {
      "text/markdown": [
       "Subject to clause 19, on demand the Borrower must pay or, if the Financier requires, reimburse the Financier for the Financier’s costs and expenses (including legal costs and expenses on a full indemnity basis) in relation to:  \n",
       "  \n",
       "(1) the actual, attempted or contemplated enforcement of the Finance Documents, or actual or contemplated exercise, preservation or consideration of any rights, powers or remedies under the Transaction Documents; and  \n",
       "  \n",
       "(2) any other costs, expenses and fees payable by the Borrower to the Financier under any of the Finance Documents or as otherwise agreed between the Financier and the Borrower."
      ],
      "text/plain": [
       "<IPython.core.display.Markdown object>"
      ]
     },
     "metadata": {},
     "output_type": "display_data"
    },
    {
     "data": {
      "text/markdown": [
       "**Note**:\n",
       "\n"
      ],
      "text/plain": [
       "<IPython.core.display.Markdown object>"
      ]
     },
     "metadata": {},
     "output_type": "display_data"
    },
    {
     "data": {
      "text/markdown": [
       "17 **Heading**: Stamp duties and Taxes"
      ],
      "text/plain": [
       "<IPython.core.display.Markdown object>"
      ]
     },
     "metadata": {},
     "output_type": "display_data"
    },
    {
     "data": {
      "text/markdown": [
       "17 Stamp duties and Taxes"
      ],
      "text/plain": [
       "<IPython.core.display.Markdown object>"
      ]
     },
     "metadata": {},
     "output_type": "display_data"
    },
    {
     "data": {
      "text/markdown": [
       "**Note**:\n",
       "\n"
      ],
      "text/plain": [
       "<IPython.core.display.Markdown object>"
      ]
     },
     "metadata": {},
     "output_type": "display_data"
    },
    {
     "data": {
      "text/markdown": [
       "17.1 **Heading**: Stamp duties and Taxes"
      ],
      "text/plain": [
       "<IPython.core.display.Markdown object>"
      ]
     },
     "metadata": {},
     "output_type": "display_data"
    },
    {
     "data": {
      "text/markdown": [
       "Subject to clause 19, the Borrower must pay all stamp, transaction, registration and other Taxes (including, subject to clause 17.3, fines and penalties) that may be payable or determined to be payable in relation to the execution, delivery, performance or enforcement of any Finance Document or any payment or receipt or any other transaction contemplated by any Finance Document. Those Taxes exclude any Tax on the overall net income of the Financier."
      ],
      "text/plain": [
       "<IPython.core.display.Markdown object>"
      ]
     },
     "metadata": {},
     "output_type": "display_data"
    },
    {
     "data": {
      "text/markdown": [
       "**Note**:\n",
       "\n"
      ],
      "text/plain": [
       "<IPython.core.display.Markdown object>"
      ]
     },
     "metadata": {},
     "output_type": "display_data"
    },
    {
     "data": {
      "text/markdown": [
       "17.2 **Heading**: GST"
      ],
      "text/plain": [
       "<IPython.core.display.Markdown object>"
      ]
     },
     "metadata": {},
     "output_type": "display_data"
    },
    {
     "data": {
      "text/markdown": [
       "(1) Unless expressly specified otherwise, all payments to be made by the Transaction Parties under or in connection with any Finance Document have been calculated or determined without regard to GST. (2) Subject to clause 19, if all or part of any such payment is the consideration for a taxable supply for GST purposes then, when the Finance Party makes the payment:  \n",
       "  \n",
       "(a) it must pay to the Financier an additional amount equal to that payment (or part) multiplied by the appropriate rate of GST (currently 10%); and  \n",
       "  \n",
       "(b) the Financier will promptly provide to the Finance Party a tax invoice complying with the relevant GST legislation.  \n",
       "  \n",
       "(3) Where under any Finance Document a Finance Party is required to reimburse or indemnify for an amount, the Finance Party must pay the relevant amount (including any sum in respect of GST) less any GST input tax credit the Financier determines that it is entitled to claim in respect of that amount."
      ],
      "text/plain": [
       "<IPython.core.display.Markdown object>"
      ]
     },
     "metadata": {},
     "output_type": "display_data"
    },
    {
     "data": {
      "text/markdown": [
       "**Note**:\n",
       "\n"
      ],
      "text/plain": [
       "<IPython.core.display.Markdown object>"
      ]
     },
     "metadata": {},
     "output_type": "display_data"
    },
    {
     "data": {
      "text/markdown": [
       "17.3 **Heading**: Indemnity"
      ],
      "text/plain": [
       "<IPython.core.display.Markdown object>"
      ]
     },
     "metadata": {},
     "output_type": "display_data"
    },
    {
     "data": {
      "text/markdown": [
       "Subject to clause 19, the Borrower indemnifies the Financier against any liability resulting from delay or omission to pay those Taxes under this clause 17 except to the extent the liability results from failure by the Financier to pay any Tax after having been put in funds to do so by the Borrower."
      ],
      "text/plain": [
       "<IPython.core.display.Markdown object>"
      ]
     },
     "metadata": {},
     "output_type": "display_data"
    },
    {
     "data": {
      "text/markdown": [
       "**Note**:\n",
       "\n"
      ],
      "text/plain": [
       "<IPython.core.display.Markdown object>"
      ]
     },
     "metadata": {},
     "output_type": "display_data"
    },
    {
     "data": {
      "text/markdown": [
       "18 **Heading**: Indemnities"
      ],
      "text/plain": [
       "<IPython.core.display.Markdown object>"
      ]
     },
     "metadata": {},
     "output_type": "display_data"
    },
    {
     "data": {
      "text/markdown": [
       "18 Indemnities"
      ],
      "text/plain": [
       "<IPython.core.display.Markdown object>"
      ]
     },
     "metadata": {},
     "output_type": "display_data"
    },
    {
     "data": {
      "text/markdown": [
       "**Note**:\n",
       "\n"
      ],
      "text/plain": [
       "<IPython.core.display.Markdown object>"
      ]
     },
     "metadata": {},
     "output_type": "display_data"
    },
    {
     "data": {
      "text/markdown": [
       "18.1 **Heading**: Nature"
      ],
      "text/plain": [
       "<IPython.core.display.Markdown object>"
      ]
     },
     "metadata": {},
     "output_type": "display_data"
    },
    {
     "data": {
      "text/markdown": [
       "Subject to clause 19, the Borrower indemnifies the Financier against any loss, cost, charge, liability or expense the Financier sustains or incurs (but excluding any loss, cost, charge, liability or expense solely caused by the fraud, wilful default or gross negligence of the Financier) caused or contributed to by:  \n",
       "  \n",
       "(1) any Event of Default or Potential Event of Default;  \n",
       "  \n",
       "(2) any exercise or attempted exercise of any right, power or remedy under any Finance Document;  \n",
       "  \n",
       "(3) any act by the Financier in reliance on or any communication purporting to be from a Finance Party or to be given on behalf of that Finance Party that on its face appears to be genuine and signed by an Authorised Officer of that Finance Party; or  \n",
       "  \n",
       "(4) accommodation requested by the Borrower not being provided for any reason (including failure to fulfil any Condition Precedent, but excluding if due to any default by the Financier)."
      ],
      "text/plain": [
       "<IPython.core.display.Markdown object>"
      ]
     },
     "metadata": {},
     "output_type": "display_data"
    },
    {
     "data": {
      "text/markdown": [
       "**Note**:\n",
       "\n"
      ],
      "text/plain": [
       "<IPython.core.display.Markdown object>"
      ]
     },
     "metadata": {},
     "output_type": "display_data"
    },
    {
     "data": {
      "text/markdown": [
       "18.2 **Heading**: Survival of obligations"
      ],
      "text/plain": [
       "<IPython.core.display.Markdown object>"
      ]
     },
     "metadata": {},
     "output_type": "display_data"
    },
    {
     "data": {
      "text/markdown": [
       "Each indemnity in the Finance Documents is a continuing obligation, separate and independent from the other obligations of the Finance Party and survives the termination of this document."
      ],
      "text/plain": [
       "<IPython.core.display.Markdown object>"
      ]
     },
     "metadata": {},
     "output_type": "display_data"
    },
    {
     "data": {
      "text/markdown": [
       "**Note**:\n",
       "\n"
      ],
      "text/plain": [
       "<IPython.core.display.Markdown object>"
      ]
     },
     "metadata": {},
     "output_type": "display_data"
    },
    {
     "data": {
      "text/markdown": [
       "19 **Heading**: Use of State funds"
      ],
      "text/plain": [
       "<IPython.core.display.Markdown object>"
      ]
     },
     "metadata": {},
     "output_type": "display_data"
    },
    {
     "data": {
      "text/markdown": [
       "Other than any legal costs referred to in or otherwise contemplated by the financial model agreed between the Borrower and the State for the Project, any amount in the nature of costs, Taxes and expenses incurred by the Borrower to the Financier under this document must not be:  \n",
       "  \n",
       "(1) paid out of any funds received by the Borrower from the State under or in accordance with the Implementation Agreement; or  \n",
       "  \n",
       "(2) paid out of any sources of funds other than as permitted under this document."
      ],
      "text/plain": [
       "<IPython.core.display.Markdown object>"
      ]
     },
     "metadata": {},
     "output_type": "display_data"
    },
    {
     "data": {
      "text/markdown": [
       "**Note**:\n",
       "\n"
      ],
      "text/plain": [
       "<IPython.core.display.Markdown object>"
      ]
     },
     "metadata": {},
     "output_type": "display_data"
    },
    {
     "data": {
      "text/markdown": [
       "20 **Heading**: Assignment"
      ],
      "text/plain": [
       "<IPython.core.display.Markdown object>"
      ]
     },
     "metadata": {},
     "output_type": "display_data"
    },
    {
     "data": {
      "text/markdown": [
       "20 Assignment"
      ],
      "text/plain": [
       "<IPython.core.display.Markdown object>"
      ]
     },
     "metadata": {},
     "output_type": "display_data"
    },
    {
     "data": {
      "text/markdown": [
       "**Note**:\n",
       "\n"
      ],
      "text/plain": [
       "<IPython.core.display.Markdown object>"
      ]
     },
     "metadata": {},
     "output_type": "display_data"
    },
    {
     "data": {
      "text/markdown": [
       "20.1 **Heading**: No assignment by Borrower"
      ],
      "text/plain": [
       "<IPython.core.display.Markdown object>"
      ]
     },
     "metadata": {},
     "output_type": "display_data"
    },
    {
     "data": {
      "text/markdown": [
       "The Borrower must not at any time assign or transfer to any person or cause or permit any person to acquire an interest in the Borrower’s rights under the Finance Documents."
      ],
      "text/plain": [
       "<IPython.core.display.Markdown object>"
      ]
     },
     "metadata": {},
     "output_type": "display_data"
    },
    {
     "data": {
      "text/markdown": [
       "**Note**:\n",
       "\n"
      ],
      "text/plain": [
       "<IPython.core.display.Markdown object>"
      ]
     },
     "metadata": {},
     "output_type": "display_data"
    },
    {
     "data": {
      "text/markdown": [
       "20.2 **Heading**: Assignment by Financier"
      ],
      "text/plain": [
       "<IPython.core.display.Markdown object>"
      ]
     },
     "metadata": {},
     "output_type": "display_data"
    },
    {
     "data": {
      "text/markdown": [
       "Subject to the Side Deed, the Financier may at any time assign or transfer all or any of its rights or obligations under the Finance Documents."
      ],
      "text/plain": [
       "<IPython.core.display.Markdown object>"
      ]
     },
     "metadata": {},
     "output_type": "display_data"
    },
    {
     "data": {
      "text/markdown": [
       "**Note**:\n",
       "\n"
      ],
      "text/plain": [
       "<IPython.core.display.Markdown object>"
      ]
     },
     "metadata": {},
     "output_type": "display_data"
    },
    {
     "data": {
      "text/markdown": [
       "21 **Heading**: Set-off"
      ],
      "text/plain": [
       "<IPython.core.display.Markdown object>"
      ]
     },
     "metadata": {},
     "output_type": "display_data"
    },
    {
     "data": {
      "text/markdown": [
       "Subject always to the Side Deed, the Financier may set-off against any debt due and owing by the Borrower to the Financier, including debts due and owing under any Finance Document, any debt due and owing by the Financier to the Borrower, including any money in any currency held by the Financier for the account of the Borrower in any place."
      ],
      "text/plain": [
       "<IPython.core.display.Markdown object>"
      ]
     },
     "metadata": {},
     "output_type": "display_data"
    },
    {
     "data": {
      "text/markdown": [
       "**Note**:\n",
       "\n"
      ],
      "text/plain": [
       "<IPython.core.display.Markdown object>"
      ]
     },
     "metadata": {},
     "output_type": "display_data"
    },
    {
     "data": {
      "text/markdown": [
       "22 **Heading**: Pledge Deed"
      ],
      "text/plain": [
       "<IPython.core.display.Markdown object>"
      ]
     },
     "metadata": {},
     "output_type": "display_data"
    },
    {
     "data": {
      "text/markdown": [
       "The Borrower agrees that, except to the extent otherwise expressly agreed in writing by the Financier, the Borrower must:  \n",
       "  \n",
       "(1) promptly provide the Financier with true and complete copies of all variations, novations or replacements of each Pledge Deed;  \n",
       "  \n",
       "(2) use its best endeavours to ensure that each Pledge Deed is at all times legal, valid, binding and enforceable in accordance with its terms;  \n",
       "  \n",
       "(3) not agree to any amendment to the terms of a Pledge Deed;  \n",
       "  \n",
       "(4) not assign, novate or otherwise dispose of a Pledge Deed;  \n",
       "  \n",
       "(5) not request payment under a Pledge Deed;  \n",
       "  \n",
       "(6) comply with all requirements (including its obligations) under or in relation to each Pledge Deed;  \n",
       "  \n",
       "(7) not release any other party to a Pledge Deed from any obligation under or in relation to that Pledge Deed;  \n",
       "  \n",
       "(8) not waive performance by any other party to a Pledge Deed of any obligation under or in relation to that Pledge Deed;  \n",
       "  \n",
       "(9) not allow any right of set off, any counterclaim, or any defence to performance of obligations, to arise in favour of any other party to a Pledge Deed;  \n",
       "  \n",
       "(10) obtain and maintain all consents, approvals and authorisations which at any time are necessary in connection with each Pledge Deed or to maintain each Pledge Deed’s continuance, validity or performance (including enforcement);  \n",
       "  \n",
       "(11) notify the Financier of any non-compliance with obligations under, or dispute under, a Pledge Deed promptly on becoming aware of it;  \n",
       "  \n",
       "(12) inform the Financier promptly if claims, proceedings or actions are taken or commenced which could adversely affect a Pledge Deed;  \n",
       "  \n",
       "(13) not do (or omit to do) anything which might result in a Pledge Deed, any of its rights or interests in a Pledge Deed being or becoming invalid, unenforceable, liable to forfeiture or cancellation; and  \n",
       "  \n",
       "(14) if requested by the Financier in writing exercise its rights, powers and entitlements under any or all Pledge Deeds in accordance with any direction or instruction issued by the Financier, including requesting payment of a pledge under any Pledge Deed and applying that payment towards reduction of the Outstanding Amount."
      ],
      "text/plain": [
       "<IPython.core.display.Markdown object>"
      ]
     },
     "metadata": {},
     "output_type": "display_data"
    },
    {
     "data": {
      "text/markdown": [
       "**Note**:\n",
       "\n"
      ],
      "text/plain": [
       "<IPython.core.display.Markdown object>"
      ]
     },
     "metadata": {},
     "output_type": "display_data"
    },
    {
     "data": {
      "text/markdown": [
       "23 **Heading**: Limited rights of recourse"
      ],
      "text/plain": [
       "<IPython.core.display.Markdown object>"
      ]
     },
     "metadata": {},
     "output_type": "display_data"
    },
    {
     "data": {
      "text/markdown": [
       "(1) Subject to paragraphs (2) and (3) below and to the terms of the Side Deed, there shall be full recourse to the Borrower and to all of its assets for the liabilities of the Borrower under this document and the other Finance Documents, and in no event shall the Guarantors, any Pledgor or any employee, officer, director, advisor, consultant, agent or representative of the Borrower or the Guarantors or any pledgor under a Pledge Deed, be liable or obligated for such liabilities and obligations of the Borrower, other than in terms of the Master Guarantee Deed, each Guarantor Accession Deed Poll and each Pledge Deed.  \n",
       "  \n",
       "(2) The Borrower's liability under or in connection with this document is limited to the extent the liability can be satisfied out of the assets of the Borrower.  \n",
       "  \n",
       "(3) The Financier may not seek to recover any amounts owing to it under this document or any other Finance Document by bringing proceedings against the Borrower to have the Borrower wound up. (4) For the avoidance of doubt, but subject to the Side Deed, this clause 23 does not prevent the Financier from:  \n",
       "  \n",
       "(a) doing anything else necessary to enforce its rights in connection with the assets of the Borrower; or  \n",
       "  \n",
       "(b) taking proceedings to obtain (1) an injunction or other order to restrain any breach of the Documents; or (2) declaratory relief or another similar judgment or order as to the obligations of the Borrower and Guarantors under the Documents. (5) This clause 23 will not apply to a liability or an obligation of the Borrower as a result of the Borrower's fraud, wilful default or gross negligence, including a wilful failure to comply with any of its obligations under the Finance Documents."
      ],
      "text/plain": [
       "<IPython.core.display.Markdown object>"
      ]
     },
     "metadata": {},
     "output_type": "display_data"
    },
    {
     "data": {
      "text/markdown": [
       "**Note**:\n",
       "\n"
      ],
      "text/plain": [
       "<IPython.core.display.Markdown object>"
      ]
     },
     "metadata": {},
     "output_type": "display_data"
    },
    {
     "data": {
      "text/markdown": [
       "24 **Heading**: Financier’s determination and certificate"
      ],
      "text/plain": [
       "<IPython.core.display.Markdown object>"
      ]
     },
     "metadata": {},
     "output_type": "display_data"
    },
    {
     "data": {
      "text/markdown": [
       "24 Financier’s determination and certificate"
      ],
      "text/plain": [
       "<IPython.core.display.Markdown object>"
      ]
     },
     "metadata": {},
     "output_type": "display_data"
    },
    {
     "data": {
      "text/markdown": [
       "**Note**:\n",
       "\n"
      ],
      "text/plain": [
       "<IPython.core.display.Markdown object>"
      ]
     },
     "metadata": {},
     "output_type": "display_data"
    },
    {
     "data": {
      "text/markdown": [
       "24.1 **Heading**: Certificate"
      ],
      "text/plain": [
       "<IPython.core.display.Markdown object>"
      ]
     },
     "metadata": {},
     "output_type": "display_data"
    },
    {
     "data": {
      "text/markdown": [
       "A certificate by the Financier relating to any Finance Document is, in the absence of manifest error, conclusive evidence against the Borrower of the matters certified."
      ],
      "text/plain": [
       "<IPython.core.display.Markdown object>"
      ]
     },
     "metadata": {},
     "output_type": "display_data"
    },
    {
     "data": {
      "text/markdown": [
       "**Note**:\n",
       "\n"
      ],
      "text/plain": [
       "<IPython.core.display.Markdown object>"
      ]
     },
     "metadata": {},
     "output_type": "display_data"
    },
    {
     "data": {
      "text/markdown": [
       "24.2 **Heading**: Not obliged to give reasons"
      ],
      "text/plain": [
       "<IPython.core.display.Markdown object>"
      ]
     },
     "metadata": {},
     "output_type": "display_data"
    },
    {
     "data": {
      "text/markdown": [
       "The Financier is not obliged to give the reasons for its determination or opinion in relation to any matter under any Finance Document."
      ],
      "text/plain": [
       "<IPython.core.display.Markdown object>"
      ]
     },
     "metadata": {},
     "output_type": "display_data"
    },
    {
     "data": {
      "text/markdown": [
       "**Note**:\n",
       "\n"
      ],
      "text/plain": [
       "<IPython.core.display.Markdown object>"
      ]
     },
     "metadata": {},
     "output_type": "display_data"
    },
    {
     "data": {
      "text/markdown": [
       "24.3 **Heading**: Authorised Officer"
      ],
      "text/plain": [
       "<IPython.core.display.Markdown object>"
      ]
     },
     "metadata": {},
     "output_type": "display_data"
    },
    {
     "data": {
      "text/markdown": [
       "A determination or an opinion of an Authorised Officer of the Financier that is given to the Borrower or otherwise expressed or acted on by the Financier as being a determination or an opinion of the Financier will be treated as being a determination or opinion of the Financier."
      ],
      "text/plain": [
       "<IPython.core.display.Markdown object>"
      ]
     },
     "metadata": {},
     "output_type": "display_data"
    },
    {
     "data": {
      "text/markdown": [
       "**Note**:\n",
       "\n"
      ],
      "text/plain": [
       "<IPython.core.display.Markdown object>"
      ]
     },
     "metadata": {},
     "output_type": "display_data"
    },
    {
     "data": {
      "text/markdown": [
       "25 **Heading**: Cumulative rights"
      ],
      "text/plain": [
       "<IPython.core.display.Markdown object>"
      ]
     },
     "metadata": {},
     "output_type": "display_data"
    },
    {
     "data": {
      "text/markdown": [
       "The rights, powers and remedies provided in this document are in addition to those provided by law independently of this document and each right, power and remedy provided in this document (including any right of indemnity) is additional to and not exclusive of every other right, power or remedy provided in this document."
      ],
      "text/plain": [
       "<IPython.core.display.Markdown object>"
      ]
     },
     "metadata": {},
     "output_type": "display_data"
    },
    {
     "data": {
      "text/markdown": [
       "**Note**:\n",
       "\n"
      ],
      "text/plain": [
       "<IPython.core.display.Markdown object>"
      ]
     },
     "metadata": {},
     "output_type": "display_data"
    },
    {
     "data": {
      "text/markdown": [
       "26 **Heading**: Approvals and consent"
      ],
      "text/plain": [
       "<IPython.core.display.Markdown object>"
      ]
     },
     "metadata": {},
     "output_type": "display_data"
    },
    {
     "data": {
      "text/markdown": [
       "Subject to any express provision in the Finance Documents to the contrary or unless this document expressly provides otherwise, the Financier may conditionally or unconditionally give or withhold its approval or consent in its absolute discretion."
      ],
      "text/plain": [
       "<IPython.core.display.Markdown object>"
      ]
     },
     "metadata": {},
     "output_type": "display_data"
    },
    {
     "data": {
      "text/markdown": [
       "**Note**:\n",
       "\n"
      ],
      "text/plain": [
       "<IPython.core.display.Markdown object>"
      ]
     },
     "metadata": {},
     "output_type": "display_data"
    },
    {
     "data": {
      "text/markdown": [
       "27 **Heading**: Time of the essence"
      ],
      "text/plain": [
       "<IPython.core.display.Markdown object>"
      ]
     },
     "metadata": {},
     "output_type": "display_data"
    },
    {
     "data": {
      "text/markdown": [
       "(1) Time is of the essence of this document.  \n",
       "  \n",
       "(2) If the parties agree to vary a time requirement, the time requirement so varied is of the essence of this document.  \n",
       "  \n",
       "(3) An agreement to vary a time requirement must be in writing."
      ],
      "text/plain": [
       "<IPython.core.display.Markdown object>"
      ]
     },
     "metadata": {},
     "output_type": "display_data"
    },
    {
     "data": {
      "text/markdown": [
       "**Note**:\n",
       "\n"
      ],
      "text/plain": [
       "<IPython.core.display.Markdown object>"
      ]
     },
     "metadata": {},
     "output_type": "display_data"
    },
    {
     "data": {
      "text/markdown": [
       "28 **Heading**: Time for performance"
      ],
      "text/plain": [
       "<IPython.core.display.Markdown object>"
      ]
     },
     "metadata": {},
     "output_type": "display_data"
    },
    {
     "data": {
      "text/markdown": [
       "Subject to any express provision to the contrary in this document, if:  \n",
       "  \n",
       "(1) the day on which anything is to be done is not a Business Day, that thing must be done on the next following Business Day; and  \n",
       "  \n",
       "(2) an act, other than a payment or the giving of a communication, is required to be done on a particular day and the act is done after 5.00pm on that day, it will be treated as having be"
      ],
      "text/plain": [
       "<IPython.core.display.Markdown object>"
      ]
     },
     "metadata": {},
     "output_type": "display_data"
    },
    {
     "data": {
      "text/markdown": [
       "**Note**:\n",
       "\n"
      ],
      "text/plain": [
       "<IPython.core.display.Markdown object>"
      ]
     },
     "metadata": {},
     "output_type": "display_data"
    },
    {
     "data": {
      "text/markdown": [
       "29 **Heading**: Records as evidence"
      ],
      "text/plain": [
       "<IPython.core.display.Markdown object>"
      ]
     },
     "metadata": {},
     "output_type": "display_data"
    },
    {
     "data": {
      "text/markdown": [
       "The Financier may maintain records specifying:  \n",
       "  \n",
       "(1) payments made by the Financier for the account of any Finance Party;  \n",
       "  \n",
       "(2) payments by any Finance Party for the account of the Financier under any Finance Document; and  \n",
       "  \n",
       "(3) interest, fees, charges, costs and expenses payable in relation to the Finance Documents,  \n",
       "  \n",
       "and those records will as against the Borrower constitute conclusive evidence, in the absence of manifest error, of the matters set out in them."
      ],
      "text/plain": [
       "<IPython.core.display.Markdown object>"
      ]
     },
     "metadata": {},
     "output_type": "display_data"
    },
    {
     "data": {
      "text/markdown": [
       "**Note**:\n",
       "\n"
      ],
      "text/plain": [
       "<IPython.core.display.Markdown object>"
      ]
     },
     "metadata": {},
     "output_type": "display_data"
    },
    {
     "data": {
      "text/markdown": [
       "30 **Heading**: Supervening legislation"
      ],
      "text/plain": [
       "<IPython.core.display.Markdown object>"
      ]
     },
     "metadata": {},
     "output_type": "display_data"
    },
    {
     "data": {
      "text/markdown": [
       "Any present or future legislation that operates:  \n",
       "  \n",
       "(1) to lessen or vary in favour of a Finance Party any of its obligations in connection with this document; or  \n",
       "  \n",
       "(2) to postpone, stay, suspend or curtail any rights of the Financier under this document,  \n",
       "  \n",
       "is excluded except to the extent that its exclusion is prohibited or rendered ineffective by law."
      ],
      "text/plain": [
       "<IPython.core.display.Markdown object>"
      ]
     },
     "metadata": {},
     "output_type": "display_data"
    },
    {
     "data": {
      "text/markdown": [
       "**Note**:\n",
       "\n"
      ],
      "text/plain": [
       "<IPython.core.display.Markdown object>"
      ]
     },
     "metadata": {},
     "output_type": "display_data"
    },
    {
     "data": {
      "text/markdown": [
       "31 **Heading**: Borrower’s own judgment"
      ],
      "text/plain": [
       "<IPython.core.display.Markdown object>"
      ]
     },
     "metadata": {},
     "output_type": "display_data"
    },
    {
     "data": {
      "text/markdown": [
       "31 Borrower’s own judgment"
      ],
      "text/plain": [
       "<IPython.core.display.Markdown object>"
      ]
     },
     "metadata": {},
     "output_type": "display_data"
    },
    {
     "data": {
      "text/markdown": [
       "**Note**:\n",
       "\n"
      ],
      "text/plain": [
       "<IPython.core.display.Markdown object>"
      ]
     },
     "metadata": {},
     "output_type": "display_data"
    },
    {
     "data": {
      "text/markdown": [
       "31.1 **Heading**: No reliance on Financier"
      ],
      "text/plain": [
       "<IPython.core.display.Markdown object>"
      ]
     },
     "metadata": {},
     "output_type": "display_data"
    },
    {
     "data": {
      "text/markdown": [
       "The Borrower will make its own judgment and decision in respect of each utilisation of financial accommodation under this document independently and without reliance on the Financier."
      ],
      "text/plain": [
       "<IPython.core.display.Markdown object>"
      ]
     },
     "metadata": {},
     "output_type": "display_data"
    },
    {
     "data": {
      "text/markdown": [
       "**Note**:\n",
       "\n"
      ],
      "text/plain": [
       "<IPython.core.display.Markdown object>"
      ]
     },
     "metadata": {},
     "output_type": "display_data"
    },
    {
     "data": {
      "text/markdown": [
       "31.2 **Heading**: Financier not liable"
      ],
      "text/plain": [
       "<IPython.core.display.Markdown object>"
      ]
     },
     "metadata": {},
     "output_type": "display_data"
    },
    {
     "data": {
      "text/markdown": [
       "The Financier is under no liability or responsibility (whether in contract, tort or otherwise) and is not to be taken to have accepted any liability or responsibility (whether in contract, tort or otherwise) whatsoever in respect of movement in rates of interest or exchange or any advice, opinions or data rendered or given by any of their officers, employees, agents or other persons representing the Financier, irrespective of whether or not the advice, opinions or data was or is rendered or given at the request of the Borrower or that the advice was or is incorrectly or negligently given."
      ],
      "text/plain": [
       "<IPython.core.display.Markdown object>"
      ]
     },
     "metadata": {},
     "output_type": "display_data"
    },
    {
     "data": {
      "text/markdown": [
       "**Note**:\n",
       "\n"
      ],
      "text/plain": [
       "<IPython.core.display.Markdown object>"
      ]
     },
     "metadata": {},
     "output_type": "display_data"
    },
    {
     "data": {
      "text/markdown": [
       "32 **Heading**: Authorised Officers"
      ],
      "text/plain": [
       "<IPython.core.display.Markdown object>"
      ]
     },
     "metadata": {},
     "output_type": "display_data"
    },
    {
     "data": {
      "text/markdown": [
       "The Borrower:  \n",
       "  \n",
       "(1) irrevocably authorises the Financier to rely on a certificate by any person purporting to be its director or secretary as to the identity and signatures of its Authorised Officers; and  \n",
       "  \n",
       "(2) warrants that those persons have been authorised to give notices and communications under or in connection with the Finance Documents."
      ],
      "text/plain": [
       "<IPython.core.display.Markdown object>"
      ]
     },
     "metadata": {},
     "output_type": "display_data"
    },
    {
     "data": {
      "text/markdown": [
       "**Note**:\n",
       "\n"
      ],
      "text/plain": [
       "<IPython.core.display.Markdown object>"
      ]
     },
     "metadata": {},
     "output_type": "display_data"
    },
    {
     "data": {
      "text/markdown": [
       "33 **Heading**: Severability"
      ],
      "text/plain": [
       "<IPython.core.display.Markdown object>"
      ]
     },
     "metadata": {},
     "output_type": "display_data"
    },
    {
     "data": {
      "text/markdown": [
       "A provision of a Finance Document that is prohibited or unenforceable in any jurisdiction is ineffective in that jurisdiction to the extent of the prohibition or unenforceability. This does not invalidate the remaining provisions of that Finance Document nor affect the validity or enforceability of that provision in any other jurisdiction."
      ],
      "text/plain": [
       "<IPython.core.display.Markdown object>"
      ]
     },
     "metadata": {},
     "output_type": "display_data"
    },
    {
     "data": {
      "text/markdown": [
       "**Note**:\n",
       "\n"
      ],
      "text/plain": [
       "<IPython.core.display.Markdown object>"
      ]
     },
     "metadata": {},
     "output_type": "display_data"
    },
    {
     "data": {
      "text/markdown": [
       "34 **Heading**: Variation"
      ],
      "text/plain": [
       "<IPython.core.display.Markdown object>"
      ]
     },
     "metadata": {},
     "output_type": "display_data"
    },
    {
     "data": {
      "text/markdown": [
       "An amendment or variation to this document is not effective unless it is in writing and signed by the parties."
      ],
      "text/plain": [
       "<IPython.core.display.Markdown object>"
      ]
     },
     "metadata": {},
     "output_type": "display_data"
    },
    {
     "data": {
      "text/markdown": [
       "**Note**:\n",
       "\n"
      ],
      "text/plain": [
       "<IPython.core.display.Markdown object>"
      ]
     },
     "metadata": {},
     "output_type": "display_data"
    },
    {
     "data": {
      "text/markdown": [
       "35 **Heading**: Waiver and exercise of rights"
      ],
      "text/plain": [
       "<IPython.core.display.Markdown object>"
      ]
     },
     "metadata": {},
     "output_type": "display_data"
    },
    {
     "data": {
      "text/markdown": [
       "35 Waiver and exercise of rights"
      ],
      "text/plain": [
       "<IPython.core.display.Markdown object>"
      ]
     },
     "metadata": {},
     "output_type": "display_data"
    },
    {
     "data": {
      "text/markdown": [
       "**Note**:\n",
       "\n"
      ],
      "text/plain": [
       "<IPython.core.display.Markdown object>"
      ]
     },
     "metadata": {},
     "output_type": "display_data"
    },
    {
     "data": {
      "text/markdown": [
       "35.1 **Heading**: Waiver"
      ],
      "text/plain": [
       "<IPython.core.display.Markdown object>"
      ]
     },
     "metadata": {},
     "output_type": "display_data"
    },
    {
     "data": {
      "text/markdown": [
       "A right in favour of the Financier under a Finance Document, a breach of an obligation of a Finance Party under a Finance Document or the occurrence of an Event of Default can only be waived by a written instrument signed by the Financier. No other act, omission or delay of the Financier will constitute a waiver."
      ],
      "text/plain": [
       "<IPython.core.display.Markdown object>"
      ]
     },
     "metadata": {},
     "output_type": "display_data"
    },
    {
     "data": {
      "text/markdown": [
       "**Note**:\n",
       "\n"
      ],
      "text/plain": [
       "<IPython.core.display.Markdown object>"
      ]
     },
     "metadata": {},
     "output_type": "display_data"
    },
    {
     "data": {
      "text/markdown": [
       "35.2 **Heading**: Exercise of rights"
      ],
      "text/plain": [
       "<IPython.core.display.Markdown object>"
      ]
     },
     "metadata": {},
     "output_type": "display_data"
    },
    {
     "data": {
      "text/markdown": [
       "A single or partial exercise or waiver by the Financier of any right under a Finance Document will not prevent any other exercise of that right or the exercise of any other right."
      ],
      "text/plain": [
       "<IPython.core.display.Markdown object>"
      ]
     },
     "metadata": {},
     "output_type": "display_data"
    },
    {
     "data": {
      "text/markdown": [
       "**Note**:\n",
       "\n"
      ],
      "text/plain": [
       "<IPython.core.display.Markdown object>"
      ]
     },
     "metadata": {},
     "output_type": "display_data"
    },
    {
     "data": {
      "text/markdown": [
       "35.3 **Heading**: No liability"
      ],
      "text/plain": [
       "<IPython.core.display.Markdown object>"
      ]
     },
     "metadata": {},
     "output_type": "display_data"
    },
    {
     "data": {
      "text/markdown": [
       "The Financier will not be liable for any loss, cost or expense of the Borrower caused or contributed to by the waiver of, exercise of, attempted exercise of, failure to exercise or delay in exercising a right of the Financier."
      ],
      "text/plain": [
       "<IPython.core.display.Markdown object>"
      ]
     },
     "metadata": {},
     "output_type": "display_data"
    },
    {
     "data": {
      "text/markdown": [
       "**Note**:\n",
       "\n"
      ],
      "text/plain": [
       "<IPython.core.display.Markdown object>"
      ]
     },
     "metadata": {},
     "output_type": "display_data"
    },
    {
     "data": {
      "text/markdown": [
       "36 **Heading**: Notices"
      ],
      "text/plain": [
       "<IPython.core.display.Markdown object>"
      ]
     },
     "metadata": {},
     "output_type": "display_data"
    },
    {
     "data": {
      "text/markdown": [
       "36 Notices"
      ],
      "text/plain": [
       "<IPython.core.display.Markdown object>"
      ]
     },
     "metadata": {},
     "output_type": "display_data"
    },
    {
     "data": {
      "text/markdown": [
       "**Note**:\n",
       "\n"
      ],
      "text/plain": [
       "<IPython.core.display.Markdown object>"
      ]
     },
     "metadata": {},
     "output_type": "display_data"
    },
    {
     "data": {
      "text/markdown": [
       "36.1 **Heading**: Method of service"
      ],
      "text/plain": [
       "<IPython.core.display.Markdown object>"
      ]
     },
     "metadata": {},
     "output_type": "display_data"
    },
    {
     "data": {
      "text/markdown": [
       "All notices or other communications to or by a party to this document:  \n",
       "  \n",
       "(1) must be in writing;  \n",
       "  \n",
       "(2) must be signed by an Authorised Officer of the sender;  \n",
       "  \n",
       "(3) will be treated as being given or made:  \n",
       "  \n",
       "(a) (in the case of delivery in person or by post) when delivered, received or left at the address of the recipient shown below; or  \n",
       "  \n",
       "(b) (in the case of a facsimile transmission) on receipt by the sender of an error free transmission report at the end of transmission,  \n",
       "  \n",
       "but if delivery or receipt is on a day that is not a Business Day in the place to which the communication is sent or is later than 4.00pm (local time), it will be treated as being given or made at the commencement of business on the next Business Day in that place; and  \n",
       "  \n",
       "(4) must be addressed to the recipient at the address or facsimile number specified in Item 11 of the Details for that party or any other address or facsimile number in the  \n",
       "  \n",
       "same country subsequently notified by one party to the other parties for the purposes of this document."
      ],
      "text/plain": [
       "<IPython.core.display.Markdown object>"
      ]
     },
     "metadata": {},
     "output_type": "display_data"
    },
    {
     "data": {
      "text/markdown": [
       "**Note**:\n",
       "\n"
      ],
      "text/plain": [
       "<IPython.core.display.Markdown object>"
      ]
     },
     "metadata": {},
     "output_type": "display_data"
    },
    {
     "data": {
      "text/markdown": [
       "37 **Heading**: Governing law and jurisdiction"
      ],
      "text/plain": [
       "<IPython.core.display.Markdown object>"
      ]
     },
     "metadata": {},
     "output_type": "display_data"
    },
    {
     "data": {
      "text/markdown": [
       "37 Governing law and jurisdiction"
      ],
      "text/plain": [
       "<IPython.core.display.Markdown object>"
      ]
     },
     "metadata": {},
     "output_type": "display_data"
    },
    {
     "data": {
      "text/markdown": [
       "**Note**:\n",
       "\n"
      ],
      "text/plain": [
       "<IPython.core.display.Markdown object>"
      ]
     },
     "metadata": {},
     "output_type": "display_data"
    },
    {
     "data": {
      "text/markdown": [
       "37.1 **Heading**: Relevant Jurisdiction"
      ],
      "text/plain": [
       "<IPython.core.display.Markdown object>"
      ]
     },
     "metadata": {},
     "output_type": "display_data"
    },
    {
     "data": {
      "text/markdown": [
       "The law of the Relevant Jurisdiction governs this document."
      ],
      "text/plain": [
       "<IPython.core.display.Markdown object>"
      ]
     },
     "metadata": {},
     "output_type": "display_data"
    },
    {
     "data": {
      "text/markdown": [
       "**Note**:\n",
       "\n"
      ],
      "text/plain": [
       "<IPython.core.display.Markdown object>"
      ]
     },
     "metadata": {},
     "output_type": "display_data"
    },
    {
     "data": {
      "text/markdown": [
       "37.2 **Heading**: Non-exclusive jurisdiction"
      ],
      "text/plain": [
       "<IPython.core.display.Markdown object>"
      ]
     },
     "metadata": {},
     "output_type": "display_data"
    },
    {
     "data": {
      "text/markdown": [
       "The parties submit to the non-exclusive jurisdiction of the courts of the Relevant Jurisdiction and of the Commonwealth of Australia."
      ],
      "text/plain": [
       "<IPython.core.display.Markdown object>"
      ]
     },
     "metadata": {},
     "output_type": "display_data"
    },
    {
     "data": {
      "text/markdown": [
       "**Note**:\n",
       "\n"
      ],
      "text/plain": [
       "<IPython.core.display.Markdown object>"
      ]
     },
     "metadata": {},
     "output_type": "display_data"
    },
    {
     "data": {
      "text/markdown": [
       "38 **Heading**: Inconsistency of provisions"
      ],
      "text/plain": [
       "<IPython.core.display.Markdown object>"
      ]
     },
     "metadata": {},
     "output_type": "display_data"
    },
    {
     "data": {
      "text/markdown": [
       "If there is any inconsistency between the provisions of this document and the provisions of any other Finance Document, the provisions of this document will govern and apply to the extent of the inconsistency."
      ],
      "text/plain": [
       "<IPython.core.display.Markdown object>"
      ]
     },
     "metadata": {},
     "output_type": "display_data"
    },
    {
     "data": {
      "text/markdown": [
       "**Note**:\n",
       "\n"
      ],
      "text/plain": [
       "<IPython.core.display.Markdown object>"
      ]
     },
     "metadata": {},
     "output_type": "display_data"
    },
    {
     "data": {
      "text/markdown": [
       "39 **Heading**: Counterparts"
      ],
      "text/plain": [
       "<IPython.core.display.Markdown object>"
      ]
     },
     "metadata": {},
     "output_type": "display_data"
    },
    {
     "data": {
      "text/markdown": [
       "This document may be executed in any number of counterparts. Each counterpart is an original but the counterparts together are one and the same instrument."
      ],
      "text/plain": [
       "<IPython.core.display.Markdown object>"
      ]
     },
     "metadata": {},
     "output_type": "display_data"
    },
    {
     "data": {
      "text/markdown": [
       "**Note**:\n",
       "\n"
      ],
      "text/plain": [
       "<IPython.core.display.Markdown object>"
      ]
     },
     "metadata": {},
     "output_type": "display_data"
    },
    {
     "data": {
      "text/markdown": [
       "40 **Heading**: Execution by attorney"
      ],
      "text/plain": [
       "<IPython.core.display.Markdown object>"
      ]
     },
     "metadata": {},
     "output_type": "display_data"
    },
    {
     "data": {
      "text/markdown": [
       "If an attorney executes this document, the attorney declares that the attorney has no notice of revocation, termination or suspension of the power of attorney under which the attorney executes this document."
      ],
      "text/plain": [
       "<IPython.core.display.Markdown object>"
      ]
     },
     "metadata": {},
     "output_type": "display_data"
    },
    {
     "data": {
      "text/markdown": [
       "**Note**:\n",
       "\n"
      ],
      "text/plain": [
       "<IPython.core.display.Markdown object>"
      ]
     },
     "metadata": {},
     "output_type": "display_data"
    }
   ],
   "source": [
    "for i in sections.sections:\n",
    "    md(i.number, \" **Heading**:\", \" \", i.heading)\n",
    "    md(i.body)\n",
    "    md(\"**Note**:\", i.note)\n",
    "    # print(i)\n",
    "    "
   ]
  }
 ],
 "metadata": {
  "kernelspec": {
   "display_name": "Python 3",
   "language": "python",
   "name": "python3"
  },
  "language_info": {
   "codemirror_mode": {
    "name": "ipython",
    "version": 3
   },
   "file_extension": ".py",
   "mimetype": "text/x-python",
   "name": "python",
   "nbconvert_exporter": "python",
   "pygments_lexer": "ipython3",
   "version": "3.12.1"
  }
 },
 "nbformat": 4,
 "nbformat_minor": 5
}
