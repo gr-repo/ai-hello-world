{
 "cells": [
  {
   "cell_type": "markdown",
   "metadata": {},
   "source": [
    "**Table of contents**<a id='toc0_'></a>    \n",
    "- [DSPy](#toc1_)    \n",
    "  - [Prediction](#toc1_1_)    \n",
    "- [Signatures](#toc2_)    \n",
    "- [Simple RAG](#toc3_)    \n",
    "\n",
    "<!-- vscode-jupyter-toc-config\n",
    "\tnumbering=false\n",
    "\tanchor=true\n",
    "\tflat=false\n",
    "\tminLevel=1\n",
    "\tmaxLevel=6\n",
    "\t/vscode-jupyter-toc-config -->\n",
    "<!-- THIS CELL WILL BE REPLACED ON TOC UPDATE. DO NOT WRITE YOUR TEXT IN THIS CELL -->"
   ]
  },
  {
   "cell_type": "markdown",
   "metadata": {},
   "source": [
    "# <a id='toc1_'></a>[DSPy](#toc0_)\n"
   ]
  },
  {
   "cell_type": "markdown",
   "metadata": {},
   "source": [
    " Guide: YouTube - [Let the LLM Write the Prompts: An Intro to DSPy in Compound AI Pipelines](https://www.youtube.com/watch?v=I9ZtkgYZnOw)"
   ]
  },
  {
   "cell_type": "code",
   "execution_count": 30,
   "metadata": {},
   "outputs": [],
   "source": [
    "#!pip install dspy"
   ]
  },
  {
   "cell_type": "code",
   "execution_count": 31,
   "metadata": {},
   "outputs": [
    {
     "name": "stdout",
     "output_type": "stream",
     "text": [
      "Getting keys from environment variables\n"
     ]
    }
   ],
   "source": [
    "import sys\n",
    "import os\n",
    "import dspy \n",
    "from common.my_settings import MySettings  \n",
    "from common.utils import md\n",
    "from common.llm_client_factory import LlmClientFactory\n",
    "from dspy_utils.dspy_helpers import md_dspy\n",
    "\n",
    "settings = MySettings().get()"
   ]
  },
  {
   "cell_type": "code",
   "execution_count": 32,
   "metadata": {},
   "outputs": [],
   "source": [
    "lm = dspy.LM(\n",
    "    'gpt-4.1',  # Changed from gpt-4o to gpt-3.5-turbo\n",
    "    model_type='chat', \n",
    "    cache=False, \n",
    "    api_key=settings.OPENAI_API_KEY,\n",
    "    temperature=0.8  \n",
    "    \n",
    ")\n",
    "\n",
    "dspy.configure(lm=lm)"
   ]
  },
  {
   "cell_type": "markdown",
   "metadata": {},
   "source": [
    "## <a id='toc1_1_'></a>[Prediction](#toc0_)\n",
    "14m 52s in video"
   ]
  },
  {
   "cell_type": "code",
   "execution_count": 33,
   "metadata": {},
   "outputs": [],
   "source": [
    "# Define a module predict and assign it a signature\n",
    "predict = dspy.Predict('question -> answer')"
   ]
  },
  {
   "cell_type": "code",
   "execution_count": 34,
   "metadata": {},
   "outputs": [],
   "source": [
    "# Call LLM for prediction\n",
    "prediction = predict(question='Why is the sky blue?')"
   ]
  },
  {
   "cell_type": "code",
   "execution_count": 35,
   "metadata": {},
   "outputs": [
    {
     "data": {
      "text/markdown": [
       "<class 'dspy.primitives.prediction.Prediction'>"
      ],
      "text/plain": [
       "<IPython.core.display.Markdown object>"
      ]
     },
     "metadata": {},
     "output_type": "display_data"
    },
    {
     "data": {
      "text/markdown": [
       "**Answer**  \n",
       "\n",
       "The sky appears blue because of a phenomenon called Rayleigh scattering. As sunlight passes through Earth's atmosphere, molecules and small particles scatter the short-wavelength blue light more than the longer-wavelength red light. As a result, when we look up during the day, we see a blue sky."
      ],
      "text/plain": [
       "<IPython.core.display.Markdown object>"
      ]
     },
     "metadata": {},
     "output_type": "display_data"
    }
   ],
   "source": [
    "md(type(prediction))\n",
    "md(\"**Answer**  \", \"\", prediction.answer)"
   ]
  },
  {
   "cell_type": "markdown",
   "metadata": {},
   "source": [
    "# <a id='toc2_'></a>[Signatures](#toc0_)\n",
    "\n",
    "Location 16:43 in video"
   ]
  },
  {
   "cell_type": "code",
   "execution_count": 36,
   "metadata": {},
   "outputs": [],
   "source": [
    "# Create classes\n",
    "\n",
    "import dspy \n",
    "from pydantic import BaseModel\n",
    "from typing import Literal\n",
    "\n",
    "class Place(BaseModel):\n",
    "    address: str = dspy.InputField()\n",
    "    name: str = dspy.InputField()\n",
    "    \n",
    "class PlaceMatcher(dspy.Signature):\n",
    "    \"\"\"\n",
    "    Verify that the text is based on the provided context.\n",
    "    \"\"\"\n",
    "    # Inputs\n",
    "    place_one: Place = dspy.InputField()\n",
    "    place_two: Place = dspy.InputField()\n",
    "    \n",
    "    # Outputs\n",
    "    is_match: bool = dspy.OutputField(desc=\"Do the two places refer to the same place?\")\n",
    "    match_confidence: Literal[\"low\", \"medium\", \"high\"] = dspy.OutputField()\n",
    "    rationale: str = dspy.OutputField(desc=\"Rationale for the match decision\")"
   ]
  },
  {
   "cell_type": "code",
   "execution_count": 37,
   "metadata": {},
   "outputs": [],
   "source": [
    "# Call LLM\n",
    "predict = dspy.Predict(PlaceMatcher)\n",
    "result = predict(place_one=Place(address=\"123 Main St, Springfield\", name=\"Springfield Library\"),\n",
    "                 place_two=Place(address=\"123 Main St, Springfield\", name=\"Springfield Public Library\"))"
   ]
  },
  {
   "cell_type": "code",
   "execution_count": 38,
   "metadata": {},
   "outputs": [
    {
     "data": {
      "text/markdown": [
       "Prediction(\n",
       "    is_match=True,\n",
       "    match_confidence='high',\n",
       "    rationale='Both entries share the exact same address (\"123 Main St, Springfield\"), and their names are very similar, with the only difference being the inclusion of \"Public\" in the second name. It is common for libraries to be referred to both as \"Library\" and \"Public Library.\" Given the identical addresses and nearly identical names, it is highly likely these refer to the same place.'\n",
       ")"
      ],
      "text/plain": [
       "<IPython.core.display.Markdown object>"
      ]
     },
     "metadata": {},
     "output_type": "display_data"
    }
   ],
   "source": [
    "md(result)"
   ]
  },
  {
   "cell_type": "markdown",
   "metadata": {},
   "source": [
    "# <a id='toc3_'></a>[Simple RAG](#toc0_)\n",
    "\n",
    "Uses Python Interpreter\n"
   ]
  },
  {
   "cell_type": "code",
   "execution_count": 39,
   "metadata": {},
   "outputs": [],
   "source": [
    "# %pip install deno"
   ]
  },
  {
   "cell_type": "code",
   "execution_count": 40,
   "metadata": {},
   "outputs": [],
   "source": [
    "# Setup\n",
    "\n",
    "def evaluate_math(expression: str):\n",
    "    return dspy.PythonInterpreter({}).execute(expression)\n",
    "\n",
    "# test function\n",
    "# md(evaluate_math('2 + 3'))\n",
    "\n",
    "react = dspy.ReAct(\"question -> answer: float\", tools=[evaluate_math])"
   ]
  },
  {
   "cell_type": "code",
   "execution_count": 41,
   "metadata": {},
   "outputs": [],
   "source": [
    "# Call LLM\n",
    "result = react(question=\"What is the volume of Earth?\")"
   ]
  },
  {
   "cell_type": "code",
   "execution_count": 42,
   "metadata": {},
   "outputs": [
    {
     "name": "stdout",
     "output_type": "stream",
     "text": [
      "<class 'dspy.primitives.prediction.Prediction'>\n",
      "Prediction(\n",
      "    trajectory={'thought_0': \"To find Earth's volume, I need to use the formula for the volume of a sphere: V = (4/3) * π * r^3. The average radius of Earth is about 6,371 km. I'll plug this value into the formula to calculate Earth's volume.\", 'tool_name_0': 'evaluate_math', 'tool_args_0': {'expression': '(4/3) * pi * (6371**3)'}, 'observation_0': 'Execution error in evaluate_math: \\nTraceback (most recent call last):\\n  File \"/usr/local/python/3.12.1/lib/python3.12/site-packages/dspy/primitives/python_interpreter.py\", line 124, in _ensure_deno_process\\n    self.deno_process = subprocess.Popen(\\n                        ^^^^^^^^^^^^^^^^^\\n  File \"/usr/local/python/3.12.1/lib/python3.12/subprocess.py\", line 1026, in __init__\\n    self._execute_child(args, executable, preexec_fn, close_fds,\\n  File \"/usr/local/python/3.12.1/lib/python3.12/subprocess.py\", line 1950, in _execute_child\\n    raise child_exception_type(errno_num, err_msg, err_filename)\\nFileNotFoundError: [Errno 2] No such file or directory: \\'deno\\'\\n\\nThe above exception was the direct cause of the following exception:\\n\\nTraceback (most recent call last):\\n  File \"/usr/local/python/3.12.1/lib/python3.12/site-packages/dspy/predict/react.py\", line 111, in forward\\n    trajectory[f\"observation_{idx}\"] = self.tools[pred.next_tool_name](**pred.next_tool_args)\\n                                       ^^^^^^^^^^^^^^^^^^^^^^^^^^^^^^^^^^^^^^^^^^^^^^^^^^^^^^\\n  File \"/usr/local/python/3.12.1/lib/python3.12/site-packages/dspy/utils/callback.py\", line 326, in sync_wrapper\\n    return fn(instance, *args, **kwargs)\\n           ^^^^^^^^^^^^^^^^^^^^^^^^^^^^^\\n  File \"/usr/local/python/3.12.1/lib/python3.12/site-packages/dspy/adapters/types/tool.py\", line 176, in __call__\\n    result = self.func(**parsed_kwargs)\\n             ^^^^^^^^^^^^^^^^^^^^^^^^^^\\n  File \"/tmp/ipykernel_20677/345238650.py\", line 4, in evaluate_math\\n    return dspy.PythonInterpreter({}).execute(expression)\\n           ^^^^^^^^^^^^^^^^^^^^^^^^^^^^^^^^^^^^^^^^^^^^^^\\n  File \"/usr/local/python/3.12.1/lib/python3.12/site-packages/dspy/primitives/python_interpreter.py\", line 175, in execute\\n    self._ensure_deno_process()\\ndspy.primitives.python_interpreter.InterpreterError: Deno executable not found. Please install Deno to proceed.\\nInstallation instructions:\\n> curl -fsSL https://deno.land/install.sh | sh\\n*or*, on macOS with Homebrew:\\n> brew install deno\\nFor additional configurations: https://docs.deno.com/runtime/getting_started/installation/', 'thought_1': 'The calculation could not be performed due to a technical issue, but I already know from scientific sources that the volume of Earth is approximately 1.08321 × 10^12 km³. I can now provide the answer directly.', 'tool_name_1': 'finish', 'tool_args_1': {}, 'observation_1': 'Completed.'},\n",
      "    reasoning=\"The volume of Earth can be calculated using the formula for the volume of a sphere: V = (4/3) * π * r^3, where r is Earth's radius (about 6,371 km). While I was unable to perform the calculation directly due to a technical error, it is well-established in scientific literature that Earth's volume is approximately 1.08321 × 10^12 km³.\",\n",
      "    answer=1083210000000.0\n",
      ")\n"
     ]
    }
   ],
   "source": [
    "print(type(result))\n",
    "print(result)"
   ]
  }
 ],
 "metadata": {
  "kernelspec": {
   "display_name": "Python 3",
   "language": "python",
   "name": "python3"
  },
  "language_info": {
   "codemirror_mode": {
    "name": "ipython",
    "version": 3
   },
   "file_extension": ".py",
   "mimetype": "text/x-python",
   "name": "python",
   "nbconvert_exporter": "python",
   "pygments_lexer": "ipython3",
   "version": "3.12.1"
  }
 },
 "nbformat": 4,
 "nbformat_minor": 2
}
