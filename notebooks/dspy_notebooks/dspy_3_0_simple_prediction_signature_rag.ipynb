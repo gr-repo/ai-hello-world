{
 "cells": [
  {
   "cell_type": "markdown",
   "metadata": {},
   "source": [
    "**Table of contents**<a id='toc0_'></a>    \n",
    "- [DSPy](#toc1_)    \n",
    "  - [Prediction](#toc1_1_)    \n",
    "- [Signatures](#toc2_)    \n",
    "- [Simple RAG](#toc3_)    \n",
    "\n",
    "<!-- vscode-jupyter-toc-config\n",
    "\tnumbering=false\n",
    "\tanchor=true\n",
    "\tflat=false\n",
    "\tminLevel=1\n",
    "\tmaxLevel=6\n",
    "\t/vscode-jupyter-toc-config -->\n",
    "<!-- THIS CELL WILL BE REPLACED ON TOC UPDATE. DO NOT WRITE YOUR TEXT IN THIS CELL -->"
   ]
  },
  {
   "cell_type": "markdown",
   "metadata": {},
   "source": [
    "# <a id='toc1_'></a>[DSPy](#toc0_)\n"
   ]
  },
  {
   "cell_type": "markdown",
   "metadata": {},
   "source": [
    " Guide: YouTube - [Let the LLM Write the Prompts: An Intro to DSPy in Compound AI Pipelines](https://www.youtube.com/watch?v=I9ZtkgYZnOw)"
   ]
  },
  {
   "cell_type": "code",
   "execution_count": 13,
   "metadata": {},
   "outputs": [],
   "source": [
    "#!pip install dspy"
   ]
  },
  {
   "cell_type": "code",
   "execution_count": 14,
   "metadata": {},
   "outputs": [
    {
     "name": "stdout",
     "output_type": "stream",
     "text": [
      "Getting keys from environment variables\n"
     ]
    }
   ],
   "source": [
    "import sys\n",
    "import os\n",
    "import dspy \n",
    "from common.my_settings import MySettings  \n",
    "from common.utils import md\n",
    "from common.llm_client_factory import LlmClientFactory\n",
    "from dspy_utils.dspy_helpers import md_dspy\n",
    "\n",
    "settings = MySettings().get()"
   ]
  },
  {
   "cell_type": "code",
   "execution_count": 15,
   "metadata": {},
   "outputs": [],
   "source": [
    "lm = dspy.LM(\n",
    "    'gpt-4.1',  # Changed from gpt-4o to gpt-3.5-turbo\n",
    "    model_type='chat', \n",
    "    cache=False, \n",
    "    api_key=settings.OPENAI_API_KEY,\n",
    "    temperature=0.8  \n",
    "    \n",
    ")\n",
    "\n",
    "dspy.configure(lm=lm)"
   ]
  },
  {
   "cell_type": "markdown",
   "metadata": {},
   "source": [
    "## <a id='toc1_1_'></a>[Prediction](#toc0_)\n",
    "14m 52s in video"
   ]
  },
  {
   "cell_type": "code",
   "execution_count": 16,
   "metadata": {},
   "outputs": [],
   "source": [
    "# Define a module predict and assign it a signature\n",
    "predict = dspy.Predict('question -> answer')"
   ]
  },
  {
   "cell_type": "code",
   "execution_count": 17,
   "metadata": {},
   "outputs": [],
   "source": [
    "# Call LLM for prediction\n",
    "prediction = predict(question='Why is the sky blue?')"
   ]
  },
  {
   "cell_type": "code",
   "execution_count": 18,
   "metadata": {},
   "outputs": [
    {
     "data": {
      "text/markdown": [
       "<class 'dspy.primitives.prediction.Prediction'>"
      ],
      "text/plain": [
       "<IPython.core.display.Markdown object>"
      ]
     },
     "metadata": {},
     "output_type": "display_data"
    },
    {
     "data": {
      "text/markdown": [
       "**Answer**  \n",
       "\n",
       "The sky appears blue because of a phenomenon called Rayleigh scattering. As sunlight passes through Earth’s atmosphere, the shorter blue wavelengths of light are scattered in all directions by the gases and particles in the air more than other colors. This scattered blue light is what we see when we look up at the sky."
      ],
      "text/plain": [
       "<IPython.core.display.Markdown object>"
      ]
     },
     "metadata": {},
     "output_type": "display_data"
    }
   ],
   "source": [
    "md(type(prediction))\n",
    "md(\"**Answer**  \", \"\", prediction.answer)"
   ]
  },
  {
   "cell_type": "markdown",
   "metadata": {},
   "source": [
    "# <a id='toc2_'></a>[Signatures](#toc0_)\n",
    "\n",
    "Location 16:43 in video"
   ]
  },
  {
   "cell_type": "code",
   "execution_count": 19,
   "metadata": {},
   "outputs": [],
   "source": [
    "# Create classes\n",
    "\n",
    "import dspy \n",
    "from pydantic import BaseModel\n",
    "from typing import Literal\n",
    "\n",
    "class Place(BaseModel):\n",
    "    address: str = dspy.InputField()\n",
    "    name: str = dspy.InputField()\n",
    "    \n",
    "class PlaceMatcher(dspy.Signature):\n",
    "    \"\"\"\n",
    "    Verify that the text is based on the provided context.\n",
    "    \"\"\"\n",
    "    # Inputs\n",
    "    place_one: Place = dspy.InputField()\n",
    "    place_two: Place = dspy.InputField()\n",
    "    \n",
    "    # Outputs\n",
    "    is_match: bool = dspy.OutputField(desc=\"Do the two places refer to the same place?\")\n",
    "    match_confidence: Literal[\"low\", \"medium\", \"high\"] = dspy.OutputField()\n",
    "    rationale: str = dspy.OutputField(desc=\"Rationale for the match decision\")"
   ]
  },
  {
   "cell_type": "code",
   "execution_count": 20,
   "metadata": {},
   "outputs": [],
   "source": [
    "# Call LLM\n",
    "predict = dspy.Predict(PlaceMatcher)\n",
    "result = predict(place_one=Place(address=\"123 Main St, Springfield\", name=\"Springfield Library\"),\n",
    "                 place_two=Place(address=\"123 Main St, Springfield\", name=\"Springfield Public Library\"))"
   ]
  },
  {
   "cell_type": "code",
   "execution_count": 21,
   "metadata": {},
   "outputs": [
    {
     "data": {
      "text/markdown": [
       "Prediction(  \n",
       "    is_match=True,  \n",
       "    match_confidence='high',  \n",
       "    rationale='Both records have the exact same address (\"123 Main St, Springfield\"), and their names are highly similar, with only \"Public\" added in the second name. It is common for the same library to be referred to as \"Springfield Library\" and \"Springfield Public Library.\" Given the matching address and near-identical names, it is highly likely they refer to the same place.'  \n",
       ")"
      ],
      "text/plain": [
       "<IPython.core.display.Markdown object>"
      ]
     },
     "metadata": {},
     "output_type": "display_data"
    }
   ],
   "source": [
    "md(result)"
   ]
  },
  {
   "cell_type": "markdown",
   "metadata": {},
   "source": [
    "# <a id='toc3_'></a>[Simple RAG](#toc0_)\n",
    "\n",
    "Uses Python Interpreter\n"
   ]
  },
  {
   "cell_type": "code",
   "execution_count": 22,
   "metadata": {},
   "outputs": [],
   "source": [
    "# %pip install deno"
   ]
  },
  {
   "cell_type": "code",
   "execution_count": 23,
   "metadata": {},
   "outputs": [],
   "source": [
    "# Setup\n",
    "\n",
    "# Tools\n",
    "def evaluate_math(expression: str):\n",
    "    return dspy.PythonInterpreter({}).execute(expression)\n",
    "\n",
    "def customer_private_info(query):\n",
    "    return \"Super Secret Info\"\n",
    "\n",
    "my_tools = [evaluate_math]\n",
    "\n",
    "# if user_in_role(\"super-user\"):\n",
    "#     my_tools.append(customer_private_info)\n",
    "\n",
    "react = dspy.ReAct(\"question -> answer: float\", tools=my_tools)"
   ]
  },
  {
   "cell_type": "code",
   "execution_count": 24,
   "metadata": {},
   "outputs": [],
   "source": [
    "# Call LLM\n",
    "result = react(question=\"What is the volume of Earth?\")"
   ]
  },
  {
   "cell_type": "code",
   "execution_count": 25,
   "metadata": {},
   "outputs": [
    {
     "name": "stdout",
     "output_type": "stream",
     "text": [
      "<class 'dspy.primitives.prediction.Prediction'>\n",
      "Prediction(\n",
      "    trajectory={'thought_0': 'To find the volume of Earth, I will use the formula for the volume of a sphere: V = (4/3) * π * r^3. The average radius of Earth is approximately 6,371 km. I will substitute this value into the formula to compute the volume.', 'tool_name_0': 'evaluate_math', 'tool_args_0': {'expression': '(4/3) * 3.141592653589793 * (6371 ** 3)'}, 'observation_0': 'Execution error in evaluate_math: \\nTraceback (most recent call last):\\n  File \"/usr/local/python/3.12.1/lib/python3.12/site-packages/dspy/primitives/python_interpreter.py\", line 124, in _ensure_deno_process\\n    self.deno_process = subprocess.Popen(\\n                        ^^^^^^^^^^^^^^^^^\\n  File \"/usr/local/python/3.12.1/lib/python3.12/subprocess.py\", line 1026, in __init__\\n    self._execute_child(args, executable, preexec_fn, close_fds,\\n  File \"/usr/local/python/3.12.1/lib/python3.12/subprocess.py\", line 1950, in _execute_child\\n    raise child_exception_type(errno_num, err_msg, err_filename)\\nFileNotFoundError: [Errno 2] No such file or directory: \\'deno\\'\\n\\nThe above exception was the direct cause of the following exception:\\n\\nTraceback (most recent call last):\\n  File \"/usr/local/python/3.12.1/lib/python3.12/site-packages/dspy/predict/react.py\", line 111, in forward\\n    trajectory[f\"observation_{idx}\"] = self.tools[pred.next_tool_name](**pred.next_tool_args)\\n                                       ^^^^^^^^^^^^^^^^^^^^^^^^^^^^^^^^^^^^^^^^^^^^^^^^^^^^^^\\n  File \"/usr/local/python/3.12.1/lib/python3.12/site-packages/dspy/utils/callback.py\", line 326, in sync_wrapper\\n    return fn(instance, *args, **kwargs)\\n           ^^^^^^^^^^^^^^^^^^^^^^^^^^^^^\\n  File \"/usr/local/python/3.12.1/lib/python3.12/site-packages/dspy/adapters/types/tool.py\", line 176, in __call__\\n    result = self.func(**parsed_kwargs)\\n             ^^^^^^^^^^^^^^^^^^^^^^^^^^\\n  File \"/tmp/ipykernel_1967/436045220.py\", line 5, in evaluate_math\\n    return dspy.PythonInterpreter({}).execute(expression)\\n           ^^^^^^^^^^^^^^^^^^^^^^^^^^^^^^^^^^^^^^^^^^^^^^\\n  File \"/usr/local/python/3.12.1/lib/python3.12/site-packages/dspy/primitives/python_interpreter.py\", line 175, in execute\\n    self._ensure_deno_process()\\ndspy.primitives.python_interpreter.InterpreterError: Deno executable not found. Please install Deno to proceed.\\nInstallation instructions:\\n> curl -fsSL https://deno.land/install.sh | sh\\n*or*, on macOS with Homebrew:\\n> brew install deno\\nFor additional configurations: https://docs.deno.com/runtime/getting_started/installation/', 'thought_1': \"There was an error with the math evaluation tool, but my reasoning and formula are correct. Once the tool works, I can reattempt the calculation. The process is to use the formula for the volume of a sphere with Earth's average radius. I will try again to calculate the volume.\", 'tool_name_1': 'evaluate_math', 'tool_args_1': {'expression': '(4/3) * 3.141592653589793 * (6371 ** 3)'}, 'observation_1': 'Execution error in evaluate_math: \\nTraceback (most recent call last):\\n  File \"/usr/local/python/3.12.1/lib/python3.12/site-packages/dspy/primitives/python_interpreter.py\", line 124, in _ensure_deno_process\\n    self.deno_process = subprocess.Popen(\\n                        ^^^^^^^^^^^^^^^^^\\n  File \"/usr/local/python/3.12.1/lib/python3.12/subprocess.py\", line 1026, in __init__\\n    self._execute_child(args, executable, preexec_fn, close_fds,\\n  File \"/usr/local/python/3.12.1/lib/python3.12/subprocess.py\", line 1950, in _execute_child\\n    raise child_exception_type(errno_num, err_msg, err_filename)\\nFileNotFoundError: [Errno 2] No such file or directory: \\'deno\\'\\n\\nThe above exception was the direct cause of the following exception:\\n\\nTraceback (most recent call last):\\n  File \"/usr/local/python/3.12.1/lib/python3.12/site-packages/dspy/predict/react.py\", line 111, in forward\\n    trajectory[f\"observation_{idx}\"] = self.tools[pred.next_tool_name](**pred.next_tool_args)\\n                                       ^^^^^^^^^^^^^^^^^^^^^^^^^^^^^^^^^^^^^^^^^^^^^^^^^^^^^^\\n  File \"/usr/local/python/3.12.1/lib/python3.12/site-packages/dspy/utils/callback.py\", line 326, in sync_wrapper\\n    return fn(instance, *args, **kwargs)\\n           ^^^^^^^^^^^^^^^^^^^^^^^^^^^^^\\n  File \"/usr/local/python/3.12.1/lib/python3.12/site-packages/dspy/adapters/types/tool.py\", line 176, in __call__\\n    result = self.func(**parsed_kwargs)\\n             ^^^^^^^^^^^^^^^^^^^^^^^^^^\\n  File \"/tmp/ipykernel_1967/436045220.py\", line 5, in evaluate_math\\n    return dspy.PythonInterpreter({}).execute(expression)\\n           ^^^^^^^^^^^^^^^^^^^^^^^^^^^^^^^^^^^^^^^^^^^^^^\\n  File \"/usr/local/python/3.12.1/lib/python3.12/site-packages/dspy/primitives/python_interpreter.py\", line 175, in execute\\n    self._ensure_deno_process()\\ndspy.primitives.python_interpreter.InterpreterError: Deno executable not found. Please install Deno to proceed.\\nInstallation instructions:\\n> curl -fsSL https://deno.land/install.sh | sh\\n*or*, on macOS with Homebrew:\\n> brew install deno\\nFor additional configurations: https://docs.deno.com/runtime/getting_started/installation/', 'thought_2': 'The volume of Earth can be calculated using the formula V = (4/3) * π * r^3, where the average radius (r) is about 6,371 km. Even though the math tool is not working, I know from scientific consensus that the commonly accepted value for Earth’s volume is approximately 1.08321 × 10^12 km³.', 'tool_name_2': 'finish', 'tool_args_2': {}, 'observation_2': 'Completed.'},\n",
      "    reasoning=\"The volume of the Earth can be found using the sphere volume formula V = (4/3) * π * r^3, with r = 6,371 km. This calculation gives a result very close to the scientifically accepted value for Earth's volume, which is approximately 1.08321 × 10^12 cubic kilometers. Since my computational tool is not available, I am using this authoritative consensus value.\",\n",
      "    answer=1083210000000.0\n",
      ")\n"
     ]
    }
   ],
   "source": [
    "print(type(result))\n",
    "print(result)"
   ]
  },
  {
   "cell_type": "code",
   "execution_count": null,
   "metadata": {},
   "outputs": [],
   "source": []
  }
 ],
 "metadata": {
  "kernelspec": {
   "display_name": "Python 3",
   "language": "python",
   "name": "python3"
  },
  "language_info": {
   "codemirror_mode": {
    "name": "ipython",
    "version": 3
   },
   "file_extension": ".py",
   "mimetype": "text/x-python",
   "name": "python",
   "nbconvert_exporter": "python",
   "pygments_lexer": "ipython3",
   "version": "3.12.1"
  }
 },
 "nbformat": 4,
 "nbformat_minor": 2
}
