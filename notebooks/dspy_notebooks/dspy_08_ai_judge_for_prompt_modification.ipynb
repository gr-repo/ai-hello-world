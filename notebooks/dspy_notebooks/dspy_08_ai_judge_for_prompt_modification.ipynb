{
 "cells": [
  {
   "cell_type": "markdown",
   "id": "a8ea69d9",
   "metadata": {},
   "source": [
    "# AI as a Judge for Prompt Modification\n",
    "Use AI as a judge to modify a prompt to navigate it through a 'maze'"
   ]
  },
  {
   "cell_type": "code",
   "execution_count": 61,
   "id": "020e84ec",
   "metadata": {},
   "outputs": [
    {
     "name": "stdout",
     "output_type": "stream",
     "text": [
      "Getting keys from environment variables\n"
     ]
    }
   ],
   "source": [
    "import sys\n",
    "import os\n",
    "import dspy \n",
    "\n",
    "import dspy \n",
    "from pydantic import BaseModel\n",
    "from typing import Literal\n",
    "\n",
    "from common.my_settings import MySettings  \n",
    "from common.utils import md\n",
    "from common.llm_client_factory import LlmClientFactory\n",
    "from dspy_utils.dspy_helpers import md_dspy\n",
    "\n",
    "settings = MySettings().get()"
   ]
  },
  {
   "cell_type": "code",
   "execution_count": 62,
   "id": "1938496e",
   "metadata": {},
   "outputs": [],
   "source": [
    "import dspy\n",
    "\n",
    "# # Configure DSPy to use the Responses API for your language model\n",
    "# dspy.settings.configure(\n",
    "#     lm=dspy.LM(\n",
    "#         \"openai/gpt-5-mini\",\n",
    "#         model_type=\"responses\",\n",
    "#         temperature=1.0,\n",
    "#         max_tokens=16000,\n",
    "#     ),\n",
    "# )\n",
    "\n",
    "\n",
    "lm = dspy.LM(\n",
    "    'gpt-4.1', \n",
    "    model_type='chat', \n",
    "    cache=False, \n",
    "    api_key=settings.OPENAI_API_KEY,\n",
    "    temperature=0.8     \n",
    ")\n",
    "\n",
    "dspy.configure(lm=lm)"
   ]
  },
  {
   "cell_type": "code",
   "execution_count": null,
   "id": "420d60aa",
   "metadata": {},
   "outputs": [],
   "source": [
    "\n",
    "################################################################\n",
    "# Setup initial order\n",
    "# widget = Widget(shape=\"round\", weightInKg=2)\n",
    "# order = WidgetOrder(widget=widget, order_placement_instructions=\"Place an order\")\n",
    "\n",
    "# print(order)"
   ]
  },
  {
   "cell_type": "code",
   "execution_count": null,
   "id": "0efdf5a3",
   "metadata": {},
   "outputs": [
    {
     "name": "stdout",
     "output_type": "stream",
     "text": [
      "order_placement_instructions='Place an order' orderRejectedReason=None widget=Widget(shape='round', weightInKg=2)\n"
     ]
    }
   ],
   "source": [
    "class Widget(BaseModel):\n",
    "    shape: Literal[\"round\", \"square\", \"triangle\"] = dspy.OutputField()\n",
    "    weightInKg: int = dspy.OutputField()\n",
    "\n",
    "class WidgetOrder(dspy.Signature):\n",
    "    \"\"\"\n",
    "    Follow the ```order_placement_instructions``` to place an order for a widget. \n",
    "    The ```original_widget` field contains the details of the widget to be ordered.\n",
    "    \"\"\"\n",
    "\n",
    "    order_placement_instructions: str = dspy.InputField()\n",
    "    original_widget: Widget = dspy.InputField()\n",
    "\n",
    "    widget: Widget = dspy.OutputField()\n",
    "    \n",
    "\n",
    "################################################################\n",
    "# Function to place order\n",
    "\n",
    "def place_order(order: WidgetOrder) -> str:\n",
    "    \"\"\"\n",
    "    Places an order for widgets.\n",
    "\n",
    "    Return: \n",
    "    - WidgetOrder if the order was NOT placed successfully the orderRejectedReason field is populated with the reason for rejection. \n",
    "    \"\"\"\n",
    "\n",
    "    if order.widget.shape == \"round\" and order.widget.weightInKg <= 5:\n",
    "        return \"Round widgets cannot weigh less than or equal to 5kg. Try again with a different shape or weight.\"\n",
    "\n",
    "    return \"Success\"\n"
   ]
  },
  {
   "cell_type": "code",
   "execution_count": null,
   "id": "97cfb31b",
   "metadata": {},
   "outputs": [
    {
     "data": {
      "text/markdown": [
       "loopCount: 0"
      ],
      "text/plain": [
       "<IPython.core.display.Markdown object>"
      ]
     },
     "metadata": {},
     "output_type": "display_data"
    },
    {
     "ename": "AttributeError",
     "evalue": "'Prediction' object has no attribute 'widget'",
     "output_type": "error",
     "traceback": [
      "\u001b[31m---------------------------------------------------------------------------\u001b[39m",
      "\u001b[31mAttributeError\u001b[39m                            Traceback (most recent call last)",
      "\u001b[36mCell\u001b[39m\u001b[36m \u001b[39m\u001b[32mIn[65]\u001b[39m\u001b[32m, line 10\u001b[39m\n\u001b[32m      8\u001b[39m \u001b[38;5;28;01mwhile\u001b[39;00m loopCount < \u001b[32m2\u001b[39m:\n\u001b[32m      9\u001b[39m     md(\u001b[33m\"\u001b[39m\u001b[33mloopCount: \u001b[39m\u001b[33m\"\u001b[39m, loopCount)\n\u001b[32m---> \u001b[39m\u001b[32m10\u001b[39m     response = \u001b[43mplace_order\u001b[49m\u001b[43m(\u001b[49m\u001b[43morder\u001b[49m\u001b[43m)\u001b[49m\n\u001b[32m     11\u001b[39m     \u001b[38;5;66;03m#md(\"response: \", response)\u001b[39;00m\n\u001b[32m     13\u001b[39m     \u001b[38;5;28;01mif\u001b[39;00m response.orderRejectedReason == \u001b[38;5;28;01mNone\u001b[39;00m:\n",
      "\u001b[36mCell\u001b[39m\u001b[36m \u001b[39m\u001b[32mIn[63]\u001b[39m\u001b[32m, line 26\u001b[39m, in \u001b[36mplace_order\u001b[39m\u001b[34m(order)\u001b[39m\n\u001b[32m     18\u001b[39m \u001b[38;5;28;01mdef\u001b[39;00m\u001b[38;5;250m \u001b[39m\u001b[34mplace_order\u001b[39m(order: WidgetOrder) -> \u001b[38;5;28mstr\u001b[39m:\n\u001b[32m     19\u001b[39m \u001b[38;5;250m    \u001b[39m\u001b[33;03m\"\"\"\u001b[39;00m\n\u001b[32m     20\u001b[39m \u001b[33;03m    Places an order for widgets.\u001b[39;00m\n\u001b[32m     21\u001b[39m \n\u001b[32m     22\u001b[39m \u001b[33;03m    Return: \u001b[39;00m\n\u001b[32m     23\u001b[39m \u001b[33;03m    - WidgetOrder if the order was NOT placed successfully the orderRejectedReason field is populated with the reason for rejection. \u001b[39;00m\n\u001b[32m     24\u001b[39m \u001b[33;03m    \"\"\"\u001b[39;00m\n\u001b[32m---> \u001b[39m\u001b[32m26\u001b[39m     \u001b[38;5;28;01mif\u001b[39;00m \u001b[43morder\u001b[49m\u001b[43m.\u001b[49m\u001b[43mwidget\u001b[49m.shape == \u001b[33m\"\u001b[39m\u001b[33mround\u001b[39m\u001b[33m\"\u001b[39m \u001b[38;5;129;01mand\u001b[39;00m order.widget.weightInKg <= \u001b[32m5\u001b[39m:\n\u001b[32m     27\u001b[39m         order.orderRejectedReason = \u001b[33m\"\u001b[39m\u001b[33mRound widgets cannot weigh less than or equal to 5kg. Try again with a different shape or weight.\u001b[39m\u001b[33m\"\u001b[39m\n\u001b[32m     29\u001b[39m     \u001b[38;5;28;01mreturn\u001b[39;00m order\n",
      "\u001b[36mFile \u001b[39m\u001b[32m/usr/local/python/3.12.1/lib/python3.12/site-packages/dspy/primitives/example.py:24\u001b[39m, in \u001b[36mExample.__getattr__\u001b[39m\u001b[34m(self, key)\u001b[39m\n\u001b[32m     22\u001b[39m \u001b[38;5;28;01mif\u001b[39;00m key \u001b[38;5;129;01min\u001b[39;00m \u001b[38;5;28mself\u001b[39m._store:\n\u001b[32m     23\u001b[39m     \u001b[38;5;28;01mreturn\u001b[39;00m \u001b[38;5;28mself\u001b[39m._store[key]\n\u001b[32m---> \u001b[39m\u001b[32m24\u001b[39m \u001b[38;5;28;01mraise\u001b[39;00m \u001b[38;5;167;01mAttributeError\u001b[39;00m(\u001b[33mf\u001b[39m\u001b[33m\"\u001b[39m\u001b[33m'\u001b[39m\u001b[38;5;132;01m{\u001b[39;00m\u001b[38;5;28mtype\u001b[39m(\u001b[38;5;28mself\u001b[39m).\u001b[34m__name__\u001b[39m\u001b[38;5;132;01m}\u001b[39;00m\u001b[33m'\u001b[39m\u001b[33m object has no attribute \u001b[39m\u001b[33m'\u001b[39m\u001b[38;5;132;01m{\u001b[39;00mkey\u001b[38;5;132;01m}\u001b[39;00m\u001b[33m'\u001b[39m\u001b[33m\"\u001b[39m)\n",
      "\u001b[31mAttributeError\u001b[39m: 'Prediction' object has no attribute 'widget'"
     ]
    }
   ],
   "source": [
    "create_order = dspy.Predict(WidgetOrder)\n",
    "\n",
    "################################################################\n",
    "# Place order \n",
    "\n",
    "loopCount = 0\n",
    "order_placement_instructions = \"Create a round widget that weighs 2kg.\"\n",
    "\n",
    "while loopCount < 2:\n",
    "    md(\"loopCount: \", loopCount)\n",
    "    order = create_order(order_placement_instructions, \n",
    "     = place_order(order)\n",
    "\n",
    "    md('**Order was rejected for reason**: ', response.orderRejectedReason)\n",
    "    response.order_placement_instructions = response.orderRejectedReason + \" Please amend the order accordingly.\"\n",
    "    md(\"**Response order**: \", response)\n",
    "    order = amend_order(\n",
    "        order_placement_instructions=response.order_placement_instructions,\n",
    "        widget=order.widget,\n",
    "        orderRejectedReason=response.orderRejectedReason)\n",
    "    \n",
    "    #md(\"Amended order**: \", order)\n",
    "\n",
    "    loopCount += 1"
   ]
  }
 ],
 "metadata": {
  "kernelspec": {
   "display_name": "Python 3",
   "language": "python",
   "name": "python3"
  },
  "language_info": {
   "codemirror_mode": {
    "name": "ipython",
    "version": 3
   },
   "file_extension": ".py",
   "mimetype": "text/x-python",
   "name": "python",
   "nbconvert_exporter": "python",
   "pygments_lexer": "ipython3",
   "version": "3.12.1"
  }
 },
 "nbformat": 4,
 "nbformat_minor": 5
}
