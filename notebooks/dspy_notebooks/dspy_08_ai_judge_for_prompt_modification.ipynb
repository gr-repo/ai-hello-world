{
 "cells": [
  {
   "cell_type": "markdown",
   "id": "a8ea69d9",
   "metadata": {},
   "source": [
    "# AI as a Judge for Prompt Modification\n",
    "Use AI as a judge to modify a prompt to navigate it through a 'maze'"
   ]
  },
  {
   "cell_type": "code",
   "execution_count": 80,
   "id": "020e84ec",
   "metadata": {},
   "outputs": [
    {
     "name": "stdout",
     "output_type": "stream",
     "text": [
      "Getting keys from environment variables\n"
     ]
    }
   ],
   "source": [
    "import sys\n",
    "import os\n",
    "import dspy \n",
    "\n",
    "import dspy \n",
    "from pydantic import BaseModel, Field, StrictInt, validator\n",
    "from typing import Literal\n",
    "\n",
    "from common.my_settings import MySettings  \n",
    "from common.utils import md\n",
    "from common.llm_client_factory import LlmClientFactory\n",
    "from dspy_utils.dspy_helpers import md_dspy\n",
    "\n",
    "settings = MySettings().get()"
   ]
  },
  {
   "cell_type": "code",
   "execution_count": 81,
   "id": "1938496e",
   "metadata": {},
   "outputs": [],
   "source": [
    "# lm = dspy.LM(\n",
    "#     'gpt-4.1', \n",
    "#     model_type='chat', \n",
    "#     cache=False, \n",
    "#     api_key=settings.OPENAI_API_KEY,\n",
    "#     temperature=0.8     \n",
    "# )\n",
    "\n",
    "# dspy.configure(lm=lm)"
   ]
  },
  {
   "cell_type": "code",
   "execution_count": 82,
   "id": "eda46631",
   "metadata": {},
   "outputs": [],
   "source": [
    "lm = dspy.LM(\n",
    "        \"openai/gpt-5-mini\",\n",
    "        model_type=\"responses\",\n",
    "        temperature=1.0,\n",
    "        max_tokens=16000,\n",
    "    )\n",
    "\n",
    "dspy.settings.configure(lm=lm)"
   ]
  },
  {
   "cell_type": "code",
   "execution_count": null,
   "id": "0efdf5a3",
   "metadata": {},
   "outputs": [
    {
     "name": "stderr",
     "output_type": "stream",
     "text": [
      "/tmp/ipykernel_13096/2422319892.py:5: PydanticDeprecatedSince20: Pydantic V1 style `@validator` validators are deprecated. You should migrate to Pydantic V2 style `@field_validator` validators, see the migration guide for more details. Deprecated in Pydantic V2.0 to be removed in V3.0. See Pydantic V2 Migration Guide at https://errors.pydantic.dev/2.11/migration/\n",
      "  @validator(\"weightInKg\")\n"
     ]
    }
   ],
   "source": [
    "class Widget(BaseModel):\n",
    "    shape: Literal[\"round\", \"square\", \"triangle\"] = dspy.OutputField()\n",
    "    weightInKg: StrictInt = dspy.OutputField(desc=\"Must be postive integer\")  \n",
    "    \n",
    "    @validator(\"weightInKg\")\n",
    "    def must_be_positive(cls, v):\n",
    "        if v <= 0:\n",
    "            raise ValueError(\"weightInKg must be > 0\")\n",
    "        return v\n",
    "\n",
    "class WidgetOrder(dspy.Signature):\n",
    "    \"\"\"\n",
    "    Follow the ```order_placement_instructions``` to place an order for a widget. \n",
    "    Double check that the created widget meets the instructions exactly.\n",
    "    ️Go through all the details carefully to ensure accuracy and look at each property and double check the values match the rules\n",
    "    \"\"\"\n",
    "\n",
    "    order_placement_instructions: str = dspy.InputField()\n",
    "\n",
    "    widget: Widget = dspy.OutputField()\n",
    "    \n",
    "class WidgetOrderInstructionCreator(dspy.Signature):\n",
    "    \"\"\"\n",
    "    You are an expert at creating orders for widgets. You use previously provided feedback and widgets order attempts to improve the order placement instructions.\n",
    "    Create detailed ```order_placement_instructions``` for placing an order for a widget based on the original widget details and instructions.\n",
    "    Only use the properties of the ```previous_widget``` and the ```order_validator_feedback``` to improve the order placement instructions.\n",
    "    Keep the instructions as concise as possible and to the point.\n",
    "    \"\"\"\n",
    "\n",
    "    previous_widget: Widget = dspy.InputField(desc=\"This was the previous widget that was placed in the order and was rejected. If it is None then this is the first attempt to place an order.\")\n",
    "    previous_instructions: str = dspy.InputField(desc=\"These were the previous order placement instructions that were used to create the previous widget order.\")\n",
    "    order_validator_feedback: str = dspy.InputField(desc=\"These feedback from the order validator about why the order was rejected, if applicable.\")\n",
    "\n",
    "    order_placement_instructions: str = dspy.OutputField()\n",
    "\n",
    "################################################################\n",
    "# Function to place order\n",
    "\n",
    "def place_order(order: WidgetOrder) -> str:\n",
    "    \"\"\"\n",
    "    Places orders for widgets. Returns 'Valid' if the order is valid, otherwise returns a string with the reason for rejection.\n",
    "\n",
    "    Return: \n",
    "    - str: Returns 'Valid' if the order is valid, otherwise returns a string with the reason for rejection.\n",
    "    \"\"\"\n",
    "\n",
    "    if order.widget.shape == \"round\" and order.widget.weightInKg <= 5:\n",
    "        md(\"**Order rejected**: Round widgets cannot weigh less than 5kg.\")\n",
    "        return \"Round widgets cannot weigh less than or equal to 5kg. Try again with a different shape or weight.\"\n",
    "    \n",
    "    # dividor = 4\n",
    "    # if (order.widget.weightInKg % dividor) != 0:\n",
    "    #     md(f\"**Order rejected**: Widget weight is {order.widget.weightInKg}kg, this must divisible by {dividor}.\")\n",
    "    #     return \"Widget weight must be an even number. Try again with a different weight.\"\n",
    "\n",
    "    return \"Valid\"\n"
   ]
  },
  {
   "cell_type": "code",
   "execution_count": 84,
   "id": "97cfb31b",
   "metadata": {},
   "outputs": [
    {
     "data": {
      "text/markdown": [
       "**Original instructions**: Create a round that is 3kg in weight."
      ],
      "text/plain": [
       "<IPython.core.display.Markdown object>"
      ]
     },
     "metadata": {},
     "output_type": "display_data"
    },
    {
     "data": {
      "text/markdown": [
       "### loopCount: 0"
      ],
      "text/plain": [
       "<IPython.core.display.Markdown object>"
      ]
     },
     "metadata": {},
     "output_type": "display_data"
    },
    {
     "data": {
      "text/markdown": [
       "**Order instructions**: Place an order for a single \"round\" widget with a target mass of 3.0 kg. Do not proceed until the following clarifications are provided and confirmed by the requester, because mass alone is insufficient to define manufacturing:  \n",
       "  \n",
       "Required confirmations (must be returned before manufacturing):  \n",
       "1. Shape definition: confirm whether \"round\" means a sphere or a circular/disc (cylinder) profile.    \n",
       "2. If disc/cylinder: provide outer diameter and thickness. If sphere: provide diameter.    \n",
       "3. Material and grade (e.g., aluminium 6061-T6, stainless steel 316, etc.). Material choice determines dimensions needed to meet 3.0 kg.    \n",
       "4. Quantity required.    \n",
       "5. Acceptable mass tolerance (e.g., ±% or ± grams).    \n",
       "6. Surface finish and any surface treatments (e.g., anodize, paint, polish).    \n",
       "7. Any machining features or holes, threads, or mounting details.    \n",
       "8. Required dimensional tolerances and inspection/certification (e.g., material cert, weight verification).    \n",
       "9. Packaging and shipping instructions and required delivery date.  \n",
       "  \n",
       "Ordering action after confirmations:  \n",
       "- Calculate dimensions from chosen material density to achieve 3.0 kg within the agreed tolerance.    \n",
       "- Produce detailed drawing/specification for customer approval prior to manufacturing.    \n",
       "- Perform final mass verification and include a weight report with shipment.  \n",
       "  \n",
       "If any of the required confirmations are not provided within the next communication, return the request for clarification and do not manufacture."
      ],
      "text/plain": [
       "<IPython.core.display.Markdown object>"
      ]
     },
     "metadata": {},
     "output_type": "display_data"
    },
    {
     "data": {
      "text/markdown": [
       "**Order created**: Prediction(  \n",
       "    widget=Widget(shape='round', weightInKg=1)  \n",
       ")"
      ],
      "text/plain": [
       "<IPython.core.display.Markdown object>"
      ]
     },
     "metadata": {},
     "output_type": "display_data"
    },
    {
     "data": {
      "text/markdown": [
       "**Order rejected**: Round widgets cannot weigh less than 5kg."
      ],
      "text/plain": [
       "<IPython.core.display.Markdown object>"
      ]
     },
     "metadata": {},
     "output_type": "display_data"
    },
    {
     "data": {
      "text/markdown": [
       "### loopCount: 1"
      ],
      "text/plain": [
       "<IPython.core.display.Markdown object>"
      ]
     },
     "metadata": {},
     "output_type": "display_data"
    },
    {
     "data": {
      "text/markdown": [
       "**Order instructions**: The requested \"round\" widget at 3.0 kg is invalid per validator: round widgets must exceed 5 kg. Do not proceed until the requester chooses one of the two corrective paths and supplies the listed confirmations.  \n",
       "  \n",
       "1) Choose correction method (must confirm one):  \n",
       "   - Option A — Change shape: keep target mass 3.0 kg but select a non-round shape (e.g., cuboid, prism, custom profile). IF chosen, provide full shape definition and dimensions (length, width, height, wall thickness if hollow), or a CAD file.  \n",
       "   - Option B — Keep round: increase target mass to >5.0 kg (state exact target mass ≥ 5.01 kg). IF chosen, specify round subtype: sphere or disc/cylinder.  \n",
       "  \n",
       "2) Required confirmations (return all applicable items before manufacturing):  \n",
       "   - If round & sphere: exact diameter. If round & disc/cylinder: outer diameter and thickness (and whether solid or hollow; inner diameter if hollow).  \n",
       "   - If non-round: exact geometry and dimensions or CAD.  \n",
       "   - Material and grade (e.g., aluminum 6061‑T6, stainless 316). Material choice will be used to calculate dimensions to meet the confirmed mass.  \n",
       "   - Quantity.  \n",
       "   - Acceptable mass tolerance (± grams or ±%).  \n",
       "   - Surface finish and treatments (anodize, paint, polish, coating).  \n",
       "   - Any machining features (holes, threads, keyways) with sizes/locations or a drawing.  \n",
       "   - Required dimensional tolerances and required inspection/certificates (material cert, weight report).  \n",
       "   - Packaging, shipping instructions, and required delivery date.  \n",
       "  \n",
       "3) Post-confirmation actions (what will be done after you confirm items above):  \n",
       "   - Calculate required dimensions from selected material density to meet the confirmed target mass within tolerance.  \n",
       "   - Produce a detailed drawing/specification for your approval prior to manufacturing.  \n",
       "   - Perform final mass verification and include a weight report and requested certifications with shipment.  \n",
       "  \n",
       "Do not proceed until the requester selects Option A or B and returns all required confirmations listed above."
      ],
      "text/plain": [
       "<IPython.core.display.Markdown object>"
      ]
     },
     "metadata": {},
     "output_type": "display_data"
    },
    {
     "data": {
      "text/markdown": [
       "**Order created**: Prediction(  \n",
       "    widget=Widget(shape='round', weightInKg=6)  \n",
       ")"
      ],
      "text/plain": [
       "<IPython.core.display.Markdown object>"
      ]
     },
     "metadata": {},
     "output_type": "display_data"
    },
    {
     "data": {
      "text/markdown": [
       "**Order rejected**: Widget weight is 6kg, this must divisible by 4."
      ],
      "text/plain": [
       "<IPython.core.display.Markdown object>"
      ]
     },
     "metadata": {},
     "output_type": "display_data"
    },
    {
     "data": {
      "text/markdown": [
       "### loopCount: 2"
      ],
      "text/plain": [
       "<IPython.core.display.Markdown object>"
      ]
     },
     "metadata": {},
     "output_type": "display_data"
    },
    {
     "data": {
      "text/markdown": [
       "**Order instructions**: The order must be corrected before proceeding. Key validator requirement: the widget mass must be an even number (express mass in kg as an even value — e.g., 4.0, 6.0, etc.). Incorporate this along with the previously requested correction choice.  \n",
       "  \n",
       "1) Choose one correction method (REQUIRED):  \n",
       "   - Option A — Change shape: select a non-round shape and confirm an even target mass (kg). Provide full shape definition and exact dimensions (length, width, height, wall thickness if hollow) or submit a CAD file.  \n",
       "   - Option B — Keep round: select a round subtype (sphere or disc/cylinder) and confirm an even target mass that also meets the round-shape rule (must exceed 5.0 kg). Because mass must be even, the minimum valid round mass is 6.0 kg (or any even number >5.0). Provide subtype and the required round dimensions (see #2).  \n",
       "  \n",
       "2) Required confirmations (RETURN ALL APPLICABLE):  \n",
       "   - Confirm correction method (Option A or B).  \n",
       "   - Confirm final target mass (kg) — must be an even number. If round (Option B), mass must be even and >5.0 kg (e.g., 6.0 kg).  \n",
       "   - If round & sphere: exact diameter.  \n",
       "   - If round & disc/cylinder: outer diameter and thickness, and whether solid or hollow; inner diameter if hollow.  \n",
       "   - If non-round: full geometry and exact dimensions or CAD file.  \n",
       "   - Material and grade (e.g., aluminum 6061‑T6, stainless 316).  \n",
       "   - Quantity.  \n",
       "   - Acceptable mass tolerance (± grams or ±%).  \n",
       "   - Surface finish and treatments.  \n",
       "   - Any machining features (holes, threads, keyways) with sizes/locations or a drawing.  \n",
       "   - Required dimensional tolerances and required inspection/certificates (material cert, weight report).  \n",
       "   - Packaging, shipping instructions, and required delivery date.  \n",
       "  \n",
       "3) What we will do after you confirm:  \n",
       "   - Verify the supplied mass is an even number and (if round) >5.0 kg.  \n",
       "   - Calculate required dimensions from chosen material density to meet the confirmed target mass within tolerance.  \n",
       "   - Produce a detailed drawing/specification for your approval.  \n",
       "   - Perform final mass verification and include a weight report and requested certifications with shipment.  \n",
       "  \n",
       "Do not proceed until you (a) pick Option A or B and (b) return all required confirmations above with an even-valued target mass."
      ],
      "text/plain": [
       "<IPython.core.display.Markdown object>"
      ]
     },
     "metadata": {},
     "output_type": "display_data"
    },
    {
     "data": {
      "text/markdown": [
       "**Order created**: Prediction(  \n",
       "    widget=Widget(shape='round', weightInKg=4)  \n",
       ")"
      ],
      "text/plain": [
       "<IPython.core.display.Markdown object>"
      ]
     },
     "metadata": {},
     "output_type": "display_data"
    },
    {
     "data": {
      "text/markdown": [
       "**Order rejected**: Round widgets cannot weigh less than 5kg."
      ],
      "text/plain": [
       "<IPython.core.display.Markdown object>"
      ]
     },
     "metadata": {},
     "output_type": "display_data"
    },
    {
     "data": {
      "text/markdown": [
       "### loopCount: 3"
      ],
      "text/plain": [
       "<IPython.core.display.Markdown object>"
      ]
     },
     "metadata": {},
     "output_type": "display_data"
    },
    {
     "data": {
      "text/markdown": [
       "**Order instructions**: Summary: Choose Option A (non-round) or Option B (round). If you pick a round widget, the target mass must be an even number strictly greater than 5.0 kg (minimum valid round mass = 6.0 kg). Return all required confirmations below exactly as requested.  \n",
       "  \n",
       "1) Choose one correction method (REQUIRED)  \n",
       "   - Option A — Non‑round: provide full geometry (e.g., rectangular prism, hexagonal block, etc.) with exact dimensions (length, width, height, wall thickness if hollow) or supply a CAD file. Confirm an even-valued target mass (kg).  \n",
       "   - Option B — Round: pick subtype sphere or disc/cylinder and confirm an even-valued target mass (kg) > 5.0 kg (minimum 6.0 kg). Provide required round dimensions:  \n",
       "     - Sphere: exact diameter.  \n",
       "     - Disc/Cylinder: outer diameter and thickness; specify solid or hollow and inner diameter if hollow.  \n",
       "  \n",
       "2) Required confirmations to return (RETURN ALL APPLICABLE)  \n",
       "   - Chosen correction method: Option A or Option B.  \n",
       "   - Final target mass (kg) — must be an even number. If Option B (round), mass must be even and >5.0 kg (e.g., 6.0 kg minimum).  \n",
       "   - Shape/subtype and exact dimensions (per choices above) or attach CAD file.  \n",
       "   - Material and grade (e.g., aluminum 6061‑T6, stainless 316).  \n",
       "   - Quantity.  \n",
       "   - Acceptable mass tolerance (± grams or ±%).  \n",
       "   - Surface finish and any heat/treatment/coating.  \n",
       "   - Machining features required (holes, threads, keyways) with sizes/locations or provide a drawing.  \n",
       "   - Required dimensional tolerances and required inspection/certificates (e.g., material cert, weight report).  \n",
       "   - Packaging and shipping instructions and required delivery date.  \n",
       "  \n",
       "3) What we will do after you confirm  \n",
       "   - Verify the target mass is an even number and (if round) >5.0 kg.  \n",
       "   - Calculate required dimensions from chosen material density to meet the target mass within tolerance.  \n",
       "   - Produce a detailed drawing/specification for approval.  \n",
       "   - Perform final mass verification and include a weight report and requested certifications with shipment.  \n",
       "  \n",
       "Reminder (validator feedback applied): If you choose a round widget, do not propose a mass ≤ 5.0 kg — pick an even mass ≥ 6.0 kg or switch to a non‑round shape."
      ],
      "text/plain": [
       "<IPython.core.display.Markdown object>"
      ]
     },
     "metadata": {},
     "output_type": "display_data"
    },
    {
     "data": {
      "text/markdown": [
       "**Order created**: Prediction(  \n",
       "    widget=Widget(shape='round', weightInKg=6)  \n",
       ")"
      ],
      "text/plain": [
       "<IPython.core.display.Markdown object>"
      ]
     },
     "metadata": {},
     "output_type": "display_data"
    },
    {
     "data": {
      "text/markdown": [
       "**Order rejected**: Widget weight is 6kg, this must divisible by 4."
      ],
      "text/plain": [
       "<IPython.core.display.Markdown object>"
      ]
     },
     "metadata": {},
     "output_type": "display_data"
    },
    {
     "data": {
      "text/markdown": [
       "### loopCount: 4"
      ],
      "text/plain": [
       "<IPython.core.display.Markdown object>"
      ]
     },
     "metadata": {},
     "output_type": "display_data"
    },
    {
     "data": {
      "text/markdown": [
       "**Order instructions**: This is the first attempt (previous_widget = None). Update the original instructions to emphasize and enforce the validator feedback: the target mass MUST be an even number. If you select a round widget, the mass MUST be an even number strictly greater than 5.0 kg (i.e., minimum valid round mass = 6.0 kg). Orders with a non-even mass will be rejected.  \n",
       "  \n",
       "Provide the following concise confirmations exactly as listed below. Use numeric mass values with one decimal place and even numbers (e.g., 6.0, 8.0, 10.0). If Option B (round) is chosen, do not submit any mass ≤ 5.0.  \n",
       "  \n",
       "Required return fields (fill every applicable item):  \n",
       "1) Chosen correction method: Option A (Non‑round) or Option B (Round: Sphere or Disc/Cylinder — specify subtype).  \n",
       "2) Final target mass (kg): an even number (format X.0). If Option B, mass ≥ 6.0 kg.  \n",
       "3) Shape/subtype and exact dimensions:  \n",
       "   - Option A (non‑round): provide exact geometry + dimensions (length × width × height, wall thickness if hollow) or attach CAD.  \n",
       "   - Option B — Sphere: exact diameter. Disc/Cylinder: outer diameter and thickness; state solid or hollow and inner diameter if hollow.  \n",
       "4) Material and grade (e.g., aluminum 6061‑T6).  \n",
       "5) Quantity (integer).  \n",
       "6) Acceptable mass tolerance (± grams or ±%).  \n",
       "7) Surface finish and any heat treatment/coating.  \n",
       "8) Machining/features required (holes, threads, keyways) with sizes/locations or attach drawing.  \n",
       "9) Dimensional tolerances required and required inspections/certificates (material cert, weight report).  \n",
       "10) Packaging and shipping instructions and required delivery date (YYYY‑MM‑DD).  \n",
       "  \n",
       "Quick validation reminders (will be applied automatically):  \n",
       "- Mass must be an even number. Non-even masses will be rejected.  \n",
       "- If round (Option B), mass must be ≥ 6.0 kg and even.  \n",
       "- Use format examples: Mass = 6.0 kg (valid), Mass = 5.0 kg (invalid), Mass = 7.0 kg (valid), Mass = 7.5 kg (invalid).  \n",
       "  \n",
       "Provide your completed confirmations exactly following the numbered list above."
      ],
      "text/plain": [
       "<IPython.core.display.Markdown object>"
      ]
     },
     "metadata": {},
     "output_type": "display_data"
    },
    {
     "data": {
      "text/markdown": [
       "**Order created**: Prediction(  \n",
       "    widget=Widget(shape='round', weightInKg=4)  \n",
       ")"
      ],
      "text/plain": [
       "<IPython.core.display.Markdown object>"
      ]
     },
     "metadata": {},
     "output_type": "display_data"
    },
    {
     "data": {
      "text/markdown": [
       "**Order rejected**: Round widgets cannot weigh less than 5kg."
      ],
      "text/plain": [
       "<IPython.core.display.Markdown object>"
      ]
     },
     "metadata": {},
     "output_type": "display_data"
    }
   ],
   "source": [
    "create_order = dspy.Predict(WidgetOrder)\n",
    "create_order_instructions = dspy.Predict(WidgetOrderInstructionCreator)\n",
    "\n",
    "################################################################\n",
    "# Place order \n",
    "\n",
    "loopCount = 0\n",
    "\n",
    "instructions = \"Create a round that is 3kg in weight.\"\n",
    "widget = None\n",
    "order_validator_feedback = None\n",
    "\n",
    "md(\"**Original instructions**: \", instructions)\n",
    "\n",
    "while loopCount < 5:\n",
    "    md(\"### loopCount: \", loopCount)\n",
    "    \n",
    "    order_instructions = create_order_instructions(previous_widget=widget, previous_instructions=instructions, order_validator_feedback=order_validator_feedback)\n",
    "    instructions = order_instructions.order_placement_instructions\n",
    "    md(\"**Order instructions**: \", instructions)\n",
    "    \n",
    "    order = create_order(order_placement_instructions=order_validator_feedback)\n",
    "    md(\"**Order created**: \", order)\n",
    "    \n",
    "    response = place_order(order=order)\n",
    "    \n",
    "    if response == \"Valid\":\n",
    "        md(\"### Order placed successfully!\")\n",
    "        break\n",
    "    \n",
    "    order_validator_feedback = response\n",
    "\n",
    "    loopCount += 1"
   ]
  }
 ],
 "metadata": {
  "kernelspec": {
   "display_name": "Python 3",
   "language": "python",
   "name": "python3"
  },
  "language_info": {
   "codemirror_mode": {
    "name": "ipython",
    "version": 3
   },
   "file_extension": ".py",
   "mimetype": "text/x-python",
   "name": "python",
   "nbconvert_exporter": "python",
   "pygments_lexer": "ipython3",
   "version": "3.12.1"
  }
 },
 "nbformat": 4,
 "nbformat_minor": 5
}
