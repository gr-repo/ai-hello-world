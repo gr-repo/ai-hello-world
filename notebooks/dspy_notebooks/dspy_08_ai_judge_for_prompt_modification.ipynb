{
 "cells": [
  {
   "cell_type": "markdown",
   "id": "a8ea69d9",
   "metadata": {},
   "source": [
    "# AI as a Judge for Prompt Modification\n",
    "Use AI as a judge to modify a prompt to navigate it through a 'maze'"
   ]
  },
  {
   "cell_type": "code",
   "execution_count": 42,
   "id": "020e84ec",
   "metadata": {},
   "outputs": [
    {
     "name": "stdout",
     "output_type": "stream",
     "text": [
      "Getting keys from environment variables\n"
     ]
    }
   ],
   "source": [
    "import sys\n",
    "import os\n",
    "import dspy \n",
    "\n",
    "import dspy \n",
    "from pydantic import BaseModel, Field, StrictInt, validator\n",
    "from typing import Literal\n",
    "\n",
    "from common.my_settings import MySettings  \n",
    "from common.utils import md\n",
    "from common.llm_client_factory import LlmClientFactory\n",
    "from dspy_utils.dspy_helpers import md_dspy\n",
    "\n",
    "settings = MySettings().get()"
   ]
  },
  {
   "cell_type": "code",
   "execution_count": 43,
   "id": "1938496e",
   "metadata": {},
   "outputs": [],
   "source": [
    "lm = dspy.LM(\n",
    "    'gpt-4.1', \n",
    "    model_type='chat', \n",
    "    cache=False, \n",
    "    api_key=settings.OPENAI_API_KEY,\n",
    "    temperature=0.8     \n",
    ")\n",
    "\n",
    "dspy.configure(lm=lm)"
   ]
  },
  {
   "cell_type": "code",
   "execution_count": null,
   "id": "0efdf5a3",
   "metadata": {},
   "outputs": [
    {
     "name": "stderr",
     "output_type": "stream",
     "text": [
      "/tmp/ipykernel_35665/2363346066.py:6: PydanticDeprecatedSince20: Pydantic V1 style `@validator` validators are deprecated. You should migrate to Pydantic V2 style `@field_validator` validators, see the migration guide for more details. Deprecated in Pydantic V2.0 to be removed in V3.0. See Pydantic V2 Migration Guide at https://errors.pydantic.dev/2.11/migration/\n",
      "  @validator(\"weightInKg\")\n"
     ]
    }
   ],
   "source": [
    "class Widget(BaseModel):\n",
    "    shape: Literal[\"round\", \"square\", \"triangle\"] = dspy.OutputField()\n",
    "    weightInKg: StrictInt = dspy.OutputField(desc=\"Must be postive integer\")\n",
    "    colour: str = dspy.OutputField(desc=\"Colour of the widget\")\n",
    "\n",
    "class WidgetOrder(dspy.Signature):\n",
    "    \"\"\"\n",
    "    Follow the `order_placement_instructions` to place an order for a widget. \n",
    "    Double check that the created widget meets the instructions exactly.\n",
    "    Go through all the details carefully to ensure accuracy and look at each property and double check the values match the rules\n",
    "    \"\"\"\n",
    "\n",
    "    order_placement_instructions: str = dspy.InputField()\n",
    "\n",
    "    widget: Widget = dspy.OutputField()\n",
    "    \n",
    "class WidgetOrderInstructionCreator(dspy.Signature):\n",
    "    \"\"\"\n",
    "    You are an expert at creating orders for widgets. You use previously provided feedback and widgets order attempts to improve the order placement instructions.\n",
    "    Create detailed `order_placement_instructions` for placing an order for a widget based on the original widget details and instructions.\n",
    "    Only use the properties of the `previous_widget` and the `order_validator_feedback` to improve the order placement instructions.\n",
    "    Keep the instructions as concise as possible and to the point.\n",
    "    \"\"\"\n",
    "\n",
    "    order_instructions: str = dspy.InputField(desc=\"These are the instructions to use in order to create the order.\")\n",
    "    previous_widget: Widget = dspy.InputField(desc=\"This was the previous widget that was placed in the order and was rejected. If it is None then this is the first attempt to place an order.\")\n",
    "    order_validator_feedback: list[str] = dspy.InputField(desc=\"These feedback from the order validator about why the order was rejected previously, if applicable.\")\n",
    "\n",
    "    order_placement_instructions: str = dspy.OutputField()\n",
    "\n",
    "################################################################\n",
    "# Function to place order, it has the validation rules in it\n",
    "\n",
    "def place_order(order: WidgetOrder) -> str:\n",
    "    \"\"\"\n",
    "    Places orders for widgets. Returns 'Valid' if the order is valid, otherwise returns a string with the reason for rejection.\n",
    "\n",
    "    Return: \n",
    "    - str: Returns 'Valid' if the order is valid, otherwise returns a string with the reason for rejection.\n",
    "    \"\"\"\n",
    "\n",
    "    # Rule 1: \n",
    "    if order.widget.shape.lower() == \"round\" and order.widget.weightInKg <= 5:\n",
    "        msg = f\"\"\"**Order rejected**: Round widgets cannot weight less than or equal to 5kg. You tried to place an order with a `weightInKg`={order.widget.weightInKg} \n",
    "        Try again with a different shape or weight.\"\"\"\n",
    "        md(msg)\n",
    "        return msg\n",
    "    \n",
    "    # Rule 2:\n",
    "    dividor = 4\n",
    "    if (order.widget.weightInKg % dividor) != 0:\n",
    "        msg = f\"**Order rejected**: Widget 'weightInKg' is {order.widget.weightInKg}kg, this must divisible by {dividor}.\"\n",
    "        md(msg)\n",
    "        return msg\n",
    "    \n",
    "    # Rule 3: \n",
    "    if order.widget.colour.lower() == \"red\":\n",
    "        msg = \"**Order rejected**: The `colour` chosen is red. We cannot make 'red' widgets at the moment, choose a different colour.\"\n",
    "        md(msg)\n",
    "        return msg\n",
    "\n",
    "    return \"Valid\""
   ]
  },
  {
   "cell_type": "code",
   "execution_count": 55,
   "id": "97cfb31b",
   "metadata": {},
   "outputs": [
    {
     "data": {
      "text/markdown": [
       "**Original instructions**: Create a red widget that is round and 3kg in weight."
      ],
      "text/plain": [
       "<IPython.core.display.Markdown object>"
      ]
     },
     "metadata": {},
     "output_type": "display_data"
    },
    {
     "data": {
      "text/markdown": [
       "# loopCount: 0"
      ],
      "text/plain": [
       "<IPython.core.display.Markdown object>"
      ]
     },
     "metadata": {},
     "output_type": "display_data"
    },
    {
     "data": {
      "text/markdown": [
       "## Create order instructions "
      ],
      "text/plain": [
       "<IPython.core.display.Markdown object>"
      ]
     },
     "metadata": {},
     "output_type": "display_data"
    },
    {
     "data": {
      "text/markdown": [
       "instructions: Create a red widget that is round and 3kg in weight."
      ],
      "text/plain": [
       "<IPython.core.display.Markdown object>"
      ]
     },
     "metadata": {},
     "output_type": "display_data"
    },
    {
     "data": {
      "text/markdown": [
       "order_validator_feedback: []"
      ],
      "text/plain": [
       "<IPython.core.display.Markdown object>"
      ]
     },
     "metadata": {},
     "output_type": "display_data"
    },
    {
     "data": {
      "text/markdown": [
       "order_instructions created: Prediction(  \n",
       "    reasoning='This is the first attempt at placing the order, so there is no previous widget or validator feedback to consider. The task is to create a widget that is red in color, round in shape, and weighs 3kg.',  \n",
       "    order_placement_instructions='Order a widget with the following specifications: color—red, shape—round, weight—3kg.'  \n",
       ")"
      ],
      "text/plain": [
       "<IPython.core.display.Markdown object>"
      ]
     },
     "metadata": {},
     "output_type": "display_data"
    },
    {
     "data": {
      "text/markdown": [
       "**Order instructions**: Order a widget with the following specifications: color—red, shape—round, weight—3kg."
      ],
      "text/plain": [
       "<IPython.core.display.Markdown object>"
      ]
     },
     "metadata": {},
     "output_type": "display_data"
    },
    {
     "data": {
      "text/markdown": [
       "## Create order object"
      ],
      "text/plain": [
       "<IPython.core.display.Markdown object>"
      ]
     },
     "metadata": {},
     "output_type": "display_data"
    },
    {
     "data": {
      "text/markdown": [
       "order_placement_instructions: Order a widget with the following specifications: color—red, shape—round, weight—3kg."
      ],
      "text/plain": [
       "<IPython.core.display.Markdown object>"
      ]
     },
     "metadata": {},
     "output_type": "display_data"
    },
    {
     "data": {
      "text/markdown": [
       "**Order object created**: Prediction(  \n",
       "    reasoning='The order placement instructions specify a widget with the following characteristics:\\n- Colour: red\\n- Shape: round\\n- Weight: 3kg\\n\\nI will double-check each property:\\n- Colour is \"red\", which matches the instruction.\\n- Shape is \"round\", which is one of the valid enum values (\"round\", \"square\", \"triangle\").\\n- Weight is 3 (as an integer), which matches \"3kg\" and is a positive integer.\\n\\nAll specifications match the requirements.',  \n",
       "    widget=Widget(shape='round', weightInKg=3, colour='red')  \n",
       ")"
      ],
      "text/plain": [
       "<IPython.core.display.Markdown object>"
      ]
     },
     "metadata": {},
     "output_type": "display_data"
    },
    {
     "data": {
      "text/markdown": [
       "order.widget: ***shape='round' weightInKg=3 colour='red'***"
      ],
      "text/plain": [
       "<IPython.core.display.Markdown object>"
      ]
     },
     "metadata": {},
     "output_type": "display_data"
    },
    {
     "data": {
      "text/markdown": [
       "## Place order & validate"
      ],
      "text/plain": [
       "<IPython.core.display.Markdown object>"
      ]
     },
     "metadata": {},
     "output_type": "display_data"
    },
    {
     "data": {
      "text/markdown": [
       "**Order rejected**: Round widgets cannot weight less than or equal to 5kg. You tried to place an order with a `weightInKg`=3   \n",
       "        Try again with a different shape or weight."
      ],
      "text/plain": [
       "<IPython.core.display.Markdown object>"
      ]
     },
     "metadata": {},
     "output_type": "display_data"
    },
    {
     "data": {
      "text/markdown": [
       "**Cumulative rejection reasons**: "
      ],
      "text/plain": [
       "<IPython.core.display.Markdown object>"
      ]
     },
     "metadata": {},
     "output_type": "display_data"
    },
    {
     "data": {
      "text/markdown": [
       "* ***1***: **Order rejected**: Round widgets cannot weight less than or equal to 5kg. You tried to place an order with a `weightInKg`=3   \n",
       "        Try again with a different shape or weight."
      ],
      "text/plain": [
       "<IPython.core.display.Markdown object>"
      ]
     },
     "metadata": {},
     "output_type": "display_data"
    },
    {
     "data": {
      "text/markdown": [
       "# loopCount: 1"
      ],
      "text/plain": [
       "<IPython.core.display.Markdown object>"
      ]
     },
     "metadata": {},
     "output_type": "display_data"
    },
    {
     "data": {
      "text/markdown": [
       "## Create order instructions "
      ],
      "text/plain": [
       "<IPython.core.display.Markdown object>"
      ]
     },
     "metadata": {},
     "output_type": "display_data"
    },
    {
     "data": {
      "text/markdown": [
       "instructions: Order a widget with the following specifications: color—red, shape—round, weight—3kg."
      ],
      "text/plain": [
       "<IPython.core.display.Markdown object>"
      ]
     },
     "metadata": {},
     "output_type": "display_data"
    },
    {
     "data": {
      "text/markdown": [
       "order_validator_feedback: ['**Order rejected**: Round widgets cannot weight less than or equal to 5kg. You tried to place an order with a `weightInKg`=3 \\n        Try again with a different shape or weight.']"
      ],
      "text/plain": [
       "<IPython.core.display.Markdown object>"
      ]
     },
     "metadata": {},
     "output_type": "display_data"
    },
    {
     "data": {
      "text/markdown": [
       "order_instructions created: Prediction(  \n",
       "    reasoning='The order was rejected because round widgets must weigh more than 5kg, but the requested weight was only 3kg. To comply with the requirements, I need to either increase the weight above 5kg or select a different shape. Since the original instructions specify a round shape, I will adjust the weight to 6kg to fulfill both requirements.',  \n",
       "    order_placement_instructions='Order a widget with the following specifications: color—red, shape—round, weight—6kg.'  \n",
       ")"
      ],
      "text/plain": [
       "<IPython.core.display.Markdown object>"
      ]
     },
     "metadata": {},
     "output_type": "display_data"
    },
    {
     "data": {
      "text/markdown": [
       "**Order instructions**: Order a widget with the following specifications: color—red, shape—round, weight—6kg."
      ],
      "text/plain": [
       "<IPython.core.display.Markdown object>"
      ]
     },
     "metadata": {},
     "output_type": "display_data"
    },
    {
     "data": {
      "text/markdown": [
       "## Create order object"
      ],
      "text/plain": [
       "<IPython.core.display.Markdown object>"
      ]
     },
     "metadata": {},
     "output_type": "display_data"
    },
    {
     "data": {
      "text/markdown": [
       "order_placement_instructions: Order a widget with the following specifications: color—red, shape—round, weight—6kg."
      ],
      "text/plain": [
       "<IPython.core.display.Markdown object>"
      ]
     },
     "metadata": {},
     "output_type": "display_data"
    },
    {
     "data": {
      "text/markdown": [
       "**Order object created**: Prediction(  \n",
       "    reasoning='The order placement instructions specify three characteristics for the widget: the color must be red, the shape must be round, and the weight must be 6kg. I will ensure each property matches exactly with the given requirements and double check for accuracy:\\n- Colour: \"red\" (matches the instruction)\\n- Shape: \"round\" (matches one of the allowed enum values and the instruction)\\n- Weight: 6 (positive integer, matches the required value in kg)\\nAll criteria are met.',  \n",
       "    widget=Widget(shape='round', weightInKg=6, colour='red')  \n",
       ")"
      ],
      "text/plain": [
       "<IPython.core.display.Markdown object>"
      ]
     },
     "metadata": {},
     "output_type": "display_data"
    },
    {
     "data": {
      "text/markdown": [
       "order.widget: ***shape='round' weightInKg=6 colour='red'***"
      ],
      "text/plain": [
       "<IPython.core.display.Markdown object>"
      ]
     },
     "metadata": {},
     "output_type": "display_data"
    },
    {
     "data": {
      "text/markdown": [
       "## Place order & validate"
      ],
      "text/plain": [
       "<IPython.core.display.Markdown object>"
      ]
     },
     "metadata": {},
     "output_type": "display_data"
    },
    {
     "data": {
      "text/markdown": [
       "**Order rejected**: Widget weight is 6kg, this must divisible by 4."
      ],
      "text/plain": [
       "<IPython.core.display.Markdown object>"
      ]
     },
     "metadata": {},
     "output_type": "display_data"
    },
    {
     "data": {
      "text/markdown": [
       "**Cumulative rejection reasons**: "
      ],
      "text/plain": [
       "<IPython.core.display.Markdown object>"
      ]
     },
     "metadata": {},
     "output_type": "display_data"
    },
    {
     "data": {
      "text/markdown": [
       "* ***1***: **Order rejected**: Round widgets cannot weight less than or equal to 5kg. You tried to place an order with a `weightInKg`=3   \n",
       "        Try again with a different shape or weight."
      ],
      "text/plain": [
       "<IPython.core.display.Markdown object>"
      ]
     },
     "metadata": {},
     "output_type": "display_data"
    },
    {
     "data": {
      "text/markdown": [
       "* ***2***: **Order rejected**: Widget weight is 6kg, this must divisible by 4."
      ],
      "text/plain": [
       "<IPython.core.display.Markdown object>"
      ]
     },
     "metadata": {},
     "output_type": "display_data"
    },
    {
     "data": {
      "text/markdown": [
       "# loopCount: 2"
      ],
      "text/plain": [
       "<IPython.core.display.Markdown object>"
      ]
     },
     "metadata": {},
     "output_type": "display_data"
    },
    {
     "data": {
      "text/markdown": [
       "## Create order instructions "
      ],
      "text/plain": [
       "<IPython.core.display.Markdown object>"
      ]
     },
     "metadata": {},
     "output_type": "display_data"
    },
    {
     "data": {
      "text/markdown": [
       "instructions: Order a widget with the following specifications: color—red, shape—round, weight—6kg."
      ],
      "text/plain": [
       "<IPython.core.display.Markdown object>"
      ]
     },
     "metadata": {},
     "output_type": "display_data"
    },
    {
     "data": {
      "text/markdown": [
       "order_validator_feedback: ['**Order rejected**: Round widgets cannot weight less than or equal to 5kg. You tried to place an order with a `weightInKg`=3 \\n        Try again with a different shape or weight.', '**Order rejected**: Widget weight is 6kg, this must divisible by 4.']"
      ],
      "text/plain": [
       "<IPython.core.display.Markdown object>"
      ]
     },
     "metadata": {},
     "output_type": "display_data"
    },
    {
     "data": {
      "text/markdown": [
       "order_instructions created: Prediction(  \n",
       "    reasoning='The order was rejected twice: first because the weight for a round widget was set to 3kg, which is not more than 5kg (the new weight of 6kg should satisfy this), and second because 6kg is not divisible by 4. Therefore, for a valid order, the weight must be both greater than 5kg and divisible by 4. The smallest weight that satisfies both is 8kg.',  \n",
       "    order_placement_instructions='Order a widget with the following specifications: color—red, shape—round, weight—8kg.'  \n",
       ")"
      ],
      "text/plain": [
       "<IPython.core.display.Markdown object>"
      ]
     },
     "metadata": {},
     "output_type": "display_data"
    },
    {
     "data": {
      "text/markdown": [
       "**Order instructions**: Order a widget with the following specifications: color—red, shape—round, weight—8kg."
      ],
      "text/plain": [
       "<IPython.core.display.Markdown object>"
      ]
     },
     "metadata": {},
     "output_type": "display_data"
    },
    {
     "data": {
      "text/markdown": [
       "## Create order object"
      ],
      "text/plain": [
       "<IPython.core.display.Markdown object>"
      ]
     },
     "metadata": {},
     "output_type": "display_data"
    },
    {
     "data": {
      "text/markdown": [
       "order_placement_instructions: Order a widget with the following specifications: color—red, shape—round, weight—8kg."
      ],
      "text/plain": [
       "<IPython.core.display.Markdown object>"
      ]
     },
     "metadata": {},
     "output_type": "display_data"
    },
    {
     "data": {
      "text/markdown": [
       "**Order object created**: Prediction(  \n",
       "    reasoning=\"The order specifies that the widget should be red in color, have a round shape, and weigh 8kg. I will set the 'colour' as 'red', 'shape' as 'round', and 'weightInKg' as 8. I have double-checked to ensure all specifications are adhered to exactly as requested.\",  \n",
       "    widget=Widget(shape='round', weightInKg=8, colour='red')  \n",
       ")"
      ],
      "text/plain": [
       "<IPython.core.display.Markdown object>"
      ]
     },
     "metadata": {},
     "output_type": "display_data"
    },
    {
     "data": {
      "text/markdown": [
       "order.widget: ***shape='round' weightInKg=8 colour='red'***"
      ],
      "text/plain": [
       "<IPython.core.display.Markdown object>"
      ]
     },
     "metadata": {},
     "output_type": "display_data"
    },
    {
     "data": {
      "text/markdown": [
       "## Place order & validate"
      ],
      "text/plain": [
       "<IPython.core.display.Markdown object>"
      ]
     },
     "metadata": {},
     "output_type": "display_data"
    },
    {
     "data": {
      "text/markdown": [
       "**Order rejected**: The `colour` chosen is red. We cannot make 'red' widgets at the moment, choose a different colour."
      ],
      "text/plain": [
       "<IPython.core.display.Markdown object>"
      ]
     },
     "metadata": {},
     "output_type": "display_data"
    },
    {
     "data": {
      "text/markdown": [
       "**Cumulative rejection reasons**: "
      ],
      "text/plain": [
       "<IPython.core.display.Markdown object>"
      ]
     },
     "metadata": {},
     "output_type": "display_data"
    },
    {
     "data": {
      "text/markdown": [
       "* ***1***: **Order rejected**: Round widgets cannot weight less than or equal to 5kg. You tried to place an order with a `weightInKg`=3   \n",
       "        Try again with a different shape or weight."
      ],
      "text/plain": [
       "<IPython.core.display.Markdown object>"
      ]
     },
     "metadata": {},
     "output_type": "display_data"
    },
    {
     "data": {
      "text/markdown": [
       "* ***2***: **Order rejected**: Widget weight is 6kg, this must divisible by 4."
      ],
      "text/plain": [
       "<IPython.core.display.Markdown object>"
      ]
     },
     "metadata": {},
     "output_type": "display_data"
    },
    {
     "data": {
      "text/markdown": [
       "* ***3***: **Order rejected**: The `colour` chosen is red. We cannot make 'red' widgets at the moment, choose a different colour."
      ],
      "text/plain": [
       "<IPython.core.display.Markdown object>"
      ]
     },
     "metadata": {},
     "output_type": "display_data"
    },
    {
     "data": {
      "text/markdown": [
       "# loopCount: 3"
      ],
      "text/plain": [
       "<IPython.core.display.Markdown object>"
      ]
     },
     "metadata": {},
     "output_type": "display_data"
    },
    {
     "data": {
      "text/markdown": [
       "## Create order instructions "
      ],
      "text/plain": [
       "<IPython.core.display.Markdown object>"
      ]
     },
     "metadata": {},
     "output_type": "display_data"
    },
    {
     "data": {
      "text/markdown": [
       "instructions: Order a widget with the following specifications: color—red, shape—round, weight—8kg."
      ],
      "text/plain": [
       "<IPython.core.display.Markdown object>"
      ]
     },
     "metadata": {},
     "output_type": "display_data"
    },
    {
     "data": {
      "text/markdown": [
       "order_validator_feedback: ['**Order rejected**: Round widgets cannot weight less than or equal to 5kg. You tried to place an order with a `weightInKg`=3 \\n        Try again with a different shape or weight.', '**Order rejected**: Widget weight is 6kg, this must divisible by 4.', \"**Order rejected**: The `colour` chosen is red. We cannot make 'red' widgets at the moment, choose a different colour.\"]"
      ],
      "text/plain": [
       "<IPython.core.display.Markdown object>"
      ]
     },
     "metadata": {},
     "output_type": "display_data"
    },
    {
     "data": {
      "text/markdown": [
       "order_instructions created: Prediction(  \n",
       "    reasoning='The order validator feedback points out three key problems: (1) round widgets cannot weigh less than or equal to 5kg, (2) the weight must be divisible by 4, and (3) red widgets are currently not available. To create an acceptable order, I need to select a color other than red, keep the shape as round, and set the weight to greater than 5kg and divisible by 4. The smallest such weight is 8kg.',  \n",
       "    order_placement_instructions='Order a widget with the following specifications: color—blue, shape—round, weight—8kg.'  \n",
       ")"
      ],
      "text/plain": [
       "<IPython.core.display.Markdown object>"
      ]
     },
     "metadata": {},
     "output_type": "display_data"
    },
    {
     "data": {
      "text/markdown": [
       "**Order instructions**: Order a widget with the following specifications: color—blue, shape—round, weight—8kg."
      ],
      "text/plain": [
       "<IPython.core.display.Markdown object>"
      ]
     },
     "metadata": {},
     "output_type": "display_data"
    },
    {
     "data": {
      "text/markdown": [
       "## Create order object"
      ],
      "text/plain": [
       "<IPython.core.display.Markdown object>"
      ]
     },
     "metadata": {},
     "output_type": "display_data"
    },
    {
     "data": {
      "text/markdown": [
       "order_placement_instructions: Order a widget with the following specifications: color—blue, shape—round, weight—8kg."
      ],
      "text/plain": [
       "<IPython.core.display.Markdown object>"
      ]
     },
     "metadata": {},
     "output_type": "display_data"
    },
    {
     "data": {
      "text/markdown": [
       "**Order object created**: Prediction(  \n",
       "    reasoning='The instructions specify a widget with color blue, shape round, and weight 8kg. I will ensure that the color is set to \"blue\", the shape to \"round\" (which is an allowed enum value), and the weight as a positive integer 8. All values match the requirements and conform to the schema.',  \n",
       "    widget=Widget(shape='round', weightInKg=8, colour='blue')  \n",
       ")"
      ],
      "text/plain": [
       "<IPython.core.display.Markdown object>"
      ]
     },
     "metadata": {},
     "output_type": "display_data"
    },
    {
     "data": {
      "text/markdown": [
       "order.widget: ***shape='round' weightInKg=8 colour='blue'***"
      ],
      "text/plain": [
       "<IPython.core.display.Markdown object>"
      ]
     },
     "metadata": {},
     "output_type": "display_data"
    },
    {
     "data": {
      "text/markdown": [
       "## Place order & validate"
      ],
      "text/plain": [
       "<IPython.core.display.Markdown object>"
      ]
     },
     "metadata": {},
     "output_type": "display_data"
    },
    {
     "data": {
      "text/markdown": [
       "\n",
       "\n",
       "### Order placed successfully"
      ],
      "text/plain": [
       "<IPython.core.display.Markdown object>"
      ]
     },
     "metadata": {},
     "output_type": "display_data"
    }
   ],
   "source": [
    "create_order = dspy.ChainOfThought(WidgetOrder)\n",
    "create_order_instructions = dspy.ChainOfThought(WidgetOrderInstructionCreator)\n",
    "\n",
    "################################################################\n",
    "# Place order \n",
    "\n",
    "loopCount = 0\n",
    "\n",
    "instructions = \"Create a red widget that is round and 3kg in weight.\" # Will hit the first rule\n",
    "#instructions = \"Create a widget that is a triangle and 3kg in weight.\" # Miss first rule and hit divisor rule\n",
    "widget = None\n",
    "order_validator_feedback = []\n",
    "\n",
    "md(\"**Original instructions**: \", instructions)\n",
    "\n",
    "while loopCount < 5:\n",
    "    md(\"# loopCount: \", loopCount)\n",
    "    \n",
    "    ##########################################################\n",
    "    md(\"## Create order instructions \")\n",
    "    md('instructions: ', instructions)\n",
    "    md('order_validator_feedback: ', order_validator_feedback)\n",
    "    order_instructions = create_order_instructions(previous_widget=widget, order_instructions=instructions, order_validator_feedback=order_validator_feedback)\n",
    "    md(\"order_instructions created: \", order_instructions)\n",
    "    instructions = order_instructions.order_placement_instructions\n",
    "    md(\"**Order instructions**: \", instructions)\n",
    "    \n",
    "    ##########################################################\n",
    "    md(\"## Create order object\")\n",
    "    \n",
    "    md(\"order_placement_instructions: \", instructions)\n",
    "    order = create_order(order_placement_instructions=instructions)\n",
    "    md(\"**Order object created**: \", order)\n",
    "    md('order.widget: ***', order.widget, '***')\n",
    "    \n",
    "    ##########################################################\n",
    "    md(\"## Place order & validate\")\n",
    "    response = place_order(order=order)\n",
    "    \n",
    "    if response == \"Valid\":\n",
    "        md(\"\", \"### Order placed successfully\")\n",
    "        break\n",
    "    \n",
    "    order_validator_feedback.append(response)\n",
    "    md(\"**Cumulative rejection reasons**: \")\n",
    "    msgs = []\n",
    "    for i in range(len(order_validator_feedback)):\n",
    "        md(f\"* ***{i+1}***: {order_validator_feedback[i]}\")\n",
    "        \n",
    "\n",
    "    loopCount += 1"
   ]
  }
 ],
 "metadata": {
  "kernelspec": {
   "display_name": "Python 3",
   "language": "python",
   "name": "python3"
  },
  "language_info": {
   "codemirror_mode": {
    "name": "ipython",
    "version": 3
   },
   "file_extension": ".py",
   "mimetype": "text/x-python",
   "name": "python",
   "nbconvert_exporter": "python",
   "pygments_lexer": "ipython3",
   "version": "3.12.1"
  }
 },
 "nbformat": 4,
 "nbformat_minor": 5
}
