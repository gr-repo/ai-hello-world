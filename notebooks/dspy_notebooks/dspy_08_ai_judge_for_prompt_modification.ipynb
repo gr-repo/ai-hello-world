{
 "cells": [
  {
   "cell_type": "markdown",
   "id": "a8ea69d9",
   "metadata": {},
   "source": [
    "# AI as a Judge for Prompt Modification\n",
    "Use AI as a judge to modify a prompt to navigate it through a 'maze'"
   ]
  },
  {
   "cell_type": "code",
   "execution_count": 25,
   "id": "020e84ec",
   "metadata": {},
   "outputs": [
    {
     "name": "stdout",
     "output_type": "stream",
     "text": [
      "Getting keys from environment variables\n"
     ]
    }
   ],
   "source": [
    "import sys\n",
    "import os\n",
    "import dspy \n",
    "\n",
    "import dspy \n",
    "from pydantic import BaseModel, Field, StrictInt, validator\n",
    "from typing import Literal\n",
    "\n",
    "from common.my_settings import MySettings  \n",
    "from common.utils import md\n",
    "from common.llm_client_factory import LlmClientFactory\n",
    "from dspy_utils.dspy_helpers import md_dspy\n",
    "\n",
    "settings = MySettings().get()"
   ]
  },
  {
   "cell_type": "code",
   "execution_count": 26,
   "id": "1938496e",
   "metadata": {},
   "outputs": [],
   "source": [
    "lm = dspy.LM(\n",
    "    'gpt-4.1', \n",
    "    model_type='chat', \n",
    "    cache=False, \n",
    "    api_key=settings.OPENAI_API_KEY,\n",
    "    temperature=0.8     \n",
    ")\n",
    "\n",
    "dspy.configure(lm=lm)"
   ]
  },
  {
   "cell_type": "code",
   "execution_count": 27,
   "id": "eda46631",
   "metadata": {},
   "outputs": [],
   "source": [
    "# lm = dspy.LM(\n",
    "#         \"openai/gpt-5-mini\",\n",
    "#         model_type=\"responses\",\n",
    "#         temperature=1.0,\n",
    "#         max_tokens=16000,\n",
    "#     )\n",
    "\n",
    "# dspy.settings.configure(lm=lm)"
   ]
  },
  {
   "cell_type": "code",
   "execution_count": 28,
   "id": "0efdf5a3",
   "metadata": {},
   "outputs": [
    {
     "name": "stderr",
     "output_type": "stream",
     "text": [
      "/tmp/ipykernel_19986/576065044.py:5: PydanticDeprecatedSince20: Pydantic V1 style `@validator` validators are deprecated. You should migrate to Pydantic V2 style `@field_validator` validators, see the migration guide for more details. Deprecated in Pydantic V2.0 to be removed in V3.0. See Pydantic V2 Migration Guide at https://errors.pydantic.dev/2.11/migration/\n",
      "  @validator(\"weightInKg\")\n"
     ]
    },
    {
     "ename": "TypeError",
     "evalue": "Field `instructions` in `WidgetOrderInstructionCreator` must be declared with InputField or OutputField, but field `instructions` has `field.json_schema_extra=None`",
     "output_type": "error",
     "traceback": [
      "\u001b[31m---------------------------------------------------------------------------\u001b[39m",
      "\u001b[31mTypeError\u001b[39m                                 Traceback (most recent call last)",
      "\u001b[36mCell\u001b[39m\u001b[36m \u001b[39m\u001b[32mIn[28]\u001b[39m\u001b[32m, line 22\u001b[39m\n\u001b[32m     18\u001b[39m     order_placement_instructions: \u001b[38;5;28mstr\u001b[39m = dspy.InputField()\n\u001b[32m     20\u001b[39m     widget: Widget = dspy.OutputField()\n\u001b[32m---> \u001b[39m\u001b[32m22\u001b[39m \u001b[38;5;28;43;01mclass\u001b[39;49;00m\u001b[38;5;250;43m \u001b[39;49m\u001b[34;43;01mWidgetOrderInstructionCreator\u001b[39;49;00m\u001b[43m(\u001b[49m\u001b[43mdspy\u001b[49m\u001b[43m.\u001b[49m\u001b[43mSignature\u001b[49m\u001b[43m)\u001b[49m\u001b[43m:\u001b[49m\n\u001b[32m     23\u001b[39m \u001b[38;5;250;43m    \u001b[39;49m\u001b[33;43;03m\"\"\"\u001b[39;49;00m\n\u001b[32m     24\u001b[39m \u001b[33;43;03m    You are an expert at creating orders for widgets. You use previously provided feedback and widgets order attempts to improve the order placement instructions.\u001b[39;49;00m\n\u001b[32m     25\u001b[39m \u001b[33;43;03m    Create detailed ```order_placement_instructions``` for placing an order for a widget based on the original widget details and instructions.\u001b[39;49;00m\n\u001b[32m     26\u001b[39m \u001b[33;43;03m    Only use the properties of the ```previous_widget``` and the ```order_validator_feedback``` to improve the order placement instructions.\u001b[39;49;00m\n\u001b[32m     27\u001b[39m \u001b[33;43;03m    Keep the instructions as concise as possible and to the point.\u001b[39;49;00m\n\u001b[32m     28\u001b[39m \u001b[33;43;03m    \"\"\"\u001b[39;49;00m\n\u001b[32m     30\u001b[39m \u001b[43m    \u001b[49m\u001b[43mprevious_widget\u001b[49m\u001b[43m:\u001b[49m\u001b[43m \u001b[49m\u001b[43mWidget\u001b[49m\u001b[43m \u001b[49m\u001b[43m=\u001b[49m\u001b[43m \u001b[49m\u001b[43mdspy\u001b[49m\u001b[43m.\u001b[49m\u001b[43mInputField\u001b[49m\u001b[43m(\u001b[49m\u001b[43mdesc\u001b[49m\u001b[43m=\u001b[49m\u001b[33;43m\"\u001b[39;49m\u001b[33;43mThis was the previous widget that was placed in the order and was rejected. If it is None then this is the first attempt to place an order.\u001b[39;49m\u001b[33;43m\"\u001b[39;49m\u001b[43m)\u001b[49m\n",
      "\u001b[36mFile \u001b[39m\u001b[32m/usr/local/python/3.12.1/lib/python3.12/site-packages/dspy/signatures/signature.py:171\u001b[39m, in \u001b[36mSignatureMeta.__new__\u001b[39m\u001b[34m(mcs, signature_name, bases, namespace, **kwargs)\u001b[39m\n\u001b[32m    168\u001b[39m     \u001b[38;5;28mcls\u001b[39m.\u001b[34m__doc__\u001b[39m = _default_instructions(\u001b[38;5;28mcls\u001b[39m)\n\u001b[32m    170\u001b[39m \u001b[38;5;66;03m# Ensure all fields are declared with InputField or OutputField\u001b[39;00m\n\u001b[32m--> \u001b[39m\u001b[32m171\u001b[39m \u001b[38;5;28;43mcls\u001b[39;49m\u001b[43m.\u001b[49m\u001b[43m_validate_fields\u001b[49m\u001b[43m(\u001b[49m\u001b[43m)\u001b[49m\n\u001b[32m    173\u001b[39m \u001b[38;5;66;03m# Ensure all fields have a prefix\u001b[39;00m\n\u001b[32m    174\u001b[39m \u001b[38;5;28;01mfor\u001b[39;00m name, field \u001b[38;5;129;01min\u001b[39;00m \u001b[38;5;28mcls\u001b[39m.model_fields.items():\n",
      "\u001b[36mFile \u001b[39m\u001b[32m/usr/local/python/3.12.1/lib/python3.12/site-packages/dspy/signatures/signature.py:187\u001b[39m, in \u001b[36mSignatureMeta._validate_fields\u001b[39m\u001b[34m(cls)\u001b[39m\n\u001b[32m    185\u001b[39m field_type = extra.get(\u001b[33m\"\u001b[39m\u001b[33m__dspy_field_type\u001b[39m\u001b[33m\"\u001b[39m)\n\u001b[32m    186\u001b[39m \u001b[38;5;28;01mif\u001b[39;00m field_type \u001b[38;5;129;01mnot\u001b[39;00m \u001b[38;5;129;01min\u001b[39;00m [\u001b[33m\"\u001b[39m\u001b[33minput\u001b[39m\u001b[33m\"\u001b[39m, \u001b[33m\"\u001b[39m\u001b[33moutput\u001b[39m\u001b[33m\"\u001b[39m]:\n\u001b[32m--> \u001b[39m\u001b[32m187\u001b[39m     \u001b[38;5;28;01mraise\u001b[39;00m \u001b[38;5;167;01mTypeError\u001b[39;00m(\n\u001b[32m    188\u001b[39m         \u001b[33mf\u001b[39m\u001b[33m\"\u001b[39m\u001b[33mField `\u001b[39m\u001b[38;5;132;01m{\u001b[39;00mname\u001b[38;5;132;01m}\u001b[39;00m\u001b[33m` in `\u001b[39m\u001b[38;5;132;01m{\u001b[39;00m\u001b[38;5;28mcls\u001b[39m.\u001b[34m__name__\u001b[39m\u001b[38;5;132;01m}\u001b[39;00m\u001b[33m` must be declared with InputField or OutputField, but \u001b[39m\u001b[33m\"\u001b[39m\n\u001b[32m    189\u001b[39m         \u001b[33mf\u001b[39m\u001b[33m\"\u001b[39m\u001b[33mfield `\u001b[39m\u001b[38;5;132;01m{\u001b[39;00mname\u001b[38;5;132;01m}\u001b[39;00m\u001b[33m` has `field.json_schema_extra=\u001b[39m\u001b[38;5;132;01m{\u001b[39;00mfield.json_schema_extra\u001b[38;5;132;01m}\u001b[39;00m\u001b[33m`\u001b[39m\u001b[33m\"\u001b[39m,\n\u001b[32m    190\u001b[39m     )\n",
      "\u001b[31mTypeError\u001b[39m: Field `instructions` in `WidgetOrderInstructionCreator` must be declared with InputField or OutputField, but field `instructions` has `field.json_schema_extra=None`"
     ]
    }
   ],
   "source": [
    "class Widget(BaseModel):\n",
    "    shape: Literal[\"round\", \"square\", \"triangle\"] = dspy.OutputField()\n",
    "    weightInKg: StrictInt = dspy.OutputField(desc=\"Must be postive integer\")  \n",
    "    \n",
    "    @validator(\"weightInKg\")\n",
    "    def must_be_positive(cls, v):\n",
    "        if v <= 0:\n",
    "            raise ValueError(\"weightInKg must be > 0\")\n",
    "        return v\n",
    "\n",
    "class WidgetOrder(dspy.Signature):\n",
    "    \"\"\"\n",
    "    Follow the ```order_placement_instructions``` to place an order for a widget. \n",
    "    Double check that the created widget meets the instructions exactly.\n",
    "    ️Go through all the details carefully to ensure accuracy and look at each property and double check the values match the rules\n",
    "    \"\"\"\n",
    "\n",
    "    order_placement_instructions: str = dspy.InputField()\n",
    "\n",
    "    widget: Widget = dspy.OutputField()\n",
    "    \n",
    "class WidgetOrderInstructionCreator(dspy.Signature):\n",
    "    \"\"\"\n",
    "    You are an expert at creating orders for widgets. You use previously provided feedback and widgets order attempts to improve the order placement instructions.\n",
    "    Create detailed ```order_placement_instructions``` for placing an order for a widget based on the original widget details and instructions.\n",
    "    Only use the properties of the ```previous_widget``` and the ```order_validator_feedback``` to improve the order placement instructions.\n",
    "    Keep the instructions as concise as possible and to the point.\n",
    "    \"\"\"\n",
    "\n",
    "    previous_widget: Widget = dspy.InputField(desc=\"This was the previous widget that was placed in the order and was rejected. If it is None then this is the first attempt to place an order.\")\n",
    "    instructions: str = dspy.InputField(desc=\"These are the instructions to use in order to create the order.\")\n",
    "    order_validator_feedback: list[str] = dspy.InputField(desc=\"These feedback from the order validator about why the order was rejected previously, if applicable.\")\n",
    "\n",
    "    order_placement_instructions: str = dspy.OutputField()\n",
    "\n",
    "################################################################\n",
    "# Function to place order\n",
    "\n",
    "def place_order(order: WidgetOrder) -> str:\n",
    "    \"\"\"\n",
    "    Places orders for widgets. Returns 'Valid' if the order is valid, otherwise returns a string with the reason for rejection.\n",
    "\n",
    "    Return: \n",
    "    - str: Returns 'Valid' if the order is valid, otherwise returns a string with the reason for rejection.\n",
    "    \"\"\"\n",
    "\n",
    "    if order.widget.shape.lower() == \"round\" and order.widget.weightInKg <= 5:\n",
    "        msg = \"**Order rejected**: Round widgets cannot weigh less than or equal to 5kg. Try again with a different shape or weight.\"\n",
    "        md(msg)\n",
    "        return msg\n",
    "    \n",
    "    dividor = 4\n",
    "    if (order.widget.weightInKg % dividor) != 0:\n",
    "        msg = f\"**Order rejected**: Widget weight is {order.widget.weightInKg}kg, this must divisible by {dividor}.\"\n",
    "        md(msg)\n",
    "        return msg\n",
    "\n",
    "    return \"Valid\""
   ]
  },
  {
   "cell_type": "code",
   "execution_count": null,
   "id": "97cfb31b",
   "metadata": {},
   "outputs": [
    {
     "data": {
      "text/markdown": [
       "**Original instructions**: Create a round that is 3kg in weight."
      ],
      "text/plain": [
       "<IPython.core.display.Markdown object>"
      ]
     },
     "metadata": {},
     "output_type": "display_data"
    },
    {
     "data": {
      "text/markdown": [
       "### loopCount: 0"
      ],
      "text/plain": [
       "<IPython.core.display.Markdown object>"
      ]
     },
     "metadata": {},
     "output_type": "display_data"
    },
    {
     "data": {
      "text/markdown": [
       "instructions: Create a round that is 3kg in weight."
      ],
      "text/plain": [
       "<IPython.core.display.Markdown object>"
      ]
     },
     "metadata": {},
     "output_type": "display_data"
    },
    {
     "name": "stderr",
     "output_type": "stream",
     "text": [
      "2025/10/19 10:01:51 WARNING dspy.predict.predict: Not all input fields were provided to module. Present: ['previous_widget', 'order_validator_feedback']. Missing: ['previous_instructions'].\n"
     ]
    },
    {
     "data": {
      "text/markdown": [
       "order_instructions: Prediction(  \n",
       "    reasoning='This is the first attempt to place an order and no feedback has been provided. As such, I will provide general order placement instructions appropriate for a standard widget order.',  \n",
       "    order_placement_instructions='Submit an order for the widget with all required specifications, quantities, and delivery details as per standard ordering procedures.'  \n",
       ")"
      ],
      "text/plain": [
       "<IPython.core.display.Markdown object>"
      ]
     },
     "metadata": {},
     "output_type": "display_data"
    },
    {
     "data": {
      "text/markdown": [
       "**Order instructions**: Submit an order for the widget with all required specifications, quantities, and delivery details as per standard ordering procedures."
      ],
      "text/plain": [
       "<IPython.core.display.Markdown object>"
      ]
     },
     "metadata": {},
     "output_type": "display_data"
    },
    {
     "data": {
      "text/markdown": [
       "order_placement_instructions: Submit an order for the widget with all required specifications, quantities, and delivery details as per standard ordering procedures."
      ],
      "text/plain": [
       "<IPython.core.display.Markdown object>"
      ]
     },
     "metadata": {},
     "output_type": "display_data"
    },
    {
     "data": {
      "text/markdown": [
       "**Order created**: Prediction(  \n",
       "    reasoning='The instructions say to submit an order for the widget with all required specifications, but do not provide any specific preferences regarding shape or weight. In such cases, I will use standard/default ordering procedures: select a valid shape option (\"round\", \"square\", or \"triangle\") and a positive integer for weight. To fulfill the requirement, I will choose \"round\" as a common default shape and 1 kg as a positive integer for the weight, which is typically the minimal valid order quantity.',  \n",
       "    widget=Widget(shape='round', weightInKg=1)  \n",
       ")"
      ],
      "text/plain": [
       "<IPython.core.display.Markdown object>"
      ]
     },
     "metadata": {},
     "output_type": "display_data"
    },
    {
     "data": {
      "text/markdown": [
       "**Order rejected**: Round widgets cannot weigh less than or equal to 5kg. Try again with a different shape or weight."
      ],
      "text/plain": [
       "<IPython.core.display.Markdown object>"
      ]
     },
     "metadata": {},
     "output_type": "display_data"
    },
    {
     "data": {
      "text/markdown": [
       "Validator feedback: **Order rejected**: Round widgets cannot weigh less than or equal to 5kg. Try again with a different shape or weight."
      ],
      "text/plain": [
       "<IPython.core.display.Markdown object>"
      ]
     },
     "metadata": {},
     "output_type": "display_data"
    },
    {
     "data": {
      "text/markdown": [
       "### loopCount: 1"
      ],
      "text/plain": [
       "<IPython.core.display.Markdown object>"
      ]
     },
     "metadata": {},
     "output_type": "display_data"
    },
    {
     "data": {
      "text/markdown": [
       "instructions: Submit an order for the widget with all required specifications, quantities, and delivery details as per standard ordering procedures."
      ],
      "text/plain": [
       "<IPython.core.display.Markdown object>"
      ]
     },
     "metadata": {},
     "output_type": "display_data"
    },
    {
     "name": "stderr",
     "output_type": "stream",
     "text": [
      "2025/10/19 10:01:56 WARNING dspy.predict.predict: Not all input fields were provided to module. Present: ['previous_widget', 'order_validator_feedback']. Missing: ['previous_instructions'].\n"
     ]
    },
    {
     "data": {
      "text/markdown": [
       "order_instructions: Prediction(  \n",
       "    reasoning='The feedback indicates that round widgets cannot weigh 5kg or less. Since this is the first attempt, the simplest improvement is to increase the weight above 5kg or to select a different shape if the weight must remain at or below 5kg. To comply, I will specify that the widget should be round and have a weight greater than 5kg.',  \n",
       "    order_placement_instructions='Place an order for a round widget with a weight greater than 5kg.'  \n",
       ")"
      ],
      "text/plain": [
       "<IPython.core.display.Markdown object>"
      ]
     },
     "metadata": {},
     "output_type": "display_data"
    },
    {
     "data": {
      "text/markdown": [
       "**Order instructions**: Place an order for a round widget with a weight greater than 5kg."
      ],
      "text/plain": [
       "<IPython.core.display.Markdown object>"
      ]
     },
     "metadata": {},
     "output_type": "display_data"
    },
    {
     "data": {
      "text/markdown": [
       "order_placement_instructions: Place an order for a round widget with a weight greater than 5kg."
      ],
      "text/plain": [
       "<IPython.core.display.Markdown object>"
      ]
     },
     "metadata": {},
     "output_type": "display_data"
    },
    {
     "data": {
      "text/markdown": [
       "**Order created**: Prediction(  \n",
       "    reasoning='The instructions specify a round widget and the weight must be greater than 5kg. To fulfill this, I will choose the shape as \"round\" and select a weight that is a positive integer greater than 5, such as 6kg. This meets both the shape and weight requirements.',  \n",
       "    widget=Widget(shape='round', weightInKg=6)  \n",
       ")"
      ],
      "text/plain": [
       "<IPython.core.display.Markdown object>"
      ]
     },
     "metadata": {},
     "output_type": "display_data"
    },
    {
     "data": {
      "text/markdown": [
       "**Order rejected**: Widget weight is 6kg, this must divisible by 4."
      ],
      "text/plain": [
       "<IPython.core.display.Markdown object>"
      ]
     },
     "metadata": {},
     "output_type": "display_data"
    },
    {
     "data": {
      "text/markdown": [
       "Validator feedback: **Order rejected**: Round widgets cannot weigh less than or equal to 5kg. Try again with a different shape or weight."
      ],
      "text/plain": [
       "<IPython.core.display.Markdown object>"
      ]
     },
     "metadata": {},
     "output_type": "display_data"
    },
    {
     "data": {
      "text/markdown": [
       "Validator feedback: **Order rejected**: Widget weight is 6kg, this must divisible by 4."
      ],
      "text/plain": [
       "<IPython.core.display.Markdown object>"
      ]
     },
     "metadata": {},
     "output_type": "display_data"
    },
    {
     "data": {
      "text/markdown": [
       "### loopCount: 2"
      ],
      "text/plain": [
       "<IPython.core.display.Markdown object>"
      ]
     },
     "metadata": {},
     "output_type": "display_data"
    },
    {
     "data": {
      "text/markdown": [
       "instructions: Place an order for a round widget with a weight greater than 5kg."
      ],
      "text/plain": [
       "<IPython.core.display.Markdown object>"
      ]
     },
     "metadata": {},
     "output_type": "display_data"
    },
    {
     "name": "stderr",
     "output_type": "stream",
     "text": [
      "2025/10/19 10:02:00 WARNING dspy.predict.predict: Not all input fields were provided to module. Present: ['previous_widget', 'order_validator_feedback']. Missing: ['previous_instructions'].\n"
     ]
    },
    {
     "data": {
      "text/markdown": [
       "order_instructions: Prediction(  \n",
       "    reasoning='The order was rejected for two reasons: 1) the widget was round and weighed less than or equal to 5kg, which is not allowed, and 2) the weight of 6kg is not divisible by 4, which is another requirement. To address both issues, the widget should either have a different shape or weigh more than 5kg, and the weight must be divisible by 4. The simplest solution is to order a widget with a weight that is greater than 5kg and divisible by 4 (such as 8kg). Alternatively, if keeping the weight at 6kg is necessary, the shape must not be round.',  \n",
       "    order_placement_instructions='Order a widget that weighs 8kg (which is greater than 5kg and divisible by 4) and specify that the widget is round.'  \n",
       ")"
      ],
      "text/plain": [
       "<IPython.core.display.Markdown object>"
      ]
     },
     "metadata": {},
     "output_type": "display_data"
    },
    {
     "data": {
      "text/markdown": [
       "**Order instructions**: Order a widget that weighs 8kg (which is greater than 5kg and divisible by 4) and specify that the widget is round."
      ],
      "text/plain": [
       "<IPython.core.display.Markdown object>"
      ]
     },
     "metadata": {},
     "output_type": "display_data"
    },
    {
     "data": {
      "text/markdown": [
       "order_placement_instructions: Order a widget that weighs 8kg (which is greater than 5kg and divisible by 4) and specify that the widget is round."
      ],
      "text/plain": [
       "<IPython.core.display.Markdown object>"
      ]
     },
     "metadata": {},
     "output_type": "display_data"
    },
    {
     "data": {
      "text/markdown": [
       "**Order created**: Prediction(  \n",
       "    reasoning='The instructions request a widget that is round and weighs 8kg. Confirming the constraints: 8kg is greater than 5kg and is divisible by 4 (8 % 4 = 0). The shape must be \"round\". Therefore, the widget should have the shape \"round\" and weightInKg as 8.',  \n",
       "    widget=Widget(shape='round', weightInKg=8)  \n",
       ")"
      ],
      "text/plain": [
       "<IPython.core.display.Markdown object>"
      ]
     },
     "metadata": {},
     "output_type": "display_data"
    },
    {
     "data": {
      "text/markdown": [
       "\n",
       "\n",
       "### Order placed successfully!"
      ],
      "text/plain": [
       "<IPython.core.display.Markdown object>"
      ]
     },
     "metadata": {},
     "output_type": "display_data"
    }
   ],
   "source": [
    "create_order = dspy.ChainOfThought(WidgetOrder)\n",
    "create_order_instructions = dspy.ChainOfThought(WidgetOrderInstructionCreator)\n",
    "\n",
    "################################################################\n",
    "# Place order \n",
    "\n",
    "loopCount = 0\n",
    "\n",
    "instructions = \"Create a round that is 3kg in weight.\"\n",
    "widget = None\n",
    "order_validator_feedback = []\n",
    "\n",
    "md(\"**Original instructions**: \", instructions)\n",
    "\n",
    "while loopCount < 5:\n",
    "    md(\"### loopCount: \", loopCount)\n",
    "    \n",
    "    md('instructions: ', instructions)\n",
    "    order_instructions = create_order_instructions(previous_widget=widget, instructions=instructions, order_validator_feedback=order_validator_feedback)\n",
    "    md(\"order_instructions: \", order_instructions)\n",
    "    instructions = order_instructions.order_placement_instructions\n",
    "    md(\"**Order instructions**: \", instructions)\n",
    "    \n",
    "    md(\"order_placement_instructions: \", instructions)\n",
    "    order = create_order(order_placement_instructions=instructions)\n",
    "    md(\"**Order created**: \", order)\n",
    "    \n",
    "    response = place_order(order=order)\n",
    "    \n",
    "    if response == \"Valid\":\n",
    "        md(\"\", \"### Order placed successfully!\")\n",
    "        break\n",
    "    \n",
    "    order_validator_feedback.append(response)\n",
    "    for _ in order_validator_feedback:\n",
    "        md(\"Validator feedback: \", _)\n",
    "\n",
    "    loopCount += 1"
   ]
  }
 ],
 "metadata": {
  "kernelspec": {
   "display_name": "Python 3",
   "language": "python",
   "name": "python3"
  },
  "language_info": {
   "codemirror_mode": {
    "name": "ipython",
    "version": 3
   },
   "file_extension": ".py",
   "mimetype": "text/x-python",
   "name": "python",
   "nbconvert_exporter": "python",
   "pygments_lexer": "ipython3",
   "version": "3.12.1"
  }
 },
 "nbformat": 4,
 "nbformat_minor": 5
}
