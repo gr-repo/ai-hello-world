{
 "cells": [
  {
   "cell_type": "markdown",
   "id": "a8ea69d9",
   "metadata": {},
   "source": [
    "# AI as a Judge for Prompt Modification\n",
    "Use AI as a judge to modify a prompt to navigate it through a 'maze'"
   ]
  },
  {
   "cell_type": "code",
   "execution_count": 42,
   "id": "020e84ec",
   "metadata": {},
   "outputs": [
    {
     "name": "stdout",
     "output_type": "stream",
     "text": [
      "Getting keys from environment variables\n"
     ]
    }
   ],
   "source": [
    "import sys\n",
    "import os\n",
    "import dspy \n",
    "\n",
    "import dspy \n",
    "from pydantic import BaseModel, Field, StrictInt, validator\n",
    "from typing import Literal\n",
    "\n",
    "from common.my_settings import MySettings  \n",
    "from common.utils import md\n",
    "from common.llm_client_factory import LlmClientFactory\n",
    "from dspy_utils.dspy_helpers import md_dspy\n",
    "\n",
    "settings = MySettings().get()"
   ]
  },
  {
   "cell_type": "code",
   "execution_count": 43,
   "id": "1938496e",
   "metadata": {},
   "outputs": [],
   "source": [
    "lm = dspy.LM(\n",
    "    'gpt-4.1', \n",
    "    model_type='chat', \n",
    "    cache=False, \n",
    "    api_key=settings.OPENAI_API_KEY,\n",
    "    temperature=0.8     \n",
    ")\n",
    "\n",
    "dspy.configure(lm=lm)"
   ]
  },
  {
   "cell_type": "code",
   "execution_count": 44,
   "id": "0efdf5a3",
   "metadata": {},
   "outputs": [
    {
     "name": "stderr",
     "output_type": "stream",
     "text": [
      "/tmp/ipykernel_35665/2363346066.py:6: PydanticDeprecatedSince20: Pydantic V1 style `@validator` validators are deprecated. You should migrate to Pydantic V2 style `@field_validator` validators, see the migration guide for more details. Deprecated in Pydantic V2.0 to be removed in V3.0. See Pydantic V2 Migration Guide at https://errors.pydantic.dev/2.11/migration/\n",
      "  @validator(\"weightInKg\")\n"
     ]
    }
   ],
   "source": [
    "class Widget(BaseModel):\n",
    "    shape: Literal[\"round\", \"square\", \"triangle\"] = dspy.OutputField()\n",
    "    weightInKg: StrictInt = dspy.OutputField(desc=\"Must be postive integer\")\n",
    "    colour: str = dspy.OutputField(desc=\"Colour of the widget\")\n",
    "    \n",
    "    @validator(\"weightInKg\")\n",
    "    def must_be_positive(cls, v):\n",
    "        if v <= 0:\n",
    "            raise ValueError(\"weightInKg must be > 0\")\n",
    "        return v\n",
    "\n",
    "class WidgetOrder(dspy.Signature):\n",
    "    \"\"\"\n",
    "    Follow the `order_placement_instructions` to place an order for a widget. \n",
    "    Double check that the created widget meets the instructions exactly.\n",
    "    Go through all the details carefully to ensure accuracy and look at each property and double check the values match the rules\n",
    "    \"\"\"\n",
    "\n",
    "    order_placement_instructions: str = dspy.InputField()\n",
    "\n",
    "    widget: Widget = dspy.OutputField()\n",
    "    \n",
    "class WidgetOrderInstructionCreator(dspy.Signature):\n",
    "    \"\"\"\n",
    "    You are an expert at creating orders for widgets. You use previously provided feedback and widgets order attempts to improve the order placement instructions.\n",
    "    Create detailed `order_placement_instructions` for placing an order for a widget based on the original widget details and instructions.\n",
    "    Only use the properties of the `previous_widget` and the `order_validator_feedback` to improve the order placement instructions.\n",
    "    Keep the instructions as concise as possible and to the point.\n",
    "    \"\"\"\n",
    "\n",
    "    order_instructions: str = dspy.InputField(desc=\"These are the instructions to use in order to create the order.\")\n",
    "    previous_widget: Widget = dspy.InputField(desc=\"This was the previous widget that was placed in the order and was rejected. If it is None then this is the first attempt to place an order.\")\n",
    "    order_validator_feedback: list[str] = dspy.InputField(desc=\"These feedback from the order validator about why the order was rejected previously, if applicable.\")\n",
    "\n",
    "    order_placement_instructions: str = dspy.OutputField()\n",
    "\n",
    "################################################################\n",
    "# Function to place order, it has the validation rules in it\n",
    "\n",
    "def place_order(order: WidgetOrder) -> str:\n",
    "    \"\"\"\n",
    "    Places orders for widgets. Returns 'Valid' if the order is valid, otherwise returns a string with the reason for rejection.\n",
    "\n",
    "    Return: \n",
    "    - str: Returns 'Valid' if the order is valid, otherwise returns a string with the reason for rejection.\n",
    "    \"\"\"\n",
    "\n",
    "    # Rule 1: \n",
    "    if order.widget.shape.lower() == \"round\" and order.widget.weightInKg <= 5:\n",
    "        msg = f\"\"\"**Order rejected**: Round widgets cannot weight less than or equal to 5kg. You tried to place an order with a `weightInKg`={order.widget.weightInKg} \n",
    "        Try again with a different shape or weight.\"\"\"\n",
    "        md(msg)\n",
    "        return msg\n",
    "    \n",
    "    # Rule 2:\n",
    "    dividor = 4\n",
    "    if (order.widget.weightInKg % dividor) != 0:\n",
    "        msg = f\"**Order rejected**: Widget weight is {order.widget.weightInKg}kg, this must divisible by {dividor}.\"\n",
    "        md(msg)\n",
    "        return msg\n",
    "    \n",
    "    # Rule 3: \n",
    "    if order.widget.colour.lower() == \"red\":\n",
    "        msg = \"**Order rejected**: The `colour` chosen is red. We cannot make 'red' widgets at the moment, choose a different colour.\"\n",
    "        md(msg)\n",
    "        return msg\n",
    "\n",
    "    return \"Valid\""
   ]
  },
  {
   "cell_type": "code",
   "execution_count": null,
   "id": "97cfb31b",
   "metadata": {},
   "outputs": [
    {
     "data": {
      "text/markdown": [
       "**Original instructions**: Create a red widget that is round and 3kg in weight."
      ],
      "text/plain": [
       "<IPython.core.display.Markdown object>"
      ]
     },
     "metadata": {},
     "output_type": "display_data"
    },
    {
     "data": {
      "text/markdown": [
       "# loopCount: 0"
      ],
      "text/plain": [
       "<IPython.core.display.Markdown object>"
      ]
     },
     "metadata": {},
     "output_type": "display_data"
    },
    {
     "data": {
      "text/markdown": [
       "## Create order instructions "
      ],
      "text/plain": [
       "<IPython.core.display.Markdown object>"
      ]
     },
     "metadata": {},
     "output_type": "display_data"
    },
    {
     "data": {
      "text/markdown": [
       "instructions: Create a red widget that is round and 3kg in weight."
      ],
      "text/plain": [
       "<IPython.core.display.Markdown object>"
      ]
     },
     "metadata": {},
     "output_type": "display_data"
    },
    {
     "data": {
      "text/markdown": [
       "order_validator_feedback: []"
      ],
      "text/plain": [
       "<IPython.core.display.Markdown object>"
      ]
     },
     "metadata": {},
     "output_type": "display_data"
    },
    {
     "data": {
      "text/markdown": [
       "order_instructions created: Prediction(  \n",
       "    reasoning='This is the first attempt to place the order, so there is no feedback or previous widget to consider. The instructions are clear: the widget must be red, have a round shape, and weigh 3kg. All requirements are straightforward and should be specified explicitly in the placement instructions.',  \n",
       "    order_placement_instructions='Order a widget with the following specifications:\\n- Color: Red\\n- Shape: Round\\n- Weight: 3kg'  \n",
       ")"
      ],
      "text/plain": [
       "<IPython.core.display.Markdown object>"
      ]
     },
     "metadata": {},
     "output_type": "display_data"
    },
    {
     "data": {
      "text/markdown": [
       "**Order instructions**: Order a widget with the following specifications:  \n",
       "- Color: Red  \n",
       "- Shape: Round  \n",
       "- Weight: 3kg"
      ],
      "text/plain": [
       "<IPython.core.display.Markdown object>"
      ]
     },
     "metadata": {},
     "output_type": "display_data"
    },
    {
     "data": {
      "text/markdown": [
       "## Create order object"
      ],
      "text/plain": [
       "<IPython.core.display.Markdown object>"
      ]
     },
     "metadata": {},
     "output_type": "display_data"
    },
    {
     "data": {
      "text/markdown": [
       "order_placement_instructions: Order a widget with the following specifications:  \n",
       "- Color: Red  \n",
       "- Shape: Round  \n",
       "- Weight: 3kg"
      ],
      "text/plain": [
       "<IPython.core.display.Markdown object>"
      ]
     },
     "metadata": {},
     "output_type": "display_data"
    },
    {
     "data": {
      "text/markdown": [
       "**Order object created**: Prediction(  \n",
       "    reasoning='The order placement instructions specify that the widget must be red in color, round in shape, and weigh 3kg. I will assign the `colour` property as \"Red\", the `shape` property as \"round\", and the `weightInKg` property as 3. All the required fields are matched exactly to the instructions. The shape value \"round\" is one of the allowed options (\"round\", \"square\", \"triangle\"), and the weight is a positive integer.',  \n",
       "    widget=Widget(shape='round', weightInKg=3, colour='Red')  \n",
       ")"
      ],
      "text/plain": [
       "<IPython.core.display.Markdown object>"
      ]
     },
     "metadata": {},
     "output_type": "display_data"
    },
    {
     "data": {
      "text/markdown": [
       "order.widget: ***shape='round' weightInKg=3 colour='Red'***"
      ],
      "text/plain": [
       "<IPython.core.display.Markdown object>"
      ]
     },
     "metadata": {},
     "output_type": "display_data"
    },
    {
     "data": {
      "text/markdown": [
       "## Place order & validate"
      ],
      "text/plain": [
       "<IPython.core.display.Markdown object>"
      ]
     },
     "metadata": {},
     "output_type": "display_data"
    },
    {
     "data": {
      "text/markdown": [
       "**Order rejected**: Round widgets cannot weight less than or equal to 5kg. You tried to place an order with a `weightInKg`=3   \n",
       "        Try again with a different shape or weight."
      ],
      "text/plain": [
       "<IPython.core.display.Markdown object>"
      ]
     },
     "metadata": {},
     "output_type": "display_data"
    },
    {
     "data": {
      "text/markdown": [
       "**Cumulative validator feedback**: "
      ],
      "text/plain": [
       "<IPython.core.display.Markdown object>"
      ]
     },
     "metadata": {},
     "output_type": "display_data"
    },
    {
     "data": {
      "text/markdown": [
       "1. **Order rejected**: Round widgets cannot weight less than or equal to 5kg. You tried to place an order with a `weightInKg`=3   \n",
       "        Try again with a different shape or weight. "
      ],
      "text/plain": [
       "<IPython.core.display.Markdown object>"
      ]
     },
     "metadata": {},
     "output_type": "display_data"
    },
    {
     "data": {
      "text/markdown": [
       "# loopCount: 1"
      ],
      "text/plain": [
       "<IPython.core.display.Markdown object>"
      ]
     },
     "metadata": {},
     "output_type": "display_data"
    },
    {
     "data": {
      "text/markdown": [
       "## Create order instructions "
      ],
      "text/plain": [
       "<IPython.core.display.Markdown object>"
      ]
     },
     "metadata": {},
     "output_type": "display_data"
    },
    {
     "data": {
      "text/markdown": [
       "instructions: Order a widget with the following specifications:  \n",
       "- Color: Red  \n",
       "- Shape: Round  \n",
       "- Weight: 3kg"
      ],
      "text/plain": [
       "<IPython.core.display.Markdown object>"
      ]
     },
     "metadata": {},
     "output_type": "display_data"
    },
    {
     "data": {
      "text/markdown": [
       "order_validator_feedback: ['**Order rejected**: Round widgets cannot weight less than or equal to 5kg. You tried to place an order with a `weightInKg`=3 \\n        Try again with a different shape or weight.']"
      ],
      "text/plain": [
       "<IPython.core.display.Markdown object>"
      ]
     },
     "metadata": {},
     "output_type": "display_data"
    },
    {
     "data": {
      "text/markdown": [
       "order_instructions created: Prediction(  \n",
       "    reasoning='The previous order was rejected because a round widget cannot have a weight less than or equal to 5kg. The original order specified a round shape and a weight of 3kg, which violates this rule. To successfully place the order, I must either increase the weight to above 5kg or choose a different shape while maintaining the other specifications.',  \n",
       "    order_placement_instructions='Order a widget with the following specifications:\\n- Color: Red\\n- Shape: Round\\n- Weight: 6kg'  \n",
       ")"
      ],
      "text/plain": [
       "<IPython.core.display.Markdown object>"
      ]
     },
     "metadata": {},
     "output_type": "display_data"
    },
    {
     "data": {
      "text/markdown": [
       "**Order instructions**: Order a widget with the following specifications:  \n",
       "- Color: Red  \n",
       "- Shape: Round  \n",
       "- Weight: 6kg"
      ],
      "text/plain": [
       "<IPython.core.display.Markdown object>"
      ]
     },
     "metadata": {},
     "output_type": "display_data"
    },
    {
     "data": {
      "text/markdown": [
       "## Create order object"
      ],
      "text/plain": [
       "<IPython.core.display.Markdown object>"
      ]
     },
     "metadata": {},
     "output_type": "display_data"
    },
    {
     "data": {
      "text/markdown": [
       "order_placement_instructions: Order a widget with the following specifications:  \n",
       "- Color: Red  \n",
       "- Shape: Round  \n",
       "- Weight: 6kg"
      ],
      "text/plain": [
       "<IPython.core.display.Markdown object>"
      ]
     },
     "metadata": {},
     "output_type": "display_data"
    },
    {
     "data": {
      "text/markdown": [
       "**Order object created**: Prediction(  \n",
       "    reasoning='The instructions specify the following: color should be Red, shape should be Round, and weight should be 6kg. I will make sure that each of these values is matched exactly in the widget. The color will be set to \"Red\", the shape will be \"round\" (matching the enum options: round, square, triangle), and the weightInKg will be 6 (a positive integer).',  \n",
       "    widget=Widget(shape='round', weightInKg=6, colour='Red')  \n",
       ")"
      ],
      "text/plain": [
       "<IPython.core.display.Markdown object>"
      ]
     },
     "metadata": {},
     "output_type": "display_data"
    },
    {
     "data": {
      "text/markdown": [
       "order.widget: ***shape='round' weightInKg=6 colour='Red'***"
      ],
      "text/plain": [
       "<IPython.core.display.Markdown object>"
      ]
     },
     "metadata": {},
     "output_type": "display_data"
    },
    {
     "data": {
      "text/markdown": [
       "## Place order & validate"
      ],
      "text/plain": [
       "<IPython.core.display.Markdown object>"
      ]
     },
     "metadata": {},
     "output_type": "display_data"
    },
    {
     "data": {
      "text/markdown": [
       "**Order rejected**: Widget weight is 6kg, this must divisible by 4."
      ],
      "text/plain": [
       "<IPython.core.display.Markdown object>"
      ]
     },
     "metadata": {},
     "output_type": "display_data"
    },
    {
     "data": {
      "text/markdown": [
       "**Cumulative validator feedback**: "
      ],
      "text/plain": [
       "<IPython.core.display.Markdown object>"
      ]
     },
     "metadata": {},
     "output_type": "display_data"
    },
    {
     "data": {
      "text/markdown": [
       "1. **Order rejected**: Round widgets cannot weight less than or equal to 5kg. You tried to place an order with a `weightInKg`=3   \n",
       "        Try again with a different shape or weight. 1. **Order rejected**: Widget weight is 6kg, this must divisible by 4. "
      ],
      "text/plain": [
       "<IPython.core.display.Markdown object>"
      ]
     },
     "metadata": {},
     "output_type": "display_data"
    },
    {
     "data": {
      "text/markdown": [
       "# loopCount: 2"
      ],
      "text/plain": [
       "<IPython.core.display.Markdown object>"
      ]
     },
     "metadata": {},
     "output_type": "display_data"
    },
    {
     "data": {
      "text/markdown": [
       "## Create order instructions "
      ],
      "text/plain": [
       "<IPython.core.display.Markdown object>"
      ]
     },
     "metadata": {},
     "output_type": "display_data"
    },
    {
     "data": {
      "text/markdown": [
       "instructions: Order a widget with the following specifications:  \n",
       "- Color: Red  \n",
       "- Shape: Round  \n",
       "- Weight: 6kg"
      ],
      "text/plain": [
       "<IPython.core.display.Markdown object>"
      ]
     },
     "metadata": {},
     "output_type": "display_data"
    },
    {
     "data": {
      "text/markdown": [
       "order_validator_feedback: ['**Order rejected**: Round widgets cannot weight less than or equal to 5kg. You tried to place an order with a `weightInKg`=3 \\n        Try again with a different shape or weight.', '**Order rejected**: Widget weight is 6kg, this must divisible by 4.']"
      ],
      "text/plain": [
       "<IPython.core.display.Markdown object>"
      ]
     },
     "metadata": {},
     "output_type": "display_data"
    },
    {
     "data": {
      "text/markdown": [
       "order_instructions created: Prediction(  \n",
       "    reasoning=\"The feedback indicates two issues with previous order attempts: (1) Round widgets must weigh more than 5kg (which 6kg satisfies), and (2) the weight for the widget must be divisible by 4. The current requested weight is 6kg, which isn't divisible by 4; the closest valid weights above 5kg and divisible by 4 are 8kg or 12kg. Therefore, to meet all requirements, the order should specify a weight of 8kg.\",  \n",
       "    order_placement_instructions='Order a widget with the following specifications:\\n- Color: Red\\n- Shape: Round\\n- Weight: 8kg'  \n",
       ")"
      ],
      "text/plain": [
       "<IPython.core.display.Markdown object>"
      ]
     },
     "metadata": {},
     "output_type": "display_data"
    },
    {
     "data": {
      "text/markdown": [
       "**Order instructions**: Order a widget with the following specifications:  \n",
       "- Color: Red  \n",
       "- Shape: Round  \n",
       "- Weight: 8kg"
      ],
      "text/plain": [
       "<IPython.core.display.Markdown object>"
      ]
     },
     "metadata": {},
     "output_type": "display_data"
    },
    {
     "data": {
      "text/markdown": [
       "## Create order object"
      ],
      "text/plain": [
       "<IPython.core.display.Markdown object>"
      ]
     },
     "metadata": {},
     "output_type": "display_data"
    },
    {
     "data": {
      "text/markdown": [
       "order_placement_instructions: Order a widget with the following specifications:  \n",
       "- Color: Red  \n",
       "- Shape: Round  \n",
       "- Weight: 8kg"
      ],
      "text/plain": [
       "<IPython.core.display.Markdown object>"
      ]
     },
     "metadata": {},
     "output_type": "display_data"
    },
    {
     "data": {
      "text/markdown": [
       "**Order object created**: Prediction(  \n",
       "    reasoning='The order specifies a widget that is red in color, round in shape, and weighs 8kg. I have verified each instruction:\\n- The color should be set to \"Red\".\\n- The shape should be \"round\", which is among the allowed shapes (\"round\", \"square\", \"triangle\").\\n- The weight should be 8, which is a positive integer.\\nAll specifications are clearly stated and match the schema.',  \n",
       "    widget=Widget(shape='round', weightInKg=8, colour='Red')  \n",
       ")"
      ],
      "text/plain": [
       "<IPython.core.display.Markdown object>"
      ]
     },
     "metadata": {},
     "output_type": "display_data"
    },
    {
     "data": {
      "text/markdown": [
       "order.widget: ***shape='round' weightInKg=8 colour='Red'***"
      ],
      "text/plain": [
       "<IPython.core.display.Markdown object>"
      ]
     },
     "metadata": {},
     "output_type": "display_data"
    },
    {
     "data": {
      "text/markdown": [
       "## Place order & validate"
      ],
      "text/plain": [
       "<IPython.core.display.Markdown object>"
      ]
     },
     "metadata": {},
     "output_type": "display_data"
    },
    {
     "data": {
      "text/markdown": [
       "**Order rejected**: The `colour` chosen is red. We cannot make 'red' widgets at the moment, choose a different colour."
      ],
      "text/plain": [
       "<IPython.core.display.Markdown object>"
      ]
     },
     "metadata": {},
     "output_type": "display_data"
    },
    {
     "data": {
      "text/markdown": [
       "**Cumulative validator feedback**: "
      ],
      "text/plain": [
       "<IPython.core.display.Markdown object>"
      ]
     },
     "metadata": {},
     "output_type": "display_data"
    },
    {
     "data": {
      "text/markdown": [
       "1. **Order rejected**: Round widgets cannot weight less than or equal to 5kg. You tried to place an order with a `weightInKg`=3   \n",
       "        Try again with a different shape or weight. 1. **Order rejected**: Widget weight is 6kg, this must divisible by 4. 1. **Order rejected**: The `colour` chosen is red. We cannot make 'red' widgets at the moment, choose a different colour. "
      ],
      "text/plain": [
       "<IPython.core.display.Markdown object>"
      ]
     },
     "metadata": {},
     "output_type": "display_data"
    },
    {
     "data": {
      "text/markdown": [
       "# loopCount: 3"
      ],
      "text/plain": [
       "<IPython.core.display.Markdown object>"
      ]
     },
     "metadata": {},
     "output_type": "display_data"
    },
    {
     "data": {
      "text/markdown": [
       "## Create order instructions "
      ],
      "text/plain": [
       "<IPython.core.display.Markdown object>"
      ]
     },
     "metadata": {},
     "output_type": "display_data"
    },
    {
     "data": {
      "text/markdown": [
       "instructions: Order a widget with the following specifications:  \n",
       "- Color: Red  \n",
       "- Shape: Round  \n",
       "- Weight: 8kg"
      ],
      "text/plain": [
       "<IPython.core.display.Markdown object>"
      ]
     },
     "metadata": {},
     "output_type": "display_data"
    },
    {
     "data": {
      "text/markdown": [
       "order_validator_feedback: ['**Order rejected**: Round widgets cannot weight less than or equal to 5kg. You tried to place an order with a `weightInKg`=3 \\n        Try again with a different shape or weight.', '**Order rejected**: Widget weight is 6kg, this must divisible by 4.', \"**Order rejected**: The `colour` chosen is red. We cannot make 'red' widgets at the moment, choose a different colour.\"]"
      ],
      "text/plain": [
       "<IPython.core.display.Markdown object>"
      ]
     },
     "metadata": {},
     "output_type": "display_data"
    },
    {
     "data": {
      "text/markdown": [
       "order_instructions created: Prediction(  \n",
       "    reasoning='There are three main issues noted in the feedback:\\n1. Red widgets cannot be ordered at this time, so a different color must be chosen.\\n2. Round widgets must weigh more than 5kg, and the weight must be divisible by 4.\\n3. Previous attempts used weights of 3kg and 6kg, but 6 is not divisible by 4, and 3kg is too light.\\nTo meet all requirements, I need to select a weight greater than 5kg that is also divisible by 4 (the next possible value is 8kg, which matches the original instructions), and choose a color other than red.',  \n",
       "    order_placement_instructions='Order a widget with the following specifications:\\n- Color: Blue (or any available color except red)\\n- Shape: Round\\n- Weight: 8kg'  \n",
       ")"
      ],
      "text/plain": [
       "<IPython.core.display.Markdown object>"
      ]
     },
     "metadata": {},
     "output_type": "display_data"
    },
    {
     "data": {
      "text/markdown": [
       "**Order instructions**: Order a widget with the following specifications:  \n",
       "- Color: Blue (or any available color except red)  \n",
       "- Shape: Round  \n",
       "- Weight: 8kg"
      ],
      "text/plain": [
       "<IPython.core.display.Markdown object>"
      ]
     },
     "metadata": {},
     "output_type": "display_data"
    },
    {
     "data": {
      "text/markdown": [
       "## Create order object"
      ],
      "text/plain": [
       "<IPython.core.display.Markdown object>"
      ]
     },
     "metadata": {},
     "output_type": "display_data"
    },
    {
     "data": {
      "text/markdown": [
       "order_placement_instructions: Order a widget with the following specifications:  \n",
       "- Color: Blue (or any available color except red)  \n",
       "- Shape: Round  \n",
       "- Weight: 8kg"
      ],
      "text/plain": [
       "<IPython.core.display.Markdown object>"
      ]
     },
     "metadata": {},
     "output_type": "display_data"
    },
    {
     "data": {
      "text/markdown": [
       "**Order object created**: Prediction(  \n",
       "    reasoning='The instructions specify a blue widget, or any color except red if blue is unavailable. Since blue is available, I will choose blue. The shape must be round, and the weight must be 8kg, which is a positive integer. All parameters are met exactly as requested.',  \n",
       "    widget=Widget(shape='round', weightInKg=8, colour='blue')  \n",
       ")"
      ],
      "text/plain": [
       "<IPython.core.display.Markdown object>"
      ]
     },
     "metadata": {},
     "output_type": "display_data"
    },
    {
     "data": {
      "text/markdown": [
       "order.widget: ***shape='round' weightInKg=8 colour='blue'***"
      ],
      "text/plain": [
       "<IPython.core.display.Markdown object>"
      ]
     },
     "metadata": {},
     "output_type": "display_data"
    },
    {
     "data": {
      "text/markdown": [
       "## Place order & validate"
      ],
      "text/plain": [
       "<IPython.core.display.Markdown object>"
      ]
     },
     "metadata": {},
     "output_type": "display_data"
    },
    {
     "data": {
      "text/markdown": [
       "\n",
       "\n",
       "### Order placed successfully"
      ],
      "text/plain": [
       "<IPython.core.display.Markdown object>"
      ]
     },
     "metadata": {},
     "output_type": "display_data"
    }
   ],
   "source": [
    "create_order = dspy.ChainOfThought(WidgetOrder)\n",
    "create_order_instructions = dspy.ChainOfThought(WidgetOrderInstructionCreator)\n",
    "\n",
    "################################################################\n",
    "# Place order \n",
    "\n",
    "loopCount = 0\n",
    "\n",
    "instructions = \"Create a red widget that is round and 3kg in weight.\" # Will hit the first rule\n",
    "#instructions = \"Create a widget that is a triangle and 3kg in weight.\" # Miss first rule and hit divisor rule\n",
    "widget = None\n",
    "order_validator_feedback = []\n",
    "\n",
    "md(\"**Original instructions**: \", instructions)\n",
    "\n",
    "while loopCount < 5:\n",
    "    md(\"# loopCount: \", loopCount)\n",
    "    \n",
    "    ##########################################################\n",
    "    md(\"## Create order instructions \")\n",
    "    md('instructions: ', instructions)\n",
    "    md('order_validator_feedback: ', order_validator_feedback)\n",
    "    order_instructions = create_order_instructions(previous_widget=widget, order_instructions=instructions, order_validator_feedback=order_validator_feedback)\n",
    "    md(\"order_instructions created: \", order_instructions)\n",
    "    instructions = order_instructions.order_placement_instructions\n",
    "    md(\"**Order instructions**: \", instructions)\n",
    "    \n",
    "    ##########################################################\n",
    "    md(\"## Create order object\")\n",
    "    \n",
    "    md(\"order_placement_instructions: \", instructions)\n",
    "    order = create_order(order_placement_instructions=instructions)\n",
    "    md(\"**Order object created**: \", order)\n",
    "    md('order.widget: ***', order.widget, '***')\n",
    "    \n",
    "    ##########################################################\n",
    "    md(\"## Place order & validate\")\n",
    "    response = place_order(order=order)\n",
    "    \n",
    "    if response == \"Valid\":\n",
    "        md(\"\", \"### Order placed successfully\")\n",
    "        break\n",
    "    \n",
    "    order_validator_feedback.append(response)\n",
    "    md(\"**Cumulative validator feedback**: \")\n",
    "    msgs = []\n",
    "    for i in range(len(order_validator_feedback)):\n",
    "        #msgs.append(f\"* {i+1}. {order_validator_feedback[i]}\")\n",
    "        md(f\"* {i+1}: {order_validator_feedback[i]}\")\n",
    "        \n",
    "    #md(\"\".join(msgs)) \n",
    "\n",
    "    loopCount += 1"
   ]
  }
 ],
 "metadata": {
  "kernelspec": {
   "display_name": "Python 3",
   "language": "python",
   "name": "python3"
  },
  "language_info": {
   "codemirror_mode": {
    "name": "ipython",
    "version": 3
   },
   "file_extension": ".py",
   "mimetype": "text/x-python",
   "name": "python",
   "nbconvert_exporter": "python",
   "pygments_lexer": "ipython3",
   "version": "3.12.1"
  }
 },
 "nbformat": 4,
 "nbformat_minor": 5
}
