{
 "cells": [
  {
   "cell_type": "markdown",
   "metadata": {},
   "source": [
    "# Simple DSPy Hello World Example\n",
    "\n"
   ]
  },
  {
   "cell_type": "code",
   "execution_count": 4,
   "metadata": {},
   "outputs": [
    {
     "name": "stdout",
     "output_type": "stream",
     "text": [
      "API key found: sk-proj-...\n"
     ]
    }
   ],
   "source": [
    "#!pip install dspy\n",
    "import os\n",
    "\n",
    "# Check if API key is set\n",
    "api_key = os.getenv(\"OPENAI_API_KEY\")\n",
    "if api_key:\n",
    "    print(f\"API key found: {api_key[:8]}...\")\n",
    "else:\n",
    "    print(\"⚠️ OPENAI_API_KEY not found in environment variables\")"
   ]
  },
  {
   "cell_type": "code",
   "execution_count": 5,
   "metadata": {},
   "outputs": [
    {
     "name": "stdout",
     "output_type": "stream",
     "text": [
      "Certainly! The **Moon** is Earth’s only natural satellite and the fifth largest moon in our solar system. Here are some key facts and interesting details about the Moon:\n",
      "\n",
      "### Basic Facts\n",
      "- **Distance from Earth:** About 384,400 km (238,855 miles) on average.\n",
      "- **Diameter:** About 3,474 km (2,159 miles), roughly 1/4 the diameter of Earth.\n",
      "- **Gravity:** About 1/6th of Earth’s gravity.\n",
      "- **Orbital Period:** It takes about 27.3 days to orbit Earth (sidereal month), but the phases of the Moon repeat every 29.5 days (synodic month).\n",
      "\n",
      "### Surface and Features\n",
      "- The Moon’s surface is covered with **craters**, **mountains**, and **maria** (dark, basaltic plains formed by ancient volcanic eruptions).\n",
      "- The **far side** of the Moon (sometimes called the \"dark side,\" though it receives sunlight too) has more craters and fewer maria than the side facing Earth.\n",
      "- There is no atmosphere, so the sky is always black, and temperatures swing dramatically from very hot in sunlight to extremely cold in shadow.\n",
      "\n",
      "### Phases\n",
      "The Moon goes through a cycle of phases each month:\n",
      "- **New Moon**\n",
      "- **Waxing Crescent**\n",
      "- **First Quarter**\n",
      "- **Waxing Gibbous**\n",
      "- **Full Moon**\n",
      "- **Waning Gibbous**\n",
      "- **Last Quarter**\n",
      "- **Waning Crescent**\n",
      "\n",
      "### Tides\n",
      "The Moon’s gravity causes **tides** on Earth, pulling on the oceans and causing them to bulge out in the direction of the Moon.\n",
      "\n",
      "### Exploration\n",
      "- The Moon was first visited by the Soviet spacecraft **Luna 2** in 1959.\n",
      "- The first humans landed on the Moon during **Apollo 11** in 1969, with Neil Armstrong and Buzz Aldrin walking on its surface.\n",
      "- Since then, several missions have explored the Moon, and there are plans for future missions, including possible lunar bases.\n",
      "\n",
      "### Myths and Culture\n",
      "- The Moon has been a source of inspiration in mythology, literature, and art across cultures.\n",
      "- It is often associated with femininity, cycles, and timekeeping.\n",
      "\n",
      "### Scientific Importance\n",
      "- Studying the Moon helps scientists understand the history of the solar system.\n",
      "- The Moon preserves a record of impacts and conditions from billions of years ago, unlike Earth, where weather and tectonics erase such evidence.\n",
      "\n",
      "If you have more specific questions about the Moon, feel free to ask!\n"
     ]
    }
   ],
   "source": [
    "import dspy \n",
    "import os\n",
    "\n",
    "lm = dspy.LM(\n",
    "    'gpt-4.1',  # Changed from gpt-4o to gpt-3.5-turbo\n",
    "    model_type='chat', \n",
    "    cache=False, \n",
    "    api_key=os.getenv(\"OPENAI_API_KEY\")\n",
    ")\n",
    "\n",
    "dspy.configure(lm=lm)\n",
    "output = lm('Tell me about the moon')[0]\n",
    "\n",
    "print(output)"
   ]
  },
  {
   "cell_type": "code",
   "execution_count": 6,
   "metadata": {},
   "outputs": [
    {
     "name": "stdout",
     "output_type": "stream",
     "text": [
      "**Model:** gpt-4.1\n"
     ]
    }
   ],
   "source": [
    "# Show model that was called\n",
    "print('**Model:** ' + lm.model)"
   ]
  },
  {
   "cell_type": "code",
   "execution_count": 7,
   "metadata": {},
   "outputs": [],
   "source": [
    "# Call LLM\n",
    "client = dspy.ChainOfThought(\"question -> answer: float\")\n",
    "response = client(question=\"Two dice are tossed. What is the probability that the sum equals two?\")"
   ]
  },
  {
   "cell_type": "code",
   "execution_count": 8,
   "metadata": {},
   "outputs": [
    {
     "name": "stdout",
     "output_type": "stream",
     "text": [
      "**Reasoning:**  When two dice are tossed, each die has 6 faces, so there are 6 × 6 = 36 possible outcomes. The sum equals two only if both dice show a 1, i.e., (1,1). This is only 1 outcome out of 36 possible outcomes.\n",
      "Probability = Number of favorable outcomes / Total number of outcomes = 1 / 36 = 0.027777777777777776\n",
      "**Answer:**  0.027777777777777776\n"
     ]
    }
   ],
   "source": [
    "print(\"**Reasoning:** \", response.reasoning)\n",
    "print(\"**Answer:** \", response.answer)"
   ]
  }
 ],
 "metadata": {
  "kernelspec": {
   "display_name": "Python 3",
   "language": "python",
   "name": "python3"
  },
  "language_info": {
   "codemirror_mode": {
    "name": "ipython",
    "version": 3
   },
   "file_extension": ".py",
   "mimetype": "text/x-python",
   "name": "python",
   "nbconvert_exporter": "python",
   "pygments_lexer": "ipython3",
   "version": "3.12.1"
  }
 },
 "nbformat": 4,
 "nbformat_minor": 2
}
