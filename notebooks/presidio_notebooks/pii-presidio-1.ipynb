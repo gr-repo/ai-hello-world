{
 "cells": [
  {
   "cell_type": "markdown",
   "metadata": {},
   "source": [
    "# Presido\n",
    "https://github.com/microsoft/presidio\n",
    "\n",
    "This package is used to detect senstitive information like Personally Identifiable Information. \n",
    "\n",
    "1. It runs \"offline\" in that it does not call out the workload machine to do anything (i.e., it does not send data off the current compute machine)\n",
    "1. Built by Microsoft\n",
    "1. Has a built in NLP model that it compares text to"
   ]
  },
  {
   "cell_type": "code",
   "execution_count": 8,
   "metadata": {},
   "outputs": [],
   "source": [
    "#!pip install presidio-analyzer\n",
    "#!pip install presidio-anonymizer"
   ]
  },
  {
   "cell_type": "code",
   "execution_count": 9,
   "metadata": {},
   "outputs": [],
   "source": [
    "from presidio_analyzer import AnalyzerEngine  \n",
    "from presidio_analyzer import RecognizerRegistry, RecognizerResult"
   ]
  },
  {
   "cell_type": "code",
   "execution_count": 10,
   "metadata": {},
   "outputs": [],
   "source": [
    "analyzer = AnalyzerEngine()"
   ]
  },
  {
   "cell_type": "markdown",
   "metadata": {},
   "source": [
    "# Look for Sensitive Data"
   ]
  },
  {
   "cell_type": "code",
   "execution_count": 11,
   "metadata": {},
   "outputs": [
    {
     "name": "stdout",
     "output_type": "stream",
     "text": [
      "PII was found\n",
      "type: DATE_TIME, start: 21, end: 33, score: 0.85\n"
     ]
    }
   ],
   "source": [
    "#text = \"My name is John Doe and my email is john.doe@example.com\"\n",
    "#text = \"Bob Smith is a type of tree found in Canada\"\n",
    "text = \"How did Microsoft do last quarter?\"\n",
    "results = analyzer.analyze(text=text, language=\"en\")\n",
    "\n",
    "if len(results) > 0:\n",
    "    print('PII was found')\n",
    "\n",
    "for result in results:\n",
    "    print(result)\n",
    "    #print(f\"Detected {result.entity_type} at position {result.start}-{result.end}\")"
   ]
  },
  {
   "cell_type": "markdown",
   "metadata": {},
   "source": [
    "# Classify type of Data Found"
   ]
  },
  {
   "cell_type": "code",
   "execution_count": null,
   "metadata": {},
   "outputs": [
    {
     "name": "stdout",
     "output_type": "stream",
     "text": [
      "Type of entity: PERSON\n",
      "PERSON\n"
     ]
    }
   ],
   "source": [
    "\n",
    "# Text to analyze\n",
    "text = \"John Doe was born on January 1, 1990, and lives in New York.\"\n",
    "\n",
    "# Specify entities to analyze (e.g., ignore DATE_TIME and LOCATION)\n",
    "entities_to_analyze = [\"PERSON\", \"PHONE_NUMBER\", \"EMAIL_ADDRESS\", \"DATE\"]\n",
    "\n",
    "# Analyze text while ignoring specified entities\n",
    "results = analyzer.analyze(text=text, language=\"en\", entities=entities_to_analyze)\n",
    "\n",
    "# Print results\n",
    "for result in results:\n",
    "    print(\"Type of entity:\", result.entity_type)\n",
    "    #print(f\"Entity: {result.entity_type}, Text: {result.text}, Confidence: {result.score}\")"
   ]
  }
 ],
 "metadata": {
  "kernelspec": {
   "display_name": "Python 3",
   "language": "python",
   "name": "python3"
  },
  "language_info": {
   "codemirror_mode": {
    "name": "ipython",
    "version": 3
   },
   "file_extension": ".py",
   "mimetype": "text/x-python",
   "name": "python",
   "nbconvert_exporter": "python",
   "pygments_lexer": "ipython3",
   "version": "3.12.1"
  }
 },
 "nbformat": 4,
 "nbformat_minor": 2
}
